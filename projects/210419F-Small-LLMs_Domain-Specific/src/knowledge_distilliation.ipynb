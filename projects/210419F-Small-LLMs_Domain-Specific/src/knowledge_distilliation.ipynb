{
 "cells": [
  {
   "cell_type": "markdown",
   "metadata": {},
   "source": [
    "# Knowledge Distillation\n",
    "\n",
    "This notebook performs knowledge distillation from a large teacher model (**Bio_ClinicalBERT**) to a smaller, domain-adapted student model.\n"
   ]
  },
  {
   "cell_type": "markdown",
   "metadata": {},
   "source": [
    "## 1. Imports"
   ]
  },
  {
   "cell_type": "code",
   "execution_count": null,
   "metadata": {},
   "outputs": [],
   "source": [
    "import torch\n",
    "import torch.nn as nn\n",
    "import torch.nn.functional as F\n",
    "from datasets import load_dataset\n",
    "from transformers import (\n",
    "    AutoTokenizer,\n",
    "    AutoModelForMaskedLM,\n",
    "    DataCollatorForLanguageModeling,\n",
    "    Trainer,\n",
    "    TrainingArguments,\n",
    ")"
   ]
  },
  {
   "cell_type": "markdown",
   "metadata": {},
   "source": [
    "## 2. Configuration\n",
    "\n",
    "**Crucial Step:** Ensure `STUDENT_MODEL_PATH` points to the directory created by the `fix_model_state.ipynb` script."
   ]
  },
  {
   "cell_type": "code",
   "execution_count": null,
   "metadata": {},
   "outputs": [],
   "source": [
    "class Config:\n",
    "    # Paths\n",
    "    STUDENT_MODEL_PATH = \"./medtok/model\"\n",
    "    STUDENT_TOKENIZER_PATH = \"./medtok/tokenizer\"\n",
    "\n",
    "    TEACHER_MODEL_NAME = \"emilyalsentzer/Bio_ClinicalBERT\"\n",
    "    TRAIN_FILE = \"./data/normalize/pubmed.jsonl\"\n",
    "    OUTPUT_DIR = \"./artifacts/distilled_model\"\n",
    "\n",
    "    #Training Parameters\n",
    "    MAX_SEQ_LENGTH = 256\n",
    "    NUM_TRAIN_EPOCHS = 20\n",
    "    PER_DEVICE_TRAIN_BATCH_SIZE = 16\n",
    "    LEARNING_RATE = 3e-5\n",
    "\n",
    "    #Distillation Parameters\n",
    "    ALPHA = 0.5\n",
    "\n",
    "config = Config()"
   ]
  },
  {
   "cell_type": "markdown",
   "metadata": {},
   "source": [
    "## 3. Custom Distillation Trainer"
   ]
  },
  {
   "cell_type": "code",
   "execution_count": null,
   "metadata": {},
   "outputs": [],
   "source": [
    "class DistillTrainer(Trainer):\n",
    "    def __init__(self, teacher_model=None, teacher_tokenizer=None, alpha=0.5, *args, **kwargs):\n",
    "        super().__init__(*args, **kwargs)\n",
    "        self.teacher = teacher_model\n",
    "        self.teacher_tokenizer = teacher_tokenizer\n",
    "        self.alpha = alpha\n",
    "        \n",
    "        if self.teacher is not None:\n",
    "            self.teacher.eval()\n",
    "            self.teacher.to(self.args.device)\n",
    "\n",
    "    def compute_loss(self, model, inputs, return_outputs=False, **kwargs):\n",
    "        # 1. Get Student Outputs\n",
    "        outputs_s = model(**inputs, output_hidden_states=True)\n",
    "        mlm_loss = outputs_s.loss\n",
    "        hidden_s = outputs_s.hidden_states[-1]\n",
    "\n",
    "        # 2. Prepare Inputs for the Teacher (Handles vocab mismatch)\n",
    "        teacher_inputs = inputs.copy()\n",
    "        teacher_vocab_size = self.teacher.config.vocab_size\n",
    "        unk_token_id = self.teacher_tokenizer.unk_token_id\n",
    "        input_ids_for_teacher = teacher_inputs[\"input_ids\"].clone()\n",
    "        out_of_bounds_mask = input_ids_for_teacher >= teacher_vocab_size\n",
    "        input_ids_for_teacher[out_of_bounds_mask] = unk_token_id\n",
    "        teacher_inputs[\"input_ids\"] = input_ids_for_teacher\n",
    "\n",
    "        # 3. Get Teacher Outputs\n",
    "        with torch.no_grad():\n",
    "            outputs_t = self.teacher(**teacher_inputs, output_hidden_states=True)\n",
    "            hidden_t = outputs_t.hidden_states[-1]\n",
    "\n",
    "        # 4. Compute Distillation Loss (MSE on Hidden States)\n",
    "        attention_mask = inputs.get(\"attention_mask\")\n",
    "        if attention_mask is not None:\n",
    "            expanded_mask = attention_mask.unsqueeze(-1).expand_as(hidden_s)\n",
    "            bool_mask = expanded_mask.to(torch.bool)\n",
    "            hidden_s_masked = torch.masked_select(hidden_s, bool_mask)\n",
    "            hidden_t_masked = torch.masked_select(hidden_t, bool_mask)\n",
    "            loss_kd = F.mse_loss(hidden_s_masked, hidden_t_masked)\n",
    "        else:\n",
    "            loss_kd = F.mse_loss(hidden_s, hidden_t)\n",
    "\n",
    "        # 5. Combine the two losses\n",
    "        loss = self.alpha * mlm_loss + (1 - self.alpha) * loss_kd\n",
    "\n",
    "        return (loss, outputs_s) if return_outputs else loss"
   ]
  },
  {
   "cell_type": "markdown",
   "metadata": {},
   "source": [
    "## 4. Load Models and Tokenizers"
   ]
  },
  {
   "cell_type": "code",
   "execution_count": null,
   "metadata": {},
   "outputs": [],
   "source": [
    "device = \"cuda\" if torch.cuda.is_available() else \"cpu\"\n",
    "\n",
    "# 1. Load Student Model and Tokenizer\n",
    "print(f\"Loading student model and tokenizer from: {config.STUDENT_MODEL_PATH}\")\n",
    "student_tok = AutoTokenizer.from_pretrained(config.STUDENT_TOKENIZER_PATH)\n",
    "student = AutoModelForMaskedLM.from_pretrained(config.STUDENT_MODEL_PATH)\n",
    "student.to(device)\n",
    "\n",
    "# 2. Load Teacher Model AND Tokenizer\n",
    "print(f\"Loading teacher model and tokenizer: {config.TEACHER_MODEL_NAME}\")\n",
    "teacher = AutoModelForMaskedLM.from_pretrained(config.TEACHER_MODEL_NAME)\n",
    "teacher_tokenizer = AutoTokenizer.from_pretrained(config.TEACHER_MODEL_NAME)\n",
    "teacher.to(device)"
   ]
  },
  {
   "cell_type": "markdown",
   "metadata": {},
   "source": [
    "## 5. Diagnostic Check\n",
    "\n",
    "This cell verifies that the student model is structurally sound before starting the training. If this cell runs without error, the training will work."
   ]
  },
  {
   "cell_type": "code",
   "execution_count": null,
   "metadata": {},
   "outputs": [],
   "source": [
    "print(\"--- Verifying Model and Tokenizer Consistency ---\")\n",
    "\n",
    "tokenizer_vocab_size = len(student_tok)\n",
    "model_config_vocab_size = student.config.vocab_size\n",
    "model_output_layer_size = student.vocab_projector.out_features\n",
    "\n",
    "print(f\"Tokenizer Vocabulary Size: {tokenizer_vocab_size}\")\n",
    "print(f\"Model Config Vocab Size: {model_config_vocab_size}\")\n",
    "print(f\"Model Output Layer Size (n_classes): {model_output_layer_size}\")\n",
    "\n",
    "assert tokenizer_vocab_size == model_config_vocab_size, \"FATAL ERROR: Mismatch between tokenizer and model config!\"\n",
    "assert tokenizer_vocab_size == model_output_layer_size, \"FATAL ERROR: Mismatch between tokenizer and model's output layer!\"\n",
    "\n",
    "print(\"\\n All sizes match. The student model is correctly configured and ready for training.\")"
   ]
  },
  {
   "cell_type": "markdown",
   "metadata": {},
   "source": [
    "## 6. Load and Process Dataset"
   ]
  },
  {
   "cell_type": "code",
   "execution_count": null,
   "metadata": {},
   "outputs": [],
   "source": [
    "print(f\"Loading and tokenizing dataset from: {config.TRAIN_FILE}\")\n",
    "dataset = load_dataset(\"json\", data_files={\"train\": config.TRAIN_FILE}, split=\"train\")\n",
    "text_column_name = \"text\"\n",
    "\n",
    "def tokenize_fn(examples):\n",
    "    return student_tok(\n",
    "        examples[text_column_name],\n",
    "        truncation=True,\n",
    "        padding=\"max_length\",\n",
    "        max_length=config.MAX_SEQ_LENGTH,\n",
    "    )\n",
    "\n",
    "tokenized_dataset = dataset.map(tokenize_fn, batched=True, remove_columns=[text_column_name])\n",
    "data_collator = DataCollatorForLanguageModeling(tokenizer=student_tok, mlm=True, mlm_probability=0.15)\n",
    "\n",
    "print(\"Dataset is ready for training.\")"
   ]
  },
  {
   "cell_type": "markdown",
   "metadata": {},
   "source": [
    "## 7. Initialize Trainer and Start Training"
   ]
  },
  {
   "cell_type": "code",
   "execution_count": null,
   "metadata": {},
   "outputs": [],
   "source": [
    "training_args = TrainingArguments(\n",
    "    output_dir=config.OUTPUT_DIR,\n",
    "    overwrite_output_dir=True,\n",
    "    num_train_epochs=config.NUM_TRAIN_EPOCHS,\n",
    "    per_device_train_batch_size=config.PER_DEVICE_TRAIN_BATCH_SIZE,\n",
    "    learning_rate=config.LEARNING_RATE,\n",
    "    save_steps=10_000,\n",
    "    save_total_limit=2,\n",
    "    logging_steps=500,\n",
    "    fp16=torch.cuda.is_available(),\n",
    "    report_to=\"none\",\n",
    ")\n",
    "\n",
    "trainer = DistillTrainer(\n",
    "    model=student,\n",
    "    teacher_model=teacher,\n",
    "    teacher_tokenizer=teacher_tokenizer,\n",
    "    alpha=config.ALPHA,\n",
    "    args=training_args,\n",
    "    train_dataset=tokenized_dataset,\n",
    "    data_collator=data_collator,\n",
    ")\n",
    "\n",
    "print(\"Starting corrected knowledge distillation training... ✨\")\n",
    "trainer.train()\n",
    "print(\"Training complete!\")"
   ]
  },
  {
   "cell_type": "code",
   "execution_count": null,
   "metadata": {},
   "outputs": [],
   "source": []
  },
  {
   "cell_type": "markdown",
   "metadata": {},
   "source": [
    "## 8. Save the Final Distilled Model"
   ]
  },
  {
   "cell_type": "code",
   "execution_count": null,
   "metadata": {},
   "outputs": [],
   "source": [
    "print(f\"Saving model to {config.OUTPUT_DIR}\")\n",
    "trainer.save_model(config.OUTPUT_DIR)\n",
    "student_tok.save_pretrained(config.OUTPUT_DIR)\n",
    "print(\"Script finished successfully.\")"
   ]
  }
 ],
 "metadata": {
  "kernelspec": {
   "display_name": "bert",
   "language": "python",
   "name": "python3"
  },
  "language_info": {
   "codemirror_mode": {
    "name": "ipython",
    "version": 3
   },
   "file_extension": ".py",
   "mimetype": "text/x-python",
   "name": "python",
   "nbconvert_exporter": "python",
   "pygments_lexer": "ipython3",
   "version": "3.10.18"
  }
 },
 "nbformat": 4,
 "nbformat_minor": 4
}
