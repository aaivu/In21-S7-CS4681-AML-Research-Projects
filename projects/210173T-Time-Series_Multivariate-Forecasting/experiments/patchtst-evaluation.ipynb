{
 "cells": [
  {
   "cell_type": "code",
   "execution_count": 1,
   "id": "7aaa2519",
   "metadata": {
    "_cell_guid": "b1076dfc-b9ad-4769-8c92-a6c4dae69d19",
    "_uuid": "8f2839f25d086af736a60e9eeb907d3b93b6e0e5",
    "execution": {
     "iopub.execute_input": "2025-09-04T13:52:55.664775Z",
     "iopub.status.busy": "2025-09-04T13:52:55.664434Z",
     "iopub.status.idle": "2025-09-04T13:52:57.643442Z",
     "shell.execute_reply": "2025-09-04T13:52:57.642628Z"
    },
    "papermill": {
     "duration": 1.984215,
     "end_time": "2025-09-04T13:52:57.645079",
     "exception": false,
     "start_time": "2025-09-04T13:52:55.660864",
     "status": "completed"
    },
    "tags": []
   },
   "outputs": [
    {
     "name": "stdout",
     "output_type": "stream",
     "text": [
      "/kaggle/input/weather/weather.csv\n"
     ]
    }
   ],
   "source": [
    "# This Python 3 environment comes with many helpful analytics libraries installed\n",
    "# It is defined by the kaggle/python Docker image: https://github.com/kaggle/docker-python\n",
    "# For example, here's several helpful packages to load\n",
    "\n",
    "import numpy as np # linear algebra\n",
    "import pandas as pd # data processing, CSV file I/O (e.g. pd.read_csv)\n",
    "\n",
    "# Input data files are available in the read-only \"../input/\" directory\n",
    "# For example, running this (by clicking run or pressing Shift+Enter) will list all files under the input directory\n",
    "\n",
    "import os\n",
    "for dirname, _, filenames in os.walk('/kaggle/input'):\n",
    "    for filename in filenames:\n",
    "        print(os.path.join(dirname, filename))\n",
    "\n",
    "# You can write up to 20GB to the current directory (/kaggle/working/) that gets preserved as output when you create a version using \"Save & Run All\" \n",
    "# You can also write temporary files to /kaggle/temp/, but they won't be saved outside of the current session"
   ]
  },
  {
   "cell_type": "code",
   "execution_count": 2,
   "id": "ba0fc868",
   "metadata": {
    "execution": {
     "iopub.execute_input": "2025-09-04T13:52:57.650967Z",
     "iopub.status.busy": "2025-09-04T13:52:57.650555Z",
     "iopub.status.idle": "2025-09-04T13:52:59.194571Z",
     "shell.execute_reply": "2025-09-04T13:52:59.193859Z"
    },
    "papermill": {
     "duration": 1.54815,
     "end_time": "2025-09-04T13:52:59.195919",
     "exception": false,
     "start_time": "2025-09-04T13:52:57.647769",
     "status": "completed"
    },
    "tags": []
   },
   "outputs": [
    {
     "name": "stdout",
     "output_type": "stream",
     "text": [
      "Cloning into 'PatchTST'...\r\n",
      "remote: Enumerating objects: 368, done.\u001b[K\r\n",
      "remote: Counting objects: 100% (145/145), done.\u001b[K\r\n",
      "remote: Compressing objects: 100% (60/60), done.\u001b[K\r\n",
      "remote: Total 368 (delta 92), reused 91 (delta 84), pack-reused 223 (from 1)\u001b[K\r\n",
      "Receiving objects: 100% (368/368), 16.18 MiB | 35.11 MiB/s, done.\r\n",
      "Resolving deltas: 100% (164/164), done.\r\n"
     ]
    }
   ],
   "source": [
    "!git clone https://github.com/deshithagallage/PatchTST.git"
   ]
  },
  {
   "cell_type": "code",
   "execution_count": 3,
   "id": "45a4de6c",
   "metadata": {
    "execution": {
     "iopub.execute_input": "2025-09-04T13:52:59.202457Z",
     "iopub.status.busy": "2025-09-04T13:52:59.202220Z",
     "iopub.status.idle": "2025-09-04T13:52:59.321594Z",
     "shell.execute_reply": "2025-09-04T13:52:59.320945Z"
    },
    "papermill": {
     "duration": 0.123674,
     "end_time": "2025-09-04T13:52:59.322592",
     "exception": false,
     "start_time": "2025-09-04T13:52:59.198918",
     "status": "completed"
    },
    "tags": []
   },
   "outputs": [
    {
     "name": "stdout",
     "output_type": "stream",
     "text": [
      "fatal: not a git repository (or any parent up to mount point /kaggle)\r\n",
      "Stopping at filesystem boundary (GIT_DISCOVERY_ACROSS_FILESYSTEM not set).\r\n"
     ]
    }
   ],
   "source": [
    "!git checkout develop"
   ]
  },
  {
   "cell_type": "code",
   "execution_count": 4,
   "id": "71a5e17a",
   "metadata": {
    "execution": {
     "iopub.execute_input": "2025-09-04T13:52:59.328782Z",
     "iopub.status.busy": "2025-09-04T13:52:59.328529Z",
     "iopub.status.idle": "2025-09-04T13:52:59.334888Z",
     "shell.execute_reply": "2025-09-04T13:52:59.334227Z"
    },
    "papermill": {
     "duration": 0.010588,
     "end_time": "2025-09-04T13:52:59.335965",
     "exception": false,
     "start_time": "2025-09-04T13:52:59.325377",
     "status": "completed"
    },
    "tags": []
   },
   "outputs": [
    {
     "name": "stdout",
     "output_type": "stream",
     "text": [
      "/kaggle/working/PatchTST/PatchTST_supervised\n"
     ]
    }
   ],
   "source": [
    "cd PatchTST/PatchTST_supervised"
   ]
  },
  {
   "cell_type": "code",
   "execution_count": 5,
   "id": "7e7fb5bd",
   "metadata": {
    "execution": {
     "iopub.execute_input": "2025-09-04T13:52:59.341941Z",
     "iopub.status.busy": "2025-09-04T13:52:59.341395Z",
     "iopub.status.idle": "2025-09-04T13:52:59.460806Z",
     "shell.execute_reply": "2025-09-04T13:52:59.459993Z"
    },
    "papermill": {
     "duration": 0.123752,
     "end_time": "2025-09-04T13:52:59.462193",
     "exception": false,
     "start_time": "2025-09-04T13:52:59.338441",
     "status": "completed"
    },
    "tags": []
   },
   "outputs": [],
   "source": [
    "mkdir dataset"
   ]
  },
  {
   "cell_type": "code",
   "execution_count": 6,
   "id": "736b9f0f",
   "metadata": {
    "execution": {
     "iopub.execute_input": "2025-09-04T13:52:59.468593Z",
     "iopub.status.busy": "2025-09-04T13:52:59.468031Z",
     "iopub.status.idle": "2025-09-04T13:52:59.472847Z",
     "shell.execute_reply": "2025-09-04T13:52:59.472186Z"
    },
    "papermill": {
     "duration": 0.009194,
     "end_time": "2025-09-04T13:52:59.474016",
     "exception": false,
     "start_time": "2025-09-04T13:52:59.464822",
     "status": "completed"
    },
    "tags": []
   },
   "outputs": [
    {
     "name": "stdout",
     "output_type": "stream",
     "text": [
      "/kaggle/working/PatchTST/PatchTST_supervised/dataset\n"
     ]
    }
   ],
   "source": [
    "cd dataset"
   ]
  },
  {
   "cell_type": "code",
   "execution_count": 7,
   "id": "1f434405",
   "metadata": {
    "execution": {
     "iopub.execute_input": "2025-09-04T13:52:59.479963Z",
     "iopub.status.busy": "2025-09-04T13:52:59.479460Z",
     "iopub.status.idle": "2025-09-04T13:52:59.676726Z",
     "shell.execute_reply": "2025-09-04T13:52:59.675951Z"
    },
    "papermill": {
     "duration": 0.201787,
     "end_time": "2025-09-04T13:52:59.678244",
     "exception": false,
     "start_time": "2025-09-04T13:52:59.476457",
     "status": "completed"
    },
    "tags": []
   },
   "outputs": [],
   "source": [
    "cp /kaggle/input/weather/weather.csv ."
   ]
  },
  {
   "cell_type": "code",
   "execution_count": 8,
   "id": "0dc0de4d",
   "metadata": {
    "execution": {
     "iopub.execute_input": "2025-09-04T13:52:59.684681Z",
     "iopub.status.busy": "2025-09-04T13:52:59.684245Z",
     "iopub.status.idle": "2025-09-04T13:52:59.689213Z",
     "shell.execute_reply": "2025-09-04T13:52:59.688624Z"
    },
    "papermill": {
     "duration": 0.009253,
     "end_time": "2025-09-04T13:52:59.690252",
     "exception": false,
     "start_time": "2025-09-04T13:52:59.680999",
     "status": "completed"
    },
    "tags": []
   },
   "outputs": [
    {
     "name": "stdout",
     "output_type": "stream",
     "text": [
      "/kaggle/working/PatchTST/PatchTST_supervised\n"
     ]
    }
   ],
   "source": [
    "cd .."
   ]
  },
  {
   "cell_type": "code",
   "execution_count": 9,
   "id": "3d59c148",
   "metadata": {
    "execution": {
     "iopub.execute_input": "2025-09-04T13:52:59.696121Z",
     "iopub.status.busy": "2025-09-04T13:52:59.695935Z",
     "iopub.status.idle": "2025-09-04T18:17:30.479917Z",
     "shell.execute_reply": "2025-09-04T18:17:30.478990Z"
    },
    "papermill": {
     "duration": 15870.789102,
     "end_time": "2025-09-04T18:17:30.481970",
     "exception": false,
     "start_time": "2025-09-04T13:52:59.692868",
     "status": "completed"
    },
    "tags": []
   },
   "outputs": [],
   "source": [
    "!sh ./scripts/PatchTST/weather.sh"
   ]
  },
  {
   "cell_type": "code",
   "execution_count": null,
   "id": "4da126ad",
   "metadata": {
    "papermill": {
     "duration": 0.002728,
     "end_time": "2025-09-04T18:17:30.488916",
     "exception": false,
     "start_time": "2025-09-04T18:17:30.486188",
     "status": "completed"
    },
    "tags": []
   },
   "outputs": [],
   "source": []
  },
  {
   "cell_type": "code",
   "execution_count": null,
   "id": "8c24a2f2",
   "metadata": {
    "papermill": {
     "duration": 0.002497,
     "end_time": "2025-09-04T18:17:30.494050",
     "exception": false,
     "start_time": "2025-09-04T18:17:30.491553",
     "status": "completed"
    },
    "tags": []
   },
   "outputs": [],
   "source": []
  }
 ],
 "metadata": {
  "kaggle": {
   "accelerator": "nvidiaTeslaT4",
   "dataSources": [
    {
     "datasetId": 8202323,
     "sourceId": 12960319,
     "sourceType": "datasetVersion"
    }
   ],
   "dockerImageVersionId": 31090,
   "isGpuEnabled": true,
   "isInternetEnabled": true,
   "language": "python",
   "sourceType": "notebook"
  },
  "kernelspec": {
   "display_name": "Python 3",
   "language": "python",
   "name": "python3"
  },
  "language_info": {
   "codemirror_mode": {
    "name": "ipython",
    "version": 3
   },
   "file_extension": ".py",
   "mimetype": "text/x-python",
   "name": "python",
   "nbconvert_exporter": "python",
   "pygments_lexer": "ipython3",
   "version": "3.11.13"
  },
  "papermill": {
   "default_parameters": {},
   "duration": 15880.952341,
   "end_time": "2025-09-04T18:17:30.988086",
   "environment_variables": {},
   "exception": null,
   "input_path": "__notebook__.ipynb",
   "output_path": "__notebook__.ipynb",
   "parameters": {},
   "start_time": "2025-09-04T13:52:50.035745",
   "version": "2.6.0"
  }
 },
 "nbformat": 4,
 "nbformat_minor": 5
}
