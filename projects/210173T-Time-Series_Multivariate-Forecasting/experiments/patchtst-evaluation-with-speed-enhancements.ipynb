{
 "cells": [
  {
   "cell_type": "code",
   "execution_count": 1,
   "id": "06b01383",
   "metadata": {
    "_cell_guid": "b1076dfc-b9ad-4769-8c92-a6c4dae69d19",
    "_uuid": "8f2839f25d086af736a60e9eeb907d3b93b6e0e5",
    "execution": {
     "iopub.execute_input": "2025-10-04T14:50:12.945947Z",
     "iopub.status.busy": "2025-10-04T14:50:12.945692Z",
     "iopub.status.idle": "2025-10-04T14:50:14.947487Z",
     "shell.execute_reply": "2025-10-04T14:50:14.946574Z"
    },
    "papermill": {
     "duration": 2.007497,
     "end_time": "2025-10-04T14:50:14.948911",
     "exception": false,
     "start_time": "2025-10-04T14:50:12.941414",
     "status": "completed"
    },
    "tags": []
   },
   "outputs": [
    {
     "name": "stdout",
     "output_type": "stream",
     "text": [
      "/kaggle/input/weather/weather.csv\n"
     ]
    }
   ],
   "source": [
    "# This Python 3 environment comes with many helpful analytics libraries installed\n",
    "# It is defined by the kaggle/python Docker image: https://github.com/kaggle/docker-python\n",
    "# For example, here's several helpful packages to load\n",
    "\n",
    "import numpy as np # linear algebra\n",
    "import pandas as pd # data processing, CSV file I/O (e.g. pd.read_csv)\n",
    "\n",
    "# Input data files are available in the read-only \"../input/\" directory\n",
    "# For example, running this (by clicking run or pressing Shift+Enter) will list all files under the input directory\n",
    "\n",
    "import os\n",
    "for dirname, _, filenames in os.walk('/kaggle/input'):\n",
    "    for filename in filenames:\n",
    "        print(os.path.join(dirname, filename))\n",
    "\n",
    "# You can write up to 20GB to the current directory (/kaggle/working/) that gets preserved as output when you create a version using \"Save & Run All\" \n",
    "# You can also write temporary files to /kaggle/temp/, but they won't be saved outside of the current session"
   ]
  },
  {
   "cell_type": "code",
   "execution_count": 2,
   "id": "94dc0af5",
   "metadata": {
    "execution": {
     "iopub.execute_input": "2025-10-04T14:50:14.956558Z",
     "iopub.status.busy": "2025-10-04T14:50:14.956232Z",
     "iopub.status.idle": "2025-10-04T14:50:16.566529Z",
     "shell.execute_reply": "2025-10-04T14:50:16.565787Z"
    },
    "papermill": {
     "duration": 1.616153,
     "end_time": "2025-10-04T14:50:16.568035",
     "exception": false,
     "start_time": "2025-10-04T14:50:14.951882",
     "status": "completed"
    },
    "tags": []
   },
   "outputs": [
    {
     "name": "stdout",
     "output_type": "stream",
     "text": [
      "Cloning into 'PatchTST'...\r\n",
      "remote: Enumerating objects: 418, done.\u001b[K\r\n",
      "remote: Counting objects: 100% (150/150), done.\u001b[K\r\n",
      "remote: Compressing objects: 100% (62/62), done.\u001b[K\r\n",
      "remote: Total 418 (delta 100), reused 91 (delta 88), pack-reused 268 (from 3)\u001b[K\r\n",
      "Receiving objects: 100% (418/418), 16.20 MiB | 35.30 MiB/s, done.\r\n",
      "Resolving deltas: 100% (198/198), done.\r\n"
     ]
    }
   ],
   "source": [
    "!git clone https://github.com/deshithagallage/PatchTST.git"
   ]
  },
  {
   "cell_type": "code",
   "execution_count": 3,
   "id": "f6167f66",
   "metadata": {
    "execution": {
     "iopub.execute_input": "2025-10-04T14:50:16.575808Z",
     "iopub.status.busy": "2025-10-04T14:50:16.575524Z",
     "iopub.status.idle": "2025-10-04T14:50:16.582348Z",
     "shell.execute_reply": "2025-10-04T14:50:16.581698Z"
    },
    "papermill": {
     "duration": 0.011768,
     "end_time": "2025-10-04T14:50:16.583444",
     "exception": false,
     "start_time": "2025-10-04T14:50:16.571676",
     "status": "completed"
    },
    "tags": []
   },
   "outputs": [
    {
     "name": "stdout",
     "output_type": "stream",
     "text": [
      "/kaggle/working/PatchTST\n"
     ]
    }
   ],
   "source": [
    "cd PatchTST"
   ]
  },
  {
   "cell_type": "code",
   "execution_count": 4,
   "id": "4ff95474",
   "metadata": {
    "execution": {
     "iopub.execute_input": "2025-10-04T14:50:16.590647Z",
     "iopub.status.busy": "2025-10-04T14:50:16.590403Z",
     "iopub.status.idle": "2025-10-04T14:50:16.772431Z",
     "shell.execute_reply": "2025-10-04T14:50:16.771670Z"
    },
    "papermill": {
     "duration": 0.187381,
     "end_time": "2025-10-04T14:50:16.774024",
     "exception": false,
     "start_time": "2025-10-04T14:50:16.586643",
     "status": "completed"
    },
    "tags": []
   },
   "outputs": [
    {
     "name": "stdout",
     "output_type": "stream",
     "text": [
      "Branch 'dev-multi-scale' set up to track remote branch 'dev-multi-scale' from 'origin'.\r\n",
      "Switched to a new branch 'dev-multi-scale'\r\n"
     ]
    }
   ],
   "source": [
    "!git checkout dev-multi-scale"
   ]
  },
  {
   "cell_type": "code",
   "execution_count": 5,
   "id": "df98e7b2",
   "metadata": {
    "execution": {
     "iopub.execute_input": "2025-10-04T14:50:16.781859Z",
     "iopub.status.busy": "2025-10-04T14:50:16.781637Z",
     "iopub.status.idle": "2025-10-04T14:50:16.786880Z",
     "shell.execute_reply": "2025-10-04T14:50:16.786120Z"
    },
    "papermill": {
     "duration": 0.010352,
     "end_time": "2025-10-04T14:50:16.788015",
     "exception": false,
     "start_time": "2025-10-04T14:50:16.777663",
     "status": "completed"
    },
    "tags": []
   },
   "outputs": [
    {
     "name": "stdout",
     "output_type": "stream",
     "text": [
      "/kaggle/working/PatchTST/PatchTST_supervised\n"
     ]
    }
   ],
   "source": [
    "cd PatchTST_supervised"
   ]
  },
  {
   "cell_type": "code",
   "execution_count": 6,
   "id": "2f58c86d",
   "metadata": {
    "execution": {
     "iopub.execute_input": "2025-10-04T14:50:16.795284Z",
     "iopub.status.busy": "2025-10-04T14:50:16.795095Z",
     "iopub.status.idle": "2025-10-04T14:50:16.916061Z",
     "shell.execute_reply": "2025-10-04T14:50:16.915008Z"
    },
    "papermill": {
     "duration": 0.126144,
     "end_time": "2025-10-04T14:50:16.917448",
     "exception": false,
     "start_time": "2025-10-04T14:50:16.791304",
     "status": "completed"
    },
    "tags": []
   },
   "outputs": [],
   "source": [
    "mkdir dataset"
   ]
  },
  {
   "cell_type": "code",
   "execution_count": 7,
   "id": "abc978fe",
   "metadata": {
    "execution": {
     "iopub.execute_input": "2025-10-04T14:50:16.925575Z",
     "iopub.status.busy": "2025-10-04T14:50:16.924816Z",
     "iopub.status.idle": "2025-10-04T14:50:16.929891Z",
     "shell.execute_reply": "2025-10-04T14:50:16.929191Z"
    },
    "papermill": {
     "duration": 0.009987,
     "end_time": "2025-10-04T14:50:16.930936",
     "exception": false,
     "start_time": "2025-10-04T14:50:16.920949",
     "status": "completed"
    },
    "tags": []
   },
   "outputs": [
    {
     "name": "stdout",
     "output_type": "stream",
     "text": [
      "/kaggle/working/PatchTST/PatchTST_supervised/dataset\n"
     ]
    }
   ],
   "source": [
    "cd dataset"
   ]
  },
  {
   "cell_type": "code",
   "execution_count": 8,
   "id": "ae17c348",
   "metadata": {
    "execution": {
     "iopub.execute_input": "2025-10-04T14:50:16.938443Z",
     "iopub.status.busy": "2025-10-04T14:50:16.937851Z",
     "iopub.status.idle": "2025-10-04T14:50:17.123738Z",
     "shell.execute_reply": "2025-10-04T14:50:17.122654Z"
    },
    "papermill": {
     "duration": 0.191127,
     "end_time": "2025-10-04T14:50:17.125309",
     "exception": false,
     "start_time": "2025-10-04T14:50:16.934182",
     "status": "completed"
    },
    "tags": []
   },
   "outputs": [],
   "source": [
    "cp /kaggle/input/weather/weather.csv ."
   ]
  },
  {
   "cell_type": "code",
   "execution_count": 9,
   "id": "4017082d",
   "metadata": {
    "execution": {
     "iopub.execute_input": "2025-10-04T14:50:17.133777Z",
     "iopub.status.busy": "2025-10-04T14:50:17.133007Z",
     "iopub.status.idle": "2025-10-04T14:50:17.138162Z",
     "shell.execute_reply": "2025-10-04T14:50:17.137567Z"
    },
    "papermill": {
     "duration": 0.010194,
     "end_time": "2025-10-04T14:50:17.139204",
     "exception": false,
     "start_time": "2025-10-04T14:50:17.129010",
     "status": "completed"
    },
    "tags": []
   },
   "outputs": [
    {
     "name": "stdout",
     "output_type": "stream",
     "text": [
      "/kaggle/working/PatchTST/PatchTST_supervised\n"
     ]
    }
   ],
   "source": [
    "cd .."
   ]
  },
  {
   "cell_type": "code",
   "execution_count": 10,
   "id": "8abf2f5c",
   "metadata": {
    "execution": {
     "iopub.execute_input": "2025-10-04T14:50:17.146693Z",
     "iopub.status.busy": "2025-10-04T14:50:17.146407Z",
     "iopub.status.idle": "2025-10-04T15:01:13.810736Z",
     "shell.execute_reply": "2025-10-04T15:01:13.809922Z"
    },
    "papermill": {
     "duration": 656.66955,
     "end_time": "2025-10-04T15:01:13.812106",
     "exception": false,
     "start_time": "2025-10-04T14:50:17.142556",
     "status": "completed"
    },
    "tags": []
   },
   "outputs": [
    {
     "name": "stdout",
     "output_type": "stream",
     "text": [
      "Args in experiment:\r\n",
      "Namespace(random_seed=2021, is_training=1, model_id='weather_336_96_baseline', model='PatchTST', data='custom', root_path='./dataset/', data_path='weather.csv', features='M', target='OT', freq='h', checkpoints='./checkpoints/', seq_len=336, label_len=48, pred_len=96, fc_dropout=0.2, head_dropout=0.0, patch_len=16, stride=8, padding_patch='end', revin=1, affine=0, subtract_last=0, decomposition=0, kernel_size=25, individual=0, embed_type=0, enc_in=21, dec_in=7, c_out=7, d_model=128, n_heads=16, e_layers=3, d_layers=1, d_ff=256, moving_avg=25, factor=1, distil=True, dropout=0.2, embed='timeF', activation='gelu', output_attention=False, do_predict=False, num_workers=10, itr=1, train_epochs=5, batch_size=128, patience=20, learning_rate=0.0001, des='Exp', loss='mse', lradj='type3', pct_start=0.3, use_amp=False, use_gpu=True, gpu=0, use_multi_gpu=False, devices='0,1,2,3', test_flop=False, multi_scale=None)\r\n",
      "Use GPU: cuda:0\r\n",
      "PatchTST Single-Scale Mode\r\n",
      ">>>>>>>start training : weather_336_96_baseline_PatchTST_custom_ftM_sl336_ll48_pl96_dm128_nh16_el3_dl1_df256_fc1_ebtimeF_dtTrue_Exp_0>>>>>>>>>>>>>>>>>>>>>>>>>>\r\n",
      "train 36456\r\n",
      "val 5175\r\n",
      "test 10444\r\n",
      "\titers: 100, epoch: 1 | loss: 0.7011203\r\n",
      "\tspeed: 0.3652s/iter; left time: 482.3905s\r\n",
      "\titers: 200, epoch: 1 | loss: 0.7144874\r\n",
      "\tspeed: 0.3217s/iter; left time: 392.8308s\r\n",
      "Epoch: 1 cost time: 93.43485260009766\r\n",
      "Epoch: 1, Steps: 284 | Train Loss: 0.7450223 Vali Loss: 0.5408273 Test Loss: 0.2212430\r\n",
      "Validation loss decreased (inf --> 0.540827).  Saving model ...\r\n",
      "Updating learning rate to 0.0001\r\n",
      "\titers: 100, epoch: 2 | loss: 0.3502237\r\n",
      "\tspeed: 0.8771s/iter; left time: 909.5168s\r\n",
      "\titers: 200, epoch: 2 | loss: 0.4068748\r\n",
      "\tspeed: 0.3842s/iter; left time: 359.9824s\r\n",
      "Epoch: 2 cost time: 110.2751054763794\r\n",
      "Epoch: 2, Steps: 284 | Train Loss: 0.4887680 Vali Loss: 0.4171748 Test Loss: 0.1693872\r\n",
      "Validation loss decreased (0.540827 --> 0.417175).  Saving model ...\r\n",
      "Updating learning rate to 0.0001\r\n",
      "\titers: 100, epoch: 3 | loss: 0.4496108\r\n",
      "\tspeed: 0.8923s/iter; left time: 671.8818s\r\n",
      "\titers: 200, epoch: 3 | loss: 0.4217881\r\n",
      "\tspeed: 0.3887s/iter; left time: 253.8233s\r\n",
      "Epoch: 3 cost time: 110.04396152496338\r\n",
      "Epoch: 3, Steps: 284 | Train Loss: 0.4476539 Vali Loss: 0.4049918 Test Loss: 0.1622655\r\n",
      "Validation loss decreased (0.417175 --> 0.404992).  Saving model ...\r\n",
      "Updating learning rate to 0.0001\r\n",
      "\titers: 100, epoch: 4 | loss: 0.3732247\r\n",
      "\tspeed: 0.8907s/iter; left time: 417.7332s\r\n",
      "\titers: 200, epoch: 4 | loss: 0.6333611\r\n",
      "\tspeed: 0.3888s/iter; left time: 143.4563s\r\n",
      "Epoch: 4 cost time: 110.08089303970337\r\n",
      "Epoch: 4, Steps: 284 | Train Loss: 0.4404233 Vali Loss: 0.3956116 Test Loss: 0.1590451\r\n",
      "Validation loss decreased (0.404992 --> 0.395612).  Saving model ...\r\n",
      "Updating learning rate to 9e-05\r\n",
      "\titers: 100, epoch: 5 | loss: 0.3678261\r\n",
      "\tspeed: 0.8902s/iter; left time: 164.6872s\r\n",
      "\titers: 200, epoch: 5 | loss: 0.8110214\r\n",
      "\tspeed: 0.3866s/iter; left time: 32.8595s\r\n",
      "Epoch: 5 cost time: 109.79672455787659\r\n",
      "Epoch: 5, Steps: 284 | Train Loss: 0.4352635 Vali Loss: 0.3964238 Test Loss: 0.1578531\r\n",
      "EarlyStopping counter: 1 out of 20\r\n",
      "Updating learning rate to 8.1e-05\r\n",
      ">>>>>>>testing : weather_336_96_baseline_PatchTST_custom_ftM_sl336_ll48_pl96_dm128_nh16_el3_dl1_df256_fc1_ebtimeF_dtTrue_Exp_0<<<<<<<<<<<<<<<<<<<<<<<<<<<<<<<<<\r\n",
      "test 10444\r\n",
      "mse:0.1590450555086136, mae:0.20734095573425293, rse:0.5253758430480957\r\n"
     ]
    }
   ],
   "source": [
    "!python run_longExp.py \\\n",
    "    --random_seed 2021 \\\n",
    "    --is_training 1 \\\n",
    "    --root_path ./dataset/ \\\n",
    "    --data_path weather.csv \\\n",
    "    --model_id weather_336_96_baseline \\\n",
    "    --model PatchTST \\\n",
    "    --data custom \\\n",
    "    --features M \\\n",
    "    --seq_len 336 \\\n",
    "    --pred_len 96 \\\n",
    "    --enc_in 21 \\\n",
    "    --e_layers 3 \\\n",
    "    --n_heads 16 \\\n",
    "    --d_model 128 \\\n",
    "    --d_ff 256 \\\n",
    "    --dropout 0.2 \\\n",
    "    --fc_dropout 0.2 \\\n",
    "    --head_dropout 0 \\\n",
    "    --patch_len 16 \\\n",
    "    --stride 8 \\\n",
    "    --des 'Exp' \\\n",
    "    --train_epochs 5 \\\n",
    "    --patience 20 \\\n",
    "    --itr 1 \\\n",
    "    --batch_size 128 \\\n",
    "    --learning_rate 0.0001"
   ]
  },
  {
   "cell_type": "code",
   "execution_count": 11,
   "id": "dc80ac3d",
   "metadata": {
    "execution": {
     "iopub.execute_input": "2025-10-04T15:01:13.822446Z",
     "iopub.status.busy": "2025-10-04T15:01:13.822229Z",
     "iopub.status.idle": "2025-10-04T15:29:58.171621Z",
     "shell.execute_reply": "2025-10-04T15:29:58.170818Z"
    },
    "papermill": {
     "duration": 1724.356214,
     "end_time": "2025-10-04T15:29:58.173074",
     "exception": false,
     "start_time": "2025-10-04T15:01:13.816860",
     "status": "completed"
    },
    "tags": []
   },
   "outputs": [
    {
     "name": "stdout",
     "output_type": "stream",
     "text": [
      "Args in experiment:\r\n",
      "Namespace(random_seed=2021, is_training=1, model_id='weather_336_96_small_only', model='PatchTST', data='custom', root_path='./dataset/', data_path='weather.csv', features='M', target='OT', freq='h', checkpoints='./checkpoints/', seq_len=336, label_len=48, pred_len=96, fc_dropout=0.2, head_dropout=0.0, patch_len=16, stride=8, padding_patch='end', revin=1, affine=0, subtract_last=0, decomposition=0, kernel_size=25, individual=0, embed_type=0, enc_in=21, dec_in=7, c_out=7, d_model=128, n_heads=16, e_layers=3, d_layers=1, d_ff=256, moving_avg=25, factor=1, distil=True, dropout=0.2, embed='timeF', activation='gelu', output_attention=False, do_predict=False, num_workers=10, itr=1, train_epochs=5, batch_size=128, patience=20, learning_rate=0.0001, des='Exp', loss='mse', lradj='type3', pct_start=0.3, use_amp=False, use_gpu=True, gpu=0, use_multi_gpu=False, devices='0,1,2,3', test_flop=False, multi_scale=['small'])\r\n",
      "Use GPU: cuda:0\r\n",
      "PatchTST Multi-Scale Configuration: ['small']\r\n",
      "Using scales: ['small']\r\n",
      "Patch sizes: [8]\r\n",
      "Strides: [4]\r\n",
      ">>>>>>>start training : weather_336_96_small_only_PatchTST_custom_ftM_sl336_ll48_pl96_dm128_nh16_el3_dl1_df256_fc1_ebtimeF_dtTrue_Exp_0>>>>>>>>>>>>>>>>>>>>>>>>>>\r\n",
      "train 36456\r\n",
      "val 5175\r\n",
      "test 10444\r\n",
      "\titers: 100, epoch: 1 | loss: 1.0940858\r\n",
      "\tspeed: 1.0424s/iter; left time: 1377.0326s\r\n",
      "\titers: 200, epoch: 1 | loss: 1.3229266\r\n",
      "\tspeed: 1.0274s/iter; left time: 1254.5132s\r\n",
      "Epoch: 1 cost time: 292.47029757499695\r\n",
      "Epoch: 1, Steps: 284 | Train Loss: 1.2118851 Vali Loss: 0.8219320 Test Loss: 0.7954488\r\n",
      "Validation loss decreased (inf --> 0.821932).  Saving model ...\r\n",
      "Updating learning rate to 0.0001\r\n",
      "\titers: 100, epoch: 2 | loss: 0.5529028\r\n",
      "\tspeed: 2.3493s/iter; left time: 2436.2269s\r\n",
      "\titers: 200, epoch: 2 | loss: 0.3783637\r\n",
      "\tspeed: 1.0308s/iter; left time: 965.8142s\r\n",
      "Epoch: 2 cost time: 292.18060755729675\r\n",
      "Epoch: 2, Steps: 284 | Train Loss: 0.6008290 Vali Loss: 0.4073974 Test Loss: 0.1811530\r\n",
      "Validation loss decreased (0.821932 --> 0.407397).  Saving model ...\r\n",
      "Updating learning rate to 0.0001\r\n",
      "\titers: 100, epoch: 3 | loss: 0.3742524\r\n",
      "\tspeed: 2.3537s/iter; left time: 1772.3580s\r\n",
      "\titers: 200, epoch: 3 | loss: 0.3314523\r\n",
      "\tspeed: 1.0305s/iter; left time: 672.8942s\r\n",
      "Epoch: 3 cost time: 291.4779763221741\r\n",
      "Epoch: 3, Steps: 284 | Train Loss: 0.4366441 Vali Loss: 0.3933540 Test Loss: 0.1634753\r\n",
      "Validation loss decreased (0.407397 --> 0.393354).  Saving model ...\r\n",
      "Updating learning rate to 0.0001\r\n",
      "\titers: 100, epoch: 4 | loss: 0.3487149\r\n",
      "\tspeed: 2.3328s/iter; left time: 1094.0972s\r\n",
      "\titers: 200, epoch: 4 | loss: 0.8296007\r\n",
      "\tspeed: 1.0171s/iter; left time: 375.3132s\r\n",
      "Epoch: 4 cost time: 288.53089570999146\r\n",
      "Epoch: 4, Steps: 284 | Train Loss: 0.4287183 Vali Loss: 0.3899171 Test Loss: 0.1613800\r\n",
      "Validation loss decreased (0.393354 --> 0.389917).  Saving model ...\r\n",
      "Updating learning rate to 9e-05\r\n",
      "\titers: 100, epoch: 5 | loss: 0.6991821\r\n",
      "\tspeed: 2.3336s/iter; left time: 431.7138s\r\n",
      "\titers: 200, epoch: 5 | loss: 0.3298101\r\n",
      "\tspeed: 1.0305s/iter; left time: 87.5918s\r\n",
      "Epoch: 5 cost time: 291.2693657875061\r\n",
      "Epoch: 5, Steps: 284 | Train Loss: 0.4240823 Vali Loss: 0.3902723 Test Loss: 0.1589220\r\n",
      "EarlyStopping counter: 1 out of 20\r\n",
      "Updating learning rate to 8.1e-05\r\n",
      ">>>>>>>testing : weather_336_96_small_only_PatchTST_custom_ftM_sl336_ll48_pl96_dm128_nh16_el3_dl1_df256_fc1_ebtimeF_dtTrue_Exp_0<<<<<<<<<<<<<<<<<<<<<<<<<<<<<<<<<\r\n",
      "test 10444\r\n",
      "mse:0.16137999296188354, mae:0.22143800556659698, rse:0.529218316078186\r\n"
     ]
    }
   ],
   "source": [
    "!python run_longExp.py \\\n",
    "    --random_seed 2021 \\\n",
    "    --is_training 1 \\\n",
    "    --root_path ./dataset/ \\\n",
    "    --data_path weather.csv \\\n",
    "    --model_id weather_336_96_small_only \\\n",
    "    --model PatchTST \\\n",
    "    --data custom \\\n",
    "    --features M \\\n",
    "    --seq_len 336 \\\n",
    "    --pred_len 96 \\\n",
    "    --enc_in 21 \\\n",
    "    --e_layers 3 \\\n",
    "    --n_heads 16 \\\n",
    "    --d_model 128 \\\n",
    "    --d_ff 256 \\\n",
    "    --dropout 0.2 \\\n",
    "    --fc_dropout 0.2 \\\n",
    "    --head_dropout 0 \\\n",
    "    --patch_len 16 \\\n",
    "    --stride 8 \\\n",
    "    --des 'Exp' \\\n",
    "    --train_epochs 5 \\\n",
    "    --patience 20 \\\n",
    "    --itr 1 \\\n",
    "    --batch_size 128 \\\n",
    "    --learning_rate 0.0001 \\\n",
    "    --multi_scale small"
   ]
  },
  {
   "cell_type": "code",
   "execution_count": 12,
   "id": "581a3dd9",
   "metadata": {
    "execution": {
     "iopub.execute_input": "2025-10-04T15:29:58.186048Z",
     "iopub.status.busy": "2025-10-04T15:29:58.185512Z",
     "iopub.status.idle": "2025-10-04T15:40:57.076330Z",
     "shell.execute_reply": "2025-10-04T15:40:57.075265Z"
    },
    "papermill": {
     "duration": 658.898956,
     "end_time": "2025-10-04T15:40:57.077887",
     "exception": false,
     "start_time": "2025-10-04T15:29:58.178931",
     "status": "completed"
    },
    "tags": []
   },
   "outputs": [
    {
     "name": "stdout",
     "output_type": "stream",
     "text": [
      "Args in experiment:\r\n",
      "Namespace(random_seed=2021, is_training=1, model_id='weather_336_96_medium_only', model='PatchTST', data='custom', root_path='./dataset/', data_path='weather.csv', features='M', target='OT', freq='h', checkpoints='./checkpoints/', seq_len=336, label_len=48, pred_len=96, fc_dropout=0.2, head_dropout=0.0, patch_len=16, stride=8, padding_patch='end', revin=1, affine=0, subtract_last=0, decomposition=0, kernel_size=25, individual=0, embed_type=0, enc_in=21, dec_in=7, c_out=7, d_model=128, n_heads=16, e_layers=3, d_layers=1, d_ff=256, moving_avg=25, factor=1, distil=True, dropout=0.2, embed='timeF', activation='gelu', output_attention=False, do_predict=False, num_workers=10, itr=1, train_epochs=5, batch_size=128, patience=20, learning_rate=0.0001, des='Exp', loss='mse', lradj='type3', pct_start=0.3, use_amp=False, use_gpu=True, gpu=0, use_multi_gpu=False, devices='0,1,2,3', test_flop=False, multi_scale=['medium'])\r\n",
      "Use GPU: cuda:0\r\n",
      "PatchTST Multi-Scale Configuration: ['medium']\r\n",
      "Using scales: ['medium']\r\n",
      "Patch sizes: [16]\r\n",
      "Strides: [8]\r\n",
      ">>>>>>>start training : weather_336_96_medium_only_PatchTST_custom_ftM_sl336_ll48_pl96_dm128_nh16_el3_dl1_df256_fc1_ebtimeF_dtTrue_Exp_0>>>>>>>>>>>>>>>>>>>>>>>>>>\r\n",
      "train 36456\r\n",
      "val 5175\r\n",
      "test 10444\r\n",
      "\titers: 100, epoch: 1 | loss: 1.0111768\r\n",
      "\tspeed: 0.4100s/iter; left time: 541.5601s\r\n",
      "\titers: 200, epoch: 1 | loss: 1.5426818\r\n",
      "\tspeed: 0.3832s/iter; left time: 467.8846s\r\n",
      "Epoch: 1 cost time: 110.74157571792603\r\n",
      "Epoch: 1, Steps: 284 | Train Loss: 1.0693355 Vali Loss: 0.7492496 Test Loss: 0.6450087\r\n",
      "Validation loss decreased (inf --> 0.749250).  Saving model ...\r\n",
      "Updating learning rate to 0.0001\r\n",
      "\titers: 100, epoch: 2 | loss: 0.4632569\r\n",
      "\tspeed: 0.8907s/iter; left time: 923.6886s\r\n",
      "\titers: 200, epoch: 2 | loss: 0.4718313\r\n",
      "\tspeed: 0.3840s/iter; left time: 359.7699s\r\n",
      "Epoch: 2 cost time: 109.33391118049622\r\n",
      "Epoch: 2, Steps: 284 | Train Loss: 0.5514757 Vali Loss: 0.3992774 Test Loss: 0.1735247\r\n",
      "Validation loss decreased (0.749250 --> 0.399277).  Saving model ...\r\n",
      "Updating learning rate to 0.0001\r\n",
      "\titers: 100, epoch: 3 | loss: 0.7815441\r\n",
      "\tspeed: 0.8882s/iter; left time: 668.7843s\r\n",
      "\titers: 200, epoch: 3 | loss: 0.3531170\r\n",
      "\tspeed: 0.3900s/iter; left time: 254.6977s\r\n",
      "Epoch: 3 cost time: 110.30679655075073\r\n",
      "Epoch: 3, Steps: 284 | Train Loss: 0.4349009 Vali Loss: 0.3898870 Test Loss: 0.1601858\r\n",
      "Validation loss decreased (0.399277 --> 0.389887).  Saving model ...\r\n",
      "Updating learning rate to 0.0001\r\n",
      "\titers: 100, epoch: 4 | loss: 0.3255211\r\n",
      "\tspeed: 0.8902s/iter; left time: 417.4876s\r\n",
      "\titers: 200, epoch: 4 | loss: 0.3256913\r\n",
      "\tspeed: 0.3879s/iter; left time: 143.1418s\r\n",
      "Epoch: 4 cost time: 110.18137288093567\r\n",
      "Epoch: 4, Steps: 284 | Train Loss: 0.4273324 Vali Loss: 0.3878956 Test Loss: 0.1564066\r\n",
      "Validation loss decreased (0.389887 --> 0.387896).  Saving model ...\r\n",
      "Updating learning rate to 9e-05\r\n",
      "\titers: 100, epoch: 5 | loss: 0.3438958\r\n",
      "\tspeed: 0.8934s/iter; left time: 165.2859s\r\n",
      "\titers: 200, epoch: 5 | loss: 0.3884870\r\n",
      "\tspeed: 0.3860s/iter; left time: 32.8101s\r\n",
      "Epoch: 5 cost time: 109.81837105751038\r\n",
      "Epoch: 5, Steps: 284 | Train Loss: 0.4225469 Vali Loss: 0.3858082 Test Loss: 0.1552643\r\n",
      "Validation loss decreased (0.387896 --> 0.385808).  Saving model ...\r\n",
      "Updating learning rate to 8.1e-05\r\n",
      ">>>>>>>testing : weather_336_96_medium_only_PatchTST_custom_ftM_sl336_ll48_pl96_dm128_nh16_el3_dl1_df256_fc1_ebtimeF_dtTrue_Exp_0<<<<<<<<<<<<<<<<<<<<<<<<<<<<<<<<<\r\n",
      "test 10444\r\n",
      "mse:0.15526430308818817, mae:0.2131097912788391, rse:0.5190937519073486\r\n"
     ]
    }
   ],
   "source": [
    "!python run_longExp.py \\\n",
    "    --random_seed 2021 \\\n",
    "    --is_training 1 \\\n",
    "    --root_path ./dataset/ \\\n",
    "    --data_path weather.csv \\\n",
    "    --model_id weather_336_96_medium_only \\\n",
    "    --model PatchTST \\\n",
    "    --data custom \\\n",
    "    --features M \\\n",
    "    --seq_len 336 \\\n",
    "    --pred_len 96 \\\n",
    "    --enc_in 21 \\\n",
    "    --e_layers 3 \\\n",
    "    --n_heads 16 \\\n",
    "    --d_model 128 \\\n",
    "    --d_ff 256 \\\n",
    "    --dropout 0.2 \\\n",
    "    --fc_dropout 0.2 \\\n",
    "    --head_dropout 0 \\\n",
    "    --patch_len 16 \\\n",
    "    --stride 8 \\\n",
    "    --des 'Exp' \\\n",
    "    --train_epochs 5 \\\n",
    "    --patience 20 \\\n",
    "    --itr 1 \\\n",
    "    --batch_size 128 \\\n",
    "    --learning_rate 0.0001 \\\n",
    "    --multi_scale medium"
   ]
  },
  {
   "cell_type": "code",
   "execution_count": 13,
   "id": "ea744c80",
   "metadata": {
    "execution": {
     "iopub.execute_input": "2025-10-04T15:40:57.094590Z",
     "iopub.status.busy": "2025-10-04T15:40:57.094317Z",
     "iopub.status.idle": "2025-10-04T15:46:25.763042Z",
     "shell.execute_reply": "2025-10-04T15:46:25.762253Z"
    },
    "papermill": {
     "duration": 328.678737,
     "end_time": "2025-10-04T15:46:25.764462",
     "exception": false,
     "start_time": "2025-10-04T15:40:57.085725",
     "status": "completed"
    },
    "tags": []
   },
   "outputs": [
    {
     "name": "stdout",
     "output_type": "stream",
     "text": [
      "Args in experiment:\r\n",
      "Namespace(random_seed=2021, is_training=1, model_id='weather_336_96_large_only', model='PatchTST', data='custom', root_path='./dataset/', data_path='weather.csv', features='M', target='OT', freq='h', checkpoints='./checkpoints/', seq_len=336, label_len=48, pred_len=96, fc_dropout=0.2, head_dropout=0.0, patch_len=16, stride=8, padding_patch='end', revin=1, affine=0, subtract_last=0, decomposition=0, kernel_size=25, individual=0, embed_type=0, enc_in=21, dec_in=7, c_out=7, d_model=128, n_heads=16, e_layers=3, d_layers=1, d_ff=256, moving_avg=25, factor=1, distil=True, dropout=0.2, embed='timeF', activation='gelu', output_attention=False, do_predict=False, num_workers=10, itr=1, train_epochs=5, batch_size=128, patience=20, learning_rate=0.0001, des='Exp', loss='mse', lradj='type3', pct_start=0.3, use_amp=False, use_gpu=True, gpu=0, use_multi_gpu=False, devices='0,1,2,3', test_flop=False, multi_scale=['large'])\r\n",
      "Use GPU: cuda:0\r\n",
      "PatchTST Multi-Scale Configuration: ['large']\r\n",
      "Using scales: ['large']\r\n",
      "Patch sizes: [32]\r\n",
      "Strides: [16]\r\n",
      ">>>>>>>start training : weather_336_96_large_only_PatchTST_custom_ftM_sl336_ll48_pl96_dm128_nh16_el3_dl1_df256_fc1_ebtimeF_dtTrue_Exp_0>>>>>>>>>>>>>>>>>>>>>>>>>>\r\n",
      "train 36456\r\n",
      "val 5175\r\n",
      "test 10444\r\n",
      "\titers: 100, epoch: 1 | loss: 1.0497586\r\n",
      "\tspeed: 0.2010s/iter; left time: 265.5853s\r\n",
      "\titers: 200, epoch: 1 | loss: 0.8749281\r\n",
      "\tspeed: 0.1954s/iter; left time: 238.6082s\r\n",
      "Epoch: 1 cost time: 54.347256660461426\r\n",
      "Epoch: 1, Steps: 284 | Train Loss: 1.0805684 Vali Loss: 0.7661454 Test Loss: 0.6478657\r\n",
      "Validation loss decreased (inf --> 0.766145).  Saving model ...\r\n",
      "Updating learning rate to 0.0001\r\n",
      "\titers: 100, epoch: 2 | loss: 0.5544486\r\n",
      "\tspeed: 0.4346s/iter; left time: 450.7035s\r\n",
      "\titers: 200, epoch: 2 | loss: 0.4465386\r\n",
      "\tspeed: 0.1863s/iter; left time: 174.5944s\r\n",
      "Epoch: 2 cost time: 52.94022512435913\r\n",
      "Epoch: 2, Steps: 284 | Train Loss: 0.5508236 Vali Loss: 0.4071389 Test Loss: 0.1713884\r\n",
      "Validation loss decreased (0.766145 --> 0.407139).  Saving model ...\r\n",
      "Updating learning rate to 0.0001\r\n",
      "\titers: 100, epoch: 3 | loss: 0.4119048\r\n",
      "\tspeed: 0.4428s/iter; left time: 333.4036s\r\n",
      "\titers: 200, epoch: 3 | loss: 0.3401838\r\n",
      "\tspeed: 0.1849s/iter; left time: 120.7666s\r\n",
      "Epoch: 3 cost time: 52.83024287223816\r\n",
      "Epoch: 3, Steps: 284 | Train Loss: 0.4364746 Vali Loss: 0.3934923 Test Loss: 0.1583320\r\n",
      "Validation loss decreased (0.407139 --> 0.393492).  Saving model ...\r\n",
      "Updating learning rate to 0.0001\r\n",
      "\titers: 100, epoch: 4 | loss: 0.5363323\r\n",
      "\tspeed: 0.4381s/iter; left time: 205.4719s\r\n",
      "\titers: 200, epoch: 4 | loss: 0.5761467\r\n",
      "\tspeed: 0.1880s/iter; left time: 69.3682s\r\n",
      "Epoch: 4 cost time: 53.37876892089844\r\n",
      "Epoch: 4, Steps: 284 | Train Loss: 0.4280902 Vali Loss: 0.3884494 Test Loss: 0.1559683\r\n",
      "Validation loss decreased (0.393492 --> 0.388449).  Saving model ...\r\n",
      "Updating learning rate to 9e-05\r\n",
      "\titers: 100, epoch: 5 | loss: 0.3753849\r\n",
      "\tspeed: 0.4451s/iter; left time: 82.3348s\r\n",
      "\titers: 200, epoch: 5 | loss: 0.3421296\r\n",
      "\tspeed: 0.1878s/iter; left time: 15.9664s\r\n",
      "Epoch: 5 cost time: 53.55184984207153\r\n",
      "Epoch: 5, Steps: 284 | Train Loss: 0.4231993 Vali Loss: 0.3841388 Test Loss: 0.1538013\r\n",
      "Validation loss decreased (0.388449 --> 0.384139).  Saving model ...\r\n",
      "Updating learning rate to 8.1e-05\r\n",
      ">>>>>>>testing : weather_336_96_large_only_PatchTST_custom_ftM_sl336_ll48_pl96_dm128_nh16_el3_dl1_df256_fc1_ebtimeF_dtTrue_Exp_0<<<<<<<<<<<<<<<<<<<<<<<<<<<<<<<<<\r\n",
      "test 10444\r\n",
      "mse:0.15380129218101501, mae:0.21244201064109802, rse:0.5166423320770264\r\n"
     ]
    }
   ],
   "source": [
    "!python run_longExp.py \\\n",
    "    --random_seed 2021 \\\n",
    "    --is_training 1 \\\n",
    "    --root_path ./dataset/ \\\n",
    "    --data_path weather.csv \\\n",
    "    --model_id weather_336_96_large_only \\\n",
    "    --model PatchTST \\\n",
    "    --data custom \\\n",
    "    --features M \\\n",
    "    --seq_len 336 \\\n",
    "    --pred_len 96 \\\n",
    "    --enc_in 21 \\\n",
    "    --e_layers 3 \\\n",
    "    --n_heads 16 \\\n",
    "    --d_model 128 \\\n",
    "    --d_ff 256 \\\n",
    "    --dropout 0.2 \\\n",
    "    --fc_dropout 0.2 \\\n",
    "    --head_dropout 0 \\\n",
    "    --patch_len 16 \\\n",
    "    --stride 8 \\\n",
    "    --des 'Exp' \\\n",
    "    --train_epochs 5 \\\n",
    "    --patience 20 \\\n",
    "    --itr 1 \\\n",
    "    --batch_size 128 \\\n",
    "    --learning_rate 0.0001 \\\n",
    "    --multi_scale large"
   ]
  },
  {
   "cell_type": "code",
   "execution_count": 14,
   "id": "c99ce800",
   "metadata": {
    "execution": {
     "iopub.execute_input": "2025-10-04T15:46:25.781463Z",
     "iopub.status.busy": "2025-10-04T15:46:25.781041Z",
     "iopub.status.idle": "2025-10-04T16:25:59.448395Z",
     "shell.execute_reply": "2025-10-04T16:25:59.447599Z"
    },
    "papermill": {
     "duration": 2373.677342,
     "end_time": "2025-10-04T16:25:59.449831",
     "exception": false,
     "start_time": "2025-10-04T15:46:25.772489",
     "status": "completed"
    },
    "tags": []
   },
   "outputs": [
    {
     "name": "stdout",
     "output_type": "stream",
     "text": [
      "Args in experiment:\r\n",
      "Namespace(random_seed=2021, is_training=1, model_id='weather_336_96_small_medium', model='PatchTST', data='custom', root_path='./dataset/', data_path='weather.csv', features='M', target='OT', freq='h', checkpoints='./checkpoints/', seq_len=336, label_len=48, pred_len=96, fc_dropout=0.2, head_dropout=0.0, patch_len=16, stride=8, padding_patch='end', revin=1, affine=0, subtract_last=0, decomposition=0, kernel_size=25, individual=0, embed_type=0, enc_in=21, dec_in=7, c_out=7, d_model=128, n_heads=16, e_layers=3, d_layers=1, d_ff=256, moving_avg=25, factor=1, distil=True, dropout=0.2, embed='timeF', activation='gelu', output_attention=False, do_predict=False, num_workers=10, itr=1, train_epochs=5, batch_size=128, patience=20, learning_rate=0.0001, des='Exp', loss='mse', lradj='type3', pct_start=0.3, use_amp=False, use_gpu=True, gpu=0, use_multi_gpu=False, devices='0,1,2,3', test_flop=False, multi_scale=['small', 'medium'])\r\n",
      "Use GPU: cuda:0\r\n",
      "PatchTST Multi-Scale Configuration: ['small', 'medium']\r\n",
      "Using scales: ['small', 'medium']\r\n",
      "Patch sizes: [8, 16]\r\n",
      "Strides: [4, 8]\r\n",
      ">>>>>>>start training : weather_336_96_small_medium_PatchTST_custom_ftM_sl336_ll48_pl96_dm128_nh16_el3_dl1_df256_fc1_ebtimeF_dtTrue_Exp_0>>>>>>>>>>>>>>>>>>>>>>>>>>\r\n",
      "train 36456\r\n",
      "val 5175\r\n",
      "test 10444\r\n",
      "\titers: 100, epoch: 1 | loss: 0.8481824\r\n",
      "\tspeed: 1.4267s/iter; left time: 1884.7217s\r\n",
      "\titers: 200, epoch: 1 | loss: 1.0298910\r\n",
      "\tspeed: 1.4026s/iter; left time: 1712.6296s\r\n",
      "Epoch: 1 cost time: 399.76363372802734\r\n",
      "Epoch: 1, Steps: 284 | Train Loss: 0.9871917 Vali Loss: 0.6558944 Test Loss: 0.5535131\r\n",
      "Validation loss decreased (inf --> 0.655894).  Saving model ...\r\n",
      "Updating learning rate to 0.0001\r\n",
      "\titers: 100, epoch: 2 | loss: 0.3683674\r\n",
      "\tspeed: 3.2261s/iter; left time: 3345.4531s\r\n",
      "\titers: 200, epoch: 2 | loss: 0.3868349\r\n",
      "\tspeed: 1.4168s/iter; left time: 1327.5374s\r\n",
      "Epoch: 2 cost time: 401.131379365921\r\n",
      "Epoch: 2, Steps: 284 | Train Loss: 0.4859593 Vali Loss: 0.3954431 Test Loss: 0.1632857\r\n",
      "Validation loss decreased (0.655894 --> 0.395443).  Saving model ...\r\n",
      "Updating learning rate to 0.0001\r\n",
      "\titers: 100, epoch: 3 | loss: 0.3464931\r\n",
      "\tspeed: 3.2252s/iter; left time: 2428.5883s\r\n",
      "\titers: 200, epoch: 3 | loss: 0.5080301\r\n",
      "\tspeed: 1.4223s/iter; left time: 928.7731s\r\n",
      "Epoch: 3 cost time: 402.67342948913574\r\n",
      "Epoch: 3, Steps: 284 | Train Loss: 0.4307675 Vali Loss: 0.3912966 Test Loss: 0.1599890\r\n",
      "Validation loss decreased (0.395443 --> 0.391297).  Saving model ...\r\n",
      "Updating learning rate to 0.0001\r\n",
      "\titers: 100, epoch: 4 | loss: 0.4132174\r\n",
      "\tspeed: 3.2438s/iter; left time: 1521.3374s\r\n",
      "\titers: 200, epoch: 4 | loss: 0.3119540\r\n",
      "\tspeed: 1.4207s/iter; left time: 524.2489s\r\n",
      "Epoch: 4 cost time: 402.77401065826416\r\n",
      "Epoch: 4, Steps: 284 | Train Loss: 0.4240427 Vali Loss: 0.3893006 Test Loss: 0.1550610\r\n",
      "Validation loss decreased (0.391297 --> 0.389301).  Saving model ...\r\n",
      "Updating learning rate to 9e-05\r\n",
      "\titers: 100, epoch: 5 | loss: 0.4103775\r\n",
      "\tspeed: 3.2305s/iter; left time: 597.6476s\r\n",
      "\titers: 200, epoch: 5 | loss: 0.5162976\r\n",
      "\tspeed: 1.4100s/iter; left time: 119.8514s\r\n",
      "Epoch: 5 cost time: 400.1548719406128\r\n",
      "Epoch: 5, Steps: 284 | Train Loss: 0.4165596 Vali Loss: 0.3880495 Test Loss: 0.1516359\r\n",
      "Validation loss decreased (0.389301 --> 0.388050).  Saving model ...\r\n",
      "Updating learning rate to 8.1e-05\r\n",
      ">>>>>>>testing : weather_336_96_small_medium_PatchTST_custom_ftM_sl336_ll48_pl96_dm128_nh16_el3_dl1_df256_fc1_ebtimeF_dtTrue_Exp_0<<<<<<<<<<<<<<<<<<<<<<<<<<<<<<<<<\r\n",
      "test 10444\r\n",
      "mse:0.15163584053516388, mae:0.20958034694194794, rse:0.5129924416542053\r\n"
     ]
    }
   ],
   "source": [
    "!python run_longExp.py \\\n",
    "    --random_seed 2021 \\\n",
    "    --is_training 1 \\\n",
    "    --root_path ./dataset/ \\\n",
    "    --data_path weather.csv \\\n",
    "    --model_id weather_336_96_small_medium \\\n",
    "    --model PatchTST \\\n",
    "    --data custom \\\n",
    "    --features M \\\n",
    "    --seq_len 336 \\\n",
    "    --pred_len 96 \\\n",
    "    --enc_in 21 \\\n",
    "    --e_layers 3 \\\n",
    "    --n_heads 16 \\\n",
    "    --d_model 128 \\\n",
    "    --d_ff 256 \\\n",
    "    --dropout 0.2 \\\n",
    "    --fc_dropout 0.2 \\\n",
    "    --head_dropout 0 \\\n",
    "    --patch_len 16 \\\n",
    "    --stride 8 \\\n",
    "    --des 'Exp' \\\n",
    "    --train_epochs 5 \\\n",
    "    --patience 20 \\\n",
    "    --itr 1 \\\n",
    "    --batch_size 128 \\\n",
    "    --learning_rate 0.0001 \\\n",
    "    --multi_scale small medium"
   ]
  },
  {
   "cell_type": "code",
   "execution_count": 15,
   "id": "7f35dca0",
   "metadata": {
    "execution": {
     "iopub.execute_input": "2025-10-04T16:25:59.469243Z",
     "iopub.status.busy": "2025-10-04T16:25:59.468977Z",
     "iopub.status.idle": "2025-10-04T16:42:14.550242Z",
     "shell.execute_reply": "2025-10-04T16:42:14.549480Z"
    },
    "papermill": {
     "duration": 975.093072,
     "end_time": "2025-10-04T16:42:14.552158",
     "exception": false,
     "start_time": "2025-10-04T16:25:59.459086",
     "status": "completed"
    },
    "tags": []
   },
   "outputs": [
    {
     "name": "stdout",
     "output_type": "stream",
     "text": [
      "Args in experiment:\r\n",
      "Namespace(random_seed=2021, is_training=1, model_id='weather_336_96_medium_large', model='PatchTST', data='custom', root_path='./dataset/', data_path='weather.csv', features='M', target='OT', freq='h', checkpoints='./checkpoints/', seq_len=336, label_len=48, pred_len=96, fc_dropout=0.2, head_dropout=0.0, patch_len=16, stride=8, padding_patch='end', revin=1, affine=0, subtract_last=0, decomposition=0, kernel_size=25, individual=0, embed_type=0, enc_in=21, dec_in=7, c_out=7, d_model=128, n_heads=16, e_layers=3, d_layers=1, d_ff=256, moving_avg=25, factor=1, distil=True, dropout=0.2, embed='timeF', activation='gelu', output_attention=False, do_predict=False, num_workers=10, itr=1, train_epochs=5, batch_size=128, patience=20, learning_rate=0.0001, des='Exp', loss='mse', lradj='type3', pct_start=0.3, use_amp=False, use_gpu=True, gpu=0, use_multi_gpu=False, devices='0,1,2,3', test_flop=False, multi_scale=['medium', 'large'])\r\n",
      "Use GPU: cuda:0\r\n",
      "PatchTST Multi-Scale Configuration: ['medium', 'large']\r\n",
      "Using scales: ['medium', 'large']\r\n",
      "Patch sizes: [16, 32]\r\n",
      "Strides: [8, 16]\r\n",
      ">>>>>>>start training : weather_336_96_medium_large_PatchTST_custom_ftM_sl336_ll48_pl96_dm128_nh16_el3_dl1_df256_fc1_ebtimeF_dtTrue_Exp_0>>>>>>>>>>>>>>>>>>>>>>>>>>\r\n",
      "train 36456\r\n",
      "val 5175\r\n",
      "test 10444\r\n",
      "\titers: 100, epoch: 1 | loss: 0.9799337\r\n",
      "\tspeed: 0.5931s/iter; left time: 783.5319s\r\n",
      "\titers: 200, epoch: 1 | loss: 1.1534975\r\n",
      "\tspeed: 0.5719s/iter; left time: 698.2612s\r\n",
      "Epoch: 1 cost time: 164.1002287864685\r\n",
      "Epoch: 1, Steps: 284 | Train Loss: 0.9969513 Vali Loss: 0.6743308 Test Loss: 0.5561262\r\n",
      "Validation loss decreased (inf --> 0.674331).  Saving model ...\r\n",
      "Updating learning rate to 0.0001\r\n",
      "\titers: 100, epoch: 2 | loss: 0.3393478\r\n",
      "\tspeed: 1.3190s/iter; left time: 1367.8496s\r\n",
      "\titers: 200, epoch: 2 | loss: 0.5887014\r\n",
      "\tspeed: 0.5712s/iter; left time: 535.1920s\r\n",
      "Epoch: 2 cost time: 162.42171049118042\r\n",
      "Epoch: 2, Steps: 284 | Train Loss: 0.4879793 Vali Loss: 0.3926818 Test Loss: 0.1630070\r\n",
      "Validation loss decreased (0.674331 --> 0.392682).  Saving model ...\r\n",
      "Updating learning rate to 0.0001\r\n",
      "\titers: 100, epoch: 3 | loss: 0.3457567\r\n",
      "\tspeed: 1.3262s/iter; left time: 998.6175s\r\n",
      "\titers: 200, epoch: 3 | loss: 0.3807861\r\n",
      "\tspeed: 0.5780s/iter; left time: 377.4570s\r\n",
      "Epoch: 3 cost time: 163.9230818748474\r\n",
      "Epoch: 3, Steps: 284 | Train Loss: 0.4307449 Vali Loss: 0.3881425 Test Loss: 0.1576148\r\n",
      "Validation loss decreased (0.392682 --> 0.388143).  Saving model ...\r\n",
      "Updating learning rate to 0.0001\r\n",
      "\titers: 100, epoch: 4 | loss: 0.6262395\r\n",
      "\tspeed: 1.3215s/iter; left time: 619.7661s\r\n",
      "\titers: 200, epoch: 4 | loss: 0.6719076\r\n",
      "\tspeed: 0.5749s/iter; left time: 212.1271s\r\n",
      "Epoch: 4 cost time: 163.32077956199646\r\n",
      "Epoch: 4, Steps: 284 | Train Loss: 0.4221368 Vali Loss: 0.3857923 Test Loss: 0.1543369\r\n",
      "Validation loss decreased (0.388143 --> 0.385792).  Saving model ...\r\n",
      "Updating learning rate to 9e-05\r\n",
      "\titers: 100, epoch: 5 | loss: 0.3945273\r\n",
      "\tspeed: 1.3233s/iter; left time: 244.8067s\r\n",
      "\titers: 200, epoch: 5 | loss: 0.5750303\r\n",
      "\tspeed: 0.5779s/iter; left time: 49.1241s\r\n",
      "Epoch: 5 cost time: 163.97503018379211\r\n",
      "Epoch: 5, Steps: 284 | Train Loss: 0.4179186 Vali Loss: 0.3859443 Test Loss: 0.1529482\r\n",
      "EarlyStopping counter: 1 out of 20\r\n",
      "Updating learning rate to 8.1e-05\r\n",
      ">>>>>>>testing : weather_336_96_medium_large_PatchTST_custom_ftM_sl336_ll48_pl96_dm128_nh16_el3_dl1_df256_fc1_ebtimeF_dtTrue_Exp_0<<<<<<<<<<<<<<<<<<<<<<<<<<<<<<<<<\r\n",
      "test 10444\r\n",
      "mse:0.15433689951896667, mae:0.21048158407211304, rse:0.5175411701202393\r\n"
     ]
    }
   ],
   "source": [
    "!python run_longExp.py \\\n",
    "    --random_seed 2021 \\\n",
    "    --is_training 1 \\\n",
    "    --root_path ./dataset/ \\\n",
    "    --data_path weather.csv \\\n",
    "    --model_id weather_336_96_medium_large \\\n",
    "    --model PatchTST \\\n",
    "    --data custom \\\n",
    "    --features M \\\n",
    "    --seq_len 336 \\\n",
    "    --pred_len 96 \\\n",
    "    --enc_in 21 \\\n",
    "    --e_layers 3 \\\n",
    "    --n_heads 16 \\\n",
    "    --d_model 128 \\\n",
    "    --d_ff 256 \\\n",
    "    --dropout 0.2 \\\n",
    "    --fc_dropout 0.2 \\\n",
    "    --head_dropout 0 \\\n",
    "    --patch_len 16 \\\n",
    "    --stride 8 \\\n",
    "    --des 'Exp' \\\n",
    "    --train_epochs 5 \\\n",
    "    --patience 20 \\\n",
    "    --itr 1 \\\n",
    "    --batch_size 128 \\\n",
    "    --learning_rate 0.0001 \\\n",
    "    --multi_scale medium large"
   ]
  },
  {
   "cell_type": "code",
   "execution_count": 16,
   "id": "2f9d6168",
   "metadata": {
    "execution": {
     "iopub.execute_input": "2025-10-04T16:42:14.574140Z",
     "iopub.status.busy": "2025-10-04T16:42:14.573884Z",
     "iopub.status.idle": "2025-10-04T17:16:19.909263Z",
     "shell.execute_reply": "2025-10-04T17:16:19.908446Z"
    },
    "papermill": {
     "duration": 2045.348026,
     "end_time": "2025-10-04T17:16:19.910696",
     "exception": false,
     "start_time": "2025-10-04T16:42:14.562670",
     "status": "completed"
    },
    "tags": []
   },
   "outputs": [
    {
     "name": "stdout",
     "output_type": "stream",
     "text": [
      "Args in experiment:\r\n",
      "Namespace(random_seed=2021, is_training=1, model_id='weather_336_96_small_large', model='PatchTST', data='custom', root_path='./dataset/', data_path='weather.csv', features='M', target='OT', freq='h', checkpoints='./checkpoints/', seq_len=336, label_len=48, pred_len=96, fc_dropout=0.2, head_dropout=0.0, patch_len=16, stride=8, padding_patch='end', revin=1, affine=0, subtract_last=0, decomposition=0, kernel_size=25, individual=0, embed_type=0, enc_in=21, dec_in=7, c_out=7, d_model=128, n_heads=16, e_layers=3, d_layers=1, d_ff=256, moving_avg=25, factor=1, distil=True, dropout=0.2, embed='timeF', activation='gelu', output_attention=False, do_predict=False, num_workers=10, itr=1, train_epochs=5, batch_size=128, patience=20, learning_rate=0.0001, des='Exp', loss='mse', lradj='type3', pct_start=0.3, use_amp=False, use_gpu=True, gpu=0, use_multi_gpu=False, devices='0,1,2,3', test_flop=False, multi_scale=['small', 'large'])\r\n",
      "Use GPU: cuda:0\r\n",
      "PatchTST Multi-Scale Configuration: ['small', 'large']\r\n",
      "Using scales: ['small', 'large']\r\n",
      "Patch sizes: [8, 32]\r\n",
      "Strides: [4, 16]\r\n",
      ">>>>>>>start training : weather_336_96_small_large_PatchTST_custom_ftM_sl336_ll48_pl96_dm128_nh16_el3_dl1_df256_fc1_ebtimeF_dtTrue_Exp_0>>>>>>>>>>>>>>>>>>>>>>>>>>\r\n",
      "train 36456\r\n",
      "val 5175\r\n",
      "test 10444\r\n",
      "\titers: 100, epoch: 1 | loss: 0.9163474\r\n",
      "\tspeed: 1.2287s/iter; left time: 1623.1376s\r\n",
      "\titers: 200, epoch: 1 | loss: 1.0174698\r\n",
      "\tspeed: 1.2101s/iter; left time: 1477.5892s\r\n",
      "Epoch: 1 cost time: 344.02545166015625\r\n",
      "Epoch: 1, Steps: 284 | Train Loss: 0.9477274 Vali Loss: 0.6390595 Test Loss: 0.5135384\r\n",
      "Validation loss decreased (inf --> 0.639060).  Saving model ...\r\n",
      "Updating learning rate to 0.0001\r\n",
      "\titers: 100, epoch: 2 | loss: 0.6310247\r\n",
      "\tspeed: 2.7739s/iter; left time: 2876.5064s\r\n",
      "\titers: 200, epoch: 2 | loss: 0.4004315\r\n",
      "\tspeed: 1.2200s/iter; left time: 1143.1277s\r\n",
      "Epoch: 2 cost time: 345.9015302658081\r\n",
      "Epoch: 2, Steps: 284 | Train Loss: 0.4858512 Vali Loss: 0.3982258 Test Loss: 0.1624506\r\n",
      "Validation loss decreased (0.639060 --> 0.398226).  Saving model ...\r\n",
      "Updating learning rate to 0.0001\r\n",
      "\titers: 100, epoch: 3 | loss: 0.4735448\r\n",
      "\tspeed: 2.7995s/iter; left time: 2108.0611s\r\n",
      "\titers: 200, epoch: 3 | loss: 0.3824500\r\n",
      "\tspeed: 1.2170s/iter; left time: 794.6838s\r\n",
      "Epoch: 3 cost time: 346.03364849090576\r\n",
      "Epoch: 3, Steps: 284 | Train Loss: 0.4295113 Vali Loss: 0.3902224 Test Loss: 0.1581929\r\n",
      "Validation loss decreased (0.398226 --> 0.390222).  Saving model ...\r\n",
      "Updating learning rate to 0.0001\r\n",
      "\titers: 100, epoch: 4 | loss: 0.4145046\r\n",
      "\tspeed: 2.7842s/iter; left time: 1305.7995s\r\n",
      "\titers: 200, epoch: 4 | loss: 0.3266690\r\n",
      "\tspeed: 1.2102s/iter; left time: 446.5575s\r\n",
      "Epoch: 4 cost time: 343.5089371204376\r\n",
      "Epoch: 4, Steps: 284 | Train Loss: 0.4231337 Vali Loss: 0.3902161 Test Loss: 0.1540431\r\n",
      "Validation loss decreased (0.390222 --> 0.390216).  Saving model ...\r\n",
      "Updating learning rate to 9e-05\r\n",
      "\titers: 100, epoch: 5 | loss: 0.9077821\r\n",
      "\tspeed: 2.7860s/iter; left time: 515.4016s\r\n",
      "\titers: 200, epoch: 5 | loss: 0.4180262\r\n",
      "\tspeed: 1.2218s/iter; left time: 103.8493s\r\n",
      "Epoch: 5 cost time: 345.58585834503174\r\n",
      "Epoch: 5, Steps: 284 | Train Loss: 0.4167900 Vali Loss: 0.3849314 Test Loss: 0.1504630\r\n",
      "Validation loss decreased (0.390216 --> 0.384931).  Saving model ...\r\n",
      "Updating learning rate to 8.1e-05\r\n",
      ">>>>>>>testing : weather_336_96_small_large_PatchTST_custom_ftM_sl336_ll48_pl96_dm128_nh16_el3_dl1_df256_fc1_ebtimeF_dtTrue_Exp_0<<<<<<<<<<<<<<<<<<<<<<<<<<<<<<<<<\r\n",
      "test 10444\r\n",
      "mse:0.15046298503875732, mae:0.20863749086856842, rse:0.511004626750946\r\n"
     ]
    }
   ],
   "source": [
    "!python run_longExp.py \\\n",
    "    --random_seed 2021 \\\n",
    "    --is_training 1 \\\n",
    "    --root_path ./dataset/ \\\n",
    "    --data_path weather.csv \\\n",
    "    --model_id weather_336_96_small_large \\\n",
    "    --model PatchTST \\\n",
    "    --data custom \\\n",
    "    --features M \\\n",
    "    --seq_len 336 \\\n",
    "    --pred_len 96 \\\n",
    "    --enc_in 21 \\\n",
    "    --e_layers 3 \\\n",
    "    --n_heads 16 \\\n",
    "    --d_model 128 \\\n",
    "    --d_ff 256 \\\n",
    "    --dropout 0.2 \\\n",
    "    --fc_dropout 0.2 \\\n",
    "    --head_dropout 0 \\\n",
    "    --patch_len 16 \\\n",
    "    --stride 8 \\\n",
    "    --des 'Exp' \\\n",
    "    --train_epochs 5 \\\n",
    "    --patience 20 \\\n",
    "    --itr 1 \\\n",
    "    --batch_size 128 \\\n",
    "    --learning_rate 0.0001 \\\n",
    "    --multi_scale small large"
   ]
  },
  {
   "cell_type": "code",
   "execution_count": 17,
   "id": "e4408273",
   "metadata": {
    "execution": {
     "iopub.execute_input": "2025-10-04T17:16:19.934382Z",
     "iopub.status.busy": "2025-10-04T17:16:19.934148Z",
     "iopub.status.idle": "2025-10-04T18:01:12.472959Z",
     "shell.execute_reply": "2025-10-04T18:01:12.471821Z"
    },
    "papermill": {
     "duration": 2692.552455,
     "end_time": "2025-10-04T18:01:12.474616",
     "exception": false,
     "start_time": "2025-10-04T17:16:19.922161",
     "status": "completed"
    },
    "tags": []
   },
   "outputs": [
    {
     "name": "stdout",
     "output_type": "stream",
     "text": [
      "Args in experiment:\r\n",
      "Namespace(random_seed=2021, is_training=1, model_id='weather_336_96_all', model='PatchTST', data='custom', root_path='./dataset/', data_path='weather.csv', features='M', target='OT', freq='h', checkpoints='./checkpoints/', seq_len=336, label_len=48, pred_len=96, fc_dropout=0.2, head_dropout=0.0, patch_len=16, stride=8, padding_patch='end', revin=1, affine=0, subtract_last=0, decomposition=0, kernel_size=25, individual=0, embed_type=0, enc_in=21, dec_in=7, c_out=7, d_model=128, n_heads=16, e_layers=3, d_layers=1, d_ff=256, moving_avg=25, factor=1, distil=True, dropout=0.2, embed='timeF', activation='gelu', output_attention=False, do_predict=False, num_workers=10, itr=1, train_epochs=5, batch_size=128, patience=20, learning_rate=0.0001, des='Exp', loss='mse', lradj='type3', pct_start=0.3, use_amp=False, use_gpu=True, gpu=0, use_multi_gpu=False, devices='0,1,2,3', test_flop=False, multi_scale=[])\r\n",
      "Use GPU: cuda:0\r\n",
      "PatchTST Multi-Scale Configuration: ['small', 'medium', 'large']\r\n",
      "Using scales: ['small', 'medium', 'large']\r\n",
      "Patch sizes: [8, 16, 32]\r\n",
      "Strides: [4, 8, 16]\r\n",
      ">>>>>>>start training : weather_336_96_all_PatchTST_custom_ftM_sl336_ll48_pl96_dm128_nh16_el3_dl1_df256_fc1_ebtimeF_dtTrue_Exp_0>>>>>>>>>>>>>>>>>>>>>>>>>>\r\n",
      "train 36456\r\n",
      "val 5175\r\n",
      "test 10444\r\n",
      "\titers: 100, epoch: 1 | loss: 0.9817778\r\n",
      "\tspeed: 1.6150s/iter; left time: 2133.4518s\r\n",
      "\titers: 200, epoch: 1 | loss: 1.0474925\r\n",
      "\tspeed: 1.5946s/iter; left time: 1947.0411s\r\n",
      "Epoch: 1 cost time: 454.99312472343445\r\n",
      "Epoch: 1, Steps: 284 | Train Loss: 1.0018399 Vali Loss: 0.6455973 Test Loss: 0.5430763\r\n",
      "Validation loss decreased (inf --> 0.645597).  Saving model ...\r\n",
      "Updating learning rate to 0.0001\r\n",
      "\titers: 100, epoch: 2 | loss: 0.7199473\r\n",
      "\tspeed: 3.6745s/iter; left time: 3810.4143s\r\n",
      "\titers: 200, epoch: 2 | loss: 0.3599611\r\n",
      "\tspeed: 1.6013s/iter; left time: 1500.3775s\r\n",
      "Epoch: 2 cost time: 455.0436396598816\r\n",
      "Epoch: 2, Steps: 284 | Train Loss: 0.4778891 Vali Loss: 0.3953384 Test Loss: 0.1635100\r\n",
      "Validation loss decreased (0.645597 --> 0.395338).  Saving model ...\r\n",
      "Updating learning rate to 0.0001\r\n",
      "\titers: 100, epoch: 3 | loss: 0.6823834\r\n",
      "\tspeed: 3.6839s/iter; left time: 2773.9659s\r\n",
      "\titers: 200, epoch: 3 | loss: 0.3276150\r\n",
      "\tspeed: 1.6066s/iter; left time: 1049.0954s\r\n",
      "Epoch: 3 cost time: 455.01004815101624\r\n",
      "Epoch: 3, Steps: 284 | Train Loss: 0.4299936 Vali Loss: 0.3883348 Test Loss: 0.1581056\r\n",
      "Validation loss decreased (0.395338 --> 0.388335).  Saving model ...\r\n",
      "Updating learning rate to 0.0001\r\n",
      "\titers: 100, epoch: 4 | loss: 0.3698387\r\n",
      "\tspeed: 3.6692s/iter; left time: 1720.8698s\r\n",
      "\titers: 200, epoch: 4 | loss: 0.3441161\r\n",
      "\tspeed: 1.5969s/iter; left time: 589.2577s\r\n",
      "Epoch: 4 cost time: 454.246378660202\r\n",
      "Epoch: 4, Steps: 284 | Train Loss: 0.4219994 Vali Loss: 0.3863520 Test Loss: 0.1529780\r\n",
      "Validation loss decreased (0.388335 --> 0.386352).  Saving model ...\r\n",
      "Updating learning rate to 9e-05\r\n",
      "\titers: 100, epoch: 5 | loss: 0.4660363\r\n",
      "\tspeed: 3.6665s/iter; left time: 678.3091s\r\n",
      "\titers: 200, epoch: 5 | loss: 0.6039929\r\n",
      "\tspeed: 1.6088s/iter; left time: 136.7496s\r\n",
      "Epoch: 5 cost time: 455.29290866851807\r\n",
      "Epoch: 5, Steps: 284 | Train Loss: 0.4153638 Vali Loss: 0.3873257 Test Loss: 0.1509911\r\n",
      "EarlyStopping counter: 1 out of 20\r\n",
      "Updating learning rate to 8.1e-05\r\n",
      ">>>>>>>testing : weather_336_96_all_PatchTST_custom_ftM_sl336_ll48_pl96_dm128_nh16_el3_dl1_df256_fc1_ebtimeF_dtTrue_Exp_0<<<<<<<<<<<<<<<<<<<<<<<<<<<<<<<<<\r\n",
      "test 10444\r\n",
      "mse:0.1529780477285385, mae:0.21022827923297882, rse:0.5152577757835388\r\n"
     ]
    }
   ],
   "source": [
    "!python run_longExp.py \\\n",
    "    --random_seed 2021 \\\n",
    "    --is_training 1 \\\n",
    "    --root_path ./dataset/ \\\n",
    "    --data_path weather.csv \\\n",
    "    --model_id weather_336_96_all \\\n",
    "    --model PatchTST \\\n",
    "    --data custom \\\n",
    "    --features M \\\n",
    "    --seq_len 336 \\\n",
    "    --pred_len 96 \\\n",
    "    --enc_in 21 \\\n",
    "    --e_layers 3 \\\n",
    "    --n_heads 16 \\\n",
    "    --d_model 128 \\\n",
    "    --d_ff 256 \\\n",
    "    --dropout 0.2 \\\n",
    "    --fc_dropout 0.2 \\\n",
    "    --head_dropout 0 \\\n",
    "    --patch_len 16 \\\n",
    "    --stride 8 \\\n",
    "    --des 'Exp' \\\n",
    "    --train_epochs 5 \\\n",
    "    --patience 20 \\\n",
    "    --itr 1 \\\n",
    "    --batch_size 128 \\\n",
    "    --learning_rate 0.0001 \\\n",
    "    --multi_scale"
   ]
  }
 ],
 "metadata": {
  "kaggle": {
   "accelerator": "nvidiaTeslaT4",
   "dataSources": [
    {
     "datasetId": 8202323,
     "sourceId": 12960319,
     "sourceType": "datasetVersion"
    }
   ],
   "dockerImageVersionId": 31090,
   "isGpuEnabled": true,
   "isInternetEnabled": true,
   "language": "python",
   "sourceType": "notebook"
  },
  "kernelspec": {
   "display_name": "Python 3",
   "language": "python",
   "name": "python3"
  },
  "language_info": {
   "codemirror_mode": {
    "name": "ipython",
    "version": 3
   },
   "file_extension": ".py",
   "mimetype": "text/x-python",
   "name": "python",
   "nbconvert_exporter": "python",
   "pygments_lexer": "ipython3",
   "version": "3.11.13"
  },
  "papermill": {
   "default_parameters": {},
   "duration": 11465.748889,
   "end_time": "2025-10-04T18:01:12.918996",
   "environment_variables": {},
   "exception": null,
   "input_path": "__notebook__.ipynb",
   "output_path": "__notebook__.ipynb",
   "parameters": {},
   "start_time": "2025-10-04T14:50:07.170107",
   "version": "2.6.0"
  }
 },
 "nbformat": 4,
 "nbformat_minor": 5
}
