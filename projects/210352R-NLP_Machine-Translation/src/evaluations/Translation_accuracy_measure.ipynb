{
  "nbformat": 4,
  "nbformat_minor": 0,
  "metadata": {
    "colab": {
      "provenance": [],
      "gpuType": "T4"
    },
    "kernelspec": {
      "name": "python3",
      "display_name": "Python 3"
    },
    "language_info": {
      "name": "python"
    },
    "accelerator": "GPU"
  },
  "cells": [
    {
      "cell_type": "code",
      "execution_count": 1,
      "metadata": {
        "id": "v7uvHIZLLHZL"
      },
      "outputs": [],
      "source": [
        "from transformers import AutoTokenizer, AutoModelForSeq2SeqLM"
      ]
    },
    {
      "cell_type": "code",
      "source": [
        "# Load your model from Hugging Face Hub\n",
        "model_name = \"Eshan210352R/mt5-small-instruct-ft-lora\""
      ],
      "metadata": {
        "id": "UHuEgrlBLLdz"
      },
      "execution_count": 2,
      "outputs": []
    },
    {
      "cell_type": "code",
      "source": [],
      "metadata": {
        "id": "t6LfHIWDTO3F"
      },
      "execution_count": 2,
      "outputs": []
    },
    {
      "cell_type": "code",
      "source": [
        "tokenizer = AutoTokenizer.from_pretrained(model_name)\n",
        "model = AutoModelForSeq2SeqLM.from_pretrained(model_name)\n",
        "\n"
      ],
      "metadata": {
        "colab": {
          "base_uri": "https://localhost:8080/"
        },
        "id": "doYqJMV8LTSp",
        "outputId": "f4637ccb-f656-400b-971f-0ace77d33208"
      },
      "execution_count": 3,
      "outputs": [
        {
          "output_type": "stream",
          "name": "stderr",
          "text": [
            "/usr/local/lib/python3.12/dist-packages/huggingface_hub/utils/_auth.py:94: UserWarning: \n",
            "The secret `HF_TOKEN` does not exist in your Colab secrets.\n",
            "To authenticate with the Hugging Face Hub, create a token in your settings tab (https://huggingface.co/settings/tokens), set it as secret in your Google Colab and restart your session.\n",
            "You will be able to reuse this secret in all of your notebooks.\n",
            "Please note that authentication is recommended but still optional to access public models or datasets.\n",
            "  warnings.warn(\n"
          ]
        }
      ]
    },
    {
      "cell_type": "code",
      "source": [
        "import torch\n",
        "device = torch.device(\"cuda\" if torch.cuda.is_available() else \"cpu\")\n",
        "model = model.to(device)"
      ],
      "metadata": {
        "id": "MiI3DZghTXyt"
      },
      "execution_count": 4,
      "outputs": []
    },
    {
      "cell_type": "code",
      "source": [
        "def translate(text: str, source_lang: str, target_lang: str, max_length: int = 128) -> str:\n",
        "    input_text = f\"translate {source_lang} to {target_lang}: {text}\"\n",
        "    inputs = tokenizer(input_text, return_tensors=\"pt\", truncation=True, max_length=max_length).to(device)\n",
        "\n",
        "    with torch.no_grad():\n",
        "        outputs = model.generate(\n",
        "            **inputs,\n",
        "            max_new_tokens=max_length,\n",
        "            num_beams=4,\n",
        "            early_stopping=True\n",
        "        )\n",
        "\n",
        "    translated = tokenizer.decode(outputs[0], skip_special_tokens=True)\n",
        "    return translated\n",
        "\n",
        "\n"
      ],
      "metadata": {
        "id": "cLBU4nJdTXBF"
      },
      "execution_count": 5,
      "outputs": []
    },
    {
      "cell_type": "code",
      "source": [
        "# English → French\n",
        "en_text = \"How are you today?\"\n",
        "fr_translation = translate(en_text, \"English\", \"French\")\n",
        "print(\"EN → FR:\", fr_translation)"
      ],
      "metadata": {
        "id": "eUMS0xvILW9U",
        "colab": {
          "base_uri": "https://localhost:8080/"
        },
        "outputId": "d89b31c9-4e32-4bf2-9362-3ddf0995c529"
      },
      "execution_count": 6,
      "outputs": [
        {
          "output_type": "stream",
          "name": "stdout",
          "text": [
            "EN → FR: Vous êtes aujourd'hui?\n"
          ]
        }
      ]
    },
    {
      "cell_type": "code",
      "source": [
        "from datasets import load_dataset"
      ],
      "metadata": {
        "id": "wat2cvvvPyK1"
      },
      "execution_count": 7,
      "outputs": []
    },
    {
      "cell_type": "code",
      "source": [
        "# ===============================\n",
        "# Load OPUS-100 en-fr dataset\n",
        "# ===============================\n",
        "dataset = load_dataset(\"opus100\", \"en-fr\")[\"train\"].select(range(100))"
      ],
      "metadata": {
        "id": "SL2-TALeX2v1"
      },
      "execution_count": 8,
      "outputs": []
    },
    {
      "cell_type": "code",
      "source": [
        "# ===============================\n",
        "# Translate and collect outputs\n",
        "# ===============================\n",
        "source_texts = dataset[\"translation\"]\n",
        "english_sentences = [item[\"en\"] for item in source_texts]\n",
        "reference_french_sentences = [item[\"fr\"] for item in source_texts]"
      ],
      "metadata": {
        "id": "D85efO1hPv4_"
      },
      "execution_count": 9,
      "outputs": []
    },
    {
      "cell_type": "code",
      "source": [
        "predicted_french_sentences = []"
      ],
      "metadata": {
        "id": "KMGwPjmfQAHW"
      },
      "execution_count": 10,
      "outputs": []
    },
    {
      "cell_type": "code",
      "source": [
        "print(\"Translating 1000 English sentences using fine-tuned mT5...\\n\")"
      ],
      "metadata": {
        "colab": {
          "base_uri": "https://localhost:8080/"
        },
        "id": "LKbvIK27QHqw",
        "outputId": "a7ab815d-b481-4f47-df7b-26e08b26fff5"
      },
      "execution_count": 11,
      "outputs": [
        {
          "output_type": "stream",
          "name": "stdout",
          "text": [
            "Translating 1000 English sentences using fine-tuned mT5...\n",
            "\n"
          ]
        }
      ]
    },
    {
      "cell_type": "code",
      "source": [
        "from tqdm import tqdm"
      ],
      "metadata": {
        "id": "0gpu_H__QRi0"
      },
      "execution_count": 12,
      "outputs": []
    },
    {
      "cell_type": "code",
      "source": [
        "for sent in tqdm(english_sentences):\n",
        "    translated = translate(sent, \"English\", \"French\")\n",
        "    predicted_french_sentences.append(translated)"
      ],
      "metadata": {
        "colab": {
          "base_uri": "https://localhost:8080/"
        },
        "id": "Ywo016y9QKBb",
        "outputId": "6c39c3b6-7fae-41cd-abd7-e8abab311b1d"
      },
      "execution_count": 13,
      "outputs": [
        {
          "output_type": "stream",
          "name": "stderr",
          "text": [
            "100%|██████████| 100/100 [00:46<00:00,  2.16it/s]\n"
          ]
        }
      ]
    },
    {
      "cell_type": "code",
      "source": [
        "predicted_french_sentences\n"
      ],
      "metadata": {
        "colab": {
          "base_uri": "https://localhost:8080/"
        },
        "id": "R-d4AS8uQPkM",
        "outputId": "1b1df452-1c29-40c5-8be5-7c87187071ad"
      },
      "execution_count": 14,
      "outputs": [
        {
          "output_type": "execute_result",
          "data": {
            "text/plain": [
              "['Le temps est 05:08.',\n",
              " \"Cette Regulation doit être en force sur le sixième jour de la publication en l'Journal de la Union.\",\n",
              " \"Bonjour, ce n'est pas ça?\",\n",
              " 'Je vous apprends tout ce que tu connais.',\n",
              " 'Vous avez trouver un chose?',\n",
              " 'Article 6',\n",
              " \"Oh, honey, il n'est pas vous fault.\",\n",
              " 'Je suis à lui maintenant.',\n",
              " \"DG XVI, Internet site (electronic address: http://www.cec.lu/en/comm/dg16/dg16home.html) a été publié dans toutes langues de l'Union Européenne.\",\n",
              " \"Je n'est pas.\",\n",
              " 'Steven, quand vous avez écrit ?',\n",
              " 'Afrique et Other States Group (monthly meeting)',\n",
              " \"Je suis à l'aide de leurs enfants.\",\n",
              " 'Oui!',\n",
              " 'Oh, sorry.',\n",
              " \"Je n'ai pas pas arrêter.\",\n",
              " \"Quand vous avez l'accord?\",\n",
              " \"Where's Prue?\",\n",
              " 'Mais mère, elle peut être un important.',\n",
              " \"Irisa n'est pas le type de coddling.\",\n",
              " 'ANNEX',\n",
              " 'Vous êtes à Talley?',\n",
              " \"Je n'ai l'air.\",\n",
              " 'Quand a Matt expliqué?',\n",
              " 'Tout de Part One',\n",
              " '- Quel est ce?',\n",
              " \"Je suis à l'hôpital.\",\n",
              " \"'Intérêt public peut être à l'usage d'une clause d'une clause d'une clause de l'autorité de la Directive.\",\n",
              " 'S (4)',\n",
              " 'Je connais mon job.',\n",
              " 'Bobby.',\n",
              " '- Je ne connais pas.',\n",
              " \"Oui, c'est ça.\",\n",
              " 'Ah, gross.',\n",
              " \"Je suis à l'heure.\",\n",
              " 'Vous voulez thunder?',\n",
              " \"Je n'est pas meilleur.\",\n",
              " 'My man.',\n",
              " 'Les amendments sont proposés pour amender : 1 .',\n",
              " \"Quand tu n'est pas à l'accord, je suis à l'accord.\",\n",
              " \"Cette Parti peut decider sur la publication de l'instruction et les recommandations de la Stabilisation et de la Association de l'Association de l'Assemblée et de la Association de l'Assemblée.\",\n",
              " \"- Il n'est pas assez de chiens...\",\n",
              " 'Je... vous...',\n",
              " 'Il ne peut pas être pas satisfait avec une remuneration dépendante de la capitale.',\n",
              " \"Je appelle Harold Larkin et le chef de l'administration de l'administration.\",\n",
              " 'No.',\n",
              " \"Vous êtes à l'époque ?\",\n",
              " 'Ray:',\n",
              " 'Day _ends:',\n",
              " \"Je n'aime pas trouver.\",\n",
              " '- Oh, je connais.',\n",
              " \"Vous avez l'accord avec vous si tu n'aime pas.\",\n",
              " 'Saarland',\n",
              " '- Vous connaissez Brittany?',\n",
              " \"Il n'est pas à l'homme; et Allah est Merci, Merci.\",\n",
              " \"Je n'ai pas un ride.\",\n",
              " 'Quand vous avez été ?',\n",
              " \"Nous, aujourd'hui!\",\n",
              " 'Attaboy.',\n",
              " 'Quand je suis ?',\n",
              " 'JADI AND AL BARAKAAT INTERNATIONAL FOUNDATION v COUNCIL et COMMISSION',\n",
              " 'Il est aussi un doctor.',\n",
              " 'Le Journal de la Communauté Européenne',\n",
              " '\"Je suis à l\\'aide.',\n",
              " \"Les destinations à l'exportation des exportateurs sont considérées à l'exportation des exportateurs à l'exportation des quantités meilleures quantités sont à l'Ukraine, Tunisie, Tunisie et l'Iran.\",\n",
              " \"Nous exigeons l'evidence.\",\n",
              " 'Vous avez été à vous.',\n",
              " \"Le point est, après Dr. Statler était à travail pour vous, le nombre de morts que vous avait attribué à l'accident de l'accident de l'accident de l'accident de l'accident de l'accident de l'accident de l'accident de l'accident de l'accident de l'accident de l'accident de l'accident de l'accident de l'accident de l'accident de l'accident de l'accident de l'accident\",\n",
              " \"Rebecca, qu'est ce qui ?\",\n",
              " \"Je suis à l'aide.\",\n",
              " 'Cette decision doit être effectuée sur la date de son adoption.',\n",
              " 'Oui, ce watch est worth de $ 1100.',\n",
              " 'Vous ne avez pas été arrestés?',\n",
              " \"No, Dad, je n'ai pas pas cocoa.\",\n",
              " 'Oui.',\n",
              " 'Le père:',\n",
              " 'Coûts [3] (EUR/tonne)',\n",
              " \"Tous les qui sont à l'aide de l'électricité, comme à l'altitude.\",\n",
              " 'Mitch...',\n",
              " 'Vous avez vous ?',\n",
              " \"Vous avez l'accord.\",\n",
              " \"Le code de l'application\",\n",
              " 'Policie!',\n",
              " 'Oui, merci.',\n",
              " \"En raison de l'efficacité pharmacologique, rivastigmine ne peut pas être utilisée concomitantement avec autres substances et peut être utilisée avec autres substances anticholinergics.\",\n",
              " '- Je aime ce ballet.',\n",
              " 'Je ne suis pas.',\n",
              " '- Les protestants sont à identifier les protestants à leurs fronts.',\n",
              " '_Copy Contact à...',\n",
              " '- Que vous avez fait ?',\n",
              " '- I love you.',\n",
              " 'Vous ne connais pas ce que vous avez entender.',\n",
              " \"Je suis très triste que je n'ai pas été à l'hôpital.\",\n",
              " 'Vous êtes.',\n",
              " 'Je suis avec moi.',\n",
              " 'Projets de projets',\n",
              " 'Il est L.A.',\n",
              " 'Bernard?',\n",
              " 'Quand le marché ? Nous ne ont pas trouvé.',\n",
              " '- Wait.']"
            ]
          },
          "metadata": {},
          "execution_count": 14
        }
      ]
    },
    {
      "cell_type": "code",
      "source": [
        "!pip install sacrebleu\n"
      ],
      "metadata": {
        "colab": {
          "base_uri": "https://localhost:8080/"
        },
        "id": "7edUiIN9UJ81",
        "outputId": "d842f711-2a73-4eb1-cf3d-2985d3870a51"
      },
      "execution_count": 15,
      "outputs": [
        {
          "output_type": "stream",
          "name": "stdout",
          "text": [
            "Requirement already satisfied: sacrebleu in /usr/local/lib/python3.12/dist-packages (2.5.1)\n",
            "Requirement already satisfied: portalocker in /usr/local/lib/python3.12/dist-packages (from sacrebleu) (3.2.0)\n",
            "Requirement already satisfied: regex in /usr/local/lib/python3.12/dist-packages (from sacrebleu) (2024.11.6)\n",
            "Requirement already satisfied: tabulate>=0.8.9 in /usr/local/lib/python3.12/dist-packages (from sacrebleu) (0.9.0)\n",
            "Requirement already satisfied: numpy>=1.17 in /usr/local/lib/python3.12/dist-packages (from sacrebleu) (2.0.2)\n",
            "Requirement already satisfied: colorama in /usr/local/lib/python3.12/dist-packages (from sacrebleu) (0.4.6)\n",
            "Requirement already satisfied: lxml in /usr/local/lib/python3.12/dist-packages (from sacrebleu) (5.4.0)\n"
          ]
        }
      ]
    },
    {
      "cell_type": "code",
      "source": [
        "import sacrebleu"
      ],
      "metadata": {
        "id": "AhrFfMb3UGB1"
      },
      "execution_count": 16,
      "outputs": []
    },
    {
      "cell_type": "code",
      "source": [
        "# ===============================\n",
        "# Compute BLEU score using SacreBLEU\n",
        "# ===============================\n",
        "# SacreBLEU expects a list of references for each sentence\n",
        "references = [[ref] for ref in reference_french_sentences]  # nested list\n",
        "bleu = sacrebleu.corpus_bleu(predicted_french_sentences, references)"
      ],
      "metadata": {
        "id": "IyHHl0wyT-q1"
      },
      "execution_count": 17,
      "outputs": []
    },
    {
      "cell_type": "code",
      "source": [
        "print(\"\\n===== BLEU Score =====\")\n",
        "print(f\"BLEU: {bleu.score:.2f}\")"
      ],
      "metadata": {
        "colab": {
          "base_uri": "https://localhost:8080/"
        },
        "id": "ftXa07dIUDOb",
        "outputId": "dd0b6aae-faaf-4d56-93b2-8e7a38d49bbd"
      },
      "execution_count": 18,
      "outputs": [
        {
          "output_type": "stream",
          "name": "stdout",
          "text": [
            "\n",
            "===== BLEU Score =====\n",
            "BLEU: 16.52\n"
          ]
        }
      ]
    },
    {
      "cell_type": "code",
      "source": [],
      "metadata": {
        "id": "Igj-xqOFUY2Z"
      },
      "execution_count": 18,
      "outputs": []
    }
  ]
}