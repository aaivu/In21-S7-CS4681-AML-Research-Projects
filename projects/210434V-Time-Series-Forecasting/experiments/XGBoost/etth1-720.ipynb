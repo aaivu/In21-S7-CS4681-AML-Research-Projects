{
 "cells": [
  {
   "cell_type": "markdown",
   "id": "21c639d7",
   "metadata": {
    "id": "T7dYEMOYAatB",
    "papermill": {
     "duration": 0.003681,
     "end_time": "2025-10-03T16:23:43.322766",
     "exception": false,
     "start_time": "2025-10-03T16:23:43.319085",
     "status": "completed"
    },
    "tags": []
   },
   "source": [
    "*italicized text*# ETTh1 Univariate Forecasting (H=720)\n",
    "\n",
    "This notebook implements the **Boosted Hybrid Model**:\n",
    "- Sinusoidal Regressor (linear regression with sine/cos features)\n",
    "- Residual modeling with XGBoost\n",
    "\n",
    "Dataset: **ETTh1 (hourly data)**, univariate forecasting with horizon H=720.\n"
   ]
  },
  {
   "cell_type": "code",
   "execution_count": 1,
   "id": "210b7475",
   "metadata": {
    "execution": {
     "iopub.execute_input": "2025-10-03T16:23:43.330670Z",
     "iopub.status.busy": "2025-10-03T16:23:43.330335Z",
     "iopub.status.idle": "2025-10-03T16:23:47.539959Z",
     "shell.execute_reply": "2025-10-03T16:23:47.539024Z"
    },
    "id": "wSbQWaBJAatD",
    "papermill": {
     "duration": 4.215448,
     "end_time": "2025-10-03T16:23:47.541740",
     "exception": false,
     "start_time": "2025-10-03T16:23:43.326292",
     "status": "completed"
    },
    "tags": []
   },
   "outputs": [],
   "source": [
    "\n",
    "import numpy as np\n",
    "import pandas as pd\n",
    "import matplotlib.pyplot as plt\n",
    "\n",
    "from sklearn.linear_model import LinearRegression\n",
    "from sklearn.metrics import mean_squared_error, mean_absolute_error\n",
    "import xgboost as xgb\n",
    "\n",
    "# For reproducibility\n",
    "np.random.seed(42)\n"
   ]
  },
  {
   "cell_type": "code",
   "execution_count": 2,
   "id": "f25aad58",
   "metadata": {
    "execution": {
     "iopub.execute_input": "2025-10-03T16:23:47.549388Z",
     "iopub.status.busy": "2025-10-03T16:23:47.548946Z",
     "iopub.status.idle": "2025-10-03T16:23:47.672501Z",
     "shell.execute_reply": "2025-10-03T16:23:47.671454Z"
    },
    "id": "Vl0p-i88AatE",
    "outputId": "acc9a360-9f36-4522-d690-d13ae8c33c46",
    "papermill": {
     "duration": 0.129095,
     "end_time": "2025-10-03T16:23:47.674173",
     "exception": false,
     "start_time": "2025-10-03T16:23:47.545078",
     "status": "completed"
    },
    "tags": []
   },
   "outputs": [
    {
     "name": "stdout",
     "output_type": "stream",
     "text": [
      "Columns: Index(['date', 'HUFL', 'HULL', 'MUFL', 'MULL', 'LUFL', 'LULL', 'OT'], dtype='object')\n",
      "Shape: (17420, 8)\n"
     ]
    },
    {
     "data": {
      "text/html": [
       "<div>\n",
       "<style scoped>\n",
       "    .dataframe tbody tr th:only-of-type {\n",
       "        vertical-align: middle;\n",
       "    }\n",
       "\n",
       "    .dataframe tbody tr th {\n",
       "        vertical-align: top;\n",
       "    }\n",
       "\n",
       "    .dataframe thead th {\n",
       "        text-align: right;\n",
       "    }\n",
       "</style>\n",
       "<table border=\"1\" class=\"dataframe\">\n",
       "  <thead>\n",
       "    <tr style=\"text-align: right;\">\n",
       "      <th></th>\n",
       "      <th>date</th>\n",
       "      <th>HUFL</th>\n",
       "      <th>HULL</th>\n",
       "      <th>MUFL</th>\n",
       "      <th>MULL</th>\n",
       "      <th>LUFL</th>\n",
       "      <th>LULL</th>\n",
       "      <th>OT</th>\n",
       "    </tr>\n",
       "  </thead>\n",
       "  <tbody>\n",
       "    <tr>\n",
       "      <th>0</th>\n",
       "      <td>2016-07-01 00:00:00</td>\n",
       "      <td>5.827</td>\n",
       "      <td>2.009</td>\n",
       "      <td>1.599</td>\n",
       "      <td>0.462</td>\n",
       "      <td>4.203</td>\n",
       "      <td>1.340</td>\n",
       "      <td>30.531000</td>\n",
       "    </tr>\n",
       "    <tr>\n",
       "      <th>1</th>\n",
       "      <td>2016-07-01 01:00:00</td>\n",
       "      <td>5.693</td>\n",
       "      <td>2.076</td>\n",
       "      <td>1.492</td>\n",
       "      <td>0.426</td>\n",
       "      <td>4.142</td>\n",
       "      <td>1.371</td>\n",
       "      <td>27.787001</td>\n",
       "    </tr>\n",
       "    <tr>\n",
       "      <th>2</th>\n",
       "      <td>2016-07-01 02:00:00</td>\n",
       "      <td>5.157</td>\n",
       "      <td>1.741</td>\n",
       "      <td>1.279</td>\n",
       "      <td>0.355</td>\n",
       "      <td>3.777</td>\n",
       "      <td>1.218</td>\n",
       "      <td>27.787001</td>\n",
       "    </tr>\n",
       "    <tr>\n",
       "      <th>3</th>\n",
       "      <td>2016-07-01 03:00:00</td>\n",
       "      <td>5.090</td>\n",
       "      <td>1.942</td>\n",
       "      <td>1.279</td>\n",
       "      <td>0.391</td>\n",
       "      <td>3.807</td>\n",
       "      <td>1.279</td>\n",
       "      <td>25.044001</td>\n",
       "    </tr>\n",
       "    <tr>\n",
       "      <th>4</th>\n",
       "      <td>2016-07-01 04:00:00</td>\n",
       "      <td>5.358</td>\n",
       "      <td>1.942</td>\n",
       "      <td>1.492</td>\n",
       "      <td>0.462</td>\n",
       "      <td>3.868</td>\n",
       "      <td>1.279</td>\n",
       "      <td>21.948000</td>\n",
       "    </tr>\n",
       "  </tbody>\n",
       "</table>\n",
       "</div>"
      ],
      "text/plain": [
       "                  date   HUFL   HULL   MUFL   MULL   LUFL   LULL         OT\n",
       "0  2016-07-01 00:00:00  5.827  2.009  1.599  0.462  4.203  1.340  30.531000\n",
       "1  2016-07-01 01:00:00  5.693  2.076  1.492  0.426  4.142  1.371  27.787001\n",
       "2  2016-07-01 02:00:00  5.157  1.741  1.279  0.355  3.777  1.218  27.787001\n",
       "3  2016-07-01 03:00:00  5.090  1.942  1.279  0.391  3.807  1.279  25.044001\n",
       "4  2016-07-01 04:00:00  5.358  1.942  1.492  0.462  3.868  1.279  21.948000"
      ]
     },
     "execution_count": 2,
     "metadata": {},
     "output_type": "execute_result"
    }
   ],
   "source": [
    "\n",
    "\n",
    "file_path = \"/kaggle/input/ettsmall/ETTh1.csv\"\n",
    "\n",
    "# Load the dataset\n",
    "data = pd.read_csv(file_path)\n",
    "\n",
    "print(\"Columns:\", data.columns)\n",
    "print(\"Shape:\", data.shape)\n",
    "data.head()\n"
   ]
  },
  {
   "cell_type": "code",
   "execution_count": 3,
   "id": "20ff4429",
   "metadata": {
    "execution": {
     "iopub.execute_input": "2025-10-03T16:23:47.683730Z",
     "iopub.status.busy": "2025-10-03T16:23:47.682412Z",
     "iopub.status.idle": "2025-10-03T16:23:47.726526Z",
     "shell.execute_reply": "2025-10-03T16:23:47.725401Z"
    },
    "id": "5F7SSD2jAatE",
    "outputId": "9887e9d8-7e32-4ae7-acb7-3278fed22dcb",
    "papermill": {
     "duration": 0.050296,
     "end_time": "2025-10-03T16:23:47.728262",
     "exception": false,
     "start_time": "2025-10-03T16:23:47.677966",
     "status": "completed"
    },
    "tags": []
   },
   "outputs": [
    {
     "data": {
      "text/html": [
       "<div>\n",
       "<style scoped>\n",
       "    .dataframe tbody tr th:only-of-type {\n",
       "        vertical-align: middle;\n",
       "    }\n",
       "\n",
       "    .dataframe tbody tr th {\n",
       "        vertical-align: top;\n",
       "    }\n",
       "\n",
       "    .dataframe thead th {\n",
       "        text-align: right;\n",
       "    }\n",
       "</style>\n",
       "<table border=\"1\" class=\"dataframe\">\n",
       "  <thead>\n",
       "    <tr style=\"text-align: right;\">\n",
       "      <th></th>\n",
       "      <th>HUFL</th>\n",
       "      <th>HULL</th>\n",
       "      <th>MUFL</th>\n",
       "      <th>MULL</th>\n",
       "      <th>LUFL</th>\n",
       "      <th>LULL</th>\n",
       "      <th>OT</th>\n",
       "    </tr>\n",
       "  </thead>\n",
       "  <tbody>\n",
       "    <tr>\n",
       "      <th>count</th>\n",
       "      <td>17420.000000</td>\n",
       "      <td>17420.000000</td>\n",
       "      <td>17420.000000</td>\n",
       "      <td>17420.000000</td>\n",
       "      <td>17420.000000</td>\n",
       "      <td>17420.000000</td>\n",
       "      <td>17420.000000</td>\n",
       "    </tr>\n",
       "    <tr>\n",
       "      <th>mean</th>\n",
       "      <td>7.375141</td>\n",
       "      <td>2.242242</td>\n",
       "      <td>4.300239</td>\n",
       "      <td>0.881568</td>\n",
       "      <td>3.066062</td>\n",
       "      <td>0.856932</td>\n",
       "      <td>13.324672</td>\n",
       "    </tr>\n",
       "    <tr>\n",
       "      <th>std</th>\n",
       "      <td>7.067744</td>\n",
       "      <td>2.042342</td>\n",
       "      <td>6.826978</td>\n",
       "      <td>1.809293</td>\n",
       "      <td>1.164506</td>\n",
       "      <td>0.599552</td>\n",
       "      <td>8.566946</td>\n",
       "    </tr>\n",
       "    <tr>\n",
       "      <th>min</th>\n",
       "      <td>-22.705999</td>\n",
       "      <td>-4.756000</td>\n",
       "      <td>-25.087999</td>\n",
       "      <td>-5.934000</td>\n",
       "      <td>-1.188000</td>\n",
       "      <td>-1.371000</td>\n",
       "      <td>-4.080000</td>\n",
       "    </tr>\n",
       "    <tr>\n",
       "      <th>25%</th>\n",
       "      <td>5.827000</td>\n",
       "      <td>0.737000</td>\n",
       "      <td>3.296000</td>\n",
       "      <td>-0.284000</td>\n",
       "      <td>2.315000</td>\n",
       "      <td>0.670000</td>\n",
       "      <td>6.964000</td>\n",
       "    </tr>\n",
       "    <tr>\n",
       "      <th>50%</th>\n",
       "      <td>8.774000</td>\n",
       "      <td>2.210000</td>\n",
       "      <td>5.970000</td>\n",
       "      <td>0.959000</td>\n",
       "      <td>2.833000</td>\n",
       "      <td>0.975000</td>\n",
       "      <td>11.396000</td>\n",
       "    </tr>\n",
       "    <tr>\n",
       "      <th>75%</th>\n",
       "      <td>11.788000</td>\n",
       "      <td>3.684000</td>\n",
       "      <td>8.635000</td>\n",
       "      <td>2.203000</td>\n",
       "      <td>3.625000</td>\n",
       "      <td>1.218000</td>\n",
       "      <td>18.079000</td>\n",
       "    </tr>\n",
       "    <tr>\n",
       "      <th>max</th>\n",
       "      <td>23.643999</td>\n",
       "      <td>10.114000</td>\n",
       "      <td>17.341000</td>\n",
       "      <td>7.747000</td>\n",
       "      <td>8.498000</td>\n",
       "      <td>3.046000</td>\n",
       "      <td>46.007000</td>\n",
       "    </tr>\n",
       "  </tbody>\n",
       "</table>\n",
       "</div>"
      ],
      "text/plain": [
       "               HUFL          HULL          MUFL          MULL          LUFL  \\\n",
       "count  17420.000000  17420.000000  17420.000000  17420.000000  17420.000000   \n",
       "mean       7.375141      2.242242      4.300239      0.881568      3.066062   \n",
       "std        7.067744      2.042342      6.826978      1.809293      1.164506   \n",
       "min      -22.705999     -4.756000    -25.087999     -5.934000     -1.188000   \n",
       "25%        5.827000      0.737000      3.296000     -0.284000      2.315000   \n",
       "50%        8.774000      2.210000      5.970000      0.959000      2.833000   \n",
       "75%       11.788000      3.684000      8.635000      2.203000      3.625000   \n",
       "max       23.643999     10.114000     17.341000      7.747000      8.498000   \n",
       "\n",
       "               LULL            OT  \n",
       "count  17420.000000  17420.000000  \n",
       "mean       0.856932     13.324672  \n",
       "std        0.599552      8.566946  \n",
       "min       -1.371000     -4.080000  \n",
       "25%        0.670000      6.964000  \n",
       "50%        0.975000     11.396000  \n",
       "75%        1.218000     18.079000  \n",
       "max        3.046000     46.007000  "
      ]
     },
     "execution_count": 3,
     "metadata": {},
     "output_type": "execute_result"
    }
   ],
   "source": [
    "data.describe()"
   ]
  },
  {
   "cell_type": "code",
   "execution_count": 4,
   "id": "f280a769",
   "metadata": {
    "execution": {
     "iopub.execute_input": "2025-10-03T16:23:47.737057Z",
     "iopub.status.busy": "2025-10-03T16:23:47.736694Z",
     "iopub.status.idle": "2025-10-03T16:23:47.747767Z",
     "shell.execute_reply": "2025-10-03T16:23:47.746597Z"
    },
    "id": "a3vPDSJ5AatF",
    "outputId": "d269fef0-75d9-4482-b55f-041ba7d83c00",
    "papermill": {
     "duration": 0.017374,
     "end_time": "2025-10-03T16:23:47.749572",
     "exception": false,
     "start_time": "2025-10-03T16:23:47.732198",
     "status": "completed"
    },
    "tags": []
   },
   "outputs": [
    {
     "data": {
      "text/plain": [
       "date    0\n",
       "HUFL    0\n",
       "HULL    0\n",
       "MUFL    0\n",
       "MULL    0\n",
       "LUFL    0\n",
       "LULL    0\n",
       "OT      0\n",
       "dtype: int64"
      ]
     },
     "execution_count": 4,
     "metadata": {},
     "output_type": "execute_result"
    }
   ],
   "source": [
    "data.isnull().sum()"
   ]
  },
  {
   "cell_type": "code",
   "execution_count": 5,
   "id": "1d5bd701",
   "metadata": {
    "execution": {
     "iopub.execute_input": "2025-10-03T16:23:47.758710Z",
     "iopub.status.busy": "2025-10-03T16:23:47.758353Z",
     "iopub.status.idle": "2025-10-03T16:23:48.049489Z",
     "shell.execute_reply": "2025-10-03T16:23:48.048409Z"
    },
    "id": "y7yLxZ8mAatF",
    "outputId": "19c5406c-fe2f-4680-ef77-4f03b7a872bf",
    "papermill": {
     "duration": 0.297849,
     "end_time": "2025-10-03T16:23:48.051399",
     "exception": false,
     "start_time": "2025-10-03T16:23:47.753550",
     "status": "completed"
    },
    "tags": []
   },
   "outputs": [
    {
     "data": {
      "image/png": "[encoded data removed]",
      "text/plain": [
       "<Figure size 1200x400 with 1 Axes>"
      ]
     },
     "metadata": {},
     "output_type": "display_data"
    }
   ],
   "source": [
    "\n",
    "# Use univariate column (oil temperature: 'OT')\n",
    "series = data['OT'].values\n",
    "\n",
    "# Normalize (z-score)\n",
    "mean, std = series.mean(), series.std()\n",
    "series_norm = (series - mean) / std\n",
    "\n",
    "plt.figure(figsize=(12,4))\n",
    "plt.plot(series_norm[:1000])\n",
    "plt.title(\"Normalized OT series (first 1000 points)\")\n",
    "plt.show()\n"
   ]
  },
  {
   "cell_type": "code",
   "execution_count": 6,
   "id": "b47c9240",
   "metadata": {
    "execution": {
     "iopub.execute_input": "2025-10-03T16:23:48.063017Z",
     "iopub.status.busy": "2025-10-03T16:23:48.062681Z",
     "iopub.status.idle": "2025-10-03T16:23:48.136902Z",
     "shell.execute_reply": "2025-10-03T16:23:48.135829Z"
    },
    "id": "MNTV2B0SJEva",
    "papermill": {
     "duration": 0.08175,
     "end_time": "2025-10-03T16:23:48.138475",
     "exception": false,
     "start_time": "2025-10-03T16:23:48.056725",
     "status": "completed"
    },
    "tags": []
   },
   "outputs": [
    {
     "name": "stdout",
     "output_type": "stream",
     "text": [
      "X shape: (16532, 168) y shape: (16532, 720)\n",
      "Train: (8640, 168) Val: (2880, 168) Test: (2880, 168)\n"
     ]
    }
   ],
   "source": [
    "\n",
    "def create_dataset(series, input_len=168, horizon=24):\n",
    "    X, y = [], []\n",
    "    for i in range(len(series) - input_len - horizon):\n",
    "        X.append(series[i:i+input_len])\n",
    "        y.append(series[i+input_len:i+input_len+horizon])\n",
    "    return np.array(X), np.array(y)\n",
    "\n",
    "# Configurable horizon\n",
    "horizon = 720\n",
    "input_len = 168  # past window length\n",
    "\n",
    "# Assume series_norm is your normalized univariate series\n",
    "X, y = create_dataset(series_norm, input_len, horizon)\n",
    "print(\"X shape:\", X.shape, \"y shape:\", y.shape)\n",
    "\n",
    "# TS2Vec-style chronological split for ETTh1\n",
    "# Each month ≈ 30 days * 24 hours = 720 time steps\n",
    "train_end = 12 * 30 * 24   # 12 months\n",
    "val_end   = 16 * 30 * 24   # 16 months (12+4)\n",
    "test_end  = 20 * 30 * 24   # 20 months (12+4+4)\n",
    "\n",
    "# Map indices to dataset windows\n",
    "X_train, y_train = X[:train_end], y[:train_end]\n",
    "X_val, y_val     = X[train_end:val_end], y[train_end:val_end]\n",
    "X_test, y_test   = X[val_end:test_end], y[val_end:test_end]\n",
    "\n",
    "print(\"Train:\", X_train.shape, \"Val:\", X_val.shape, \"Test:\", X_test.shape)\n",
    "\n"
   ]
  },
  {
   "cell_type": "code",
   "execution_count": 7,
   "id": "44508f2f",
   "metadata": {
    "execution": {
     "iopub.execute_input": "2025-10-03T16:23:48.150263Z",
     "iopub.status.busy": "2025-10-03T16:23:48.149931Z",
     "iopub.status.idle": "2025-10-03T16:23:48.161077Z",
     "shell.execute_reply": "2025-10-03T16:23:48.159919Z"
    },
    "id": "HnubLT5VAatG",
    "papermill": {
     "duration": 0.01891,
     "end_time": "2025-10-03T16:23:48.162634",
     "exception": false,
     "start_time": "2025-10-03T16:23:48.143724",
     "status": "completed"
    },
    "tags": []
   },
   "outputs": [
    {
     "name": "stdout",
     "output_type": "stream",
     "text": [
      "Sinusoidal feature shape (per sample): (720, 2)\n"
     ]
    }
   ],
   "source": [
    "\n",
    "def add_sin_features(n_samples, horizon, period=24):\n",
    "    # For each time step ahead, add sin/cos with period\n",
    "    t = np.arange(horizon)\n",
    "    sin_feat = np.sin(2*np.pi*t/period)\n",
    "    cos_feat = np.cos(2*np.pi*t/period)\n",
    "    return np.vstack([sin_feat, cos_feat]).T\n",
    "\n",
    "# Create features for sinusoidal regressor (same for all samples)\n",
    "sin_features = add_sin_features(len(y_train), horizon)\n",
    "print(\"Sinusoidal feature shape (per sample):\", sin_features.shape)\n"
   ]
  },
  {
   "cell_type": "code",
   "execution_count": 8,
   "id": "ffd0b522",
   "metadata": {
    "execution": {
     "iopub.execute_input": "2025-10-03T16:23:48.174270Z",
     "iopub.status.busy": "2025-10-03T16:23:48.173912Z",
     "iopub.status.idle": "2025-10-03T16:23:49.620176Z",
     "shell.execute_reply": "2025-10-03T16:23:49.619214Z"
    },
    "id": "fxDumzGyAatH",
    "papermill": {
     "duration": 1.454192,
     "end_time": "2025-10-03T16:23:49.622188",
     "exception": false,
     "start_time": "2025-10-03T16:23:48.167996",
     "status": "completed"
    },
    "tags": []
   },
   "outputs": [],
   "source": [
    "\n",
    "# Fit linear regression on sinusoidal features (predicts trend)\n",
    "linreg = LinearRegression()\n",
    "# Repeat features for all training samples\n",
    "X_sin = np.tile(sin_features, (len(y_train),1))\n",
    "y_train_flat = y_train.flatten()\n",
    "\n",
    "linreg.fit(X_sin, y_train_flat)\n",
    "\n",
    "# Predictions\n",
    "y_train_pred_sin = linreg.predict(X_sin).reshape(len(y_train), horizon)\n"
   ]
  },
  {
   "cell_type": "code",
   "execution_count": 9,
   "id": "86236509",
   "metadata": {
    "execution": {
     "iopub.execute_input": "2025-10-03T16:23:49.634732Z",
     "iopub.status.busy": "2025-10-03T16:23:49.634410Z",
     "iopub.status.idle": "2025-10-03T18:20:40.061662Z",
     "shell.execute_reply": "2025-10-03T18:20:40.060593Z"
    },
    "id": "YECVA90VAatH",
    "outputId": "ad873bfd-7c1e-403a-c241-bfe4a4274db3",
    "papermill": {
     "duration": 7010.440082,
     "end_time": "2025-10-03T18:20:40.068455",
     "exception": false,
     "start_time": "2025-10-03T16:23:49.628373",
     "status": "completed"
    },
    "tags": []
   },
   "outputs": [
    {
     "data": {
      "text/html": [
       "<style>#sk-container-id-1 {color: black;background-color: white;}#sk-container-id-1 pre{padding: 0;}#sk-container-id-1 div.sk-toggleable {background-color: white;}#sk-container-id-1 label.sk-toggleable__label {cursor: pointer;display: block;width: 100%;margin-bottom: 0;padding: 0.3em;box-sizing: border-box;text-align: center;}#sk-container-id-1 label.sk-toggleable__label-arrow:before {content: \"▸\";float: left;margin-right: 0.25em;color: #696969;}#sk-container-id-1 label.sk-toggleable__label-arrow:hover:before {color: black;}#sk-container-id-1 div.sk-estimator:hover label.sk-toggleable__label-arrow:before {color: black;}#sk-container-id-1 div.sk-toggleable__content {max-height: 0;max-width: 0;overflow: hidden;text-align: left;background-color: #f0f8ff;}#sk-container-id-1 div.sk-toggleable__content pre {margin: 0.2em;color: black;border-radius: 0.25em;background-color: #f0f8ff;}#sk-container-id-1 input.sk-toggleable__control:checked~div.sk-toggleable__content {max-height: 200px;max-width: 100%;overflow: auto;}#sk-container-id-1 input.sk-toggleable__control:checked~label.sk-toggleable__label-arrow:before {content: \"▾\";}#sk-container-id-1 div.sk-estimator input.sk-toggleable__control:checked~label.sk-toggleable__label {background-color: #d4ebff;}#sk-container-id-1 div.sk-label input.sk-toggleable__control:checked~label.sk-toggleable__label {background-color: #d4ebff;}#sk-container-id-1 input.sk-hidden--visually {border: 0;clip: rect(1px 1px 1px 1px);clip: rect(1px, 1px, 1px, 1px);height: 1px;margin: -1px;overflow: hidden;padding: 0;position: absolute;width: 1px;}#sk-container-id-1 div.sk-estimator {font-family: monospace;background-color: #f0f8ff;border: 1px dotted black;border-radius: 0.25em;box-sizing: border-box;margin-bottom: 0.5em;}#sk-container-id-1 div.sk-estimator:hover {background-color: #d4ebff;}#sk-container-id-1 div.sk-parallel-item::after {content: \"\";width: 100%;border-bottom: 1px solid gray;flex-grow: 1;}#sk-container-id-1 div.sk-label:hover label.sk-toggleable__label {background-color: #d4ebff;}#sk-container-id-1 div.sk-serial::before {content: \"\";position: absolute;border-left: 1px solid gray;box-sizing: border-box;top: 0;bottom: 0;left: 50%;z-index: 0;}#sk-container-id-1 div.sk-serial {display: flex;flex-direction: column;align-items: center;background-color: white;padding-right: 0.2em;padding-left: 0.2em;position: relative;}#sk-container-id-1 div.sk-item {position: relative;z-index: 1;}#sk-container-id-1 div.sk-parallel {display: flex;align-items: stretch;justify-content: center;background-color: white;position: relative;}#sk-container-id-1 div.sk-item::before, #sk-container-id-1 div.sk-parallel-item::before {content: \"\";position: absolute;border-left: 1px solid gray;box-sizing: border-box;top: 0;bottom: 0;left: 50%;z-index: -1;}#sk-container-id-1 div.sk-parallel-item {display: flex;flex-direction: column;z-index: 1;position: relative;background-color: white;}#sk-container-id-1 div.sk-parallel-item:first-child::after {align-self: flex-end;width: 50%;}#sk-container-id-1 div.sk-parallel-item:last-child::after {align-self: flex-start;width: 50%;}#sk-container-id-1 div.sk-parallel-item:only-child::after {width: 0;}#sk-container-id-1 div.sk-dashed-wrapped {border: 1px dashed gray;margin: 0 0.4em 0.5em 0.4em;box-sizing: border-box;padding-bottom: 0.4em;background-color: white;}#sk-container-id-1 div.sk-label label {font-family: monospace;font-weight: bold;display: inline-block;line-height: 1.2em;}#sk-container-id-1 div.sk-label-container {text-align: center;}#sk-container-id-1 div.sk-container {/* jupyter's `normalize.less` sets `[hidden] { display: none; }` but bootstrap.min.css set `[hidden] { display: none !important; }` so we also need the `!important` here to be able to override the default hidden behavior on the sphinx rendered scikit-learn.org. See: https://github.com/scikit-learn/scikit-learn/issues/21755 */display: inline-block !important;position: relative;}#sk-container-id-1 div.sk-text-repr-fallback {display: none;}</style><div id=\"sk-container-id-1\" class=\"sk-top-container\"><div class=\"sk-text-repr-fallback\"><pre>XGBRegressor(base_score=None, booster=None, callbacks=None,\n",
       "             colsample_bylevel=None, colsample_bynode=None,\n",
       "             colsample_bytree=None, device=None, early_stopping_rounds=None,\n",
       "             enable_categorical=False, eval_metric=None, feature_types=None,\n",
       "             gamma=None, grow_policy=None, importance_type=None,\n",
       "             interaction_constraints=None, learning_rate=0.01, max_bin=None,\n",
       "             max_cat_threshold=None, max_cat_to_onehot=None,\n",
       "             max_delta_step=None, max_depth=5, max_leaves=None,\n",
       "             min_child_weight=None, missing=nan, monotone_constraints=None,\n",
       "             multi_strategy=None, n_estimators=500, n_jobs=None,\n",
       "             num_parallel_tree=None, random_state=None, ...)</pre><b>In a Jupyter environment, please rerun this cell to show the HTML representation or trust the notebook. <br />On GitHub, the HTML representation is unable to render, please try loading this page with nbviewer.org.</b></div><div class=\"sk-container\" hidden><div class=\"sk-item\"><div class=\"sk-estimator sk-toggleable\"><input class=\"sk-toggleable__control sk-hidden--visually\" id=\"sk-estimator-id-1\" type=\"checkbox\" checked><label for=\"sk-estimator-id-1\" class=\"sk-toggleable__label sk-toggleable__label-arrow\">XGBRegressor</label><div class=\"sk-toggleable__content\"><pre>XGBRegressor(base_score=None, booster=None, callbacks=None,\n",
       "             colsample_bylevel=None, colsample_bynode=None,\n",
       "             colsample_bytree=None, device=None, early_stopping_rounds=None,\n",
       "             enable_categorical=False, eval_metric=None, feature_types=None,\n",
       "             gamma=None, grow_policy=None, importance_type=None,\n",
       "             interaction_constraints=None, learning_rate=0.01, max_bin=None,\n",
       "             max_cat_threshold=None, max_cat_to_onehot=None,\n",
       "             max_delta_step=None, max_depth=5, max_leaves=None,\n",
       "             min_child_weight=None, missing=nan, monotone_constraints=None,\n",
       "             multi_strategy=None, n_estimators=500, n_jobs=None,\n",
       "             num_parallel_tree=None, random_state=None, ...)</pre></div></div></div></div></div>"
      ],
      "text/plain": [
       "XGBRegressor(base_score=None, booster=None, callbacks=None,\n",
       "             colsample_bylevel=None, colsample_bynode=None,\n",
       "             colsample_bytree=None, device=None, early_stopping_rounds=None,\n",
       "             enable_categorical=False, eval_metric=None, feature_types=None,\n",
       "             gamma=None, grow_policy=None, importance_type=None,\n",
       "             interaction_constraints=None, learning_rate=0.01, max_bin=None,\n",
       "             max_cat_threshold=None, max_cat_to_onehot=None,\n",
       "             max_delta_step=None, max_depth=5, max_leaves=None,\n",
       "             min_child_weight=None, missing=nan, monotone_constraints=None,\n",
       "             multi_strategy=None, n_estimators=500, n_jobs=None,\n",
       "             num_parallel_tree=None, random_state=None, ...)"
      ]
     },
     "execution_count": 9,
     "metadata": {},
     "output_type": "execute_result"
    }
   ],
   "source": [
    "\n",
    "# Compute residuals\n",
    "residuals = y_train - y_train_pred_sin\n",
    "\n",
    "# Use lag features (X_train) for XGBoost\n",
    "X_train_flat = X_train.reshape(len(X_train), -1)\n",
    "residuals_flat = residuals.reshape(len(residuals), -1)\n",
    "\n",
    "# Train XGBoost to predict residuals (multi-output: predict each horizon step separately)\n",
    "xgb_model = xgb.XGBRegressor(n_estimators=500, learning_rate=0.01, max_depth=5, tree_method='hist')\n",
    "xgb_model.fit(X_train_flat, residuals_flat)\n"
   ]
  },
  {
   "cell_type": "code",
   "execution_count": 10,
   "id": "cae757e1",
   "metadata": {
    "execution": {
     "iopub.execute_input": "2025-10-03T18:20:40.080466Z",
     "iopub.status.busy": "2025-10-03T18:20:40.080148Z",
     "iopub.status.idle": "2025-10-03T18:21:02.711372Z",
     "shell.execute_reply": "2025-10-03T18:21:02.710034Z"
    },
    "id": "xZ449_ilAatH",
    "outputId": "79f978a0-7c0c-4b1b-82b5-598b6f7179f0",
    "papermill": {
     "duration": 22.639211,
     "end_time": "2025-10-03T18:21:02.713001",
     "exception": false,
     "start_time": "2025-10-03T18:20:40.073790",
     "status": "completed"
    },
    "tags": []
   },
   "outputs": [
    {
     "name": "stdout",
     "output_type": "stream",
     "text": [
      "Validation MSE: 0.1896, MAE: 0.3411\n",
      "Test MSE: 0.4991, MAE: 0.6259\n"
     ]
    }
   ],
   "source": [
    "\n",
    "def evaluate(X_set, y_set):\n",
    "    # Sinusoidal prediction\n",
    "    X_sin_eval = np.tile(sin_features, (len(y_set),1))\n",
    "    y_pred_sin = linreg.predict(X_sin_eval).reshape(len(y_set), horizon)\n",
    "\n",
    "    # Residual correction\n",
    "    X_flat = X_set.reshape(len(X_set), -1)\n",
    "    res_pred = xgb_model.predict(X_flat).reshape(len(y_set), horizon)\n",
    "\n",
    "    y_pred = y_pred_sin + res_pred\n",
    "\n",
    "    mse = mean_squared_error(y_set.flatten(), y_pred.flatten())\n",
    "    mae = mean_absolute_error(y_set.flatten(), y_pred.flatten())\n",
    "    return mse, mae, y_pred\n",
    "\n",
    "mse_val, mae_val, _ = evaluate(X_val, y_val)\n",
    "mse_test, mae_test, y_test_pred = evaluate(X_test, y_test)\n",
    "\n",
    "print(f\"Validation MSE: {mse_val:.4f}, MAE: {mae_val:.4f}\")\n",
    "print(f\"Test MSE: {mse_test:.4f}, MAE: {mae_test:.4f}\")\n"
   ]
  },
  {
   "cell_type": "code",
   "execution_count": null,
   "id": "989c855c",
   "metadata": {
    "id": "lY0SWAfdAatI",
    "papermill": {
     "duration": 0.005233,
     "end_time": "2025-10-03T18:21:02.723948",
     "exception": false,
     "start_time": "2025-10-03T18:21:02.718715",
     "status": "completed"
    },
    "tags": []
   },
   "outputs": [],
   "source": []
  }
 ],
 "metadata": {
  "accelerator": "GPU",
  "colab": {
   "gpuType": "T4",
   "provenance": []
  },
  "kaggle": {
   "accelerator": "none",
   "dataSources": [
    {
     "datasetId": 2569834,
     "sourceId": 4371501,
     "sourceType": "datasetVersion"
    }
   ],
   "dockerImageVersionId": 31089,
   "isGpuEnabled": false,
   "isInternetEnabled": true,
   "language": "python",
   "sourceType": "notebook"
  },
  "kernelspec": {
   "display_name": "Python 3",
   "language": "python",
   "name": "python3"
  },
  "language_info": {
   "codemirror_mode": {
    "name": "ipython",
    "version": 3
   },
   "file_extension": ".py",
   "mimetype": "text/x-python",
   "name": "python",
   "nbconvert_exporter": "python",
   "pygments_lexer": "ipython3",
   "version": "3.11.13"
  },
  "papermill": {
   "default_parameters": {},
   "duration": 7046.592462,
   "end_time": "2025-10-03T18:21:03.959453",
   "environment_variables": {},
   "exception": null,
   "input_path": "__notebook__.ipynb",
   "output_path": "__notebook__.ipynb",
   "parameters": {},
   "start_time": "2025-10-03T16:23:37.366991",
   "version": "2.6.0"
  }
 },
 "nbformat": 4,
 "nbformat_minor": 5
}
