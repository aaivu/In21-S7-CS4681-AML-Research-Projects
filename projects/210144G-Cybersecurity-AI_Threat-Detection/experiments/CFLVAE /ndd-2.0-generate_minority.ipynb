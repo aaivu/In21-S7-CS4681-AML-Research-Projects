{
 "cells": [
  {
   "cell_type": "code",
   "execution_count": null,
   "id": "dd70c978",
   "metadata": {},
   "outputs": [],
   "source": [
    "import numpy as np\n",
    "import tensorflow as tf"
   ]
  },
  {
   "cell_type": "code",
   "execution_count": null,
   "id": "3ff403de",
   "metadata": {},
   "outputs": [
    {
     "ename": "ValueError",
     "evalue": "Unknown layer: 'CFLVAE'. Please ensure you are using a `keras.utils.custom_object_scope` and that this object is included in the scope. See https://www.tensorflow.org/guide/keras/save_and_serialize#registering_the_custom_object for details.",
     "output_type": "error",
     "traceback": [
      "\u001b[31m---------------------------------------------------------------------------\u001b[39m",
      "\u001b[31mValueError\u001b[39m                                Traceback (most recent call last)",
      "\u001b[36mCell\u001b[39m\u001b[36m \u001b[39m\u001b[32mIn[4]\u001b[39m\u001b[32m, line 2\u001b[39m\n\u001b[32m      1\u001b[39m \u001b[38;5;66;03m# Load trained CFLVAE model (make sure decoder is accessible)\u001b[39;00m\n\u001b[32m----> \u001b[39m\u001b[32m2\u001b[39m cflvae_model = tf.keras.models.load_model(\u001b[33m'\u001b[39m\u001b[33m../Models/cflvae_model_v1.h5\u001b[39m\u001b[33m'\u001b[39m, \u001b[38;5;28mcompile\u001b[39m=\u001b[38;5;28;01mFalse\u001b[39;00m)\n",
      "\u001b[36mFile \u001b[39m\u001b[32m/opt/homebrew/Caskroom/miniconda/base/envs/data_preprocess_env/lib/python3.11/site-packages/keras/src/saving/saving_api.py:196\u001b[39m, in \u001b[36mload_model\u001b[39m\u001b[34m(filepath, custom_objects, compile, safe_mode)\u001b[39m\n\u001b[32m    189\u001b[39m     \u001b[38;5;28;01mreturn\u001b[39;00m saving_lib.load_model(\n\u001b[32m    190\u001b[39m         filepath,\n\u001b[32m    191\u001b[39m         custom_objects=custom_objects,\n\u001b[32m    192\u001b[39m         \u001b[38;5;28mcompile\u001b[39m=\u001b[38;5;28mcompile\u001b[39m,\n\u001b[32m    193\u001b[39m         safe_mode=safe_mode,\n\u001b[32m    194\u001b[39m     )\n\u001b[32m    195\u001b[39m \u001b[38;5;28;01mif\u001b[39;00m \u001b[38;5;28mstr\u001b[39m(filepath).endswith((\u001b[33m\"\u001b[39m\u001b[33m.h5\u001b[39m\u001b[33m\"\u001b[39m, \u001b[33m\"\u001b[39m\u001b[33m.hdf5\u001b[39m\u001b[33m\"\u001b[39m)):\n\u001b[32m--> \u001b[39m\u001b[32m196\u001b[39m     \u001b[38;5;28;01mreturn\u001b[39;00m legacy_h5_format.load_model_from_hdf5(\n\u001b[32m    197\u001b[39m         filepath, custom_objects=custom_objects, \u001b[38;5;28mcompile\u001b[39m=\u001b[38;5;28mcompile\u001b[39m\n\u001b[32m    198\u001b[39m     )\n\u001b[32m    199\u001b[39m \u001b[38;5;28;01melif\u001b[39;00m \u001b[38;5;28mstr\u001b[39m(filepath).endswith(\u001b[33m\"\u001b[39m\u001b[33m.keras\u001b[39m\u001b[33m\"\u001b[39m):\n\u001b[32m    200\u001b[39m     \u001b[38;5;28;01mraise\u001b[39;00m \u001b[38;5;167;01mValueError\u001b[39;00m(\n\u001b[32m    201\u001b[39m         \u001b[33mf\u001b[39m\u001b[33m\"\u001b[39m\u001b[33mFile not found: filepath=\u001b[39m\u001b[38;5;132;01m{\u001b[39;00mfilepath\u001b[38;5;132;01m}\u001b[39;00m\u001b[33m. \u001b[39m\u001b[33m\"\u001b[39m\n\u001b[32m    202\u001b[39m         \u001b[33m\"\u001b[39m\u001b[33mPlease ensure the file is an accessible `.keras` \u001b[39m\u001b[33m\"\u001b[39m\n\u001b[32m    203\u001b[39m         \u001b[33m\"\u001b[39m\u001b[33mzip file.\u001b[39m\u001b[33m\"\u001b[39m\n\u001b[32m    204\u001b[39m     )\n",
      "\u001b[36mFile \u001b[39m\u001b[32m/opt/homebrew/Caskroom/miniconda/base/envs/data_preprocess_env/lib/python3.11/site-packages/keras/src/legacy/saving/legacy_h5_format.py:132\u001b[39m, in \u001b[36mload_model_from_hdf5\u001b[39m\u001b[34m(filepath, custom_objects, compile)\u001b[39m\n\u001b[32m    129\u001b[39m model_config = json_utils.decode(model_config)\n\u001b[32m    131\u001b[39m \u001b[38;5;28;01mwith\u001b[39;00m saving_options.keras_option_scope(use_legacy_config=\u001b[38;5;28;01mTrue\u001b[39;00m):\n\u001b[32m--> \u001b[39m\u001b[32m132\u001b[39m     model = saving_utils.model_from_config(\n\u001b[32m    133\u001b[39m         model_config, custom_objects=custom_objects\n\u001b[32m    134\u001b[39m     )\n\u001b[32m    136\u001b[39m     \u001b[38;5;66;03m# set weights\u001b[39;00m\n\u001b[32m    137\u001b[39m     load_weights_from_hdf5_group(f[\u001b[33m\"\u001b[39m\u001b[33mmodel_weights\u001b[39m\u001b[33m\"\u001b[39m], model)\n",
      "\u001b[36mFile \u001b[39m\u001b[32m/opt/homebrew/Caskroom/miniconda/base/envs/data_preprocess_env/lib/python3.11/site-packages/keras/src/legacy/saving/saving_utils.py:88\u001b[39m, in \u001b[36mmodel_from_config\u001b[39m\u001b[34m(config, custom_objects)\u001b[39m\n\u001b[32m     84\u001b[39m \u001b[38;5;66;03m# TODO(nkovela): Swap find and replace args during Keras 3.0 release\u001b[39;00m\n\u001b[32m     85\u001b[39m \u001b[38;5;66;03m# Replace keras refs with keras\u001b[39;00m\n\u001b[32m     86\u001b[39m config = _find_replace_nested_dict(config, \u001b[33m\"\u001b[39m\u001b[33mkeras.\u001b[39m\u001b[33m\"\u001b[39m, \u001b[33m\"\u001b[39m\u001b[33mkeras.\u001b[39m\u001b[33m\"\u001b[39m)\n\u001b[32m---> \u001b[39m\u001b[32m88\u001b[39m \u001b[38;5;28;01mreturn\u001b[39;00m serialization.deserialize_keras_object(\n\u001b[32m     89\u001b[39m     config,\n\u001b[32m     90\u001b[39m     module_objects=MODULE_OBJECTS.ALL_OBJECTS,\n\u001b[32m     91\u001b[39m     custom_objects=custom_objects,\n\u001b[32m     92\u001b[39m     printable_module_name=\u001b[33m\"\u001b[39m\u001b[33mlayer\u001b[39m\u001b[33m\"\u001b[39m,\n\u001b[32m     93\u001b[39m )\n",
      "\u001b[36mFile \u001b[39m\u001b[32m/opt/homebrew/Caskroom/miniconda/base/envs/data_preprocess_env/lib/python3.11/site-packages/keras/src/legacy/saving/serialization.py:473\u001b[39m, in \u001b[36mdeserialize_keras_object\u001b[39m\u001b[34m(identifier, module_objects, custom_objects, printable_module_name)\u001b[39m\n\u001b[32m    470\u001b[39m \u001b[38;5;28;01mif\u001b[39;00m \u001b[38;5;28misinstance\u001b[39m(identifier, \u001b[38;5;28mdict\u001b[39m):\n\u001b[32m    471\u001b[39m     \u001b[38;5;66;03m# In this case we are dealing with a Keras config dictionary.\u001b[39;00m\n\u001b[32m    472\u001b[39m     config = identifier\n\u001b[32m--> \u001b[39m\u001b[32m473\u001b[39m     (\u001b[38;5;28mcls\u001b[39m, cls_config) = class_and_config_for_serialized_keras_object(\n\u001b[32m    474\u001b[39m         config, module_objects, custom_objects, printable_module_name\n\u001b[32m    475\u001b[39m     )\n\u001b[32m    477\u001b[39m     \u001b[38;5;66;03m# If this object has already been loaded (i.e. it's shared between\u001b[39;00m\n\u001b[32m    478\u001b[39m     \u001b[38;5;66;03m# multiple objects), return the already-loaded object.\u001b[39;00m\n\u001b[32m    479\u001b[39m     shared_object_id = config.get(SHARED_OBJECT_KEY)\n",
      "\u001b[36mFile \u001b[39m\u001b[32m/opt/homebrew/Caskroom/miniconda/base/envs/data_preprocess_env/lib/python3.11/site-packages/keras/src/legacy/saving/serialization.py:354\u001b[39m, in \u001b[36mclass_and_config_for_serialized_keras_object\u001b[39m\u001b[34m(config, module_objects, custom_objects, printable_module_name)\u001b[39m\n\u001b[32m    350\u001b[39m \u001b[38;5;28mcls\u001b[39m = object_registration.get_registered_object(\n\u001b[32m    351\u001b[39m     class_name, custom_objects, module_objects\n\u001b[32m    352\u001b[39m )\n\u001b[32m    353\u001b[39m \u001b[38;5;28;01mif\u001b[39;00m \u001b[38;5;28mcls\u001b[39m \u001b[38;5;129;01mis\u001b[39;00m \u001b[38;5;28;01mNone\u001b[39;00m:\n\u001b[32m--> \u001b[39m\u001b[32m354\u001b[39m     \u001b[38;5;28;01mraise\u001b[39;00m \u001b[38;5;167;01mValueError\u001b[39;00m(\n\u001b[32m    355\u001b[39m         \u001b[33mf\u001b[39m\u001b[33m\"\u001b[39m\u001b[33mUnknown \u001b[39m\u001b[38;5;132;01m{\u001b[39;00mprintable_module_name\u001b[38;5;132;01m}\u001b[39;00m\u001b[33m: \u001b[39m\u001b[33m'\u001b[39m\u001b[38;5;132;01m{\u001b[39;00mclass_name\u001b[38;5;132;01m}\u001b[39;00m\u001b[33m'\u001b[39m\u001b[33m. \u001b[39m\u001b[33m\"\u001b[39m\n\u001b[32m    356\u001b[39m         \u001b[33m\"\u001b[39m\u001b[33mPlease ensure you are using a `keras.utils.custom_object_scope` \u001b[39m\u001b[33m\"\u001b[39m\n\u001b[32m    357\u001b[39m         \u001b[33m\"\u001b[39m\u001b[33mand that this object is included in the scope. See \u001b[39m\u001b[33m\"\u001b[39m\n\u001b[32m    358\u001b[39m         \u001b[33m\"\u001b[39m\u001b[33mhttps://www.tensorflow.org/guide/keras/save_and_serialize\u001b[39m\u001b[33m\"\u001b[39m\n\u001b[32m    359\u001b[39m         \u001b[33m\"\u001b[39m\u001b[33m#registering_the_custom_object for details.\u001b[39m\u001b[33m\"\u001b[39m\n\u001b[32m    360\u001b[39m     )\n\u001b[32m    362\u001b[39m cls_config = config[\u001b[33m\"\u001b[39m\u001b[33mconfig\u001b[39m\u001b[33m\"\u001b[39m]\n\u001b[32m    363\u001b[39m \u001b[38;5;66;03m# Check if `cls_config` is a list. If it is a list, return the class and the\u001b[39;00m\n\u001b[32m    364\u001b[39m \u001b[38;5;66;03m# associated class configs for recursively deserialization. This case will\u001b[39;00m\n\u001b[32m    365\u001b[39m \u001b[38;5;66;03m# happen on the old version of sequential model (e.g. `keras_version` ==\u001b[39;00m\n\u001b[32m    366\u001b[39m \u001b[38;5;66;03m# \"2.0.6\"), which is serialized in a different structure, for example\u001b[39;00m\n\u001b[32m    367\u001b[39m \u001b[38;5;66;03m# \"{'class_name': 'Sequential',\u001b[39;00m\n\u001b[32m    368\u001b[39m \u001b[38;5;66;03m#   'config': [{'class_name': 'Embedding', 'config': ...}, {}, ...]}\".\u001b[39;00m\n",
      "\u001b[31mValueError\u001b[39m: Unknown layer: 'CFLVAE'. Please ensure you are using a `keras.utils.custom_object_scope` and that this object is included in the scope. See https://www.tensorflow.org/guide/keras/save_and_serialize#registering_the_custom_object for details."
     ]
    }
   ],
   "source": [
    "# Load trained CFLVAE model (make sure decoder is accessible)\n",
    "cflvae_model = tf.keras.models.load_model(\n",
    "    '../Models/cflvae_model_v1.h5',\n",
    "    custom_objects={'CFLVAE': CFLVAE, 'ClasswiseFocalReconstructionLoss': ClasswiseFocalReconstructionLoss, 'CFLVAEEncoder': CFLVAEEncoder, 'CFLVAEDecoder': CFLVAEDecoder},\n",
    "    compile=False\n",
    ")"
   ]
  }
 ],
 "metadata": {
  "kernelspec": {
   "display_name": "data_preprocess_env",
   "language": "python",
   "name": "python3"
  },
  "language_info": {
   "codemirror_mode": {
    "name": "ipython",
    "version": 3
   },
   "file_extension": ".py",
   "mimetype": "text/x-python",
   "name": "python",
   "nbconvert_exporter": "python",
   "pygments_lexer": "ipython3",
   "version": "3.11.13"
  }
 },
 "nbformat": 4,
 "nbformat_minor": 5
}
