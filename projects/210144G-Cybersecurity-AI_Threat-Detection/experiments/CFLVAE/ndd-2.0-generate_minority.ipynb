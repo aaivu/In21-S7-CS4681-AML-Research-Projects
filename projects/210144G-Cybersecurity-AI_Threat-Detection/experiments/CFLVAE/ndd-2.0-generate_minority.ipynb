{
 "cells": [
  {
   "cell_type": "code",
   "execution_count": null,
   "id": "dd70c978",
   "metadata": {},
   "outputs": [],
   "source": [
    "import numpy as np\n",
    "import tensorflow as tf"
   ]
  },
  {
   "cell_type": "code",
   "execution_count": null,
   "id": "3ff403de",
   "metadata": {},
   "outputs": [],
   "source": [
    "# Load trained CFLVAE model (make sure decoder is accessible)\n",
    "cflvae_model = tf.keras.models.load_model(\n",
    "    '../Models/cflvae_model_v1.h5',\n",
    "    custom_objects={'CFLVAE': CFLVAE, 'ClasswiseFocalReconstructionLoss': ClasswiseFocalReconstructionLoss, 'CFLVAEEncoder': CFLVAEEncoder, 'CFLVAEDecoder': CFLVAEDecoder},\n",
    "    compile=False\n",
    ")"
   ]
  }
 ],
 "metadata": {
  "kernelspec": {
   "display_name": "data_preprocess_env",
   "language": "python",
   "name": "python3"
  },
  "language_info": {
   "codemirror_mode": {
    "name": "ipython",
    "version": 3
   },
   "file_extension": ".py",
   "mimetype": "text/x-python",
   "name": "python",
   "nbconvert_exporter": "python",
   "pygments_lexer": "ipython3",
   "version": "3.11.13"
  }
 },
 "nbformat": 4,
 "nbformat_minor": 5
}
