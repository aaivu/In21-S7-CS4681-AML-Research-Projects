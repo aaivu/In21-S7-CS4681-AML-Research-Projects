{
 "cells": [
  {
   "cell_type": "code",
   "execution_count": 204,
   "id": "4494df36",
   "metadata": {
    "execution": {
     "iopub.execute_input": "2025-09-01T06:06:02.712145Z",
     "iopub.status.busy": "2025-09-01T06:06:02.711479Z",
     "iopub.status.idle": "2025-09-01T06:06:02.718945Z",
     "shell.execute_reply": "2025-09-01T06:06:02.718141Z",
     "shell.execute_reply.started": "2025-09-01T06:06:02.712121Z"
    },
    "trusted": true
   },
   "outputs": [],
   "source": [
    "# module imports\n",
    "import numpy as np\n",
    "import pandas as pd\n",
    "import matplotlib.pyplot as plt\n",
    "import seaborn as sns\n",
    "import itertools\n",
    "import random\n",
    "from sklearn.decomposition import PCA\n",
    "\n",
    "# model imports\n",
    "from sklearn.ensemble import RandomForestClassifier\n",
    "from sklearn.neighbors import KNeighborsClassifier\n",
    "from sklearn.linear_model import LogisticRegression\n",
    "from sklearn.decomposition import KernelPCA\n",
    "\n",
    "\n",
    "# processing imports\n",
    "from sklearn.preprocessing import LabelEncoder\n",
    "from sklearn.model_selection import train_test_split\n",
    "from sklearn.model_selection import cross_val_score\n",
    "from sklearn.metrics import mean_absolute_error\n",
    "from sklearn.metrics import accuracy_score\n",
    "from sklearn.metrics import confusion_matrix\n",
    "\n",
    "from sklearn.ensemble import RandomForestClassifier\n",
    "from sklearn.linear_model import LogisticRegression\n",
    "from sklearn.neighbors import KNeighborsClassifier\n",
    "from sklearn.naive_bayes import GaussianNB\n",
    "from sklearn.tree import DecisionTreeClassifier\n",
    "from sklearn.metrics import confusion_matrix, accuracy_score, f1_score\n",
    "from sklearn.model_selection import GridSearchCV\n",
    "from sklearn.metrics import matthews_corrcoef, precision_score, recall_score\n",
    "\n",
    "import numpy as np\n",
    "import pandas as pd\n",
    "import matplotlib.pyplot as plt\n",
    "import seaborn as sns\n",
    "from sklearn import preprocessing\n",
    "from sklearn.preprocessing import StandardScaler\n",
    "from sklearn.metrics import precision_score, recall_score, f1_score\n",
    "from sklearn.metrics import accuracy_score, balanced_accuracy_score,classification_report\n",
    "from sklearn.metrics import confusion_matrix, ConfusionMatrixDisplay\n",
    "from sklearn.model_selection import KFold, GridSearchCV\n",
    "from sklearn.model_selection import train_test_split\n",
    "from sklearn.utils import shuffle\n",
    "\n",
    "np.random.seed(1635848)"
   ]
  },
  {
   "cell_type": "code",
   "execution_count": 205,
   "id": "d511c5a7",
   "metadata": {
    "execution": {
     "iopub.execute_input": "2025-09-01T06:06:02.785190Z",
     "iopub.status.busy": "2025-09-01T06:06:02.784986Z",
     "iopub.status.idle": "2025-09-01T06:06:02.788463Z",
     "shell.execute_reply": "2025-09-01T06:06:02.787879Z",
     "shell.execute_reply.started": "2025-09-01T06:06:02.785173Z"
    },
    "trusted": true
   },
   "outputs": [],
   "source": [
    "# fetch the training file\n",
    "file_path_full_training_set = '/kaggle/input/kdd-data/KDDTrain.txt'\n",
    "file_path_test = '/kaggle/input/kdd-data/KDDTest.txt'"
   ]
  },
  {
   "cell_type": "code",
   "execution_count": 206,
   "id": "359af5f4",
   "metadata": {
    "execution": {
     "iopub.execute_input": "2025-09-01T06:06:02.790546Z",
     "iopub.status.busy": "2025-09-01T06:06:02.790361Z",
     "iopub.status.idle": "2025-09-01T06:06:03.269628Z",
     "shell.execute_reply": "2025-09-01T06:06:03.268866Z",
     "shell.execute_reply.started": "2025-09-01T06:06:02.790532Z"
    },
    "trusted": true
   },
   "outputs": [],
   "source": [
    "df = pd.read_csv(file_path_full_training_set)\n",
    "test_df = pd.read_csv(file_path_test)"
   ]
  },
  {
   "cell_type": "code",
   "execution_count": 207,
   "id": "77801432",
   "metadata": {
    "execution": {
     "iopub.execute_input": "2025-09-01T06:06:03.271104Z",
     "iopub.status.busy": "2025-09-01T06:06:03.270855Z",
     "iopub.status.idle": "2025-09-01T06:06:03.275563Z",
     "shell.execute_reply": "2025-09-01T06:06:03.274937Z",
     "shell.execute_reply.started": "2025-09-01T06:06:03.271079Z"
    },
    "trusted": true
   },
   "outputs": [],
   "source": [
    "columns = (['duration'\n",
    ",'protocol_type'\n",
    ",'service'\n",
    ",'flag'\n",
    ",'src_bytes'\n",
    ",'dst_bytes'\n",
    ",'land'\n",
    ",'wrong_fragment'\n",
    ",'urgent'\n",
    ",'hot'\n",
    ",'num_failed_logins'\n",
    ",'logged_in'\n",
    ",'num_compromised'\n",
    ",'root_shell'\n",
    ",'su_attempted'\n",
    ",'num_root'\n",
    ",'num_file_creations'\n",
    ",'num_shells'\n",
    ",'num_access_files'\n",
    ",'num_outbound_cmds'\n",
    ",'is_host_login'\n",
    ",'is_guest_login'\n",
    ",'count'\n",
    ",'srv_count'\n",
    ",'serror_rate'\n",
    ",'srv_serror_rate'\n",
    ",'rerror_rate'\n",
    ",'srv_rerror_rate'\n",
    ",'same_srv_rate'\n",
    ",'diff_srv_rate'\n",
    ",'srv_diff_host_rate'\n",
    ",'dst_host_count'\n",
    ",'dst_host_srv_count'\n",
    ",'dst_host_same_srv_rate'\n",
    ",'dst_host_diff_srv_rate'\n",
    ",'dst_host_same_src_port_rate'\n",
    ",'dst_host_srv_diff_host_rate'\n",
    ",'dst_host_serror_rate'\n",
    ",'dst_host_srv_serror_rate'\n",
    ",'dst_host_rerror_rate'\n",
    ",'dst_host_srv_rerror_rate'\n",
    ",'attack'\n",
    ",'level'])"
   ]
  },
  {
   "cell_type": "code",
   "execution_count": 208,
   "id": "69fbb304",
   "metadata": {
    "execution": {
     "iopub.execute_input": "2025-09-01T06:06:03.277020Z",
     "iopub.status.busy": "2025-09-01T06:06:03.276718Z",
     "iopub.status.idle": "2025-09-01T06:06:03.295590Z",
     "shell.execute_reply": "2025-09-01T06:06:03.294978Z",
     "shell.execute_reply.started": "2025-09-01T06:06:03.276999Z"
    },
    "trusted": true
   },
   "outputs": [],
   "source": [
    "df.columns = columns\n",
    "test_df.columns = columns"
   ]
  },
  {
   "cell_type": "code",
   "execution_count": 209,
   "id": "90a0b176-b269-49cd-a1d2-56908b08ded4",
   "metadata": {
    "execution": {
     "iopub.execute_input": "2025-09-01T06:06:03.297694Z",
     "iopub.status.busy": "2025-09-01T06:06:03.297030Z",
     "iopub.status.idle": "2025-09-01T06:06:03.329624Z",
     "shell.execute_reply": "2025-09-01T06:06:03.329083Z",
     "shell.execute_reply.started": "2025-09-01T06:06:03.297661Z"
    },
    "trusted": true
   },
   "outputs": [
    {
     "name": "stdout",
     "output_type": "stream",
     "text": [
      "Training set categorical features:\n",
      "Feature 'protocol_type' has 3 categories\n",
      "Feature 'service' has 70 categories\n",
      "Feature 'flag' has 11 categories\n",
      "Feature 'attack' has 23 categories\n"
     ]
    }
   ],
   "source": [
    "# Categorical features analysis\n",
    "print('Training set categorical features:')\n",
    "for col_name in df.columns:\n",
    "    if df[col_name].dtypes == 'object' :\n",
    "        unique_cat = len(df[col_name].unique())\n",
    "        print(\"Feature '{col_name}' has {unique_cat} categories\".format(col_name=col_name, unique_cat=unique_cat))"
   ]
  },
  {
   "cell_type": "code",
   "execution_count": 210,
   "id": "07322b9f",
   "metadata": {
    "execution": {
     "iopub.execute_input": "2025-09-01T06:06:03.330362Z",
     "iopub.status.busy": "2025-09-01T06:06:03.330200Z",
     "iopub.status.idle": "2025-09-01T06:06:03.358308Z",
     "shell.execute_reply": "2025-09-01T06:06:03.357791Z",
     "shell.execute_reply.started": "2025-09-01T06:06:03.330349Z"
    },
    "trusted": true
   },
   "outputs": [
    {
     "name": "stdout",
     "output_type": "stream",
     "text": [
      "Training set:\n",
      "Feature 'protocol_type' has 3 categories\n",
      "Feature 'service' has 70 categories\n",
      "Feature 'flag' has 11 categories\n",
      "Feature 'attack' has 23 categories\n"
     ]
    }
   ],
   "source": [
    "# colums that are categorical and not binary yet: protocol_type (column 2), service (column 3), flag (column 4).\n",
    "# explore categorical features\n",
    "print('Training set:')\n",
    "for col_name in df.columns:\n",
    "    if df[col_name].dtypes == 'object' :\n",
    "        unique_cat = len(df[col_name].unique())\n",
    "        print(\"Feature '{col_name}' has {unique_cat} categories\".format(col_name=col_name, unique_cat=unique_cat))"
   ]
  },
  {
   "cell_type": "code",
   "execution_count": 211,
   "id": "e357b142",
   "metadata": {
    "execution": {
     "iopub.execute_input": "2025-09-01T06:06:03.359084Z",
     "iopub.status.busy": "2025-09-01T06:06:03.358902Z",
     "iopub.status.idle": "2025-09-01T06:06:03.372699Z",
     "shell.execute_reply": "2025-09-01T06:06:03.372024Z",
     "shell.execute_reply.started": "2025-09-01T06:06:03.359070Z"
    },
    "trusted": true
   },
   "outputs": [
    {
     "name": "stdout",
     "output_type": "stream",
     "text": [
      "Distribution of categories in service:\n",
      "service\n",
      "http        40338\n",
      "private     21853\n",
      "domain_u     9043\n",
      "smtp         7313\n",
      "ftp_data     6859\n",
      "Name: count, dtype: int64\n"
     ]
    }
   ],
   "source": [
    "print('Distribution of categories in service:')\n",
    "print(df['service'].value_counts().sort_values(ascending=False).head())"
   ]
  },
  {
   "cell_type": "code",
   "execution_count": 212,
   "id": "97271e75",
   "metadata": {
    "execution": {
     "iopub.execute_input": "2025-09-01T06:06:03.373800Z",
     "iopub.status.busy": "2025-09-01T06:06:03.373573Z",
     "iopub.status.idle": "2025-09-01T06:06:03.389232Z",
     "shell.execute_reply": "2025-09-01T06:06:03.388706Z",
     "shell.execute_reply.started": "2025-09-01T06:06:03.373775Z"
    },
    "trusted": true
   },
   "outputs": [
    {
     "name": "stdout",
     "output_type": "stream",
     "text": [
      "Test set:\n",
      "Feature 'protocol_type' has 3 categories\n",
      "Feature 'service' has 64 categories\n",
      "Feature 'flag' has 11 categories\n",
      "Feature 'attack' has 38 categories\n"
     ]
    }
   ],
   "source": [
    "# Test set\n",
    "print('Test set:')\n",
    "for col_name in test_df.columns:\n",
    "    if test_df[col_name].dtypes == 'object' :\n",
    "        unique_cat = len(test_df[col_name].unique())\n",
    "        print(\"Feature '{col_name}' has {unique_cat} categories\".format(col_name=col_name, unique_cat=unique_cat))"
   ]
  },
  {
   "cell_type": "code",
   "execution_count": 213,
   "id": "dd10431f-655b-4c5c-ab88-bba8ff514866",
   "metadata": {
    "execution": {
     "iopub.execute_input": "2025-09-01T06:06:03.390016Z",
     "iopub.status.busy": "2025-09-01T06:06:03.389833Z",
     "iopub.status.idle": "2025-09-01T06:06:03.413212Z",
     "shell.execute_reply": "2025-09-01T06:06:03.412553Z",
     "shell.execute_reply.started": "2025-09-01T06:06:03.390003Z"
    },
    "trusted": true
   },
   "outputs": [
    {
     "name": "stdout",
     "output_type": "stream",
     "text": [
      "============================================================\n",
      "ATTACK TYPE DISTRIBUTION ANALYSIS\n",
      "============================================================\n",
      "\n",
      "Training Set Attack Distribution:\n",
      "attack\n",
      "normal         67342\n",
      "neptune        41214\n",
      "satan           3633\n",
      "ipsweep         3599\n",
      "portsweep       2931\n",
      "smurf           2646\n",
      "nmap            1493\n",
      "back             956\n",
      "teardrop         892\n",
      "warezclient      890\n",
      "Name: count, dtype: int64\n",
      "\n",
      "Test Set Attack Distribution:\n",
      "attack\n",
      "normal          9711\n",
      "neptune         4656\n",
      "guess_passwd    1231\n",
      "mscan            996\n",
      "warezmaster      944\n",
      "apache2          737\n",
      "satan            735\n",
      "processtable     685\n",
      "smurf            665\n",
      "back             359\n",
      "Name: count, dtype: int64\n",
      "\n",
      "Unique Attacks Comparison:\n",
      "Training attacks: 23 unique types\n",
      "Test attacks: 38 unique types\n",
      "\n",
      "Attacks ONLY in training: 2\n",
      "   ['warezclient', 'spy']\n",
      "\n",
      "Attacks ONLY in test: 17\n",
      "   ['processtable', 'ps', 'apache2', 'xterm', 'mailbomb', 'mscan', 'udpstorm', 'snmpguess', 'xlock', 'worm', 'saint', 'sendmail', 'named', 'httptunnel', 'xsnoop', 'snmpgetattack', 'sqlattack']\n",
      "\n",
      "Common attacks: 21\n"
     ]
    }
   ],
   "source": [
    "# Attack Distribution Comparison Analysis\n",
    "print(\"=\"*60)\n",
    "print(\"ATTACK TYPE DISTRIBUTION ANALYSIS\")\n",
    "print(\"=\"*60)\n",
    "\n",
    "print(\"\\nTraining Set Attack Distribution:\")\n",
    "print(df['attack'].value_counts().head(10))\n",
    "\n",
    "print(\"\\nTest Set Attack Distribution:\")\n",
    "print(test_df['attack'].value_counts().head(10))\n",
    "\n",
    "print(\"\\nUnique Attacks Comparison:\")\n",
    "train_attacks = set(df['attack'].unique())\n",
    "test_attacks = set(test_df['attack'].unique())\n",
    "\n",
    "print(f\"Training attacks: {len(train_attacks)} unique types\")\n",
    "print(f\"Test attacks: {len(test_attacks)} unique types\")\n",
    "\n",
    "attacks_only_in_train = train_attacks - test_attacks\n",
    "attacks_only_in_test = test_attacks - train_attacks\n",
    "common_attacks = train_attacks.intersection(test_attacks)\n",
    "\n",
    "print(f\"\\nAttacks ONLY in training: {len(attacks_only_in_train)}\")\n",
    "if attacks_only_in_train:\n",
    "    print(f\"   {list(attacks_only_in_train)}\")\n",
    "\n",
    "print(f\"\\nAttacks ONLY in test: {len(attacks_only_in_test)}\")  \n",
    "if attacks_only_in_test:\n",
    "    print(f\"   {list(attacks_only_in_test)}\")\n",
    "\n",
    "print(f\"\\nCommon attacks: {len(common_attacks)}\")"
   ]
  },
  {
   "cell_type": "code",
   "execution_count": 214,
   "id": "f12a4ed1",
   "metadata": {
    "execution": {
     "iopub.execute_input": "2025-09-01T06:06:03.414111Z",
     "iopub.status.busy": "2025-09-01T06:06:03.413880Z",
     "iopub.status.idle": "2025-09-01T06:06:03.426268Z",
     "shell.execute_reply": "2025-09-01T06:06:03.425590Z",
     "shell.execute_reply.started": "2025-09-01T06:06:03.414090Z"
    },
    "trusted": true
   },
   "outputs": [
    {
     "data": {
      "text/html": [
       "<div>\n",
       "<style scoped>\n",
       "    .dataframe tbody tr th:only-of-type {\n",
       "        vertical-align: middle;\n",
       "    }\n",
       "\n",
       "    .dataframe tbody tr th {\n",
       "        vertical-align: top;\n",
       "    }\n",
       "\n",
       "    .dataframe thead th {\n",
       "        text-align: right;\n",
       "    }\n",
       "</style>\n",
       "<table border=\"1\" class=\"dataframe\">\n",
       "  <thead>\n",
       "    <tr style=\"text-align: right;\">\n",
       "      <th></th>\n",
       "      <th>protocol_type</th>\n",
       "      <th>service</th>\n",
       "      <th>flag</th>\n",
       "    </tr>\n",
       "  </thead>\n",
       "  <tbody>\n",
       "    <tr>\n",
       "      <th>0</th>\n",
       "      <td>udp</td>\n",
       "      <td>other</td>\n",
       "      <td>SF</td>\n",
       "    </tr>\n",
       "    <tr>\n",
       "      <th>1</th>\n",
       "      <td>tcp</td>\n",
       "      <td>private</td>\n",
       "      <td>S0</td>\n",
       "    </tr>\n",
       "    <tr>\n",
       "      <th>2</th>\n",
       "      <td>tcp</td>\n",
       "      <td>http</td>\n",
       "      <td>SF</td>\n",
       "    </tr>\n",
       "    <tr>\n",
       "      <th>3</th>\n",
       "      <td>tcp</td>\n",
       "      <td>http</td>\n",
       "      <td>SF</td>\n",
       "    </tr>\n",
       "    <tr>\n",
       "      <th>4</th>\n",
       "      <td>tcp</td>\n",
       "      <td>private</td>\n",
       "      <td>REJ</td>\n",
       "    </tr>\n",
       "  </tbody>\n",
       "</table>\n",
       "</div>"
      ],
      "text/plain": [
       "  protocol_type  service flag\n",
       "0           udp    other   SF\n",
       "1           tcp  private   S0\n",
       "2           tcp     http   SF\n",
       "3           tcp     http   SF\n",
       "4           tcp  private  REJ"
      ]
     },
     "execution_count": 214,
     "metadata": {},
     "output_type": "execute_result"
    }
   ],
   "source": [
    "from sklearn.preprocessing import LabelEncoder, OneHotEncoder\n",
    "\n",
    "# Define categorical columns for encoding\n",
    "categorical_columns = ['protocol_type', 'service', 'flag']\n",
    "\n",
    "# Extract categorical values\n",
    "df_categorical_values = df[categorical_columns]\n",
    "testdf_categorical_values = test_df[categorical_columns]\n",
    "df_categorical_values.head()"
   ]
  },
  {
   "cell_type": "code",
   "execution_count": 215,
   "id": "e8430967",
   "metadata": {
    "execution": {
     "iopub.execute_input": "2025-09-01T06:06:03.428619Z",
     "iopub.status.busy": "2025-09-01T06:06:03.428418Z",
     "iopub.status.idle": "2025-09-01T06:06:03.452012Z",
     "shell.execute_reply": "2025-09-01T06:06:03.451350Z",
     "shell.execute_reply.started": "2025-09-01T06:06:03.428605Z"
    },
    "trusted": true
   },
   "outputs": [
    {
     "name": "stdout",
     "output_type": "stream",
     "text": [
      "Total columns: 84\n",
      "Protocol columns: 3\n",
      "Service columns: 70\n",
      "Flag columns: 11\n",
      "\n",
      "Services only in train: {'harvest', 'http_2784', 'http_8001', 'urh_i', 'aol', 'red_i'}\n",
      "Services only in test: set()\n",
      "Combined services: 70\n"
     ]
    }
   ],
   "source": [
    "# Generate column names for categorical encoding\n",
    "unique_protocol=sorted(df.protocol_type.unique())\n",
    "string1 = 'Protocol_type_'\n",
    "unique_protocol2=[string1 + x for x in unique_protocol]\n",
    "\n",
    "# Use combined unique services from both train and test sets\n",
    "unique_service_train = set(df.service.unique())\n",
    "unique_service_test = set(test_df.service.unique())\n",
    "unique_service_combined = sorted(list(unique_service_train.union(unique_service_test)))\n",
    "string2 = 'service_'\n",
    "unique_service2 = [string2 + x for x in unique_service_combined]\n",
    "\n",
    "# Flag columns\n",
    "unique_flag=sorted(df.flag.unique())\n",
    "string3 = 'flag_'\n",
    "unique_flag2=[string3 + x for x in unique_flag]\n",
    "\n",
    "# Combined columns for consistent encoding\n",
    "dumcols = unique_protocol2 + unique_service2 + unique_flag2\n",
    "testdumcols = dumcols\n",
    "\n",
    "print(f\"Total columns: {len(dumcols)}\")\n",
    "print(f\"Protocol columns: {len(unique_protocol2)}\")  \n",
    "print(f\"Service columns: {len(unique_service2)}\")\n",
    "print(f\"Flag columns: {len(unique_flag2)}\")\n",
    "\n",
    "print(f\"\\nServices only in train: {unique_service_train - unique_service_test}\")\n",
    "print(f\"Services only in test: {unique_service_test - unique_service_train}\")\n",
    "print(f\"Combined services: {len(unique_service_combined)}\")"
   ]
  },
  {
   "cell_type": "code",
   "execution_count": 216,
   "id": "39fc0da7",
   "metadata": {
    "execution": {
     "iopub.execute_input": "2025-09-01T06:06:03.452987Z",
     "iopub.status.busy": "2025-09-01T06:06:03.452723Z",
     "iopub.status.idle": "2025-09-01T06:06:03.526704Z",
     "shell.execute_reply": "2025-09-01T06:06:03.526164Z",
     "shell.execute_reply.started": "2025-09-01T06:06:03.452967Z"
    },
    "trusted": true
   },
   "outputs": [
    {
     "name": "stdout",
     "output_type": "stream",
     "text": [
      "   protocol_type  service  flag\n",
      "0              2       44     9\n",
      "1              1       49     5\n",
      "2              1       24     9\n",
      "3              1       24     9\n",
      "4              1       49     1\n"
     ]
    }
   ],
   "source": [
    "df_categorical_values_enc=df_categorical_values.apply(LabelEncoder().fit_transform)\n",
    "print(df_categorical_values_enc.head())\n",
    "# test set\n",
    "testdf_categorical_values_enc=testdf_categorical_values.apply(LabelEncoder().fit_transform)"
   ]
  },
  {
   "cell_type": "code",
   "execution_count": 217,
   "id": "0fdf2502",
   "metadata": {
    "execution": {
     "iopub.execute_input": "2025-09-01T06:06:03.527482Z",
     "iopub.status.busy": "2025-09-01T06:06:03.527299Z",
     "iopub.status.idle": "2025-09-01T06:06:03.730689Z",
     "shell.execute_reply": "2025-09-01T06:06:03.730028Z",
     "shell.execute_reply.started": "2025-09-01T06:06:03.527468Z"
    },
    "trusted": true
   },
   "outputs": [
    {
     "name": "stdout",
     "output_type": "stream",
     "text": [
      "Train set categorical shape: (125972, 84)\n",
      "Test set categorical shape: (22543, 84)\n",
      "Column names match: True\n"
     ]
    },
    {
     "data": {
      "text/html": [
       "<div>\n",
       "<style scoped>\n",
       "    .dataframe tbody tr th:only-of-type {\n",
       "        vertical-align: middle;\n",
       "    }\n",
       "\n",
       "    .dataframe tbody tr th {\n",
       "        vertical-align: top;\n",
       "    }\n",
       "\n",
       "    .dataframe thead th {\n",
       "        text-align: right;\n",
       "    }\n",
       "</style>\n",
       "<table border=\"1\" class=\"dataframe\">\n",
       "  <thead>\n",
       "    <tr style=\"text-align: right;\">\n",
       "      <th></th>\n",
       "      <th>Protocol_type_icmp</th>\n",
       "      <th>Protocol_type_tcp</th>\n",
       "      <th>Protocol_type_udp</th>\n",
       "      <th>service_IRC</th>\n",
       "      <th>service_X11</th>\n",
       "      <th>service_Z39_50</th>\n",
       "      <th>service_aol</th>\n",
       "      <th>service_auth</th>\n",
       "      <th>service_bgp</th>\n",
       "      <th>service_courier</th>\n",
       "      <th>...</th>\n",
       "      <th>flag_REJ</th>\n",
       "      <th>flag_RSTO</th>\n",
       "      <th>flag_RSTOS0</th>\n",
       "      <th>flag_RSTR</th>\n",
       "      <th>flag_S0</th>\n",
       "      <th>flag_S1</th>\n",
       "      <th>flag_S2</th>\n",
       "      <th>flag_S3</th>\n",
       "      <th>flag_SF</th>\n",
       "      <th>flag_SH</th>\n",
       "    </tr>\n",
       "  </thead>\n",
       "  <tbody>\n",
       "    <tr>\n",
       "      <th>0</th>\n",
       "      <td>0.0</td>\n",
       "      <td>0.0</td>\n",
       "      <td>1.0</td>\n",
       "      <td>0.0</td>\n",
       "      <td>0.0</td>\n",
       "      <td>0.0</td>\n",
       "      <td>0.0</td>\n",
       "      <td>0.0</td>\n",
       "      <td>0.0</td>\n",
       "      <td>0.0</td>\n",
       "      <td>...</td>\n",
       "      <td>0.0</td>\n",
       "      <td>0.0</td>\n",
       "      <td>0.0</td>\n",
       "      <td>0.0</td>\n",
       "      <td>0.0</td>\n",
       "      <td>0.0</td>\n",
       "      <td>0.0</td>\n",
       "      <td>0.0</td>\n",
       "      <td>1.0</td>\n",
       "      <td>0.0</td>\n",
       "    </tr>\n",
       "    <tr>\n",
       "      <th>1</th>\n",
       "      <td>0.0</td>\n",
       "      <td>1.0</td>\n",
       "      <td>0.0</td>\n",
       "      <td>0.0</td>\n",
       "      <td>0.0</td>\n",
       "      <td>0.0</td>\n",
       "      <td>0.0</td>\n",
       "      <td>0.0</td>\n",
       "      <td>0.0</td>\n",
       "      <td>0.0</td>\n",
       "      <td>...</td>\n",
       "      <td>0.0</td>\n",
       "      <td>0.0</td>\n",
       "      <td>0.0</td>\n",
       "      <td>0.0</td>\n",
       "      <td>1.0</td>\n",
       "      <td>0.0</td>\n",
       "      <td>0.0</td>\n",
       "      <td>0.0</td>\n",
       "      <td>0.0</td>\n",
       "      <td>0.0</td>\n",
       "    </tr>\n",
       "    <tr>\n",
       "      <th>2</th>\n",
       "      <td>0.0</td>\n",
       "      <td>1.0</td>\n",
       "      <td>0.0</td>\n",
       "      <td>0.0</td>\n",
       "      <td>0.0</td>\n",
       "      <td>0.0</td>\n",
       "      <td>0.0</td>\n",
       "      <td>0.0</td>\n",
       "      <td>0.0</td>\n",
       "      <td>0.0</td>\n",
       "      <td>...</td>\n",
       "      <td>0.0</td>\n",
       "      <td>0.0</td>\n",
       "      <td>0.0</td>\n",
       "      <td>0.0</td>\n",
       "      <td>0.0</td>\n",
       "      <td>0.0</td>\n",
       "      <td>0.0</td>\n",
       "      <td>0.0</td>\n",
       "      <td>1.0</td>\n",
       "      <td>0.0</td>\n",
       "    </tr>\n",
       "    <tr>\n",
       "      <th>3</th>\n",
       "      <td>0.0</td>\n",
       "      <td>1.0</td>\n",
       "      <td>0.0</td>\n",
       "      <td>0.0</td>\n",
       "      <td>0.0</td>\n",
       "      <td>0.0</td>\n",
       "      <td>0.0</td>\n",
       "      <td>0.0</td>\n",
       "      <td>0.0</td>\n",
       "      <td>0.0</td>\n",
       "      <td>...</td>\n",
       "      <td>0.0</td>\n",
       "      <td>0.0</td>\n",
       "      <td>0.0</td>\n",
       "      <td>0.0</td>\n",
       "      <td>0.0</td>\n",
       "      <td>0.0</td>\n",
       "      <td>0.0</td>\n",
       "      <td>0.0</td>\n",
       "      <td>1.0</td>\n",
       "      <td>0.0</td>\n",
       "    </tr>\n",
       "    <tr>\n",
       "      <th>4</th>\n",
       "      <td>0.0</td>\n",
       "      <td>1.0</td>\n",
       "      <td>0.0</td>\n",
       "      <td>0.0</td>\n",
       "      <td>0.0</td>\n",
       "      <td>0.0</td>\n",
       "      <td>0.0</td>\n",
       "      <td>0.0</td>\n",
       "      <td>0.0</td>\n",
       "      <td>0.0</td>\n",
       "      <td>...</td>\n",
       "      <td>1.0</td>\n",
       "      <td>0.0</td>\n",
       "      <td>0.0</td>\n",
       "      <td>0.0</td>\n",
       "      <td>0.0</td>\n",
       "      <td>0.0</td>\n",
       "      <td>0.0</td>\n",
       "      <td>0.0</td>\n",
       "      <td>0.0</td>\n",
       "      <td>0.0</td>\n",
       "    </tr>\n",
       "  </tbody>\n",
       "</table>\n",
       "<p>5 rows × 84 columns</p>\n",
       "</div>"
      ],
      "text/plain": [
       "   Protocol_type_icmp  Protocol_type_tcp  Protocol_type_udp  service_IRC  \\\n",
       "0                 0.0                0.0                1.0          0.0   \n",
       "1                 0.0                1.0                0.0          0.0   \n",
       "2                 0.0                1.0                0.0          0.0   \n",
       "3                 0.0                1.0                0.0          0.0   \n",
       "4                 0.0                1.0                0.0          0.0   \n",
       "\n",
       "   service_X11  service_Z39_50  service_aol  service_auth  service_bgp  \\\n",
       "0          0.0             0.0          0.0           0.0          0.0   \n",
       "1          0.0             0.0          0.0           0.0          0.0   \n",
       "2          0.0             0.0          0.0           0.0          0.0   \n",
       "3          0.0             0.0          0.0           0.0          0.0   \n",
       "4          0.0             0.0          0.0           0.0          0.0   \n",
       "\n",
       "   service_courier  ...  flag_REJ  flag_RSTO  flag_RSTOS0  flag_RSTR  flag_S0  \\\n",
       "0              0.0  ...       0.0        0.0          0.0        0.0      0.0   \n",
       "1              0.0  ...       0.0        0.0          0.0        0.0      1.0   \n",
       "2              0.0  ...       0.0        0.0          0.0        0.0      0.0   \n",
       "3              0.0  ...       0.0        0.0          0.0        0.0      0.0   \n",
       "4              0.0  ...       1.0        0.0          0.0        0.0      0.0   \n",
       "\n",
       "   flag_S1  flag_S2  flag_S3  flag_SF  flag_SH  \n",
       "0      0.0      0.0      0.0      1.0      0.0  \n",
       "1      0.0      0.0      0.0      0.0      0.0  \n",
       "2      0.0      0.0      0.0      1.0      0.0  \n",
       "3      0.0      0.0      0.0      1.0      0.0  \n",
       "4      0.0      0.0      0.0      0.0      0.0  \n",
       "\n",
       "[5 rows x 84 columns]"
      ]
     },
     "execution_count": 217,
     "metadata": {},
     "output_type": "execute_result"
    }
   ],
   "source": [
    "# OneHot encoding with proper handling of different categorical values\n",
    "from sklearn.preprocessing import OneHotEncoder\n",
    "import pandas as pd\n",
    "\n",
    "# Combine train and test categorical data to capture all possible categories\n",
    "combined_categorical = pd.concat([df_categorical_values_enc, testdf_categorical_values_enc], ignore_index=True)\n",
    "\n",
    "# Fit encoder on combined data to handle all categories consistently\n",
    "enc = OneHotEncoder(sparse_output=False, handle_unknown='ignore')\n",
    "enc.fit(combined_categorical)\n",
    "\n",
    "# Transform train and test sets\n",
    "df_categorical_values_encenc = enc.transform(df_categorical_values_enc)\n",
    "df_cat_data = pd.DataFrame(df_categorical_values_encenc, columns=dumcols)\n",
    "\n",
    "testdf_categorical_values_encenc = enc.transform(testdf_categorical_values_enc)\n",
    "testdf_cat_data = pd.DataFrame(testdf_categorical_values_encenc, columns=dumcols)\n",
    "\n",
    "print(f\"Train set categorical shape: {df_cat_data.shape}\")\n",
    "print(f\"Test set categorical shape: {testdf_cat_data.shape}\")\n",
    "print(f\"Column names match: {list(df_cat_data.columns) == list(testdf_cat_data.columns)}\")\n",
    "\n",
    "df_cat_data.head()"
   ]
  },
  {
   "cell_type": "code",
   "execution_count": 218,
   "id": "a6442620",
   "metadata": {
    "execution": {
     "iopub.execute_input": "2025-09-01T06:06:03.731619Z",
     "iopub.status.busy": "2025-09-01T06:06:03.731413Z",
     "iopub.status.idle": "2025-09-01T06:06:03.736071Z",
     "shell.execute_reply": "2025-09-01T06:06:03.735364Z",
     "shell.execute_reply.started": "2025-09-01T06:06:03.731603Z"
    },
    "trusted": true
   },
   "outputs": [
    {
     "name": "stdout",
     "output_type": "stream",
     "text": [
      "Column structure verification:\n",
      "Train categorical shape: (125972, 84)\n",
      "Test categorical shape: (22543, 84)\n",
      "Columns match: True\n"
     ]
    }
   ],
   "source": [
    "# Verify column structure consistency\n",
    "print(\"Column structure verification:\")\n",
    "print(f\"Train categorical shape: {df_cat_data.shape}\")\n",
    "print(f\"Test categorical shape: {testdf_cat_data.shape}\")\n",
    "print(f\"Columns match: {df_cat_data.shape[1] == testdf_cat_data.shape[1]}\")"
   ]
  },
  {
   "cell_type": "code",
   "execution_count": 219,
   "id": "a127a77f",
   "metadata": {
    "execution": {
     "iopub.execute_input": "2025-09-01T06:06:03.737128Z",
     "iopub.status.busy": "2025-09-01T06:06:03.736812Z",
     "iopub.status.idle": "2025-09-01T06:06:03.747577Z",
     "shell.execute_reply": "2025-09-01T06:06:03.747046Z",
     "shell.execute_reply.started": "2025-09-01T06:06:03.737108Z"
    },
    "trusted": true
   },
   "outputs": [
    {
     "name": "stdout",
     "output_type": "stream",
     "text": [
      "Column structure consistency achieved\n",
      "Final train categorical shape: (125972, 84)\n",
      "Final test categorical shape: (22543, 84)\n",
      "Verification complete - ready to proceed\n"
     ]
    }
   ],
   "source": [
    "# Final verification of column structure consistency\n",
    "print(\"Column structure consistency achieved\")\n",
    "\n",
    "print(f\"Final train categorical shape: {df_cat_data.shape}\")\n",
    "print(f\"Final test categorical shape: {testdf_cat_data.shape}\")\n",
    "assert df_cat_data.shape[1] == testdf_cat_data.shape[1], \"Column count mismatch!\"\n",
    "print(\"Verification complete - ready to proceed\")"
   ]
  },
  {
   "cell_type": "code",
   "execution_count": 220,
   "id": "972bda2b",
   "metadata": {
    "execution": {
     "iopub.execute_input": "2025-09-01T06:06:03.748974Z",
     "iopub.status.busy": "2025-09-01T06:06:03.748243Z",
     "iopub.status.idle": "2025-09-01T06:06:04.242142Z",
     "shell.execute_reply": "2025-09-01T06:06:04.241494Z",
     "shell.execute_reply.started": "2025-09-01T06:06:03.748951Z"
    },
    "trusted": true
   },
   "outputs": [
    {
     "name": "stdout",
     "output_type": "stream",
     "text": [
      "(125972, 124)\n",
      "(22543, 124)\n",
      "(125972, 124)\n",
      "(22543, 124)\n"
     ]
    }
   ],
   "source": [
    "newdf=df.join(df_cat_data)\n",
    "newdf.drop('flag', axis=1, inplace=True)\n",
    "newdf.drop('protocol_type', axis=1, inplace=True)\n",
    "newdf.drop('service', axis=1, inplace=True)\n",
    "# test data\n",
    "newdf_test=test_df.join(testdf_cat_data)\n",
    "newdf_test.drop('flag', axis=1, inplace=True)\n",
    "newdf_test.drop('protocol_type', axis=1, inplace=True)\n",
    "newdf_test.drop('service', axis=1, inplace=True)\n",
    "print(newdf.shape)\n",
    "print(newdf_test.shape)\n",
    "newdf=df.join(df_cat_data)\n",
    "newdf.drop('flag', axis=1, inplace=True)\n",
    "newdf.drop('protocol_type', axis=1, inplace=True)\n",
    "newdf.drop('service', axis=1, inplace=True)\n",
    "# test data\n",
    "newdf_test=test_df.join(testdf_cat_data)\n",
    "newdf_test.drop('flag', axis=1, inplace=True)\n",
    "newdf_test.drop('protocol_type', axis=1, inplace=True)\n",
    "newdf_test.drop('service', axis=1, inplace=True)\n",
    "print(newdf.shape)\n",
    "print(newdf_test.shape)"
   ]
  },
  {
   "cell_type": "code",
   "execution_count": 221,
   "id": "b9f48053",
   "metadata": {
    "execution": {
     "iopub.execute_input": "2025-09-01T06:06:04.243104Z",
     "iopub.status.busy": "2025-09-01T06:06:04.242889Z",
     "iopub.status.idle": "2025-09-01T06:06:04.465864Z",
     "shell.execute_reply": "2025-09-01T06:06:04.465010Z",
     "shell.execute_reply.started": "2025-09-01T06:06:04.243087Z"
    },
    "trusted": true
   },
   "outputs": [
    {
     "name": "stdout",
     "output_type": "stream",
     "text": [
      "0    0\n",
      "1    1\n",
      "2    0\n",
      "3    0\n",
      "4    1\n",
      "Name: attack, dtype: int64\n"
     ]
    },
    {
     "name": "stderr",
     "output_type": "stream",
     "text": [
      "/tmp/ipykernel_36/1623462165.py:5: FutureWarning: Downcasting behavior in `replace` is deprecated and will be removed in a future version. To retain the old behavior, explicitly call `result.infer_objects(copy=False)`. To opt-in to the future behavior, set `pd.set_option('future.no_silent_downcasting', True)`\n",
      "  newlabeldf=labeldf.replace({ 'normal' : 0, 'neptune' : 1 ,'back': 1, 'land': 1, 'pod': 1, 'smurf': 1, 'teardrop': 1,'mailbomb': 1, 'apache2': 1, 'processtable': 1, 'udpstorm': 1, 'worm': 1,\n",
      "/tmp/ipykernel_36/1623462165.py:9: FutureWarning: Downcasting behavior in `replace` is deprecated and will be removed in a future version. To retain the old behavior, explicitly call `result.infer_objects(copy=False)`. To opt-in to the future behavior, set `pd.set_option('future.no_silent_downcasting', True)`\n",
      "  newlabeldf_test=labeldf_test.replace({ 'normal' : 0, 'neptune' : 1 ,'back': 1, 'land': 1, 'pod': 1, 'smurf': 1, 'teardrop': 1,'mailbomb': 1, 'apache2': 1, 'processtable': 1, 'udpstorm': 1, 'worm': 1,\n"
     ]
    }
   ],
   "source": [
    "# take label column\n",
    "labeldf=newdf['attack']\n",
    "labeldf_test=newdf_test['attack']\n",
    "# change the label column\n",
    "newlabeldf=labeldf.replace({ 'normal' : 0, 'neptune' : 1 ,'back': 1, 'land': 1, 'pod': 1, 'smurf': 1, 'teardrop': 1,'mailbomb': 1, 'apache2': 1, 'processtable': 1, 'udpstorm': 1, 'worm': 1,\n",
    "                           'ipsweep' : 2,'nmap' : 2,'portsweep' : 2,'satan' : 2,'mscan' : 2,'saint' : 2\n",
    "                           ,'ftp_write': 3,'guess_passwd': 3,'imap': 3,'multihop': 3,'phf': 3,'spy': 3,'warezclient': 3,'warezmaster': 3,'sendmail': 3,'named': 3,'snmpgetattack': 3,'snmpguess': 3,'xlock': 3,'xsnoop': 3,'httptunnel': 3,\n",
    "                           'buffer_overflow': 4,'loadmodule': 4,'perl': 4,'rootkit': 4,'ps': 4,'sqlattack': 4,'xterm': 4})\n",
    "newlabeldf_test=labeldf_test.replace({ 'normal' : 0, 'neptune' : 1 ,'back': 1, 'land': 1, 'pod': 1, 'smurf': 1, 'teardrop': 1,'mailbomb': 1, 'apache2': 1, 'processtable': 1, 'udpstorm': 1, 'worm': 1,\n",
    "                           'ipsweep' : 2,'nmap' : 2,'portsweep' : 2,'satan' : 2,'mscan' : 2,'saint' : 2\n",
    "                           ,'ftp_write': 3,'guess_passwd': 3,'imap': 3,'multihop': 3,'phf': 3,'spy': 3,'warezclient': 3,'warezmaster': 3,'sendmail': 3,'named': 3,'snmpgetattack': 3,'snmpguess': 3,'xlock': 3,'xsnoop': 3,'httptunnel': 3,\n",
    "                           'buffer_overflow': 4,'loadmodule': 4,'perl': 4,'rootkit': 4,'ps': 4,'sqlattack': 4,'xterm': 4})\n",
    "# put the new label column back\n",
    "newdf['attack'] = newlabeldf\n",
    "newdf_test['attack'] = newlabeldf_test\n",
    "print(newdf['attack'].head())\n"
   ]
  },
  {
   "cell_type": "code",
   "execution_count": 222,
   "id": "7943b81e",
   "metadata": {
    "execution": {
     "iopub.execute_input": "2025-09-01T06:06:04.466903Z",
     "iopub.status.busy": "2025-09-01T06:06:04.466664Z",
     "iopub.status.idle": "2025-09-01T06:06:04.608329Z",
     "shell.execute_reply": "2025-09-01T06:06:04.607757Z",
     "shell.execute_reply.started": "2025-09-01T06:06:04.466887Z"
    },
    "trusted": true
   },
   "outputs": [
    {
     "name": "stdout",
     "output_type": "stream",
     "text": [
      "Train:\n",
      "Dimensions of DoS: (113269, 124)\n",
      "Dimensions of Probe: (78998, 124)\n",
      "Dimensions of R2L: (68337, 124)\n",
      "Dimensions of U2R: (67394, 124)\n",
      "Test:\n",
      "Dimensions of DoS: (17170, 124)\n",
      "Dimensions of Probe: (12132, 124)\n",
      "Dimensions of R2L: (12596, 124)\n",
      "Dimensions of U2R: (9778, 124)\n"
     ]
    }
   ],
   "source": [
    "to_drop_DoS = [2,3,4]\n",
    "to_drop_Probe = [1,3,4]\n",
    "to_drop_R2L = [1,2,4]\n",
    "to_drop_U2R = [1,2,3]\n",
    "DoS_df=newdf[~newdf['attack'].isin(to_drop_DoS)];\n",
    "Probe_df=newdf[~newdf['attack'].isin(to_drop_Probe)];\n",
    "R2L_df=newdf[~newdf['attack'].isin(to_drop_R2L)];\n",
    "U2R_df=newdf[~newdf['attack'].isin(to_drop_U2R)];\n",
    "\n",
    "#test\n",
    "DoS_df_test=newdf_test[~newdf_test['attack'].isin(to_drop_DoS)];\n",
    "Probe_df_test=newdf_test[~newdf_test['attack'].isin(to_drop_Probe)];\n",
    "R2L_df_test=newdf_test[~newdf_test['attack'].isin(to_drop_R2L)];\n",
    "U2R_df_test=newdf_test[~newdf_test['attack'].isin(to_drop_U2R)];\n",
    "print('Train:')\n",
    "print('Dimensions of DoS:' ,DoS_df.shape)\n",
    "print('Dimensions of Probe:' ,Probe_df.shape)\n",
    "print('Dimensions of R2L:' ,R2L_df.shape)\n",
    "print('Dimensions of U2R:' ,U2R_df.shape)\n",
    "print('Test:')\n",
    "print('Dimensions of DoS:' ,DoS_df_test.shape)\n",
    "print('Dimensions of Probe:' ,Probe_df_test.shape)\n",
    "print('Dimensions of R2L:' ,R2L_df_test.shape)\n",
    "print('Dimensions of U2R:' ,U2R_df_test.shape)"
   ]
  },
  {
   "cell_type": "code",
   "execution_count": 223,
   "id": "226601c5",
   "metadata": {
    "execution": {
     "iopub.execute_input": "2025-09-01T06:06:04.609177Z",
     "iopub.status.busy": "2025-09-01T06:06:04.608997Z",
     "iopub.status.idle": "2025-09-01T06:06:04.713724Z",
     "shell.execute_reply": "2025-09-01T06:06:04.713102Z",
     "shell.execute_reply.started": "2025-09-01T06:06:04.609163Z"
    },
    "trusted": true
   },
   "outputs": [],
   "source": [
    "# Split dataframes into X & Y\n",
    "# assign X as a dataframe of feautures and Y as a series of outcome variables\n",
    "X_DoS = DoS_df.drop('attack', axis=1)\n",
    "Y_DoS = DoS_df.attack\n",
    "X_Probe = Probe_df.drop('attack', axis=1)\n",
    "Y_Probe = Probe_df.attack\n",
    "X_R2L = R2L_df.drop('attack', axis=1)\n",
    "Y_R2L = R2L_df.attack\n",
    "X_U2R = U2R_df.drop('attack', axis=1)\n",
    "Y_U2R = U2R_df.attack\n",
    "# test set\n",
    "X_DoS_test = DoS_df_test.drop('attack', axis=1)\n",
    "Y_DoS_test = DoS_df_test.attack\n",
    "X_Probe_test = Probe_df_test.drop('attack', axis=1)\n",
    "Y_Probe_test = Probe_df_test.attack\n",
    "X_R2L_test = R2L_df_test.drop('attack', axis=1)\n",
    "Y_R2L_test = R2L_df_test.attack\n",
    "X_U2R_test = U2R_df_test.drop('attack', axis=1)\n",
    "Y_U2R_test = U2R_df_test.attack"
   ]
  },
  {
   "cell_type": "code",
   "execution_count": 224,
   "id": "3d1416f8",
   "metadata": {
    "execution": {
     "iopub.execute_input": "2025-09-01T06:06:04.714586Z",
     "iopub.status.busy": "2025-09-01T06:06:04.714385Z",
     "iopub.status.idle": "2025-09-01T06:06:04.718376Z",
     "shell.execute_reply": "2025-09-01T06:06:04.717595Z",
     "shell.execute_reply.started": "2025-09-01T06:06:04.714570Z"
    },
    "trusted": true
   },
   "outputs": [],
   "source": [
    "colNames=list(X_Probe)\n",
    "colNames_test=list(X_Probe_test)"
   ]
  },
  {
   "cell_type": "code",
   "execution_count": 225,
   "id": "fe3614d3",
   "metadata": {
    "execution": {
     "iopub.execute_input": "2025-09-01T06:06:04.719336Z",
     "iopub.status.busy": "2025-09-01T06:06:04.719154Z",
     "iopub.status.idle": "2025-09-01T06:06:04.944282Z",
     "shell.execute_reply": "2025-09-01T06:06:04.943520Z",
     "shell.execute_reply.started": "2025-09-01T06:06:04.719322Z"
    },
    "trusted": true
   },
   "outputs": [],
   "source": [
    "from sklearn import preprocessing\n",
    "\n",
    "# Feature scaling - fit on training data, transform both train and test\n",
    "scaler = preprocessing.StandardScaler().fit(X_Probe)\n",
    "X_Probe = scaler.transform(X_Probe)\n",
    "X_Probe_test = scaler.transform(X_Probe_test)"
   ]
  },
  {
   "cell_type": "code",
   "execution_count": 226,
   "id": "cf5860e4",
   "metadata": {
    "execution": {
     "iopub.execute_input": "2025-09-01T06:06:04.945521Z",
     "iopub.status.busy": "2025-09-01T06:06:04.945281Z",
     "iopub.status.idle": "2025-09-01T06:06:04.994114Z",
     "shell.execute_reply": "2025-09-01T06:06:04.993257Z",
     "shell.execute_reply.started": "2025-09-01T06:06:04.945502Z"
    },
    "trusted": true
   },
   "outputs": [
    {
     "name": "stdout",
     "output_type": "stream",
     "text": [
      "Standard deviation check (should be ~1.0):\n",
      "[1. 1. 1. 1. 0. 1. 1. 1. 1. 1.]\n"
     ]
    }
   ],
   "source": [
    "# Verify standardization results\n",
    "print(\"Standard deviation check (should be ~1.0):\")\n",
    "print(X_Probe.std(axis=0)[:10])  # Show first 10 features"
   ]
  },
  {
   "cell_type": "code",
   "execution_count": 227,
   "id": "2ebfd60a-0e30-421a-871d-99c0e7c720d8",
   "metadata": {
    "execution": {
     "iopub.execute_input": "2025-09-01T06:06:04.995385Z",
     "iopub.status.busy": "2025-09-01T06:06:04.995115Z",
     "iopub.status.idle": "2025-09-01T06:06:05.000153Z",
     "shell.execute_reply": "2025-09-01T06:06:04.999598Z",
     "shell.execute_reply.started": "2025-09-01T06:06:04.995365Z"
    },
    "trusted": true
   },
   "outputs": [
    {
     "data": {
      "text/plain": [
       "(78998,)"
      ]
     },
     "execution_count": 227,
     "metadata": {},
     "output_type": "execute_result"
    }
   ],
   "source": [
    "Y_Probe.shape"
   ]
  },
  {
   "cell_type": "code",
   "execution_count": 228,
   "id": "2434aca2-2de7-4c54-a476-5b07c424af19",
   "metadata": {
    "execution": {
     "iopub.execute_input": "2025-09-01T06:06:05.001244Z",
     "iopub.status.busy": "2025-09-01T06:06:05.000976Z",
     "iopub.status.idle": "2025-09-01T06:06:05.012070Z",
     "shell.execute_reply": "2025-09-01T06:06:05.011407Z",
     "shell.execute_reply.started": "2025-09-01T06:06:05.001204Z"
    },
    "trusted": true
   },
   "outputs": [
    {
     "data": {
      "text/plain": [
       "(78998, 123)"
      ]
     },
     "execution_count": 228,
     "metadata": {},
     "output_type": "execute_result"
    }
   ],
   "source": [
    "X_Probe.shape"
   ]
  },
  {
   "cell_type": "code",
   "execution_count": 229,
   "id": "16f6a879",
   "metadata": {
    "execution": {
     "iopub.execute_input": "2025-09-01T06:06:05.012908Z",
     "iopub.status.busy": "2025-09-01T06:06:05.012710Z",
     "iopub.status.idle": "2025-09-01T06:06:05.165536Z",
     "shell.execute_reply": "2025-09-01T06:06:05.164965Z",
     "shell.execute_reply.started": "2025-09-01T06:06:05.012895Z"
    },
    "trusted": true
   },
   "outputs": [
    {
     "name": "stderr",
     "output_type": "stream",
     "text": [
      "/usr/local/lib/python3.11/dist-packages/sklearn/feature_selection/_univariate_selection.py:112: UserWarning: Features [ 4 16] are constant.\n",
      "  warnings.warn(\"Features %s are constant.\" % constant_features_idx, UserWarning)\n"
     ]
    },
    {
     "data": {
      "text/plain": [
       "(78998, 13)"
      ]
     },
     "execution_count": 229,
     "metadata": {},
     "output_type": "execute_result"
    }
   ],
   "source": [
    "from sklearn.feature_selection import SelectPercentile, f_classif\n",
    "np.seterr(divide='ignore', invalid='ignore');\n",
    "selector=SelectPercentile(f_classif, percentile=10)\n",
    "X_new = selector.fit_transform(X_Probe,Y_Probe)\n",
    "X_new.shape"
   ]
  },
  {
   "cell_type": "code",
   "execution_count": 230,
   "id": "48c4cc00",
   "metadata": {
    "execution": {
     "iopub.execute_input": "2025-09-01T06:06:05.166380Z",
     "iopub.status.busy": "2025-09-01T06:06:05.166153Z",
     "iopub.status.idle": "2025-09-01T06:06:05.172510Z",
     "shell.execute_reply": "2025-09-01T06:06:05.171758Z",
     "shell.execute_reply.started": "2025-09-01T06:06:05.166363Z"
    },
    "trusted": true
   },
   "outputs": [
    {
     "data": {
      "text/plain": [
       "['logged_in',\n",
       " 'rerror_rate',\n",
       " 'srv_rerror_rate',\n",
       " 'dst_host_srv_count',\n",
       " 'dst_host_diff_srv_rate',\n",
       " 'dst_host_same_src_port_rate',\n",
       " 'dst_host_rerror_rate',\n",
       " 'dst_host_srv_rerror_rate',\n",
       " 'level',\n",
       " 'Protocol_type_icmp',\n",
       " 'service_eco_i',\n",
       " 'service_private',\n",
       " 'flag_SF']"
      ]
     },
     "execution_count": 230,
     "metadata": {},
     "output_type": "execute_result"
    }
   ],
   "source": [
    "true=selector.get_support()\n",
    "newcolindex=[i for i, x in enumerate(true) if x]\n",
    "newcolname=list( colNames[i] for i in newcolindex )\n",
    "newcolname"
   ]
  },
  {
   "cell_type": "code",
   "execution_count": 231,
   "id": "70624d33",
   "metadata": {
    "execution": {
     "iopub.execute_input": "2025-09-01T06:06:05.173622Z",
     "iopub.status.busy": "2025-09-01T06:06:05.173372Z",
     "iopub.status.idle": "2025-09-01T06:06:34.174038Z",
     "shell.execute_reply": "2025-09-01T06:06:34.173443Z",
     "shell.execute_reply.started": "2025-09-01T06:06:05.173602Z"
    },
    "trusted": true
   },
   "outputs": [],
   "source": [
    "from sklearn.feature_selection import RFE\n",
    "clf = DecisionTreeClassifier(random_state=0)\n",
    "rfe = RFE(estimator=clf, n_features_to_select=13, step=1)\n",
    "rfe.fit(X_Probe, Y_Probe)\n",
    "X_rfe=rfe.transform(X_Probe)\n",
    "true=rfe.support_\n",
    "rfecolindex=[i for i, x in enumerate(true) if x]\n",
    "rfecolname=list(colNames[i] for i in rfecolindex)"
   ]
  },
  {
   "cell_type": "code",
   "execution_count": 232,
   "id": "8da48291",
   "metadata": {
    "execution": {
     "iopub.execute_input": "2025-09-01T06:06:34.174926Z",
     "iopub.status.busy": "2025-09-01T06:06:34.174695Z",
     "iopub.status.idle": "2025-09-01T06:06:34.179444Z",
     "shell.execute_reply": "2025-09-01T06:06:34.178782Z",
     "shell.execute_reply.started": "2025-09-01T06:06:34.174909Z"
    },
    "trusted": true
   },
   "outputs": [
    {
     "name": "stdout",
     "output_type": "stream",
     "text": [
      "Features selected for Probe classification:\n",
      "  - src_bytes\n",
      "  - dst_bytes\n",
      "  - rerror_rate\n",
      "  - dst_host_same_srv_rate\n",
      "  - dst_host_diff_srv_rate\n",
      "  - dst_host_same_src_port_rate\n",
      "  - dst_host_rerror_rate\n",
      "  - level\n",
      "  - service_finger\n",
      "  - service_ftp_data\n",
      "  - service_http\n",
      "  - service_private\n",
      "  - service_smtp\n"
     ]
    }
   ],
   "source": [
    "# Display selected features for DoS classification\n",
    "print('Features selected for Probe classification:')\n",
    "for feature in rfecolname:\n",
    "    print(f\"  - {feature}\")"
   ]
  },
  {
   "cell_type": "code",
   "execution_count": 233,
   "id": "2163ba21",
   "metadata": {
    "execution": {
     "iopub.execute_input": "2025-09-01T06:06:34.183963Z",
     "iopub.status.busy": "2025-09-01T06:06:34.183441Z",
     "iopub.status.idle": "2025-09-01T06:06:34.192256Z",
     "shell.execute_reply": "2025-09-01T06:06:34.191578Z",
     "shell.execute_reply.started": "2025-09-01T06:06:34.183946Z"
    },
    "trusted": true
   },
   "outputs": [
    {
     "name": "stdout",
     "output_type": "stream",
     "text": [
      "(78998, 13)\n"
     ]
    }
   ],
   "source": [
    "print(X_rfe.shape)"
   ]
  },
  {
   "cell_type": "code",
   "execution_count": 234,
   "id": "d4194bec",
   "metadata": {
    "execution": {
     "iopub.execute_input": "2025-09-01T06:06:34.193175Z",
     "iopub.status.busy": "2025-09-01T06:06:34.193018Z",
     "iopub.status.idle": "2025-09-01T06:06:34.570219Z",
     "shell.execute_reply": "2025-09-01T06:06:34.569629Z",
     "shell.execute_reply.started": "2025-09-01T06:06:34.193162Z"
    },
    "trusted": true
   },
   "outputs": [
    {
     "data": {
      "text/html": [
       "<style>#sk-container-id-7 {color: black;background-color: white;}#sk-container-id-7 pre{padding: 0;}#sk-container-id-7 div.sk-toggleable {background-color: white;}#sk-container-id-7 label.sk-toggleable__label {cursor: pointer;display: block;width: 100%;margin-bottom: 0;padding: 0.3em;box-sizing: border-box;text-align: center;}#sk-container-id-7 label.sk-toggleable__label-arrow:before {content: \"▸\";float: left;margin-right: 0.25em;color: #696969;}#sk-container-id-7 label.sk-toggleable__label-arrow:hover:before {color: black;}#sk-container-id-7 div.sk-estimator:hover label.sk-toggleable__label-arrow:before {color: black;}#sk-container-id-7 div.sk-toggleable__content {max-height: 0;max-width: 0;overflow: hidden;text-align: left;background-color: #f0f8ff;}#sk-container-id-7 div.sk-toggleable__content pre {margin: 0.2em;color: black;border-radius: 0.25em;background-color: #f0f8ff;}#sk-container-id-7 input.sk-toggleable__control:checked~div.sk-toggleable__content {max-height: 200px;max-width: 100%;overflow: auto;}#sk-container-id-7 input.sk-toggleable__control:checked~label.sk-toggleable__label-arrow:before {content: \"▾\";}#sk-container-id-7 div.sk-estimator input.sk-toggleable__control:checked~label.sk-toggleable__label {background-color: #d4ebff;}#sk-container-id-7 div.sk-label input.sk-toggleable__control:checked~label.sk-toggleable__label {background-color: #d4ebff;}#sk-container-id-7 input.sk-hidden--visually {border: 0;clip: rect(1px 1px 1px 1px);clip: rect(1px, 1px, 1px, 1px);height: 1px;margin: -1px;overflow: hidden;padding: 0;position: absolute;width: 1px;}#sk-container-id-7 div.sk-estimator {font-family: monospace;background-color: #f0f8ff;border: 1px dotted black;border-radius: 0.25em;box-sizing: border-box;margin-bottom: 0.5em;}#sk-container-id-7 div.sk-estimator:hover {background-color: #d4ebff;}#sk-container-id-7 div.sk-parallel-item::after {content: \"\";width: 100%;border-bottom: 1px solid gray;flex-grow: 1;}#sk-container-id-7 div.sk-label:hover label.sk-toggleable__label {background-color: #d4ebff;}#sk-container-id-7 div.sk-serial::before {content: \"\";position: absolute;border-left: 1px solid gray;box-sizing: border-box;top: 0;bottom: 0;left: 50%;z-index: 0;}#sk-container-id-7 div.sk-serial {display: flex;flex-direction: column;align-items: center;background-color: white;padding-right: 0.2em;padding-left: 0.2em;position: relative;}#sk-container-id-7 div.sk-item {position: relative;z-index: 1;}#sk-container-id-7 div.sk-parallel {display: flex;align-items: stretch;justify-content: center;background-color: white;position: relative;}#sk-container-id-7 div.sk-item::before, #sk-container-id-7 div.sk-parallel-item::before {content: \"\";position: absolute;border-left: 1px solid gray;box-sizing: border-box;top: 0;bottom: 0;left: 50%;z-index: -1;}#sk-container-id-7 div.sk-parallel-item {display: flex;flex-direction: column;z-index: 1;position: relative;background-color: white;}#sk-container-id-7 div.sk-parallel-item:first-child::after {align-self: flex-end;width: 50%;}#sk-container-id-7 div.sk-parallel-item:last-child::after {align-self: flex-start;width: 50%;}#sk-container-id-7 div.sk-parallel-item:only-child::after {width: 0;}#sk-container-id-7 div.sk-dashed-wrapped {border: 1px dashed gray;margin: 0 0.4em 0.5em 0.4em;box-sizing: border-box;padding-bottom: 0.4em;background-color: white;}#sk-container-id-7 div.sk-label label {font-family: monospace;font-weight: bold;display: inline-block;line-height: 1.2em;}#sk-container-id-7 div.sk-label-container {text-align: center;}#sk-container-id-7 div.sk-container {/* jupyter's `normalize.less` sets `[hidden] { display: none; }` but bootstrap.min.css set `[hidden] { display: none !important; }` so we also need the `!important` here to be able to override the default hidden behavior on the sphinx rendered scikit-learn.org. See: https://github.com/scikit-learn/scikit-learn/issues/21755 */display: inline-block !important;position: relative;}#sk-container-id-7 div.sk-text-repr-fallback {display: none;}</style><div id=\"sk-container-id-7\" class=\"sk-top-container\"><div class=\"sk-text-repr-fallback\"><pre>DecisionTreeClassifier(random_state=0)</pre><b>In a Jupyter environment, please rerun this cell to show the HTML representation or trust the notebook. <br />On GitHub, the HTML representation is unable to render, please try loading this page with nbviewer.org.</b></div><div class=\"sk-container\" hidden><div class=\"sk-item\"><div class=\"sk-estimator sk-toggleable\"><input class=\"sk-toggleable__control sk-hidden--visually\" id=\"sk-estimator-id-7\" type=\"checkbox\" checked><label for=\"sk-estimator-id-7\" class=\"sk-toggleable__label sk-toggleable__label-arrow\">DecisionTreeClassifier</label><div class=\"sk-toggleable__content\"><pre>DecisionTreeClassifier(random_state=0)</pre></div></div></div></div></div>"
      ],
      "text/plain": [
       "DecisionTreeClassifier(random_state=0)"
      ]
     },
     "execution_count": 234,
     "metadata": {},
     "output_type": "execute_result"
    }
   ],
   "source": [
    "# Train decision tree classifier\n",
    "clf = DecisionTreeClassifier(random_state=0)\n",
    "\n",
    "# Fit classifier\n",
    "clf.fit(X_Probe, Y_Probe)"
   ]
  },
  {
   "cell_type": "code",
   "execution_count": 235,
   "id": "cdc6f5d7",
   "metadata": {
    "execution": {
     "iopub.execute_input": "2025-09-01T06:06:34.571170Z",
     "iopub.status.busy": "2025-09-01T06:06:34.570925Z",
     "iopub.status.idle": "2025-09-01T06:06:34.673319Z",
     "shell.execute_reply": "2025-09-01T06:06:34.672781Z",
     "shell.execute_reply.started": "2025-09-01T06:06:34.571144Z"
    },
    "trusted": true
   },
   "outputs": [
    {
     "data": {
      "text/html": [
       "<style>#sk-container-id-8 {color: black;background-color: white;}#sk-container-id-8 pre{padding: 0;}#sk-container-id-8 div.sk-toggleable {background-color: white;}#sk-container-id-8 label.sk-toggleable__label {cursor: pointer;display: block;width: 100%;margin-bottom: 0;padding: 0.3em;box-sizing: border-box;text-align: center;}#sk-container-id-8 label.sk-toggleable__label-arrow:before {content: \"▸\";float: left;margin-right: 0.25em;color: #696969;}#sk-container-id-8 label.sk-toggleable__label-arrow:hover:before {color: black;}#sk-container-id-8 div.sk-estimator:hover label.sk-toggleable__label-arrow:before {color: black;}#sk-container-id-8 div.sk-toggleable__content {max-height: 0;max-width: 0;overflow: hidden;text-align: left;background-color: #f0f8ff;}#sk-container-id-8 div.sk-toggleable__content pre {margin: 0.2em;color: black;border-radius: 0.25em;background-color: #f0f8ff;}#sk-container-id-8 input.sk-toggleable__control:checked~div.sk-toggleable__content {max-height: 200px;max-width: 100%;overflow: auto;}#sk-container-id-8 input.sk-toggleable__control:checked~label.sk-toggleable__label-arrow:before {content: \"▾\";}#sk-container-id-8 div.sk-estimator input.sk-toggleable__control:checked~label.sk-toggleable__label {background-color: #d4ebff;}#sk-container-id-8 div.sk-label input.sk-toggleable__control:checked~label.sk-toggleable__label {background-color: #d4ebff;}#sk-container-id-8 input.sk-hidden--visually {border: 0;clip: rect(1px 1px 1px 1px);clip: rect(1px, 1px, 1px, 1px);height: 1px;margin: -1px;overflow: hidden;padding: 0;position: absolute;width: 1px;}#sk-container-id-8 div.sk-estimator {font-family: monospace;background-color: #f0f8ff;border: 1px dotted black;border-radius: 0.25em;box-sizing: border-box;margin-bottom: 0.5em;}#sk-container-id-8 div.sk-estimator:hover {background-color: #d4ebff;}#sk-container-id-8 div.sk-parallel-item::after {content: \"\";width: 100%;border-bottom: 1px solid gray;flex-grow: 1;}#sk-container-id-8 div.sk-label:hover label.sk-toggleable__label {background-color: #d4ebff;}#sk-container-id-8 div.sk-serial::before {content: \"\";position: absolute;border-left: 1px solid gray;box-sizing: border-box;top: 0;bottom: 0;left: 50%;z-index: 0;}#sk-container-id-8 div.sk-serial {display: flex;flex-direction: column;align-items: center;background-color: white;padding-right: 0.2em;padding-left: 0.2em;position: relative;}#sk-container-id-8 div.sk-item {position: relative;z-index: 1;}#sk-container-id-8 div.sk-parallel {display: flex;align-items: stretch;justify-content: center;background-color: white;position: relative;}#sk-container-id-8 div.sk-item::before, #sk-container-id-8 div.sk-parallel-item::before {content: \"\";position: absolute;border-left: 1px solid gray;box-sizing: border-box;top: 0;bottom: 0;left: 50%;z-index: -1;}#sk-container-id-8 div.sk-parallel-item {display: flex;flex-direction: column;z-index: 1;position: relative;background-color: white;}#sk-container-id-8 div.sk-parallel-item:first-child::after {align-self: flex-end;width: 50%;}#sk-container-id-8 div.sk-parallel-item:last-child::after {align-self: flex-start;width: 50%;}#sk-container-id-8 div.sk-parallel-item:only-child::after {width: 0;}#sk-container-id-8 div.sk-dashed-wrapped {border: 1px dashed gray;margin: 0 0.4em 0.5em 0.4em;box-sizing: border-box;padding-bottom: 0.4em;background-color: white;}#sk-container-id-8 div.sk-label label {font-family: monospace;font-weight: bold;display: inline-block;line-height: 1.2em;}#sk-container-id-8 div.sk-label-container {text-align: center;}#sk-container-id-8 div.sk-container {/* jupyter's `normalize.less` sets `[hidden] { display: none; }` but bootstrap.min.css set `[hidden] { display: none !important; }` so we also need the `!important` here to be able to override the default hidden behavior on the sphinx rendered scikit-learn.org. See: https://github.com/scikit-learn/scikit-learn/issues/21755 */display: inline-block !important;position: relative;}#sk-container-id-8 div.sk-text-repr-fallback {display: none;}</style><div id=\"sk-container-id-8\" class=\"sk-top-container\"><div class=\"sk-text-repr-fallback\"><pre>DecisionTreeClassifier(random_state=0)</pre><b>In a Jupyter environment, please rerun this cell to show the HTML representation or trust the notebook. <br />On GitHub, the HTML representation is unable to render, please try loading this page with nbviewer.org.</b></div><div class=\"sk-container\" hidden><div class=\"sk-item\"><div class=\"sk-estimator sk-toggleable\"><input class=\"sk-toggleable__control sk-hidden--visually\" id=\"sk-estimator-id-8\" type=\"checkbox\" checked><label for=\"sk-estimator-id-8\" class=\"sk-toggleable__label sk-toggleable__label-arrow\">DecisionTreeClassifier</label><div class=\"sk-toggleable__content\"><pre>DecisionTreeClassifier(random_state=0)</pre></div></div></div></div></div>"
      ],
      "text/plain": [
       "DecisionTreeClassifier(random_state=0)"
      ]
     },
     "execution_count": 235,
     "metadata": {},
     "output_type": "execute_result"
    }
   ],
   "source": [
    "# Train classifier with RFE-selected features\n",
    "\n",
    "clf_rfe = DecisionTreeClassifier(random_state=0)\n",
    "clf_rfe.fit(X_rfe, Y_Probe)"
   ]
  },
  {
   "cell_type": "code",
   "execution_count": 236,
   "id": "0fa130f0-cb17-4f48-978a-0a5a3181633b",
   "metadata": {
    "execution": {
     "iopub.execute_input": "2025-09-01T06:06:34.674171Z",
     "iopub.status.busy": "2025-09-01T06:06:34.673968Z",
     "iopub.status.idle": "2025-09-01T06:06:34.678712Z",
     "shell.execute_reply": "2025-09-01T06:06:34.678039Z",
     "shell.execute_reply.started": "2025-09-01T06:06:34.674154Z"
    },
    "trusted": true
   },
   "outputs": [
    {
     "data": {
      "text/plain": [
       "(12132, 123)"
      ]
     },
     "execution_count": 236,
     "metadata": {},
     "output_type": "execute_result"
    }
   ],
   "source": [
    "X_Probe_test.shape\n"
   ]
  },
  {
   "cell_type": "code",
   "execution_count": 237,
   "id": "3907ffd3-8559-40cd-bce1-4264379bae90",
   "metadata": {
    "execution": {
     "iopub.execute_input": "2025-09-01T06:06:34.679879Z",
     "iopub.status.busy": "2025-09-01T06:06:34.679535Z",
     "iopub.status.idle": "2025-09-01T06:06:34.689620Z",
     "shell.execute_reply": "2025-09-01T06:06:34.688973Z",
     "shell.execute_reply.started": "2025-09-01T06:06:34.679862Z"
    },
    "trusted": true
   },
   "outputs": [
    {
     "data": {
      "text/plain": [
       "(12132,)"
      ]
     },
     "execution_count": 237,
     "metadata": {},
     "output_type": "execute_result"
    }
   ],
   "source": [
    "Y_Probe_test.shape"
   ]
  },
  {
   "cell_type": "code",
   "execution_count": 238,
   "id": "a0ba4c24",
   "metadata": {
    "execution": {
     "iopub.execute_input": "2025-09-01T06:06:34.690611Z",
     "iopub.status.busy": "2025-09-01T06:06:34.690357Z",
     "iopub.status.idle": "2025-09-01T06:06:39.273653Z",
     "shell.execute_reply": "2025-09-01T06:06:39.273042Z",
     "shell.execute_reply.started": "2025-09-01T06:06:34.690591Z"
    },
    "trusted": true
   },
   "outputs": [
    {
     "name": "stdout",
     "output_type": "stream",
     "text": [
      "Evaluation Methodology Comparison:\n",
      "==================================================\n",
      "Cross-Validation on Training Data:\n",
      "   CV Accuracy: 0.99935 (+/- 0.00056)\n",
      "\n",
      "Train-Test Evaluation:\n",
      "   Test Accuracy: 0.9481536432575008\n",
      "   Test Precision: 0.9155844155844156\n",
      "   Test Recall: 0.815365551425031\n",
      "   Test F1: 0.8625737382564999\n"
     ]
    }
   ],
   "source": [
    "from sklearn.model_selection import cross_val_score\n",
    "from sklearn import metrics\n",
    "\n",
    "print(\"Evaluation Methodology Comparison:\")\n",
    "print(\"=\"*50)\n",
    "\n",
    "# Cross-validation on training data (demonstrates inflated scores)\n",
    "print(\"Cross-Validation on Training Data:\")\n",
    "accuracy = cross_val_score(clf, X_Probe, Y_Probe, cv=10, scoring='accuracy')\n",
    "print(\"   CV Accuracy: %0.5f (+/- %0.5f)\" % (accuracy.mean(), accuracy.std() * 2))\n",
    "\n",
    "print(\"\\nTrain-Test Evaluation:\")\n",
    "# Proper evaluation on test set \n",
    "clf.fit(X_Probe, Y_Probe)\n",
    "Y_pred = clf.predict(X_Probe_test)\n",
    "print(\"   Test Accuracy:\", metrics.accuracy_score(Y_Probe_test, Y_pred))\n",
    "print(\"   Test Precision:\", metrics.precision_score(Y_Probe_test, Y_pred, pos_label=2))\n",
    "print(\"   Test Recall:\", metrics.recall_score(Y_Probe_test, Y_pred, pos_label=2))\n",
    "print(\"   Test F1:\", metrics.f1_score(Y_Probe_test, Y_pred, pos_label=2))\n"
   ]
  },
  {
   "cell_type": "code",
   "execution_count": 239,
   "id": "334eac62-3ced-4f89-b0d1-8f1638713808",
   "metadata": {
    "execution": {
     "iopub.execute_input": "2025-09-01T06:06:39.274717Z",
     "iopub.status.busy": "2025-09-01T06:06:39.274447Z",
     "iopub.status.idle": "2025-09-01T06:06:39.312174Z",
     "shell.execute_reply": "2025-09-01T06:06:39.311466Z",
     "shell.execute_reply.started": "2025-09-01T06:06:39.274691Z"
    },
    "trusted": true
   },
   "outputs": [
    {
     "name": "stdout",
     "output_type": "stream",
     "text": [
      "Predicted attacks     0     2\n",
      "Actual attacks               \n",
      "0                  9447   264\n",
      "2                   754  1667\n",
      "Test Accuracy: 0.9160896801846357\n",
      "Test Precision: 0.8632832729155878\n",
      "Test Recall: 0.6885584469227591\n",
      "Test F1: 0.7660845588235294\n"
     ]
    }
   ],
   "source": [
    "X_test2 = X_Probe_test[:, rfecolindex]\n",
    "\n",
    "Y_pred2 = clf_rfe.predict(X_test2)\n",
    "\n",
    "# Confusion matrix\n",
    "print(pd.crosstab(Y_Probe_test, Y_pred2, rownames=['Actual attacks'], colnames=['Predicted attacks']))\n",
    "\n",
    "# Final evaluation on test set (no CV here)\n",
    "print(\"Test Accuracy:\", metrics.accuracy_score(Y_Probe_test, Y_pred2))\n",
    "print(\"Test Precision:\", metrics.precision_score(Y_Probe_test, Y_pred2, pos_label=2))\n",
    "print(\"Test Recall:\", metrics.recall_score(Y_Probe_test, Y_pred2, pos_label=2))\n",
    "print(\"Test F1:\", metrics.f1_score(Y_Probe_test, Y_pred2, pos_label=2))\n"
   ]
  },
  {
   "cell_type": "code",
   "execution_count": 240,
   "id": "44ab5a27",
   "metadata": {
    "execution": {
     "iopub.execute_input": "2025-09-01T06:06:39.313791Z",
     "iopub.status.busy": "2025-09-01T06:06:39.312995Z",
     "iopub.status.idle": "2025-09-01T06:06:39.447290Z",
     "shell.execute_reply": "2025-09-01T06:06:39.446730Z",
     "shell.execute_reply.started": "2025-09-01T06:06:39.313766Z"
    },
    "trusted": true
   },
   "outputs": [
    {
     "name": "stdout",
     "output_type": "stream",
     "text": [
      "RFE-based Feature Selection Performance:\n",
      "==================================================\n",
      "Test Performance with RFE Features:\n",
      "Test Accuracy: 0.91609\n",
      "Test Precision: 0.86328\n",
      "Test Recall: 0.68856\n",
      "Test F1-Score: 0.76608\n"
     ]
    }
   ],
   "source": [
    "# RFE Feature Selection Evaluation\n",
    "print(\"RFE-based Feature Selection Performance:\")\n",
    "print(\"=\"*50)\n",
    "\n",
    "# Train model with RFE-selected features\n",
    "clf_rfe.fit(X_Probe[:, rfecolindex], Y_Probe)\n",
    "Y_pred_rfe = clf_rfe.predict(X_Probe_test[:, rfecolindex])\n",
    "\n",
    "print(\"Test Performance with RFE Features:\")\n",
    "print(f\"Test Accuracy: {metrics.accuracy_score(Y_Probe_test, Y_pred_rfe):.5f}\")\n",
    "print(f\"Test Precision: {metrics.precision_score(Y_Probe_test, Y_pred_rfe, pos_label=2):.5f}\")\n",
    "print(f\"Test Recall: {metrics.recall_score(Y_Probe_test, Y_pred_rfe, pos_label=2):.5f}\")\n",
    "print(f\"Test F1-Score: {metrics.f1_score(Y_Probe_test, Y_pred_rfe, pos_label=2):.5f}\")\n"
   ]
  },
  {
   "cell_type": "code",
   "execution_count": 241,
   "id": "2a23dc42",
   "metadata": {
    "execution": {
     "iopub.execute_input": "2025-09-01T06:06:39.448251Z",
     "iopub.status.busy": "2025-09-01T06:06:39.447987Z",
     "iopub.status.idle": "2025-09-01T06:06:39.482197Z",
     "shell.execute_reply": "2025-09-01T06:06:39.481694Z",
     "shell.execute_reply.started": "2025-09-01T06:06:39.448234Z"
    },
    "trusted": true
   },
   "outputs": [],
   "source": [
    "X = np.array(X_Probe)\n",
    "X_test = np.array(X_Probe_test)\n",
    "#cnn-input\n",
    "X = np.reshape(X, (X.shape[0], X.shape[1], 1))\n",
    "X_test = np.reshape(X_test, (X_test.shape[0], X_test.shape[1], 1))\n",
    "#lstm-input"
   ]
  },
  {
   "cell_type": "code",
   "execution_count": 242,
   "id": "8d94c929",
   "metadata": {
    "execution": {
     "iopub.execute_input": "2025-09-01T06:06:39.483206Z",
     "iopub.status.busy": "2025-09-01T06:06:39.482847Z",
     "iopub.status.idle": "2025-09-01T06:06:39.486701Z",
     "shell.execute_reply": "2025-09-01T06:06:39.486074Z",
     "shell.execute_reply.started": "2025-09-01T06:06:39.483190Z"
    },
    "trusted": true
   },
   "outputs": [],
   "source": [
    "Y = np.array(Y_Probe)\n",
    "Y_test = np.array(Y_Probe_test)"
   ]
  },
  {
   "cell_type": "code",
   "execution_count": 243,
   "id": "5d5ccddd",
   "metadata": {
    "execution": {
     "iopub.execute_input": "2025-09-01T06:06:39.487598Z",
     "iopub.status.busy": "2025-09-01T06:06:39.487337Z",
     "iopub.status.idle": "2025-09-01T06:06:39.497256Z",
     "shell.execute_reply": "2025-09-01T06:06:39.496619Z",
     "shell.execute_reply.started": "2025-09-01T06:06:39.487583Z"
    },
    "trusted": true
   },
   "outputs": [],
   "source": [
    "from keras.models import Sequential\n",
    "from keras.layers import Conv1D, MaxPooling1D, LSTM, Dense, Dropout, BatchNormalization\n",
    "from keras.regularizers import l2\n",
    "from keras.callbacks import EarlyStopping, LearningRateScheduler, ModelCheckpoint\n",
    "from keras.optimizers import Adam\n",
    "import tensorflow as tf"
   ]
  },
  {
   "cell_type": "code",
   "execution_count": 255,
   "id": "7a350f25-bd1a-4056-9ef6-b1af02194849",
   "metadata": {
    "execution": {
     "iopub.execute_input": "2025-09-01T06:25:26.705989Z",
     "iopub.status.busy": "2025-09-01T06:25:26.705275Z",
     "iopub.status.idle": "2025-09-01T06:25:26.731953Z",
     "shell.execute_reply": "2025-09-01T06:25:26.731221Z",
     "shell.execute_reply.started": "2025-09-01T06:25:26.705966Z"
    },
    "trusted": true
   },
   "outputs": [
    {
     "name": "stdout",
     "output_type": "stream",
     "text": [
      "Class distribution:\n",
      "  Normal (0): 67342 samples\n",
      "  Attack (2): 11656 samples\n",
      "Class weights: {0: 0.5865433162068249, 2: 3.3887268359643103}\n",
      "Focal Loss alpha parameter: 0.852\n"
     ]
    }
   ],
   "source": [
    "# Focal Loss Implementation for Class Imbalance\n",
    "import tensorflow as tf\n",
    "from tensorflow.keras import backend as K\n",
    "\n",
    "def focal_loss(gamma=2.0, alpha=0.25):\n",
    "    \"\"\"\n",
    "    Focal Loss implementation for addressing class imbalance\n",
    "    \n",
    "    Args:\n",
    "        gamma (float): Focusing parameter to down-weight easy examples\n",
    "        alpha (float): Weighting parameter for rare class (positive class)\n",
    "    \n",
    "    Returns:\n",
    "        loss function\n",
    "    \"\"\"\n",
    "    def focal_loss_fixed(y_true, y_pred):\n",
    "        # Ensure y_pred is in valid range [epsilon, 1-epsilon]\n",
    "        epsilon = K.epsilon()\n",
    "        y_pred = K.clip(y_pred, epsilon, 1. - epsilon)\n",
    "        \n",
    "        # Calculate cross entropy\n",
    "        ce_loss = -y_true * K.log(y_pred) - (1 - y_true) * K.log(1 - y_pred)\n",
    "        \n",
    "        # Calculate p_t\n",
    "        p_t = y_true * y_pred + (1 - y_true) * (1 - y_pred)\n",
    "        \n",
    "        # Calculate alpha_t\n",
    "        alpha_t = y_true * alpha + (1 - y_true) * (1 - alpha)\n",
    "        \n",
    "        # Calculate focal loss\n",
    "        focal_loss = alpha_t * K.pow(1 - p_t, gamma) * ce_loss\n",
    "        \n",
    "        return K.mean(focal_loss)\n",
    "    \n",
    "    return focal_loss_fixed\n",
    "\n",
    "# Calculate class weights for alpha parameter\n",
    "from sklearn.utils.class_weight import compute_class_weight\n",
    "\n",
    "# Calculate class distribution for DoS data\n",
    "class_weights = compute_class_weight('balanced', classes=np.unique(Y), y=Y)\n",
    "print(f\"Class distribution:\")\n",
    "print(f\"  Normal (0): {np.sum(Y == 0)} samples\")\n",
    "print(f\"  Attack (2): {np.sum(Y == 2)} samples\")\n",
    "print(f\"Class weights: {dict(zip(np.unique(Y), class_weights))}\")\n",
    "\n",
    "# Set alpha based on class distribution (weight for positive/minority class)\n",
    "alpha_focal = class_weights[1] / (class_weights[0] + class_weights[1])\n",
    "print(f\"Focal Loss alpha parameter: {alpha_focal:.3f}\")\n",
    "\n",
    "# Create focal loss function with calculated alpha\n",
    "focal_loss_fn = focal_loss(gamma=2.0, alpha=alpha_focal)"
   ]
  },
  {
   "cell_type": "code",
   "execution_count": 256,
   "id": "17e1b6b5-4afd-44d9-a49d-e828b052e6ef",
   "metadata": {
    "execution": {
     "iopub.execute_input": "2025-09-01T06:25:45.848786Z",
     "iopub.status.busy": "2025-09-01T06:25:45.848093Z",
     "iopub.status.idle": "2025-09-01T06:25:45.854419Z",
     "shell.execute_reply": "2025-09-01T06:25:45.853663Z",
     "shell.execute_reply.started": "2025-09-01T06:25:45.848762Z"
    },
    "trusted": true
   },
   "outputs": [
    {
     "name": "stdout",
     "output_type": "stream",
     "text": [
      "Model will be saved to: /kaggle/working/models/best_cnn_lstm_dos_model.h5\n"
     ]
    }
   ],
   "source": [
    "import os\n",
    "\n",
    "# Define a learning rate schedule\n",
    "initial_learning_rate = 0.001\n",
    "def lr_schedule(epoch):\n",
    "    return initial_learning_rate * (0.1 ** (epoch // 10))\n",
    "\n",
    "output_dir = '/kaggle/working/'\n",
    "model_dir = os.path.join(output_dir, 'models')\n",
    "os.makedirs(model_dir, exist_ok=True)\n",
    "model_path = os.path.join(model_dir, 'best_cnn_lstm_dos_model.h5')\n",
    "\n",
    "print(f\"Model will be saved to: {model_path}\")\n",
    "\n",
    "my_callbacks = [\n",
    "    ModelCheckpoint(\n",
    "        filepath=model_path, \n",
    "        verbose=1, \n",
    "        save_best_only=True, \n",
    "        monitor='val_accuracy', \n",
    "        mode='max'\n",
    "    ),\n",
    "    EarlyStopping(\n",
    "        monitor='val_loss',\n",
    "        patience=15,\n",
    "        restore_best_weights=True,\n",
    "        verbose=1,\n",
    "        min_delta=0.001\n",
    "    ),\n",
    "    LearningRateScheduler(lr_schedule, verbose=1)\n",
    "]"
   ]
  },
  {
   "cell_type": "code",
   "execution_count": null,
   "id": "033e41f3",
   "metadata": {
    "execution": {
     "iopub.execute_input": "2025-09-01T06:25:48.561289Z",
     "iopub.status.busy": "2025-09-01T06:25:48.560599Z",
     "iopub.status.idle": "2025-09-01T06:33:21.422036Z",
     "shell.execute_reply": "2025-09-01T06:33:21.421297Z",
     "shell.execute_reply.started": "2025-09-01T06:25:48.561266Z"
    },
    "trusted": true
   },
   "outputs": [
    {
     "name": "stderr",
     "output_type": "stream",
     "text": [
      "/usr/local/lib/python3.11/dist-packages/keras/src/layers/convolutional/base_conv.py:107: UserWarning: Do not pass an `input_shape`/`input_dim` argument to a layer. When using Sequential models, prefer using an `Input(shape)` object as the first layer in the model instead.\n",
      "  super().__init__(activity_regularizer=activity_regularizer, **kwargs)\n"
     ]
    },
    {
     "name": "stdout",
     "output_type": "stream",
     "text": [
      "Validation Strategy: Stratified train-validation split\n",
      "Test set reserved for final evaluation only\n",
      "Training samples: 63198\n",
      "Validation samples: 15800\n",
      "Test samples: 17170\n",
      "\n",
      "Training CNN-LSTM model...\n",
      "Model will be saved to: /kaggle/working/models/best_cnn_lstm_dos_model.h5\n",
      "\n",
      "Epoch 1: LearningRateScheduler setting learning rate to 0.001.\n",
      "Epoch 1/50\n",
      "\u001b[1m984/988\u001b[0m \u001b[32m━━━━━━━━━━━━━━━━━━━\u001b[0m\u001b[37m━\u001b[0m \u001b[1m0s\u001b[0m 9ms/step - accuracy: 0.5982 - auc: 0.8901 - loss: -1.7812 - precision: 0.3733 - recall: 0.9806\n",
      "Epoch 1: val_loss improved from inf to -3.17479, saving model to /kaggle/working/models/best_cnn_lstm_dos_model.h5\n",
      "\u001b[1m988/988\u001b[0m \u001b[32m━━━━━━━━━━━━━━━━━━━━\u001b[0m\u001b[37m\u001b[0m \u001b[1m16s\u001b[0m 11ms/step - accuracy: 0.5987 - auc: 0.8903 - loss: -1.7854 - precision: 0.3738 - recall: 0.9806 - val_accuracy: 0.7608 - val_auc: 0.9795 - val_loss: -3.1748 - val_precision: 0.6168 - val_recall: 1.0000 - learning_rate: 0.0010\n",
      "\n",
      "Epoch 2: LearningRateScheduler setting learning rate to 0.001.\n",
      "Epoch 2/50\n",
      "\u001b[1m988/988\u001b[0m \u001b[32m━━━━━━━━━━━━━━━━━━━━\u001b[0m\u001b[37m\u001b[0m \u001b[1m0s\u001b[0m 9ms/step - accuracy: 0.7896 - auc: 0.9741 - loss: -3.2457 - precision: 0.7058 - recall: 0.9971\n",
      "Epoch 2: val_loss did not improve from -3.17479\n",
      "\u001b[1m988/988\u001b[0m \u001b[32m━━━━━━━━━━━━━━━━━━━━\u001b[0m\u001b[37m\u001b[0m \u001b[1m10s\u001b[0m 10ms/step - accuracy: 0.7896 - auc: 0.9741 - loss: -3.2457 - precision: 0.7058 - recall: 0.9971 - val_accuracy: 0.3687 - val_auc: 0.7736 - val_loss: -2.5413 - val_precision: 0.2337 - val_recall: 1.0000 - learning_rate: 0.0010\n",
      "\n",
      "Epoch 3: LearningRateScheduler setting learning rate to 0.001.\n",
      "Epoch 3/50\n",
      "\u001b[1m984/988\u001b[0m \u001b[32m━━━━━━━━━━━━━━━━━━━\u001b[0m\u001b[37m━\u001b[0m \u001b[1m0s\u001b[0m 9ms/step - accuracy: 0.7838 - auc: 0.9740 - loss: -3.2718 - precision: 0.6811 - recall: 0.9964\n",
      "Epoch 3: val_loss did not improve from -3.17479\n",
      "\u001b[1m988/988\u001b[0m \u001b[32m━━━━━━━━━━━━━━━━━━━━\u001b[0m\u001b[37m\u001b[0m \u001b[1m10s\u001b[0m 10ms/step - accuracy: 0.7836 - auc: 0.9739 - loss: -3.2714 - precision: 0.6808 - recall: 0.9964 - val_accuracy: 0.0000e+00 - val_auc: 0.5063 - val_loss: -1.2096 - val_precision: 0.1475 - val_recall: 1.0000 - learning_rate: 0.0010\n",
      "\n",
      "Epoch 4: LearningRateScheduler setting learning rate to 0.001.\n",
      "Epoch 4/50\n",
      "\u001b[1m988/988\u001b[0m \u001b[32m━━━━━━━━━━━━━━━━━━━━\u001b[0m\u001b[37m\u001b[0m \u001b[1m0s\u001b[0m 9ms/step - accuracy: 0.5824 - auc: 0.8783 - loss: -2.6783 - precision: 0.3523 - recall: 0.9742\n",
      "Epoch 4: val_loss did not improve from -3.17479\n",
      "\u001b[1m988/988\u001b[0m \u001b[32m━━━━━━━━━━━━━━━━━━━━\u001b[0m\u001b[37m\u001b[0m \u001b[1m10s\u001b[0m 10ms/step - accuracy: 0.5824 - auc: 0.8784 - loss: -2.6784 - precision: 0.3524 - recall: 0.9742 - val_accuracy: 0.7038 - val_auc: 0.9284 - val_loss: -3.0314 - val_precision: 0.4964 - val_recall: 0.9931 - learning_rate: 0.0010\n",
      "\n",
      "Epoch 5: LearningRateScheduler setting learning rate to 0.001.\n",
      "Epoch 5/50\n",
      "\u001b[1m984/988\u001b[0m \u001b[32m━━━━━━━━━━━━━━━━━━━\u001b[0m\u001b[37m━\u001b[0m \u001b[1m0s\u001b[0m 9ms/step - accuracy: 0.6693 - auc: 0.9021 - loss: -2.9183 - precision: 0.4494 - recall: 0.9776\n",
      "Epoch 5: val_loss did not improve from -3.17479\n",
      "\u001b[1m988/988\u001b[0m \u001b[32m━━━━━━━━━━━━━━━━━━━━\u001b[0m\u001b[37m\u001b[0m \u001b[1m10s\u001b[0m 10ms/step - accuracy: 0.6694 - auc: 0.9022 - loss: -2.9183 - precision: 0.4494 - recall: 0.9776 - val_accuracy: 0.6744 - val_auc: 0.9151 - val_loss: -3.0482 - val_precision: 0.4530 - val_recall: 0.9996 - learning_rate: 0.0010\n",
      "\n",
      "Epoch 6: LearningRateScheduler setting learning rate to 0.001.\n",
      "Epoch 6/50\n",
      "\u001b[1m984/988\u001b[0m \u001b[32m━━━━━━━━━━━━━━━━━━━\u001b[0m\u001b[37m━\u001b[0m \u001b[1m0s\u001b[0m 9ms/step - accuracy: 0.7517 - auc: 0.9471 - loss: -3.1765 - precision: 0.5979 - recall: 0.9882\n",
      "Epoch 6: val_loss improved from -3.17479 to -3.22278, saving model to /kaggle/working/models/best_cnn_lstm_dos_model.h5\n",
      "\u001b[1m988/988\u001b[0m \u001b[32m━━━━━━━━━━━━━━━━━━━━\u001b[0m\u001b[37m\u001b[0m \u001b[1m10s\u001b[0m 10ms/step - accuracy: 0.7518 - auc: 0.9472 - loss: -3.1766 - precision: 0.5980 - recall: 0.9882 - val_accuracy: 0.8149 - val_auc: 0.9902 - val_loss: -3.2228 - val_precision: 0.7956 - val_recall: 0.9901 - learning_rate: 0.0010\n",
      "\n",
      "Epoch 7: LearningRateScheduler setting learning rate to 0.001.\n",
      "Epoch 7/50\n",
      "\u001b[1m984/988\u001b[0m \u001b[32m━━━━━━━━━━━━━━━━━━━\u001b[0m\u001b[37m━\u001b[0m \u001b[1m0s\u001b[0m 9ms/step - accuracy: 0.6958 - auc: 0.9232 - loss: -3.0882 - precision: 0.5106 - recall: 0.9936\n",
      "Epoch 7: val_loss improved from -3.22278 to -3.25587, saving model to /kaggle/working/models/best_cnn_lstm_dos_model.h5\n",
      "\u001b[1m988/988\u001b[0m \u001b[32m━━━━━━━━━━━━━━━━━━━━\u001b[0m\u001b[37m\u001b[0m \u001b[1m10s\u001b[0m 10ms/step - accuracy: 0.6955 - auc: 0.9230 - loss: -3.0875 - precision: 0.5101 - recall: 0.9936 - val_accuracy: 0.7687 - val_auc: 0.9503 - val_loss: -3.2559 - val_precision: 0.6369 - val_recall: 0.9957 - learning_rate: 0.0010\n",
      "\n",
      "Epoch 8: LearningRateScheduler setting learning rate to 0.001.\n",
      "Epoch 8/50\n",
      "\u001b[1m986/988\u001b[0m \u001b[32m━━━━━━━━━━━━━━━━━━━\u001b[0m\u001b[37m━\u001b[0m \u001b[1m0s\u001b[0m 9ms/step - accuracy: 0.4971 - auc: 0.8236 - loss: -1.6641 - precision: 0.2962 - recall: 0.9612\n",
      "Epoch 8: val_loss did not improve from -3.25587\n",
      "\u001b[1m988/988\u001b[0m \u001b[32m━━━━━━━━━━━━━━━━━━━━\u001b[0m\u001b[37m\u001b[0m \u001b[1m10s\u001b[0m 10ms/step - accuracy: 0.4970 - auc: 0.8236 - loss: -1.6646 - precision: 0.2961 - recall: 0.9612 - val_accuracy: 0.5762 - val_auc: 0.8467 - val_loss: -2.8072 - val_precision: 0.3477 - val_recall: 0.9983 - learning_rate: 0.0010\n",
      "\n",
      "Epoch 9: LearningRateScheduler setting learning rate to 0.001.\n",
      "Epoch 9/50\n",
      "\u001b[1m984/988\u001b[0m \u001b[32m━━━━━━━━━━━━━━━━━━━\u001b[0m\u001b[37m━\u001b[0m \u001b[1m0s\u001b[0m 9ms/step - accuracy: 0.5850 - auc: 0.8708 - loss: -2.8248 - precision: 0.3525 - recall: 0.9970\n",
      "Epoch 9: val_loss did not improve from -3.25587\n",
      "\u001b[1m988/988\u001b[0m \u001b[32m━━━━━━━━━━━━━━━━━━━━\u001b[0m\u001b[37m\u001b[0m \u001b[1m10s\u001b[0m 10ms/step - accuracy: 0.5852 - auc: 0.8710 - loss: -2.8256 - precision: 0.3527 - recall: 0.9970 - val_accuracy: 0.5843 - val_auc: 0.9792 - val_loss: -3.1782 - val_precision: 0.3549 - val_recall: 1.0000 - learning_rate: 0.0010\n",
      "\n",
      "Epoch 10: LearningRateScheduler setting learning rate to 0.001.\n",
      "Epoch 10/50\n",
      "\u001b[1m984/988\u001b[0m \u001b[32m━━━━━━━━━━━━━━━━━━━\u001b[0m\u001b[37m━\u001b[0m \u001b[1m0s\u001b[0m 9ms/step - accuracy: 0.6711 - auc: 0.9512 - loss: -3.2080 - precision: 0.4536 - recall: 0.9941\n",
      "Epoch 10: val_loss did not improve from -3.25587\n",
      "\u001b[1m988/988\u001b[0m \u001b[32m━━━━━━━━━━━━━━━━━━━━\u001b[0m\u001b[37m\u001b[0m \u001b[1m10s\u001b[0m 10ms/step - accuracy: 0.6712 - auc: 0.9512 - loss: -3.2078 - precision: 0.4536 - recall: 0.9941 - val_accuracy: 0.1175 - val_auc: 0.5720 - val_loss: -1.5665 - val_precision: 0.1663 - val_recall: 0.9940 - learning_rate: 0.0010\n",
      "\n",
      "Epoch 11: LearningRateScheduler setting learning rate to 0.0001.\n",
      "Epoch 11/50\n",
      "\u001b[1m983/988\u001b[0m \u001b[32m━━━━━━━━━━━━━━━━━━━\u001b[0m\u001b[37m━\u001b[0m \u001b[1m0s\u001b[0m 9ms/step - accuracy: 0.7318 - auc: 0.9697 - loss: -3.2000 - precision: 0.5533 - recall: 0.9978\n",
      "Epoch 11: val_loss improved from -3.25587 to -3.31973, saving model to /kaggle/working/models/best_cnn_lstm_dos_model.h5\n",
      "\u001b[1m988/988\u001b[0m \u001b[32m━━━━━━━━━━━━━━━━━━━━\u001b[0m\u001b[37m\u001b[0m \u001b[1m10s\u001b[0m 10ms/step - accuracy: 0.7320 - auc: 0.9697 - loss: -3.2002 - precision: 0.5536 - recall: 0.9978 - val_accuracy: 0.8117 - val_auc: 0.9835 - val_loss: -3.3197 - val_precision: 0.7835 - val_recall: 1.0000 - learning_rate: 1.0000e-04\n",
      "\n",
      "Epoch 12: LearningRateScheduler setting learning rate to 0.0001.\n",
      "Epoch 12/50\n",
      "\u001b[1m988/988\u001b[0m \u001b[32m━━━━━━━━━━━━━━━━━━━━\u001b[0m\u001b[37m\u001b[0m \u001b[1m0s\u001b[0m 9ms/step - accuracy: 0.7967 - auc: 0.9837 - loss: -3.2998 - precision: 0.7237 - recall: 0.9992\n",
      "Epoch 12: val_loss did not improve from -3.31973\n",
      "\u001b[1m988/988\u001b[0m \u001b[32m━━━━━━━━━━━━━━━━━━━━\u001b[0m\u001b[37m\u001b[0m \u001b[1m10s\u001b[0m 10ms/step - accuracy: 0.7968 - auc: 0.9837 - loss: -3.2999 - precision: 0.7238 - recall: 0.9992 - val_accuracy: 0.7882 - val_auc: 0.9693 - val_loss: -3.3064 - val_precision: 0.6964 - val_recall: 1.0000 - learning_rate: 1.0000e-04\n",
      "\n",
      "Epoch 13: LearningRateScheduler setting learning rate to 0.0001.\n",
      "Epoch 13/50\n",
      "\u001b[1m988/988\u001b[0m \u001b[32m━━━━━━━━━━━━━━━━━━━━\u001b[0m\u001b[37m\u001b[0m \u001b[1m0s\u001b[0m 9ms/step - accuracy: 0.8133 - auc: 0.9880 - loss: -3.3467 - precision: 0.7837 - recall: 0.9998\n",
      "Epoch 13: val_loss improved from -3.31973 to -3.41978, saving model to /kaggle/working/models/best_cnn_lstm_dos_model.h5\n",
      "\u001b[1m988/988\u001b[0m \u001b[32m━━━━━━━━━━━━━━━━━━━━\u001b[0m\u001b[37m\u001b[0m \u001b[1m10s\u001b[0m 10ms/step - accuracy: 0.8133 - auc: 0.9880 - loss: -3.3468 - precision: 0.7837 - recall: 0.9998 - val_accuracy: 0.8435 - val_auc: 0.9958 - val_loss: -3.4198 - val_precision: 0.9424 - val_recall: 0.9970 - learning_rate: 1.0000e-04\n",
      "\n",
      "Epoch 14: LearningRateScheduler setting learning rate to 0.0001.\n",
      "Epoch 14/50\n",
      "\u001b[1m985/988\u001b[0m \u001b[32m━━━━━━━━━━━━━━━━━━━\u001b[0m\u001b[37m━\u001b[0m \u001b[1m0s\u001b[0m 9ms/step - accuracy: 0.8238 - auc: 0.9916 - loss: -3.4131 - precision: 0.8360 - recall: 0.9988\n",
      "Epoch 14: val_loss did not improve from -3.41978\n",
      "\u001b[1m988/988\u001b[0m \u001b[32m━━━━━━━━━━━━━━━━━━━━\u001b[0m\u001b[37m\u001b[0m \u001b[1m10s\u001b[0m 10ms/step - accuracy: 0.8238 - auc: 0.9916 - loss: -3.4132 - precision: 0.8360 - recall: 0.9988 - val_accuracy: 0.8482 - val_auc: 0.9980 - val_loss: -3.3260 - val_precision: 0.9716 - val_recall: 0.9850 - learning_rate: 1.0000e-04\n",
      "\n",
      "Epoch 15: LearningRateScheduler setting learning rate to 0.0001.\n",
      "Epoch 15/50\n",
      "\u001b[1m985/988\u001b[0m \u001b[32m━━━━━━━━━━━━━━━━━━━\u001b[0m\u001b[37m━\u001b[0m \u001b[1m0s\u001b[0m 9ms/step - accuracy: 0.8278 - auc: 0.9930 - loss: -3.4211 - precision: 0.8509 - recall: 0.9986\n",
      "Epoch 15: val_loss did not improve from -3.41978\n",
      "\u001b[1m988/988\u001b[0m \u001b[32m━━━━━━━━━━━━━━━━━━━━\u001b[0m\u001b[37m\u001b[0m \u001b[1m10s\u001b[0m 10ms/step - accuracy: 0.8277 - auc: 0.9930 - loss: -3.4212 - precision: 0.8509 - recall: 0.9986 - val_accuracy: 0.8111 - val_auc: 0.9797 - val_loss: -3.4182 - val_precision: 0.7812 - val_recall: 1.0000 - learning_rate: 1.0000e-04\n",
      "\n",
      "Epoch 16: LearningRateScheduler setting learning rate to 0.0001.\n",
      "Epoch 16/50\n",
      "\u001b[1m985/988\u001b[0m \u001b[32m━━━━━━━━━━━━━━━━━━━\u001b[0m\u001b[37m━\u001b[0m \u001b[1m0s\u001b[0m 9ms/step - accuracy: 0.8300 - auc: 0.9933 - loss: -3.4474 - precision: 0.8641 - recall: 0.9994\n",
      "Epoch 16: val_loss improved from -3.41978 to -3.48449, saving model to /kaggle/working/models/best_cnn_lstm_dos_model.h5\n",
      "\u001b[1m988/988\u001b[0m \u001b[32m━━━━━━━━━━━━━━━━━━━━\u001b[0m\u001b[37m\u001b[0m \u001b[1m10s\u001b[0m 10ms/step - accuracy: 0.8300 - auc: 0.9933 - loss: -3.4475 - precision: 0.8641 - recall: 0.9994 - val_accuracy: 0.8396 - val_auc: 0.9939 - val_loss: -3.4845 - val_precision: 0.9199 - val_recall: 1.0000 - learning_rate: 1.0000e-04\n",
      "\n",
      "Epoch 17: LearningRateScheduler setting learning rate to 0.0001.\n",
      "Epoch 17/50\n",
      "\u001b[1m985/988\u001b[0m \u001b[32m━━━━━━━━━━━━━━━━━━━\u001b[0m\u001b[37m━\u001b[0m \u001b[1m0s\u001b[0m 9ms/step - accuracy: 0.8307 - auc: 0.9928 - loss: -3.4212 - precision: 0.8587 - recall: 0.9988\n",
      "Epoch 17: val_loss improved from -3.48449 to -3.49468, saving model to /kaggle/working/models/best_cnn_lstm_dos_model.h5\n",
      "\u001b[1m988/988\u001b[0m \u001b[32m━━━━━━━━━━━━━━━━━━━━\u001b[0m\u001b[37m\u001b[0m \u001b[1m10s\u001b[0m 10ms/step - accuracy: 0.8306 - auc: 0.9928 - loss: -3.4214 - precision: 0.8586 - recall: 0.9988 - val_accuracy: 0.8449 - val_auc: 0.9964 - val_loss: -3.4947 - val_precision: 0.9510 - val_recall: 0.9991 - learning_rate: 1.0000e-04\n",
      "\n",
      "Epoch 18: LearningRateScheduler setting learning rate to 0.0001.\n",
      "Epoch 18/50\n",
      "\u001b[1m985/988\u001b[0m \u001b[32m━━━━━━━━━━━━━━━━━━━\u001b[0m\u001b[37m━\u001b[0m \u001b[1m0s\u001b[0m 9ms/step - accuracy: 0.8304 - auc: 0.9941 - loss: -3.4624 - precision: 0.8632 - recall: 0.9997\n",
      "Epoch 18: val_loss did not improve from -3.49468\n",
      "\u001b[1m988/988\u001b[0m \u001b[32m━━━━━━━━━━━━━━━━━━━━\u001b[0m\u001b[37m\u001b[0m \u001b[1m10s\u001b[0m 10ms/step - accuracy: 0.8304 - auc: 0.9941 - loss: -3.4626 - precision: 0.8633 - recall: 0.9997 - val_accuracy: 0.7182 - val_auc: 0.9271 - val_loss: -3.2431 - val_precision: 0.5235 - val_recall: 1.0000 - learning_rate: 1.0000e-04\n",
      "\n",
      "Epoch 19: LearningRateScheduler setting learning rate to 0.0001.\n",
      "Epoch 19/50\n",
      "\u001b[1m988/988\u001b[0m \u001b[32m━━━━━━━━━━━━━━━━━━━━\u001b[0m\u001b[37m\u001b[0m \u001b[1m0s\u001b[0m 9ms/step - accuracy: 0.8331 - auc: 0.9935 - loss: -3.4704 - precision: 0.8785 - recall: 0.9989\n",
      "Epoch 19: val_loss improved from -3.49468 to -3.51295, saving model to /kaggle/working/models/best_cnn_lstm_dos_model.h5\n",
      "\u001b[1m988/988\u001b[0m \u001b[32m━━━━━━━━━━━━━━━━━━━━\u001b[0m\u001b[37m\u001b[0m \u001b[1m10s\u001b[0m 10ms/step - accuracy: 0.8331 - auc: 0.9935 - loss: -3.4704 - precision: 0.8785 - recall: 0.9989 - val_accuracy: 0.8454 - val_auc: 0.9964 - val_loss: -3.5130 - val_precision: 0.9541 - val_recall: 0.9996 - learning_rate: 1.0000e-04\n",
      "\n",
      "Epoch 20: LearningRateScheduler setting learning rate to 0.0001.\n",
      "Epoch 20/50\n",
      "\u001b[1m985/988\u001b[0m \u001b[32m━━━━━━━━━━━━━━━━━━━\u001b[0m\u001b[37m━\u001b[0m \u001b[1m0s\u001b[0m 9ms/step - accuracy: 0.8379 - auc: 0.9954 - loss: -3.5158 - precision: 0.9119 - recall: 0.9996\n",
      "Epoch 20: val_loss did not improve from -3.51295\n",
      "\u001b[1m988/988\u001b[0m \u001b[32m━━━━━━━━━━━━━━━━━━━━\u001b[0m\u001b[37m\u001b[0m \u001b[1m10s\u001b[0m 10ms/step - accuracy: 0.8379 - auc: 0.9954 - loss: -3.5157 - precision: 0.9118 - recall: 0.9996 - val_accuracy: 0.8475 - val_auc: 0.9976 - val_loss: -3.4498 - val_precision: 0.9673 - val_recall: 0.9893 - learning_rate: 1.0000e-04\n",
      "\n",
      "Epoch 21: LearningRateScheduler setting learning rate to 1.0000000000000003e-05.\n",
      "Epoch 21/50\n",
      "\u001b[1m984/988\u001b[0m \u001b[32m━━━━━━━━━━━━━━━━━━━\u001b[0m\u001b[37m━\u001b[0m \u001b[1m0s\u001b[0m 9ms/step - accuracy: 0.8358 - auc: 0.9947 - loss: -3.5365 - precision: 0.9044 - recall: 0.9999\n",
      "Epoch 21: val_loss improved from -3.51295 to -3.52188, saving model to /kaggle/working/models/best_cnn_lstm_dos_model.h5\n",
      "\u001b[1m988/988\u001b[0m \u001b[32m━━━━━━━━━━━━━━━━━━━━\u001b[0m\u001b[37m\u001b[0m \u001b[1m10s\u001b[0m 10ms/step - accuracy: 0.8358 - auc: 0.9947 - loss: -3.5364 - precision: 0.9045 - recall: 0.9999 - val_accuracy: 0.8446 - val_auc: 0.9958 - val_loss: -3.5219 - val_precision: 0.9491 - val_recall: 1.0000 - learning_rate: 1.0000e-05\n",
      "\n",
      "Epoch 22: LearningRateScheduler setting learning rate to 1.0000000000000003e-05.\n",
      "Epoch 22/50\n",
      "\u001b[1m985/988\u001b[0m \u001b[32m━━━━━━━━━━━━━━━━━━━\u001b[0m\u001b[37m━\u001b[0m \u001b[1m0s\u001b[0m 9ms/step - accuracy: 0.8384 - auc: 0.9950 - loss: -3.5301 - precision: 0.9169 - recall: 0.9997\n",
      "Epoch 22: val_loss did not improve from -3.52188\n",
      "\u001b[1m988/988\u001b[0m \u001b[32m━━━━━━━━━━━━━━━━━━━━\u001b[0m\u001b[37m\u001b[0m \u001b[1m10s\u001b[0m 10ms/step - accuracy: 0.8384 - auc: 0.9950 - loss: -3.5300 - precision: 0.9169 - recall: 0.9997 - val_accuracy: 0.8439 - val_auc: 0.9954 - val_loss: -3.5216 - val_precision: 0.9453 - val_recall: 1.0000 - learning_rate: 1.0000e-05\n",
      "\n",
      "Epoch 23: LearningRateScheduler setting learning rate to 1.0000000000000003e-05.\n",
      "Epoch 23/50\n",
      "\u001b[1m988/988\u001b[0m \u001b[32m━━━━━━━━━━━━━━━━━━━━\u001b[0m\u001b[37m\u001b[0m \u001b[1m0s\u001b[0m 9ms/step - accuracy: 0.8403 - auc: 0.9958 - loss: -3.5215 - precision: 0.9242 - recall: 0.9998\n",
      "Epoch 23: val_loss improved from -3.52188 to -3.52241, saving model to /kaggle/working/models/best_cnn_lstm_dos_model.h5\n",
      "\u001b[1m988/988\u001b[0m \u001b[32m━━━━━━━━━━━━━━━━━━━━\u001b[0m\u001b[37m\u001b[0m \u001b[1m10s\u001b[0m 10ms/step - accuracy: 0.8403 - auc: 0.9958 - loss: -3.5215 - precision: 0.9242 - recall: 0.9998 - val_accuracy: 0.8431 - val_auc: 0.9952 - val_loss: -3.5224 - val_precision: 0.9403 - val_recall: 1.0000 - learning_rate: 1.0000e-05\n",
      "\n",
      "Epoch 24: LearningRateScheduler setting learning rate to 1.0000000000000003e-05.\n",
      "Epoch 24/50\n",
      "\u001b[1m987/988\u001b[0m \u001b[32m━━━━━━━━━━━━━━━━━━━\u001b[0m\u001b[37m━\u001b[0m \u001b[1m0s\u001b[0m 9ms/step - accuracy: 0.8415 - auc: 0.9958 - loss: -3.4856 - precision: 0.9220 - recall: 0.9997\n",
      "Epoch 24: val_loss improved from -3.52241 to -3.52902, saving model to /kaggle/working/models/best_cnn_lstm_dos_model.h5\n",
      "\u001b[1m988/988\u001b[0m \u001b[32m━━━━━━━━━━━━━━━━━━━━\u001b[0m\u001b[37m\u001b[0m \u001b[1m10s\u001b[0m 10ms/step - accuracy: 0.8415 - auc: 0.9958 - loss: -3.4857 - precision: 0.9220 - recall: 0.9997 - val_accuracy: 0.8460 - val_auc: 0.9968 - val_loss: -3.5290 - val_precision: 0.9581 - val_recall: 1.0000 - learning_rate: 1.0000e-05\n",
      "\n",
      "Epoch 25: LearningRateScheduler setting learning rate to 1.0000000000000003e-05.\n",
      "Epoch 25/50\n",
      "\u001b[1m984/988\u001b[0m \u001b[32m━━━━━━━━━━━━━━━━━━━\u001b[0m\u001b[37m━\u001b[0m \u001b[1m0s\u001b[0m 9ms/step - accuracy: 0.8396 - auc: 0.9951 - loss: -3.5054 - precision: 0.9162 - recall: 0.9998\n",
      "Epoch 25: val_loss did not improve from -3.52902\n",
      "\u001b[1m988/988\u001b[0m \u001b[32m━━━━━━━━━━━━━━━━━━━━\u001b[0m\u001b[37m\u001b[0m \u001b[1m10s\u001b[0m 10ms/step - accuracy: 0.8396 - auc: 0.9951 - loss: -3.5055 - precision: 0.9162 - recall: 0.9998 - val_accuracy: 0.8449 - val_auc: 0.9963 - val_loss: -3.5278 - val_precision: 0.9510 - val_recall: 1.0000 - learning_rate: 1.0000e-05\n",
      "\n",
      "Epoch 26: LearningRateScheduler setting learning rate to 1.0000000000000003e-05.\n",
      "Epoch 26/50\n",
      "\u001b[1m986/988\u001b[0m \u001b[32m━━━━━━━━━━━━━━━━━━━\u001b[0m\u001b[37m━\u001b[0m \u001b[1m0s\u001b[0m 9ms/step - accuracy: 0.8419 - auc: 0.9963 - loss: -3.5116 - precision: 0.9303 - recall: 0.9997\n",
      "Epoch 26: val_loss did not improve from -3.52902\n",
      "\u001b[1m988/988\u001b[0m \u001b[32m━━━━━━━━━━━━━━━━━━━━\u001b[0m\u001b[37m\u001b[0m \u001b[1m10s\u001b[0m 10ms/step - accuracy: 0.8419 - auc: 0.9963 - loss: -3.5116 - precision: 0.9303 - recall: 0.9997 - val_accuracy: 0.8454 - val_auc: 0.9964 - val_loss: -3.5287 - val_precision: 0.9542 - val_recall: 1.0000 - learning_rate: 1.0000e-05\n",
      "\n",
      "Epoch 27: LearningRateScheduler setting learning rate to 1.0000000000000003e-05.\n",
      "Epoch 27/50\n",
      "\u001b[1m983/988\u001b[0m \u001b[32m━━━━━━━━━━━━━━━━━━━\u001b[0m\u001b[37m━\u001b[0m \u001b[1m0s\u001b[0m 9ms/step - accuracy: 0.8394 - auc: 0.9958 - loss: -3.5516 - precision: 0.9267 - recall: 0.9993\n",
      "Epoch 27: val_loss improved from -3.52902 to -3.53052, saving model to /kaggle/working/models/best_cnn_lstm_dos_model.h5\n",
      "\u001b[1m988/988\u001b[0m \u001b[32m━━━━━━━━━━━━━━━━━━━━\u001b[0m\u001b[37m\u001b[0m \u001b[1m10s\u001b[0m 10ms/step - accuracy: 0.8395 - auc: 0.9958 - loss: -3.5515 - precision: 0.9267 - recall: 0.9993 - val_accuracy: 0.8465 - val_auc: 0.9970 - val_loss: -3.5305 - val_precision: 0.9612 - val_recall: 1.0000 - learning_rate: 1.0000e-05\n",
      "\n",
      "Epoch 28: LearningRateScheduler setting learning rate to 1.0000000000000003e-05.\n",
      "Epoch 28/50\n",
      "\u001b[1m984/988\u001b[0m \u001b[32m━━━━━━━━━━━━━━━━━━━\u001b[0m\u001b[37m━\u001b[0m \u001b[1m0s\u001b[0m 9ms/step - accuracy: 0.8426 - auc: 0.9964 - loss: -3.5194 - precision: 0.9369 - recall: 0.9997\n",
      "Epoch 28: val_loss did not improve from -3.53052\n",
      "\u001b[1m988/988\u001b[0m \u001b[32m━━━━━━━━━━━━━━━━━━━━\u001b[0m\u001b[37m\u001b[0m \u001b[1m10s\u001b[0m 10ms/step - accuracy: 0.8426 - auc: 0.9964 - loss: -3.5194 - precision: 0.9369 - recall: 0.9997 - val_accuracy: 0.8455 - val_auc: 0.9966 - val_loss: -3.5291 - val_precision: 0.9549 - val_recall: 1.0000 - learning_rate: 1.0000e-05\n",
      "\n",
      "Epoch 29: LearningRateScheduler setting learning rate to 1.0000000000000003e-05.\n",
      "Epoch 29/50\n",
      "\u001b[1m983/988\u001b[0m \u001b[32m━━━━━━━━━━━━━━━━━━━\u001b[0m\u001b[37m━\u001b[0m \u001b[1m0s\u001b[0m 9ms/step - accuracy: 0.8398 - auc: 0.9961 - loss: -3.5558 - precision: 0.9284 - recall: 1.0000\n",
      "Epoch 29: val_loss improved from -3.53052 to -3.53198, saving model to /kaggle/working/models/best_cnn_lstm_dos_model.h5\n",
      "\u001b[1m988/988\u001b[0m \u001b[32m━━━━━━━━━━━━━━━━━━━━\u001b[0m\u001b[37m\u001b[0m \u001b[1m10s\u001b[0m 10ms/step - accuracy: 0.8398 - auc: 0.9961 - loss: -3.5556 - precision: 0.9284 - recall: 1.0000 - val_accuracy: 0.8456 - val_auc: 0.9966 - val_loss: -3.5320 - val_precision: 0.9557 - val_recall: 1.0000 - learning_rate: 1.0000e-05\n",
      "\n",
      "Epoch 30: LearningRateScheduler setting learning rate to 1.0000000000000003e-05.\n",
      "Epoch 30/50\n",
      "\u001b[1m983/988\u001b[0m \u001b[32m━━━━━━━━━━━━━━━━━━━\u001b[0m\u001b[37m━\u001b[0m \u001b[1m0s\u001b[0m 9ms/step - accuracy: 0.8417 - auc: 0.9960 - loss: -3.5144 - precision: 0.9292 - recall: 0.9997\n",
      "Epoch 30: val_loss improved from -3.53198 to -3.53301, saving model to /kaggle/working/models/best_cnn_lstm_dos_model.h5\n",
      "\u001b[1m988/988\u001b[0m \u001b[32m━━━━━━━━━━━━━━━━━━━━\u001b[0m\u001b[37m\u001b[0m \u001b[1m10s\u001b[0m 10ms/step - accuracy: 0.8417 - auc: 0.9960 - loss: -3.5145 - precision: 0.9292 - recall: 0.9997 - val_accuracy: 0.8463 - val_auc: 0.9969 - val_loss: -3.5330 - val_precision: 0.9600 - val_recall: 1.0000 - learning_rate: 1.0000e-05\n",
      "\n",
      "Epoch 31: LearningRateScheduler setting learning rate to 1.0000000000000002e-06.\n",
      "Epoch 31/50\n",
      "\u001b[1m988/988\u001b[0m \u001b[32m━━━━━━━━━━━━━━━━━━━━\u001b[0m\u001b[37m\u001b[0m \u001b[1m0s\u001b[0m 9ms/step - accuracy: 0.8423 - auc: 0.9962 - loss: -3.5042 - precision: 0.9301 - recall: 1.0000\n",
      "Epoch 31: val_loss did not improve from -3.53301\n",
      "\u001b[1m988/988\u001b[0m \u001b[32m━━━━━━━━━━━━━━━━━━━━\u001b[0m\u001b[37m\u001b[0m \u001b[1m10s\u001b[0m 10ms/step - accuracy: 0.8423 - auc: 0.9962 - loss: -3.5043 - precision: 0.9301 - recall: 1.0000 - val_accuracy: 0.8469 - val_auc: 0.9971 - val_loss: -3.5314 - val_precision: 0.9636 - val_recall: 0.9996 - learning_rate: 1.0000e-06\n",
      "\n",
      "Epoch 32: LearningRateScheduler setting learning rate to 1.0000000000000002e-06.\n",
      "Epoch 32/50\n",
      "\u001b[1m988/988\u001b[0m \u001b[32m━━━━━━━━━━━━━━━━━━━━\u001b[0m\u001b[37m\u001b[0m \u001b[1m0s\u001b[0m 9ms/step - accuracy: 0.8414 - auc: 0.9961 - loss: -3.5413 - precision: 0.9353 - recall: 0.9994\n",
      "Epoch 32: val_loss did not improve from -3.53301\n",
      "\u001b[1m988/988\u001b[0m \u001b[32m━━━━━━━━━━━━━━━━━━━━\u001b[0m\u001b[37m\u001b[0m \u001b[1m10s\u001b[0m 10ms/step - accuracy: 0.8414 - auc: 0.9961 - loss: -3.5413 - precision: 0.9353 - recall: 0.9994 - val_accuracy: 0.8458 - val_auc: 0.9968 - val_loss: -3.5330 - val_precision: 0.9569 - val_recall: 1.0000 - learning_rate: 1.0000e-06\n",
      "\n",
      "Epoch 33: LearningRateScheduler setting learning rate to 1.0000000000000002e-06.\n",
      "Epoch 33/50\n",
      "\u001b[1m983/988\u001b[0m \u001b[32m━━━━━━━━━━━━━━━━━━━\u001b[0m\u001b[37m━\u001b[0m \u001b[1m0s\u001b[0m 9ms/step - accuracy: 0.8436 - auc: 0.9965 - loss: -3.4913 - precision: 0.9340 - recall: 0.9996\n",
      "Epoch 33: val_loss did not improve from -3.53301\n",
      "\u001b[1m988/988\u001b[0m \u001b[32m━━━━━━━━━━━━━━━━━━━━\u001b[0m\u001b[37m\u001b[0m \u001b[1m10s\u001b[0m 10ms/step - accuracy: 0.8436 - auc: 0.9965 - loss: -3.4915 - precision: 0.9340 - recall: 0.9996 - val_accuracy: 0.8467 - val_auc: 0.9971 - val_loss: -3.5328 - val_precision: 0.9624 - val_recall: 1.0000 - learning_rate: 1.0000e-06\n",
      "\n",
      "Epoch 34: LearningRateScheduler setting learning rate to 1.0000000000000002e-06.\n",
      "Epoch 34/50\n",
      "\u001b[1m983/988\u001b[0m \u001b[32m━━━━━━━━━━━━━━━━━━━\u001b[0m\u001b[37m━\u001b[0m \u001b[1m0s\u001b[0m 9ms/step - accuracy: 0.8436 - auc: 0.9962 - loss: -3.4791 - precision: 0.9316 - recall: 0.9997\n",
      "Epoch 34: val_loss improved from -3.53301 to -3.53380, saving model to /kaggle/working/models/best_cnn_lstm_dos_model.h5\n",
      "\u001b[1m988/988\u001b[0m \u001b[32m━━━━━━━━━━━━━━━━━━━━\u001b[0m\u001b[37m\u001b[0m \u001b[1m10s\u001b[0m 10ms/step - accuracy: 0.8436 - auc: 0.9962 - loss: -3.4793 - precision: 0.9316 - recall: 0.9997 - val_accuracy: 0.8463 - val_auc: 0.9969 - val_loss: -3.5338 - val_precision: 0.9597 - val_recall: 1.0000 - learning_rate: 1.0000e-06\n",
      "\n",
      "Epoch 35: LearningRateScheduler setting learning rate to 1.0000000000000002e-06.\n",
      "Epoch 35/50\n",
      "\u001b[1m986/988\u001b[0m \u001b[32m━━━━━━━━━━━━━━━━━━━\u001b[0m\u001b[37m━\u001b[0m \u001b[1m0s\u001b[0m 9ms/step - accuracy: 0.8425 - auc: 0.9960 - loss: -3.5105 - precision: 0.9330 - recall: 0.9994\n",
      "Epoch 35: val_loss did not improve from -3.53380\n",
      "\u001b[1m988/988\u001b[0m \u001b[32m━━━━━━━━━━━━━━━━━━━━\u001b[0m\u001b[37m\u001b[0m \u001b[1m10s\u001b[0m 10ms/step - accuracy: 0.8425 - auc: 0.9960 - loss: -3.5105 - precision: 0.9331 - recall: 0.9994 - val_accuracy: 0.8462 - val_auc: 0.9969 - val_loss: -3.5336 - val_precision: 0.9593 - val_recall: 1.0000 - learning_rate: 1.0000e-06\n",
      "\n",
      "Epoch 36: LearningRateScheduler setting learning rate to 1.0000000000000002e-06.\n",
      "Epoch 36/50\n",
      "\u001b[1m984/988\u001b[0m \u001b[32m━━━━━━━━━━━━━━━━━━━\u001b[0m\u001b[37m━\u001b[0m \u001b[1m0s\u001b[0m 9ms/step - accuracy: 0.8414 - auc: 0.9958 - loss: -3.5249 - precision: 0.9308 - recall: 0.9995\n",
      "Epoch 36: val_loss did not improve from -3.53380\n",
      "\u001b[1m988/988\u001b[0m \u001b[32m━━━━━━━━━━━━━━━━━━━━\u001b[0m\u001b[37m\u001b[0m \u001b[1m10s\u001b[0m 10ms/step - accuracy: 0.8414 - auc: 0.9958 - loss: -3.5249 - precision: 0.9308 - recall: 0.9995 - val_accuracy: 0.8461 - val_auc: 0.9968 - val_loss: -3.5333 - val_precision: 0.9589 - val_recall: 1.0000 - learning_rate: 1.0000e-06\n",
      "\n",
      "Epoch 37: LearningRateScheduler setting learning rate to 1.0000000000000002e-06.\n",
      "Epoch 37/50\n",
      "\u001b[1m987/988\u001b[0m \u001b[32m━━━━━━━━━━━━━━━━━━━\u001b[0m\u001b[37m━\u001b[0m \u001b[1m0s\u001b[0m 9ms/step - accuracy: 0.8414 - auc: 0.9964 - loss: -3.5461 - precision: 0.9349 - recall: 0.9997\n",
      "Epoch 37: val_loss did not improve from -3.53380\n",
      "\u001b[1m988/988\u001b[0m \u001b[32m━━━━━━━━━━━━━━━━━━━━\u001b[0m\u001b[37m\u001b[0m \u001b[1m10s\u001b[0m 10ms/step - accuracy: 0.8414 - auc: 0.9964 - loss: -3.5461 - precision: 0.9349 - recall: 0.9997 - val_accuracy: 0.8463 - val_auc: 0.9970 - val_loss: -3.5313 - val_precision: 0.9596 - val_recall: 0.9996 - learning_rate: 1.0000e-06\n",
      "\n",
      "Epoch 38: LearningRateScheduler setting learning rate to 1.0000000000000002e-06.\n",
      "Epoch 38/50\n",
      "\u001b[1m987/988\u001b[0m \u001b[32m━━━━━━━━━━━━━━━━━━━\u001b[0m\u001b[37m━\u001b[0m \u001b[1m0s\u001b[0m 9ms/step - accuracy: 0.8418 - auc: 0.9963 - loss: -3.5289 - precision: 0.9333 - recall: 0.9999\n",
      "Epoch 38: val_loss did not improve from -3.53380\n",
      "\u001b[1m988/988\u001b[0m \u001b[32m━━━━━━━━━━━━━━━━━━━━\u001b[0m\u001b[37m\u001b[0m \u001b[1m10s\u001b[0m 10ms/step - accuracy: 0.8418 - auc: 0.9963 - loss: -3.5289 - precision: 0.9333 - recall: 0.9999 - val_accuracy: 0.8465 - val_auc: 0.9968 - val_loss: -3.5334 - val_precision: 0.9608 - val_recall: 1.0000 - learning_rate: 1.0000e-06\n",
      "\n",
      "Epoch 39: LearningRateScheduler setting learning rate to 1.0000000000000002e-06.\n",
      "Epoch 39/50\n",
      "\u001b[1m987/988\u001b[0m \u001b[32m━━━━━━━━━━━━━━━━━━━\u001b[0m\u001b[37m━\u001b[0m \u001b[1m0s\u001b[0m 9ms/step - accuracy: 0.8420 - auc: 0.9957 - loss: -3.5111 - precision: 0.9307 - recall: 0.9994\n",
      "Epoch 39: val_loss did not improve from -3.53380\n",
      "\u001b[1m988/988\u001b[0m \u001b[32m━━━━━━━━━━━━━━━━━━━━\u001b[0m\u001b[37m\u001b[0m \u001b[1m10s\u001b[0m 10ms/step - accuracy: 0.8420 - auc: 0.9957 - loss: -3.5111 - precision: 0.9307 - recall: 0.9994 - val_accuracy: 0.8464 - val_auc: 0.9968 - val_loss: -3.5334 - val_precision: 0.9604 - val_recall: 1.0000 - learning_rate: 1.0000e-06\n",
      "\n",
      "Epoch 40: LearningRateScheduler setting learning rate to 1.0000000000000002e-06.\n",
      "Epoch 40/50\n",
      "\u001b[1m986/988\u001b[0m \u001b[32m━━━━━━━━━━━━━━━━━━━\u001b[0m\u001b[37m━\u001b[0m \u001b[1m0s\u001b[0m 9ms/step - accuracy: 0.8418 - auc: 0.9965 - loss: -3.5569 - precision: 0.9397 - recall: 0.9996\n",
      "Epoch 40: val_loss did not improve from -3.53380\n",
      "\u001b[1m988/988\u001b[0m \u001b[32m━━━━━━━━━━━━━━━━━━━━\u001b[0m\u001b[37m\u001b[0m \u001b[1m10s\u001b[0m 10ms/step - accuracy: 0.8418 - auc: 0.9965 - loss: -3.5568 - precision: 0.9397 - recall: 0.9996 - val_accuracy: 0.8465 - val_auc: 0.9971 - val_loss: -3.5317 - val_precision: 0.9612 - val_recall: 0.9996 - learning_rate: 1.0000e-06\n",
      "\n",
      "Epoch 41: LearningRateScheduler setting learning rate to 1.0000000000000002e-07.\n",
      "Epoch 41/50\n",
      "\u001b[1m987/988\u001b[0m \u001b[32m━━━━━━━━━━━━━━━━━━━\u001b[0m\u001b[37m━\u001b[0m \u001b[1m0s\u001b[0m 9ms/step - accuracy: 0.8409 - auc: 0.9960 - loss: -3.5591 - precision: 0.9365 - recall: 0.9991\n",
      "Epoch 41: val_loss did not improve from -3.53380\n",
      "\u001b[1m988/988\u001b[0m \u001b[32m━━━━━━━━━━━━━━━━━━━━\u001b[0m\u001b[37m\u001b[0m \u001b[1m10s\u001b[0m 10ms/step - accuracy: 0.8409 - auc: 0.9960 - loss: -3.5590 - precision: 0.9365 - recall: 0.9991 - val_accuracy: 0.8461 - val_auc: 0.9968 - val_loss: -3.5312 - val_precision: 0.9585 - val_recall: 0.9996 - learning_rate: 1.0000e-07\n",
      "\n",
      "Epoch 42: LearningRateScheduler setting learning rate to 1.0000000000000002e-07.\n",
      "Epoch 42/50\n",
      "\u001b[1m983/988\u001b[0m \u001b[32m━━━━━━━━━━━━━━━━━━━\u001b[0m\u001b[37m━\u001b[0m \u001b[1m0s\u001b[0m 9ms/step - accuracy: 0.8432 - auc: 0.9963 - loss: -3.5091 - precision: 0.9368 - recall: 0.9995\n",
      "Epoch 42: val_loss improved from -3.53380 to -3.53391, saving model to /kaggle/working/models/best_cnn_lstm_dos_model.h5\n",
      "\u001b[1m988/988\u001b[0m \u001b[32m━━━━━━━━━━━━━━━━━━━━\u001b[0m\u001b[37m\u001b[0m \u001b[1m10s\u001b[0m 10ms/step - accuracy: 0.8432 - auc: 0.9963 - loss: -3.5092 - precision: 0.9368 - recall: 0.9995 - val_accuracy: 0.8464 - val_auc: 0.9970 - val_loss: -3.5339 - val_precision: 0.9604 - val_recall: 1.0000 - learning_rate: 1.0000e-07\n",
      "\n",
      "Epoch 43: LearningRateScheduler setting learning rate to 1.0000000000000002e-07.\n",
      "Epoch 43/50\n",
      "\u001b[1m986/988\u001b[0m \u001b[32m━━━━━━━━━━━━━━━━━━━\u001b[0m\u001b[37m━\u001b[0m \u001b[1m0s\u001b[0m 9ms/step - accuracy: 0.8411 - auc: 0.9963 - loss: -3.5550 - precision: 0.9354 - recall: 0.9998\n",
      "Epoch 43: val_loss did not improve from -3.53391\n",
      "\u001b[1m988/988\u001b[0m \u001b[32m━━━━━━━━━━━━━━━━━━━━\u001b[0m\u001b[37m\u001b[0m \u001b[1m10s\u001b[0m 10ms/step - accuracy: 0.8411 - auc: 0.9963 - loss: -3.5550 - precision: 0.9354 - recall: 0.9998 - val_accuracy: 0.8464 - val_auc: 0.9969 - val_loss: -3.5329 - val_precision: 0.9604 - val_recall: 1.0000 - learning_rate: 1.0000e-07\n",
      "\n",
      "Epoch 44: LearningRateScheduler setting learning rate to 1.0000000000000002e-07.\n",
      "Epoch 44/50\n",
      "\u001b[1m986/988\u001b[0m \u001b[32m━━━━━━━━━━━━━━━━━━━\u001b[0m\u001b[37m━\u001b[0m \u001b[1m0s\u001b[0m 9ms/step - accuracy: 0.8414 - auc: 0.9962 - loss: -3.5471 - precision: 0.9361 - recall: 0.9996\n",
      "Epoch 44: val_loss did not improve from -3.53391\n",
      "\u001b[1m988/988\u001b[0m \u001b[32m━━━━━━━━━━━━━━━━━━━━\u001b[0m\u001b[37m\u001b[0m \u001b[1m10s\u001b[0m 10ms/step - accuracy: 0.8414 - auc: 0.9962 - loss: -3.5471 - precision: 0.9361 - recall: 0.9996 - val_accuracy: 0.8465 - val_auc: 0.9969 - val_loss: -3.5328 - val_precision: 0.9608 - val_recall: 1.0000 - learning_rate: 1.0000e-07\n",
      "\n",
      "Epoch 45: LearningRateScheduler setting learning rate to 1.0000000000000002e-07.\n",
      "Epoch 45/50\n",
      "\u001b[1m987/988\u001b[0m \u001b[32m━━━━━━━━━━━━━━━━━━━\u001b[0m\u001b[37m━\u001b[0m \u001b[1m0s\u001b[0m 9ms/step - accuracy: 0.8432 - auc: 0.9963 - loss: -3.4993 - precision: 0.9341 - recall: 0.9991\n",
      "Epoch 45: val_loss did not improve from -3.53391\n",
      "\u001b[1m988/988\u001b[0m \u001b[32m━━━━━━━━━━━━━━━━━━━━\u001b[0m\u001b[37m\u001b[0m \u001b[1m10s\u001b[0m 10ms/step - accuracy: 0.8432 - auc: 0.9963 - loss: -3.4994 - precision: 0.9341 - recall: 0.9991 - val_accuracy: 0.8462 - val_auc: 0.9970 - val_loss: -3.5311 - val_precision: 0.9592 - val_recall: 0.9996 - learning_rate: 1.0000e-07\n",
      "Epoch 45: early stopping\n",
      "Restoring model weights from the end of the best epoch: 30.\n"
     ]
    }
   ],
   "source": [
    "# CNN-LSTM Model Implementation\n",
    "model = Sequential()\n",
    "\n",
    "# Convolutional layers with L2 regularization\n",
    "model.add(Conv1D(64, 3, padding=\"same\", input_shape=(X_Probe.shape[1], 1), activation='relu', kernel_regularizer=l2(0.01)))\n",
    "model.add(Conv1D(64, 3, padding=\"same\", activation='relu', kernel_regularizer=l2(0.01)))\n",
    "model.add(MaxPooling1D(pool_size=2))\n",
    "model.add(Conv1D(128, 3, padding=\"same\", activation='relu', kernel_regularizer=l2(0.001)))\n",
    "model.add(Conv1D(128, 3, padding=\"same\", activation='relu', kernel_regularizer=l2(0.001)))\n",
    "model.add(MaxPooling1D(pool_size=2))\n",
    "\n",
    "# Batch normalization\n",
    "model.add(BatchNormalization())\n",
    "\n",
    "# LSTM layer with regularization and dropout\n",
    "model.add(LSTM(units=100, return_sequences=False, dropout=0.1, kernel_regularizer=l2(0.01)))\n",
    "model.add(Dropout(0.5))\n",
    "\n",
    "# Output layer\n",
    "model.add(Dense(units=1, activation='sigmoid', kernel_regularizer=l2(0.01)))\n",
    "\n",
    "# Model compilation with Focal Loss\n",
    "opt = Adam(learning_rate=initial_learning_rate)\n",
    "\n",
    "model.compile(\n",
    "    loss=focal_loss_fn, \n",
    "    optimizer=opt, \n",
    "    metrics=[\n",
    "        'accuracy',\n",
    "        tf.keras.metrics.Recall(name='recall'),\n",
    "        tf.keras.metrics.Precision(name='precision'),\n",
    "        tf.keras.metrics.AUC(name='auc')\n",
    "    ]\n",
    ")\n",
    "# Proper validation strategy using train-validation split\n",
    "from sklearn.model_selection import train_test_split\n",
    "\n",
    "print(\"Validation Strategy: Stratified train-validation split\")\n",
    "print(\"Test set reserved for final evaluation only\")\n",
    "\n",
    "# Split training data (80/20)\n",
    "X_train, X_val, y_train, y_val = train_test_split(\n",
    "    X, Y, \n",
    "    test_size=0.2, \n",
    "    stratify=Y,\n",
    "    random_state=42\n",
    ")\n",
    "\n",
    "print(f\"Training samples: {X_train.shape[0]}\")\n",
    "print(f\"Validation samples: {X_val.shape[0]}\")\n",
    "print(f\"Test samples: {X_DoS_test.shape[0]}\")\n",
    "\n",
    "# Environment-independent callbacks\n",
    "my_callbacks_proper = [\n",
    "    ModelCheckpoint(\n",
    "        filepath=model_path, \n",
    "        verbose=1, \n",
    "        save_best_only=True, \n",
    "        monitor='val_loss',\n",
    "        mode='min'\n",
    "    ),\n",
    "    EarlyStopping(\n",
    "        monitor='val_loss',\n",
    "        patience=15,\n",
    "        restore_best_weights=True,\n",
    "        verbose=1,\n",
    "        min_delta=0.001\n",
    "    ),\n",
    "    LearningRateScheduler(lr_schedule, verbose=1)\n",
    "]\n",
    "\n",
    "# Model training\n",
    "print(f\"\\nTraining CNN-LSTM model...\")\n",
    "print(f\"Model will be saved to: {model_path}\")\n",
    "history = model.fit(\n",
    "    X_train, y_train,\n",
    "    epochs=50,\n",
    "    batch_size=64,\n",
    "    validation_data=(X_val, y_val),\n",
    "    callbacks=my_callbacks_proper\n",
    ")"
   ]
  },
  {
   "cell_type": "code",
   "execution_count": 258,
   "id": "78e974a7-9b6a-4b92-8fad-75855df02ba9",
   "metadata": {
    "execution": {
     "iopub.execute_input": "2025-09-01T06:35:46.236994Z",
     "iopub.status.busy": "2025-09-01T06:35:46.236669Z",
     "iopub.status.idle": "2025-09-01T06:35:48.250651Z",
     "shell.execute_reply": "2025-09-01T06:35:48.250116Z",
     "shell.execute_reply.started": "2025-09-01T06:35:46.236974Z"
    },
    "trusted": true
   },
   "outputs": [
    {
     "name": "stdout",
     "output_type": "stream",
     "text": [
      "\u001b[1m380/380\u001b[0m \u001b[32m━━━━━━━━━━━━━━━━━━━━\u001b[0m\u001b[37m\u001b[0m \u001b[1m1s\u001b[0m 3ms/step\n"
     ]
    }
   ],
   "source": [
    "y_pred = model.predict(X_Probe_test)"
   ]
  },
  {
   "cell_type": "code",
   "execution_count": 259,
   "id": "fd5c90e9-095f-4414-8ba1-60639fa15b6f",
   "metadata": {
    "execution": {
     "iopub.execute_input": "2025-09-01T06:35:50.935435Z",
     "iopub.status.busy": "2025-09-01T06:35:50.935174Z",
     "iopub.status.idle": "2025-09-01T06:35:50.959439Z",
     "shell.execute_reply": "2025-09-01T06:35:50.958683Z",
     "shell.execute_reply.started": "2025-09-01T06:35:50.935414Z"
    },
    "trusted": true
   },
   "outputs": [],
   "source": [
    "y_pred1 = []\n",
    "for i in y_pred:\n",
    "  if i>=0.5:\n",
    "    y_pred1.append(2)\n",
    "  else:\n",
    "    y_pred1.append(0)"
   ]
  },
  {
   "cell_type": "code",
   "execution_count": 260,
   "id": "dab4ef27-24b3-4671-9ec1-3fe88575873e",
   "metadata": {
    "execution": {
     "iopub.execute_input": "2025-09-01T06:35:52.416155Z",
     "iopub.status.busy": "2025-09-01T06:35:52.415604Z",
     "iopub.status.idle": "2025-09-01T06:35:52.421517Z",
     "shell.execute_reply": "2025-09-01T06:35:52.420936Z",
     "shell.execute_reply.started": "2025-09-01T06:35:52.416135Z"
    },
    "trusted": true
   },
   "outputs": [
    {
     "data": {
      "text/plain": [
       "array([0, 2, 2, ..., 0, 0, 2])"
      ]
     },
     "execution_count": 260,
     "metadata": {},
     "output_type": "execute_result"
    }
   ],
   "source": [
    "y_pred = np.array(y_pred1)\n",
    "y_pred"
   ]
  },
  {
   "cell_type": "code",
   "execution_count": 261,
   "id": "74669dc2-3dec-46a5-a4e7-7589a70788da",
   "metadata": {
    "execution": {
     "iopub.execute_input": "2025-09-01T06:35:54.410987Z",
     "iopub.status.busy": "2025-09-01T06:35:54.410426Z",
     "iopub.status.idle": "2025-09-01T06:35:54.444262Z",
     "shell.execute_reply": "2025-09-01T06:35:54.443726Z",
     "shell.execute_reply.started": "2025-09-01T06:35:54.410965Z"
    },
    "trusted": true
   },
   "outputs": [
    {
     "name": "stdout",
     "output_type": "stream",
     "text": [
      "              precision    recall  f1-score   support\n",
      "\n",
      "           0       0.98      0.95      0.97      9711\n",
      "           2       0.82      0.94      0.88      2421\n",
      "\n",
      "    accuracy                           0.95     12132\n",
      "   macro avg       0.90      0.94      0.92     12132\n",
      "weighted avg       0.95      0.95      0.95     12132\n",
      "\n"
     ]
    }
   ],
   "source": [
    "from sklearn.metrics import classification_report,confusion_matrix\n",
    "print(classification_report(Y_Probe_test,y_pred))"
   ]
  }
 ],
 "metadata": {
  "kaggle": {
   "accelerator": "nvidiaTeslaT4",
   "dataSources": [
    {
     "datasetId": 8150231,
     "sourceId": 12882461,
     "sourceType": "datasetVersion"
    }
   ],
   "dockerImageVersionId": 31090,
   "isGpuEnabled": true,
   "isInternetEnabled": true,
   "language": "python",
   "sourceType": "notebook"
  },
  "kernelspec": {
   "display_name": "Python 3",
   "language": "python",
   "name": "python3"
  },
  "language_info": {
   "codemirror_mode": {
    "name": "ipython",
    "version": 3
   },
   "file_extension": ".py",
   "mimetype": "text/x-python",
   "name": "python",
   "nbconvert_exporter": "python",
   "pygments_lexer": "ipython3",
   "version": "3.11.13"
  }
 },
 "nbformat": 4,
 "nbformat_minor": 5
}
