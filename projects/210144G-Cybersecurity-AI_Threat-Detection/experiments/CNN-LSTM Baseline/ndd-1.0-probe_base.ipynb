{
 "cells": [
  {
   "cell_type": "code",
   "execution_count": 147,
   "id": "4494df36",
   "metadata": {
    "execution": {
     "iopub.execute_input": "2025-09-01T05:00:10.927839Z",
     "iopub.status.busy": "2025-09-01T05:00:10.927269Z",
     "iopub.status.idle": "2025-09-01T05:00:10.935134Z",
     "shell.execute_reply": "2025-09-01T05:00:10.934323Z",
     "shell.execute_reply.started": "2025-09-01T05:00:10.927816Z"
    },
    "trusted": true
   },
   "outputs": [],
   "source": [
    "# module imports\n",
    "import numpy as np\n",
    "import pandas as pd\n",
    "import matplotlib.pyplot as plt\n",
    "import seaborn as sns\n",
    "import itertools\n",
    "import random\n",
    "from sklearn.decomposition import PCA\n",
    "\n",
    "# model imports\n",
    "from sklearn.ensemble import RandomForestClassifier\n",
    "from sklearn.neighbors import KNeighborsClassifier\n",
    "from sklearn.linear_model import LogisticRegression\n",
    "from sklearn.decomposition import KernelPCA\n",
    "\n",
    "\n",
    "# processing imports\n",
    "from sklearn.preprocessing import LabelEncoder\n",
    "from sklearn.model_selection import train_test_split\n",
    "from sklearn.model_selection import cross_val_score\n",
    "from sklearn.metrics import mean_absolute_error\n",
    "from sklearn.metrics import accuracy_score\n",
    "from sklearn.metrics import confusion_matrix\n",
    "\n",
    "from sklearn.ensemble import RandomForestClassifier\n",
    "from sklearn.linear_model import LogisticRegression\n",
    "from sklearn.neighbors import KNeighborsClassifier\n",
    "from sklearn.naive_bayes import GaussianNB\n",
    "from sklearn.tree import DecisionTreeClassifier\n",
    "from sklearn.metrics import confusion_matrix, accuracy_score, f1_score\n",
    "from sklearn.model_selection import GridSearchCV\n",
    "from sklearn.metrics import matthews_corrcoef, precision_score, recall_score\n",
    "\n",
    "import numpy as np\n",
    "import pandas as pd\n",
    "import matplotlib.pyplot as plt\n",
    "import seaborn as sns\n",
    "from sklearn import preprocessing\n",
    "from sklearn.preprocessing import StandardScaler\n",
    "from sklearn.metrics import precision_score, recall_score, f1_score\n",
    "from sklearn.metrics import accuracy_score, balanced_accuracy_score,classification_report\n",
    "from sklearn.metrics import confusion_matrix, ConfusionMatrixDisplay\n",
    "from sklearn.model_selection import KFold, GridSearchCV\n",
    "from sklearn.model_selection import train_test_split\n",
    "from sklearn.utils import shuffle\n",
    "\n",
    "np.random.seed(1635848)"
   ]
  },
  {
   "cell_type": "code",
   "execution_count": 148,
   "id": "d511c5a7",
   "metadata": {
    "execution": {
     "iopub.execute_input": "2025-09-01T05:00:10.936667Z",
     "iopub.status.busy": "2025-09-01T05:00:10.936393Z",
     "iopub.status.idle": "2025-09-01T05:00:10.950220Z",
     "shell.execute_reply": "2025-09-01T05:00:10.949533Z",
     "shell.execute_reply.started": "2025-09-01T05:00:10.936652Z"
    },
    "trusted": true
   },
   "outputs": [],
   "source": [
    "# fetch the training file\n",
    "file_path_full_training_set = '/kaggle/input/kdd-data/KDDTrain.txt'\n",
    "file_path_test = '/kaggle/input/kdd-data/KDDTest.txt'"
   ]
  },
  {
   "cell_type": "code",
   "execution_count": 149,
   "id": "359af5f4",
   "metadata": {
    "execution": {
     "iopub.execute_input": "2025-09-01T05:00:10.951262Z",
     "iopub.status.busy": "2025-09-01T05:00:10.950984Z",
     "iopub.status.idle": "2025-09-01T05:00:11.329289Z",
     "shell.execute_reply": "2025-09-01T05:00:11.328541Z",
     "shell.execute_reply.started": "2025-09-01T05:00:10.951240Z"
    },
    "trusted": true
   },
   "outputs": [],
   "source": [
    "df = pd.read_csv(file_path_full_training_set)\n",
    "test_df = pd.read_csv(file_path_test)"
   ]
  },
  {
   "cell_type": "code",
   "execution_count": 150,
   "id": "77801432",
   "metadata": {
    "execution": {
     "iopub.execute_input": "2025-09-01T05:00:11.331343Z",
     "iopub.status.busy": "2025-09-01T05:00:11.331136Z",
     "iopub.status.idle": "2025-09-01T05:00:11.335841Z",
     "shell.execute_reply": "2025-09-01T05:00:11.335129Z",
     "shell.execute_reply.started": "2025-09-01T05:00:11.331326Z"
    },
    "trusted": true
   },
   "outputs": [],
   "source": [
    "columns = (['duration'\n",
    ",'protocol_type'\n",
    ",'service'\n",
    ",'flag'\n",
    ",'src_bytes'\n",
    ",'dst_bytes'\n",
    ",'land'\n",
    ",'wrong_fragment'\n",
    ",'urgent'\n",
    ",'hot'\n",
    ",'num_failed_logins'\n",
    ",'logged_in'\n",
    ",'num_compromised'\n",
    ",'root_shell'\n",
    ",'su_attempted'\n",
    ",'num_root'\n",
    ",'num_file_creations'\n",
    ",'num_shells'\n",
    ",'num_access_files'\n",
    ",'num_outbound_cmds'\n",
    ",'is_host_login'\n",
    ",'is_guest_login'\n",
    ",'count'\n",
    ",'srv_count'\n",
    ",'serror_rate'\n",
    ",'srv_serror_rate'\n",
    ",'rerror_rate'\n",
    ",'srv_rerror_rate'\n",
    ",'same_srv_rate'\n",
    ",'diff_srv_rate'\n",
    ",'srv_diff_host_rate'\n",
    ",'dst_host_count'\n",
    ",'dst_host_srv_count'\n",
    ",'dst_host_same_srv_rate'\n",
    ",'dst_host_diff_srv_rate'\n",
    ",'dst_host_same_src_port_rate'\n",
    ",'dst_host_srv_diff_host_rate'\n",
    ",'dst_host_serror_rate'\n",
    ",'dst_host_srv_serror_rate'\n",
    ",'dst_host_rerror_rate'\n",
    ",'dst_host_srv_rerror_rate'\n",
    ",'attack'\n",
    ",'level'])"
   ]
  },
  {
   "cell_type": "code",
   "execution_count": 151,
   "id": "69fbb304",
   "metadata": {
    "execution": {
     "iopub.execute_input": "2025-09-01T05:00:11.336652Z",
     "iopub.status.busy": "2025-09-01T05:00:11.336480Z",
     "iopub.status.idle": "2025-09-01T05:00:11.349171Z",
     "shell.execute_reply": "2025-09-01T05:00:11.348391Z",
     "shell.execute_reply.started": "2025-09-01T05:00:11.336639Z"
    },
    "trusted": true
   },
   "outputs": [],
   "source": [
    "df.columns = columns\n",
    "test_df.columns = columns"
   ]
  },
  {
   "cell_type": "code",
   "execution_count": 152,
   "id": "90a0b176-b269-49cd-a1d2-56908b08ded4",
   "metadata": {
    "execution": {
     "iopub.execute_input": "2025-09-01T05:00:11.350172Z",
     "iopub.status.busy": "2025-09-01T05:00:11.349929Z",
     "iopub.status.idle": "2025-09-01T05:00:11.382106Z",
     "shell.execute_reply": "2025-09-01T05:00:11.381561Z",
     "shell.execute_reply.started": "2025-09-01T05:00:11.350150Z"
    },
    "trusted": true
   },
   "outputs": [
    {
     "name": "stdout",
     "output_type": "stream",
     "text": [
      "Training set categorical features:\n",
      "Feature 'protocol_type' has 3 categories\n",
      "Feature 'service' has 70 categories\n",
      "Feature 'flag' has 11 categories\n",
      "Feature 'attack' has 23 categories\n"
     ]
    }
   ],
   "source": [
    "# Categorical features analysis\n",
    "print('Training set categorical features:')\n",
    "for col_name in df.columns:\n",
    "    if df[col_name].dtypes == 'object' :\n",
    "        unique_cat = len(df[col_name].unique())\n",
    "        print(\"Feature '{col_name}' has {unique_cat} categories\".format(col_name=col_name, unique_cat=unique_cat))"
   ]
  },
  {
   "cell_type": "code",
   "execution_count": 153,
   "id": "07322b9f",
   "metadata": {
    "execution": {
     "iopub.execute_input": "2025-09-01T05:00:11.383291Z",
     "iopub.status.busy": "2025-09-01T05:00:11.382874Z",
     "iopub.status.idle": "2025-09-01T05:00:11.409583Z",
     "shell.execute_reply": "2025-09-01T05:00:11.409084Z",
     "shell.execute_reply.started": "2025-09-01T05:00:11.383273Z"
    },
    "trusted": true
   },
   "outputs": [
    {
     "name": "stdout",
     "output_type": "stream",
     "text": [
      "Training set:\n",
      "Feature 'protocol_type' has 3 categories\n",
      "Feature 'service' has 70 categories\n",
      "Feature 'flag' has 11 categories\n",
      "Feature 'attack' has 23 categories\n"
     ]
    }
   ],
   "source": [
    "# colums that are categorical and not binary yet: protocol_type (column 2), service (column 3), flag (column 4).\n",
    "# explore categorical features\n",
    "print('Training set:')\n",
    "for col_name in df.columns:\n",
    "    if df[col_name].dtypes == 'object' :\n",
    "        unique_cat = len(df[col_name].unique())\n",
    "        print(\"Feature '{col_name}' has {unique_cat} categories\".format(col_name=col_name, unique_cat=unique_cat))"
   ]
  },
  {
   "cell_type": "code",
   "execution_count": 154,
   "id": "e357b142",
   "metadata": {
    "execution": {
     "iopub.execute_input": "2025-09-01T05:00:11.410318Z",
     "iopub.status.busy": "2025-09-01T05:00:11.410162Z",
     "iopub.status.idle": "2025-09-01T05:00:11.422974Z",
     "shell.execute_reply": "2025-09-01T05:00:11.422270Z",
     "shell.execute_reply.started": "2025-09-01T05:00:11.410305Z"
    },
    "trusted": true
   },
   "outputs": [
    {
     "name": "stdout",
     "output_type": "stream",
     "text": [
      "Distribution of categories in service:\n",
      "service\n",
      "http        40338\n",
      "private     21853\n",
      "domain_u     9043\n",
      "smtp         7313\n",
      "ftp_data     6859\n",
      "Name: count, dtype: int64\n"
     ]
    }
   ],
   "source": [
    "print('Distribution of categories in service:')\n",
    "print(df['service'].value_counts().sort_values(ascending=False).head())"
   ]
  },
  {
   "cell_type": "code",
   "execution_count": 155,
   "id": "97271e75",
   "metadata": {
    "execution": {
     "iopub.execute_input": "2025-09-01T05:00:11.423910Z",
     "iopub.status.busy": "2025-09-01T05:00:11.423674Z",
     "iopub.status.idle": "2025-09-01T05:00:11.439352Z",
     "shell.execute_reply": "2025-09-01T05:00:11.438687Z",
     "shell.execute_reply.started": "2025-09-01T05:00:11.423895Z"
    },
    "trusted": true
   },
   "outputs": [
    {
     "name": "stdout",
     "output_type": "stream",
     "text": [
      "Test set:\n",
      "Feature 'protocol_type' has 3 categories\n",
      "Feature 'service' has 64 categories\n",
      "Feature 'flag' has 11 categories\n",
      "Feature 'attack' has 38 categories\n"
     ]
    }
   ],
   "source": [
    "# Test set\n",
    "print('Test set:')\n",
    "for col_name in test_df.columns:\n",
    "    if test_df[col_name].dtypes == 'object' :\n",
    "        unique_cat = len(test_df[col_name].unique())\n",
    "        print(\"Feature '{col_name}' has {unique_cat} categories\".format(col_name=col_name, unique_cat=unique_cat))"
   ]
  },
  {
   "cell_type": "code",
   "execution_count": 156,
   "id": "dd10431f-655b-4c5c-ab88-bba8ff514866",
   "metadata": {
    "execution": {
     "iopub.execute_input": "2025-09-01T05:00:11.441870Z",
     "iopub.status.busy": "2025-09-01T05:00:11.441638Z",
     "iopub.status.idle": "2025-09-01T05:00:11.464256Z",
     "shell.execute_reply": "2025-09-01T05:00:11.463654Z",
     "shell.execute_reply.started": "2025-09-01T05:00:11.441855Z"
    },
    "trusted": true
   },
   "outputs": [
    {
     "name": "stdout",
     "output_type": "stream",
     "text": [
      "============================================================\n",
      "ATTACK TYPE DISTRIBUTION ANALYSIS\n",
      "============================================================\n",
      "\n",
      "Training Set Attack Distribution:\n",
      "attack\n",
      "normal         67342\n",
      "neptune        41214\n",
      "satan           3633\n",
      "ipsweep         3599\n",
      "portsweep       2931\n",
      "smurf           2646\n",
      "nmap            1493\n",
      "back             956\n",
      "teardrop         892\n",
      "warezclient      890\n",
      "Name: count, dtype: int64\n",
      "\n",
      "Test Set Attack Distribution:\n",
      "attack\n",
      "normal          9711\n",
      "neptune         4656\n",
      "guess_passwd    1231\n",
      "mscan            996\n",
      "warezmaster      944\n",
      "apache2          737\n",
      "satan            735\n",
      "processtable     685\n",
      "smurf            665\n",
      "back             359\n",
      "Name: count, dtype: int64\n",
      "\n",
      "Unique Attacks Comparison:\n",
      "Training attacks: 23 unique types\n",
      "Test attacks: 38 unique types\n",
      "\n",
      "Attacks ONLY in training: 2\n",
      "   ['warezclient', 'spy']\n",
      "\n",
      "Attacks ONLY in test: 17\n",
      "   ['processtable', 'ps', 'apache2', 'xterm', 'mailbomb', 'mscan', 'udpstorm', 'snmpguess', 'xlock', 'worm', 'saint', 'sendmail', 'named', 'httptunnel', 'xsnoop', 'snmpgetattack', 'sqlattack']\n",
      "\n",
      "Common attacks: 21\n"
     ]
    }
   ],
   "source": [
    "# Attack Distribution Comparison Analysis\n",
    "print(\"=\"*60)\n",
    "print(\"ATTACK TYPE DISTRIBUTION ANALYSIS\")\n",
    "print(\"=\"*60)\n",
    "\n",
    "print(\"\\nTraining Set Attack Distribution:\")\n",
    "print(df['attack'].value_counts().head(10))\n",
    "\n",
    "print(\"\\nTest Set Attack Distribution:\")\n",
    "print(test_df['attack'].value_counts().head(10))\n",
    "\n",
    "print(\"\\nUnique Attacks Comparison:\")\n",
    "train_attacks = set(df['attack'].unique())\n",
    "test_attacks = set(test_df['attack'].unique())\n",
    "\n",
    "print(f\"Training attacks: {len(train_attacks)} unique types\")\n",
    "print(f\"Test attacks: {len(test_attacks)} unique types\")\n",
    "\n",
    "attacks_only_in_train = train_attacks - test_attacks\n",
    "attacks_only_in_test = test_attacks - train_attacks\n",
    "common_attacks = train_attacks.intersection(test_attacks)\n",
    "\n",
    "print(f\"\\nAttacks ONLY in training: {len(attacks_only_in_train)}\")\n",
    "if attacks_only_in_train:\n",
    "    print(f\"   {list(attacks_only_in_train)}\")\n",
    "\n",
    "print(f\"\\nAttacks ONLY in test: {len(attacks_only_in_test)}\")  \n",
    "if attacks_only_in_test:\n",
    "    print(f\"   {list(attacks_only_in_test)}\")\n",
    "\n",
    "print(f\"\\nCommon attacks: {len(common_attacks)}\")"
   ]
  },
  {
   "cell_type": "code",
   "execution_count": 157,
   "id": "f12a4ed1",
   "metadata": {
    "execution": {
     "iopub.execute_input": "2025-09-01T05:00:11.465117Z",
     "iopub.status.busy": "2025-09-01T05:00:11.464883Z",
     "iopub.status.idle": "2025-09-01T05:00:11.478573Z",
     "shell.execute_reply": "2025-09-01T05:00:11.478096Z",
     "shell.execute_reply.started": "2025-09-01T05:00:11.465102Z"
    },
    "trusted": true
   },
   "outputs": [
    {
     "data": {
      "text/html": [
       "<div>\n",
       "<style scoped>\n",
       "    .dataframe tbody tr th:only-of-type {\n",
       "        vertical-align: middle;\n",
       "    }\n",
       "\n",
       "    .dataframe tbody tr th {\n",
       "        vertical-align: top;\n",
       "    }\n",
       "\n",
       "    .dataframe thead th {\n",
       "        text-align: right;\n",
       "    }\n",
       "</style>\n",
       "<table border=\"1\" class=\"dataframe\">\n",
       "  <thead>\n",
       "    <tr style=\"text-align: right;\">\n",
       "      <th></th>\n",
       "      <th>protocol_type</th>\n",
       "      <th>service</th>\n",
       "      <th>flag</th>\n",
       "    </tr>\n",
       "  </thead>\n",
       "  <tbody>\n",
       "    <tr>\n",
       "      <th>0</th>\n",
       "      <td>udp</td>\n",
       "      <td>other</td>\n",
       "      <td>SF</td>\n",
       "    </tr>\n",
       "    <tr>\n",
       "      <th>1</th>\n",
       "      <td>tcp</td>\n",
       "      <td>private</td>\n",
       "      <td>S0</td>\n",
       "    </tr>\n",
       "    <tr>\n",
       "      <th>2</th>\n",
       "      <td>tcp</td>\n",
       "      <td>http</td>\n",
       "      <td>SF</td>\n",
       "    </tr>\n",
       "    <tr>\n",
       "      <th>3</th>\n",
       "      <td>tcp</td>\n",
       "      <td>http</td>\n",
       "      <td>SF</td>\n",
       "    </tr>\n",
       "    <tr>\n",
       "      <th>4</th>\n",
       "      <td>tcp</td>\n",
       "      <td>private</td>\n",
       "      <td>REJ</td>\n",
       "    </tr>\n",
       "  </tbody>\n",
       "</table>\n",
       "</div>"
      ],
      "text/plain": [
       "  protocol_type  service flag\n",
       "0           udp    other   SF\n",
       "1           tcp  private   S0\n",
       "2           tcp     http   SF\n",
       "3           tcp     http   SF\n",
       "4           tcp  private  REJ"
      ]
     },
     "execution_count": 157,
     "metadata": {},
     "output_type": "execute_result"
    }
   ],
   "source": [
    "from sklearn.preprocessing import LabelEncoder, OneHotEncoder\n",
    "\n",
    "# Define categorical columns for encoding\n",
    "categorical_columns = ['protocol_type', 'service', 'flag']\n",
    "\n",
    "# Extract categorical values\n",
    "df_categorical_values = df[categorical_columns]\n",
    "testdf_categorical_values = test_df[categorical_columns]\n",
    "df_categorical_values.head()"
   ]
  },
  {
   "cell_type": "code",
   "execution_count": 158,
   "id": "e8430967",
   "metadata": {
    "execution": {
     "iopub.execute_input": "2025-09-01T05:00:11.479433Z",
     "iopub.status.busy": "2025-09-01T05:00:11.479207Z",
     "iopub.status.idle": "2025-09-01T05:00:11.502359Z",
     "shell.execute_reply": "2025-09-01T05:00:11.501885Z",
     "shell.execute_reply.started": "2025-09-01T05:00:11.479415Z"
    },
    "trusted": true
   },
   "outputs": [
    {
     "name": "stdout",
     "output_type": "stream",
     "text": [
      "Total columns: 84\n",
      "Protocol columns: 3\n",
      "Service columns: 70\n",
      "Flag columns: 11\n",
      "\n",
      "Services only in train: {'harvest', 'http_2784', 'http_8001', 'urh_i', 'aol', 'red_i'}\n",
      "Services only in test: set()\n",
      "Combined services: 70\n"
     ]
    }
   ],
   "source": [
    "# Generate column names for categorical encoding\n",
    "unique_protocol=sorted(df.protocol_type.unique())\n",
    "string1 = 'Protocol_type_'\n",
    "unique_protocol2=[string1 + x for x in unique_protocol]\n",
    "\n",
    "# Use combined unique services from both train and test sets\n",
    "unique_service_train = set(df.service.unique())\n",
    "unique_service_test = set(test_df.service.unique())\n",
    "unique_service_combined = sorted(list(unique_service_train.union(unique_service_test)))\n",
    "string2 = 'service_'\n",
    "unique_service2 = [string2 + x for x in unique_service_combined]\n",
    "\n",
    "# Flag columns\n",
    "unique_flag=sorted(df.flag.unique())\n",
    "string3 = 'flag_'\n",
    "unique_flag2=[string3 + x for x in unique_flag]\n",
    "\n",
    "# Combined columns for consistent encoding\n",
    "dumcols = unique_protocol2 + unique_service2 + unique_flag2\n",
    "testdumcols = dumcols\n",
    "\n",
    "print(f\"Total columns: {len(dumcols)}\")\n",
    "print(f\"Protocol columns: {len(unique_protocol2)}\")  \n",
    "print(f\"Service columns: {len(unique_service2)}\")\n",
    "print(f\"Flag columns: {len(unique_flag2)}\")\n",
    "\n",
    "print(f\"\\nServices only in train: {unique_service_train - unique_service_test}\")\n",
    "print(f\"Services only in test: {unique_service_test - unique_service_train}\")\n",
    "print(f\"Combined services: {len(unique_service_combined)}\")"
   ]
  },
  {
   "cell_type": "code",
   "execution_count": 159,
   "id": "39fc0da7",
   "metadata": {
    "execution": {
     "iopub.execute_input": "2025-09-01T05:00:11.503388Z",
     "iopub.status.busy": "2025-09-01T05:00:11.503175Z",
     "iopub.status.idle": "2025-09-01T05:00:11.576292Z",
     "shell.execute_reply": "2025-09-01T05:00:11.575786Z",
     "shell.execute_reply.started": "2025-09-01T05:00:11.503373Z"
    },
    "trusted": true
   },
   "outputs": [
    {
     "name": "stdout",
     "output_type": "stream",
     "text": [
      "   protocol_type  service  flag\n",
      "0              2       44     9\n",
      "1              1       49     5\n",
      "2              1       24     9\n",
      "3              1       24     9\n",
      "4              1       49     1\n"
     ]
    }
   ],
   "source": [
    "df_categorical_values_enc=df_categorical_values.apply(LabelEncoder().fit_transform)\n",
    "print(df_categorical_values_enc.head())\n",
    "# test set\n",
    "testdf_categorical_values_enc=testdf_categorical_values.apply(LabelEncoder().fit_transform)"
   ]
  },
  {
   "cell_type": "code",
   "execution_count": 160,
   "id": "0fdf2502",
   "metadata": {
    "execution": {
     "iopub.execute_input": "2025-09-01T05:00:11.577128Z",
     "iopub.status.busy": "2025-09-01T05:00:11.576889Z",
     "iopub.status.idle": "2025-09-01T05:00:11.765805Z",
     "shell.execute_reply": "2025-09-01T05:00:11.765196Z",
     "shell.execute_reply.started": "2025-09-01T05:00:11.577105Z"
    },
    "trusted": true
   },
   "outputs": [
    {
     "name": "stdout",
     "output_type": "stream",
     "text": [
      "Train set categorical shape: (125972, 84)\n",
      "Test set categorical shape: (22543, 84)\n",
      "Column names match: True\n"
     ]
    },
    {
     "data": {
      "text/html": [
       "<div>\n",
       "<style scoped>\n",
       "    .dataframe tbody tr th:only-of-type {\n",
       "        vertical-align: middle;\n",
       "    }\n",
       "\n",
       "    .dataframe tbody tr th {\n",
       "        vertical-align: top;\n",
       "    }\n",
       "\n",
       "    .dataframe thead th {\n",
       "        text-align: right;\n",
       "    }\n",
       "</style>\n",
       "<table border=\"1\" class=\"dataframe\">\n",
       "  <thead>\n",
       "    <tr style=\"text-align: right;\">\n",
       "      <th></th>\n",
       "      <th>Protocol_type_icmp</th>\n",
       "      <th>Protocol_type_tcp</th>\n",
       "      <th>Protocol_type_udp</th>\n",
       "      <th>service_IRC</th>\n",
       "      <th>service_X11</th>\n",
       "      <th>service_Z39_50</th>\n",
       "      <th>service_aol</th>\n",
       "      <th>service_auth</th>\n",
       "      <th>service_bgp</th>\n",
       "      <th>service_courier</th>\n",
       "      <th>...</th>\n",
       "      <th>flag_REJ</th>\n",
       "      <th>flag_RSTO</th>\n",
       "      <th>flag_RSTOS0</th>\n",
       "      <th>flag_RSTR</th>\n",
       "      <th>flag_S0</th>\n",
       "      <th>flag_S1</th>\n",
       "      <th>flag_S2</th>\n",
       "      <th>flag_S3</th>\n",
       "      <th>flag_SF</th>\n",
       "      <th>flag_SH</th>\n",
       "    </tr>\n",
       "  </thead>\n",
       "  <tbody>\n",
       "    <tr>\n",
       "      <th>0</th>\n",
       "      <td>0.0</td>\n",
       "      <td>0.0</td>\n",
       "      <td>1.0</td>\n",
       "      <td>0.0</td>\n",
       "      <td>0.0</td>\n",
       "      <td>0.0</td>\n",
       "      <td>0.0</td>\n",
       "      <td>0.0</td>\n",
       "      <td>0.0</td>\n",
       "      <td>0.0</td>\n",
       "      <td>...</td>\n",
       "      <td>0.0</td>\n",
       "      <td>0.0</td>\n",
       "      <td>0.0</td>\n",
       "      <td>0.0</td>\n",
       "      <td>0.0</td>\n",
       "      <td>0.0</td>\n",
       "      <td>0.0</td>\n",
       "      <td>0.0</td>\n",
       "      <td>1.0</td>\n",
       "      <td>0.0</td>\n",
       "    </tr>\n",
       "    <tr>\n",
       "      <th>1</th>\n",
       "      <td>0.0</td>\n",
       "      <td>1.0</td>\n",
       "      <td>0.0</td>\n",
       "      <td>0.0</td>\n",
       "      <td>0.0</td>\n",
       "      <td>0.0</td>\n",
       "      <td>0.0</td>\n",
       "      <td>0.0</td>\n",
       "      <td>0.0</td>\n",
       "      <td>0.0</td>\n",
       "      <td>...</td>\n",
       "      <td>0.0</td>\n",
       "      <td>0.0</td>\n",
       "      <td>0.0</td>\n",
       "      <td>0.0</td>\n",
       "      <td>1.0</td>\n",
       "      <td>0.0</td>\n",
       "      <td>0.0</td>\n",
       "      <td>0.0</td>\n",
       "      <td>0.0</td>\n",
       "      <td>0.0</td>\n",
       "    </tr>\n",
       "    <tr>\n",
       "      <th>2</th>\n",
       "      <td>0.0</td>\n",
       "      <td>1.0</td>\n",
       "      <td>0.0</td>\n",
       "      <td>0.0</td>\n",
       "      <td>0.0</td>\n",
       "      <td>0.0</td>\n",
       "      <td>0.0</td>\n",
       "      <td>0.0</td>\n",
       "      <td>0.0</td>\n",
       "      <td>0.0</td>\n",
       "      <td>...</td>\n",
       "      <td>0.0</td>\n",
       "      <td>0.0</td>\n",
       "      <td>0.0</td>\n",
       "      <td>0.0</td>\n",
       "      <td>0.0</td>\n",
       "      <td>0.0</td>\n",
       "      <td>0.0</td>\n",
       "      <td>0.0</td>\n",
       "      <td>1.0</td>\n",
       "      <td>0.0</td>\n",
       "    </tr>\n",
       "    <tr>\n",
       "      <th>3</th>\n",
       "      <td>0.0</td>\n",
       "      <td>1.0</td>\n",
       "      <td>0.0</td>\n",
       "      <td>0.0</td>\n",
       "      <td>0.0</td>\n",
       "      <td>0.0</td>\n",
       "      <td>0.0</td>\n",
       "      <td>0.0</td>\n",
       "      <td>0.0</td>\n",
       "      <td>0.0</td>\n",
       "      <td>...</td>\n",
       "      <td>0.0</td>\n",
       "      <td>0.0</td>\n",
       "      <td>0.0</td>\n",
       "      <td>0.0</td>\n",
       "      <td>0.0</td>\n",
       "      <td>0.0</td>\n",
       "      <td>0.0</td>\n",
       "      <td>0.0</td>\n",
       "      <td>1.0</td>\n",
       "      <td>0.0</td>\n",
       "    </tr>\n",
       "    <tr>\n",
       "      <th>4</th>\n",
       "      <td>0.0</td>\n",
       "      <td>1.0</td>\n",
       "      <td>0.0</td>\n",
       "      <td>0.0</td>\n",
       "      <td>0.0</td>\n",
       "      <td>0.0</td>\n",
       "      <td>0.0</td>\n",
       "      <td>0.0</td>\n",
       "      <td>0.0</td>\n",
       "      <td>0.0</td>\n",
       "      <td>...</td>\n",
       "      <td>1.0</td>\n",
       "      <td>0.0</td>\n",
       "      <td>0.0</td>\n",
       "      <td>0.0</td>\n",
       "      <td>0.0</td>\n",
       "      <td>0.0</td>\n",
       "      <td>0.0</td>\n",
       "      <td>0.0</td>\n",
       "      <td>0.0</td>\n",
       "      <td>0.0</td>\n",
       "    </tr>\n",
       "  </tbody>\n",
       "</table>\n",
       "<p>5 rows × 84 columns</p>\n",
       "</div>"
      ],
      "text/plain": [
       "   Protocol_type_icmp  Protocol_type_tcp  Protocol_type_udp  service_IRC  \\\n",
       "0                 0.0                0.0                1.0          0.0   \n",
       "1                 0.0                1.0                0.0          0.0   \n",
       "2                 0.0                1.0                0.0          0.0   \n",
       "3                 0.0                1.0                0.0          0.0   \n",
       "4                 0.0                1.0                0.0          0.0   \n",
       "\n",
       "   service_X11  service_Z39_50  service_aol  service_auth  service_bgp  \\\n",
       "0          0.0             0.0          0.0           0.0          0.0   \n",
       "1          0.0             0.0          0.0           0.0          0.0   \n",
       "2          0.0             0.0          0.0           0.0          0.0   \n",
       "3          0.0             0.0          0.0           0.0          0.0   \n",
       "4          0.0             0.0          0.0           0.0          0.0   \n",
       "\n",
       "   service_courier  ...  flag_REJ  flag_RSTO  flag_RSTOS0  flag_RSTR  flag_S0  \\\n",
       "0              0.0  ...       0.0        0.0          0.0        0.0      0.0   \n",
       "1              0.0  ...       0.0        0.0          0.0        0.0      1.0   \n",
       "2              0.0  ...       0.0        0.0          0.0        0.0      0.0   \n",
       "3              0.0  ...       0.0        0.0          0.0        0.0      0.0   \n",
       "4              0.0  ...       1.0        0.0          0.0        0.0      0.0   \n",
       "\n",
       "   flag_S1  flag_S2  flag_S3  flag_SF  flag_SH  \n",
       "0      0.0      0.0      0.0      1.0      0.0  \n",
       "1      0.0      0.0      0.0      0.0      0.0  \n",
       "2      0.0      0.0      0.0      1.0      0.0  \n",
       "3      0.0      0.0      0.0      1.0      0.0  \n",
       "4      0.0      0.0      0.0      0.0      0.0  \n",
       "\n",
       "[5 rows x 84 columns]"
      ]
     },
     "execution_count": 160,
     "metadata": {},
     "output_type": "execute_result"
    }
   ],
   "source": [
    "# OneHot encoding with proper handling of different categorical values\n",
    "from sklearn.preprocessing import OneHotEncoder\n",
    "import pandas as pd\n",
    "\n",
    "# Combine train and test categorical data to capture all possible categories\n",
    "combined_categorical = pd.concat([df_categorical_values_enc, testdf_categorical_values_enc], ignore_index=True)\n",
    "\n",
    "# Fit encoder on combined data to handle all categories consistently\n",
    "enc = OneHotEncoder(sparse_output=False, handle_unknown='ignore')\n",
    "enc.fit(combined_categorical)\n",
    "\n",
    "# Transform train and test sets\n",
    "df_categorical_values_encenc = enc.transform(df_categorical_values_enc)\n",
    "df_cat_data = pd.DataFrame(df_categorical_values_encenc, columns=dumcols)\n",
    "\n",
    "testdf_categorical_values_encenc = enc.transform(testdf_categorical_values_enc)\n",
    "testdf_cat_data = pd.DataFrame(testdf_categorical_values_encenc, columns=dumcols)\n",
    "\n",
    "print(f\"Train set categorical shape: {df_cat_data.shape}\")\n",
    "print(f\"Test set categorical shape: {testdf_cat_data.shape}\")\n",
    "print(f\"Column names match: {list(df_cat_data.columns) == list(testdf_cat_data.columns)}\")\n",
    "\n",
    "df_cat_data.head()"
   ]
  },
  {
   "cell_type": "code",
   "execution_count": 161,
   "id": "a6442620",
   "metadata": {
    "execution": {
     "iopub.execute_input": "2025-09-01T05:00:11.766710Z",
     "iopub.status.busy": "2025-09-01T05:00:11.766529Z",
     "iopub.status.idle": "2025-09-01T05:00:11.771294Z",
     "shell.execute_reply": "2025-09-01T05:00:11.770567Z",
     "shell.execute_reply.started": "2025-09-01T05:00:11.766696Z"
    },
    "trusted": true
   },
   "outputs": [
    {
     "name": "stdout",
     "output_type": "stream",
     "text": [
      "Column structure verification:\n",
      "Train categorical shape: (125972, 84)\n",
      "Test categorical shape: (22543, 84)\n",
      "Columns match: True\n"
     ]
    }
   ],
   "source": [
    "# Verify column structure consistency\n",
    "print(\"Column structure verification:\")\n",
    "print(f\"Train categorical shape: {df_cat_data.shape}\")\n",
    "print(f\"Test categorical shape: {testdf_cat_data.shape}\")\n",
    "print(f\"Columns match: {df_cat_data.shape[1] == testdf_cat_data.shape[1]}\")"
   ]
  },
  {
   "cell_type": "code",
   "execution_count": 162,
   "id": "a127a77f",
   "metadata": {
    "execution": {
     "iopub.execute_input": "2025-09-01T05:00:11.772232Z",
     "iopub.status.busy": "2025-09-01T05:00:11.772058Z",
     "iopub.status.idle": "2025-09-01T05:00:11.783229Z",
     "shell.execute_reply": "2025-09-01T05:00:11.782553Z",
     "shell.execute_reply.started": "2025-09-01T05:00:11.772216Z"
    },
    "trusted": true
   },
   "outputs": [
    {
     "name": "stdout",
     "output_type": "stream",
     "text": [
      "Column structure consistency achieved\n",
      "Final train categorical shape: (125972, 84)\n",
      "Final test categorical shape: (22543, 84)\n",
      "Verification complete - ready to proceed\n"
     ]
    }
   ],
   "source": [
    "# Final verification of column structure consistency\n",
    "print(\"Column structure consistency achieved\")\n",
    "\n",
    "print(f\"Final train categorical shape: {df_cat_data.shape}\")\n",
    "print(f\"Final test categorical shape: {testdf_cat_data.shape}\")\n",
    "assert df_cat_data.shape[1] == testdf_cat_data.shape[1], \"Column count mismatch!\"\n",
    "print(\"Verification complete - ready to proceed\")"
   ]
  },
  {
   "cell_type": "code",
   "execution_count": 163,
   "id": "972bda2b",
   "metadata": {
    "execution": {
     "iopub.execute_input": "2025-09-01T05:00:11.784159Z",
     "iopub.status.busy": "2025-09-01T05:00:11.783979Z",
     "iopub.status.idle": "2025-09-01T05:00:12.264556Z",
     "shell.execute_reply": "2025-09-01T05:00:12.263781Z",
     "shell.execute_reply.started": "2025-09-01T05:00:11.784145Z"
    },
    "trusted": true
   },
   "outputs": [
    {
     "name": "stdout",
     "output_type": "stream",
     "text": [
      "(125972, 124)\n",
      "(22543, 124)\n",
      "(125972, 124)\n",
      "(22543, 124)\n"
     ]
    }
   ],
   "source": [
    "newdf=df.join(df_cat_data)\n",
    "newdf.drop('flag', axis=1, inplace=True)\n",
    "newdf.drop('protocol_type', axis=1, inplace=True)\n",
    "newdf.drop('service', axis=1, inplace=True)\n",
    "# test data\n",
    "newdf_test=test_df.join(testdf_cat_data)\n",
    "newdf_test.drop('flag', axis=1, inplace=True)\n",
    "newdf_test.drop('protocol_type', axis=1, inplace=True)\n",
    "newdf_test.drop('service', axis=1, inplace=True)\n",
    "print(newdf.shape)\n",
    "print(newdf_test.shape)\n",
    "newdf=df.join(df_cat_data)\n",
    "newdf.drop('flag', axis=1, inplace=True)\n",
    "newdf.drop('protocol_type', axis=1, inplace=True)\n",
    "newdf.drop('service', axis=1, inplace=True)\n",
    "# test data\n",
    "newdf_test=test_df.join(testdf_cat_data)\n",
    "newdf_test.drop('flag', axis=1, inplace=True)\n",
    "newdf_test.drop('protocol_type', axis=1, inplace=True)\n",
    "newdf_test.drop('service', axis=1, inplace=True)\n",
    "print(newdf.shape)\n",
    "print(newdf_test.shape)"
   ]
  },
  {
   "cell_type": "code",
   "execution_count": 164,
   "id": "b9f48053",
   "metadata": {
    "execution": {
     "iopub.execute_input": "2025-09-01T05:00:12.265808Z",
     "iopub.status.busy": "2025-09-01T05:00:12.265413Z",
     "iopub.status.idle": "2025-09-01T05:00:12.464542Z",
     "shell.execute_reply": "2025-09-01T05:00:12.463779Z",
     "shell.execute_reply.started": "2025-09-01T05:00:12.265783Z"
    },
    "trusted": true
   },
   "outputs": [
    {
     "name": "stdout",
     "output_type": "stream",
     "text": [
      "0    0\n",
      "1    1\n",
      "2    0\n",
      "3    0\n",
      "4    1\n",
      "Name: attack, dtype: int64\n"
     ]
    },
    {
     "name": "stderr",
     "output_type": "stream",
     "text": [
      "/tmp/ipykernel_36/1623462165.py:5: FutureWarning: Downcasting behavior in `replace` is deprecated and will be removed in a future version. To retain the old behavior, explicitly call `result.infer_objects(copy=False)`. To opt-in to the future behavior, set `pd.set_option('future.no_silent_downcasting', True)`\n",
      "  newlabeldf=labeldf.replace({ 'normal' : 0, 'neptune' : 1 ,'back': 1, 'land': 1, 'pod': 1, 'smurf': 1, 'teardrop': 1,'mailbomb': 1, 'apache2': 1, 'processtable': 1, 'udpstorm': 1, 'worm': 1,\n",
      "/tmp/ipykernel_36/1623462165.py:9: FutureWarning: Downcasting behavior in `replace` is deprecated and will be removed in a future version. To retain the old behavior, explicitly call `result.infer_objects(copy=False)`. To opt-in to the future behavior, set `pd.set_option('future.no_silent_downcasting', True)`\n",
      "  newlabeldf_test=labeldf_test.replace({ 'normal' : 0, 'neptune' : 1 ,'back': 1, 'land': 1, 'pod': 1, 'smurf': 1, 'teardrop': 1,'mailbomb': 1, 'apache2': 1, 'processtable': 1, 'udpstorm': 1, 'worm': 1,\n"
     ]
    }
   ],
   "source": [
    "# take label column\n",
    "labeldf=newdf['attack']\n",
    "labeldf_test=newdf_test['attack']\n",
    "# change the label column\n",
    "newlabeldf=labeldf.replace({ 'normal' : 0, 'neptune' : 1 ,'back': 1, 'land': 1, 'pod': 1, 'smurf': 1, 'teardrop': 1,'mailbomb': 1, 'apache2': 1, 'processtable': 1, 'udpstorm': 1, 'worm': 1,\n",
    "                           'ipsweep' : 2,'nmap' : 2,'portsweep' : 2,'satan' : 2,'mscan' : 2,'saint' : 2\n",
    "                           ,'ftp_write': 3,'guess_passwd': 3,'imap': 3,'multihop': 3,'phf': 3,'spy': 3,'warezclient': 3,'warezmaster': 3,'sendmail': 3,'named': 3,'snmpgetattack': 3,'snmpguess': 3,'xlock': 3,'xsnoop': 3,'httptunnel': 3,\n",
    "                           'buffer_overflow': 4,'loadmodule': 4,'perl': 4,'rootkit': 4,'ps': 4,'sqlattack': 4,'xterm': 4})\n",
    "newlabeldf_test=labeldf_test.replace({ 'normal' : 0, 'neptune' : 1 ,'back': 1, 'land': 1, 'pod': 1, 'smurf': 1, 'teardrop': 1,'mailbomb': 1, 'apache2': 1, 'processtable': 1, 'udpstorm': 1, 'worm': 1,\n",
    "                           'ipsweep' : 2,'nmap' : 2,'portsweep' : 2,'satan' : 2,'mscan' : 2,'saint' : 2\n",
    "                           ,'ftp_write': 3,'guess_passwd': 3,'imap': 3,'multihop': 3,'phf': 3,'spy': 3,'warezclient': 3,'warezmaster': 3,'sendmail': 3,'named': 3,'snmpgetattack': 3,'snmpguess': 3,'xlock': 3,'xsnoop': 3,'httptunnel': 3,\n",
    "                           'buffer_overflow': 4,'loadmodule': 4,'perl': 4,'rootkit': 4,'ps': 4,'sqlattack': 4,'xterm': 4})\n",
    "# put the new label column back\n",
    "newdf['attack'] = newlabeldf\n",
    "newdf_test['attack'] = newlabeldf_test\n",
    "print(newdf['attack'].head())\n"
   ]
  },
  {
   "cell_type": "code",
   "execution_count": 165,
   "id": "7943b81e",
   "metadata": {
    "execution": {
     "iopub.execute_input": "2025-09-01T05:00:12.465523Z",
     "iopub.status.busy": "2025-09-01T05:00:12.465326Z",
     "iopub.status.idle": "2025-09-01T05:00:12.615922Z",
     "shell.execute_reply": "2025-09-01T05:00:12.615302Z",
     "shell.execute_reply.started": "2025-09-01T05:00:12.465508Z"
    },
    "trusted": true
   },
   "outputs": [
    {
     "name": "stdout",
     "output_type": "stream",
     "text": [
      "Train:\n",
      "Dimensions of DoS: (113269, 124)\n",
      "Dimensions of Probe: (78998, 124)\n",
      "Dimensions of R2L: (68337, 124)\n",
      "Dimensions of U2R: (67394, 124)\n",
      "Test:\n",
      "Dimensions of DoS: (17170, 124)\n",
      "Dimensions of Probe: (12132, 124)\n",
      "Dimensions of R2L: (12596, 124)\n",
      "Dimensions of U2R: (9778, 124)\n"
     ]
    }
   ],
   "source": [
    "to_drop_DoS = [2,3,4]\n",
    "to_drop_Probe = [1,3,4]\n",
    "to_drop_R2L = [1,2,4]\n",
    "to_drop_U2R = [1,2,3]\n",
    "DoS_df=newdf[~newdf['attack'].isin(to_drop_DoS)];\n",
    "Probe_df=newdf[~newdf['attack'].isin(to_drop_Probe)];\n",
    "R2L_df=newdf[~newdf['attack'].isin(to_drop_R2L)];\n",
    "U2R_df=newdf[~newdf['attack'].isin(to_drop_U2R)];\n",
    "\n",
    "#test\n",
    "DoS_df_test=newdf_test[~newdf_test['attack'].isin(to_drop_DoS)];\n",
    "Probe_df_test=newdf_test[~newdf_test['attack'].isin(to_drop_Probe)];\n",
    "R2L_df_test=newdf_test[~newdf_test['attack'].isin(to_drop_R2L)];\n",
    "U2R_df_test=newdf_test[~newdf_test['attack'].isin(to_drop_U2R)];\n",
    "print('Train:')\n",
    "print('Dimensions of DoS:' ,DoS_df.shape)\n",
    "print('Dimensions of Probe:' ,Probe_df.shape)\n",
    "print('Dimensions of R2L:' ,R2L_df.shape)\n",
    "print('Dimensions of U2R:' ,U2R_df.shape)\n",
    "print('Test:')\n",
    "print('Dimensions of DoS:' ,DoS_df_test.shape)\n",
    "print('Dimensions of Probe:' ,Probe_df_test.shape)\n",
    "print('Dimensions of R2L:' ,R2L_df_test.shape)\n",
    "print('Dimensions of U2R:' ,U2R_df_test.shape)"
   ]
  },
  {
   "cell_type": "code",
   "execution_count": 166,
   "id": "226601c5",
   "metadata": {
    "execution": {
     "iopub.execute_input": "2025-09-01T05:00:12.616942Z",
     "iopub.status.busy": "2025-09-01T05:00:12.616630Z",
     "iopub.status.idle": "2025-09-01T05:00:12.720546Z",
     "shell.execute_reply": "2025-09-01T05:00:12.719903Z",
     "shell.execute_reply.started": "2025-09-01T05:00:12.616915Z"
    },
    "trusted": true
   },
   "outputs": [],
   "source": [
    "# Split dataframes into X & Y\n",
    "# assign X as a dataframe of feautures and Y as a series of outcome variables\n",
    "X_DoS = DoS_df.drop('attack', axis=1)\n",
    "Y_DoS = DoS_df.attack\n",
    "X_Probe = Probe_df.drop('attack', axis=1)\n",
    "Y_Probe = Probe_df.attack\n",
    "X_R2L = R2L_df.drop('attack', axis=1)\n",
    "Y_R2L = R2L_df.attack\n",
    "X_U2R = U2R_df.drop('attack', axis=1)\n",
    "Y_U2R = U2R_df.attack\n",
    "# test set\n",
    "X_DoS_test = DoS_df_test.drop('attack', axis=1)\n",
    "Y_DoS_test = DoS_df_test.attack\n",
    "X_Probe_test = Probe_df_test.drop('attack', axis=1)\n",
    "Y_Probe_test = Probe_df_test.attack\n",
    "X_R2L_test = R2L_df_test.drop('attack', axis=1)\n",
    "Y_R2L_test = R2L_df_test.attack\n",
    "X_U2R_test = U2R_df_test.drop('attack', axis=1)\n",
    "Y_U2R_test = U2R_df_test.attack"
   ]
  },
  {
   "cell_type": "code",
   "execution_count": 167,
   "id": "3d1416f8",
   "metadata": {
    "execution": {
     "iopub.execute_input": "2025-09-01T05:00:12.721653Z",
     "iopub.status.busy": "2025-09-01T05:00:12.721381Z",
     "iopub.status.idle": "2025-09-01T05:00:12.726555Z",
     "shell.execute_reply": "2025-09-01T05:00:12.725966Z",
     "shell.execute_reply.started": "2025-09-01T05:00:12.721630Z"
    },
    "trusted": true
   },
   "outputs": [],
   "source": [
    "colNames=list(X_Probe)\n",
    "colNames_test=list(X_Probe_test)"
   ]
  },
  {
   "cell_type": "code",
   "execution_count": 168,
   "id": "fe3614d3",
   "metadata": {
    "execution": {
     "iopub.execute_input": "2025-09-01T05:00:12.727699Z",
     "iopub.status.busy": "2025-09-01T05:00:12.727391Z",
     "iopub.status.idle": "2025-09-01T05:00:12.924498Z",
     "shell.execute_reply": "2025-09-01T05:00:12.923896Z",
     "shell.execute_reply.started": "2025-09-01T05:00:12.727681Z"
    },
    "trusted": true
   },
   "outputs": [],
   "source": [
    "from sklearn import preprocessing\n",
    "\n",
    "# Feature scaling - fit on training data, transform both train and test\n",
    "scaler = preprocessing.StandardScaler().fit(X_Probe)\n",
    "X_Probe = scaler.transform(X_Probe)\n",
    "X_Probe_test = scaler.transform(X_Probe_test)"
   ]
  },
  {
   "cell_type": "code",
   "execution_count": 169,
   "id": "cf5860e4",
   "metadata": {
    "execution": {
     "iopub.execute_input": "2025-09-01T05:00:12.925335Z",
     "iopub.status.busy": "2025-09-01T05:00:12.925144Z",
     "iopub.status.idle": "2025-09-01T05:00:12.978098Z",
     "shell.execute_reply": "2025-09-01T05:00:12.977299Z",
     "shell.execute_reply.started": "2025-09-01T05:00:12.925319Z"
    },
    "trusted": true
   },
   "outputs": [
    {
     "name": "stdout",
     "output_type": "stream",
     "text": [
      "Standard deviation check (should be ~1.0):\n",
      "[1. 1. 1. 1. 0. 1. 1. 1. 1. 1.]\n"
     ]
    }
   ],
   "source": [
    "# Verify standardization results\n",
    "print(\"Standard deviation check (should be ~1.0):\")\n",
    "print(X_Probe.std(axis=0)[:10])  # Show first 10 features"
   ]
  },
  {
   "cell_type": "code",
   "execution_count": 170,
   "id": "2ebfd60a-0e30-421a-871d-99c0e7c720d8",
   "metadata": {
    "execution": {
     "iopub.execute_input": "2025-09-01T05:00:12.979504Z",
     "iopub.status.busy": "2025-09-01T05:00:12.978965Z",
     "iopub.status.idle": "2025-09-01T05:00:12.983998Z",
     "shell.execute_reply": "2025-09-01T05:00:12.983340Z",
     "shell.execute_reply.started": "2025-09-01T05:00:12.979476Z"
    },
    "trusted": true
   },
   "outputs": [
    {
     "data": {
      "text/plain": [
       "(78998,)"
      ]
     },
     "execution_count": 170,
     "metadata": {},
     "output_type": "execute_result"
    }
   ],
   "source": [
    "Y_Probe.shape"
   ]
  },
  {
   "cell_type": "code",
   "execution_count": 171,
   "id": "2434aca2-2de7-4c54-a476-5b07c424af19",
   "metadata": {
    "execution": {
     "iopub.execute_input": "2025-09-01T05:00:12.985019Z",
     "iopub.status.busy": "2025-09-01T05:00:12.984792Z",
     "iopub.status.idle": "2025-09-01T05:00:12.994197Z",
     "shell.execute_reply": "2025-09-01T05:00:12.993535Z",
     "shell.execute_reply.started": "2025-09-01T05:00:12.985002Z"
    },
    "trusted": true
   },
   "outputs": [
    {
     "data": {
      "text/plain": [
       "(78998, 123)"
      ]
     },
     "execution_count": 171,
     "metadata": {},
     "output_type": "execute_result"
    }
   ],
   "source": [
    "X_Probe.shape"
   ]
  },
  {
   "cell_type": "code",
   "execution_count": 172,
   "id": "16f6a879",
   "metadata": {
    "execution": {
     "iopub.execute_input": "2025-09-01T05:00:12.995093Z",
     "iopub.status.busy": "2025-09-01T05:00:12.994842Z",
     "iopub.status.idle": "2025-09-01T05:00:13.151341Z",
     "shell.execute_reply": "2025-09-01T05:00:13.150632Z",
     "shell.execute_reply.started": "2025-09-01T05:00:12.995070Z"
    },
    "trusted": true
   },
   "outputs": [
    {
     "name": "stderr",
     "output_type": "stream",
     "text": [
      "/usr/local/lib/python3.11/dist-packages/sklearn/feature_selection/_univariate_selection.py:112: UserWarning: Features [ 4 16] are constant.\n",
      "  warnings.warn(\"Features %s are constant.\" % constant_features_idx, UserWarning)\n"
     ]
    },
    {
     "data": {
      "text/plain": [
       "(78998, 13)"
      ]
     },
     "execution_count": 172,
     "metadata": {},
     "output_type": "execute_result"
    }
   ],
   "source": [
    "from sklearn.feature_selection import SelectPercentile, f_classif\n",
    "np.seterr(divide='ignore', invalid='ignore');\n",
    "selector=SelectPercentile(f_classif, percentile=10)\n",
    "X_new = selector.fit_transform(X_Probe,Y_Probe)\n",
    "X_new.shape"
   ]
  },
  {
   "cell_type": "code",
   "execution_count": 173,
   "id": "48c4cc00",
   "metadata": {
    "execution": {
     "iopub.execute_input": "2025-09-01T05:00:13.152570Z",
     "iopub.status.busy": "2025-09-01T05:00:13.152217Z",
     "iopub.status.idle": "2025-09-01T05:00:13.159778Z",
     "shell.execute_reply": "2025-09-01T05:00:13.159084Z",
     "shell.execute_reply.started": "2025-09-01T05:00:13.152544Z"
    },
    "trusted": true
   },
   "outputs": [
    {
     "data": {
      "text/plain": [
       "['logged_in',\n",
       " 'rerror_rate',\n",
       " 'srv_rerror_rate',\n",
       " 'dst_host_srv_count',\n",
       " 'dst_host_diff_srv_rate',\n",
       " 'dst_host_same_src_port_rate',\n",
       " 'dst_host_rerror_rate',\n",
       " 'dst_host_srv_rerror_rate',\n",
       " 'level',\n",
       " 'Protocol_type_icmp',\n",
       " 'service_eco_i',\n",
       " 'service_private',\n",
       " 'flag_SF']"
      ]
     },
     "execution_count": 173,
     "metadata": {},
     "output_type": "execute_result"
    }
   ],
   "source": [
    "true=selector.get_support()\n",
    "newcolindex=[i for i, x in enumerate(true) if x]\n",
    "newcolname=list( colNames[i] for i in newcolindex )\n",
    "newcolname"
   ]
  },
  {
   "cell_type": "code",
   "execution_count": 174,
   "id": "70624d33",
   "metadata": {
    "execution": {
     "iopub.execute_input": "2025-09-01T05:00:13.163498Z",
     "iopub.status.busy": "2025-09-01T05:00:13.163268Z",
     "iopub.status.idle": "2025-09-01T05:00:41.841565Z",
     "shell.execute_reply": "2025-09-01T05:00:41.841026Z",
     "shell.execute_reply.started": "2025-09-01T05:00:13.163478Z"
    },
    "trusted": true
   },
   "outputs": [],
   "source": [
    "from sklearn.feature_selection import RFE\n",
    "clf = DecisionTreeClassifier(random_state=0)\n",
    "rfe = RFE(estimator=clf, n_features_to_select=13, step=1)\n",
    "rfe.fit(X_Probe, Y_Probe)\n",
    "X_rfe=rfe.transform(X_Probe)\n",
    "true=rfe.support_\n",
    "rfecolindex=[i for i, x in enumerate(true) if x]\n",
    "rfecolname=list(colNames[i] for i in rfecolindex)"
   ]
  },
  {
   "cell_type": "code",
   "execution_count": 175,
   "id": "8da48291",
   "metadata": {
    "execution": {
     "iopub.execute_input": "2025-09-01T05:00:41.842372Z",
     "iopub.status.busy": "2025-09-01T05:00:41.842199Z",
     "iopub.status.idle": "2025-09-01T05:00:41.846727Z",
     "shell.execute_reply": "2025-09-01T05:00:41.846000Z",
     "shell.execute_reply.started": "2025-09-01T05:00:41.842358Z"
    },
    "trusted": true
   },
   "outputs": [
    {
     "name": "stdout",
     "output_type": "stream",
     "text": [
      "Features selected for Probe classification:\n",
      "  - src_bytes\n",
      "  - dst_bytes\n",
      "  - rerror_rate\n",
      "  - dst_host_same_srv_rate\n",
      "  - dst_host_diff_srv_rate\n",
      "  - dst_host_same_src_port_rate\n",
      "  - dst_host_rerror_rate\n",
      "  - level\n",
      "  - service_finger\n",
      "  - service_ftp_data\n",
      "  - service_http\n",
      "  - service_private\n",
      "  - service_smtp\n"
     ]
    }
   ],
   "source": [
    "# Display selected features for DoS classification\n",
    "print('Features selected for Probe classification:')\n",
    "for feature in rfecolname:\n",
    "    print(f\"  - {feature}\")"
   ]
  },
  {
   "cell_type": "code",
   "execution_count": 176,
   "id": "2163ba21",
   "metadata": {
    "execution": {
     "iopub.execute_input": "2025-09-01T05:00:41.848032Z",
     "iopub.status.busy": "2025-09-01T05:00:41.847489Z",
     "iopub.status.idle": "2025-09-01T05:00:41.858707Z",
     "shell.execute_reply": "2025-09-01T05:00:41.858159Z",
     "shell.execute_reply.started": "2025-09-01T05:00:41.848016Z"
    },
    "trusted": true
   },
   "outputs": [
    {
     "name": "stdout",
     "output_type": "stream",
     "text": [
      "(78998, 13)\n"
     ]
    }
   ],
   "source": [
    "print(X_rfe.shape)"
   ]
  },
  {
   "cell_type": "code",
   "execution_count": 177,
   "id": "d4194bec",
   "metadata": {
    "execution": {
     "iopub.execute_input": "2025-09-01T05:00:41.859642Z",
     "iopub.status.busy": "2025-09-01T05:00:41.859407Z",
     "iopub.status.idle": "2025-09-01T05:00:42.241135Z",
     "shell.execute_reply": "2025-09-01T05:00:42.240515Z",
     "shell.execute_reply.started": "2025-09-01T05:00:41.859622Z"
    },
    "trusted": true
   },
   "outputs": [
    {
     "data": {
      "text/html": [
       "<style>#sk-container-id-5 {color: black;background-color: white;}#sk-container-id-5 pre{padding: 0;}#sk-container-id-5 div.sk-toggleable {background-color: white;}#sk-container-id-5 label.sk-toggleable__label {cursor: pointer;display: block;width: 100%;margin-bottom: 0;padding: 0.3em;box-sizing: border-box;text-align: center;}#sk-container-id-5 label.sk-toggleable__label-arrow:before {content: \"▸\";float: left;margin-right: 0.25em;color: #696969;}#sk-container-id-5 label.sk-toggleable__label-arrow:hover:before {color: black;}#sk-container-id-5 div.sk-estimator:hover label.sk-toggleable__label-arrow:before {color: black;}#sk-container-id-5 div.sk-toggleable__content {max-height: 0;max-width: 0;overflow: hidden;text-align: left;background-color: #f0f8ff;}#sk-container-id-5 div.sk-toggleable__content pre {margin: 0.2em;color: black;border-radius: 0.25em;background-color: #f0f8ff;}#sk-container-id-5 input.sk-toggleable__control:checked~div.sk-toggleable__content {max-height: 200px;max-width: 100%;overflow: auto;}#sk-container-id-5 input.sk-toggleable__control:checked~label.sk-toggleable__label-arrow:before {content: \"▾\";}#sk-container-id-5 div.sk-estimator input.sk-toggleable__control:checked~label.sk-toggleable__label {background-color: #d4ebff;}#sk-container-id-5 div.sk-label input.sk-toggleable__control:checked~label.sk-toggleable__label {background-color: #d4ebff;}#sk-container-id-5 input.sk-hidden--visually {border: 0;clip: rect(1px 1px 1px 1px);clip: rect(1px, 1px, 1px, 1px);height: 1px;margin: -1px;overflow: hidden;padding: 0;position: absolute;width: 1px;}#sk-container-id-5 div.sk-estimator {font-family: monospace;background-color: #f0f8ff;border: 1px dotted black;border-radius: 0.25em;box-sizing: border-box;margin-bottom: 0.5em;}#sk-container-id-5 div.sk-estimator:hover {background-color: #d4ebff;}#sk-container-id-5 div.sk-parallel-item::after {content: \"\";width: 100%;border-bottom: 1px solid gray;flex-grow: 1;}#sk-container-id-5 div.sk-label:hover label.sk-toggleable__label {background-color: #d4ebff;}#sk-container-id-5 div.sk-serial::before {content: \"\";position: absolute;border-left: 1px solid gray;box-sizing: border-box;top: 0;bottom: 0;left: 50%;z-index: 0;}#sk-container-id-5 div.sk-serial {display: flex;flex-direction: column;align-items: center;background-color: white;padding-right: 0.2em;padding-left: 0.2em;position: relative;}#sk-container-id-5 div.sk-item {position: relative;z-index: 1;}#sk-container-id-5 div.sk-parallel {display: flex;align-items: stretch;justify-content: center;background-color: white;position: relative;}#sk-container-id-5 div.sk-item::before, #sk-container-id-5 div.sk-parallel-item::before {content: \"\";position: absolute;border-left: 1px solid gray;box-sizing: border-box;top: 0;bottom: 0;left: 50%;z-index: -1;}#sk-container-id-5 div.sk-parallel-item {display: flex;flex-direction: column;z-index: 1;position: relative;background-color: white;}#sk-container-id-5 div.sk-parallel-item:first-child::after {align-self: flex-end;width: 50%;}#sk-container-id-5 div.sk-parallel-item:last-child::after {align-self: flex-start;width: 50%;}#sk-container-id-5 div.sk-parallel-item:only-child::after {width: 0;}#sk-container-id-5 div.sk-dashed-wrapped {border: 1px dashed gray;margin: 0 0.4em 0.5em 0.4em;box-sizing: border-box;padding-bottom: 0.4em;background-color: white;}#sk-container-id-5 div.sk-label label {font-family: monospace;font-weight: bold;display: inline-block;line-height: 1.2em;}#sk-container-id-5 div.sk-label-container {text-align: center;}#sk-container-id-5 div.sk-container {/* jupyter's `normalize.less` sets `[hidden] { display: none; }` but bootstrap.min.css set `[hidden] { display: none !important; }` so we also need the `!important` here to be able to override the default hidden behavior on the sphinx rendered scikit-learn.org. See: https://github.com/scikit-learn/scikit-learn/issues/21755 */display: inline-block !important;position: relative;}#sk-container-id-5 div.sk-text-repr-fallback {display: none;}</style><div id=\"sk-container-id-5\" class=\"sk-top-container\"><div class=\"sk-text-repr-fallback\"><pre>DecisionTreeClassifier(random_state=0)</pre><b>In a Jupyter environment, please rerun this cell to show the HTML representation or trust the notebook. <br />On GitHub, the HTML representation is unable to render, please try loading this page with nbviewer.org.</b></div><div class=\"sk-container\" hidden><div class=\"sk-item\"><div class=\"sk-estimator sk-toggleable\"><input class=\"sk-toggleable__control sk-hidden--visually\" id=\"sk-estimator-id-5\" type=\"checkbox\" checked><label for=\"sk-estimator-id-5\" class=\"sk-toggleable__label sk-toggleable__label-arrow\">DecisionTreeClassifier</label><div class=\"sk-toggleable__content\"><pre>DecisionTreeClassifier(random_state=0)</pre></div></div></div></div></div>"
      ],
      "text/plain": [
       "DecisionTreeClassifier(random_state=0)"
      ]
     },
     "execution_count": 177,
     "metadata": {},
     "output_type": "execute_result"
    }
   ],
   "source": [
    "# Train decision tree classifier\n",
    "clf = DecisionTreeClassifier(random_state=0)\n",
    "\n",
    "# Fit classifier\n",
    "clf.fit(X_Probe, Y_Probe)"
   ]
  },
  {
   "cell_type": "code",
   "execution_count": 178,
   "id": "cdc6f5d7",
   "metadata": {
    "execution": {
     "iopub.execute_input": "2025-09-01T05:00:42.242042Z",
     "iopub.status.busy": "2025-09-01T05:00:42.241800Z",
     "iopub.status.idle": "2025-09-01T05:00:42.343659Z",
     "shell.execute_reply": "2025-09-01T05:00:42.343139Z",
     "shell.execute_reply.started": "2025-09-01T05:00:42.242021Z"
    },
    "trusted": true
   },
   "outputs": [
    {
     "data": {
      "text/html": [
       "<style>#sk-container-id-6 {color: black;background-color: white;}#sk-container-id-6 pre{padding: 0;}#sk-container-id-6 div.sk-toggleable {background-color: white;}#sk-container-id-6 label.sk-toggleable__label {cursor: pointer;display: block;width: 100%;margin-bottom: 0;padding: 0.3em;box-sizing: border-box;text-align: center;}#sk-container-id-6 label.sk-toggleable__label-arrow:before {content: \"▸\";float: left;margin-right: 0.25em;color: #696969;}#sk-container-id-6 label.sk-toggleable__label-arrow:hover:before {color: black;}#sk-container-id-6 div.sk-estimator:hover label.sk-toggleable__label-arrow:before {color: black;}#sk-container-id-6 div.sk-toggleable__content {max-height: 0;max-width: 0;overflow: hidden;text-align: left;background-color: #f0f8ff;}#sk-container-id-6 div.sk-toggleable__content pre {margin: 0.2em;color: black;border-radius: 0.25em;background-color: #f0f8ff;}#sk-container-id-6 input.sk-toggleable__control:checked~div.sk-toggleable__content {max-height: 200px;max-width: 100%;overflow: auto;}#sk-container-id-6 input.sk-toggleable__control:checked~label.sk-toggleable__label-arrow:before {content: \"▾\";}#sk-container-id-6 div.sk-estimator input.sk-toggleable__control:checked~label.sk-toggleable__label {background-color: #d4ebff;}#sk-container-id-6 div.sk-label input.sk-toggleable__control:checked~label.sk-toggleable__label {background-color: #d4ebff;}#sk-container-id-6 input.sk-hidden--visually {border: 0;clip: rect(1px 1px 1px 1px);clip: rect(1px, 1px, 1px, 1px);height: 1px;margin: -1px;overflow: hidden;padding: 0;position: absolute;width: 1px;}#sk-container-id-6 div.sk-estimator {font-family: monospace;background-color: #f0f8ff;border: 1px dotted black;border-radius: 0.25em;box-sizing: border-box;margin-bottom: 0.5em;}#sk-container-id-6 div.sk-estimator:hover {background-color: #d4ebff;}#sk-container-id-6 div.sk-parallel-item::after {content: \"\";width: 100%;border-bottom: 1px solid gray;flex-grow: 1;}#sk-container-id-6 div.sk-label:hover label.sk-toggleable__label {background-color: #d4ebff;}#sk-container-id-6 div.sk-serial::before {content: \"\";position: absolute;border-left: 1px solid gray;box-sizing: border-box;top: 0;bottom: 0;left: 50%;z-index: 0;}#sk-container-id-6 div.sk-serial {display: flex;flex-direction: column;align-items: center;background-color: white;padding-right: 0.2em;padding-left: 0.2em;position: relative;}#sk-container-id-6 div.sk-item {position: relative;z-index: 1;}#sk-container-id-6 div.sk-parallel {display: flex;align-items: stretch;justify-content: center;background-color: white;position: relative;}#sk-container-id-6 div.sk-item::before, #sk-container-id-6 div.sk-parallel-item::before {content: \"\";position: absolute;border-left: 1px solid gray;box-sizing: border-box;top: 0;bottom: 0;left: 50%;z-index: -1;}#sk-container-id-6 div.sk-parallel-item {display: flex;flex-direction: column;z-index: 1;position: relative;background-color: white;}#sk-container-id-6 div.sk-parallel-item:first-child::after {align-self: flex-end;width: 50%;}#sk-container-id-6 div.sk-parallel-item:last-child::after {align-self: flex-start;width: 50%;}#sk-container-id-6 div.sk-parallel-item:only-child::after {width: 0;}#sk-container-id-6 div.sk-dashed-wrapped {border: 1px dashed gray;margin: 0 0.4em 0.5em 0.4em;box-sizing: border-box;padding-bottom: 0.4em;background-color: white;}#sk-container-id-6 div.sk-label label {font-family: monospace;font-weight: bold;display: inline-block;line-height: 1.2em;}#sk-container-id-6 div.sk-label-container {text-align: center;}#sk-container-id-6 div.sk-container {/* jupyter's `normalize.less` sets `[hidden] { display: none; }` but bootstrap.min.css set `[hidden] { display: none !important; }` so we also need the `!important` here to be able to override the default hidden behavior on the sphinx rendered scikit-learn.org. See: https://github.com/scikit-learn/scikit-learn/issues/21755 */display: inline-block !important;position: relative;}#sk-container-id-6 div.sk-text-repr-fallback {display: none;}</style><div id=\"sk-container-id-6\" class=\"sk-top-container\"><div class=\"sk-text-repr-fallback\"><pre>DecisionTreeClassifier(random_state=0)</pre><b>In a Jupyter environment, please rerun this cell to show the HTML representation or trust the notebook. <br />On GitHub, the HTML representation is unable to render, please try loading this page with nbviewer.org.</b></div><div class=\"sk-container\" hidden><div class=\"sk-item\"><div class=\"sk-estimator sk-toggleable\"><input class=\"sk-toggleable__control sk-hidden--visually\" id=\"sk-estimator-id-6\" type=\"checkbox\" checked><label for=\"sk-estimator-id-6\" class=\"sk-toggleable__label sk-toggleable__label-arrow\">DecisionTreeClassifier</label><div class=\"sk-toggleable__content\"><pre>DecisionTreeClassifier(random_state=0)</pre></div></div></div></div></div>"
      ],
      "text/plain": [
       "DecisionTreeClassifier(random_state=0)"
      ]
     },
     "execution_count": 178,
     "metadata": {},
     "output_type": "execute_result"
    }
   ],
   "source": [
    "# Train classifier with RFE-selected features\n",
    "\n",
    "clf_rfe = DecisionTreeClassifier(random_state=0)\n",
    "clf_rfe.fit(X_rfe, Y_Probe)"
   ]
  },
  {
   "cell_type": "code",
   "execution_count": 179,
   "id": "0fa130f0-cb17-4f48-978a-0a5a3181633b",
   "metadata": {
    "execution": {
     "iopub.execute_input": "2025-09-01T05:00:42.344949Z",
     "iopub.status.busy": "2025-09-01T05:00:42.344461Z",
     "iopub.status.idle": "2025-09-01T05:00:42.349219Z",
     "shell.execute_reply": "2025-09-01T05:00:42.348515Z",
     "shell.execute_reply.started": "2025-09-01T05:00:42.344924Z"
    },
    "trusted": true
   },
   "outputs": [
    {
     "data": {
      "text/plain": [
       "(12132, 123)"
      ]
     },
     "execution_count": 179,
     "metadata": {},
     "output_type": "execute_result"
    }
   ],
   "source": [
    "X_Probe_test.shape\n"
   ]
  },
  {
   "cell_type": "code",
   "execution_count": 180,
   "id": "3907ffd3-8559-40cd-bce1-4264379bae90",
   "metadata": {
    "execution": {
     "iopub.execute_input": "2025-09-01T05:00:42.350257Z",
     "iopub.status.busy": "2025-09-01T05:00:42.349966Z",
     "iopub.status.idle": "2025-09-01T05:00:42.359130Z",
     "shell.execute_reply": "2025-09-01T05:00:42.358565Z",
     "shell.execute_reply.started": "2025-09-01T05:00:42.350236Z"
    },
    "trusted": true
   },
   "outputs": [
    {
     "data": {
      "text/plain": [
       "(12132,)"
      ]
     },
     "execution_count": 180,
     "metadata": {},
     "output_type": "execute_result"
    }
   ],
   "source": [
    "Y_Probe_test.shape"
   ]
  },
  {
   "cell_type": "code",
   "execution_count": 182,
   "id": "a0ba4c24",
   "metadata": {
    "execution": {
     "iopub.execute_input": "2025-09-01T05:02:38.767888Z",
     "iopub.status.busy": "2025-09-01T05:02:38.767580Z",
     "iopub.status.idle": "2025-09-01T05:02:43.468262Z",
     "shell.execute_reply": "2025-09-01T05:02:43.467678Z",
     "shell.execute_reply.started": "2025-09-01T05:02:38.767867Z"
    },
    "trusted": true
   },
   "outputs": [
    {
     "name": "stdout",
     "output_type": "stream",
     "text": [
      "Evaluation Methodology Comparison:\n",
      "==================================================\n",
      "Cross-Validation on Training Data:\n",
      "   CV Accuracy: 0.99935 (+/- 0.00056)\n",
      "\n",
      "Train-Test Evaluation:\n",
      "(12132,)\n",
      "   Test Accuracy: 0.9481536432575008\n",
      "   Test Precision: 0.9155844155844156\n",
      "   Test Recall: 0.815365551425031\n",
      "   Test F1: 0.8625737382564999\n"
     ]
    }
   ],
   "source": [
    "from sklearn.model_selection import cross_val_score\n",
    "from sklearn import metrics\n",
    "\n",
    "print(\"Evaluation Methodology Comparison:\")\n",
    "print(\"=\"*50)\n",
    "\n",
    "# Cross-validation on training data (demonstrates inflated scores)\n",
    "print(\"Cross-Validation on Training Data:\")\n",
    "accuracy = cross_val_score(clf, X_Probe, Y_Probe, cv=10, scoring='accuracy')\n",
    "print(\"   CV Accuracy: %0.5f (+/- %0.5f)\" % (accuracy.mean(), accuracy.std() * 2))\n",
    "\n",
    "print(\"\\nTrain-Test Evaluation:\")\n",
    "# Proper evaluation on test set \n",
    "clf.fit(X_Probe, Y_Probe)\n",
    "Y_pred = clf.predict(X_Probe_test)\n",
    "print(\"   Test Accuracy:\", metrics.accuracy_score(Y_Probe_test, Y_pred))\n",
    "print(\"   Test Precision:\", metrics.precision_score(Y_Probe_test, Y_pred, pos_label=2))\n",
    "print(\"   Test Recall:\", metrics.recall_score(Y_Probe_test, Y_pred, pos_label=2))\n",
    "print(\"   Test F1:\", metrics.f1_score(Y_Probe_test, Y_pred, pos_label=2))\n"
   ]
  },
  {
   "cell_type": "code",
   "execution_count": 184,
   "id": "334eac62-3ced-4f89-b0d1-8f1638713808",
   "metadata": {
    "execution": {
     "iopub.execute_input": "2025-09-01T05:04:40.677704Z",
     "iopub.status.busy": "2025-09-01T05:04:40.677433Z",
     "iopub.status.idle": "2025-09-01T05:04:40.713632Z",
     "shell.execute_reply": "2025-09-01T05:04:40.712937Z",
     "shell.execute_reply.started": "2025-09-01T05:04:40.677685Z"
    },
    "trusted": true
   },
   "outputs": [
    {
     "name": "stdout",
     "output_type": "stream",
     "text": [
      "Predicted attacks     0     2\n",
      "Actual attacks               \n",
      "0                  9447   264\n",
      "2                   754  1667\n",
      "Test Accuracy: 0.9160896801846357\n",
      "Test Precision: 0.8632832729155878\n",
      "Test Recall: 0.6885584469227591\n",
      "Test F1: 0.7660845588235294\n"
     ]
    }
   ],
   "source": [
    "X_test2 = X_Probe_test[:, rfecolindex]\n",
    "\n",
    "Y_pred2 = clf_rfe.predict(X_test2)\n",
    "\n",
    "# Confusion matrix\n",
    "print(pd.crosstab(Y_Probe_test, Y_pred2, rownames=['Actual attacks'], colnames=['Predicted attacks']))\n",
    "\n",
    "# Final evaluation on test set (no CV here)\n",
    "print(\"Test Accuracy:\", metrics.accuracy_score(Y_Probe_test, Y_pred2))\n",
    "print(\"Test Precision:\", metrics.precision_score(Y_Probe_test, Y_pred2, pos_label=2))\n",
    "print(\"Test Recall:\", metrics.recall_score(Y_Probe_test, Y_pred2, pos_label=2))\n",
    "print(\"Test F1:\", metrics.f1_score(Y_Probe_test, Y_pred2, pos_label=2))\n"
   ]
  },
  {
   "cell_type": "code",
   "execution_count": 187,
   "id": "44ab5a27",
   "metadata": {
    "execution": {
     "iopub.execute_input": "2025-09-01T05:05:29.307834Z",
     "iopub.status.busy": "2025-09-01T05:05:29.307166Z",
     "iopub.status.idle": "2025-09-01T05:05:29.432819Z",
     "shell.execute_reply": "2025-09-01T05:05:29.432207Z",
     "shell.execute_reply.started": "2025-09-01T05:05:29.307807Z"
    },
    "trusted": true
   },
   "outputs": [
    {
     "name": "stdout",
     "output_type": "stream",
     "text": [
      "RFE-based Feature Selection Performance:\n",
      "==================================================\n",
      "Test Performance with RFE Features:\n",
      "Test Accuracy: 0.91609\n",
      "Test Precision: 0.86328\n",
      "Test Recall: 0.68856\n",
      "Test F1-Score: 0.76608\n"
     ]
    }
   ],
   "source": [
    "# RFE Feature Selection Evaluation\n",
    "print(\"RFE-based Feature Selection Performance:\")\n",
    "print(\"=\"*50)\n",
    "\n",
    "# Train model with RFE-selected features\n",
    "clf_rfe.fit(X_Probe[:, rfecolindex], Y_Probe)\n",
    "Y_pred_rfe = clf_rfe.predict(X_Probe_test[:, rfecolindex])\n",
    "\n",
    "print(\"Test Performance with RFE Features:\")\n",
    "print(f\"Test Accuracy: {metrics.accuracy_score(Y_Probe_test, Y_pred_rfe):.5f}\")\n",
    "print(f\"Test Precision: {metrics.precision_score(Y_Probe_test, Y_pred_rfe, pos_label=2):.5f}\")\n",
    "print(f\"Test Recall: {metrics.recall_score(Y_Probe_test, Y_pred_rfe, pos_label=2):.5f}\")\n",
    "print(f\"Test F1-Score: {metrics.f1_score(Y_Probe_test, Y_pred_rfe, pos_label=2):.5f}\")\n"
   ]
  },
  {
   "cell_type": "code",
   "execution_count": 188,
   "id": "2a23dc42",
   "metadata": {
    "execution": {
     "iopub.execute_input": "2025-09-01T05:05:33.892129Z",
     "iopub.status.busy": "2025-09-01T05:05:33.891491Z",
     "iopub.status.idle": "2025-09-01T05:05:33.926997Z",
     "shell.execute_reply": "2025-09-01T05:05:33.926474Z",
     "shell.execute_reply.started": "2025-09-01T05:05:33.892104Z"
    },
    "trusted": true
   },
   "outputs": [],
   "source": [
    "X = np.array(X_Probe)\n",
    "X_test = np.array(X_Probe_test)\n",
    "#cnn-input\n",
    "X = np.reshape(X, (X.shape[0], X.shape[1], 1))\n",
    "X_test = np.reshape(X_test, (X_test.shape[0], X_test.shape[1], 1))\n",
    "#lstm-input"
   ]
  },
  {
   "cell_type": "code",
   "execution_count": 190,
   "id": "8d94c929",
   "metadata": {
    "execution": {
     "iopub.execute_input": "2025-09-01T05:06:01.998180Z",
     "iopub.status.busy": "2025-09-01T05:06:01.997391Z",
     "iopub.status.idle": "2025-09-01T05:06:02.001876Z",
     "shell.execute_reply": "2025-09-01T05:06:02.001191Z",
     "shell.execute_reply.started": "2025-09-01T05:06:01.998154Z"
    },
    "trusted": true
   },
   "outputs": [],
   "source": [
    "Y = np.array(Y_Probe)\n",
    "Y_test = np.array(Y_Probe_test)"
   ]
  },
  {
   "cell_type": "code",
   "execution_count": 194,
   "id": "5d5ccddd",
   "metadata": {
    "execution": {
     "iopub.execute_input": "2025-09-01T05:07:50.362669Z",
     "iopub.status.busy": "2025-09-01T05:07:50.361990Z",
     "iopub.status.idle": "2025-09-01T05:07:50.366484Z",
     "shell.execute_reply": "2025-09-01T05:07:50.365706Z",
     "shell.execute_reply.started": "2025-09-01T05:07:50.362645Z"
    },
    "trusted": true
   },
   "outputs": [],
   "source": [
    "from keras.models import Sequential\n",
    "from keras.layers import Conv1D, MaxPooling1D, LSTM, Dense, Dropout, BatchNormalization\n",
    "from keras.regularizers import l2\n",
    "from keras.callbacks import EarlyStopping, LearningRateScheduler, ModelCheckpoint\n",
    "from keras.optimizers import Adam\n",
    "import tensorflow as tf"
   ]
  },
  {
   "cell_type": "code",
   "execution_count": 192,
   "id": "17e1b6b5-4afd-44d9-a49d-e828b052e6ef",
   "metadata": {
    "execution": {
     "iopub.execute_input": "2025-09-01T05:06:28.332345Z",
     "iopub.status.busy": "2025-09-01T05:06:28.331410Z",
     "iopub.status.idle": "2025-09-01T05:06:28.338275Z",
     "shell.execute_reply": "2025-09-01T05:06:28.337576Z",
     "shell.execute_reply.started": "2025-09-01T05:06:28.332321Z"
    },
    "trusted": true
   },
   "outputs": [
    {
     "name": "stdout",
     "output_type": "stream",
     "text": [
      "Model will be saved to: /kaggle/working/models/best_cnn_lstm_dos_model.h5\n"
     ]
    }
   ],
   "source": [
    "import os\n",
    "\n",
    "# Define a learning rate schedule\n",
    "initial_learning_rate = 0.001\n",
    "def lr_schedule(epoch):\n",
    "    return initial_learning_rate * (0.1 ** (epoch // 10))\n",
    "\n",
    "output_dir = '/kaggle/working/'\n",
    "model_dir = os.path.join(output_dir, 'models')\n",
    "os.makedirs(model_dir, exist_ok=True)\n",
    "model_path = os.path.join(model_dir, 'best_cnn_lstm_dos_model.h5')\n",
    "\n",
    "print(f\"Model will be saved to: {model_path}\")\n",
    "\n",
    "my_callbacks = [\n",
    "    ModelCheckpoint(\n",
    "        filepath=model_path, \n",
    "        verbose=1, \n",
    "        save_best_only=True, \n",
    "        monitor='val_accuracy', \n",
    "        mode='max'\n",
    "    ),\n",
    "    EarlyStopping(\n",
    "        monitor='val_loss',\n",
    "        patience=15,\n",
    "        restore_best_weights=True,\n",
    "        verbose=1,\n",
    "        min_delta=0.001\n",
    "    ),\n",
    "    LearningRateScheduler(lr_schedule, verbose=1)\n",
    "]"
   ]
  },
  {
   "cell_type": "code",
   "execution_count": null,
   "id": "033e41f3",
   "metadata": {
    "execution": {
     "iopub.execute_input": "2025-09-01T05:07:57.841682Z",
     "iopub.status.busy": "2025-09-01T05:07:57.841402Z",
     "iopub.status.idle": "2025-09-01T05:16:22.701470Z",
     "shell.execute_reply": "2025-09-01T05:16:22.700940Z",
     "shell.execute_reply.started": "2025-09-01T05:07:57.841658Z"
    },
    "trusted": true
   },
   "outputs": [
    {
     "name": "stdout",
     "output_type": "stream",
     "text": [
      "Validation Strategy: Stratified train-validation split\n",
      "Test set reserved for final evaluation only\n",
      "Training samples: 63198\n",
      "Validation samples: 15800\n",
      "Test samples: 17170\n",
      "\n",
      "Training CNN-LSTM model...\n",
      "Model will be saved to: /kaggle/working/models/best_cnn_lstm_dos_model.h5\n",
      "\n",
      "Epoch 1: LearningRateScheduler setting learning rate to 0.001.\n",
      "Epoch 1/50\n"
     ]
    },
    {
     "name": "stderr",
     "output_type": "stream",
     "text": [
      "I0000 00:00:1756703283.500007     110 cuda_dnn.cc:529] Loaded cuDNN version 90300\n"
     ]
    },
    {
     "name": "stdout",
     "output_type": "stream",
     "text": [
      "\u001b[1m988/988\u001b[0m \u001b[32m━━━━━━━━━━━━━━━━━━━━\u001b[0m\u001b[37m\u001b[0m \u001b[1m0s\u001b[0m 9ms/step - accuracy: 0.8053 - auc: 0.9566 - loss: -1.7607 - precision: 0.7502 - recall: 0.9012\n",
      "Epoch 1: val_loss improved from inf to -7.48486, saving model to /kaggle/working/models/best_cnn_lstm_dos_model.h5\n",
      "\u001b[1m988/988\u001b[0m \u001b[32m━━━━━━━━━━━━━━━━━━━━\u001b[0m\u001b[37m\u001b[0m \u001b[1m21s\u001b[0m 11ms/step - accuracy: 0.8053 - auc: 0.9566 - loss: -1.7627 - precision: 0.7503 - recall: 0.9012 - val_accuracy: 0.8364 - val_auc: 0.9288 - val_loss: -7.4849 - val_precision: 0.8884 - val_recall: 0.8674 - learning_rate: 0.0010\n",
      "\n",
      "Epoch 2: LearningRateScheduler setting learning rate to 0.001.\n",
      "Epoch 2/50\n",
      "\u001b[1m985/988\u001b[0m \u001b[32m━━━━━━━━━━━━━━━━━━━\u001b[0m\u001b[37m━\u001b[0m \u001b[1m0s\u001b[0m 9ms/step - accuracy: 0.8231 - auc: 0.9307 - loss: -7.8181 - precision: 0.8129 - recall: 0.8582\n",
      "Epoch 2: val_loss did not improve from -7.48486\n",
      "\u001b[1m988/988\u001b[0m \u001b[32m━━━━━━━━━━━━━━━━━━━━\u001b[0m\u001b[37m\u001b[0m \u001b[1m10s\u001b[0m 10ms/step - accuracy: 0.8231 - auc: 0.9307 - loss: -7.8202 - precision: 0.8128 - recall: 0.8581 - val_accuracy: 0.8511 - val_auc: 0.8934 - val_loss: -0.9789 - val_precision: 0.9792 - val_recall: 0.4251 - learning_rate: 0.0010\n",
      "\n",
      "Epoch 3: LearningRateScheduler setting learning rate to 0.001.\n",
      "Epoch 3/50\n",
      "\u001b[1m988/988\u001b[0m \u001b[32m━━━━━━━━━━━━━━━━━━━━\u001b[0m\u001b[37m\u001b[0m \u001b[1m0s\u001b[0m 9ms/step - accuracy: 0.8055 - auc: 0.9336 - loss: -10.0576 - precision: 0.7263 - recall: 0.8607\n",
      "Epoch 3: val_loss did not improve from -7.48486\n",
      "\u001b[1m988/988\u001b[0m \u001b[32m━━━━━━━━━━━━━━━━━━━━\u001b[0m\u001b[37m\u001b[0m \u001b[1m10s\u001b[0m 10ms/step - accuracy: 0.8055 - auc: 0.9336 - loss: -10.0577 - precision: 0.7263 - recall: 0.8606 - val_accuracy: 0.8516 - val_auc: 0.5895 - val_loss: 6.6317 - val_precision: 0.9511 - val_recall: 0.1085 - learning_rate: 0.0010\n",
      "\n",
      "Epoch 4: LearningRateScheduler setting learning rate to 0.001.\n",
      "Epoch 4/50\n",
      "\u001b[1m987/988\u001b[0m \u001b[32m━━━━━━━━━━━━━━━━━━━\u001b[0m\u001b[37m━\u001b[0m \u001b[1m0s\u001b[0m 9ms/step - accuracy: 0.7766 - auc: 0.9071 - loss: -1.0201 - precision: 0.6259 - recall: 0.8250\n",
      "Epoch 4: val_loss improved from -7.48486 to -14.60917, saving model to /kaggle/working/models/best_cnn_lstm_dos_model.h5\n",
      "\u001b[1m988/988\u001b[0m \u001b[32m━━━━━━━━━━━━━━━━━━━━\u001b[0m\u001b[37m\u001b[0m \u001b[1m10s\u001b[0m 10ms/step - accuracy: 0.7767 - auc: 0.9072 - loss: -1.0314 - precision: 0.6261 - recall: 0.8252 - val_accuracy: 0.8466 - val_auc: 0.9853 - val_loss: -14.6092 - val_precision: 0.9604 - val_recall: 0.9670 - learning_rate: 0.0010\n",
      "\n",
      "Epoch 5: LearningRateScheduler setting learning rate to 0.001.\n",
      "Epoch 5/50\n",
      "\u001b[1m987/988\u001b[0m \u001b[32m━━━━━━━━━━━━━━━━━━━\u001b[0m\u001b[37m━\u001b[0m \u001b[1m0s\u001b[0m 9ms/step - accuracy: 0.8352 - auc: 0.9855 - loss: -17.3292 - precision: 0.9066 - recall: 0.9752\n",
      "Epoch 5: val_loss improved from -14.60917 to -28.00089, saving model to /kaggle/working/models/best_cnn_lstm_dos_model.h5\n",
      "\u001b[1m988/988\u001b[0m \u001b[32m━━━━━━━━━━━━━━━━━━━━\u001b[0m\u001b[37m\u001b[0m \u001b[1m10s\u001b[0m 10ms/step - accuracy: 0.8352 - auc: 0.9855 - loss: -17.3353 - precision: 0.9067 - recall: 0.9752 - val_accuracy: 0.8480 - val_auc: 0.9942 - val_loss: -28.0009 - val_precision: 0.9702 - val_recall: 0.9918 - learning_rate: 0.0010\n",
      "\n",
      "Epoch 6: LearningRateScheduler setting learning rate to 0.001.\n",
      "Epoch 6/50\n",
      "\u001b[1m984/988\u001b[0m \u001b[32m━━━━━━━━━━━━━━━━━━━\u001b[0m\u001b[37m━\u001b[0m \u001b[1m0s\u001b[0m 9ms/step - accuracy: 0.8326 - auc: 0.9794 - loss: -27.3421 - precision: 0.8920 - recall: 0.9693\n",
      "Epoch 6: val_loss improved from -28.00089 to -33.84239, saving model to /kaggle/working/models/best_cnn_lstm_dos_model.h5\n",
      "\u001b[1m988/988\u001b[0m \u001b[32m━━━━━━━━━━━━━━━━━━━━\u001b[0m\u001b[37m\u001b[0m \u001b[1m10s\u001b[0m 10ms/step - accuracy: 0.8326 - auc: 0.9794 - loss: -27.3479 - precision: 0.8921 - recall: 0.9694 - val_accuracy: 0.8479 - val_auc: 0.9912 - val_loss: -33.8424 - val_precision: 0.9696 - val_recall: 0.9858 - learning_rate: 0.0010\n",
      "\n",
      "Epoch 7: LearningRateScheduler setting learning rate to 0.001.\n",
      "Epoch 7/50\n",
      "\u001b[1m984/988\u001b[0m \u001b[32m━━━━━━━━━━━━━━━━━━━\u001b[0m\u001b[37m━\u001b[0m \u001b[1m0s\u001b[0m 9ms/step - accuracy: 0.8212 - auc: 0.9448 - loss: -25.1735 - precision: 0.8122 - recall: 0.9030\n",
      "Epoch 7: val_loss did not improve from -33.84239\n",
      "\u001b[1m988/988\u001b[0m \u001b[32m━━━━━━━━━━━━━━━━━━━━\u001b[0m\u001b[37m\u001b[0m \u001b[1m10s\u001b[0m 10ms/step - accuracy: 0.8211 - auc: 0.9447 - loss: -25.1524 - precision: 0.8118 - recall: 0.9029 - val_accuracy: 0.8219 - val_auc: 0.9697 - val_loss: -25.4533 - val_precision: 0.8175 - val_recall: 0.9279 - learning_rate: 0.0010\n",
      "\n",
      "Epoch 8: LearningRateScheduler setting learning rate to 0.001.\n",
      "Epoch 8/50\n",
      "\u001b[1m985/988\u001b[0m \u001b[32m━━━━━━━━━━━━━━━━━━━\u001b[0m\u001b[37m━\u001b[0m \u001b[1m0s\u001b[0m 9ms/step - accuracy: 0.8166 - auc: 0.9521 - loss: -27.2025 - precision: 0.7958 - recall: 0.9013\n",
      "Epoch 8: val_loss did not improve from -33.84239\n",
      "\u001b[1m988/988\u001b[0m \u001b[32m━━━━━━━━━━━━━━━━━━━━\u001b[0m\u001b[37m\u001b[0m \u001b[1m10s\u001b[0m 10ms/step - accuracy: 0.8166 - auc: 0.9521 - loss: -27.2072 - precision: 0.7958 - recall: 0.9014 - val_accuracy: 0.8433 - val_auc: 0.9794 - val_loss: -32.1761 - val_precision: 0.9360 - val_recall: 0.9091 - learning_rate: 0.0010\n",
      "\n",
      "Epoch 9: LearningRateScheduler setting learning rate to 0.001.\n",
      "Epoch 9/50\n",
      "\u001b[1m988/988\u001b[0m \u001b[32m━━━━━━━━━━━━━━━━━━━━\u001b[0m\u001b[37m\u001b[0m \u001b[1m0s\u001b[0m 9ms/step - accuracy: 0.8213 - auc: 0.9649 - loss: -28.4508 - precision: 0.8078 - recall: 0.9404\n",
      "Epoch 9: val_loss did not improve from -33.84239\n",
      "\u001b[1m988/988\u001b[0m \u001b[32m━━━━━━━━━━━━━━━━━━━━\u001b[0m\u001b[37m\u001b[0m \u001b[1m10s\u001b[0m 10ms/step - accuracy: 0.8213 - auc: 0.9649 - loss: -28.4494 - precision: 0.8077 - recall: 0.9404 - val_accuracy: 0.7985 - val_auc: 0.9660 - val_loss: -25.4205 - val_precision: 0.7223 - val_recall: 0.9520 - learning_rate: 0.0010\n",
      "\n",
      "Epoch 10: LearningRateScheduler setting learning rate to 0.001.\n",
      "Epoch 10/50\n",
      "\u001b[1m988/988\u001b[0m \u001b[32m━━━━━━━━━━━━━━━━━━━━\u001b[0m\u001b[37m\u001b[0m \u001b[1m0s\u001b[0m 9ms/step - accuracy: 0.8004 - auc: 0.9564 - loss: -20.9701 - precision: 0.7337 - recall: 0.9509\n",
      "Epoch 10: val_loss did not improve from -33.84239\n",
      "\u001b[1m988/988\u001b[0m \u001b[32m━━━━━━━━━━━━━━━━━━━━\u001b[0m\u001b[37m\u001b[0m \u001b[1m10s\u001b[0m 10ms/step - accuracy: 0.8004 - auc: 0.9565 - loss: -20.9727 - precision: 0.7338 - recall: 0.9509 - val_accuracy: 0.8451 - val_auc: 0.9875 - val_loss: -32.4288 - val_precision: 0.9503 - val_recall: 0.9605 - learning_rate: 0.0010\n",
      "\n",
      "Epoch 11: LearningRateScheduler setting learning rate to 0.0001.\n",
      "Epoch 11/50\n",
      "\u001b[1m988/988\u001b[0m \u001b[32m━━━━━━━━━━━━━━━━━━━━\u001b[0m\u001b[37m\u001b[0m \u001b[1m0s\u001b[0m 9ms/step - accuracy: 0.8389 - auc: 0.9865 - loss: -31.6732 - precision: 0.8997 - recall: 0.9758\n",
      "Epoch 11: val_loss improved from -33.84239 to -35.56194, saving model to /kaggle/working/models/best_cnn_lstm_dos_model.h5\n",
      "\u001b[1m988/988\u001b[0m \u001b[32m━━━━━━━━━━━━━━━━━━━━\u001b[0m\u001b[37m\u001b[0m \u001b[1m10s\u001b[0m 10ms/step - accuracy: 0.8389 - auc: 0.9865 - loss: -31.6748 - precision: 0.8997 - recall: 0.9758 - val_accuracy: 0.8353 - val_auc: 0.9921 - val_loss: -35.5619 - val_precision: 0.8949 - val_recall: 0.9901 - learning_rate: 1.0000e-04\n",
      "\n",
      "Epoch 12: LearningRateScheduler setting learning rate to 0.0001.\n",
      "Epoch 12/50\n",
      "\u001b[1m984/988\u001b[0m \u001b[32m━━━━━━━━━━━━━━━━━━━\u001b[0m\u001b[37m━\u001b[0m \u001b[1m0s\u001b[0m 9ms/step - accuracy: 0.8375 - auc: 0.9905 - loss: -34.5800 - precision: 0.9020 - recall: 0.9861\n",
      "Epoch 12: val_loss improved from -35.56194 to -36.60559, saving model to /kaggle/working/models/best_cnn_lstm_dos_model.h5\n",
      "\u001b[1m988/988\u001b[0m \u001b[32m━━━━━━━━━━━━━━━━━━━━\u001b[0m\u001b[37m\u001b[0m \u001b[1m10s\u001b[0m 10ms/step - accuracy: 0.8375 - auc: 0.9905 - loss: -34.5824 - precision: 0.9020 - recall: 0.9861 - val_accuracy: 0.8449 - val_auc: 0.9932 - val_loss: -36.6056 - val_precision: 0.9503 - val_recall: 0.9837 - learning_rate: 1.0000e-04\n",
      "\n",
      "Epoch 13: LearningRateScheduler setting learning rate to 0.0001.\n",
      "Epoch 13/50\n",
      "\u001b[1m983/988\u001b[0m \u001b[32m━━━━━━━━━━━━━━━━━━━\u001b[0m\u001b[37m━\u001b[0m \u001b[1m0s\u001b[0m 9ms/step - accuracy: 0.8418 - auc: 0.9896 - loss: -35.4497 - precision: 0.9286 - recall: 0.9791\n",
      "Epoch 13: val_loss improved from -36.60559 to -36.71346, saving model to /kaggle/working/models/best_cnn_lstm_dos_model.h5\n",
      "\u001b[1m988/988\u001b[0m \u001b[32m━━━━━━━━━━━━━━━━━━━━\u001b[0m\u001b[37m\u001b[0m \u001b[1m10s\u001b[0m 10ms/step - accuracy: 0.8418 - auc: 0.9896 - loss: -35.4519 - precision: 0.9286 - recall: 0.9791 - val_accuracy: 0.8477 - val_auc: 0.9919 - val_loss: -36.7135 - val_precision: 0.9676 - val_recall: 0.9743 - learning_rate: 1.0000e-04\n",
      "\n",
      "Epoch 14: LearningRateScheduler setting learning rate to 0.0001.\n",
      "Epoch 14/50\n",
      "\u001b[1m988/988\u001b[0m \u001b[32m━━━━━━━━━━━━━━━━━━━━\u001b[0m\u001b[37m\u001b[0m \u001b[1m0s\u001b[0m 9ms/step - accuracy: 0.8416 - auc: 0.9893 - loss: -35.8891 - precision: 0.9279 - recall: 0.9785\n",
      "Epoch 14: val_loss improved from -36.71346 to -37.07678, saving model to /kaggle/working/models/best_cnn_lstm_dos_model.h5\n",
      "\u001b[1m988/988\u001b[0m \u001b[32m━━━━━━━━━━━━━━━━━━━━\u001b[0m\u001b[37m\u001b[0m \u001b[1m10s\u001b[0m 10ms/step - accuracy: 0.8416 - auc: 0.9893 - loss: -35.8896 - precision: 0.9279 - recall: 0.9785 - val_accuracy: 0.8459 - val_auc: 0.9932 - val_loss: -37.0768 - val_precision: 0.9568 - val_recall: 0.9794 - learning_rate: 1.0000e-04\n",
      "\n",
      "Epoch 15: LearningRateScheduler setting learning rate to 0.0001.\n",
      "Epoch 15/50\n",
      "\u001b[1m983/988\u001b[0m \u001b[32m━━━━━━━━━━━━━━━━━━━\u001b[0m\u001b[37m━\u001b[0m \u001b[1m0s\u001b[0m 9ms/step - accuracy: 0.8391 - auc: 0.9914 - loss: -37.3511 - precision: 0.9142 - recall: 0.9861\n",
      "Epoch 15: val_loss improved from -37.07678 to -38.50248, saving model to /kaggle/working/models/best_cnn_lstm_dos_model.h5\n",
      "\u001b[1m988/988\u001b[0m \u001b[32m━━━━━━━━━━━━━━━━━━━━\u001b[0m\u001b[37m\u001b[0m \u001b[1m10s\u001b[0m 10ms/step - accuracy: 0.8391 - auc: 0.9914 - loss: -37.3509 - precision: 0.9142 - recall: 0.9861 - val_accuracy: 0.8377 - val_auc: 0.9948 - val_loss: -38.5025 - val_precision: 0.9080 - val_recall: 0.9910 - learning_rate: 1.0000e-04\n",
      "\n",
      "Epoch 16: LearningRateScheduler setting learning rate to 0.0001.\n",
      "Epoch 16/50\n",
      "\u001b[1m986/988\u001b[0m \u001b[32m━━━━━━━━━━━━━━━━━━━\u001b[0m\u001b[37m━\u001b[0m \u001b[1m0s\u001b[0m 9ms/step - accuracy: 0.8446 - auc: 0.9875 - loss: -37.6126 - precision: 0.9504 - recall: 0.9743\n",
      "Epoch 16: val_loss did not improve from -38.50248\n",
      "\u001b[1m988/988\u001b[0m \u001b[32m━━━━━━━━━━━━━━━━━━━━\u001b[0m\u001b[37m\u001b[0m \u001b[1m10s\u001b[0m 10ms/step - accuracy: 0.8446 - auc: 0.9875 - loss: -37.6085 - precision: 0.9504 - recall: 0.9743 - val_accuracy: 0.8439 - val_auc: 0.9907 - val_loss: -37.3405 - val_precision: 0.9441 - val_recall: 0.9790 - learning_rate: 1.0000e-04\n",
      "\n",
      "Epoch 17: LearningRateScheduler setting learning rate to 0.0001.\n",
      "Epoch 17/50\n",
      "\u001b[1m985/988\u001b[0m \u001b[32m━━━━━━━━━━━━━━━━━━━\u001b[0m\u001b[37m━\u001b[0m \u001b[1m0s\u001b[0m 9ms/step - accuracy: 0.8369 - auc: 0.9898 - loss: -37.8220 - precision: 0.9029 - recall: 0.9875\n",
      "Epoch 17: val_loss improved from -38.50248 to -39.39371, saving model to /kaggle/working/models/best_cnn_lstm_dos_model.h5\n",
      "\u001b[1m988/988\u001b[0m \u001b[32m━━━━━━━━━━━━━━━━━━━━\u001b[0m\u001b[37m\u001b[0m \u001b[1m10s\u001b[0m 10ms/step - accuracy: 0.8369 - auc: 0.9898 - loss: -37.8251 - precision: 0.9029 - recall: 0.9876 - val_accuracy: 0.8407 - val_auc: 0.9936 - val_loss: -39.3937 - val_precision: 0.9258 - val_recall: 0.9961 - learning_rate: 1.0000e-04\n",
      "\n",
      "Epoch 18: LearningRateScheduler setting learning rate to 0.0001.\n",
      "Epoch 18/50\n",
      "\u001b[1m987/988\u001b[0m \u001b[32m━━━━━━━━━━━━━━━━━━━\u001b[0m\u001b[37m━\u001b[0m \u001b[1m0s\u001b[0m 9ms/step - accuracy: 0.8427 - auc: 0.9937 - loss: -40.4147 - precision: 0.9436 - recall: 0.9938\n",
      "Epoch 18: val_loss improved from -39.39371 to -43.81382, saving model to /kaggle/working/models/best_cnn_lstm_dos_model.h5\n",
      "\u001b[1m988/988\u001b[0m \u001b[32m━━━━━━━━━━━━━━━━━━━━\u001b[0m\u001b[37m\u001b[0m \u001b[1m10s\u001b[0m 10ms/step - accuracy: 0.8427 - auc: 0.9937 - loss: -40.4163 - precision: 0.9436 - recall: 0.9938 - val_accuracy: 0.8466 - val_auc: 0.9939 - val_loss: -43.8138 - val_precision: 0.9614 - val_recall: 0.9936 - learning_rate: 1.0000e-04\n",
      "\n",
      "Epoch 19: LearningRateScheduler setting learning rate to 0.0001.\n",
      "Epoch 19/50\n",
      "\u001b[1m983/988\u001b[0m \u001b[32m━━━━━━━━━━━━━━━━━━━\u001b[0m\u001b[37m━\u001b[0m \u001b[1m0s\u001b[0m 9ms/step - accuracy: 0.8430 - auc: 0.9939 - loss: -43.9530 - precision: 0.9440 - recall: 0.9948\n",
      "Epoch 19: val_loss improved from -43.81382 to -44.01094, saving model to /kaggle/working/models/best_cnn_lstm_dos_model.h5\n",
      "\u001b[1m988/988\u001b[0m \u001b[32m━━━━━━━━━━━━━━━━━━━━\u001b[0m\u001b[37m\u001b[0m \u001b[1m10s\u001b[0m 10ms/step - accuracy: 0.8430 - auc: 0.9939 - loss: -43.9517 - precision: 0.9440 - recall: 0.9948 - val_accuracy: 0.8464 - val_auc: 0.9942 - val_loss: -44.0109 - val_precision: 0.9602 - val_recall: 0.9940 - learning_rate: 1.0000e-04\n",
      "\n",
      "Epoch 20: LearningRateScheduler setting learning rate to 0.0001.\n",
      "Epoch 20/50\n",
      "\u001b[1m988/988\u001b[0m \u001b[32m━━━━━━━━━━━━━━━━━━━━\u001b[0m\u001b[37m\u001b[0m \u001b[1m0s\u001b[0m 9ms/step - accuracy: 0.8452 - auc: 0.9936 - loss: -44.4228 - precision: 0.9558 - recall: 0.9927\n",
      "Epoch 20: val_loss improved from -44.01094 to -45.00619, saving model to /kaggle/working/models/best_cnn_lstm_dos_model.h5\n",
      "\u001b[1m988/988\u001b[0m \u001b[32m━━━━━━━━━━━━━━━━━━━━\u001b[0m\u001b[37m\u001b[0m \u001b[1m10s\u001b[0m 10ms/step - accuracy: 0.8452 - auc: 0.9936 - loss: -44.4225 - precision: 0.9558 - recall: 0.9927 - val_accuracy: 0.8492 - val_auc: 0.9954 - val_loss: -45.0062 - val_precision: 0.9781 - val_recall: 0.9944 - learning_rate: 1.0000e-04\n",
      "\n",
      "Epoch 21: LearningRateScheduler setting learning rate to 1.0000000000000003e-05.\n",
      "Epoch 21/50\n",
      "\u001b[1m988/988\u001b[0m \u001b[32m━━━━━━━━━━━━━━━━━━━━\u001b[0m\u001b[37m\u001b[0m \u001b[1m0s\u001b[0m 9ms/step - accuracy: 0.8462 - auc: 0.9951 - loss: -44.8122 - precision: 0.9620 - recall: 0.9951\n",
      "Epoch 21: val_loss improved from -45.00619 to -45.14323, saving model to /kaggle/working/models/best_cnn_lstm_dos_model.h5\n",
      "\u001b[1m988/988\u001b[0m \u001b[32m━━━━━━━━━━━━━━━━━━━━\u001b[0m\u001b[37m\u001b[0m \u001b[1m10s\u001b[0m 10ms/step - accuracy: 0.8462 - auc: 0.9951 - loss: -44.8121 - precision: 0.9620 - recall: 0.9951 - val_accuracy: 0.8492 - val_auc: 0.9960 - val_loss: -45.1432 - val_precision: 0.9785 - val_recall: 0.9949 - learning_rate: 1.0000e-05\n",
      "\n",
      "Epoch 22: LearningRateScheduler setting learning rate to 1.0000000000000003e-05.\n",
      "Epoch 22/50\n",
      "\u001b[1m983/988\u001b[0m \u001b[32m━━━━━━━━━━━━━━━━━━━\u001b[0m\u001b[37m━\u001b[0m \u001b[1m0s\u001b[0m 9ms/step - accuracy: 0.8461 - auc: 0.9954 - loss: -45.0652 - precision: 0.9640 - recall: 0.9960\n",
      "Epoch 22: val_loss did not improve from -45.14323\n",
      "\u001b[1m988/988\u001b[0m \u001b[32m━━━━━━━━━━━━━━━━━━━━\u001b[0m\u001b[37m\u001b[0m \u001b[1m10s\u001b[0m 10ms/step - accuracy: 0.8461 - auc: 0.9954 - loss: -45.0623 - precision: 0.9640 - recall: 0.9960 - val_accuracy: 0.8487 - val_auc: 0.9961 - val_loss: -45.0075 - val_precision: 0.9752 - val_recall: 0.9949 - learning_rate: 1.0000e-05\n",
      "\n",
      "Epoch 23: LearningRateScheduler setting learning rate to 1.0000000000000003e-05.\n",
      "Epoch 23/50\n",
      "\u001b[1m987/988\u001b[0m \u001b[32m━━━━━━━━━━━━━━━━━━━\u001b[0m\u001b[37m━\u001b[0m \u001b[1m0s\u001b[0m 9ms/step - accuracy: 0.8456 - auc: 0.9946 - loss: -44.9364 - precision: 0.9622 - recall: 0.9939\n",
      "Epoch 23: val_loss improved from -45.14323 to -45.34219, saving model to /kaggle/working/models/best_cnn_lstm_dos_model.h5\n",
      "\u001b[1m988/988\u001b[0m \u001b[32m━━━━━━━━━━━━━━━━━━━━\u001b[0m\u001b[37m\u001b[0m \u001b[1m10s\u001b[0m 10ms/step - accuracy: 0.8456 - auc: 0.9946 - loss: -44.9361 - precision: 0.9623 - recall: 0.9939 - val_accuracy: 0.8485 - val_auc: 0.9965 - val_loss: -45.3422 - val_precision: 0.9736 - val_recall: 0.9966 - learning_rate: 1.0000e-05\n",
      "\n",
      "Epoch 24: LearningRateScheduler setting learning rate to 1.0000000000000003e-05.\n",
      "Epoch 24/50\n",
      "\u001b[1m983/988\u001b[0m \u001b[32m━━━━━━━━━━━━━━━━━━━\u001b[0m\u001b[37m━\u001b[0m \u001b[1m0s\u001b[0m 9ms/step - accuracy: 0.8449 - auc: 0.9958 - loss: -46.0352 - precision: 0.9651 - recall: 0.9964\n",
      "Epoch 24: val_loss did not improve from -45.34219\n",
      "\u001b[1m988/988\u001b[0m \u001b[32m━━━━━━━━━━━━━━━━━━━━\u001b[0m\u001b[37m\u001b[0m \u001b[1m10s\u001b[0m 10ms/step - accuracy: 0.8449 - auc: 0.9958 - loss: -46.0269 - precision: 0.9651 - recall: 0.9964 - val_accuracy: 0.8489 - val_auc: 0.9960 - val_loss: -45.1473 - val_precision: 0.9764 - val_recall: 0.9953 - learning_rate: 1.0000e-05\n",
      "\n",
      "Epoch 25: LearningRateScheduler setting learning rate to 1.0000000000000003e-05.\n",
      "Epoch 25/50\n",
      "\u001b[1m984/988\u001b[0m \u001b[32m━━━━━━━━━━━━━━━━━━━\u001b[0m\u001b[37m━\u001b[0m \u001b[1m0s\u001b[0m 9ms/step - accuracy: 0.8497 - auc: 0.9953 - loss: -43.6442 - precision: 0.9648 - recall: 0.9954\n",
      "Epoch 25: val_loss did not improve from -45.34219\n",
      "\u001b[1m988/988\u001b[0m \u001b[32m━━━━━━━━━━━━━━━━━━━━\u001b[0m\u001b[37m\u001b[0m \u001b[1m10s\u001b[0m 10ms/step - accuracy: 0.8497 - auc: 0.9953 - loss: -43.6505 - precision: 0.9648 - recall: 0.9954 - val_accuracy: 0.8485 - val_auc: 0.9961 - val_loss: -45.0751 - val_precision: 0.9740 - val_recall: 0.9957 - learning_rate: 1.0000e-05\n",
      "\n",
      "Epoch 26: LearningRateScheduler setting learning rate to 1.0000000000000003e-05.\n",
      "Epoch 26/50\n",
      "\u001b[1m984/988\u001b[0m \u001b[32m━━━━━━━━━━━━━━━━━━━\u001b[0m\u001b[37m━\u001b[0m \u001b[1m0s\u001b[0m 9ms/step - accuracy: 0.8472 - auc: 0.9951 - loss: -44.8794 - precision: 0.9636 - recall: 0.9950\n",
      "Epoch 26: val_loss improved from -45.34219 to -45.38140, saving model to /kaggle/working/models/best_cnn_lstm_dos_model.h5\n",
      "\u001b[1m988/988\u001b[0m \u001b[32m━━━━━━━━━━━━━━━━━━━━\u001b[0m\u001b[37m\u001b[0m \u001b[1m10s\u001b[0m 10ms/step - accuracy: 0.8472 - auc: 0.9951 - loss: -44.8791 - precision: 0.9636 - recall: 0.9950 - val_accuracy: 0.8487 - val_auc: 0.9961 - val_loss: -45.3814 - val_precision: 0.9752 - val_recall: 0.9957 - learning_rate: 1.0000e-05\n",
      "\n",
      "Epoch 27: LearningRateScheduler setting learning rate to 1.0000000000000003e-05.\n",
      "Epoch 27/50\n",
      "\u001b[1m987/988\u001b[0m \u001b[32m━━━━━━━━━━━━━━━━━━━\u001b[0m\u001b[37m━\u001b[0m \u001b[1m0s\u001b[0m 9ms/step - accuracy: 0.8487 - auc: 0.9954 - loss: -43.5886 - precision: 0.9607 - recall: 0.9965\n",
      "Epoch 27: val_loss improved from -45.38140 to -45.40419, saving model to /kaggle/working/models/best_cnn_lstm_dos_model.h5\n",
      "\u001b[1m988/988\u001b[0m \u001b[32m━━━━━━━━━━━━━━━━━━━━\u001b[0m\u001b[37m\u001b[0m \u001b[1m10s\u001b[0m 10ms/step - accuracy: 0.8487 - auc: 0.9954 - loss: -43.5911 - precision: 0.9607 - recall: 0.9965 - val_accuracy: 0.8482 - val_auc: 0.9964 - val_loss: -45.4042 - val_precision: 0.9720 - val_recall: 0.9974 - learning_rate: 1.0000e-05\n",
      "\n",
      "Epoch 28: LearningRateScheduler setting learning rate to 1.0000000000000003e-05.\n",
      "Epoch 28/50\n",
      "\u001b[1m984/988\u001b[0m \u001b[32m━━━━━━━━━━━━━━━━━━━\u001b[0m\u001b[37m━\u001b[0m \u001b[1m0s\u001b[0m 9ms/step - accuracy: 0.8486 - auc: 0.9952 - loss: -43.9734 - precision: 0.9622 - recall: 0.9956\n",
      "Epoch 28: val_loss improved from -45.40419 to -45.43426, saving model to /kaggle/working/models/best_cnn_lstm_dos_model.h5\n",
      "\u001b[1m988/988\u001b[0m \u001b[32m━━━━━━━━━━━━━━━━━━━━\u001b[0m\u001b[37m\u001b[0m \u001b[1m10s\u001b[0m 10ms/step - accuracy: 0.8486 - auc: 0.9952 - loss: -43.9790 - precision: 0.9622 - recall: 0.9956 - val_accuracy: 0.8489 - val_auc: 0.9965 - val_loss: -45.4343 - val_precision: 0.9764 - val_recall: 0.9957 - learning_rate: 1.0000e-05\n",
      "\n",
      "Epoch 29: LearningRateScheduler setting learning rate to 1.0000000000000003e-05.\n",
      "Epoch 29/50\n",
      "\u001b[1m983/988\u001b[0m \u001b[32m━━━━━━━━━━━━━━━━━━━\u001b[0m\u001b[37m━\u001b[0m \u001b[1m0s\u001b[0m 9ms/step - accuracy: 0.8462 - auc: 0.9960 - loss: -45.5471 - precision: 0.9614 - recall: 0.9976\n",
      "Epoch 29: val_loss improved from -45.43426 to -45.46105, saving model to /kaggle/working/models/best_cnn_lstm_dos_model.h5\n",
      "\u001b[1m988/988\u001b[0m \u001b[32m━━━━━━━━━━━━━━━━━━━━\u001b[0m\u001b[37m\u001b[0m \u001b[1m10s\u001b[0m 10ms/step - accuracy: 0.8462 - auc: 0.9960 - loss: -45.5451 - precision: 0.9614 - recall: 0.9976 - val_accuracy: 0.8489 - val_auc: 0.9966 - val_loss: -45.4611 - val_precision: 0.9761 - val_recall: 0.9966 - learning_rate: 1.0000e-05\n",
      "\n",
      "Epoch 30: LearningRateScheduler setting learning rate to 1.0000000000000003e-05.\n",
      "Epoch 30/50\n",
      "\u001b[1m983/988\u001b[0m \u001b[32m━━━━━━━━━━━━━━━━━━━\u001b[0m\u001b[37m━\u001b[0m \u001b[1m0s\u001b[0m 9ms/step - accuracy: 0.8473 - auc: 0.9950 - loss: -44.9746 - precision: 0.9632 - recall: 0.9950\n",
      "Epoch 30: val_loss improved from -45.46105 to -45.55255, saving model to /kaggle/working/models/best_cnn_lstm_dos_model.h5\n",
      "\u001b[1m988/988\u001b[0m \u001b[32m━━━━━━━━━━━━━━━━━━━━\u001b[0m\u001b[37m\u001b[0m \u001b[1m10s\u001b[0m 10ms/step - accuracy: 0.8473 - auc: 0.9950 - loss: -44.9752 - precision: 0.9632 - recall: 0.9950 - val_accuracy: 0.8486 - val_auc: 0.9963 - val_loss: -45.5525 - val_precision: 0.9744 - val_recall: 0.9961 - learning_rate: 1.0000e-05\n",
      "\n",
      "Epoch 31: LearningRateScheduler setting learning rate to 1.0000000000000002e-06.\n",
      "Epoch 31/50\n",
      "\u001b[1m984/988\u001b[0m \u001b[32m━━━━━━━━━━━━━━━━━━━\u001b[0m\u001b[37m━\u001b[0m \u001b[1m0s\u001b[0m 9ms/step - accuracy: 0.8466 - auc: 0.9952 - loss: -44.6065 - precision: 0.9573 - recall: 0.9967\n",
      "Epoch 31: val_loss did not improve from -45.55255\n",
      "\u001b[1m988/988\u001b[0m \u001b[32m━━━━━━━━━━━━━━━━━━━━\u001b[0m\u001b[37m\u001b[0m \u001b[1m10s\u001b[0m 10ms/step - accuracy: 0.8466 - auc: 0.9952 - loss: -44.6092 - precision: 0.9574 - recall: 0.9967 - val_accuracy: 0.8487 - val_auc: 0.9962 - val_loss: -45.5453 - val_precision: 0.9748 - val_recall: 0.9961 - learning_rate: 1.0000e-06\n",
      "\n",
      "Epoch 32: LearningRateScheduler setting learning rate to 1.0000000000000002e-06.\n",
      "Epoch 32/50\n",
      "\u001b[1m985/988\u001b[0m \u001b[32m━━━━━━━━━━━━━━━━━━━\u001b[0m\u001b[37m━\u001b[0m \u001b[1m0s\u001b[0m 9ms/step - accuracy: 0.8455 - auc: 0.9949 - loss: -45.2755 - precision: 0.9597 - recall: 0.9953\n",
      "Epoch 32: val_loss did not improve from -45.55255\n",
      "\u001b[1m988/988\u001b[0m \u001b[32m━━━━━━━━━━━━━━━━━━━━\u001b[0m\u001b[37m\u001b[0m \u001b[1m10s\u001b[0m 10ms/step - accuracy: 0.8455 - auc: 0.9949 - loss: -45.2748 - precision: 0.9597 - recall: 0.9953 - val_accuracy: 0.8484 - val_auc: 0.9963 - val_loss: -45.5490 - val_precision: 0.9732 - val_recall: 0.9966 - learning_rate: 1.0000e-06\n",
      "\n",
      "Epoch 33: LearningRateScheduler setting learning rate to 1.0000000000000002e-06.\n",
      "Epoch 33/50\n",
      "\u001b[1m988/988\u001b[0m \u001b[32m━━━━━━━━━━━━━━━━━━━━\u001b[0m\u001b[37m\u001b[0m \u001b[1m0s\u001b[0m 9ms/step - accuracy: 0.8464 - auc: 0.9963 - loss: -45.5565 - precision: 0.9651 - recall: 0.9971\n",
      "Epoch 33: val_loss did not improve from -45.55255\n",
      "\u001b[1m988/988\u001b[0m \u001b[32m━━━━━━━━━━━━━━━━━━━━\u001b[0m\u001b[37m\u001b[0m \u001b[1m10s\u001b[0m 10ms/step - accuracy: 0.8464 - auc: 0.9963 - loss: -45.5561 - precision: 0.9651 - recall: 0.9971 - val_accuracy: 0.8484 - val_auc: 0.9955 - val_loss: -45.3398 - val_precision: 0.9727 - val_recall: 0.9953 - learning_rate: 1.0000e-06\n",
      "\n",
      "Epoch 34: LearningRateScheduler setting learning rate to 1.0000000000000002e-06.\n",
      "Epoch 34/50\n",
      "\u001b[1m985/988\u001b[0m \u001b[32m━━━━━━━━━━━━━━━━━━━\u001b[0m\u001b[37m━\u001b[0m \u001b[1m0s\u001b[0m 9ms/step - accuracy: 0.8460 - auc: 0.9962 - loss: -45.7269 - precision: 0.9647 - recall: 0.9967\n",
      "Epoch 34: val_loss improved from -45.55255 to -45.56575, saving model to /kaggle/working/models/best_cnn_lstm_dos_model.h5\n",
      "\u001b[1m988/988\u001b[0m \u001b[32m━━━━━━━━━━━━━━━━━━━━\u001b[0m\u001b[37m\u001b[0m \u001b[1m10s\u001b[0m 10ms/step - accuracy: 0.8460 - auc: 0.9962 - loss: -45.7249 - precision: 0.9647 - recall: 0.9967 - val_accuracy: 0.8486 - val_auc: 0.9967 - val_loss: -45.5658 - val_precision: 0.9744 - val_recall: 0.9974 - learning_rate: 1.0000e-06\n",
      "\n",
      "Epoch 35: LearningRateScheduler setting learning rate to 1.0000000000000002e-06.\n",
      "Epoch 35/50\n",
      "\u001b[1m987/988\u001b[0m \u001b[32m━━━━━━━━━━━━━━━━━━━\u001b[0m\u001b[37m━\u001b[0m \u001b[1m0s\u001b[0m 9ms/step - accuracy: 0.8479 - auc: 0.9951 - loss: -44.9522 - precision: 0.9666 - recall: 0.9954\n",
      "Epoch 35: val_loss improved from -45.56575 to -45.58596, saving model to /kaggle/working/models/best_cnn_lstm_dos_model.h5\n",
      "\u001b[1m988/988\u001b[0m \u001b[32m━━━━━━━━━━━━━━━━━━━━\u001b[0m\u001b[37m\u001b[0m \u001b[1m10s\u001b[0m 10ms/step - accuracy: 0.8479 - auc: 0.9951 - loss: -44.9525 - precision: 0.9666 - recall: 0.9954 - val_accuracy: 0.8488 - val_auc: 0.9957 - val_loss: -45.5860 - val_precision: 0.9756 - val_recall: 0.9953 - learning_rate: 1.0000e-06\n",
      "\n",
      "Epoch 36: LearningRateScheduler setting learning rate to 1.0000000000000002e-06.\n",
      "Epoch 36/50\n",
      "\u001b[1m985/988\u001b[0m \u001b[32m━━━━━━━━━━━━━━━━━━━\u001b[0m\u001b[37m━\u001b[0m \u001b[1m0s\u001b[0m 9ms/step - accuracy: 0.8456 - auc: 0.9959 - loss: -45.5422 - precision: 0.9616 - recall: 0.9967\n",
      "Epoch 36: val_loss improved from -45.58596 to -45.59658, saving model to /kaggle/working/models/best_cnn_lstm_dos_model.h5\n",
      "\u001b[1m988/988\u001b[0m \u001b[32m━━━━━━━━━━━━━━━━━━━━\u001b[0m\u001b[37m\u001b[0m \u001b[1m10s\u001b[0m 10ms/step - accuracy: 0.8456 - auc: 0.9959 - loss: -45.5406 - precision: 0.9616 - recall: 0.9967 - val_accuracy: 0.8487 - val_auc: 0.9961 - val_loss: -45.5966 - val_precision: 0.9748 - val_recall: 0.9961 - learning_rate: 1.0000e-06\n",
      "\n",
      "Epoch 37: LearningRateScheduler setting learning rate to 1.0000000000000002e-06.\n",
      "Epoch 37/50\n",
      "\u001b[1m985/988\u001b[0m \u001b[32m━━━━━━━━━━━━━━━━━━━\u001b[0m\u001b[37m━\u001b[0m \u001b[1m0s\u001b[0m 9ms/step - accuracy: 0.8452 - auc: 0.9948 - loss: -45.8540 - precision: 0.9610 - recall: 0.9951\n",
      "Epoch 37: val_loss improved from -45.59658 to -45.76236, saving model to /kaggle/working/models/best_cnn_lstm_dos_model.h5\n",
      "\u001b[1m988/988\u001b[0m \u001b[32m━━━━━━━━━━━━━━━━━━━━\u001b[0m\u001b[37m\u001b[0m \u001b[1m10s\u001b[0m 10ms/step - accuracy: 0.8452 - auc: 0.9948 - loss: -45.8515 - precision: 0.9610 - recall: 0.9951 - val_accuracy: 0.8486 - val_auc: 0.9968 - val_loss: -45.7624 - val_precision: 0.9744 - val_recall: 0.9979 - learning_rate: 1.0000e-06\n",
      "\n",
      "Epoch 38: LearningRateScheduler setting learning rate to 1.0000000000000002e-06.\n",
      "Epoch 38/50\n",
      "\u001b[1m985/988\u001b[0m \u001b[32m━━━━━━━━━━━━━━━━━━━\u001b[0m\u001b[37m━\u001b[0m \u001b[1m0s\u001b[0m 9ms/step - accuracy: 0.8459 - auc: 0.9949 - loss: -45.7905 - precision: 0.9679 - recall: 0.9947\n",
      "Epoch 38: val_loss did not improve from -45.76236\n",
      "\u001b[1m988/988\u001b[0m \u001b[32m━━━━━━━━━━━━━━━━━━━━\u001b[0m\u001b[37m\u001b[0m \u001b[1m10s\u001b[0m 10ms/step - accuracy: 0.8459 - auc: 0.9949 - loss: -45.7876 - precision: 0.9679 - recall: 0.9947 - val_accuracy: 0.8484 - val_auc: 0.9959 - val_loss: -45.5150 - val_precision: 0.9732 - val_recall: 0.9957 - learning_rate: 1.0000e-06\n",
      "\n",
      "Epoch 39: LearningRateScheduler setting learning rate to 1.0000000000000002e-06.\n",
      "Epoch 39/50\n",
      "\u001b[1m985/988\u001b[0m \u001b[32m━━━━━━━━━━━━━━━━━━━\u001b[0m\u001b[37m━\u001b[0m \u001b[1m0s\u001b[0m 9ms/step - accuracy: 0.8486 - auc: 0.9958 - loss: -44.6511 - precision: 0.9643 - recall: 0.9956\n",
      "Epoch 39: val_loss did not improve from -45.76236\n",
      "\u001b[1m988/988\u001b[0m \u001b[32m━━━━━━━━━━━━━━━━━━━━\u001b[0m\u001b[37m\u001b[0m \u001b[1m10s\u001b[0m 10ms/step - accuracy: 0.8486 - auc: 0.9958 - loss: -44.6539 - precision: 0.9643 - recall: 0.9956 - val_accuracy: 0.8486 - val_auc: 0.9963 - val_loss: -45.7171 - val_precision: 0.9744 - val_recall: 0.9966 - learning_rate: 1.0000e-06\n",
      "\n",
      "Epoch 40: LearningRateScheduler setting learning rate to 1.0000000000000002e-06.\n",
      "Epoch 40/50\n",
      "\u001b[1m984/988\u001b[0m \u001b[32m━━━━━━━━━━━━━━━━━━━\u001b[0m\u001b[37m━\u001b[0m \u001b[1m0s\u001b[0m 9ms/step - accuracy: 0.8476 - auc: 0.9958 - loss: -45.0508 - precision: 0.9655 - recall: 0.9963\n",
      "Epoch 40: val_loss improved from -45.76236 to -45.77655, saving model to /kaggle/working/models/best_cnn_lstm_dos_model.h5\n",
      "\u001b[1m988/988\u001b[0m \u001b[32m━━━━━━━━━━━━━━━━━━━━\u001b[0m\u001b[37m\u001b[0m \u001b[1m10s\u001b[0m 10ms/step - accuracy: 0.8476 - auc: 0.9958 - loss: -45.0519 - precision: 0.9655 - recall: 0.9963 - val_accuracy: 0.8491 - val_auc: 0.9969 - val_loss: -45.7765 - val_precision: 0.9777 - val_recall: 0.9974 - learning_rate: 1.0000e-06\n",
      "\n",
      "Epoch 41: LearningRateScheduler setting learning rate to 1.0000000000000002e-07.\n",
      "Epoch 41/50\n",
      "\u001b[1m983/988\u001b[0m \u001b[32m━━━━━━━━━━━━━━━━━━━\u001b[0m\u001b[37m━\u001b[0m \u001b[1m0s\u001b[0m 9ms/step - accuracy: 0.8474 - auc: 0.9956 - loss: -45.2067 - precision: 0.9650 - recall: 0.9960\n",
      "Epoch 41: val_loss did not improve from -45.77655\n",
      "\u001b[1m988/988\u001b[0m \u001b[32m━━━━━━━━━━━━━━━━━━━━\u001b[0m\u001b[37m\u001b[0m \u001b[1m10s\u001b[0m 10ms/step - accuracy: 0.8474 - auc: 0.9956 - loss: -45.2072 - precision: 0.9650 - recall: 0.9960 - val_accuracy: 0.8491 - val_auc: 0.9963 - val_loss: -45.5853 - val_precision: 0.9773 - val_recall: 0.9957 - learning_rate: 1.0000e-07\n",
      "\n",
      "Epoch 42: LearningRateScheduler setting learning rate to 1.0000000000000002e-07.\n",
      "Epoch 42/50\n",
      "\u001b[1m985/988\u001b[0m \u001b[32m━━━━━━━━━━━━━━━━━━━\u001b[0m\u001b[37m━\u001b[0m \u001b[1m0s\u001b[0m 9ms/step - accuracy: 0.8474 - auc: 0.9949 - loss: -44.6871 - precision: 0.9640 - recall: 0.9947\n",
      "Epoch 42: val_loss did not improve from -45.77655\n",
      "\u001b[1m988/988\u001b[0m \u001b[32m━━━━━━━━━━━━━━━━━━━━\u001b[0m\u001b[37m\u001b[0m \u001b[1m10s\u001b[0m 10ms/step - accuracy: 0.8474 - auc: 0.9949 - loss: -44.6887 - precision: 0.9640 - recall: 0.9947 - val_accuracy: 0.8489 - val_auc: 0.9958 - val_loss: -45.6588 - val_precision: 0.9760 - val_recall: 0.9953 - learning_rate: 1.0000e-07\n",
      "\n",
      "Epoch 43: LearningRateScheduler setting learning rate to 1.0000000000000002e-07.\n",
      "Epoch 43/50\n",
      "\u001b[1m984/988\u001b[0m \u001b[32m━━━━━━━━━━━━━━━━━━━\u001b[0m\u001b[37m━\u001b[0m \u001b[1m0s\u001b[0m 9ms/step - accuracy: 0.8486 - auc: 0.9967 - loss: -45.0273 - precision: 0.9686 - recall: 0.9975\n",
      "Epoch 43: val_loss did not improve from -45.77655\n",
      "\u001b[1m988/988\u001b[0m \u001b[32m━━━━━━━━━━━━━━━━━━━━\u001b[0m\u001b[37m\u001b[0m \u001b[1m10s\u001b[0m 10ms/step - accuracy: 0.8486 - auc: 0.9967 - loss: -45.0278 - precision: 0.9686 - recall: 0.9975 - val_accuracy: 0.8482 - val_auc: 0.9960 - val_loss: -45.4037 - val_precision: 0.9720 - val_recall: 0.9966 - learning_rate: 1.0000e-07\n",
      "\n",
      "Epoch 44: LearningRateScheduler setting learning rate to 1.0000000000000002e-07.\n",
      "Epoch 44/50\n",
      "\u001b[1m983/988\u001b[0m \u001b[32m━━━━━━━━━━━━━━━━━━━\u001b[0m\u001b[37m━\u001b[0m \u001b[1m0s\u001b[0m 9ms/step - accuracy: 0.8458 - auc: 0.9954 - loss: -45.7857 - precision: 0.9659 - recall: 0.9954\n",
      "Epoch 44: val_loss did not improve from -45.77655\n",
      "\u001b[1m988/988\u001b[0m \u001b[32m━━━━━━━━━━━━━━━━━━━━\u001b[0m\u001b[37m\u001b[0m \u001b[1m10s\u001b[0m 10ms/step - accuracy: 0.8458 - auc: 0.9954 - loss: -45.7821 - precision: 0.9659 - recall: 0.9954 - val_accuracy: 0.8485 - val_auc: 0.9962 - val_loss: -45.5287 - val_precision: 0.9740 - val_recall: 0.9966 - learning_rate: 1.0000e-07\n",
      "\n",
      "Epoch 45: LearningRateScheduler setting learning rate to 1.0000000000000002e-07.\n",
      "Epoch 45/50\n",
      "\u001b[1m984/988\u001b[0m \u001b[32m━━━━━━━━━━━━━━━━━━━\u001b[0m\u001b[37m━\u001b[0m \u001b[1m0s\u001b[0m 9ms/step - accuracy: 0.8483 - auc: 0.9959 - loss: -44.3758 - precision: 0.9633 - recall: 0.9963\n",
      "Epoch 45: val_loss did not improve from -45.77655\n",
      "\u001b[1m988/988\u001b[0m \u001b[32m━━━━━━━━━━━━━━━━━━━━\u001b[0m\u001b[37m\u001b[0m \u001b[1m10s\u001b[0m 10ms/step - accuracy: 0.8482 - auc: 0.9959 - loss: -44.3802 - precision: 0.9633 - recall: 0.9963 - val_accuracy: 0.8489 - val_auc: 0.9948 - val_loss: -45.4429 - val_precision: 0.9760 - val_recall: 0.9936 - learning_rate: 1.0000e-07\n",
      "\n",
      "Epoch 46: LearningRateScheduler setting learning rate to 1.0000000000000002e-07.\n",
      "Epoch 46/50\n",
      "\u001b[1m983/988\u001b[0m \u001b[32m━━━━━━━━━━━━━━━━━━━\u001b[0m\u001b[37m━\u001b[0m \u001b[1m0s\u001b[0m 9ms/step - accuracy: 0.8472 - auc: 0.9958 - loss: -45.0144 - precision: 0.9609 - recall: 0.9966\n",
      "Epoch 46: val_loss did not improve from -45.77655\n",
      "\u001b[1m988/988\u001b[0m \u001b[32m━━━━━━━━━━━━━━━━━━━━\u001b[0m\u001b[37m\u001b[0m \u001b[1m10s\u001b[0m 10ms/step - accuracy: 0.8472 - auc: 0.9958 - loss: -45.0154 - precision: 0.9609 - recall: 0.9966 - val_accuracy: 0.8487 - val_auc: 0.9962 - val_loss: -45.5145 - val_precision: 0.9748 - val_recall: 0.9966 - learning_rate: 1.0000e-07\n",
      "\n",
      "Epoch 47: LearningRateScheduler setting learning rate to 1.0000000000000002e-07.\n",
      "Epoch 47/50\n",
      "\u001b[1m986/988\u001b[0m \u001b[32m━━━━━━━━━━━━━━━━━━━\u001b[0m\u001b[37m━\u001b[0m \u001b[1m0s\u001b[0m 9ms/step - accuracy: 0.8484 - auc: 0.9954 - loss: -44.2782 - precision: 0.9640 - recall: 0.9951\n",
      "Epoch 47: val_loss did not improve from -45.77655\n",
      "\u001b[1m988/988\u001b[0m \u001b[32m━━━━━━━━━━━━━━━━━━━━\u001b[0m\u001b[37m\u001b[0m \u001b[1m10s\u001b[0m 10ms/step - accuracy: 0.8484 - auc: 0.9954 - loss: -44.2807 - precision: 0.9640 - recall: 0.9951 - val_accuracy: 0.8487 - val_auc: 0.9960 - val_loss: -45.4206 - val_precision: 0.9752 - val_recall: 0.9957 - learning_rate: 1.0000e-07\n",
      "\n",
      "Epoch 48: LearningRateScheduler setting learning rate to 1.0000000000000002e-07.\n",
      "Epoch 48/50\n",
      "\u001b[1m988/988\u001b[0m \u001b[32m━━━━━━━━━━━━━━━━━━━━\u001b[0m\u001b[37m\u001b[0m \u001b[1m0s\u001b[0m 9ms/step - accuracy: 0.8492 - auc: 0.9955 - loss: -44.1669 - precision: 0.9651 - recall: 0.9955\n",
      "Epoch 48: val_loss did not improve from -45.77655\n",
      "\u001b[1m988/988\u001b[0m \u001b[32m━━━━━━━━━━━━━━━━━━━━\u001b[0m\u001b[37m\u001b[0m \u001b[1m10s\u001b[0m 10ms/step - accuracy: 0.8492 - auc: 0.9955 - loss: -44.1678 - precision: 0.9651 - recall: 0.9955 - val_accuracy: 0.8488 - val_auc: 0.9963 - val_loss: -45.6950 - val_precision: 0.9756 - val_recall: 0.9966 - learning_rate: 1.0000e-07\n",
      "\n",
      "Epoch 49: LearningRateScheduler setting learning rate to 1.0000000000000002e-07.\n",
      "Epoch 49/50\n",
      "\u001b[1m987/988\u001b[0m \u001b[32m━━━━━━━━━━━━━━━━━━━\u001b[0m\u001b[37m━\u001b[0m \u001b[1m0s\u001b[0m 9ms/step - accuracy: 0.8496 - auc: 0.9951 - loss: -43.8395 - precision: 0.9633 - recall: 0.9955\n",
      "Epoch 49: val_loss did not improve from -45.77655\n",
      "\u001b[1m988/988\u001b[0m \u001b[32m━━━━━━━━━━━━━━━━━━━━\u001b[0m\u001b[37m\u001b[0m \u001b[1m10s\u001b[0m 10ms/step - accuracy: 0.8496 - auc: 0.9951 - loss: -43.8422 - precision: 0.9633 - recall: 0.9955 - val_accuracy: 0.8482 - val_auc: 0.9962 - val_loss: -45.5870 - val_precision: 0.9716 - val_recall: 0.9966 - learning_rate: 1.0000e-07\n",
      "\n",
      "Epoch 50: LearningRateScheduler setting learning rate to 1.0000000000000002e-07.\n",
      "Epoch 50/50\n",
      "\u001b[1m988/988\u001b[0m \u001b[32m━━━━━━━━━━━━━━━━━━━━\u001b[0m\u001b[37m\u001b[0m \u001b[1m0s\u001b[0m 9ms/step - accuracy: 0.8481 - auc: 0.9956 - loss: -44.7298 - precision: 0.9655 - recall: 0.9953\n",
      "Epoch 50: val_loss did not improve from -45.77655\n",
      "\u001b[1m988/988\u001b[0m \u001b[32m━━━━━━━━━━━━━━━━━━━━\u001b[0m\u001b[37m\u001b[0m \u001b[1m10s\u001b[0m 10ms/step - accuracy: 0.8481 - auc: 0.9956 - loss: -44.7304 - precision: 0.9655 - recall: 0.9953 - val_accuracy: 0.8485 - val_auc: 0.9956 - val_loss: -45.5783 - val_precision: 0.9740 - val_recall: 0.9953 - learning_rate: 1.0000e-07\n",
      "Restoring model weights from the end of the best epoch: 40.\n"
     ]
    }
   ],
   "source": [
    "# CNN-LSTM Model Implementation\n",
    "model = Sequential()\n",
    "\n",
    "# Convolutional layers with L2 regularization\n",
    "model.add(Conv1D(64, 3, padding=\"same\", input_shape=(X_Probe.shape[1], 1), activation='relu', kernel_regularizer=l2(0.01)))\n",
    "model.add(Conv1D(64, 3, padding=\"same\", activation='relu', kernel_regularizer=l2(0.01)))\n",
    "model.add(MaxPooling1D(pool_size=2))\n",
    "model.add(Conv1D(128, 3, padding=\"same\", activation='relu', kernel_regularizer=l2(0.001)))\n",
    "model.add(Conv1D(128, 3, padding=\"same\", activation='relu', kernel_regularizer=l2(0.001)))\n",
    "model.add(MaxPooling1D(pool_size=2))\n",
    "\n",
    "# Batch normalization\n",
    "model.add(BatchNormalization())\n",
    "\n",
    "# LSTM layer with regularization and dropout\n",
    "model.add(LSTM(units=100, return_sequences=False, dropout=0.1, kernel_regularizer=l2(0.01)))\n",
    "model.add(Dropout(0.5))\n",
    "\n",
    "# Output layer\n",
    "model.add(Dense(units=1, activation='sigmoid', kernel_regularizer=l2(0.01)))\n",
    "\n",
    "# Model compilation with Focal Loss\n",
    "opt = Adam(learning_rate=initial_learning_rate)\n",
    "\n",
    "model.compile(\n",
    "    loss='binary_crossentropy', \n",
    "    optimizer=opt, \n",
    "    metrics=[\n",
    "        'accuracy',\n",
    "        tf.keras.metrics.Recall(name='recall'),\n",
    "        tf.keras.metrics.Precision(name='precision'),\n",
    "        tf.keras.metrics.AUC(name='auc')\n",
    "    ]\n",
    ")\n",
    "# Proper validation strategy using train-validation split\n",
    "from sklearn.model_selection import train_test_split\n",
    "\n",
    "print(\"Validation Strategy: Stratified train-validation split\")\n",
    "print(\"Test set reserved for final evaluation only\")\n",
    "\n",
    "# Split training data (80/20)\n",
    "X_train, X_val, y_train, y_val = train_test_split(\n",
    "    X, Y, \n",
    "    test_size=0.2, \n",
    "    stratify=Y,\n",
    "    random_state=42\n",
    ")\n",
    "\n",
    "print(f\"Training samples: {X_train.shape[0]}\")\n",
    "print(f\"Validation samples: {X_val.shape[0]}\")\n",
    "print(f\"Test samples: {X_DoS_test.shape[0]}\")\n",
    "\n",
    "# Environment-independent callbacks\n",
    "my_callbacks_proper = [\n",
    "    ModelCheckpoint(\n",
    "        filepath=model_path, \n",
    "        verbose=1, \n",
    "        save_best_only=True, \n",
    "        monitor='val_loss',\n",
    "        mode='min'\n",
    "    ),\n",
    "    EarlyStopping(\n",
    "        monitor='val_loss',\n",
    "        patience=15,\n",
    "        restore_best_weights=True,\n",
    "        verbose=1,\n",
    "        min_delta=0.001\n",
    "    ),\n",
    "    LearningRateScheduler(lr_schedule, verbose=1)\n",
    "]\n",
    "\n",
    "# Model training\n",
    "print(f\"\\nTraining CNN-LSTM model...\")\n",
    "print(f\"Model will be saved to: {model_path}\")\n",
    "history = model.fit(\n",
    "    X_train, y_train,\n",
    "    epochs=50,\n",
    "    batch_size=64,\n",
    "    validation_data=(X_val, y_val),\n",
    "    callbacks=my_callbacks_proper\n",
    ")"
   ]
  },
  {
   "cell_type": "code",
   "execution_count": 197,
   "id": "78e974a7-9b6a-4b92-8fad-75855df02ba9",
   "metadata": {
    "execution": {
     "iopub.execute_input": "2025-09-01T05:19:25.196295Z",
     "iopub.status.busy": "2025-09-01T05:19:25.195999Z",
     "iopub.status.idle": "2025-09-01T05:19:26.413882Z",
     "shell.execute_reply": "2025-09-01T05:19:26.413106Z",
     "shell.execute_reply.started": "2025-09-01T05:19:25.196273Z"
    },
    "trusted": true
   },
   "outputs": [
    {
     "name": "stdout",
     "output_type": "stream",
     "text": [
      "\u001b[1m380/380\u001b[0m \u001b[32m━━━━━━━━━━━━━━━━━━━━\u001b[0m\u001b[37m\u001b[0m \u001b[1m1s\u001b[0m 3ms/step\n"
     ]
    }
   ],
   "source": [
    "y_pred = model.predict(X_Probe_test)"
   ]
  },
  {
   "cell_type": "code",
   "execution_count": 201,
   "id": "fd5c90e9-095f-4414-8ba1-60639fa15b6f",
   "metadata": {
    "execution": {
     "iopub.execute_input": "2025-09-01T05:29:47.447312Z",
     "iopub.status.busy": "2025-09-01T05:29:47.446790Z",
     "iopub.status.idle": "2025-09-01T05:29:47.470082Z",
     "shell.execute_reply": "2025-09-01T05:29:47.469445Z",
     "shell.execute_reply.started": "2025-09-01T05:29:47.447287Z"
    },
    "trusted": true
   },
   "outputs": [],
   "source": [
    "y_pred1 = []\n",
    "for i in y_pred:\n",
    "  if i>=0.5:\n",
    "    y_pred1.append(2)\n",
    "  else:\n",
    "    y_pred1.append(0)"
   ]
  },
  {
   "cell_type": "code",
   "execution_count": 202,
   "id": "dab4ef27-24b3-4671-9ec1-3fe88575873e",
   "metadata": {
    "execution": {
     "iopub.execute_input": "2025-09-01T05:29:51.196609Z",
     "iopub.status.busy": "2025-09-01T05:29:51.195877Z",
     "iopub.status.idle": "2025-09-01T05:29:51.202227Z",
     "shell.execute_reply": "2025-09-01T05:29:51.201523Z",
     "shell.execute_reply.started": "2025-09-01T05:29:51.196584Z"
    },
    "trusted": true
   },
   "outputs": [
    {
     "data": {
      "text/plain": [
       "array([0, 2, 0, ..., 0, 0, 2])"
      ]
     },
     "execution_count": 202,
     "metadata": {},
     "output_type": "execute_result"
    }
   ],
   "source": [
    "y_pred = np.array(y_pred1)\n",
    "y_pred"
   ]
  },
  {
   "cell_type": "code",
   "execution_count": 203,
   "id": "74669dc2-3dec-46a5-a4e7-7589a70788da",
   "metadata": {
    "execution": {
     "iopub.execute_input": "2025-09-01T05:29:54.621906Z",
     "iopub.status.busy": "2025-09-01T05:29:54.621239Z",
     "iopub.status.idle": "2025-09-01T05:29:54.655676Z",
     "shell.execute_reply": "2025-09-01T05:29:54.655148Z",
     "shell.execute_reply.started": "2025-09-01T05:29:54.621881Z"
    },
    "trusted": true
   },
   "outputs": [
    {
     "name": "stdout",
     "output_type": "stream",
     "text": [
      "              precision    recall  f1-score   support\n",
      "\n",
      "           0       0.96      0.93      0.94      9711\n",
      "           2       0.74      0.84      0.78      2421\n",
      "\n",
      "    accuracy                           0.91     12132\n",
      "   macro avg       0.85      0.88      0.86     12132\n",
      "weighted avg       0.91      0.91      0.91     12132\n",
      "\n"
     ]
    }
   ],
   "source": [
    "from sklearn.metrics import classification_report,confusion_matrix\n",
    "print(classification_report(Y_Probe_test,y_pred))"
   ]
  }
 ],
 "metadata": {
  "kaggle": {
   "accelerator": "nvidiaTeslaT4",
   "dataSources": [
    {
     "datasetId": 8150231,
     "sourceId": 12882461,
     "sourceType": "datasetVersion"
    }
   ],
   "dockerImageVersionId": 31090,
   "isGpuEnabled": true,
   "isInternetEnabled": true,
   "language": "python",
   "sourceType": "notebook"
  },
  "kernelspec": {
   "display_name": "Python 3",
   "language": "python",
   "name": "python3"
  },
  "language_info": {
   "codemirror_mode": {
    "name": "ipython",
    "version": 3
   },
   "file_extension": ".py",
   "mimetype": "text/x-python",
   "name": "python",
   "nbconvert_exporter": "python",
   "pygments_lexer": "ipython3",
   "version": "3.11.13"
  }
 },
 "nbformat": 4,
 "nbformat_minor": 5
}
