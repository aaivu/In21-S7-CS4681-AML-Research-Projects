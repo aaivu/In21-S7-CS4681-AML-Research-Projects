{
 "cells": [
  {
   "cell_type": "code",
   "execution_count": 79,
   "id": "4494df36",
   "metadata": {
    "execution": {
     "iopub.execute_input": "2025-08-28T08:37:11.619263Z",
     "iopub.status.busy": "2025-08-28T08:37:11.618989Z",
     "iopub.status.idle": "2025-08-28T08:37:11.625884Z",
     "shell.execute_reply": "2025-08-28T08:37:11.625312Z",
     "shell.execute_reply.started": "2025-08-28T08:37:11.619242Z"
    },
    "trusted": true
   },
   "outputs": [],
   "source": [
    "# module imports\n",
    "import numpy as np\n",
    "import pandas as pd\n",
    "import matplotlib.pyplot as plt\n",
    "import seaborn as sns\n",
    "import itertools\n",
    "import random\n",
    "from sklearn.decomposition import PCA\n",
    "\n",
    "# model imports\n",
    "from sklearn.ensemble import RandomForestClassifier\n",
    "from sklearn.neighbors import KNeighborsClassifier\n",
    "from sklearn.linear_model import LogisticRegression\n",
    "from sklearn.decomposition import KernelPCA\n",
    "\n",
    "\n",
    "# processing imports\n",
    "from sklearn.preprocessing import LabelEncoder\n",
    "from sklearn.model_selection import train_test_split\n",
    "from sklearn.model_selection import cross_val_score\n",
    "from sklearn.metrics import mean_absolute_error\n",
    "from sklearn.metrics import accuracy_score\n",
    "from sklearn.metrics import confusion_matrix\n",
    "\n",
    "from sklearn.ensemble import RandomForestClassifier\n",
    "from sklearn.linear_model import LogisticRegression\n",
    "from sklearn.neighbors import KNeighborsClassifier\n",
    "from sklearn.naive_bayes import GaussianNB\n",
    "from sklearn.tree import DecisionTreeClassifier\n",
    "from sklearn.metrics import confusion_matrix, accuracy_score, f1_score\n",
    "from sklearn.model_selection import GridSearchCV\n",
    "from sklearn.metrics import matthews_corrcoef, precision_score, recall_score\n",
    "\n",
    "import numpy as np\n",
    "import pandas as pd\n",
    "import matplotlib.pyplot as plt\n",
    "import seaborn as sns\n",
    "from sklearn import preprocessing\n",
    "from sklearn.preprocessing import StandardScaler\n",
    "from sklearn.metrics import precision_score, recall_score, f1_score\n",
    "from sklearn.metrics import accuracy_score, balanced_accuracy_score,classification_report\n",
    "from sklearn.metrics import confusion_matrix, ConfusionMatrixDisplay\n",
    "from sklearn.model_selection import KFold, GridSearchCV\n",
    "from sklearn.model_selection import train_test_split\n",
    "from sklearn.utils import shuffle\n",
    "\n",
    "np.random.seed(1635848)"
   ]
  },
  {
   "cell_type": "code",
   "execution_count": 80,
   "id": "d511c5a7",
   "metadata": {
    "execution": {
     "iopub.execute_input": "2025-08-28T08:37:11.634222Z",
     "iopub.status.busy": "2025-08-28T08:37:11.633437Z",
     "iopub.status.idle": "2025-08-28T08:37:11.649359Z",
     "shell.execute_reply": "2025-08-28T08:37:11.648857Z",
     "shell.execute_reply.started": "2025-08-28T08:37:11.634197Z"
    },
    "trusted": true
   },
   "outputs": [],
   "source": [
    "# fetch the training file\n",
    "file_path_full_training_set = '/kaggle/input/kdd-data/KDDTrain.txt'\n",
    "file_path_test = '/kaggle/input/kdd-data/KDDTest.txt'"
   ]
  },
  {
   "cell_type": "code",
   "execution_count": 81,
   "id": "359af5f4",
   "metadata": {
    "execution": {
     "iopub.execute_input": "2025-08-28T08:37:11.650978Z",
     "iopub.status.busy": "2025-08-28T08:37:11.650393Z",
     "iopub.status.idle": "2025-08-28T08:37:12.042829Z",
     "shell.execute_reply": "2025-08-28T08:37:12.041977Z",
     "shell.execute_reply.started": "2025-08-28T08:37:11.650957Z"
    },
    "trusted": true
   },
   "outputs": [],
   "source": [
    "df = pd.read_csv(file_path_full_training_set)\n",
    "test_df = pd.read_csv(file_path_test)"
   ]
  },
  {
   "cell_type": "code",
   "execution_count": 82,
   "id": "77801432",
   "metadata": {
    "execution": {
     "iopub.execute_input": "2025-08-28T08:37:12.044272Z",
     "iopub.status.busy": "2025-08-28T08:37:12.044028Z",
     "iopub.status.idle": "2025-08-28T08:37:12.048715Z",
     "shell.execute_reply": "2025-08-28T08:37:12.048120Z",
     "shell.execute_reply.started": "2025-08-28T08:37:12.044249Z"
    },
    "trusted": true
   },
   "outputs": [],
   "source": [
    "columns = (['duration'\n",
    ",'protocol_type'\n",
    ",'service'\n",
    ",'flag'\n",
    ",'src_bytes'\n",
    ",'dst_bytes'\n",
    ",'land'\n",
    ",'wrong_fragment'\n",
    ",'urgent'\n",
    ",'hot'\n",
    ",'num_failed_logins'\n",
    ",'logged_in'\n",
    ",'num_compromised'\n",
    ",'root_shell'\n",
    ",'su_attempted'\n",
    ",'num_root'\n",
    ",'num_file_creations'\n",
    ",'num_shells'\n",
    ",'num_access_files'\n",
    ",'num_outbound_cmds'\n",
    ",'is_host_login'\n",
    ",'is_guest_login'\n",
    ",'count'\n",
    ",'srv_count'\n",
    ",'serror_rate'\n",
    ",'srv_serror_rate'\n",
    ",'rerror_rate'\n",
    ",'srv_rerror_rate'\n",
    ",'same_srv_rate'\n",
    ",'diff_srv_rate'\n",
    ",'srv_diff_host_rate'\n",
    ",'dst_host_count'\n",
    ",'dst_host_srv_count'\n",
    ",'dst_host_same_srv_rate'\n",
    ",'dst_host_diff_srv_rate'\n",
    ",'dst_host_same_src_port_rate'\n",
    ",'dst_host_srv_diff_host_rate'\n",
    ",'dst_host_serror_rate'\n",
    ",'dst_host_srv_serror_rate'\n",
    ",'dst_host_rerror_rate'\n",
    ",'dst_host_srv_rerror_rate'\n",
    ",'attack'\n",
    ",'level'])"
   ]
  },
  {
   "cell_type": "code",
   "execution_count": 83,
   "id": "69fbb304",
   "metadata": {
    "execution": {
     "iopub.execute_input": "2025-08-28T08:37:12.049455Z",
     "iopub.status.busy": "2025-08-28T08:37:12.049270Z",
     "iopub.status.idle": "2025-08-28T08:37:12.072756Z",
     "shell.execute_reply": "2025-08-28T08:37:12.072196Z",
     "shell.execute_reply.started": "2025-08-28T08:37:12.049441Z"
    },
    "trusted": true
   },
   "outputs": [],
   "source": [
    "df.columns = columns\n",
    "test_df.columns = columns"
   ]
  },
  {
   "cell_type": "code",
   "execution_count": 84,
   "id": "90a0b176-b269-49cd-a1d2-56908b08ded4",
   "metadata": {
    "execution": {
     "iopub.execute_input": "2025-08-28T08:37:12.074520Z",
     "iopub.status.busy": "2025-08-28T08:37:12.074299Z",
     "iopub.status.idle": "2025-08-28T08:37:12.113845Z",
     "shell.execute_reply": "2025-08-28T08:37:12.113279Z",
     "shell.execute_reply.started": "2025-08-28T08:37:12.074471Z"
    },
    "trusted": true
   },
   "outputs": [
    {
     "name": "stdout",
     "output_type": "stream",
     "text": [
      "Training set categorical features:\n",
      "Feature 'protocol_type' has 3 categories\n",
      "Feature 'service' has 70 categories\n",
      "Feature 'flag' has 11 categories\n",
      "Feature 'attack' has 23 categories\n"
     ]
    }
   ],
   "source": [
    "# Categorical features analysis\n",
    "print('Training set categorical features:')\n",
    "for col_name in df.columns:\n",
    "    if df[col_name].dtypes == 'object' :\n",
    "        unique_cat = len(df[col_name].unique())\n",
    "        print(\"Feature '{col_name}' has {unique_cat} categories\".format(col_name=col_name, unique_cat=unique_cat))"
   ]
  },
  {
   "cell_type": "code",
   "execution_count": 85,
   "id": "07322b9f",
   "metadata": {
    "execution": {
     "iopub.execute_input": "2025-08-28T08:37:12.114665Z",
     "iopub.status.busy": "2025-08-28T08:37:12.114427Z",
     "iopub.status.idle": "2025-08-28T08:37:12.141138Z",
     "shell.execute_reply": "2025-08-28T08:37:12.140623Z",
     "shell.execute_reply.started": "2025-08-28T08:37:12.114649Z"
    },
    "trusted": true
   },
   "outputs": [
    {
     "name": "stdout",
     "output_type": "stream",
     "text": [
      "Training set:\n",
      "Feature 'protocol_type' has 3 categories\n",
      "Feature 'service' has 70 categories\n",
      "Feature 'flag' has 11 categories\n",
      "Feature 'attack' has 23 categories\n"
     ]
    }
   ],
   "source": [
    "# colums that are categorical and not binary yet: protocol_type (column 2), service (column 3), flag (column 4).\n",
    "# explore categorical features\n",
    "print('Training set:')\n",
    "for col_name in df.columns:\n",
    "    if df[col_name].dtypes == 'object' :\n",
    "        unique_cat = len(df[col_name].unique())\n",
    "        print(\"Feature '{col_name}' has {unique_cat} categories\".format(col_name=col_name, unique_cat=unique_cat))"
   ]
  },
  {
   "cell_type": "code",
   "execution_count": 86,
   "id": "e357b142",
   "metadata": {
    "execution": {
     "iopub.execute_input": "2025-08-28T08:37:12.141982Z",
     "iopub.status.busy": "2025-08-28T08:37:12.141747Z",
     "iopub.status.idle": "2025-08-28T08:37:12.154431Z",
     "shell.execute_reply": "2025-08-28T08:37:12.153696Z",
     "shell.execute_reply.started": "2025-08-28T08:37:12.141961Z"
    },
    "trusted": true
   },
   "outputs": [
    {
     "name": "stdout",
     "output_type": "stream",
     "text": [
      "Distribution of categories in service:\n",
      "service\n",
      "http        40338\n",
      "private     21853\n",
      "domain_u     9043\n",
      "smtp         7313\n",
      "ftp_data     6859\n",
      "Name: count, dtype: int64\n"
     ]
    }
   ],
   "source": [
    "print('Distribution of categories in service:')\n",
    "print(df['service'].value_counts().sort_values(ascending=False).head())"
   ]
  },
  {
   "cell_type": "code",
   "execution_count": 87,
   "id": "97271e75",
   "metadata": {
    "execution": {
     "iopub.execute_input": "2025-08-28T08:37:12.155619Z",
     "iopub.status.busy": "2025-08-28T08:37:12.155160Z",
     "iopub.status.idle": "2025-08-28T08:37:12.177114Z",
     "shell.execute_reply": "2025-08-28T08:37:12.176521Z",
     "shell.execute_reply.started": "2025-08-28T08:37:12.155597Z"
    },
    "trusted": true
   },
   "outputs": [
    {
     "name": "stdout",
     "output_type": "stream",
     "text": [
      "Test set:\n",
      "Feature 'protocol_type' has 3 categories\n",
      "Feature 'service' has 64 categories\n",
      "Feature 'flag' has 11 categories\n",
      "Feature 'attack' has 38 categories\n"
     ]
    }
   ],
   "source": [
    "# Test set\n",
    "print('Test set:')\n",
    "for col_name in test_df.columns:\n",
    "    if test_df[col_name].dtypes == 'object' :\n",
    "        unique_cat = len(test_df[col_name].unique())\n",
    "        print(\"Feature '{col_name}' has {unique_cat} categories\".format(col_name=col_name, unique_cat=unique_cat))"
   ]
  },
  {
   "cell_type": "code",
   "execution_count": 88,
   "id": "dd10431f-655b-4c5c-ab88-bba8ff514866",
   "metadata": {
    "execution": {
     "iopub.execute_input": "2025-08-28T08:37:12.178069Z",
     "iopub.status.busy": "2025-08-28T08:37:12.177839Z",
     "iopub.status.idle": "2025-08-28T08:37:12.208080Z",
     "shell.execute_reply": "2025-08-28T08:37:12.207519Z",
     "shell.execute_reply.started": "2025-08-28T08:37:12.178050Z"
    },
    "trusted": true
   },
   "outputs": [
    {
     "name": "stdout",
     "output_type": "stream",
     "text": [
      "============================================================\n",
      "ATTACK TYPE DISTRIBUTION ANALYSIS\n",
      "============================================================\n",
      "\n",
      "Training Set Attack Distribution:\n",
      "attack\n",
      "normal         67342\n",
      "neptune        41214\n",
      "satan           3633\n",
      "ipsweep         3599\n",
      "portsweep       2931\n",
      "smurf           2646\n",
      "nmap            1493\n",
      "back             956\n",
      "teardrop         892\n",
      "warezclient      890\n",
      "Name: count, dtype: int64\n",
      "\n",
      "Test Set Attack Distribution:\n",
      "attack\n",
      "normal          9711\n",
      "neptune         4656\n",
      "guess_passwd    1231\n",
      "mscan            996\n",
      "warezmaster      944\n",
      "apache2          737\n",
      "satan            735\n",
      "processtable     685\n",
      "smurf            665\n",
      "back             359\n",
      "Name: count, dtype: int64\n",
      "\n",
      "Unique Attacks Comparison:\n",
      "Training attacks: 23 unique types\n",
      "Test attacks: 38 unique types\n",
      "\n",
      "Attacks ONLY in training: 2\n",
      "   ['spy', 'warezclient']\n",
      "\n",
      "Attacks ONLY in test: 17\n",
      "   ['ps', 'sqlattack', 'mscan', 'udpstorm', 'xlock', 'snmpguess', 'named', 'worm', 'snmpgetattack', 'xsnoop', 'sendmail', 'saint', 'mailbomb', 'xterm', 'apache2', 'processtable', 'httptunnel']\n",
      "\n",
      "Common attacks: 21\n"
     ]
    }
   ],
   "source": [
    "# Attack Distribution Comparison Analysis\n",
    "print(\"=\"*60)\n",
    "print(\"ATTACK TYPE DISTRIBUTION ANALYSIS\")\n",
    "print(\"=\"*60)\n",
    "\n",
    "print(\"\\nTraining Set Attack Distribution:\")\n",
    "print(df['attack'].value_counts().head(10))\n",
    "\n",
    "print(\"\\nTest Set Attack Distribution:\")\n",
    "print(test_df['attack'].value_counts().head(10))\n",
    "\n",
    "print(\"\\nUnique Attacks Comparison:\")\n",
    "train_attacks = set(df['attack'].unique())\n",
    "test_attacks = set(test_df['attack'].unique())\n",
    "\n",
    "print(f\"Training attacks: {len(train_attacks)} unique types\")\n",
    "print(f\"Test attacks: {len(test_attacks)} unique types\")\n",
    "\n",
    "attacks_only_in_train = train_attacks - test_attacks\n",
    "attacks_only_in_test = test_attacks - train_attacks\n",
    "common_attacks = train_attacks.intersection(test_attacks)\n",
    "\n",
    "print(f\"\\nAttacks ONLY in training: {len(attacks_only_in_train)}\")\n",
    "if attacks_only_in_train:\n",
    "    print(f\"   {list(attacks_only_in_train)}\")\n",
    "\n",
    "print(f\"\\nAttacks ONLY in test: {len(attacks_only_in_test)}\")  \n",
    "if attacks_only_in_test:\n",
    "    print(f\"   {list(attacks_only_in_test)}\")\n",
    "\n",
    "print(f\"\\nCommon attacks: {len(common_attacks)}\")"
   ]
  },
  {
   "cell_type": "code",
   "execution_count": 89,
   "id": "f12a4ed1",
   "metadata": {
    "execution": {
     "iopub.execute_input": "2025-08-28T08:37:12.208889Z",
     "iopub.status.busy": "2025-08-28T08:37:12.208701Z",
     "iopub.status.idle": "2025-08-28T08:37:12.219389Z",
     "shell.execute_reply": "2025-08-28T08:37:12.218684Z",
     "shell.execute_reply.started": "2025-08-28T08:37:12.208871Z"
    },
    "trusted": true
   },
   "outputs": [
    {
     "data": {
      "text/html": [
       "<div>\n",
       "<style scoped>\n",
       "    .dataframe tbody tr th:only-of-type {\n",
       "        vertical-align: middle;\n",
       "    }\n",
       "\n",
       "    .dataframe tbody tr th {\n",
       "        vertical-align: top;\n",
       "    }\n",
       "\n",
       "    .dataframe thead th {\n",
       "        text-align: right;\n",
       "    }\n",
       "</style>\n",
       "<table border=\"1\" class=\"dataframe\">\n",
       "  <thead>\n",
       "    <tr style=\"text-align: right;\">\n",
       "      <th></th>\n",
       "      <th>protocol_type</th>\n",
       "      <th>service</th>\n",
       "      <th>flag</th>\n",
       "    </tr>\n",
       "  </thead>\n",
       "  <tbody>\n",
       "    <tr>\n",
       "      <th>0</th>\n",
       "      <td>udp</td>\n",
       "      <td>other</td>\n",
       "      <td>SF</td>\n",
       "    </tr>\n",
       "    <tr>\n",
       "      <th>1</th>\n",
       "      <td>tcp</td>\n",
       "      <td>private</td>\n",
       "      <td>S0</td>\n",
       "    </tr>\n",
       "    <tr>\n",
       "      <th>2</th>\n",
       "      <td>tcp</td>\n",
       "      <td>http</td>\n",
       "      <td>SF</td>\n",
       "    </tr>\n",
       "    <tr>\n",
       "      <th>3</th>\n",
       "      <td>tcp</td>\n",
       "      <td>http</td>\n",
       "      <td>SF</td>\n",
       "    </tr>\n",
       "    <tr>\n",
       "      <th>4</th>\n",
       "      <td>tcp</td>\n",
       "      <td>private</td>\n",
       "      <td>REJ</td>\n",
       "    </tr>\n",
       "  </tbody>\n",
       "</table>\n",
       "</div>"
      ],
      "text/plain": [
       "  protocol_type  service flag\n",
       "0           udp    other   SF\n",
       "1           tcp  private   S0\n",
       "2           tcp     http   SF\n",
       "3           tcp     http   SF\n",
       "4           tcp  private  REJ"
      ]
     },
     "execution_count": 89,
     "metadata": {},
     "output_type": "execute_result"
    }
   ],
   "source": [
    "from sklearn.preprocessing import LabelEncoder, OneHotEncoder\n",
    "\n",
    "# Define categorical columns for encoding\n",
    "categorical_columns = ['protocol_type', 'service', 'flag']\n",
    "\n",
    "# Extract categorical values\n",
    "df_categorical_values = df[categorical_columns]\n",
    "testdf_categorical_values = test_df[categorical_columns]\n",
    "df_categorical_values.head()"
   ]
  },
  {
   "cell_type": "code",
   "execution_count": 90,
   "id": "e8430967",
   "metadata": {
    "execution": {
     "iopub.execute_input": "2025-08-28T08:37:12.222617Z",
     "iopub.status.busy": "2025-08-28T08:37:12.221951Z",
     "iopub.status.idle": "2025-08-28T08:37:12.262330Z",
     "shell.execute_reply": "2025-08-28T08:37:12.261814Z",
     "shell.execute_reply.started": "2025-08-28T08:37:12.222599Z"
    },
    "trusted": true
   },
   "outputs": [
    {
     "name": "stdout",
     "output_type": "stream",
     "text": [
      "Total columns: 84\n",
      "Protocol columns: 3\n",
      "Service columns: 70\n",
      "Flag columns: 11\n",
      "\n",
      "Services only in train: {'http_2784', 'harvest', 'aol', 'http_8001', 'red_i', 'urh_i'}\n",
      "Services only in test: set()\n",
      "Combined services: 70\n"
     ]
    }
   ],
   "source": [
    "# Generate column names for categorical encoding\n",
    "unique_protocol=sorted(df.protocol_type.unique())\n",
    "string1 = 'Protocol_type_'\n",
    "unique_protocol2=[string1 + x for x in unique_protocol]\n",
    "\n",
    "# Use combined unique services from both train and test sets\n",
    "unique_service_train = set(df.service.unique())\n",
    "unique_service_test = set(test_df.service.unique())\n",
    "unique_service_combined = sorted(list(unique_service_train.union(unique_service_test)))\n",
    "string2 = 'service_'\n",
    "unique_service2 = [string2 + x for x in unique_service_combined]\n",
    "\n",
    "# Flag columns\n",
    "unique_flag=sorted(df.flag.unique())\n",
    "string3 = 'flag_'\n",
    "unique_flag2=[string3 + x for x in unique_flag]\n",
    "\n",
    "# Combined columns for consistent encoding\n",
    "dumcols = unique_protocol2 + unique_service2 + unique_flag2\n",
    "testdumcols = dumcols\n",
    "\n",
    "print(f\"Total columns: {len(dumcols)}\")\n",
    "print(f\"Protocol columns: {len(unique_protocol2)}\")  \n",
    "print(f\"Service columns: {len(unique_service2)}\")\n",
    "print(f\"Flag columns: {len(unique_flag2)}\")\n",
    "\n",
    "print(f\"\\nServices only in train: {unique_service_train - unique_service_test}\")\n",
    "print(f\"Services only in test: {unique_service_test - unique_service_train}\")\n",
    "print(f\"Combined services: {len(unique_service_combined)}\")"
   ]
  },
  {
   "cell_type": "code",
   "execution_count": 91,
   "id": "39fc0da7",
   "metadata": {
    "execution": {
     "iopub.execute_input": "2025-08-28T08:37:12.263263Z",
     "iopub.status.busy": "2025-08-28T08:37:12.263027Z",
     "iopub.status.idle": "2025-08-28T08:37:12.337836Z",
     "shell.execute_reply": "2025-08-28T08:37:12.337260Z",
     "shell.execute_reply.started": "2025-08-28T08:37:12.263242Z"
    },
    "trusted": true
   },
   "outputs": [
    {
     "name": "stdout",
     "output_type": "stream",
     "text": [
      "   protocol_type  service  flag\n",
      "0              2       44     9\n",
      "1              1       49     5\n",
      "2              1       24     9\n",
      "3              1       24     9\n",
      "4              1       49     1\n"
     ]
    }
   ],
   "source": [
    "df_categorical_values_enc=df_categorical_values.apply(LabelEncoder().fit_transform)\n",
    "print(df_categorical_values_enc.head())\n",
    "# test set\n",
    "testdf_categorical_values_enc=testdf_categorical_values.apply(LabelEncoder().fit_transform)"
   ]
  },
  {
   "cell_type": "code",
   "execution_count": 92,
   "id": "0fdf2502",
   "metadata": {
    "execution": {
     "iopub.execute_input": "2025-08-28T08:37:12.338684Z",
     "iopub.status.busy": "2025-08-28T08:37:12.338464Z",
     "iopub.status.idle": "2025-08-28T08:37:12.524507Z",
     "shell.execute_reply": "2025-08-28T08:37:12.523924Z",
     "shell.execute_reply.started": "2025-08-28T08:37:12.338669Z"
    },
    "trusted": true
   },
   "outputs": [
    {
     "name": "stdout",
     "output_type": "stream",
     "text": [
      "Train set categorical shape: (125972, 84)\n",
      "Test set categorical shape: (22543, 84)\n",
      "Column names match: True\n"
     ]
    },
    {
     "data": {
      "text/html": [
       "<div>\n",
       "<style scoped>\n",
       "    .dataframe tbody tr th:only-of-type {\n",
       "        vertical-align: middle;\n",
       "    }\n",
       "\n",
       "    .dataframe tbody tr th {\n",
       "        vertical-align: top;\n",
       "    }\n",
       "\n",
       "    .dataframe thead th {\n",
       "        text-align: right;\n",
       "    }\n",
       "</style>\n",
       "<table border=\"1\" class=\"dataframe\">\n",
       "  <thead>\n",
       "    <tr style=\"text-align: right;\">\n",
       "      <th></th>\n",
       "      <th>Protocol_type_icmp</th>\n",
       "      <th>Protocol_type_tcp</th>\n",
       "      <th>Protocol_type_udp</th>\n",
       "      <th>service_IRC</th>\n",
       "      <th>service_X11</th>\n",
       "      <th>service_Z39_50</th>\n",
       "      <th>service_aol</th>\n",
       "      <th>service_auth</th>\n",
       "      <th>service_bgp</th>\n",
       "      <th>service_courier</th>\n",
       "      <th>...</th>\n",
       "      <th>flag_REJ</th>\n",
       "      <th>flag_RSTO</th>\n",
       "      <th>flag_RSTOS0</th>\n",
       "      <th>flag_RSTR</th>\n",
       "      <th>flag_S0</th>\n",
       "      <th>flag_S1</th>\n",
       "      <th>flag_S2</th>\n",
       "      <th>flag_S3</th>\n",
       "      <th>flag_SF</th>\n",
       "      <th>flag_SH</th>\n",
       "    </tr>\n",
       "  </thead>\n",
       "  <tbody>\n",
       "    <tr>\n",
       "      <th>0</th>\n",
       "      <td>0.0</td>\n",
       "      <td>0.0</td>\n",
       "      <td>1.0</td>\n",
       "      <td>0.0</td>\n",
       "      <td>0.0</td>\n",
       "      <td>0.0</td>\n",
       "      <td>0.0</td>\n",
       "      <td>0.0</td>\n",
       "      <td>0.0</td>\n",
       "      <td>0.0</td>\n",
       "      <td>...</td>\n",
       "      <td>0.0</td>\n",
       "      <td>0.0</td>\n",
       "      <td>0.0</td>\n",
       "      <td>0.0</td>\n",
       "      <td>0.0</td>\n",
       "      <td>0.0</td>\n",
       "      <td>0.0</td>\n",
       "      <td>0.0</td>\n",
       "      <td>1.0</td>\n",
       "      <td>0.0</td>\n",
       "    </tr>\n",
       "    <tr>\n",
       "      <th>1</th>\n",
       "      <td>0.0</td>\n",
       "      <td>1.0</td>\n",
       "      <td>0.0</td>\n",
       "      <td>0.0</td>\n",
       "      <td>0.0</td>\n",
       "      <td>0.0</td>\n",
       "      <td>0.0</td>\n",
       "      <td>0.0</td>\n",
       "      <td>0.0</td>\n",
       "      <td>0.0</td>\n",
       "      <td>...</td>\n",
       "      <td>0.0</td>\n",
       "      <td>0.0</td>\n",
       "      <td>0.0</td>\n",
       "      <td>0.0</td>\n",
       "      <td>1.0</td>\n",
       "      <td>0.0</td>\n",
       "      <td>0.0</td>\n",
       "      <td>0.0</td>\n",
       "      <td>0.0</td>\n",
       "      <td>0.0</td>\n",
       "    </tr>\n",
       "    <tr>\n",
       "      <th>2</th>\n",
       "      <td>0.0</td>\n",
       "      <td>1.0</td>\n",
       "      <td>0.0</td>\n",
       "      <td>0.0</td>\n",
       "      <td>0.0</td>\n",
       "      <td>0.0</td>\n",
       "      <td>0.0</td>\n",
       "      <td>0.0</td>\n",
       "      <td>0.0</td>\n",
       "      <td>0.0</td>\n",
       "      <td>...</td>\n",
       "      <td>0.0</td>\n",
       "      <td>0.0</td>\n",
       "      <td>0.0</td>\n",
       "      <td>0.0</td>\n",
       "      <td>0.0</td>\n",
       "      <td>0.0</td>\n",
       "      <td>0.0</td>\n",
       "      <td>0.0</td>\n",
       "      <td>1.0</td>\n",
       "      <td>0.0</td>\n",
       "    </tr>\n",
       "    <tr>\n",
       "      <th>3</th>\n",
       "      <td>0.0</td>\n",
       "      <td>1.0</td>\n",
       "      <td>0.0</td>\n",
       "      <td>0.0</td>\n",
       "      <td>0.0</td>\n",
       "      <td>0.0</td>\n",
       "      <td>0.0</td>\n",
       "      <td>0.0</td>\n",
       "      <td>0.0</td>\n",
       "      <td>0.0</td>\n",
       "      <td>...</td>\n",
       "      <td>0.0</td>\n",
       "      <td>0.0</td>\n",
       "      <td>0.0</td>\n",
       "      <td>0.0</td>\n",
       "      <td>0.0</td>\n",
       "      <td>0.0</td>\n",
       "      <td>0.0</td>\n",
       "      <td>0.0</td>\n",
       "      <td>1.0</td>\n",
       "      <td>0.0</td>\n",
       "    </tr>\n",
       "    <tr>\n",
       "      <th>4</th>\n",
       "      <td>0.0</td>\n",
       "      <td>1.0</td>\n",
       "      <td>0.0</td>\n",
       "      <td>0.0</td>\n",
       "      <td>0.0</td>\n",
       "      <td>0.0</td>\n",
       "      <td>0.0</td>\n",
       "      <td>0.0</td>\n",
       "      <td>0.0</td>\n",
       "      <td>0.0</td>\n",
       "      <td>...</td>\n",
       "      <td>1.0</td>\n",
       "      <td>0.0</td>\n",
       "      <td>0.0</td>\n",
       "      <td>0.0</td>\n",
       "      <td>0.0</td>\n",
       "      <td>0.0</td>\n",
       "      <td>0.0</td>\n",
       "      <td>0.0</td>\n",
       "      <td>0.0</td>\n",
       "      <td>0.0</td>\n",
       "    </tr>\n",
       "  </tbody>\n",
       "</table>\n",
       "<p>5 rows × 84 columns</p>\n",
       "</div>"
      ],
      "text/plain": [
       "   Protocol_type_icmp  Protocol_type_tcp  Protocol_type_udp  service_IRC  \\\n",
       "0                 0.0                0.0                1.0          0.0   \n",
       "1                 0.0                1.0                0.0          0.0   \n",
       "2                 0.0                1.0                0.0          0.0   \n",
       "3                 0.0                1.0                0.0          0.0   \n",
       "4                 0.0                1.0                0.0          0.0   \n",
       "\n",
       "   service_X11  service_Z39_50  service_aol  service_auth  service_bgp  \\\n",
       "0          0.0             0.0          0.0           0.0          0.0   \n",
       "1          0.0             0.0          0.0           0.0          0.0   \n",
       "2          0.0             0.0          0.0           0.0          0.0   \n",
       "3          0.0             0.0          0.0           0.0          0.0   \n",
       "4          0.0             0.0          0.0           0.0          0.0   \n",
       "\n",
       "   service_courier  ...  flag_REJ  flag_RSTO  flag_RSTOS0  flag_RSTR  flag_S0  \\\n",
       "0              0.0  ...       0.0        0.0          0.0        0.0      0.0   \n",
       "1              0.0  ...       0.0        0.0          0.0        0.0      1.0   \n",
       "2              0.0  ...       0.0        0.0          0.0        0.0      0.0   \n",
       "3              0.0  ...       0.0        0.0          0.0        0.0      0.0   \n",
       "4              0.0  ...       1.0        0.0          0.0        0.0      0.0   \n",
       "\n",
       "   flag_S1  flag_S2  flag_S3  flag_SF  flag_SH  \n",
       "0      0.0      0.0      0.0      1.0      0.0  \n",
       "1      0.0      0.0      0.0      0.0      0.0  \n",
       "2      0.0      0.0      0.0      1.0      0.0  \n",
       "3      0.0      0.0      0.0      1.0      0.0  \n",
       "4      0.0      0.0      0.0      0.0      0.0  \n",
       "\n",
       "[5 rows x 84 columns]"
      ]
     },
     "execution_count": 92,
     "metadata": {},
     "output_type": "execute_result"
    }
   ],
   "source": [
    "# OneHot encoding with proper handling of different categorical values\n",
    "from sklearn.preprocessing import OneHotEncoder\n",
    "import pandas as pd\n",
    "\n",
    "# Combine train and test categorical data to capture all possible categories\n",
    "combined_categorical = pd.concat([df_categorical_values_enc, testdf_categorical_values_enc], ignore_index=True)\n",
    "\n",
    "# Fit encoder on combined data to handle all categories consistently\n",
    "enc = OneHotEncoder(sparse_output=False, handle_unknown='ignore')\n",
    "enc.fit(combined_categorical)\n",
    "\n",
    "# Transform train and test sets\n",
    "df_categorical_values_encenc = enc.transform(df_categorical_values_enc)\n",
    "df_cat_data = pd.DataFrame(df_categorical_values_encenc, columns=dumcols)\n",
    "\n",
    "testdf_categorical_values_encenc = enc.transform(testdf_categorical_values_enc)\n",
    "testdf_cat_data = pd.DataFrame(testdf_categorical_values_encenc, columns=dumcols)\n",
    "\n",
    "print(f\"Train set categorical shape: {df_cat_data.shape}\")\n",
    "print(f\"Test set categorical shape: {testdf_cat_data.shape}\")\n",
    "print(f\"Column names match: {list(df_cat_data.columns) == list(testdf_cat_data.columns)}\")\n",
    "\n",
    "df_cat_data.head()"
   ]
  },
  {
   "cell_type": "code",
   "execution_count": 93,
   "id": "a6442620",
   "metadata": {
    "execution": {
     "iopub.execute_input": "2025-08-28T08:37:12.525354Z",
     "iopub.status.busy": "2025-08-28T08:37:12.525159Z",
     "iopub.status.idle": "2025-08-28T08:37:12.529742Z",
     "shell.execute_reply": "2025-08-28T08:37:12.529043Z",
     "shell.execute_reply.started": "2025-08-28T08:37:12.525338Z"
    },
    "trusted": true
   },
   "outputs": [
    {
     "name": "stdout",
     "output_type": "stream",
     "text": [
      "Column structure verification:\n",
      "Train categorical shape: (125972, 84)\n",
      "Test categorical shape: (22543, 84)\n",
      "Columns match: True\n"
     ]
    }
   ],
   "source": [
    "# Verify column structure consistency\n",
    "print(\"Column structure verification:\")\n",
    "print(f\"Train categorical shape: {df_cat_data.shape}\")\n",
    "print(f\"Test categorical shape: {testdf_cat_data.shape}\")\n",
    "print(f\"Columns match: {df_cat_data.shape[1] == testdf_cat_data.shape[1]}\")"
   ]
  },
  {
   "cell_type": "code",
   "execution_count": 94,
   "id": "a127a77f",
   "metadata": {
    "execution": {
     "iopub.execute_input": "2025-08-28T08:37:12.530751Z",
     "iopub.status.busy": "2025-08-28T08:37:12.530533Z",
     "iopub.status.idle": "2025-08-28T08:37:12.546328Z",
     "shell.execute_reply": "2025-08-28T08:37:12.545817Z",
     "shell.execute_reply.started": "2025-08-28T08:37:12.530735Z"
    },
    "trusted": true
   },
   "outputs": [
    {
     "name": "stdout",
     "output_type": "stream",
     "text": [
      "Column structure consistency achieved\n",
      "Final train categorical shape: (125972, 84)\n",
      "Final test categorical shape: (22543, 84)\n",
      "Verification complete - ready to proceed\n"
     ]
    }
   ],
   "source": [
    "# Final verification of column structure consistency\n",
    "print(\"Column structure consistency achieved\")\n",
    "\n",
    "print(f\"Final train categorical shape: {df_cat_data.shape}\")\n",
    "print(f\"Final test categorical shape: {testdf_cat_data.shape}\")\n",
    "assert df_cat_data.shape[1] == testdf_cat_data.shape[1], \"Column count mismatch!\"\n",
    "print(\"Verification complete - ready to proceed\")"
   ]
  },
  {
   "cell_type": "code",
   "execution_count": 95,
   "id": "972bda2b",
   "metadata": {
    "execution": {
     "iopub.execute_input": "2025-08-28T08:37:12.547162Z",
     "iopub.status.busy": "2025-08-28T08:37:12.546989Z",
     "iopub.status.idle": "2025-08-28T08:37:13.039732Z",
     "shell.execute_reply": "2025-08-28T08:37:13.038922Z",
     "shell.execute_reply.started": "2025-08-28T08:37:12.547148Z"
    },
    "trusted": true
   },
   "outputs": [
    {
     "name": "stdout",
     "output_type": "stream",
     "text": [
      "(125972, 124)\n",
      "(22543, 124)\n",
      "(125972, 124)\n",
      "(22543, 124)\n"
     ]
    }
   ],
   "source": [
    "newdf=df.join(df_cat_data)\n",
    "newdf.drop('flag', axis=1, inplace=True)\n",
    "newdf.drop('protocol_type', axis=1, inplace=True)\n",
    "newdf.drop('service', axis=1, inplace=True)\n",
    "# test data\n",
    "newdf_test=test_df.join(testdf_cat_data)\n",
    "newdf_test.drop('flag', axis=1, inplace=True)\n",
    "newdf_test.drop('protocol_type', axis=1, inplace=True)\n",
    "newdf_test.drop('service', axis=1, inplace=True)\n",
    "print(newdf.shape)\n",
    "print(newdf_test.shape)\n",
    "newdf=df.join(df_cat_data)\n",
    "newdf.drop('flag', axis=1, inplace=True)\n",
    "newdf.drop('protocol_type', axis=1, inplace=True)\n",
    "newdf.drop('service', axis=1, inplace=True)\n",
    "# test data\n",
    "newdf_test=test_df.join(testdf_cat_data)\n",
    "newdf_test.drop('flag', axis=1, inplace=True)\n",
    "newdf_test.drop('protocol_type', axis=1, inplace=True)\n",
    "newdf_test.drop('service', axis=1, inplace=True)\n",
    "print(newdf.shape)\n",
    "print(newdf_test.shape)"
   ]
  },
  {
   "cell_type": "code",
   "execution_count": null,
   "id": "b9f48053",
   "metadata": {
    "execution": {
     "iopub.execute_input": "2025-08-28T08:37:13.040851Z",
     "iopub.status.busy": "2025-08-28T08:37:13.040550Z",
     "iopub.status.idle": "2025-08-28T08:37:13.241394Z",
     "shell.execute_reply": "2025-08-28T08:37:13.240775Z",
     "shell.execute_reply.started": "2025-08-28T08:37:13.040833Z"
    },
    "trusted": true
   },
   "outputs": [
    {
     "name": "stdout",
     "output_type": "stream",
     "text": [
      "0    0\n",
      "1    1\n",
      "2    0\n",
      "3    0\n",
      "4    1\n",
      "Name: attack, dtype: int64\n"
     ]
    },
    {
     "name": "stderr",
     "output_type": "stream",
     "text": [
      "/tmp/ipykernel_36/3327160078.py:5: FutureWarning: Downcasting behavior in `replace` is deprecated and will be removed in a future version. To retain the old behavior, explicitly call `result.infer_objects(copy=False)`. To opt-in to the future behavior, set `pd.set_option('future.no_silent_downcasting', True)`\n",
      "  newlabeldf=labeldf.replace({ 'normal' : 0, 'neptune' : 1 ,'back': 1, 'land': 1, 'pod': 1, 'smurf': 1, 'teardrop': 1,'mailbomb': 1, 'apache2': 1, 'processtable': 1, 'udpstorm': 1, 'worm': 1,\n",
      "/tmp/ipykernel_36/3327160078.py:9: FutureWarning: Downcasting behavior in `replace` is deprecated and will be removed in a future version. To retain the old behavior, explicitly call `result.infer_objects(copy=False)`. To opt-in to the future behavior, set `pd.set_option('future.no_silent_downcasting', True)`\n",
      "  newlabeldf_test=labeldf_test.replace({ 'normal' : 0, 'neptune' : 1 ,'back': 1, 'land': 1, 'pod': 1, 'smurf': 1, 'teardrop': 1,'mailbomb': 1, 'apache2': 1, 'processtable': 1, 'udpstorm': 1, 'worm': 1,\n"
     ]
    }
   ],
   "source": [
    "# take label column\n",
    "labeldf=newdf['attack']\n",
    "labeldf_test=newdf_test['attack']\n",
    "# change the label column\n",
    "newlabeldf=labeldf.replace({ 'normal' : 0, 'neptune' : 1 ,'back': 1, 'land': 1, 'pod': 1, 'smurf': 1, 'teardrop': 1,'mailbomb': 1, 'apache2': 1, 'processtable': 1, 'udpstorm': 1, 'worm': 1,\n",
    "                           'ipsweep' : 2,'nmap' : 2,'portsweep' : 2,'satan' : 2,'mscan' : 2,'saint' : 2\n",
    "                           ,'ftp_write': 3,'guess_passwd': 3,'imap': 3,'multihop': 3,'phf': 3,'spy': 3,'warezclient': 3,'warezmaster': 3,'sendmail': 3,'named': 3,'snmpgetattack': 3,'snmpguess': 3,'xlock': 3,'xsnoop': 3,'httptunnel': 3,\n",
    "                           'buffer_overflow': 4,'loadmodule': 4,'perl': 4,'rootkit': 4,'ps': 4,'sqlattack': 4,'xterm': 4})\n",
    "newlabeldf_test=labeldf_test.replace({ 'normal' : 0, 'neptune' : 1 ,'back': 1, 'land': 1, 'pod': 1, 'smurf': 1, 'teardrop': 1,'mailbomb': 1, 'apache2': 1, 'processtable': 1, 'udpstorm': 1, 'worm': 1,\n",
    "                           'ipsweep' : 2,'nmap' : 2,'portsweep' : 2,'satan' : 2,'mscan' : 2,'saint' : 2\n",
    "                           ,'ftp_write': 3,'guess_passwd': 3,'imap': 3,'multihop': 3,'phf': 3,'spy': 3,'warezclient': 3,'warezmaster': 3,'sendmail': 3,'named': 3,'snmpgetattack': 3,'snmpguess': 3,'xlock': 3,'xsnoop': 3,'httptunnel': 3,\n",
    "                           'buffer_overflow': 4,'loadmodule': 4,'perl': 4,'rootkit': 4,'ps': 4,'sqlattack': 4,'xterm': 4})\n",
    "# put the new label column back\n",
    "newdf['attack'] = newlabeldf\n",
    "newdf_test['attack'] = newlabeldf_test\n",
    "print(newdf['attack'].head())\n"
   ]
  },
  {
   "cell_type": "code",
   "execution_count": 97,
   "id": "7943b81e",
   "metadata": {
    "execution": {
     "iopub.execute_input": "2025-08-28T08:37:13.242382Z",
     "iopub.status.busy": "2025-08-28T08:37:13.242117Z",
     "iopub.status.idle": "2025-08-28T08:37:13.381291Z",
     "shell.execute_reply": "2025-08-28T08:37:13.380657Z",
     "shell.execute_reply.started": "2025-08-28T08:37:13.242359Z"
    },
    "trusted": true
   },
   "outputs": [
    {
     "name": "stdout",
     "output_type": "stream",
     "text": [
      "Train:\n",
      "Dimensions of DoS: (113269, 124)\n",
      "Dimensions of Probe: (78998, 124)\n",
      "Dimensions of R2L: (68337, 124)\n",
      "Dimensions of U2R: (67394, 124)\n",
      "Test:\n",
      "Dimensions of DoS: (17170, 124)\n",
      "Dimensions of Probe: (12132, 124)\n",
      "Dimensions of R2L: (12596, 124)\n",
      "Dimensions of U2R: (9778, 124)\n"
     ]
    }
   ],
   "source": [
    "to_drop_DoS = [2,3,4]\n",
    "to_drop_Probe = [1,3,4]\n",
    "to_drop_R2L = [1,2,4]\n",
    "to_drop_U2R = [1,2,3]\n",
    "DoS_df=newdf[~newdf['attack'].isin(to_drop_DoS)];\n",
    "Probe_df=newdf[~newdf['attack'].isin(to_drop_Probe)];\n",
    "R2L_df=newdf[~newdf['attack'].isin(to_drop_R2L)];\n",
    "U2R_df=newdf[~newdf['attack'].isin(to_drop_U2R)];\n",
    "\n",
    "#test\n",
    "DoS_df_test=newdf_test[~newdf_test['attack'].isin(to_drop_DoS)];\n",
    "Probe_df_test=newdf_test[~newdf_test['attack'].isin(to_drop_Probe)];\n",
    "R2L_df_test=newdf_test[~newdf_test['attack'].isin(to_drop_R2L)];\n",
    "U2R_df_test=newdf_test[~newdf_test['attack'].isin(to_drop_U2R)];\n",
    "print('Train:')\n",
    "print('Dimensions of DoS:' ,DoS_df.shape)\n",
    "print('Dimensions of Probe:' ,Probe_df.shape)\n",
    "print('Dimensions of R2L:' ,R2L_df.shape)\n",
    "print('Dimensions of U2R:' ,U2R_df.shape)\n",
    "print('Test:')\n",
    "print('Dimensions of DoS:' ,DoS_df_test.shape)\n",
    "print('Dimensions of Probe:' ,Probe_df_test.shape)\n",
    "print('Dimensions of R2L:' ,R2L_df_test.shape)\n",
    "print('Dimensions of U2R:' ,U2R_df_test.shape)"
   ]
  },
  {
   "cell_type": "code",
   "execution_count": 98,
   "id": "226601c5",
   "metadata": {
    "execution": {
     "iopub.execute_input": "2025-08-28T08:37:13.382227Z",
     "iopub.status.busy": "2025-08-28T08:37:13.381976Z",
     "iopub.status.idle": "2025-08-28T08:37:13.486068Z",
     "shell.execute_reply": "2025-08-28T08:37:13.485384Z",
     "shell.execute_reply.started": "2025-08-28T08:37:13.382210Z"
    },
    "trusted": true
   },
   "outputs": [],
   "source": [
    "# Split dataframes into X & Y\n",
    "# assign X as a dataframe of feautures and Y as a series of outcome variables\n",
    "X_DoS = DoS_df.drop('attack', axis=1)\n",
    "Y_DoS = DoS_df.attack\n",
    "X_Probe = Probe_df.drop('attack', axis=1)\n",
    "Y_Probe = Probe_df.attack\n",
    "X_R2L = R2L_df.drop('attack', axis=1)\n",
    "Y_R2L = R2L_df.attack\n",
    "X_U2R = U2R_df.drop('attack', axis=1)\n",
    "Y_U2R = U2R_df.attack\n",
    "# test set\n",
    "X_DoS_test = DoS_df_test.drop('attack', axis=1)\n",
    "Y_DoS_test = DoS_df_test.attack\n",
    "X_Probe_test = Probe_df_test.drop('attack', axis=1)\n",
    "Y_Probe_test = Probe_df_test.attack\n",
    "X_R2L_test = R2L_df_test.drop('attack', axis=1)\n",
    "Y_R2L_test = R2L_df_test.attack\n",
    "X_U2R_test = U2R_df_test.drop('attack', axis=1)\n",
    "Y_U2R_test = U2R_df_test.attack"
   ]
  },
  {
   "cell_type": "code",
   "execution_count": 99,
   "id": "3d1416f8",
   "metadata": {
    "execution": {
     "iopub.execute_input": "2025-08-28T08:37:13.487046Z",
     "iopub.status.busy": "2025-08-28T08:37:13.486787Z",
     "iopub.status.idle": "2025-08-28T08:37:13.490535Z",
     "shell.execute_reply": "2025-08-28T08:37:13.489775Z",
     "shell.execute_reply.started": "2025-08-28T08:37:13.487022Z"
    },
    "trusted": true
   },
   "outputs": [],
   "source": [
    "colNames=list(X_DoS)\n",
    "colNames_test=list(X_DoS_test)"
   ]
  },
  {
   "cell_type": "code",
   "execution_count": 100,
   "id": "fe3614d3",
   "metadata": {
    "execution": {
     "iopub.execute_input": "2025-08-28T08:37:13.491631Z",
     "iopub.status.busy": "2025-08-28T08:37:13.491374Z",
     "iopub.status.idle": "2025-08-28T08:37:13.798350Z",
     "shell.execute_reply": "2025-08-28T08:37:13.797497Z",
     "shell.execute_reply.started": "2025-08-28T08:37:13.491609Z"
    },
    "trusted": true
   },
   "outputs": [],
   "source": [
    "from sklearn import preprocessing\n",
    "\n",
    "# Feature scaling - fit on training data, transform both train and test\n",
    "scaler_DoS = preprocessing.StandardScaler().fit(X_DoS)\n",
    "X_DoS = scaler_DoS.transform(X_DoS)\n",
    "X_DoS_test = scaler_DoS.transform(X_DoS_test)"
   ]
  },
  {
   "cell_type": "code",
   "execution_count": 101,
   "id": "cf5860e4",
   "metadata": {
    "execution": {
     "iopub.execute_input": "2025-08-28T08:37:13.799447Z",
     "iopub.status.busy": "2025-08-28T08:37:13.799188Z",
     "iopub.status.idle": "2025-08-28T08:37:13.861031Z",
     "shell.execute_reply": "2025-08-28T08:37:13.860233Z",
     "shell.execute_reply.started": "2025-08-28T08:37:13.799420Z"
    },
    "trusted": true
   },
   "outputs": [
    {
     "name": "stdout",
     "output_type": "stream",
     "text": [
      "Standard deviation check (should be ~1.0):\n",
      "[1. 1. 1. 1. 1. 1. 1. 1. 1. 1.]\n"
     ]
    }
   ],
   "source": [
    "# Verify standardization results\n",
    "print(\"Standard deviation check (should be ~1.0):\")\n",
    "print(X_DoS.std(axis=0)[:10])  # Show first 10 features"
   ]
  },
  {
   "cell_type": "code",
   "execution_count": 102,
   "id": "16f6a879",
   "metadata": {
    "execution": {
     "iopub.execute_input": "2025-08-28T08:37:13.862124Z",
     "iopub.status.busy": "2025-08-28T08:37:13.861887Z",
     "iopub.status.idle": "2025-08-28T08:37:14.068458Z",
     "shell.execute_reply": "2025-08-28T08:37:14.067800Z",
     "shell.execute_reply.started": "2025-08-28T08:37:13.862098Z"
    },
    "trusted": true
   },
   "outputs": [
    {
     "name": "stderr",
     "output_type": "stream",
     "text": [
      "/usr/local/lib/python3.11/dist-packages/sklearn/feature_selection/_univariate_selection.py:112: UserWarning: Features [ 16  45  64  67  69  87 115] are constant.\n",
      "  warnings.warn(\"Features %s are constant.\" % constant_features_idx, UserWarning)\n"
     ]
    },
    {
     "data": {
      "text/plain": [
       "(113269, 13)"
      ]
     },
     "execution_count": 102,
     "metadata": {},
     "output_type": "execute_result"
    }
   ],
   "source": [
    "from sklearn.feature_selection import SelectPercentile, f_classif\n",
    "np.seterr(divide='ignore', invalid='ignore');\n",
    "selector=SelectPercentile(f_classif, percentile=10)\n",
    "X_newDoS = selector.fit_transform(X_DoS,Y_DoS)\n",
    "X_newDoS.shape"
   ]
  },
  {
   "cell_type": "code",
   "execution_count": 103,
   "id": "48c4cc00",
   "metadata": {
    "execution": {
     "iopub.execute_input": "2025-08-28T08:37:14.069301Z",
     "iopub.status.busy": "2025-08-28T08:37:14.069119Z",
     "iopub.status.idle": "2025-08-28T08:37:14.075534Z",
     "shell.execute_reply": "2025-08-28T08:37:14.074823Z",
     "shell.execute_reply.started": "2025-08-28T08:37:14.069287Z"
    },
    "trusted": true
   },
   "outputs": [
    {
     "data": {
      "text/plain": [
       "['logged_in',\n",
       " 'count',\n",
       " 'serror_rate',\n",
       " 'srv_serror_rate',\n",
       " 'same_srv_rate',\n",
       " 'dst_host_count',\n",
       " 'dst_host_srv_count',\n",
       " 'dst_host_same_srv_rate',\n",
       " 'dst_host_serror_rate',\n",
       " 'dst_host_srv_serror_rate',\n",
       " 'service_http',\n",
       " 'flag_S0',\n",
       " 'flag_SF']"
      ]
     },
     "execution_count": 103,
     "metadata": {},
     "output_type": "execute_result"
    }
   ],
   "source": [
    "true=selector.get_support()\n",
    "newcolindex_DoS=[i for i, x in enumerate(true) if x]\n",
    "newcolname_DoS=list( colNames[i] for i in newcolindex_DoS )\n",
    "newcolname_DoS"
   ]
  },
  {
   "cell_type": "code",
   "execution_count": 104,
   "id": "70624d33",
   "metadata": {
    "execution": {
     "iopub.execute_input": "2025-08-28T08:37:14.076278Z",
     "iopub.status.busy": "2025-08-28T08:37:14.076102Z",
     "iopub.status.idle": "2025-08-28T08:38:06.359029Z",
     "shell.execute_reply": "2025-08-28T08:38:06.358449Z",
     "shell.execute_reply.started": "2025-08-28T08:37:14.076264Z"
    },
    "trusted": true
   },
   "outputs": [],
   "source": [
    "from sklearn.feature_selection import RFE\n",
    "clf = DecisionTreeClassifier(random_state=0)\n",
    "rfe = RFE(estimator=clf, n_features_to_select=13, step=1)\n",
    "rfe.fit(X_DoS, Y_DoS)\n",
    "X_rfeDoS=rfe.transform(X_DoS)\n",
    "true=rfe.support_\n",
    "rfecolindex_DoS=[i for i, x in enumerate(true) if x]\n",
    "rfecolname_DoS=list(colNames[i] for i in rfecolindex_DoS)"
   ]
  },
  {
   "cell_type": "code",
   "execution_count": 105,
   "id": "8da48291",
   "metadata": {
    "execution": {
     "iopub.execute_input": "2025-08-28T08:38:06.359883Z",
     "iopub.status.busy": "2025-08-28T08:38:06.359677Z",
     "iopub.status.idle": "2025-08-28T08:38:06.364187Z",
     "shell.execute_reply": "2025-08-28T08:38:06.363522Z",
     "shell.execute_reply.started": "2025-08-28T08:38:06.359867Z"
    },
    "trusted": true
   },
   "outputs": [
    {
     "name": "stdout",
     "output_type": "stream",
     "text": [
      "Features selected for DoS classification:\n",
      "  - src_bytes\n",
      "  - dst_bytes\n",
      "  - wrong_fragment\n",
      "  - count\n",
      "  - same_srv_rate\n",
      "  - dst_host_srv_count\n",
      "  - dst_host_same_srv_rate\n",
      "  - dst_host_serror_rate\n",
      "  - dst_host_srv_serror_rate\n",
      "  - level\n",
      "  - service_X11\n",
      "  - service_ecr_i\n",
      "  - service_ftp_data\n"
     ]
    }
   ],
   "source": [
    "# Display selected features for DoS classification\n",
    "print('Features selected for DoS classification:')\n",
    "for feature in rfecolname_DoS:\n",
    "    print(f\"  - {feature}\")"
   ]
  },
  {
   "cell_type": "code",
   "execution_count": 106,
   "id": "2163ba21",
   "metadata": {
    "execution": {
     "iopub.execute_input": "2025-08-28T08:38:06.365130Z",
     "iopub.status.busy": "2025-08-28T08:38:06.364907Z",
     "iopub.status.idle": "2025-08-28T08:38:06.387303Z",
     "shell.execute_reply": "2025-08-28T08:38:06.386823Z",
     "shell.execute_reply.started": "2025-08-28T08:38:06.365111Z"
    },
    "trusted": true
   },
   "outputs": [
    {
     "name": "stdout",
     "output_type": "stream",
     "text": [
      "(113269, 13)\n"
     ]
    }
   ],
   "source": [
    "print(X_rfeDoS.shape)"
   ]
  },
  {
   "cell_type": "code",
   "execution_count": 107,
   "id": "d4194bec",
   "metadata": {
    "execution": {
     "iopub.execute_input": "2025-08-28T08:38:06.388252Z",
     "iopub.status.busy": "2025-08-28T08:38:06.387965Z",
     "iopub.status.idle": "2025-08-28T08:38:07.040455Z",
     "shell.execute_reply": "2025-08-28T08:38:07.039893Z",
     "shell.execute_reply.started": "2025-08-28T08:38:06.388227Z"
    },
    "trusted": true
   },
   "outputs": [
    {
     "data": {
      "text/html": [
       "<style>#sk-container-id-3 {color: black;background-color: white;}#sk-container-id-3 pre{padding: 0;}#sk-container-id-3 div.sk-toggleable {background-color: white;}#sk-container-id-3 label.sk-toggleable__label {cursor: pointer;display: block;width: 100%;margin-bottom: 0;padding: 0.3em;box-sizing: border-box;text-align: center;}#sk-container-id-3 label.sk-toggleable__label-arrow:before {content: \"▸\";float: left;margin-right: 0.25em;color: #696969;}#sk-container-id-3 label.sk-toggleable__label-arrow:hover:before {color: black;}#sk-container-id-3 div.sk-estimator:hover label.sk-toggleable__label-arrow:before {color: black;}#sk-container-id-3 div.sk-toggleable__content {max-height: 0;max-width: 0;overflow: hidden;text-align: left;background-color: #f0f8ff;}#sk-container-id-3 div.sk-toggleable__content pre {margin: 0.2em;color: black;border-radius: 0.25em;background-color: #f0f8ff;}#sk-container-id-3 input.sk-toggleable__control:checked~div.sk-toggleable__content {max-height: 200px;max-width: 100%;overflow: auto;}#sk-container-id-3 input.sk-toggleable__control:checked~label.sk-toggleable__label-arrow:before {content: \"▾\";}#sk-container-id-3 div.sk-estimator input.sk-toggleable__control:checked~label.sk-toggleable__label {background-color: #d4ebff;}#sk-container-id-3 div.sk-label input.sk-toggleable__control:checked~label.sk-toggleable__label {background-color: #d4ebff;}#sk-container-id-3 input.sk-hidden--visually {border: 0;clip: rect(1px 1px 1px 1px);clip: rect(1px, 1px, 1px, 1px);height: 1px;margin: -1px;overflow: hidden;padding: 0;position: absolute;width: 1px;}#sk-container-id-3 div.sk-estimator {font-family: monospace;background-color: #f0f8ff;border: 1px dotted black;border-radius: 0.25em;box-sizing: border-box;margin-bottom: 0.5em;}#sk-container-id-3 div.sk-estimator:hover {background-color: #d4ebff;}#sk-container-id-3 div.sk-parallel-item::after {content: \"\";width: 100%;border-bottom: 1px solid gray;flex-grow: 1;}#sk-container-id-3 div.sk-label:hover label.sk-toggleable__label {background-color: #d4ebff;}#sk-container-id-3 div.sk-serial::before {content: \"\";position: absolute;border-left: 1px solid gray;box-sizing: border-box;top: 0;bottom: 0;left: 50%;z-index: 0;}#sk-container-id-3 div.sk-serial {display: flex;flex-direction: column;align-items: center;background-color: white;padding-right: 0.2em;padding-left: 0.2em;position: relative;}#sk-container-id-3 div.sk-item {position: relative;z-index: 1;}#sk-container-id-3 div.sk-parallel {display: flex;align-items: stretch;justify-content: center;background-color: white;position: relative;}#sk-container-id-3 div.sk-item::before, #sk-container-id-3 div.sk-parallel-item::before {content: \"\";position: absolute;border-left: 1px solid gray;box-sizing: border-box;top: 0;bottom: 0;left: 50%;z-index: -1;}#sk-container-id-3 div.sk-parallel-item {display: flex;flex-direction: column;z-index: 1;position: relative;background-color: white;}#sk-container-id-3 div.sk-parallel-item:first-child::after {align-self: flex-end;width: 50%;}#sk-container-id-3 div.sk-parallel-item:last-child::after {align-self: flex-start;width: 50%;}#sk-container-id-3 div.sk-parallel-item:only-child::after {width: 0;}#sk-container-id-3 div.sk-dashed-wrapped {border: 1px dashed gray;margin: 0 0.4em 0.5em 0.4em;box-sizing: border-box;padding-bottom: 0.4em;background-color: white;}#sk-container-id-3 div.sk-label label {font-family: monospace;font-weight: bold;display: inline-block;line-height: 1.2em;}#sk-container-id-3 div.sk-label-container {text-align: center;}#sk-container-id-3 div.sk-container {/* jupyter's `normalize.less` sets `[hidden] { display: none; }` but bootstrap.min.css set `[hidden] { display: none !important; }` so we also need the `!important` here to be able to override the default hidden behavior on the sphinx rendered scikit-learn.org. See: https://github.com/scikit-learn/scikit-learn/issues/21755 */display: inline-block !important;position: relative;}#sk-container-id-3 div.sk-text-repr-fallback {display: none;}</style><div id=\"sk-container-id-3\" class=\"sk-top-container\"><div class=\"sk-text-repr-fallback\"><pre>DecisionTreeClassifier(random_state=0)</pre><b>In a Jupyter environment, please rerun this cell to show the HTML representation or trust the notebook. <br />On GitHub, the HTML representation is unable to render, please try loading this page with nbviewer.org.</b></div><div class=\"sk-container\" hidden><div class=\"sk-item\"><div class=\"sk-estimator sk-toggleable\"><input class=\"sk-toggleable__control sk-hidden--visually\" id=\"sk-estimator-id-3\" type=\"checkbox\" checked><label for=\"sk-estimator-id-3\" class=\"sk-toggleable__label sk-toggleable__label-arrow\">DecisionTreeClassifier</label><div class=\"sk-toggleable__content\"><pre>DecisionTreeClassifier(random_state=0)</pre></div></div></div></div></div>"
      ],
      "text/plain": [
       "DecisionTreeClassifier(random_state=0)"
      ]
     },
     "execution_count": 107,
     "metadata": {},
     "output_type": "execute_result"
    }
   ],
   "source": [
    "# Train decision tree classifier\n",
    "clf_DoS = DecisionTreeClassifier(random_state=0)\n",
    "\n",
    "# Fit classifier\n",
    "clf_DoS.fit(X_DoS, Y_DoS)"
   ]
  },
  {
   "cell_type": "code",
   "execution_count": 108,
   "id": "cdc6f5d7",
   "metadata": {
    "execution": {
     "iopub.execute_input": "2025-08-28T08:38:07.044223Z",
     "iopub.status.busy": "2025-08-28T08:38:07.043773Z",
     "iopub.status.idle": "2025-08-28T08:38:07.285509Z",
     "shell.execute_reply": "2025-08-28T08:38:07.284845Z",
     "shell.execute_reply.started": "2025-08-28T08:38:07.044206Z"
    },
    "trusted": true
   },
   "outputs": [
    {
     "data": {
      "text/html": [
       "<style>#sk-container-id-4 {color: black;background-color: white;}#sk-container-id-4 pre{padding: 0;}#sk-container-id-4 div.sk-toggleable {background-color: white;}#sk-container-id-4 label.sk-toggleable__label {cursor: pointer;display: block;width: 100%;margin-bottom: 0;padding: 0.3em;box-sizing: border-box;text-align: center;}#sk-container-id-4 label.sk-toggleable__label-arrow:before {content: \"▸\";float: left;margin-right: 0.25em;color: #696969;}#sk-container-id-4 label.sk-toggleable__label-arrow:hover:before {color: black;}#sk-container-id-4 div.sk-estimator:hover label.sk-toggleable__label-arrow:before {color: black;}#sk-container-id-4 div.sk-toggleable__content {max-height: 0;max-width: 0;overflow: hidden;text-align: left;background-color: #f0f8ff;}#sk-container-id-4 div.sk-toggleable__content pre {margin: 0.2em;color: black;border-radius: 0.25em;background-color: #f0f8ff;}#sk-container-id-4 input.sk-toggleable__control:checked~div.sk-toggleable__content {max-height: 200px;max-width: 100%;overflow: auto;}#sk-container-id-4 input.sk-toggleable__control:checked~label.sk-toggleable__label-arrow:before {content: \"▾\";}#sk-container-id-4 div.sk-estimator input.sk-toggleable__control:checked~label.sk-toggleable__label {background-color: #d4ebff;}#sk-container-id-4 div.sk-label input.sk-toggleable__control:checked~label.sk-toggleable__label {background-color: #d4ebff;}#sk-container-id-4 input.sk-hidden--visually {border: 0;clip: rect(1px 1px 1px 1px);clip: rect(1px, 1px, 1px, 1px);height: 1px;margin: -1px;overflow: hidden;padding: 0;position: absolute;width: 1px;}#sk-container-id-4 div.sk-estimator {font-family: monospace;background-color: #f0f8ff;border: 1px dotted black;border-radius: 0.25em;box-sizing: border-box;margin-bottom: 0.5em;}#sk-container-id-4 div.sk-estimator:hover {background-color: #d4ebff;}#sk-container-id-4 div.sk-parallel-item::after {content: \"\";width: 100%;border-bottom: 1px solid gray;flex-grow: 1;}#sk-container-id-4 div.sk-label:hover label.sk-toggleable__label {background-color: #d4ebff;}#sk-container-id-4 div.sk-serial::before {content: \"\";position: absolute;border-left: 1px solid gray;box-sizing: border-box;top: 0;bottom: 0;left: 50%;z-index: 0;}#sk-container-id-4 div.sk-serial {display: flex;flex-direction: column;align-items: center;background-color: white;padding-right: 0.2em;padding-left: 0.2em;position: relative;}#sk-container-id-4 div.sk-item {position: relative;z-index: 1;}#sk-container-id-4 div.sk-parallel {display: flex;align-items: stretch;justify-content: center;background-color: white;position: relative;}#sk-container-id-4 div.sk-item::before, #sk-container-id-4 div.sk-parallel-item::before {content: \"\";position: absolute;border-left: 1px solid gray;box-sizing: border-box;top: 0;bottom: 0;left: 50%;z-index: -1;}#sk-container-id-4 div.sk-parallel-item {display: flex;flex-direction: column;z-index: 1;position: relative;background-color: white;}#sk-container-id-4 div.sk-parallel-item:first-child::after {align-self: flex-end;width: 50%;}#sk-container-id-4 div.sk-parallel-item:last-child::after {align-self: flex-start;width: 50%;}#sk-container-id-4 div.sk-parallel-item:only-child::after {width: 0;}#sk-container-id-4 div.sk-dashed-wrapped {border: 1px dashed gray;margin: 0 0.4em 0.5em 0.4em;box-sizing: border-box;padding-bottom: 0.4em;background-color: white;}#sk-container-id-4 div.sk-label label {font-family: monospace;font-weight: bold;display: inline-block;line-height: 1.2em;}#sk-container-id-4 div.sk-label-container {text-align: center;}#sk-container-id-4 div.sk-container {/* jupyter's `normalize.less` sets `[hidden] { display: none; }` but bootstrap.min.css set `[hidden] { display: none !important; }` so we also need the `!important` here to be able to override the default hidden behavior on the sphinx rendered scikit-learn.org. See: https://github.com/scikit-learn/scikit-learn/issues/21755 */display: inline-block !important;position: relative;}#sk-container-id-4 div.sk-text-repr-fallback {display: none;}</style><div id=\"sk-container-id-4\" class=\"sk-top-container\"><div class=\"sk-text-repr-fallback\"><pre>DecisionTreeClassifier(random_state=0)</pre><b>In a Jupyter environment, please rerun this cell to show the HTML representation or trust the notebook. <br />On GitHub, the HTML representation is unable to render, please try loading this page with nbviewer.org.</b></div><div class=\"sk-container\" hidden><div class=\"sk-item\"><div class=\"sk-estimator sk-toggleable\"><input class=\"sk-toggleable__control sk-hidden--visually\" id=\"sk-estimator-id-4\" type=\"checkbox\" checked><label for=\"sk-estimator-id-4\" class=\"sk-toggleable__label sk-toggleable__label-arrow\">DecisionTreeClassifier</label><div class=\"sk-toggleable__content\"><pre>DecisionTreeClassifier(random_state=0)</pre></div></div></div></div></div>"
      ],
      "text/plain": [
       "DecisionTreeClassifier(random_state=0)"
      ]
     },
     "execution_count": 108,
     "metadata": {},
     "output_type": "execute_result"
    }
   ],
   "source": [
    "# Train classifier with RFE-selected features\n",
    "\n",
    "clf_rfeDoS = DecisionTreeClassifier(random_state=0)\n",
    "clf_rfeDoS.fit(X_rfeDoS, Y_DoS)"
   ]
  },
  {
   "cell_type": "code",
   "execution_count": 109,
   "id": "a0ba4c24",
   "metadata": {
    "execution": {
     "iopub.execute_input": "2025-08-28T08:38:07.286358Z",
     "iopub.status.busy": "2025-08-28T08:38:07.286151Z",
     "iopub.status.idle": "2025-08-28T08:38:15.757712Z",
     "shell.execute_reply": "2025-08-28T08:38:15.756963Z",
     "shell.execute_reply.started": "2025-08-28T08:38:07.286343Z"
    },
    "trusted": true
   },
   "outputs": [
    {
     "name": "stdout",
     "output_type": "stream",
     "text": [
      "Evaluation Methodology Comparison:\n",
      "==================================================\n",
      "Cross-Validation on Training Data:\n",
      "   CV Accuracy: 0.99981 (+/- 0.00028)\n",
      "\n",
      "Train-Test Evaluation:\n",
      "   Test Accuracy: 0.9019219569015725\n",
      "   Test Precision: 0.9711209006363192\n",
      "   Test Recall: 0.7979621933235018\n",
      "   Test F1: 0.8760671180453342\n"
     ]
    }
   ],
   "source": [
    "from sklearn.model_selection import cross_val_score\n",
    "from sklearn import metrics\n",
    "\n",
    "print(\"Evaluation Methodology Comparison:\")\n",
    "print(\"=\"*50)\n",
    "\n",
    "# Cross-validation on training data (demonstrates inflated scores)\n",
    "print(\"Cross-Validation on Training Data:\")\n",
    "accuracy = cross_val_score(clf_DoS, X_DoS, Y_DoS, cv=10, scoring='accuracy')\n",
    "print(\"   CV Accuracy: %0.5f (+/- %0.5f)\" % (accuracy.mean(), accuracy.std() * 2))\n",
    "\n",
    "print(\"\\nTrain-Test Evaluation:\")\n",
    "# Proper evaluation on test set \n",
    "clf_DoS.fit(X_DoS, Y_DoS)\n",
    "Y_pred = clf_DoS.predict(X_DoS_test)\n",
    "\n",
    "print(\"   Test Accuracy:\", metrics.accuracy_score(Y_DoS_test, Y_pred))\n",
    "print(\"   Test Precision:\", metrics.precision_score(Y_DoS_test, Y_pred))\n",
    "print(\"   Test Recall:\", metrics.recall_score(Y_DoS_test, Y_pred))\n",
    "print(\"   Test F1:\", metrics.f1_score(Y_DoS_test, Y_pred))\n"
   ]
  },
  {
   "cell_type": "code",
   "execution_count": 110,
   "id": "334eac62-3ced-4f89-b0d1-8f1638713808",
   "metadata": {
    "execution": {
     "iopub.execute_input": "2025-08-28T08:38:15.758797Z",
     "iopub.status.busy": "2025-08-28T08:38:15.758527Z",
     "iopub.status.idle": "2025-08-28T08:38:15.781991Z",
     "shell.execute_reply": "2025-08-28T08:38:15.781504Z",
     "shell.execute_reply.started": "2025-08-28T08:38:15.758778Z"
    },
    "trusted": true
   },
   "outputs": [
    {
     "name": "stdout",
     "output_type": "stream",
     "text": [
      "Predicted attacks     0     1\n",
      "Actual attacks               \n",
      "0                  9610   101\n",
      "1                  1276  6183\n",
      "Test Accuracy: 0.9198019801980198\n",
      "Test Precision: 0.9839274347549332\n",
      "Test Recall: 0.8289314921571256\n",
      "Test F1: 0.899803536345776\n"
     ]
    }
   ],
   "source": [
    "X_DoS_test2 = X_DoS_test[:, rfecolindex_DoS]\n",
    "\n",
    "Y_DoS_pred2 = clf_rfeDoS.predict(X_DoS_test2)\n",
    "\n",
    "# Confusion matrix\n",
    "print(pd.crosstab(Y_DoS_test, Y_DoS_pred2, rownames=['Actual attacks'], colnames=['Predicted attacks']))\n",
    "\n",
    "# Final evaluation on test set (no CV here)\n",
    "print(\"Test Accuracy:\", metrics.accuracy_score(Y_DoS_test, Y_DoS_pred2))\n",
    "print(\"Test Precision:\", metrics.precision_score(Y_DoS_test, Y_DoS_pred2))\n",
    "print(\"Test Recall:\", metrics.recall_score(Y_DoS_test, Y_DoS_pred2))\n",
    "print(\"Test F1:\", metrics.f1_score(Y_DoS_test, Y_DoS_pred2))\n"
   ]
  },
  {
   "cell_type": "code",
   "execution_count": 111,
   "id": "44ab5a27",
   "metadata": {
    "execution": {
     "iopub.execute_input": "2025-08-28T08:38:15.782834Z",
     "iopub.status.busy": "2025-08-28T08:38:15.782610Z",
     "iopub.status.idle": "2025-08-28T08:38:16.012235Z",
     "shell.execute_reply": "2025-08-28T08:38:16.011662Z",
     "shell.execute_reply.started": "2025-08-28T08:38:15.782819Z"
    },
    "trusted": true
   },
   "outputs": [
    {
     "name": "stdout",
     "output_type": "stream",
     "text": [
      "RFE-based Feature Selection Performance:\n",
      "==================================================\n",
      "Test Performance with RFE Features:\n",
      "Test Accuracy: 0.91980\n",
      "Test Precision: 0.98393\n",
      "Test Recall: 0.82893\n",
      "Test F1-Score: 0.89980\n"
     ]
    }
   ],
   "source": [
    "# RFE Feature Selection Evaluation\n",
    "print(\"RFE-based Feature Selection Performance:\")\n",
    "print(\"=\"*50)\n",
    "\n",
    "# Train model with RFE-selected features\n",
    "clf_rfeDoS.fit(X_DoS[:, rfecolindex_DoS], Y_DoS)\n",
    "Y_pred_rfe = clf_rfeDoS.predict(X_DoS_test[:, rfecolindex_DoS])\n",
    "\n",
    "print(\"Test Performance with RFE Features:\")\n",
    "print(f\"Test Accuracy: {metrics.accuracy_score(Y_DoS_test, Y_pred_rfe):.5f}\")\n",
    "print(f\"Test Precision: {metrics.precision_score(Y_DoS_test, Y_pred_rfe):.5f}\")\n",
    "print(f\"Test Recall: {metrics.recall_score(Y_DoS_test, Y_pred_rfe):.5f}\")\n",
    "print(f\"Test F1-Score: {metrics.f1_score(Y_DoS_test, Y_pred_rfe):.5f}\")\n"
   ]
  },
  {
   "cell_type": "code",
   "execution_count": 112,
   "id": "2a23dc42",
   "metadata": {
    "execution": {
     "iopub.execute_input": "2025-08-28T08:38:16.013296Z",
     "iopub.status.busy": "2025-08-28T08:38:16.013115Z",
     "iopub.status.idle": "2025-08-28T08:38:16.060936Z",
     "shell.execute_reply": "2025-08-28T08:38:16.060360Z",
     "shell.execute_reply.started": "2025-08-28T08:38:16.013281Z"
    },
    "trusted": true
   },
   "outputs": [],
   "source": [
    "X_DoS = np.array(X_DoS)\n",
    "X_DoS_test = np.array(X_DoS_test)\n",
    "#cnn-input\n",
    "X_DoS = np.reshape(X_DoS, (X_DoS.shape[0], X_DoS.shape[1], 1))\n",
    "X_DoS_test = np.reshape(X_DoS_test, (X_DoS_test.shape[0], X_DoS_test.shape[1], 1))\n",
    "#lstm-input"
   ]
  },
  {
   "cell_type": "code",
   "execution_count": 113,
   "id": "8d94c929",
   "metadata": {
    "execution": {
     "iopub.execute_input": "2025-08-28T08:38:16.061892Z",
     "iopub.status.busy": "2025-08-28T08:38:16.061635Z",
     "iopub.status.idle": "2025-08-28T08:38:16.066006Z",
     "shell.execute_reply": "2025-08-28T08:38:16.065221Z",
     "shell.execute_reply.started": "2025-08-28T08:38:16.061870Z"
    },
    "trusted": true
   },
   "outputs": [],
   "source": [
    "Y_DoS = np.array(Y_DoS)\n",
    "Y_DoS_test = np.array(Y_DoS_test)"
   ]
  },
  {
   "cell_type": "code",
   "execution_count": 114,
   "id": "5d5ccddd",
   "metadata": {
    "execution": {
     "iopub.execute_input": "2025-08-28T08:38:16.066947Z",
     "iopub.status.busy": "2025-08-28T08:38:16.066688Z",
     "iopub.status.idle": "2025-08-28T08:38:16.080780Z",
     "shell.execute_reply": "2025-08-28T08:38:16.080236Z",
     "shell.execute_reply.started": "2025-08-28T08:38:16.066930Z"
    },
    "trusted": true
   },
   "outputs": [],
   "source": [
    "from keras.models import Sequential\n",
    "from keras.layers import Conv1D, MaxPooling1D, LSTM, Dense, Dropout, BatchNormalization\n",
    "from keras.regularizers import l2\n",
    "from keras.callbacks import EarlyStopping, LearningRateScheduler, ModelCheckpoint\n",
    "from keras.optimizers import Adam"
   ]
  },
  {
   "cell_type": "code",
   "execution_count": 115,
   "id": "17e1b6b5-4afd-44d9-a49d-e828b052e6ef",
   "metadata": {
    "execution": {
     "iopub.execute_input": "2025-08-28T08:38:16.081616Z",
     "iopub.status.busy": "2025-08-28T08:38:16.081361Z",
     "iopub.status.idle": "2025-08-28T08:38:16.098003Z",
     "shell.execute_reply": "2025-08-28T08:38:16.097244Z",
     "shell.execute_reply.started": "2025-08-28T08:38:16.081594Z"
    },
    "trusted": true
   },
   "outputs": [
    {
     "name": "stdout",
     "output_type": "stream",
     "text": [
      "Model will be saved to: /kaggle/working/models/best_cnn_lstm_dos_model.h5\n"
     ]
    }
   ],
   "source": [
    "import os\n",
    "\n",
    "# Define a learning rate schedule\n",
    "initial_learning_rate = 0.001\n",
    "def lr_schedule(epoch):\n",
    "    return initial_learning_rate * (0.1 ** (epoch // 10))\n",
    "\n",
    "output_dir = '/kaggle/working/'\n",
    "model_dir = os.path.join(output_dir, 'models')\n",
    "os.makedirs(model_dir, exist_ok=True)\n",
    "model_path = os.path.join(model_dir, 'best_cnn_lstm_dos_model.h5')\n",
    "\n",
    "print(f\"Model will be saved to: {model_path}\")\n",
    "\n",
    "my_callbacks = [\n",
    "    ModelCheckpoint(\n",
    "        filepath=model_path, \n",
    "        verbose=1, \n",
    "        save_best_only=True, \n",
    "        monitor='val_accuracy', \n",
    "        mode='max'\n",
    "    ),\n",
    "    EarlyStopping(\n",
    "        monitor='val_loss',\n",
    "        patience=15,\n",
    "        restore_best_weights=True,\n",
    "        verbose=1,\n",
    "        min_delta=0.001\n",
    "    ),\n",
    "    LearningRateScheduler(lr_schedule, verbose=1)\n",
    "]"
   ]
  },
  {
   "cell_type": "code",
   "execution_count": null,
   "id": "033e41f3",
   "metadata": {
    "execution": {
     "iopub.execute_input": "2025-08-28T08:38:16.098776Z",
     "iopub.status.busy": "2025-08-28T08:38:16.098582Z",
     "iopub.status.idle": "2025-08-28T08:46:16.791155Z",
     "shell.execute_reply": "2025-08-28T08:46:16.790610Z",
     "shell.execute_reply.started": "2025-08-28T08:38:16.098753Z"
    },
    "trusted": true
   },
   "outputs": [
    {
     "name": "stderr",
     "output_type": "stream",
     "text": [
      "/usr/local/lib/python3.11/dist-packages/keras/src/layers/convolutional/base_conv.py:107: UserWarning: Do not pass an `input_shape`/`input_dim` argument to a layer. When using Sequential models, prefer using an `Input(shape)` object as the first layer in the model instead.\n",
      "  super().__init__(activity_regularizer=activity_regularizer, **kwargs)\n",
      "I0000 00:00:1756370298.610728      36 gpu_device.cc:2022] Created device /job:localhost/replica:0/task:0/device:GPU:0 with 13942 MB memory:  -> device: 0, name: Tesla T4, pci bus id: 0000:00:04.0, compute capability: 7.5\n",
      "I0000 00:00:1756370298.611370      36 gpu_device.cc:2022] Created device /job:localhost/replica:0/task:0/device:GPU:1 with 13942 MB memory:  -> device: 1, name: Tesla T4, pci bus id: 0000:00:05.0, compute capability: 7.5\n"
     ]
    },
    {
     "name": "stdout",
     "output_type": "stream",
     "text": [
      "Validation Strategy: Stratified train-validation split\n",
      "Test set reserved for final evaluation only\n",
      "Training samples: 90615\n",
      "Validation samples: 22654\n",
      "Test samples: 17170\n",
      "\n",
      "Training CNN-LSTM model...\n",
      "Model will be saved to: /kaggle/working/models/best_cnn_lstm_dos_model.h5\n",
      "\n",
      "Epoch 1: LearningRateScheduler setting learning rate to 0.001.\n",
      "Epoch 1/50\n"
     ]
    },
    {
     "name": "stderr",
     "output_type": "stream",
     "text": [
      "I0000 00:00:1756370306.079944     147 cuda_dnn.cc:529] Loaded cuDNN version 90300\n"
     ]
    },
    {
     "name": "stdout",
     "output_type": "stream",
     "text": [
      "\u001b[1m1416/1416\u001b[0m \u001b[32m━━━━━━━━━━━━━━━━━━━━\u001b[0m\u001b[37m\u001b[0m \u001b[1m0s\u001b[0m 8ms/step - accuracy: 0.9785 - loss: 0.5851\n",
      "Epoch 1: val_loss improved from inf to 0.24069, saving model to /kaggle/working/models/best_cnn_lstm_dos_model.h5\n",
      "\u001b[1m1416/1416\u001b[0m \u001b[32m━━━━━━━━━━━━━━━━━━━━\u001b[0m\u001b[37m\u001b[0m \u001b[1m23s\u001b[0m 10ms/step - accuracy: 0.9785 - loss: 0.5848 - val_accuracy: 0.9043 - val_loss: 0.2407 - learning_rate: 0.0010\n",
      "\n",
      "Epoch 2: LearningRateScheduler setting learning rate to 0.001.\n",
      "Epoch 2/50\n",
      "\u001b[1m1415/1416\u001b[0m \u001b[32m━━━━━━━━━━━━━━━━━━━\u001b[0m\u001b[37m━\u001b[0m \u001b[1m0s\u001b[0m 8ms/step - accuracy: 0.9935 - loss: 0.0838\n",
      "Epoch 2: val_loss did not improve from 0.24069\n",
      "\u001b[1m1416/1416\u001b[0m \u001b[32m━━━━━━━━━━━━━━━━━━━━\u001b[0m\u001b[37m\u001b[0m \u001b[1m13s\u001b[0m 9ms/step - accuracy: 0.9935 - loss: 0.0838 - val_accuracy: 0.7934 - val_loss: 0.9768 - learning_rate: 0.0010\n",
      "\n",
      "Epoch 3: LearningRateScheduler setting learning rate to 0.001.\n",
      "Epoch 3/50\n",
      "\u001b[1m1412/1416\u001b[0m \u001b[32m━━━━━━━━━━━━━━━━━━━\u001b[0m\u001b[37m━\u001b[0m \u001b[1m0s\u001b[0m 8ms/step - accuracy: 0.9960 - loss: 0.0522\n",
      "Epoch 3: val_loss did not improve from 0.24069\n",
      "\u001b[1m1416/1416\u001b[0m \u001b[32m━━━━━━━━━━━━━━━━━━━━\u001b[0m\u001b[37m\u001b[0m \u001b[1m13s\u001b[0m 9ms/step - accuracy: 0.9960 - loss: 0.0522 - val_accuracy: 0.5946 - val_loss: 0.4973 - learning_rate: 0.0010\n",
      "\n",
      "Epoch 4: LearningRateScheduler setting learning rate to 0.001.\n",
      "Epoch 4/50\n",
      "\u001b[1m1410/1416\u001b[0m \u001b[32m━━━━━━━━━━━━━━━━━━━\u001b[0m\u001b[37m━\u001b[0m \u001b[1m0s\u001b[0m 8ms/step - accuracy: 0.9973 - loss: 0.0413\n",
      "Epoch 4: val_loss improved from 0.24069 to 0.03366, saving model to /kaggle/working/models/best_cnn_lstm_dos_model.h5\n",
      "\u001b[1m1416/1416\u001b[0m \u001b[32m━━━━━━━━━━━━━━━━━━━━\u001b[0m\u001b[37m\u001b[0m \u001b[1m13s\u001b[0m 9ms/step - accuracy: 0.9973 - loss: 0.0413 - val_accuracy: 0.9977 - val_loss: 0.0337 - learning_rate: 0.0010\n",
      "\n",
      "Epoch 5: LearningRateScheduler setting learning rate to 0.001.\n",
      "Epoch 5/50\n",
      "\u001b[1m1415/1416\u001b[0m \u001b[32m━━━━━━━━━━━━━━━━━━━\u001b[0m\u001b[37m━\u001b[0m \u001b[1m0s\u001b[0m 8ms/step - accuracy: 0.9961 - loss: 0.0450\n",
      "Epoch 5: val_loss did not improve from 0.03366\n",
      "\u001b[1m1416/1416\u001b[0m \u001b[32m━━━━━━━━━━━━━━━━━━━━\u001b[0m\u001b[37m\u001b[0m \u001b[1m13s\u001b[0m 9ms/step - accuracy: 0.9961 - loss: 0.0450 - val_accuracy: 0.6001 - val_loss: 2.2262 - learning_rate: 0.0010\n",
      "\n",
      "Epoch 6: LearningRateScheduler setting learning rate to 0.001.\n",
      "Epoch 6/50\n",
      "\u001b[1m1411/1416\u001b[0m \u001b[32m━━━━━━━━━━━━━━━━━━━\u001b[0m\u001b[37m━\u001b[0m \u001b[1m0s\u001b[0m 8ms/step - accuracy: 0.9966 - loss: 0.0442\n",
      "Epoch 6: val_loss did not improve from 0.03366\n",
      "\u001b[1m1416/1416\u001b[0m \u001b[32m━━━━━━━━━━━━━━━━━━━━\u001b[0m\u001b[37m\u001b[0m \u001b[1m13s\u001b[0m 9ms/step - accuracy: 0.9966 - loss: 0.0442 - val_accuracy: 0.8914 - val_loss: 0.2655 - learning_rate: 0.0010\n",
      "\n",
      "Epoch 7: LearningRateScheduler setting learning rate to 0.001.\n",
      "Epoch 7/50\n",
      "\u001b[1m1413/1416\u001b[0m \u001b[32m━━━━━━━━━━━━━━━━━━━\u001b[0m\u001b[37m━\u001b[0m \u001b[1m0s\u001b[0m 8ms/step - accuracy: 0.9969 - loss: 0.0385\n",
      "Epoch 7: val_loss did not improve from 0.03366\n",
      "\u001b[1m1416/1416\u001b[0m \u001b[32m━━━━━━━━━━━━━━━━━━━━\u001b[0m\u001b[37m\u001b[0m \u001b[1m13s\u001b[0m 9ms/step - accuracy: 0.9969 - loss: 0.0385 - val_accuracy: 0.9865 - val_loss: 0.1106 - learning_rate: 0.0010\n",
      "\n",
      "Epoch 8: LearningRateScheduler setting learning rate to 0.001.\n",
      "Epoch 8/50\n",
      "\u001b[1m1411/1416\u001b[0m \u001b[32m━━━━━━━━━━━━━━━━━━━\u001b[0m\u001b[37m━\u001b[0m \u001b[1m0s\u001b[0m 8ms/step - accuracy: 0.9972 - loss: 0.0340\n",
      "Epoch 8: val_loss did not improve from 0.03366\n",
      "\u001b[1m1416/1416\u001b[0m \u001b[32m━━━━━━━━━━━━━━━━━━━━\u001b[0m\u001b[37m\u001b[0m \u001b[1m13s\u001b[0m 9ms/step - accuracy: 0.9972 - loss: 0.0340 - val_accuracy: 0.9867 - val_loss: 0.0611 - learning_rate: 0.0010\n",
      "\n",
      "Epoch 9: LearningRateScheduler setting learning rate to 0.001.\n",
      "Epoch 9/50\n",
      "\u001b[1m1416/1416\u001b[0m \u001b[32m━━━━━━━━━━━━━━━━━━━━\u001b[0m\u001b[37m\u001b[0m \u001b[1m0s\u001b[0m 8ms/step - accuracy: 0.9971 - loss: 0.0357\n",
      "Epoch 9: val_loss did not improve from 0.03366\n",
      "\u001b[1m1416/1416\u001b[0m \u001b[32m━━━━━━━━━━━━━━━━━━━━\u001b[0m\u001b[37m\u001b[0m \u001b[1m13s\u001b[0m 9ms/step - accuracy: 0.9971 - loss: 0.0357 - val_accuracy: 0.4122 - val_loss: 3.7169 - learning_rate: 0.0010\n",
      "\n",
      "Epoch 10: LearningRateScheduler setting learning rate to 0.001.\n",
      "Epoch 10/50\n",
      "\u001b[1m1413/1416\u001b[0m \u001b[32m━━━━━━━━━━━━━━━━━━━\u001b[0m\u001b[37m━\u001b[0m \u001b[1m0s\u001b[0m 8ms/step - accuracy: 0.9969 - loss: 0.0360\n",
      "Epoch 10: val_loss did not improve from 0.03366\n",
      "\u001b[1m1416/1416\u001b[0m \u001b[32m━━━━━━━━━━━━━━━━━━━━\u001b[0m\u001b[37m\u001b[0m \u001b[1m13s\u001b[0m 9ms/step - accuracy: 0.9969 - loss: 0.0361 - val_accuracy: 0.4264 - val_loss: 2.9015 - learning_rate: 0.0010\n",
      "\n",
      "Epoch 11: LearningRateScheduler setting learning rate to 0.0001.\n",
      "Epoch 11/50\n",
      "\u001b[1m1412/1416\u001b[0m \u001b[32m━━━━━━━━━━━━━━━━━━━\u001b[0m\u001b[37m━\u001b[0m \u001b[1m0s\u001b[0m 8ms/step - accuracy: 0.9985 - loss: 0.0291\n",
      "Epoch 11: val_loss improved from 0.03366 to 0.02643, saving model to /kaggle/working/models/best_cnn_lstm_dos_model.h5\n",
      "\u001b[1m1416/1416\u001b[0m \u001b[32m━━━━━━━━━━━━━━━━━━━━\u001b[0m\u001b[37m\u001b[0m \u001b[1m13s\u001b[0m 9ms/step - accuracy: 0.9985 - loss: 0.0291 - val_accuracy: 0.9990 - val_loss: 0.0264 - learning_rate: 1.0000e-04\n",
      "\n",
      "Epoch 12: LearningRateScheduler setting learning rate to 0.0001.\n",
      "Epoch 12/50\n",
      "\u001b[1m1413/1416\u001b[0m \u001b[32m━━━━━━━━━━━━━━━━━━━\u001b[0m\u001b[37m━\u001b[0m \u001b[1m0s\u001b[0m 8ms/step - accuracy: 0.9986 - loss: 0.0272\n",
      "Epoch 12: val_loss did not improve from 0.02643\n",
      "\u001b[1m1416/1416\u001b[0m \u001b[32m━━━━━━━━━━━━━━━━━━━━\u001b[0m\u001b[37m\u001b[0m \u001b[1m13s\u001b[0m 9ms/step - accuracy: 0.9986 - loss: 0.0272 - val_accuracy: 0.9972 - val_loss: 0.0290 - learning_rate: 1.0000e-04\n",
      "\n",
      "Epoch 13: LearningRateScheduler setting learning rate to 0.0001.\n",
      "Epoch 13/50\n",
      "\u001b[1m1414/1416\u001b[0m \u001b[32m━━━━━━━━━━━━━━━━━━━\u001b[0m\u001b[37m━\u001b[0m \u001b[1m0s\u001b[0m 8ms/step - accuracy: 0.9988 - loss: 0.0252\n",
      "Epoch 13: val_loss did not improve from 0.02643\n",
      "\u001b[1m1416/1416\u001b[0m \u001b[32m━━━━━━━━━━━━━━━━━━━━\u001b[0m\u001b[37m\u001b[0m \u001b[1m13s\u001b[0m 9ms/step - accuracy: 0.9988 - loss: 0.0252 - val_accuracy: 0.9965 - val_loss: 0.0287 - learning_rate: 1.0000e-04\n",
      "\n",
      "Epoch 14: LearningRateScheduler setting learning rate to 0.0001.\n",
      "Epoch 14/50\n",
      "\u001b[1m1411/1416\u001b[0m \u001b[32m━━━━━━━━━━━━━━━━━━━\u001b[0m\u001b[37m━\u001b[0m \u001b[1m0s\u001b[0m 8ms/step - accuracy: 0.9988 - loss: 0.0230\n",
      "Epoch 14: val_loss improved from 0.02643 to 0.02190, saving model to /kaggle/working/models/best_cnn_lstm_dos_model.h5\n",
      "\u001b[1m1416/1416\u001b[0m \u001b[32m━━━━━━━━━━━━━━━━━━━━\u001b[0m\u001b[37m\u001b[0m \u001b[1m13s\u001b[0m 9ms/step - accuracy: 0.9988 - loss: 0.0230 - val_accuracy: 0.9988 - val_loss: 0.0219 - learning_rate: 1.0000e-04\n",
      "\n",
      "Epoch 15: LearningRateScheduler setting learning rate to 0.0001.\n",
      "Epoch 15/50\n",
      "\u001b[1m1416/1416\u001b[0m \u001b[32m━━━━━━━━━━━━━━━━━━━━\u001b[0m\u001b[37m\u001b[0m \u001b[1m0s\u001b[0m 8ms/step - accuracy: 0.9986 - loss: 0.0226\n",
      "Epoch 15: val_loss improved from 0.02190 to 0.02051, saving model to /kaggle/working/models/best_cnn_lstm_dos_model.h5\n",
      "\u001b[1m1416/1416\u001b[0m \u001b[32m━━━━━━━━━━━━━━━━━━━━\u001b[0m\u001b[37m\u001b[0m \u001b[1m13s\u001b[0m 9ms/step - accuracy: 0.9986 - loss: 0.0226 - val_accuracy: 0.9991 - val_loss: 0.0205 - learning_rate: 1.0000e-04\n",
      "\n",
      "Epoch 16: LearningRateScheduler setting learning rate to 0.0001.\n",
      "Epoch 16/50\n",
      "\u001b[1m1413/1416\u001b[0m \u001b[32m━━━━━━━━━━━━━━━━━━━\u001b[0m\u001b[37m━\u001b[0m \u001b[1m0s\u001b[0m 8ms/step - accuracy: 0.9990 - loss: 0.0206\n",
      "Epoch 16: val_loss did not improve from 0.02051\n",
      "\u001b[1m1416/1416\u001b[0m \u001b[32m━━━━━━━━━━━━━━━━━━━━\u001b[0m\u001b[37m\u001b[0m \u001b[1m13s\u001b[0m 9ms/step - accuracy: 0.9990 - loss: 0.0206 - val_accuracy: 0.9981 - val_loss: 0.0221 - learning_rate: 1.0000e-04\n",
      "\n",
      "Epoch 17: LearningRateScheduler setting learning rate to 0.0001.\n",
      "Epoch 17/50\n",
      "\u001b[1m1412/1416\u001b[0m \u001b[32m━━━━━━━━━━━━━━━━━━━\u001b[0m\u001b[37m━\u001b[0m \u001b[1m0s\u001b[0m 8ms/step - accuracy: 0.9990 - loss: 0.0201\n",
      "Epoch 17: val_loss improved from 0.02051 to 0.01890, saving model to /kaggle/working/models/best_cnn_lstm_dos_model.h5\n",
      "\u001b[1m1416/1416\u001b[0m \u001b[32m━━━━━━━━━━━━━━━━━━━━\u001b[0m\u001b[37m\u001b[0m \u001b[1m13s\u001b[0m 9ms/step - accuracy: 0.9990 - loss: 0.0201 - val_accuracy: 0.9992 - val_loss: 0.0189 - learning_rate: 1.0000e-04\n",
      "\n",
      "Epoch 18: LearningRateScheduler setting learning rate to 0.0001.\n",
      "Epoch 18/50\n",
      "\u001b[1m1412/1416\u001b[0m \u001b[32m━━━━━━━━━━━━━━━━━━━\u001b[0m\u001b[37m━\u001b[0m \u001b[1m0s\u001b[0m 8ms/step - accuracy: 0.9991 - loss: 0.0194\n",
      "Epoch 18: val_loss did not improve from 0.01890\n",
      "\u001b[1m1416/1416\u001b[0m \u001b[32m━━━━━━━━━━━━━━━━━━━━\u001b[0m\u001b[37m\u001b[0m \u001b[1m13s\u001b[0m 9ms/step - accuracy: 0.9991 - loss: 0.0194 - val_accuracy: 0.9642 - val_loss: 0.1482 - learning_rate: 1.0000e-04\n",
      "\n",
      "Epoch 19: LearningRateScheduler setting learning rate to 0.0001.\n",
      "Epoch 19/50\n",
      "\u001b[1m1414/1416\u001b[0m \u001b[32m━━━━━━━━━━━━━━━━━━━\u001b[0m\u001b[37m━\u001b[0m \u001b[1m0s\u001b[0m 8ms/step - accuracy: 0.9990 - loss: 0.0193\n",
      "Epoch 19: val_loss did not improve from 0.01890\n",
      "\u001b[1m1416/1416\u001b[0m \u001b[32m━━━━━━━━━━━━━━━━━━━━\u001b[0m\u001b[37m\u001b[0m \u001b[1m13s\u001b[0m 9ms/step - accuracy: 0.9990 - loss: 0.0193 - val_accuracy: 0.9985 - val_loss: 0.0201 - learning_rate: 1.0000e-04\n",
      "\n",
      "Epoch 20: LearningRateScheduler setting learning rate to 0.0001.\n",
      "Epoch 20/50\n",
      "\u001b[1m1416/1416\u001b[0m \u001b[32m━━━━━━━━━━━━━━━━━━━━\u001b[0m\u001b[37m\u001b[0m \u001b[1m0s\u001b[0m 8ms/step - accuracy: 0.9990 - loss: 0.0188\n",
      "Epoch 20: val_loss did not improve from 0.01890\n",
      "\u001b[1m1416/1416\u001b[0m \u001b[32m━━━━━━━━━━━━━━━━━━━━\u001b[0m\u001b[37m\u001b[0m \u001b[1m13s\u001b[0m 9ms/step - accuracy: 0.9990 - loss: 0.0188 - val_accuracy: 0.9588 - val_loss: 0.1409 - learning_rate: 1.0000e-04\n",
      "\n",
      "Epoch 21: LearningRateScheduler setting learning rate to 1.0000000000000003e-05.\n",
      "Epoch 21/50\n",
      "\u001b[1m1412/1416\u001b[0m \u001b[32m━━━━━━━━━━━━━━━━━━━\u001b[0m\u001b[37m━\u001b[0m \u001b[1m0s\u001b[0m 8ms/step - accuracy: 0.9993 - loss: 0.0179\n",
      "Epoch 21: val_loss improved from 0.01890 to 0.01718, saving model to /kaggle/working/models/best_cnn_lstm_dos_model.h5\n",
      "\u001b[1m1416/1416\u001b[0m \u001b[32m━━━━━━━━━━━━━━━━━━━━\u001b[0m\u001b[37m\u001b[0m \u001b[1m13s\u001b[0m 9ms/step - accuracy: 0.9993 - loss: 0.0179 - val_accuracy: 0.9993 - val_loss: 0.0172 - learning_rate: 1.0000e-05\n",
      "\n",
      "Epoch 22: LearningRateScheduler setting learning rate to 1.0000000000000003e-05.\n",
      "Epoch 22/50\n",
      "\u001b[1m1411/1416\u001b[0m \u001b[32m━━━━━━━━━━━━━━━━━━━\u001b[0m\u001b[37m━\u001b[0m \u001b[1m0s\u001b[0m 8ms/step - accuracy: 0.9992 - loss: 0.0176\n",
      "Epoch 22: val_loss improved from 0.01718 to 0.01688, saving model to /kaggle/working/models/best_cnn_lstm_dos_model.h5\n",
      "\u001b[1m1416/1416\u001b[0m \u001b[32m━━━━━━━━━━━━━━━━━━━━\u001b[0m\u001b[37m\u001b[0m \u001b[1m13s\u001b[0m 9ms/step - accuracy: 0.9992 - loss: 0.0176 - val_accuracy: 0.9994 - val_loss: 0.0169 - learning_rate: 1.0000e-05\n",
      "\n",
      "Epoch 23: LearningRateScheduler setting learning rate to 1.0000000000000003e-05.\n",
      "Epoch 23/50\n",
      "\u001b[1m1411/1416\u001b[0m \u001b[32m━━━━━━━━━━━━━━━━━━━\u001b[0m\u001b[37m━\u001b[0m \u001b[1m0s\u001b[0m 8ms/step - accuracy: 0.9994 - loss: 0.0176\n",
      "Epoch 23: val_loss did not improve from 0.01688\n",
      "\u001b[1m1416/1416\u001b[0m \u001b[32m━━━━━━━━━━━━━━━━━━━━\u001b[0m\u001b[37m\u001b[0m \u001b[1m13s\u001b[0m 9ms/step - accuracy: 0.9994 - loss: 0.0176 - val_accuracy: 0.9993 - val_loss: 0.0172 - learning_rate: 1.0000e-05\n",
      "\n",
      "Epoch 24: LearningRateScheduler setting learning rate to 1.0000000000000003e-05.\n",
      "Epoch 24/50\n",
      "\u001b[1m1416/1416\u001b[0m \u001b[32m━━━━━━━━━━━━━━━━━━━━\u001b[0m\u001b[37m\u001b[0m \u001b[1m0s\u001b[0m 8ms/step - accuracy: 0.9993 - loss: 0.0174\n",
      "Epoch 24: val_loss did not improve from 0.01688\n",
      "\u001b[1m1416/1416\u001b[0m \u001b[32m━━━━━━━━━━━━━━━━━━━━\u001b[0m\u001b[37m\u001b[0m \u001b[1m13s\u001b[0m 9ms/step - accuracy: 0.9993 - loss: 0.0174 - val_accuracy: 0.9992 - val_loss: 0.0171 - learning_rate: 1.0000e-05\n",
      "\n",
      "Epoch 25: LearningRateScheduler setting learning rate to 1.0000000000000003e-05.\n",
      "Epoch 25/50\n",
      "\u001b[1m1414/1416\u001b[0m \u001b[32m━━━━━━━━━━━━━━━━━━━\u001b[0m\u001b[37m━\u001b[0m \u001b[1m0s\u001b[0m 8ms/step - accuracy: 0.9993 - loss: 0.0171\n",
      "Epoch 25: val_loss did not improve from 0.01688\n",
      "\u001b[1m1416/1416\u001b[0m \u001b[32m━━━━━━━━━━━━━━━━━━━━\u001b[0m\u001b[37m\u001b[0m \u001b[1m13s\u001b[0m 9ms/step - accuracy: 0.9993 - loss: 0.0171 - val_accuracy: 0.9988 - val_loss: 0.0178 - learning_rate: 1.0000e-05\n",
      "\n",
      "Epoch 26: LearningRateScheduler setting learning rate to 1.0000000000000003e-05.\n",
      "Epoch 26/50\n",
      "\u001b[1m1410/1416\u001b[0m \u001b[32m━━━━━━━━━━━━━━━━━━━\u001b[0m\u001b[37m━\u001b[0m \u001b[1m0s\u001b[0m 8ms/step - accuracy: 0.9992 - loss: 0.0173\n",
      "Epoch 26: val_loss improved from 0.01688 to 0.01685, saving model to /kaggle/working/models/best_cnn_lstm_dos_model.h5\n",
      "\u001b[1m1416/1416\u001b[0m \u001b[32m━━━━━━━━━━━━━━━━━━━━\u001b[0m\u001b[37m\u001b[0m \u001b[1m13s\u001b[0m 9ms/step - accuracy: 0.9992 - loss: 0.0173 - val_accuracy: 0.9992 - val_loss: 0.0168 - learning_rate: 1.0000e-05\n",
      "\n",
      "Epoch 27: LearningRateScheduler setting learning rate to 1.0000000000000003e-05.\n",
      "Epoch 27/50\n",
      "\u001b[1m1413/1416\u001b[0m \u001b[32m━━━━━━━━━━━━━━━━━━━\u001b[0m\u001b[37m━\u001b[0m \u001b[1m0s\u001b[0m 8ms/step - accuracy: 0.9994 - loss: 0.0174\n",
      "Epoch 27: val_loss improved from 0.01685 to 0.01672, saving model to /kaggle/working/models/best_cnn_lstm_dos_model.h5\n",
      "\u001b[1m1416/1416\u001b[0m \u001b[32m━━━━━━━━━━━━━━━━━━━━\u001b[0m\u001b[37m\u001b[0m \u001b[1m13s\u001b[0m 9ms/step - accuracy: 0.9994 - loss: 0.0174 - val_accuracy: 0.9993 - val_loss: 0.0167 - learning_rate: 1.0000e-05\n",
      "\n",
      "Epoch 28: LearningRateScheduler setting learning rate to 1.0000000000000003e-05.\n",
      "Epoch 28/50\n",
      "\u001b[1m1411/1416\u001b[0m \u001b[32m━━━━━━━━━━━━━━━━━━━\u001b[0m\u001b[37m━\u001b[0m \u001b[1m0s\u001b[0m 8ms/step - accuracy: 0.9993 - loss: 0.0170\n",
      "Epoch 28: val_loss did not improve from 0.01672\n",
      "\u001b[1m1416/1416\u001b[0m \u001b[32m━━━━━━━━━━━━━━━━━━━━\u001b[0m\u001b[37m\u001b[0m \u001b[1m13s\u001b[0m 9ms/step - accuracy: 0.9993 - loss: 0.0170 - val_accuracy: 0.9993 - val_loss: 0.0169 - learning_rate: 1.0000e-05\n",
      "\n",
      "Epoch 29: LearningRateScheduler setting learning rate to 1.0000000000000003e-05.\n",
      "Epoch 29/50\n",
      "\u001b[1m1413/1416\u001b[0m \u001b[32m━━━━━━━━━━━━━━━━━━━\u001b[0m\u001b[37m━\u001b[0m \u001b[1m0s\u001b[0m 8ms/step - accuracy: 0.9992 - loss: 0.0171\n",
      "Epoch 29: val_loss did not improve from 0.01672\n",
      "\u001b[1m1416/1416\u001b[0m \u001b[32m━━━━━━━━━━━━━━━━━━━━\u001b[0m\u001b[37m\u001b[0m \u001b[1m13s\u001b[0m 9ms/step - accuracy: 0.9992 - loss: 0.0171 - val_accuracy: 0.9990 - val_loss: 0.0175 - learning_rate: 1.0000e-05\n",
      "\n",
      "Epoch 30: LearningRateScheduler setting learning rate to 1.0000000000000003e-05.\n",
      "Epoch 30/50\n",
      "\u001b[1m1414/1416\u001b[0m \u001b[32m━━━━━━━━━━━━━━━━━━━\u001b[0m\u001b[37m━\u001b[0m \u001b[1m0s\u001b[0m 8ms/step - accuracy: 0.9993 - loss: 0.0172\n",
      "Epoch 30: val_loss improved from 0.01672 to 0.01652, saving model to /kaggle/working/models/best_cnn_lstm_dos_model.h5\n",
      "\u001b[1m1416/1416\u001b[0m \u001b[32m━━━━━━━━━━━━━━━━━━━━\u001b[0m\u001b[37m\u001b[0m \u001b[1m13s\u001b[0m 9ms/step - accuracy: 0.9993 - loss: 0.0172 - val_accuracy: 0.9994 - val_loss: 0.0165 - learning_rate: 1.0000e-05\n",
      "\n",
      "Epoch 31: LearningRateScheduler setting learning rate to 1.0000000000000002e-06.\n",
      "Epoch 31/50\n",
      "\u001b[1m1411/1416\u001b[0m \u001b[32m━━━━━━━━━━━━━━━━━━━\u001b[0m\u001b[37m━\u001b[0m \u001b[1m0s\u001b[0m 8ms/step - accuracy: 0.9992 - loss: 0.0170\n",
      "Epoch 31: val_loss did not improve from 0.01652\n",
      "\u001b[1m1416/1416\u001b[0m \u001b[32m━━━━━━━━━━━━━━━━━━━━\u001b[0m\u001b[37m\u001b[0m \u001b[1m13s\u001b[0m 9ms/step - accuracy: 0.9992 - loss: 0.0170 - val_accuracy: 0.9993 - val_loss: 0.0166 - learning_rate: 1.0000e-06\n",
      "\n",
      "Epoch 32: LearningRateScheduler setting learning rate to 1.0000000000000002e-06.\n",
      "Epoch 32/50\n",
      "\u001b[1m1410/1416\u001b[0m \u001b[32m━━━━━━━━━━━━━━━━━━━\u001b[0m\u001b[37m━\u001b[0m \u001b[1m0s\u001b[0m 8ms/step - accuracy: 0.9995 - loss: 0.0168\n",
      "Epoch 32: val_loss did not improve from 0.01652\n",
      "\u001b[1m1416/1416\u001b[0m \u001b[32m━━━━━━━━━━━━━━━━━━━━\u001b[0m\u001b[37m\u001b[0m \u001b[1m13s\u001b[0m 9ms/step - accuracy: 0.9995 - loss: 0.0168 - val_accuracy: 0.9993 - val_loss: 0.0165 - learning_rate: 1.0000e-06\n",
      "\n",
      "Epoch 33: LearningRateScheduler setting learning rate to 1.0000000000000002e-06.\n",
      "Epoch 33/50\n",
      "\u001b[1m1413/1416\u001b[0m \u001b[32m━━━━━━━━━━━━━━━━━━━\u001b[0m\u001b[37m━\u001b[0m \u001b[1m0s\u001b[0m 8ms/step - accuracy: 0.9992 - loss: 0.0173\n",
      "Epoch 33: val_loss improved from 0.01652 to 0.01650, saving model to /kaggle/working/models/best_cnn_lstm_dos_model.h5\n",
      "\u001b[1m1416/1416\u001b[0m \u001b[32m━━━━━━━━━━━━━━━━━━━━\u001b[0m\u001b[37m\u001b[0m \u001b[1m13s\u001b[0m 9ms/step - accuracy: 0.9992 - loss: 0.0173 - val_accuracy: 0.9995 - val_loss: 0.0165 - learning_rate: 1.0000e-06\n",
      "\n",
      "Epoch 34: LearningRateScheduler setting learning rate to 1.0000000000000002e-06.\n",
      "Epoch 34/50\n",
      "\u001b[1m1410/1416\u001b[0m \u001b[32m━━━━━━━━━━━━━━━━━━━\u001b[0m\u001b[37m━\u001b[0m \u001b[1m0s\u001b[0m 8ms/step - accuracy: 0.9992 - loss: 0.0172\n",
      "Epoch 34: val_loss improved from 0.01650 to 0.01643, saving model to /kaggle/working/models/best_cnn_lstm_dos_model.h5\n",
      "\u001b[1m1416/1416\u001b[0m \u001b[32m━━━━━━━━━━━━━━━━━━━━\u001b[0m\u001b[37m\u001b[0m \u001b[1m13s\u001b[0m 9ms/step - accuracy: 0.9992 - loss: 0.0172 - val_accuracy: 0.9995 - val_loss: 0.0164 - learning_rate: 1.0000e-06\n",
      "\n",
      "Epoch 35: LearningRateScheduler setting learning rate to 1.0000000000000002e-06.\n",
      "Epoch 35/50\n",
      "\u001b[1m1414/1416\u001b[0m \u001b[32m━━━━━━━━━━━━━━━━━━━\u001b[0m\u001b[37m━\u001b[0m \u001b[1m0s\u001b[0m 8ms/step - accuracy: 0.9994 - loss: 0.0167\n",
      "Epoch 35: val_loss did not improve from 0.01643\n",
      "\u001b[1m1416/1416\u001b[0m \u001b[32m━━━━━━━━━━━━━━━━━━━━\u001b[0m\u001b[37m\u001b[0m \u001b[1m13s\u001b[0m 9ms/step - accuracy: 0.9994 - loss: 0.0167 - val_accuracy: 0.9994 - val_loss: 0.0166 - learning_rate: 1.0000e-06\n",
      "\n",
      "Epoch 36: LearningRateScheduler setting learning rate to 1.0000000000000002e-06.\n",
      "Epoch 36/50\n",
      "\u001b[1m1410/1416\u001b[0m \u001b[32m━━━━━━━━━━━━━━━━━━━\u001b[0m\u001b[37m━\u001b[0m \u001b[1m0s\u001b[0m 8ms/step - accuracy: 0.9993 - loss: 0.0169\n",
      "Epoch 36: val_loss did not improve from 0.01643\n",
      "\u001b[1m1416/1416\u001b[0m \u001b[32m━━━━━━━━━━━━━━━━━━━━\u001b[0m\u001b[37m\u001b[0m \u001b[1m13s\u001b[0m 9ms/step - accuracy: 0.9993 - loss: 0.0169 - val_accuracy: 0.9994 - val_loss: 0.0164 - learning_rate: 1.0000e-06\n",
      "Epoch 36: early stopping\n",
      "Restoring model weights from the end of the best epoch: 21.\n"
     ]
    }
   ],
   "source": [
    "# CNN-LSTM Model Implementation\n",
    "model = Sequential()\n",
    "\n",
    "# Convolutional layers with L2 regularization\n",
    "model.add(Conv1D(64, 3, padding=\"same\", input_shape=(X_DoS.shape[1], 1), activation='relu', kernel_regularizer=l2(0.01)))\n",
    "model.add(Conv1D(64, 3, padding=\"same\", activation='relu', kernel_regularizer=l2(0.01)))\n",
    "model.add(MaxPooling1D(pool_size=2))\n",
    "model.add(Conv1D(128, 3, padding=\"same\", activation='relu', kernel_regularizer=l2(0.001)))\n",
    "model.add(Conv1D(128, 3, padding=\"same\", activation='relu', kernel_regularizer=l2(0.001)))\n",
    "model.add(MaxPooling1D(pool_size=2))\n",
    "\n",
    "# Batch normalization\n",
    "model.add(BatchNormalization())\n",
    "\n",
    "# LSTM layer with regularization and dropout\n",
    "model.add(LSTM(units=100, return_sequences=False, dropout=0.1, kernel_regularizer=l2(0.01)))\n",
    "model.add(Dropout(0.5))\n",
    "\n",
    "# Output layer\n",
    "model.add(Dense(units=1, activation='sigmoid', kernel_regularizer=l2(0.01)))\n",
    "\n",
    "# Model compilation with Focal Loss\n",
    "opt = Adam(learning_rate=initial_learning_rate)\n",
    "model.compile(loss='binary_crossentropy', optimizer=opt, metrics=['accuracy'])\n",
    "\n",
    "# Proper validation strategy using train-validation split\n",
    "from sklearn.model_selection import train_test_split\n",
    "\n",
    "print(\"Validation Strategy: Stratified train-validation split\")\n",
    "print(\"Test set reserved for final evaluation only\")\n",
    "\n",
    "# Split training data (80/20)\n",
    "X_train, X_val, y_train, y_val = train_test_split(\n",
    "    X_DoS, Y_DoS, \n",
    "    test_size=0.2, \n",
    "    stratify=Y_DoS,\n",
    "    random_state=42\n",
    ")\n",
    "\n",
    "print(f\"Training samples: {X_train.shape[0]}\")\n",
    "print(f\"Validation samples: {X_val.shape[0]}\")\n",
    "print(f\"Test samples: {X_DoS_test.shape[0]}\")\n",
    "\n",
    "# Environment-independent callbacks\n",
    "my_callbacks_proper = [\n",
    "    ModelCheckpoint(\n",
    "        filepath=model_path, \n",
    "        verbose=1, \n",
    "        save_best_only=True, \n",
    "        monitor='val_loss',\n",
    "        mode='min'\n",
    "    ),\n",
    "    EarlyStopping(\n",
    "        monitor='val_loss',\n",
    "        patience=15,\n",
    "        restore_best_weights=True,\n",
    "        verbose=1,\n",
    "        min_delta=0.001\n",
    "    ),\n",
    "    LearningRateScheduler(lr_schedule, verbose=1)\n",
    "]\n",
    "\n",
    "# Model training\n",
    "print(f\"\\nTraining CNN-LSTM model...\")\n",
    "print(f\"Model will be saved to: {model_path}\")\n",
    "history = model.fit(\n",
    "    X_train, y_train,\n",
    "    epochs=50,\n",
    "    batch_size=64,\n",
    "    validation_data=(X_val, y_val),\n",
    "    callbacks=my_callbacks_proper\n",
    ")"
   ]
  },
  {
   "cell_type": "code",
   "execution_count": null,
   "id": "4ab71316-5bb6-464d-a3b4-6a4c79346041",
   "metadata": {
    "execution": {
     "iopub.execute_input": "2025-08-28T08:46:16.792358Z",
     "iopub.status.busy": "2025-08-28T08:46:16.792087Z",
     "iopub.status.idle": "2025-08-28T08:46:16.901469Z",
     "shell.execute_reply": "2025-08-28T08:46:16.900712Z",
     "shell.execute_reply.started": "2025-08-28T08:46:16.792337Z"
    },
    "trusted": true
   },
   "outputs": [],
   "source": [
    "# Load model with custom objects (for Focal Loss)\n",
    "from keras.models import load_model\n",
    "\n",
    "# Load the best model with custom loss function\n",
    "model = load_model('/kaggle/working/models/best_cnn_lstm_dos_model.h5', \n",
    "                   custom_objects={'focal_loss_fixed': focal_loss_fn})\n",
    "\n",
    "print(\"Model loaded successfully with Focal Loss function\")"
   ]
  },
  {
   "cell_type": "code",
   "execution_count": 118,
   "id": "78e974a7-9b6a-4b92-8fad-75855df02ba9",
   "metadata": {
    "execution": {
     "iopub.execute_input": "2025-08-28T08:46:16.902639Z",
     "iopub.status.busy": "2025-08-28T08:46:16.902349Z",
     "iopub.status.idle": "2025-08-28T08:46:19.125400Z",
     "shell.execute_reply": "2025-08-28T08:46:19.124845Z",
     "shell.execute_reply.started": "2025-08-28T08:46:16.902615Z"
    },
    "trusted": true
   },
   "outputs": [
    {
     "name": "stdout",
     "output_type": "stream",
     "text": [
      "\u001b[1m537/537\u001b[0m \u001b[32m━━━━━━━━━━━━━━━━━━━━\u001b[0m\u001b[37m\u001b[0m \u001b[1m2s\u001b[0m 3ms/step\n"
     ]
    }
   ],
   "source": [
    "y_pred = model.predict(X_DoS_test)"
   ]
  },
  {
   "cell_type": "code",
   "execution_count": 119,
   "id": "fd5c90e9-095f-4414-8ba1-60639fa15b6f",
   "metadata": {
    "execution": {
     "iopub.execute_input": "2025-08-28T08:46:19.126467Z",
     "iopub.status.busy": "2025-08-28T08:46:19.126240Z",
     "iopub.status.idle": "2025-08-28T08:46:19.158286Z",
     "shell.execute_reply": "2025-08-28T08:46:19.157808Z",
     "shell.execute_reply.started": "2025-08-28T08:46:19.126449Z"
    },
    "trusted": true
   },
   "outputs": [],
   "source": [
    "y_pred1 = []\n",
    "for i in y_pred:\n",
    "  if i>=0.5:\n",
    "    y_pred1.append(1)\n",
    "  else:\n",
    "    y_pred1.append(0)"
   ]
  },
  {
   "cell_type": "code",
   "execution_count": 120,
   "id": "dab4ef27-24b3-4671-9ec1-3fe88575873e",
   "metadata": {
    "execution": {
     "iopub.execute_input": "2025-08-28T08:46:19.159040Z",
     "iopub.status.busy": "2025-08-28T08:46:19.158871Z",
     "iopub.status.idle": "2025-08-28T08:46:19.164711Z",
     "shell.execute_reply": "2025-08-28T08:46:19.164125Z",
     "shell.execute_reply.started": "2025-08-28T08:46:19.159027Z"
    },
    "trusted": true
   },
   "outputs": [
    {
     "data": {
      "text/plain": [
       "array([1, 0, 0, ..., 0, 1, 0])"
      ]
     },
     "execution_count": 120,
     "metadata": {},
     "output_type": "execute_result"
    }
   ],
   "source": [
    "y_pred = np.array(y_pred1)\n",
    "y_pred"
   ]
  },
  {
   "cell_type": "code",
   "execution_count": 121,
   "id": "74669dc2-3dec-46a5-a4e7-7589a70788da",
   "metadata": {
    "execution": {
     "iopub.execute_input": "2025-08-28T08:46:19.165958Z",
     "iopub.status.busy": "2025-08-28T08:46:19.165410Z",
     "iopub.status.idle": "2025-08-28T08:46:19.191415Z",
     "shell.execute_reply": "2025-08-28T08:46:19.190897Z",
     "shell.execute_reply.started": "2025-08-28T08:46:19.165921Z"
    },
    "trusted": true
   },
   "outputs": [
    {
     "name": "stdout",
     "output_type": "stream",
     "text": [
      "              precision    recall  f1-score   support\n",
      "\n",
      "           0       0.89      0.99      0.94      9711\n",
      "           1       0.99      0.84      0.91      7459\n",
      "\n",
      "    accuracy                           0.92     17170\n",
      "   macro avg       0.94      0.91      0.92     17170\n",
      "weighted avg       0.93      0.92      0.92     17170\n",
      "\n"
     ]
    }
   ],
   "source": [
    "from sklearn.metrics import classification_report,confusion_matrix\n",
    "print(classification_report(Y_DoS_test,y_pred))"
   ]
  }
 ],
 "metadata": {
  "kaggle": {
   "accelerator": "none",
   "dataSources": [
    {
     "datasetId": 8150231,
     "sourceId": 12882461,
     "sourceType": "datasetVersion"
    }
   ],
   "dockerImageVersionId": 31090,
   "isGpuEnabled": false,
   "isInternetEnabled": true,
   "language": "python",
   "sourceType": "notebook"
  },
  "kernelspec": {
   "display_name": "Python 3",
   "language": "python",
   "name": "python3"
  },
  "language_info": {
   "codemirror_mode": {
    "name": "ipython",
    "version": 3
   },
   "file_extension": ".py",
   "mimetype": "text/x-python",
   "name": "python",
   "nbconvert_exporter": "python",
   "pygments_lexer": "ipython3",
   "version": "3.11.13"
  }
 },
 "nbformat": 4,
 "nbformat_minor": 5
}
