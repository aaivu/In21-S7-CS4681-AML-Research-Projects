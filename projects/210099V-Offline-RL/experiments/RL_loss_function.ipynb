{
  "nbformat": 4,
  "nbformat_minor": 0,
  "metadata": {
    "colab": {
      "provenance": []
    },
    "kernelspec": {
      "name": "python3",
      "display_name": "Python 3"
    },
    "language_info": {
      "name": "python"
    }
  },
  "cells": [
    {
      "cell_type": "markdown",
      "metadata": {
        "id": "y2olIVy_xRKp"
      },
      "source": [
        "# **Loss 1**"
      ]
    },
    {
      "cell_type": "markdown",
      "source": [
        "Set κ=1 in the quantile Huber loss to smooth small TD-errors while preserving quantile asymmetry, matching the QR-DQN setup and improving stability.”"
      ],
      "metadata": {
        "id": "EC05jMxaCOy5"
      }
    },
    {
      "cell_type": "code",
      "execution_count": null,
      "metadata": {
        "id": "qItdD7cpKxOI"
      },
      "outputs": [],
      "source": [
        "# %pip -q install gymnasium==0.29.1\n",
        "\n",
        "import os, random, math, time, collections\n",
        "import numpy as np\n",
        "import torch\n",
        "import torch.nn as nn\n",
        "import torch.nn.functional as F\n",
        "\n",
        "try:\n",
        "    import gymnasium as gym\n",
        "except Exception:\n",
        "    import sys, subprocess\n",
        "    subprocess.check_call([sys.executable, \"-m\", \"pip\", \"install\", \"-q\", \"gymnasium==0.29.1\"])\n",
        "    import gymnasium as gym\n",
        "\n",
        "def set_seed(seed: int):\n",
        "    random.seed(seed)\n",
        "    np.random.seed(seed)\n",
        "    torch.manual_seed(seed)\n",
        "    torch.cuda.manual_seed_all(seed)\n"
      ]
    },
    {
      "cell_type": "code",
      "execution_count": null,
      "metadata": {
        "colab": {
          "base_uri": "https://localhost:8080/"
        },
        "id": "vsGKgm31Kxal",
        "outputId": "6ec07006-b09b-4c77-9cb9-c5a5d97b36fc"
      },
      "outputs": [
        {
          "data": {
            "text/plain": [
              "device(type='cuda')"
            ]
          },
          "execution_count": 3,
          "metadata": {},
          "output_type": "execute_result"
        }
      ],
      "source": [
        "class Cfg:\n",
        "    env_id         = \"CartPole-v1\"\n",
        "    base_seed      = 7\n",
        "    device         = \"cuda\" if torch.cuda.is_available() else \"cpu\"\n",
        "\n",
        "    # QR-DQN\n",
        "    n_quantiles    = 51\n",
        "    gamma          = 0.99\n",
        "\n",
        "    # Net / Optim\n",
        "    hidden         = 128\n",
        "    lr             = 5e-4\n",
        "    adam_eps       = 1e-8\n",
        "    grad_clip      = 10.0\n",
        "\n",
        "    # Replay & Train\n",
        "    buffer_size    = 100_000\n",
        "    batch_size     = 64\n",
        "    learn_start    = 1_000\n",
        "    total_steps    = 50_000\n",
        "    target_tau     = 1_000   # hard update every τ steps\n",
        "\n",
        "    # Exploration\n",
        "    eps_start      = 1.0\n",
        "    eps_final      = 0.01\n",
        "    eps_decay      = 25_000\n",
        "\n",
        "    # What to run\n",
        "    run_baseline_pinball = True   # κ=0 (plain pinball)\n",
        "    run_modified_huber1  = True   # κ=1 (quantile Huber)\n",
        "\n",
        "cfg = Cfg()\n",
        "device = torch.device(cfg.device)\n",
        "device\n"
      ]
    },
    {
      "cell_type": "code",
      "execution_count": null,
      "metadata": {
        "colab": {
          "base_uri": "https://localhost:8080/"
        },
        "id": "u32H29cwKxnf",
        "outputId": "f7334282-753f-47e3-d8af-b647478d9d80"
      },
      "outputs": [
        {
          "data": {
            "text/plain": [
              "(4, np.int64(2))"
            ]
          },
          "execution_count": 4,
          "metadata": {},
          "output_type": "execute_result"
        }
      ],
      "source": [
        "def make_env(env_id, seed):\n",
        "    env = gym.make(env_id)\n",
        "    env.reset(seed=seed)\n",
        "    return env\n",
        "\n",
        "# discover shapes\n",
        "_tmp_env = make_env(cfg.env_id, cfg.base_seed)\n",
        "obs_dim = _tmp_env.observation_space.shape[0]\n",
        "n_actions = _tmp_env.action_space.n\n",
        "_tmp_env.close()\n",
        "obs_dim, n_actions\n"
      ]
    },
    {
      "cell_type": "markdown",
      "metadata": {
        "id": "UB9AyDEIKxn-"
      },
      "source": [
        "QR-DQN network ([B, A, N])"
      ]
    },
    {
      "cell_type": "code",
      "execution_count": null,
      "metadata": {
        "id": "_gRIdhoAKxn-"
      },
      "outputs": [],
      "source": [
        "class QRDQN(nn.Module):\n",
        "    def __init__(self, obs_dim, n_actions, n_quantiles, hidden=128):\n",
        "        super().__init__()\n",
        "        self.n_actions = n_actions\n",
        "        self.n_quantiles = n_quantiles\n",
        "        self.net = nn.Sequential(\n",
        "            nn.Linear(obs_dim, hidden), nn.ReLU(),\n",
        "            nn.Linear(hidden, hidden), nn.ReLU(),\n",
        "            nn.Linear(hidden, n_actions * n_quantiles),\n",
        "        )\n",
        "    def forward(self, x):\n",
        "        out = self.net(x)\n",
        "        return out.view(x.size(0), self.n_actions, self.n_quantiles)\n"
      ]
    },
    {
      "cell_type": "markdown",
      "metadata": {
        "id": "ohDcAPQtKx2t"
      },
      "source": [
        "Uniform replay buffer"
      ]
    },
    {
      "cell_type": "code",
      "execution_count": null,
      "metadata": {
        "id": "w84DmCViKx2t"
      },
      "outputs": [],
      "source": [
        "class ReplayBuffer:\n",
        "    def __init__(self, capacity):\n",
        "        self.data = collections.deque(maxlen=capacity)\n",
        "    def push(self, s, a, r, ns, d):\n",
        "        self.data.append((s, a, r, ns, d))\n",
        "    def sample(self, batch_size, device):\n",
        "        idx = np.random.randint(0, len(self.data), size=batch_size)\n",
        "        s, a, r, ns, d = zip(*(self.data[i] for i in idx))\n",
        "        return (\n",
        "            torch.tensor(np.array(s), dtype=torch.float32, device=device),\n",
        "            torch.tensor(np.array(a), dtype=torch.int64,   device=device),\n",
        "            torch.tensor(np.array(r), dtype=torch.float32, device=device),\n",
        "            torch.tensor(np.array(ns),dtype=torch.float32, device=device),\n",
        "            torch.tensor(np.array(d), dtype=torch.float32, device=device),\n",
        "        )\n",
        "    def __len__(self): return len(self.data)\n"
      ]
    },
    {
      "cell_type": "markdown",
      "metadata": {
        "id": "4h9mroEsKx3T"
      },
      "source": [
        "τ midpoints + both losses (pinball κ=0, huber κ=1)"
      ]
    },
    {
      "cell_type": "code",
      "execution_count": null,
      "metadata": {
        "id": "bEjg412oKx3T"
      },
      "outputs": [],
      "source": [
        "def quantile_midpoints(n_quantiles: int, device=None, dtype=torch.float32):\n",
        "    return (torch.arange(n_quantiles, device=device, dtype=dtype) + 0.5) / n_quantiles\n",
        "\n",
        "def quantile_loss_general(pred_q, target_q, taus, kappa: float, reduction=\"mean\"):\n",
        "    \"\"\"\n",
        "    pred_q:   [B, N]\n",
        "    target_q: [B, N']  (we use N'=N here)\n",
        "    taus:     [N]\n",
        "    kappa:    0.0 -> pinball; 1.0 -> quantile Huber with κ=1\n",
        "    \"\"\"\n",
        "    B, N  = pred_q.shape\n",
        "    pred  = pred_q.unsqueeze(2)\n",
        "    tgt   = target_q.unsqueeze(1)\n",
        "    u     = tgt - pred\n",
        "    abs_u = u.abs()\n",
        "\n",
        "    if kappa > 0.0:\n",
        "        huber = torch.where(abs_u <= kappa, 0.5*(u**2), kappa*(abs_u - 0.5*kappa))\n",
        "        huber = huber / kappa\n",
        "    else:\n",
        "        huber = abs_u\n",
        "\n",
        "    taus = taus.view(1, N, 1)\n",
        "    indicator = (u.detach() < 0.0).float()\n",
        "    quantile_weight = (taus - indicator).abs()\n",
        "    loss = quantile_weight * huber\n",
        "\n",
        "    if reduction == \"mean\": return loss.mean()\n",
        "    if reduction == \"sum\":  return loss.sum()\n",
        "    return loss\n",
        "\n",
        "def pinball_loss(pred_q, target_q, taus):     # κ = 0\n",
        "    return quantile_loss_general(pred_q, target_q, taus, kappa=0.0, reduction=\"mean\")\n",
        "\n",
        "def huber_quantile_loss(pred_q, target_q, taus):  # κ = 1\n",
        "    return quantile_loss_general(pred_q, target_q, taus, kappa=1.0, reduction=\"mean\")\n"
      ]
    },
    {
      "cell_type": "markdown",
      "metadata": {
        "id": "1UxrlHqxKx5j"
      },
      "source": [
        "Policy, targets, and a self-contained trainer"
      ]
    },
    {
      "cell_type": "code",
      "execution_count": null,
      "metadata": {
        "id": "Fvws60UrKx5j"
      },
      "outputs": [],
      "source": [
        "def epsilon_by_step(step, cfg):\n",
        "    return float(cfg.eps_final + (cfg.eps_start - cfg.eps_final) * max(0.0, 1.0 - step / cfg.eps_decay))\n",
        "\n",
        "@torch.no_grad()\n",
        "def act_epsilon_greedy(state, online, epsilon, device):\n",
        "    if random.random() < epsilon:\n",
        "        return random.randrange(online.n_actions)\n",
        "    s = torch.tensor(state, dtype=torch.float32, device=device).unsqueeze(0)\n",
        "    q = online(s)\n",
        "    q_mean = q.mean(2)\n",
        "    return int(q_mean.argmax(1).item())\n",
        "\n",
        "def compute_loss(batch, online, target, taus, cfg, loss_mode: str):\n",
        "    s, a, r, ns, d = batch\n",
        "    B = s.size(0)\n",
        "    q_all = online(s)\n",
        "    q_chosen = q_all.gather(1, a.view(B,1,1).expand(B,1,cfg.n_quantiles)).squeeze(1)\n",
        "\n",
        "    with torch.no_grad():\n",
        "        next_q_online = online(ns)\n",
        "        next_a = next_q_online.mean(2).argmax(1, keepdim=True)\n",
        "        next_q_target = target(ns).gather(1, next_a.unsqueeze(-1).expand(-1,-1,cfg.n_quantiles)).squeeze(1)\n",
        "        target_q = r.unsqueeze(1) + (1.0 - d.unsqueeze(1)) * cfg.gamma * next_q_target\n",
        "\n",
        "    if   loss_mode == \"pinball\": return pinball_loss(q_chosen, target_q, taus)\n",
        "    elif loss_mode == \"huber1\":  return huber_quantile_loss(q_chosen, target_q, taus)\n",
        "    else: raise ValueError(\"loss_mode must be 'pinball' or 'huber1'\")\n",
        "\n",
        "def train_one(run_name: str, loss_mode: str, seed: int, cfg=cfg):\n",
        "    print(f\"=== Training {run_name} | loss={loss_mode} ===\")\n",
        "    set_seed(seed)\n",
        "    env = make_env(cfg.env_id, seed)\n",
        "    replay = ReplayBuffer(cfg.buffer_size)\n",
        "\n",
        "    online = QRDQN(obs_dim, n_actions, cfg.n_quantiles, cfg.hidden).to(device)\n",
        "    target = QRDQN(obs_dim, n_actions, cfg.n_quantiles, cfg.hidden).to(device)\n",
        "    target.load_state_dict(online.state_dict())\n",
        "\n",
        "    optimizer = torch.optim.Adam(online.parameters(), lr=cfg.lr, eps=cfg.adam_eps)\n",
        "    taus = quantile_midpoints(cfg.n_quantiles, device=device)\n",
        "\n",
        "    returns = []\n",
        "    s, _ = env.reset(seed=seed)\n",
        "    for step in range(1, cfg.total_steps + 1):\n",
        "        eps = epsilon_by_step(step, cfg)\n",
        "        a = act_epsilon_greedy(s, online, eps, device)\n",
        "        ns, r, term, trunc, _ = env.step(a)\n",
        "        done = term or trunc\n",
        "\n",
        "        replay.push(s, a, r, ns, float(done))\n",
        "        s = ns\n",
        "\n",
        "        if len(replay) >= cfg.learn_start:\n",
        "            batch = replay.sample(cfg.batch_size, device)\n",
        "            loss = compute_loss(batch, online, target, taus, cfg, loss_mode)\n",
        "            optimizer.zero_grad(set_to_none=True)\n",
        "            loss.backward()\n",
        "            if cfg.grad_clip is not None:\n",
        "                nn.utils.clip_grad_norm_(online.parameters(), cfg.grad_clip)\n",
        "            optimizer.step()\n",
        "\n",
        "        if step % cfg.target_tau == 0:\n",
        "            target.load_state_dict(online.state_dict())\n",
        "\n",
        "        if done:\n",
        "            with torch.no_grad():\n",
        "                probe_ret = 0.0\n",
        "                s_eval, _ = env.reset()\n",
        "                for _ in range(500):\n",
        "                    a_eval = act_epsilon_greedy(s_eval, online, 0.0, device)\n",
        "                    s_eval, r_eval, te, tr, _ = env.step(a_eval)\n",
        "                    probe_ret += r_eval\n",
        "                    if te or tr: break\n",
        "            returns.append(probe_ret)\n",
        "            s, _ = env.reset()\n",
        "\n",
        "        if step % 5000 == 0:\n",
        "            recent = np.mean(returns[-10:]) if returns else 0.0\n",
        "            print(f\"[{run_name}] step {step:6d} | buffer={len(replay):6d} | eps={eps:.03f} | recent(10)={recent:.1f}\")\n",
        "\n",
        "    # Final evaluation\n",
        "    def evaluate(episodes=10):\n",
        "        scores = []\n",
        "        for ep in range(episodes):\n",
        "            s_eval, _ = env.reset(seed=seed + 1000 + ep)\n",
        "            total = 0.0\n",
        "            for _ in range(1000):\n",
        "                a_eval = act_epsilon_greedy(s_eval, online, 0.0, device)\n",
        "                s_eval, r_eval, te, tr, _ = env.step(a_eval)\n",
        "                total += r_eval\n",
        "                if te or tr: break\n",
        "            scores.append(total)\n",
        "        return float(np.mean(scores)), scores\n",
        "\n",
        "    mean_eval, eval_scores = evaluate(episodes=10)\n",
        "    env.close()\n",
        "\n",
        "    ckpt_path = f\"/content/{run_name}.pt\"\n",
        "    torch.save({\"model\": online.state_dict(), \"cfg\": vars(cfg),\n",
        "                \"obs_dim\": obs_dim, \"n_actions\": n_actions}, ckpt_path)\n",
        "    print(f\"Saved: {ckpt_path} | Mean greedy eval (10 eps): {mean_eval:.2f}\")\n",
        "\n",
        "    return {\"name\": run_name, \"returns\": returns, \"mean_eval\": mean_eval, \"ckpt\": ckpt_path}\n"
      ]
    },
    {
      "cell_type": "markdown",
      "metadata": {
        "id": "BBrZBjt1KyHq"
      },
      "source": [
        "Run baseline and/or modified, compare & plot"
      ]
    },
    {
      "cell_type": "code",
      "execution_count": null,
      "metadata": {
        "colab": {
          "base_uri": "https://localhost:8080/",
          "height": 874
        },
        "id": "vbg4qE3bKyHq",
        "outputId": "dbeb2f02-c52c-4d7e-9bb8-6cc015102a57"
      },
      "outputs": [
        {
          "name": "stdout",
          "output_type": "stream",
          "text": [
            "=== Training qrdqn_pinball_k0 | loss=pinball ===\n",
            "[qrdqn_pinball_k0] step   5000 | buffer=  5000 | eps=0.802 | recent(10)=169.4\n",
            "[qrdqn_pinball_k0] step  10000 | buffer= 10000 | eps=0.604 | recent(10)=157.7\n",
            "[qrdqn_pinball_k0] step  15000 | buffer= 15000 | eps=0.406 | recent(10)=138.5\n",
            "[qrdqn_pinball_k0] step  20000 | buffer= 20000 | eps=0.208 | recent(10)=227.0\n",
            "[qrdqn_pinball_k0] step  25000 | buffer= 25000 | eps=0.010 | recent(10)=234.7\n",
            "[qrdqn_pinball_k0] step  30000 | buffer= 30000 | eps=0.010 | recent(10)=174.0\n",
            "[qrdqn_pinball_k0] step  35000 | buffer= 35000 | eps=0.010 | recent(10)=187.5\n",
            "[qrdqn_pinball_k0] step  40000 | buffer= 40000 | eps=0.010 | recent(10)=164.0\n",
            "[qrdqn_pinball_k0] step  45000 | buffer= 45000 | eps=0.010 | recent(10)=126.2\n",
            "[qrdqn_pinball_k0] step  50000 | buffer= 50000 | eps=0.010 | recent(10)=122.0\n",
            "Saved: /content/qrdqn_pinball_k0.pt | Mean greedy eval (10 eps): 121.00\n",
            "=== Training qrdqn_huber_k1 | loss=huber1 ===\n",
            "[qrdqn_huber_k1] step   5000 | buffer=  5000 | eps=0.802 | recent(10)=148.9\n",
            "[qrdqn_huber_k1] step  10000 | buffer= 10000 | eps=0.604 | recent(10)=161.3\n",
            "[qrdqn_huber_k1] step  15000 | buffer= 15000 | eps=0.406 | recent(10)=111.9\n",
            "[qrdqn_huber_k1] step  20000 | buffer= 20000 | eps=0.208 | recent(10)=138.1\n",
            "[qrdqn_huber_k1] step  25000 | buffer= 25000 | eps=0.010 | recent(10)=165.6\n",
            "[qrdqn_huber_k1] step  30000 | buffer= 30000 | eps=0.010 | recent(10)=181.4\n",
            "[qrdqn_huber_k1] step  35000 | buffer= 35000 | eps=0.010 | recent(10)=182.5\n",
            "[qrdqn_huber_k1] step  40000 | buffer= 40000 | eps=0.010 | recent(10)=143.7\n",
            "[qrdqn_huber_k1] step  45000 | buffer= 45000 | eps=0.010 | recent(10)=121.6\n",
            "[qrdqn_huber_k1] step  50000 | buffer= 50000 | eps=0.010 | recent(10)=129.2\n",
            "Saved: /content/qrdqn_huber_k1.pt | Mean greedy eval (10 eps): 101.70\n",
            "qrdqn_pinball_k0: mean_eval=121.00, ckpt=/content/qrdqn_pinball_k0.pt\n",
            "qrdqn_huber_k1: mean_eval=101.70, ckpt=/content/qrdqn_huber_k1.pt\n"
          ]
        },
        {
          "data": {
            "image/png": "[encoded data removed]",
            "text/plain": [
              "<Figure size 700x400 with 1 Axes>"
            ]
          },
          "metadata": {},
          "output_type": "display_data"
        }
      ],
      "source": [
        "results = []\n",
        "\n",
        "if cfg.run_baseline_pinball:\n",
        "    res_base = train_one(run_name=\"qrdqn_pinball_k0\", loss_mode=\"pinball\", seed=cfg.base_seed)\n",
        "    results.append(res_base)\n",
        "\n",
        "if cfg.run_modified_huber1:\n",
        "    res_mod = train_one(run_name=\"qrdqn_huber_k1\", loss_mode=\"huber1\", seed=cfg.base_seed)\n",
        "    results.append(res_mod)\n",
        "\n",
        "for r in results:\n",
        "    print(f\"{r['name']}: mean_eval={r['mean_eval']:.2f}, ckpt={r['ckpt']}\")\n",
        "\n",
        "try:\n",
        "    import matplotlib.pyplot as plt\n",
        "    plt.figure(figsize=(7,4))\n",
        "    for r in results:\n",
        "        plt.plot(r[\"returns\"], label=r[\"name\"])\n",
        "    plt.xlabel(\"Episode (proxy)\")\n",
        "    plt.ylabel(\"Greedy return\")\n",
        "    plt.title(\"QR-DQN: Baseline (pinball κ=0) vs Modified (huber κ=1)\")\n",
        "    plt.legend()\n",
        "    plt.show()\n",
        "except Exception as e:\n",
        "    print(\"Plot error:\", e)\n"
      ]
    },
    {
      "cell_type": "markdown",
      "metadata": {
        "id": "48CgJNxqKyLC"
      },
      "source": [
        "quick load & eval a checkpoint"
      ]
    },
    {
      "cell_type": "code",
      "execution_count": null,
      "metadata": {
        "colab": {
          "base_uri": "https://localhost:8080/"
        },
        "id": "BElUf5U_KyLC",
        "outputId": "4f8f344e-17f4-4f2f-c9fd-a40beb33c47e"
      },
      "outputs": [
        {
          "name": "stdout",
          "output_type": "stream",
          "text": [
            "[Reload check] qrdqn_pinball_k0: mean_eval=121.41\n",
            "[Reload check] qrdqn_huber_k1: mean_eval=101.43\n"
          ]
        }
      ],
      "source": [
        "import torch, numpy as np\n",
        "\n",
        "def safe_load_state(ckpt_path, device):\n",
        "    try:\n",
        "        payload = torch.load(ckpt_path, map_location=device)\n",
        "    except Exception:\n",
        "        try:\n",
        "            torch.serialization.add_safe_globals([np._core.multiarray.scalar])\n",
        "            payload = torch.load(ckpt_path, map_location=device)\n",
        "        except Exception:\n",
        "            payload = torch.load(ckpt_path, map_location=device, weights_only=False)\n",
        "\n",
        "    if isinstance(payload, dict) and \"model\" in payload:\n",
        "        state_dict = payload[\"model\"]\n",
        "    else:\n",
        "        state_dict = payload\n",
        "    return state_dict\n",
        "\n",
        "def load_and_eval(ckpt_path, episodes=10):\n",
        "    env = make_env(cfg.env_id, cfg.base_seed + 2025)\n",
        "    model = QRDQN(obs_dim, n_actions, cfg.n_quantiles, cfg.hidden).to(device)\n",
        "\n",
        "    state_dict = safe_load_state(ckpt_path, device)\n",
        "    model.load_state_dict(state_dict)\n",
        "\n",
        "    @torch.no_grad()\n",
        "    def greedy_episode():\n",
        "        s, _ = env.reset()\n",
        "        total = 0.0\n",
        "        for _ in range(1000):\n",
        "            a = act_epsilon_greedy(s, model, 0.0, device)\n",
        "            s, r, term, trunc, _ = env.step(a)\n",
        "            total += r\n",
        "            if term or trunc:\n",
        "                break\n",
        "        return total\n",
        "\n",
        "    scores = [greedy_episode() for _ in range(episodes)]\n",
        "    env.close()\n",
        "    return float(np.mean(scores)), scores\n",
        "\n",
        "for r in results:\n",
        "    mean_eval, _ = load_and_eval(r[\"ckpt\"], episodes=1000)\n",
        "    print(f\"[Reload check] {r['name']}: mean_eval={mean_eval:.2f}\")\n"
      ]
    },
    {
      "cell_type": "markdown",
      "metadata": {
        "id": "bwr0piPjKyMO"
      },
      "source": [
        "Multi-seed runner (current settings)"
      ]
    },
    {
      "cell_type": "code",
      "execution_count": null,
      "metadata": {
        "id": "L1GbpV-pOhgT"
      },
      "outputs": [],
      "source": [
        "def run_experiment(loss_mode, seeds, cfg_template):\n",
        "    res = []\n",
        "    for s in seeds:\n",
        "        cfg_local = copy.deepcopy(cfg_template)\n",
        "        out = train_one(run_name=f\"{loss_mode}_seed{s}\", loss_mode=loss_mode, seed=s, cfg=cfg_local)\n",
        "        res.append(out[\"mean_eval\"])\n",
        "    return np.array(res, dtype=np.float32)"
      ]
    },
    {
      "cell_type": "code",
      "execution_count": null,
      "metadata": {
        "colab": {
          "base_uri": "https://localhost:8080/"
        },
        "id": "Y_8VxQOvKyMO",
        "outputId": "362391f1-273f-4e50-94fc-66d75c74920f"
      },
      "outputs": [
        {
          "name": "stdout",
          "output_type": "stream",
          "text": [
            "=== Multi-seed (current config) ===\n",
            "=== Training pinball_seed7 | loss=pinball ===\n",
            "[pinball_seed7] step   5000 | buffer=  5000 | eps=0.802 | recent(10)=169.4\n",
            "[pinball_seed7] step  10000 | buffer= 10000 | eps=0.604 | recent(10)=157.7\n",
            "[pinball_seed7] step  15000 | buffer= 15000 | eps=0.406 | recent(10)=138.5\n",
            "[pinball_seed7] step  20000 | buffer= 20000 | eps=0.208 | recent(10)=227.0\n",
            "[pinball_seed7] step  25000 | buffer= 25000 | eps=0.010 | recent(10)=234.7\n",
            "[pinball_seed7] step  30000 | buffer= 30000 | eps=0.010 | recent(10)=174.0\n",
            "[pinball_seed7] step  35000 | buffer= 35000 | eps=0.010 | recent(10)=187.5\n",
            "[pinball_seed7] step  40000 | buffer= 40000 | eps=0.010 | recent(10)=164.0\n",
            "[pinball_seed7] step  45000 | buffer= 45000 | eps=0.010 | recent(10)=126.2\n",
            "[pinball_seed7] step  50000 | buffer= 50000 | eps=0.010 | recent(10)=122.0\n",
            "Saved: /content/pinball_seed7.pt | Mean greedy eval (10 eps): 121.00\n",
            "=== Training pinball_seed8 | loss=pinball ===\n",
            "[pinball_seed8] step   5000 | buffer=  5000 | eps=0.802 | recent(10)=147.8\n",
            "[pinball_seed8] step  10000 | buffer= 10000 | eps=0.604 | recent(10)=104.8\n",
            "[pinball_seed8] step  15000 | buffer= 15000 | eps=0.406 | recent(10)=186.4\n",
            "[pinball_seed8] step  20000 | buffer= 20000 | eps=0.208 | recent(10)=150.4\n",
            "[pinball_seed8] step  25000 | buffer= 25000 | eps=0.010 | recent(10)=290.2\n",
            "[pinball_seed8] step  30000 | buffer= 30000 | eps=0.010 | recent(10)=170.9\n",
            "[pinball_seed8] step  35000 | buffer= 35000 | eps=0.010 | recent(10)=245.0\n",
            "[pinball_seed8] step  40000 | buffer= 40000 | eps=0.010 | recent(10)=391.0\n",
            "[pinball_seed8] step  45000 | buffer= 45000 | eps=0.010 | recent(10)=217.6\n",
            "[pinball_seed8] step  50000 | buffer= 50000 | eps=0.010 | recent(10)=194.2\n",
            "Saved: /content/pinball_seed8.pt | Mean greedy eval (10 eps): 139.10\n",
            "=== Training pinball_seed9 | loss=pinball ===\n",
            "[pinball_seed9] step   5000 | buffer=  5000 | eps=0.802 | recent(10)=118.2\n",
            "[pinball_seed9] step  10000 | buffer= 10000 | eps=0.604 | recent(10)=194.9\n",
            "[pinball_seed9] step  15000 | buffer= 15000 | eps=0.406 | recent(10)=115.7\n",
            "[pinball_seed9] step  20000 | buffer= 20000 | eps=0.208 | recent(10)=167.8\n",
            "[pinball_seed9] step  25000 | buffer= 25000 | eps=0.010 | recent(10)=275.5\n",
            "[pinball_seed9] step  30000 | buffer= 30000 | eps=0.010 | recent(10)=232.6\n",
            "[pinball_seed9] step  35000 | buffer= 35000 | eps=0.010 | recent(10)=188.0\n",
            "[pinball_seed9] step  40000 | buffer= 40000 | eps=0.010 | recent(10)=111.1\n",
            "[pinball_seed9] step  45000 | buffer= 45000 | eps=0.010 | recent(10)=121.8\n",
            "[pinball_seed9] step  50000 | buffer= 50000 | eps=0.010 | recent(10)=135.2\n",
            "Saved: /content/pinball_seed9.pt | Mean greedy eval (10 eps): 186.50\n",
            "=== Training pinball_seed10 | loss=pinball ===\n",
            "[pinball_seed10] step   5000 | buffer=  5000 | eps=0.802 | recent(10)=171.7\n",
            "[pinball_seed10] step  10000 | buffer= 10000 | eps=0.604 | recent(10)=167.5\n",
            "[pinball_seed10] step  15000 | buffer= 15000 | eps=0.406 | recent(10)=127.8\n",
            "[pinball_seed10] step  20000 | buffer= 20000 | eps=0.208 | recent(10)=136.9\n",
            "[pinball_seed10] step  25000 | buffer= 25000 | eps=0.010 | recent(10)=135.0\n",
            "[pinball_seed10] step  30000 | buffer= 30000 | eps=0.010 | recent(10)=147.0\n",
            "[pinball_seed10] step  35000 | buffer= 35000 | eps=0.010 | recent(10)=141.0\n",
            "[pinball_seed10] step  40000 | buffer= 40000 | eps=0.010 | recent(10)=185.8\n",
            "[pinball_seed10] step  45000 | buffer= 45000 | eps=0.010 | recent(10)=186.6\n",
            "[pinball_seed10] step  50000 | buffer= 50000 | eps=0.010 | recent(10)=163.1\n",
            "Saved: /content/pinball_seed10.pt | Mean greedy eval (10 eps): 151.00\n",
            "=== Training pinball_seed11 | loss=pinball ===\n",
            "[pinball_seed11] step   5000 | buffer=  5000 | eps=0.802 | recent(10)=318.3\n",
            "[pinball_seed11] step  10000 | buffer= 10000 | eps=0.604 | recent(10)=110.6\n",
            "[pinball_seed11] step  15000 | buffer= 15000 | eps=0.406 | recent(10)=127.0\n",
            "[pinball_seed11] step  20000 | buffer= 20000 | eps=0.208 | recent(10)=163.7\n",
            "[pinball_seed11] step  25000 | buffer= 25000 | eps=0.010 | recent(10)=381.8\n",
            "[pinball_seed11] step  30000 | buffer= 30000 | eps=0.010 | recent(10)=231.3\n",
            "[pinball_seed11] step  35000 | buffer= 35000 | eps=0.010 | recent(10)=196.5\n",
            "[pinball_seed11] step  40000 | buffer= 40000 | eps=0.010 | recent(10)=139.9\n",
            "[pinball_seed11] step  45000 | buffer= 45000 | eps=0.010 | recent(10)=183.6\n",
            "[pinball_seed11] step  50000 | buffer= 50000 | eps=0.010 | recent(10)=127.7\n",
            "Saved: /content/pinball_seed11.pt | Mean greedy eval (10 eps): 133.20\n",
            "=== Training huber1_seed7 | loss=huber1 ===\n",
            "[huber1_seed7] step   5000 | buffer=  5000 | eps=0.802 | recent(10)=148.9\n",
            "[huber1_seed7] step  10000 | buffer= 10000 | eps=0.604 | recent(10)=161.3\n",
            "[huber1_seed7] step  15000 | buffer= 15000 | eps=0.406 | recent(10)=111.9\n",
            "[huber1_seed7] step  20000 | buffer= 20000 | eps=0.208 | recent(10)=138.1\n",
            "[huber1_seed7] step  25000 | buffer= 25000 | eps=0.010 | recent(10)=165.6\n",
            "[huber1_seed7] step  30000 | buffer= 30000 | eps=0.010 | recent(10)=181.4\n",
            "[huber1_seed7] step  35000 | buffer= 35000 | eps=0.010 | recent(10)=182.5\n",
            "[huber1_seed7] step  40000 | buffer= 40000 | eps=0.010 | recent(10)=143.7\n",
            "[huber1_seed7] step  45000 | buffer= 45000 | eps=0.010 | recent(10)=121.6\n",
            "[huber1_seed7] step  50000 | buffer= 50000 | eps=0.010 | recent(10)=129.2\n",
            "Saved: /content/huber1_seed7.pt | Mean greedy eval (10 eps): 101.70\n",
            "=== Training huber1_seed8 | loss=huber1 ===\n",
            "[huber1_seed8] step   5000 | buffer=  5000 | eps=0.802 | recent(10)=92.7\n",
            "[huber1_seed8] step  10000 | buffer= 10000 | eps=0.604 | recent(10)=171.4\n",
            "[huber1_seed8] step  15000 | buffer= 15000 | eps=0.406 | recent(10)=107.4\n",
            "[huber1_seed8] step  20000 | buffer= 20000 | eps=0.208 | recent(10)=129.0\n",
            "[huber1_seed8] step  25000 | buffer= 25000 | eps=0.010 | recent(10)=170.0\n",
            "[huber1_seed8] step  30000 | buffer= 30000 | eps=0.010 | recent(10)=135.0\n",
            "[huber1_seed8] step  35000 | buffer= 35000 | eps=0.010 | recent(10)=186.6\n",
            "[huber1_seed8] step  40000 | buffer= 40000 | eps=0.010 | recent(10)=168.3\n",
            "[huber1_seed8] step  45000 | buffer= 45000 | eps=0.010 | recent(10)=157.4\n",
            "[huber1_seed8] step  50000 | buffer= 50000 | eps=0.010 | recent(10)=237.4\n",
            "Saved: /content/huber1_seed8.pt | Mean greedy eval (10 eps): 209.60\n",
            "=== Training huber1_seed9 | loss=huber1 ===\n",
            "[huber1_seed9] step   5000 | buffer=  5000 | eps=0.802 | recent(10)=130.6\n",
            "[huber1_seed9] step  10000 | buffer= 10000 | eps=0.604 | recent(10)=269.4\n",
            "[huber1_seed9] step  15000 | buffer= 15000 | eps=0.406 | recent(10)=147.6\n",
            "[huber1_seed9] step  20000 | buffer= 20000 | eps=0.208 | recent(10)=135.3\n",
            "[huber1_seed9] step  25000 | buffer= 25000 | eps=0.010 | recent(10)=243.2\n",
            "[huber1_seed9] step  30000 | buffer= 30000 | eps=0.010 | recent(10)=217.4\n",
            "[huber1_seed9] step  35000 | buffer= 35000 | eps=0.010 | recent(10)=188.1\n",
            "[huber1_seed9] step  40000 | buffer= 40000 | eps=0.010 | recent(10)=173.0\n",
            "[huber1_seed9] step  45000 | buffer= 45000 | eps=0.010 | recent(10)=130.4\n",
            "[huber1_seed9] step  50000 | buffer= 50000 | eps=0.010 | recent(10)=214.7\n",
            "Saved: /content/huber1_seed9.pt | Mean greedy eval (10 eps): 125.00\n",
            "=== Training huber1_seed10 | loss=huber1 ===\n",
            "[huber1_seed10] step   5000 | buffer=  5000 | eps=0.802 | recent(10)=224.9\n",
            "[huber1_seed10] step  10000 | buffer= 10000 | eps=0.604 | recent(10)=173.8\n",
            "[huber1_seed10] step  15000 | buffer= 15000 | eps=0.406 | recent(10)=121.0\n",
            "[huber1_seed10] step  20000 | buffer= 20000 | eps=0.208 | recent(10)=186.3\n",
            "[huber1_seed10] step  25000 | buffer= 25000 | eps=0.010 | recent(10)=194.8\n",
            "[huber1_seed10] step  30000 | buffer= 30000 | eps=0.010 | recent(10)=195.0\n",
            "[huber1_seed10] step  35000 | buffer= 35000 | eps=0.010 | recent(10)=157.1\n",
            "[huber1_seed10] step  40000 | buffer= 40000 | eps=0.010 | recent(10)=167.6\n",
            "[huber1_seed10] step  45000 | buffer= 45000 | eps=0.010 | recent(10)=150.3\n",
            "[huber1_seed10] step  50000 | buffer= 50000 | eps=0.010 | recent(10)=139.8\n",
            "Saved: /content/huber1_seed10.pt | Mean greedy eval (10 eps): 169.70\n",
            "=== Training huber1_seed11 | loss=huber1 ===\n",
            "[huber1_seed11] step   5000 | buffer=  5000 | eps=0.802 | recent(10)=120.4\n",
            "[huber1_seed11] step  10000 | buffer= 10000 | eps=0.604 | recent(10)=160.5\n",
            "[huber1_seed11] step  15000 | buffer= 15000 | eps=0.406 | recent(10)=204.1\n",
            "[huber1_seed11] step  20000 | buffer= 20000 | eps=0.208 | recent(10)=126.0\n",
            "[huber1_seed11] step  25000 | buffer= 25000 | eps=0.010 | recent(10)=147.0\n",
            "[huber1_seed11] step  30000 | buffer= 30000 | eps=0.010 | recent(10)=129.3\n",
            "[huber1_seed11] step  35000 | buffer= 35000 | eps=0.010 | recent(10)=135.7\n",
            "[huber1_seed11] step  40000 | buffer= 40000 | eps=0.010 | recent(10)=158.8\n",
            "[huber1_seed11] step  45000 | buffer= 45000 | eps=0.010 | recent(10)=182.8\n",
            "[huber1_seed11] step  50000 | buffer= 50000 | eps=0.010 | recent(10)=144.7\n",
            "Saved: /content/huber1_seed11.pt | Mean greedy eval (10 eps): 230.60\n",
            "Baseline κ=0: mean=146.16  median=139.10  std=25.01  n=5  scores=[121.  139.1 186.5 151.  133.2]\n",
            "Huber κ=1: mean=167.32  median=169.70  std=54.53  n=5  scores=[101.7 209.6 125.  169.7 230.6]\n"
          ]
        }
      ],
      "source": [
        "import numpy as np, copy, time\n",
        "\n",
        "def run_experiment(loss_mode, seeds, cfg_template):\n",
        "    res = []\n",
        "    for s in seeds:\n",
        "        cfg_local = copy.deepcopy(cfg_template)\n",
        "        out = train_one(run_name=f\"{loss_mode}_seed{s}\", loss_mode=loss_mode, seed=s, cfg=cfg_local)\n",
        "        res.append(out[\"mean_eval\"])\n",
        "    return np.array(res, dtype=np.float32)\n",
        "\n",
        "seeds = [7, 8, 9, 10, 11]\n",
        "\n",
        "print(\"=== Multi-seed (current config) ===\")\n",
        "base_scores = run_experiment(\"pinball\", seeds, cfg)\n",
        "hub1_scores = run_experiment(\"huber1\", seeds, cfg)\n",
        "\n",
        "def summarize(name, scores):\n",
        "    print(f\"{name}: mean={scores.mean():.2f}  median={np.median(scores):.2f}  std={scores.std(ddof=1):.2f}  n={len(scores)}  scores={scores.round(1)}\")\n",
        "\n",
        "summarize(\"Baseline κ=0\", base_scores)\n",
        "summarize(\"Huber κ=1\",  hub1_scores)\n"
      ]
    },
    {
      "cell_type": "markdown",
      "metadata": {
        "id": "RGsHPsIqKyMv"
      },
      "source": [
        "Stability-tuned config (still loss-only ablation)"
      ]
    },
    {
      "cell_type": "code",
      "execution_count": null,
      "metadata": {
        "colab": {
          "base_uri": "https://localhost:8080/"
        },
        "id": "L9DbHxneKyMv",
        "outputId": "a92b9bef-738e-4f5c-b848-312f4aa98a02"
      },
      "outputs": [
        {
          "name": "stdout",
          "output_type": "stream",
          "text": [
            "=== Multi-seed (tuned config) ===\n",
            "=== Training pinball_seed7 | loss=pinball ===\n",
            "[pinball_seed7] step   5000 | buffer=  5000 | eps=0.901 | recent(10)=245.0\n",
            "[pinball_seed7] step  10000 | buffer= 10000 | eps=0.802 | recent(10)=155.6\n",
            "[pinball_seed7] step  15000 | buffer= 15000 | eps=0.703 | recent(10)=163.7\n",
            "[pinball_seed7] step  20000 | buffer= 20000 | eps=0.604 | recent(10)=341.6\n",
            "[pinball_seed7] step  25000 | buffer= 25000 | eps=0.505 | recent(10)=324.9\n",
            "[pinball_seed7] step  30000 | buffer= 30000 | eps=0.406 | recent(10)=200.7\n",
            "[pinball_seed7] step  35000 | buffer= 35000 | eps=0.307 | recent(10)=135.5\n",
            "[pinball_seed7] step  40000 | buffer= 40000 | eps=0.208 | recent(10)=122.3\n",
            "[pinball_seed7] step  45000 | buffer= 45000 | eps=0.109 | recent(10)=130.3\n",
            "[pinball_seed7] step  50000 | buffer= 50000 | eps=0.010 | recent(10)=169.7\n",
            "[pinball_seed7] step  55000 | buffer= 55000 | eps=0.010 | recent(10)=156.5\n",
            "[pinball_seed7] step  60000 | buffer= 60000 | eps=0.010 | recent(10)=129.7\n",
            "[pinball_seed7] step  65000 | buffer= 65000 | eps=0.010 | recent(10)=157.5\n",
            "[pinball_seed7] step  70000 | buffer= 70000 | eps=0.010 | recent(10)=122.2\n",
            "[pinball_seed7] step  75000 | buffer= 75000 | eps=0.010 | recent(10)=262.8\n",
            "[pinball_seed7] step  80000 | buffer= 80000 | eps=0.010 | recent(10)=343.1\n",
            "[pinball_seed7] step  85000 | buffer= 85000 | eps=0.010 | recent(10)=260.4\n",
            "[pinball_seed7] step  90000 | buffer= 90000 | eps=0.010 | recent(10)=500.0\n",
            "[pinball_seed7] step  95000 | buffer= 95000 | eps=0.010 | recent(10)=500.0\n",
            "[pinball_seed7] step 100000 | buffer=100000 | eps=0.010 | recent(10)=463.4\n",
            "Saved: /content/pinball_seed7.pt | Mean greedy eval (10 eps): 224.60\n",
            "=== Training pinball_seed8 | loss=pinball ===\n",
            "[pinball_seed8] step   5000 | buffer=  5000 | eps=0.901 | recent(10)=205.2\n",
            "[pinball_seed8] step  10000 | buffer= 10000 | eps=0.802 | recent(10)=118.8\n",
            "[pinball_seed8] step  15000 | buffer= 15000 | eps=0.703 | recent(10)=79.7\n",
            "[pinball_seed8] step  20000 | buffer= 20000 | eps=0.604 | recent(10)=118.7\n",
            "[pinball_seed8] step  25000 | buffer= 25000 | eps=0.505 | recent(10)=338.5\n",
            "[pinball_seed8] step  30000 | buffer= 30000 | eps=0.406 | recent(10)=392.1\n",
            "[pinball_seed8] step  35000 | buffer= 35000 | eps=0.307 | recent(10)=365.3\n",
            "[pinball_seed8] step  40000 | buffer= 40000 | eps=0.208 | recent(10)=316.2\n",
            "[pinball_seed8] step  45000 | buffer= 45000 | eps=0.109 | recent(10)=188.7\n",
            "[pinball_seed8] step  50000 | buffer= 50000 | eps=0.010 | recent(10)=151.9\n",
            "[pinball_seed8] step  55000 | buffer= 55000 | eps=0.010 | recent(10)=153.0\n",
            "[pinball_seed8] step  60000 | buffer= 60000 | eps=0.010 | recent(10)=151.9\n",
            "[pinball_seed8] step  65000 | buffer= 65000 | eps=0.010 | recent(10)=183.5\n",
            "[pinball_seed8] step  70000 | buffer= 70000 | eps=0.010 | recent(10)=134.7\n",
            "[pinball_seed8] step  75000 | buffer= 75000 | eps=0.010 | recent(10)=114.8\n",
            "[pinball_seed8] step  80000 | buffer= 80000 | eps=0.010 | recent(10)=150.0\n",
            "[pinball_seed8] step  85000 | buffer= 85000 | eps=0.010 | recent(10)=271.6\n",
            "[pinball_seed8] step  90000 | buffer= 90000 | eps=0.010 | recent(10)=441.4\n",
            "[pinball_seed8] step  95000 | buffer= 95000 | eps=0.010 | recent(10)=500.0\n",
            "[pinball_seed8] step 100000 | buffer=100000 | eps=0.010 | recent(10)=500.0\n",
            "Saved: /content/pinball_seed8.pt | Mean greedy eval (10 eps): 500.00\n",
            "=== Training pinball_seed9 | loss=pinball ===\n",
            "[pinball_seed9] step   5000 | buffer=  5000 | eps=0.901 | recent(10)=217.5\n",
            "[pinball_seed9] step  10000 | buffer= 10000 | eps=0.802 | recent(10)=264.4\n",
            "[pinball_seed9] step  15000 | buffer= 15000 | eps=0.703 | recent(10)=171.3\n",
            "[pinball_seed9] step  20000 | buffer= 20000 | eps=0.604 | recent(10)=191.8\n",
            "[pinball_seed9] step  25000 | buffer= 25000 | eps=0.505 | recent(10)=238.8\n",
            "[pinball_seed9] step  30000 | buffer= 30000 | eps=0.406 | recent(10)=146.9\n",
            "[pinball_seed9] step  35000 | buffer= 35000 | eps=0.307 | recent(10)=145.2\n",
            "[pinball_seed9] step  40000 | buffer= 40000 | eps=0.208 | recent(10)=118.4\n",
            "[pinball_seed9] step  45000 | buffer= 45000 | eps=0.109 | recent(10)=107.3\n",
            "[pinball_seed9] step  50000 | buffer= 50000 | eps=0.010 | recent(10)=107.4\n",
            "[pinball_seed9] step  55000 | buffer= 55000 | eps=0.010 | recent(10)=127.1\n",
            "[pinball_seed9] step  60000 | buffer= 60000 | eps=0.010 | recent(10)=116.1\n",
            "[pinball_seed9] step  65000 | buffer= 65000 | eps=0.010 | recent(10)=225.0\n",
            "[pinball_seed9] step  70000 | buffer= 70000 | eps=0.010 | recent(10)=140.0\n",
            "[pinball_seed9] step  75000 | buffer= 75000 | eps=0.010 | recent(10)=303.6\n",
            "[pinball_seed9] step  80000 | buffer= 80000 | eps=0.010 | recent(10)=471.5\n",
            "[pinball_seed9] step  85000 | buffer= 85000 | eps=0.010 | recent(10)=500.0\n",
            "[pinball_seed9] step  90000 | buffer= 90000 | eps=0.010 | recent(10)=500.0\n",
            "[pinball_seed9] step  95000 | buffer= 95000 | eps=0.010 | recent(10)=500.0\n",
            "[pinball_seed9] step 100000 | buffer=100000 | eps=0.010 | recent(10)=486.2\n",
            "Saved: /content/pinball_seed9.pt | Mean greedy eval (10 eps): 500.00\n",
            "=== Training pinball_seed10 | loss=pinball ===\n",
            "[pinball_seed10] step   5000 | buffer=  5000 | eps=0.901 | recent(10)=203.9\n",
            "[pinball_seed10] step  10000 | buffer= 10000 | eps=0.802 | recent(10)=110.4\n",
            "[pinball_seed10] step  15000 | buffer= 15000 | eps=0.703 | recent(10)=129.1\n",
            "[pinball_seed10] step  20000 | buffer= 20000 | eps=0.604 | recent(10)=288.7\n",
            "[pinball_seed10] step  25000 | buffer= 25000 | eps=0.505 | recent(10)=456.5\n",
            "[pinball_seed10] step  30000 | buffer= 30000 | eps=0.406 | recent(10)=488.0\n",
            "[pinball_seed10] step  35000 | buffer= 35000 | eps=0.307 | recent(10)=233.7\n",
            "[pinball_seed10] step  40000 | buffer= 40000 | eps=0.208 | recent(10)=113.6\n",
            "[pinball_seed10] step  45000 | buffer= 45000 | eps=0.109 | recent(10)=102.4\n",
            "[pinball_seed10] step  50000 | buffer= 50000 | eps=0.010 | recent(10)=93.3\n",
            "[pinball_seed10] step  55000 | buffer= 55000 | eps=0.010 | recent(10)=108.7\n",
            "[pinball_seed10] step  60000 | buffer= 60000 | eps=0.010 | recent(10)=118.1\n",
            "[pinball_seed10] step  65000 | buffer= 65000 | eps=0.010 | recent(10)=166.9\n",
            "[pinball_seed10] step  70000 | buffer= 70000 | eps=0.010 | recent(10)=259.0\n",
            "[pinball_seed10] step  75000 | buffer= 75000 | eps=0.010 | recent(10)=426.6\n",
            "[pinball_seed10] step  80000 | buffer= 80000 | eps=0.010 | recent(10)=391.5\n",
            "[pinball_seed10] step  85000 | buffer= 85000 | eps=0.010 | recent(10)=437.9\n",
            "[pinball_seed10] step  90000 | buffer= 90000 | eps=0.010 | recent(10)=500.0\n",
            "[pinball_seed10] step  95000 | buffer= 95000 | eps=0.010 | recent(10)=500.0\n",
            "[pinball_seed10] step 100000 | buffer=100000 | eps=0.010 | recent(10)=409.1\n",
            "Saved: /content/pinball_seed10.pt | Mean greedy eval (10 eps): 500.00\n",
            "=== Training pinball_seed11 | loss=pinball ===\n",
            "[pinball_seed11] step   5000 | buffer=  5000 | eps=0.901 | recent(10)=157.0\n",
            "[pinball_seed11] step  10000 | buffer= 10000 | eps=0.802 | recent(10)=87.2\n",
            "[pinball_seed11] step  15000 | buffer= 15000 | eps=0.703 | recent(10)=99.2\n",
            "[pinball_seed11] step  20000 | buffer= 20000 | eps=0.604 | recent(10)=166.6\n",
            "[pinball_seed11] step  25000 | buffer= 25000 | eps=0.505 | recent(10)=174.1\n",
            "[pinball_seed11] step  30000 | buffer= 30000 | eps=0.406 | recent(10)=105.2\n",
            "[pinball_seed11] step  35000 | buffer= 35000 | eps=0.307 | recent(10)=98.6\n",
            "[pinball_seed11] step  40000 | buffer= 40000 | eps=0.208 | recent(10)=116.0\n",
            "[pinball_seed11] step  45000 | buffer= 45000 | eps=0.109 | recent(10)=98.6\n",
            "[pinball_seed11] step  50000 | buffer= 50000 | eps=0.010 | recent(10)=116.8\n",
            "[pinball_seed11] step  55000 | buffer= 55000 | eps=0.010 | recent(10)=215.9\n",
            "[pinball_seed11] step  60000 | buffer= 60000 | eps=0.010 | recent(10)=247.1\n",
            "[pinball_seed11] step  65000 | buffer= 65000 | eps=0.010 | recent(10)=291.7\n",
            "[pinball_seed11] step  70000 | buffer= 70000 | eps=0.010 | recent(10)=485.8\n",
            "[pinball_seed11] step  75000 | buffer= 75000 | eps=0.010 | recent(10)=500.0\n",
            "[pinball_seed11] step  80000 | buffer= 80000 | eps=0.010 | recent(10)=405.0\n",
            "[pinball_seed11] step  85000 | buffer= 85000 | eps=0.010 | recent(10)=284.7\n",
            "[pinball_seed11] step  90000 | buffer= 90000 | eps=0.010 | recent(10)=370.2\n",
            "[pinball_seed11] step  95000 | buffer= 95000 | eps=0.010 | recent(10)=398.9\n",
            "[pinball_seed11] step 100000 | buffer=100000 | eps=0.010 | recent(10)=469.0\n",
            "Saved: /content/pinball_seed11.pt | Mean greedy eval (10 eps): 500.00\n",
            "=== Training huber1_seed7 | loss=huber1 ===\n",
            "[huber1_seed7] step   5000 | buffer=  5000 | eps=0.901 | recent(10)=213.5\n",
            "[huber1_seed7] step  10000 | buffer= 10000 | eps=0.802 | recent(10)=452.2\n",
            "[huber1_seed7] step  15000 | buffer= 15000 | eps=0.703 | recent(10)=171.9\n",
            "[huber1_seed7] step  20000 | buffer= 20000 | eps=0.604 | recent(10)=154.3\n",
            "[huber1_seed7] step  25000 | buffer= 25000 | eps=0.505 | recent(10)=133.8\n",
            "[huber1_seed7] step  30000 | buffer= 30000 | eps=0.406 | recent(10)=148.9\n",
            "[huber1_seed7] step  35000 | buffer= 35000 | eps=0.307 | recent(10)=115.9\n",
            "[huber1_seed7] step  40000 | buffer= 40000 | eps=0.208 | recent(10)=106.8\n",
            "[huber1_seed7] step  45000 | buffer= 45000 | eps=0.109 | recent(10)=127.0\n",
            "[huber1_seed7] step  50000 | buffer= 50000 | eps=0.010 | recent(10)=113.1\n",
            "[huber1_seed7] step  55000 | buffer= 55000 | eps=0.010 | recent(10)=122.0\n",
            "[huber1_seed7] step  60000 | buffer= 60000 | eps=0.010 | recent(10)=124.4\n",
            "[huber1_seed7] step  65000 | buffer= 65000 | eps=0.010 | recent(10)=123.7\n",
            "[huber1_seed7] step  70000 | buffer= 70000 | eps=0.010 | recent(10)=197.4\n",
            "[huber1_seed7] step  75000 | buffer= 75000 | eps=0.010 | recent(10)=395.0\n",
            "[huber1_seed7] step  80000 | buffer= 80000 | eps=0.010 | recent(10)=500.0\n",
            "[huber1_seed7] step  85000 | buffer= 85000 | eps=0.010 | recent(10)=418.7\n",
            "[huber1_seed7] step  90000 | buffer= 90000 | eps=0.010 | recent(10)=500.0\n",
            "[huber1_seed7] step  95000 | buffer= 95000 | eps=0.010 | recent(10)=500.0\n",
            "[huber1_seed7] step 100000 | buffer=100000 | eps=0.010 | recent(10)=477.0\n",
            "Saved: /content/huber1_seed7.pt | Mean greedy eval (10 eps): 459.60\n",
            "=== Training huber1_seed8 | loss=huber1 ===\n",
            "[huber1_seed8] step   5000 | buffer=  5000 | eps=0.901 | recent(10)=148.4\n",
            "[huber1_seed8] step  10000 | buffer= 10000 | eps=0.802 | recent(10)=135.7\n",
            "[huber1_seed8] step  15000 | buffer= 15000 | eps=0.703 | recent(10)=78.0\n",
            "[huber1_seed8] step  20000 | buffer= 20000 | eps=0.604 | recent(10)=220.1\n",
            "[huber1_seed8] step  25000 | buffer= 25000 | eps=0.505 | recent(10)=107.1\n",
            "[huber1_seed8] step  30000 | buffer= 30000 | eps=0.406 | recent(10)=130.6\n",
            "[huber1_seed8] step  35000 | buffer= 35000 | eps=0.307 | recent(10)=143.1\n",
            "[huber1_seed8] step  40000 | buffer= 40000 | eps=0.208 | recent(10)=171.7\n",
            "[huber1_seed8] step  45000 | buffer= 45000 | eps=0.109 | recent(10)=191.9\n",
            "[huber1_seed8] step  50000 | buffer= 50000 | eps=0.010 | recent(10)=137.5\n",
            "[huber1_seed8] step  55000 | buffer= 55000 | eps=0.010 | recent(10)=173.1\n",
            "[huber1_seed8] step  60000 | buffer= 60000 | eps=0.010 | recent(10)=219.2\n",
            "[huber1_seed8] step  65000 | buffer= 65000 | eps=0.010 | recent(10)=354.3\n",
            "[huber1_seed8] step  70000 | buffer= 70000 | eps=0.010 | recent(10)=341.6\n",
            "[huber1_seed8] step  75000 | buffer= 75000 | eps=0.010 | recent(10)=483.2\n",
            "[huber1_seed8] step  80000 | buffer= 80000 | eps=0.010 | recent(10)=500.0\n",
            "[huber1_seed8] step  85000 | buffer= 85000 | eps=0.010 | recent(10)=500.0\n",
            "[huber1_seed8] step  90000 | buffer= 90000 | eps=0.010 | recent(10)=500.0\n",
            "[huber1_seed8] step  95000 | buffer= 95000 | eps=0.010 | recent(10)=500.0\n",
            "[huber1_seed8] step 100000 | buffer=100000 | eps=0.010 | recent(10)=500.0\n",
            "Saved: /content/huber1_seed8.pt | Mean greedy eval (10 eps): 500.00\n",
            "=== Training huber1_seed9 | loss=huber1 ===\n",
            "[huber1_seed9] step   5000 | buffer=  5000 | eps=0.901 | recent(10)=223.8\n",
            "[huber1_seed9] step  10000 | buffer= 10000 | eps=0.802 | recent(10)=301.7\n",
            "[huber1_seed9] step  15000 | buffer= 15000 | eps=0.703 | recent(10)=89.6\n",
            "[huber1_seed9] step  20000 | buffer= 20000 | eps=0.604 | recent(10)=225.3\n",
            "[huber1_seed9] step  25000 | buffer= 25000 | eps=0.505 | recent(10)=163.2\n",
            "[huber1_seed9] step  30000 | buffer= 30000 | eps=0.406 | recent(10)=195.8\n",
            "[huber1_seed9] step  35000 | buffer= 35000 | eps=0.307 | recent(10)=157.8\n",
            "[huber1_seed9] step  40000 | buffer= 40000 | eps=0.208 | recent(10)=210.0\n",
            "[huber1_seed9] step  45000 | buffer= 45000 | eps=0.109 | recent(10)=138.3\n",
            "[huber1_seed9] step  50000 | buffer= 50000 | eps=0.010 | recent(10)=230.8\n",
            "[huber1_seed9] step  55000 | buffer= 55000 | eps=0.010 | recent(10)=399.8\n",
            "[huber1_seed9] step  60000 | buffer= 60000 | eps=0.010 | recent(10)=399.4\n",
            "[huber1_seed9] step  65000 | buffer= 65000 | eps=0.010 | recent(10)=326.6\n",
            "[huber1_seed9] step  70000 | buffer= 70000 | eps=0.010 | recent(10)=180.6\n",
            "[huber1_seed9] step  75000 | buffer= 75000 | eps=0.010 | recent(10)=181.7\n",
            "[huber1_seed9] step  80000 | buffer= 80000 | eps=0.010 | recent(10)=147.8\n",
            "[huber1_seed9] step  85000 | buffer= 85000 | eps=0.010 | recent(10)=116.4\n",
            "[huber1_seed9] step  90000 | buffer= 90000 | eps=0.010 | recent(10)=165.5\n",
            "[huber1_seed9] step  95000 | buffer= 95000 | eps=0.010 | recent(10)=235.7\n",
            "[huber1_seed9] step 100000 | buffer=100000 | eps=0.010 | recent(10)=324.0\n",
            "Saved: /content/huber1_seed9.pt | Mean greedy eval (10 eps): 500.00\n",
            "=== Training huber1_seed10 | loss=huber1 ===\n",
            "[huber1_seed10] step   5000 | buffer=  5000 | eps=0.901 | recent(10)=214.9\n",
            "[huber1_seed10] step  10000 | buffer= 10000 | eps=0.802 | recent(10)=142.9\n",
            "[huber1_seed10] step  15000 | buffer= 15000 | eps=0.703 | recent(10)=111.5\n",
            "[huber1_seed10] step  20000 | buffer= 20000 | eps=0.604 | recent(10)=101.8\n",
            "[huber1_seed10] step  25000 | buffer= 25000 | eps=0.505 | recent(10)=103.3\n",
            "[huber1_seed10] step  30000 | buffer= 30000 | eps=0.406 | recent(10)=137.3\n",
            "[huber1_seed10] step  35000 | buffer= 35000 | eps=0.307 | recent(10)=127.1\n",
            "[huber1_seed10] step  40000 | buffer= 40000 | eps=0.208 | recent(10)=128.4\n",
            "[huber1_seed10] step  45000 | buffer= 45000 | eps=0.109 | recent(10)=117.8\n",
            "[huber1_seed10] step  50000 | buffer= 50000 | eps=0.010 | recent(10)=136.4\n",
            "[huber1_seed10] step  55000 | buffer= 55000 | eps=0.010 | recent(10)=137.8\n",
            "[huber1_seed10] step  60000 | buffer= 60000 | eps=0.010 | recent(10)=128.2\n",
            "[huber1_seed10] step  65000 | buffer= 65000 | eps=0.010 | recent(10)=137.5\n",
            "[huber1_seed10] step  70000 | buffer= 70000 | eps=0.010 | recent(10)=381.2\n",
            "[huber1_seed10] step  75000 | buffer= 75000 | eps=0.010 | recent(10)=451.8\n",
            "[huber1_seed10] step  80000 | buffer= 80000 | eps=0.010 | recent(10)=336.0\n",
            "[huber1_seed10] step  85000 | buffer= 85000 | eps=0.010 | recent(10)=332.9\n",
            "[huber1_seed10] step  90000 | buffer= 90000 | eps=0.010 | recent(10)=439.3\n",
            "[huber1_seed10] step  95000 | buffer= 95000 | eps=0.010 | recent(10)=397.4\n",
            "[huber1_seed10] step 100000 | buffer=100000 | eps=0.010 | recent(10)=471.3\n",
            "Saved: /content/huber1_seed10.pt | Mean greedy eval (10 eps): 500.00\n",
            "=== Training huber1_seed11 | loss=huber1 ===\n",
            "[huber1_seed11] step   5000 | buffer=  5000 | eps=0.901 | recent(10)=191.3\n",
            "[huber1_seed11] step  10000 | buffer= 10000 | eps=0.802 | recent(10)=107.0\n",
            "[huber1_seed11] step  15000 | buffer= 15000 | eps=0.703 | recent(10)=133.8\n",
            "[huber1_seed11] step  20000 | buffer= 20000 | eps=0.604 | recent(10)=222.0\n",
            "[huber1_seed11] step  25000 | buffer= 25000 | eps=0.505 | recent(10)=155.3\n",
            "[huber1_seed11] step  30000 | buffer= 30000 | eps=0.406 | recent(10)=236.9\n",
            "[huber1_seed11] step  35000 | buffer= 35000 | eps=0.307 | recent(10)=219.7\n",
            "[huber1_seed11] step  40000 | buffer= 40000 | eps=0.208 | recent(10)=118.9\n",
            "[huber1_seed11] step  45000 | buffer= 45000 | eps=0.109 | recent(10)=110.9\n",
            "[huber1_seed11] step  50000 | buffer= 50000 | eps=0.010 | recent(10)=122.2\n",
            "[huber1_seed11] step  55000 | buffer= 55000 | eps=0.010 | recent(10)=139.9\n",
            "[huber1_seed11] step  60000 | buffer= 60000 | eps=0.010 | recent(10)=119.2\n",
            "[huber1_seed11] step  65000 | buffer= 65000 | eps=0.010 | recent(10)=121.5\n",
            "[huber1_seed11] step  70000 | buffer= 70000 | eps=0.010 | recent(10)=144.1\n",
            "[huber1_seed11] step  75000 | buffer= 75000 | eps=0.010 | recent(10)=249.9\n",
            "[huber1_seed11] step  80000 | buffer= 80000 | eps=0.010 | recent(10)=480.0\n",
            "[huber1_seed11] step  85000 | buffer= 85000 | eps=0.010 | recent(10)=500.0\n",
            "[huber1_seed11] step  90000 | buffer= 90000 | eps=0.010 | recent(10)=500.0\n",
            "[huber1_seed11] step  95000 | buffer= 95000 | eps=0.010 | recent(10)=500.0\n",
            "[huber1_seed11] step 100000 | buffer=100000 | eps=0.010 | recent(10)=500.0\n",
            "Saved: /content/huber1_seed11.pt | Mean greedy eval (10 eps): 500.00\n",
            "Baseline κ=0 (tuned): mean=444.92  median=500.00  std=123.16  n=5  scores=[224.6 500.  500.  500.  500. ]\n",
            "Huber κ=1 (tuned): mean=491.92  median=500.00  std=18.07  n=5  scores=[459.6 500.  500.  500.  500. ]\n"
          ]
        }
      ],
      "source": [
        "import copy\n",
        "cfg_tuned = copy.deepcopy(cfg)\n",
        "cfg_tuned.total_steps = 100_000\n",
        "cfg_tuned.eps_decay   = 50_000\n",
        "cfg_tuned.target_tau  = 500\n",
        "\n",
        "print(\"=== Multi-seed (tuned config) ===\")\n",
        "base_scores_tuned = run_experiment(\"pinball\", seeds, cfg_tuned)\n",
        "hub1_scores_tuned = run_experiment(\"huber1\",  seeds, cfg_tuned)\n",
        "\n",
        "summarize(\"Baseline κ=0 (tuned)\", base_scores_tuned)\n",
        "summarize(\"Huber κ=1 (tuned)\",    hub1_scores_tuned)\n"
      ]
    },
    {
      "cell_type": "code",
      "execution_count": null,
      "metadata": {
        "colab": {
          "base_uri": "https://localhost:8080/"
        },
        "id": "F_xfP-SdKyNR",
        "outputId": "4595e15d-d2ce-4755-fca2-81723575a1d3"
      },
      "outputs": [
        {
          "name": "stdout",
          "output_type": "stream",
          "text": [
            "Re-eval baseline (30 eps): 500.0\n"
          ]
        }
      ],
      "source": [
        "# Re-evaluate any saved checkpoint with more test episodes (e.g., 30)\n",
        "mean_eval_30, scores_30 = load_and_eval(\"/content/huber1_seed10.pt\", episodes=300)\n",
        "print(\"Re-eval baseline (30 eps):\", mean_eval_30)"
      ]
    },
    {
      "cell_type": "code",
      "execution_count": null,
      "metadata": {
        "colab": {
          "base_uri": "https://localhost:8080/"
        },
        "id": "eJBdGvimBgQz",
        "outputId": "0b431b4f-bd46-4d6c-da34-f0c06cd39928"
      },
      "outputs": [
        {
          "name": "stdout",
          "output_type": "stream",
          "text": [
            "Re-eval baseline (30 eps): 500.0\n"
          ]
        }
      ],
      "source": [
        "# Re-evaluate any saved checkpoint with more test episodes (e.g., 30)\n",
        "mean_eval_30, scores_30 = load_and_eval(\"/content/pinball_seed10.pt\", episodes=300)\n",
        "print(\"Re-eval baseline (30 eps):\", mean_eval_30)"
      ]
    },
    {
      "cell_type": "markdown",
      "metadata": {
        "id": "13Yzt3gjKucL"
      },
      "source": [
        "# Make CartPole noisy/sticky"
      ]
    },
    {
      "cell_type": "markdown",
      "metadata": {
        "id": "dXSqkqnRUNrH"
      },
      "source": [
        "Noisy/sticky wrappers"
      ]
    },
    {
      "cell_type": "code",
      "execution_count": null,
      "metadata": {
        "id": "BmfVckyWKuPP"
      },
      "outputs": [],
      "source": [
        "import gymnasium as gym\n",
        "import numpy as np\n",
        "from gymnasium import Wrapper\n",
        "\n",
        "class StickyAction(Wrapper):\n",
        "    \"\"\"With prob p, repeat the previous action (Atari-style stickiness).\"\"\"\n",
        "    def __init__(self, env, p=0.25):\n",
        "        super().__init__(env)\n",
        "        self.p = p\n",
        "        self.last_action = None\n",
        "    def reset(self, **kwargs):\n",
        "        self.last_action = None\n",
        "        return self.env.reset(**kwargs)\n",
        "    def step(self, action):\n",
        "        if self.last_action is not None and np.random.rand() < self.p:\n",
        "            action = self.last_action\n",
        "        self.last_action = action\n",
        "        return self.env.step(action)\n",
        "\n",
        "class RewardNoise(Wrapper):\n",
        "    \"\"\"Add zero-mean Gaussian noise to reward.\"\"\"\n",
        "    def __init__(self, env, sigma=0.25, clip=(-1.0, 1.0)):\n",
        "        super().__init__(env)\n",
        "        self.sigma = sigma\n",
        "        self.clip = clip\n",
        "    def step(self, action):\n",
        "        obs, r, term, trunc, info = self.env.step(action)\n",
        "        r_noisy = float(np.clip(r + np.random.randn() * self.sigma, *self.clip))\n",
        "        return obs, r_noisy, term, trunc, info\n",
        "\n",
        "class ObsNoise(Wrapper):\n",
        "    \"\"\"Add small Gaussian noise to observations (state).\"\"\"\n",
        "    def __init__(self, env, sigma=0.02):\n",
        "        super().__init__(env)\n",
        "        self.sigma = sigma\n",
        "    def reset(self, **kwargs):\n",
        "        obs, info = self.env.reset(**kwargs)\n",
        "        obs = obs + np.random.randn(*obs.shape) * self.sigma\n",
        "        return obs.astype(np.float32), info\n",
        "    def step(self, action):\n",
        "        obs, r, term, trunc, info = self.env.step(action)\n",
        "        obs = obs + np.random.randn(*obs.shape) * self.sigma\n",
        "        return obs.astype(np.float32), r, term, trunc, info\n"
      ]
    },
    {
      "cell_type": "code",
      "execution_count": null,
      "metadata": {
        "id": "8s4S9WIYKvRh"
      },
      "outputs": [],
      "source": [
        "def make_env(env_id, seed):\n",
        "    env = gym.make(env_id)\n",
        "    env.reset(seed=seed)\n",
        "    env = StickyAction(env, p=0.25)\n",
        "    env = RewardNoise(env, sigma=0.25, clip=(-1.0, 1.0))\n",
        "    return env\n"
      ]
    },
    {
      "cell_type": "markdown",
      "metadata": {
        "id": "Z5SA6AVFKv7D"
      },
      "source": [
        "#MinAtar Breakout"
      ]
    },
    {
      "cell_type": "code",
      "execution_count": null,
      "metadata": {
        "colab": {
          "base_uri": "https://localhost:8080/"
        },
        "id": "M49sp5dMxcQ8",
        "outputId": "fc8e965d-fac5-4ab0-db35-ba2dc4e01112"
      },
      "outputs": [
        {
          "name": "stdout",
          "output_type": "stream",
          "text": [
            "Using: cuda\n"
          ]
        }
      ],
      "source": [
        "cfg.device = \"cuda\" if torch.cuda.is_available() else \"cpu\"\n",
        "device = torch.device(cfg.device)\n",
        "print(\"Using:\", device)"
      ]
    },
    {
      "cell_type": "code",
      "execution_count": null,
      "metadata": {
        "id": "5uaMQZLnKwSu"
      },
      "outputs": [],
      "source": [
        "# Minimal, fast Atari-like\n",
        "%pip -q install minatar\n",
        "\n"
      ]
    },
    {
      "cell_type": "markdown",
      "metadata": {
        "id": "Az9Cyq-OUeYX"
      },
      "source": [
        "MinAtar"
      ]
    },
    {
      "cell_type": "code",
      "execution_count": null,
      "metadata": {
        "colab": {
          "base_uri": "https://localhost:8080/"
        },
        "id": "mmJg2lz1UceO",
        "outputId": "acbe8807-fdb0-462b-d8e2-42665f2992d2"
      },
      "outputs": [
        {
          "data": {
            "text/plain": [
              "((4, 10, 10), 6)"
            ]
          },
          "execution_count": 13,
          "metadata": {},
          "output_type": "execute_result"
        }
      ],
      "source": [
        "import numpy as np\n",
        "from minatar import Environment\n",
        "\n",
        "class MinAtarGymLike:\n",
        "    \"\"\"\n",
        "    Tiny adapter that mimics the subset of Gymnasium API we use.\n",
        "    obs: float32 tensor in shape [C,H,W]; rewards are floats.\n",
        "    \"\"\"\n",
        "    def __init__(self, game=\"breakout\", sticky_action_prob=0.1, seed=0):\n",
        "        self.env = Environment(game, sticky_action_prob=sticky_action_prob)\n",
        "        self.game = game\n",
        "        self.n_actions = self.env.num_actions()\n",
        "        self.action_space = type(\"A\", (), {\"n\": self.n_actions})\n",
        "        self.observation_space = type(\"O\", (), {\"shape\": (self.env.state().shape[2], 10, 10)})\n",
        "        self._seed = seed\n",
        "        self.rng = np.random.RandomState(seed)\n",
        "\n",
        "    def reset(self, seed=None):\n",
        "        if seed is not None:\n",
        "            self.rng = np.random.RandomState(seed)\n",
        "        self.env.reset()\n",
        "        s = self.env.state()\n",
        "        s = np.transpose(s, (2,0,1)).astype(np.float32)\n",
        "        return s, {}\n",
        "\n",
        "    def step(self, a):\n",
        "        r, done = self.env.act(a)\n",
        "        s = self.env.state()\n",
        "        s = np.transpose(s, (2,0,1)).astype(np.float32)\n",
        "        return s, float(r), bool(done), False, {}\n",
        "\n",
        "    def close(self):\n",
        "        pass\n",
        "\n",
        "def make_minatar_env(seed=0, game=\"breakout\", sticky=0.1):\n",
        "    env = MinAtarGymLike(game=game, sticky_action_prob=sticky, seed=seed)\n",
        "    return env\n",
        "\n",
        "m_env = make_minatar_env(seed=7, game=\"breakout\", sticky=0.1)\n",
        "obs0, _ = m_env.reset()\n",
        "minatar_obs_shape = obs0.shape\n",
        "minatar_actions = m_env.action_space.n\n",
        "m_env.close()\n",
        "minatar_obs_shape, minatar_actions"
      ]
    },
    {
      "cell_type": "markdown",
      "metadata": {
        "id": "q7FKWnE3UirC"
      },
      "source": [
        "Small CNN QR-DQN head (for [B,C,H,W] input)"
      ]
    },
    {
      "cell_type": "code",
      "execution_count": null,
      "metadata": {
        "id": "qfGTGgkhUjGX"
      },
      "outputs": [],
      "source": [
        "import torch.nn as nn\n",
        "import torch.nn.functional as F\n",
        "import torch\n",
        "\n",
        "class QRDQNConv(nn.Module):\n",
        "    def __init__(self, in_channels, n_actions, n_quantiles, hidden=128):\n",
        "        super().__init__()\n",
        "        self.n_actions = n_actions\n",
        "        self.n_quantiles = n_quantiles\n",
        "        self.conv = nn.Sequential(\n",
        "            nn.Conv2d(in_channels, 32, kernel_size=3, stride=1), nn.ReLU(),\n",
        "            nn.Conv2d(32, 64, kernel_size=3, stride=1), nn.ReLU(),\n",
        "        )\n",
        "        feat_size = 64 * 6 * 6\n",
        "        self.fc = nn.Sequential(\n",
        "            nn.Linear(feat_size, hidden), nn.ReLU(),\n",
        "            nn.Linear(hidden, n_actions * n_quantiles),\n",
        "        )\n",
        "    def forward(self, x):\n",
        "        h = self.conv(x)\n",
        "        h = h.view(h.size(0), -1)\n",
        "        out = self.fc(h)\n",
        "        return out.view(x.size(0), self.n_actions, self.n_quantiles)\n"
      ]
    },
    {
      "cell_type": "markdown",
      "metadata": {
        "id": "eGVbeNX0Ul76"
      },
      "source": [
        "MinAtar config + minor training differences"
      ]
    },
    {
      "cell_type": "code",
      "execution_count": null,
      "metadata": {
        "id": "12WdHJjmUnKh"
      },
      "outputs": [],
      "source": [
        "import copy\n",
        "cfg_m = copy.deepcopy(cfg)\n",
        "cfg_m.env_id = \"MinAtar-breakout\"\n",
        "cfg_m.total_steps = 200_000\n",
        "cfg_m.learn_start = 10_000\n",
        "cfg_m.eps_decay = 150_000\n",
        "cfg_m.target_tau = 2_000\n",
        "cfg_m.batch_size = 64\n",
        "cfg_m.lr = 1e-4\n",
        "\n",
        "# Build MinAtar env & networks\n",
        "minatar_env = make_minatar_env(seed=cfg.base_seed, game=\"breakout\", sticky=0.1)\n",
        "C,H,W = minatar_obs_shape\n",
        "nA = minatar_actions\n",
        "\n",
        "online_m = QRDQNConv(C, nA, cfg.n_quantiles, hidden=128).to(device)\n",
        "target_m = QRDQNConv(C, nA, cfg.n_quantiles, hidden=128).to(device)\n",
        "target_m.load_state_dict(online_m.state_dict())\n",
        "optimizer_m = torch.optim.Adam(online_m.parameters(), lr=cfg_m.lr, eps=cfg_m.adam_eps)\n",
        "taus_m = quantile_midpoints(cfg_m.n_quantiles, device=device)\n"
      ]
    },
    {
      "cell_type": "markdown",
      "metadata": {
        "id": "_0OkLoZKUo5c"
      },
      "source": [
        "Train loop specialized to MinAtar (reuses loss functions)"
      ]
    },
    {
      "cell_type": "code",
      "execution_count": null,
      "metadata": {
        "colab": {
          "base_uri": "https://localhost:8080/"
        },
        "id": "uFHelU2AUpUF",
        "outputId": "667e2570-dd16-441a-cd09-4674e216914a"
      },
      "outputs": [
        {
          "name": "stdout",
          "output_type": "stream",
          "text": [
            "=== MinAtar minatar_breakout_pinball_k0 | loss=pinball ===\n",
            "[minatar_breakout_pinball_k0] step=20000 rb=20000 eps=0.868 recent(10)=0.70\n",
            "[minatar_breakout_pinball_k0] step=40000 rb=40000 eps=0.736 recent(10)=1.80\n",
            "[minatar_breakout_pinball_k0] step=60000 rb=60000 eps=0.604 recent(10)=3.00\n",
            "[minatar_breakout_pinball_k0] step=80000 rb=80000 eps=0.472 recent(10)=3.60\n",
            "[minatar_breakout_pinball_k0] step=100000 rb=100000 eps=0.340 recent(10)=6.10\n",
            "[minatar_breakout_pinball_k0] step=120000 rb=100000 eps=0.208 recent(10)=5.30\n",
            "[minatar_breakout_pinball_k0] step=140000 rb=100000 eps=0.076 recent(10)=8.80\n",
            "[minatar_breakout_pinball_k0] step=160000 rb=100000 eps=0.010 recent(10)=6.50\n",
            "[minatar_breakout_pinball_k0] step=180000 rb=100000 eps=0.010 recent(10)=6.90\n",
            "[minatar_breakout_pinball_k0] step=200000 rb=100000 eps=0.010 recent(10)=7.40\n",
            "Saved: /content/minatar_breakout_pinball_k0.pt | episodes logged: 7375\n",
            "=== MinAtar minatar_breakout_huber_k1 | loss=huber1 ===\n",
            "[minatar_breakout_huber_k1] step=20000 rb=20000 eps=0.868 recent(10)=0.30\n",
            "[minatar_breakout_huber_k1] step=40000 rb=40000 eps=0.736 recent(10)=2.30\n",
            "[minatar_breakout_huber_k1] step=60000 rb=60000 eps=0.604 recent(10)=5.20\n",
            "[minatar_breakout_huber_k1] step=80000 rb=80000 eps=0.472 recent(10)=5.00\n",
            "[minatar_breakout_huber_k1] step=100000 rb=100000 eps=0.340 recent(10)=5.70\n",
            "[minatar_breakout_huber_k1] step=120000 rb=100000 eps=0.208 recent(10)=6.60\n",
            "[minatar_breakout_huber_k1] step=140000 rb=100000 eps=0.076 recent(10)=6.80\n",
            "[minatar_breakout_huber_k1] step=160000 rb=100000 eps=0.010 recent(10)=7.80\n",
            "[minatar_breakout_huber_k1] step=180000 rb=100000 eps=0.010 recent(10)=7.50\n",
            "[minatar_breakout_huber_k1] step=200000 rb=100000 eps=0.010 recent(10)=7.60\n",
            "Saved: /content/minatar_breakout_huber_k1.pt | episodes logged: 7341\n"
          ]
        }
      ],
      "source": [
        "def act_eps_minatar(state, online, epsilon):\n",
        "    if np.random.rand() < epsilon:\n",
        "        return np.random.randint(0, online.n_actions)\n",
        "    s = torch.tensor(state, dtype=torch.float32, device=device).unsqueeze(0)\n",
        "    q = online(s)\n",
        "    return int(q.mean(2).argmax(1).item())\n",
        "\n",
        "class Replay4D:\n",
        "    def __init__(self, capacity, obs_shape):\n",
        "        self.data = collections.deque(maxlen=capacity)\n",
        "        self.obs_shape = obs_shape\n",
        "    def push(self, s,a,r,ns,d):\n",
        "        self.data.append((s.copy(), a, r, ns.copy(), d))\n",
        "    def sample(self, B):\n",
        "        idx = np.random.randint(0, len(self.data), size=B)\n",
        "        s,a,r,ns,d = zip(*(self.data[i] for i in idx))\n",
        "        s  = torch.tensor(np.stack(s),  dtype=torch.float32, device=device)\n",
        "        ns = torch.tensor(np.stack(ns), dtype=torch.float32, device=device)\n",
        "        a  = torch.tensor(np.array(a),  dtype=torch.int64,   device=device)\n",
        "        r  = torch.tensor(np.array(r),  dtype=torch.float32, device=device)\n",
        "        d  = torch.tensor(np.array(d),  dtype=torch.float32, device=device)\n",
        "        return s,a,r,ns,d\n",
        "    def __len__(self): return len(self.data)\n",
        "\n",
        "replay_m = Replay4D(cfg_m.buffer_size, (C,H,W))\n",
        "\n",
        "def compute_loss_minatar(batch, online, target, taus, cfg, loss_mode):\n",
        "    s,a,r,ns,d = batch\n",
        "    B = s.size(0)\n",
        "    q_all = online(s)\n",
        "    q_chosen = q_all.gather(1, a.view(B,1,1).expand(B,1,cfg.n_quantiles)).squeeze(1)\n",
        "    with torch.no_grad():\n",
        "        next_q_online = online(ns)\n",
        "        next_a = next_q_online.mean(2).argmax(1, keepdim=True)\n",
        "        next_q_target = target(ns).gather(1, next_a.unsqueeze(-1).expand(-1,-1, cfg.n_quantiles)).squeeze(1)\n",
        "        target_q = r.unsqueeze(1) + (1.0 - d.unsqueeze(1)) * cfg.gamma * next_q_target\n",
        "    if loss_mode == \"pinball\":\n",
        "        return pinball_loss(q_chosen, target_q, taus)\n",
        "    else:\n",
        "        return huber_quantile_loss(q_chosen, target_q, taus)\n",
        "\n",
        "def train_minatar(run_name, loss_mode, cfg_local):\n",
        "    print(f\"=== MinAtar {run_name} | loss={loss_mode} ===\")\n",
        "    env = make_minatar_env(seed=cfg.base_seed, game=\"breakout\", sticky=0.1)\n",
        "    online = QRDQNConv(C, nA, cfg_local.n_quantiles, hidden=128).to(device)\n",
        "    target = QRDQNConv(C, nA, cfg_local.n_quantiles, hidden=128).to(device)\n",
        "    target.load_state_dict(online.state_dict())\n",
        "    opt = torch.optim.Adam(online.parameters(), lr=cfg_local.lr, eps=cfg_local.adam_eps)\n",
        "    taus = quantile_midpoints(cfg_local.n_quantiles, device=device)\n",
        "    rb = Replay4D(cfg_local.buffer_size, (C,H,W))\n",
        "\n",
        "    returns = []\n",
        "    s, _ = env.reset()\n",
        "    for step in range(1, cfg_local.total_steps+1):\n",
        "        eps = epsilon_by_step(step, cfg_local)\n",
        "        a = act_eps_minatar(s, online, eps)\n",
        "        ns, r, term, trunc, _ = env.step(a)\n",
        "        d = float(term or trunc)\n",
        "        rb.push(s, a, r, ns, d)\n",
        "        s = ns\n",
        "\n",
        "        if len(rb) >= cfg_local.learn_start:\n",
        "            batch = rb.sample(cfg_local.batch_size)\n",
        "            loss = compute_loss_minatar(batch, online, target, taus, cfg_local, loss_mode)\n",
        "            opt.zero_grad(set_to_none=True)\n",
        "            loss.backward()\n",
        "            nn.utils.clip_grad_norm_(online.parameters(), cfg_local.grad_clip)\n",
        "            opt.step()\n",
        "\n",
        "        if step % cfg_local.target_tau == 0:\n",
        "            target.load_state_dict(online.state_dict())\n",
        "\n",
        "        if term or trunc:\n",
        "            gret = 0.0\n",
        "            s_eval, _ = env.reset()\n",
        "            for _ in range(1000):\n",
        "                a_eval = act_eps_minatar(s_eval, online, 0.0)\n",
        "                s_eval, r_eval, te, tr, _ = env.step(a_eval)\n",
        "                gret += r_eval\n",
        "                if te or tr: break\n",
        "            returns.append(gret)\n",
        "            s, _ = env.reset()\n",
        "\n",
        "        if step % 20000 == 0:\n",
        "            last = np.mean(returns[-10:]) if returns else 0.0\n",
        "            print(f\"[{run_name}] step={step} rb={len(rb)} eps={eps:.3f} recent(10)={last:.2f}\")\n",
        "\n",
        "    # Save & final quick eval\n",
        "    path = f\"/content/{run_name}.pt\"\n",
        "    torch.save(online.state_dict(), path)\n",
        "    print(\"Saved:\", path, \"| episodes logged:\", len(returns))\n",
        "    return returns\n",
        "\n",
        "# Run baseline vs κ=1 on MinAtar\n",
        "ret_base_m = train_minatar(\"minatar_breakout_pinball_k0\", \"pinball\", cfg_m)\n",
        "ret_h1_m   = train_minatar(\"minatar_breakout_huber_k1\",   \"huber1\",  cfg_m)\n"
      ]
    },
    {
      "cell_type": "markdown",
      "metadata": {
        "id": "5LBAmejmUsms"
      },
      "source": [
        "Plot the MinAtar learning curves"
      ]
    },
    {
      "cell_type": "code",
      "execution_count": null,
      "metadata": {
        "colab": {
          "base_uri": "https://localhost:8080/",
          "height": 410
        },
        "id": "QIyHMXknUs9n",
        "outputId": "47ddcdfa-7b5c-4887-be4d-4df2af1676cd"
      },
      "outputs": [
        {
          "data": {
            "image/png": "[encoded data removed]",
            "text/plain": [
              "<Figure size 700x400 with 1 Axes>"
            ]
          },
          "metadata": {},
          "output_type": "display_data"
        }
      ],
      "source": [
        "import matplotlib.pyplot as plt\n",
        "plt.figure(figsize=(7,4))\n",
        "plt.plot(ret_base_m, label=\"MinAtar pinball κ=0\")\n",
        "plt.plot(ret_h1_m,   label=\"MinAtar huber κ=1\")\n",
        "plt.xlabel(\"Episode (proxy)\")\n",
        "plt.ylabel(\"Greedy return\")\n",
        "plt.title(\"MinAtar Breakout — QR-DQN: κ=0 vs κ=1\")\n",
        "plt.legend(); plt.show()\n"
      ]
    },
    {
      "cell_type": "markdown",
      "metadata": {
        "id": "P5B9_OVz6RcG"
      },
      "source": [
        "Greedy evaluation helper (ε=0) for MinAtar"
      ]
    },
    {
      "cell_type": "code",
      "execution_count": null,
      "metadata": {
        "id": "0p8DKwCo6SQ6"
      },
      "outputs": [],
      "source": [
        "import numpy as np\n",
        "import torch\n",
        "\n",
        "@torch.no_grad()\n",
        "def eval_minatar_checkpoint(ckpt_path, episodes=30, seed_base=12345, game=\"breakout\", sticky=0.1):\n",
        "    \"\"\"\n",
        "    Loads a saved QRDQNConv state_dict and evaluates greedy performance (epsilon=0)\n",
        "    over `episodes` episodes on MinAtar `game`.\n",
        "    Returns: mean_return, std_return, list_of_returns\n",
        "    \"\"\"\n",
        "    # fresh env to discover shapes\n",
        "    env = make_minatar_env(seed=seed_base, game=game, sticky=sticky)\n",
        "    obs0, _ = env.reset()\n",
        "    C, H, W = obs0.shape\n",
        "    nA = env.action_space.n\n",
        "\n",
        "    # build model and load weights\n",
        "    model = QRDQNConv(C, nA, cfg_m.n_quantiles, hidden=128).to(device)\n",
        "    state_dict = torch.load(ckpt_path, map_location=device)\n",
        "    model.load_state_dict(state_dict)\n",
        "\n",
        "    def greedy_episode(seed_offset=0):\n",
        "        s, _ = env.reset(seed=seed_base + seed_offset)  # vary starts\n",
        "        total = 0.0\n",
        "        for _ in range(5000):  # big cap; episodes end when env says done\n",
        "            a = act_eps_minatar(s, model, epsilon=0.0)  # greedy (ε=0)\n",
        "            s, r, term, trunc, _ = env.step(a)\n",
        "            total += r\n",
        "            if term or trunc:\n",
        "                break\n",
        "        return float(total)\n",
        "\n",
        "    scores = [greedy_episode(ep) for ep in range(episodes)]\n",
        "    env.close()\n",
        "    scores = np.array(scores, dtype=np.float32)\n",
        "    return float(scores.mean()), float(scores.std(ddof=1)), scores.tolist()\n"
      ]
    },
    {
      "cell_type": "markdown",
      "metadata": {
        "id": "CGDES0SB6UKR"
      },
      "source": [
        "Evaluate both checkpoints and print results"
      ]
    },
    {
      "cell_type": "code",
      "execution_count": null,
      "metadata": {
        "colab": {
          "base_uri": "https://localhost:8080/"
        },
        "id": "Iz89ESQ76WWH",
        "outputId": "ccffee32-aab3-4776-bf0a-ac368a70db34"
      },
      "outputs": [
        {
          "name": "stdout",
          "output_type": "stream",
          "text": [
            "Baseline (pinball κ=0): mean=8.02  std=3.22  n=1000\n",
            "Huber (κ=1):           mean=10.61  std=5.67  n=1000\n"
          ]
        }
      ],
      "source": [
        "ckpt_base = \"/content/minatar_breakout_pinball_k0.pt\"\n",
        "ckpt_h1   = \"/content/minatar_breakout_huber_k1.pt\"\n",
        "\n",
        "mean_b, std_b, scores_b = eval_minatar_checkpoint(ckpt_base, episodes=1000)\n",
        "mean_h, std_h, scores_h = eval_minatar_checkpoint(ckpt_h1,   episodes=1000)\n",
        "\n",
        "print(f\"Baseline (pinball κ=0): mean={mean_b:.2f}  std={std_b:.2f}  n={len(scores_b)}\")\n",
        "print(f\"Huber (κ=1):           mean={mean_h:.2f}  std={std_h:.2f}  n={len(scores_h)}\")\n"
      ]
    },
    {
      "cell_type": "markdown",
      "metadata": {
        "id": "pGelIbkM6Zai"
      },
      "source": [
        "Plot per-episode eval scores"
      ]
    },
    {
      "cell_type": "code",
      "execution_count": null,
      "metadata": {
        "colab": {
          "base_uri": "https://localhost:8080/",
          "height": 410
        },
        "id": "X1CjwYEO6aDb",
        "outputId": "a09772f1-cce1-4e7e-d7f4-c08a1c16e29d"
      },
      "outputs": [
        {
          "data": {
            "image/png": "[encoded data removed]",
            "text/plain": [
              "<Figure size 700x400 with 1 Axes>"
            ]
          },
          "metadata": {},
          "output_type": "display_data"
        }
      ],
      "source": [
        "import matplotlib.pyplot as plt\n",
        "\n",
        "plt.figure(figsize=(7,4))\n",
        "plt.plot(scores_b, marker=\"o\", linestyle=\"-\", label=\"Pinball κ=0\")\n",
        "plt.plot(scores_h, marker=\"s\", linestyle=\"-\", label=\"Huber κ=1\")\n",
        "plt.xlabel(\"Eval episode\")\n",
        "plt.ylabel(\"Greedy return\")\n",
        "plt.title(\"MinAtar Breakout — Greedy evaluation (ε=0)\")\n",
        "plt.legend()\n",
        "plt.show()\n"
      ]
    },
    {
      "cell_type": "markdown",
      "metadata": {
        "id": "tHU9D_1Y3CVR"
      },
      "source": [
        "CVaR-greedy evaluation (risk-aware)"
      ]
    },
    {
      "cell_type": "code",
      "execution_count": null,
      "metadata": {
        "colab": {
          "base_uri": "https://localhost:8080/"
        },
        "id": "C2OjAIJz3Ama",
        "outputId": "fbb32fa2-591f-4722-df3d-136e32393ff2"
      },
      "outputs": [
        {
          "name": "stdout",
          "output_type": "stream",
          "text": [
            "Huber κ=1 with CVaR(0.2): mean=10.31  std=4.17\n"
          ]
        }
      ],
      "source": [
        "@torch.no_grad()\n",
        "def act_greedy_cvar(state, online, alpha=0.2):\n",
        "    s = torch.tensor(state, dtype=torch.float32, device=device).unsqueeze(0)  # [1,C,H,W]\n",
        "    q = online(s)  # [1,A,N]\n",
        "    N = q.size(2)\n",
        "    k = max(1, int(alpha * N))           # number of bottom quantiles to average\n",
        "    vals = q[:, :, :k].mean(dim=2)       # [1,A] CVaR_α\n",
        "    return int(vals.argmax(1).item())\n",
        "\n",
        "@torch.no_grad()\n",
        "def eval_minatar_cvar(ckpt_path, alpha=0.2, episodes=30, seed_base=54321, game=\"breakout\", sticky=0.1):\n",
        "    env = make_minatar_env(seed=seed_base, game=game, sticky=sticky)\n",
        "    obs0, _ = env.reset()\n",
        "    C,H,W = obs0.shape\n",
        "    nA = env.action_space.n\n",
        "    model = QRDQNConv(C, nA, cfg_m.n_quantiles, hidden=128).to(device)\n",
        "    model.load_state_dict(torch.load(ckpt_path, map_location=device))\n",
        "\n",
        "    def cvar_episode(seed_offset=0):\n",
        "        s, _ = env.reset(seed=seed_base + seed_offset)\n",
        "        total = 0.0\n",
        "        for _ in range(5000):\n",
        "            a = act_greedy_cvar(s, model, alpha=alpha)\n",
        "            s, r, term, trunc, _ = env.step(a)\n",
        "            total += r\n",
        "            if term or trunc:\n",
        "                break\n",
        "        return float(total)\n",
        "\n",
        "    scores = [cvar_episode(ep) for ep in range(episodes)]\n",
        "    env.close()\n",
        "    import numpy as np\n",
        "    scores = np.array(scores, dtype=np.float32)\n",
        "    return float(scores.mean()), float(scores.std(ddof=1)), scores.tolist()\n",
        "\n",
        "ckpt_h1 = \"/content/minatar_breakout_huber_k1.pt\"\n",
        "\n",
        "mean_cvar, std_cvar, _ = eval_minatar_cvar(ckpt_h1, alpha=0.2, episodes=1000)\n",
        "print(f\"Huber κ=1 with CVaR(0.2): mean={mean_cvar:.2f}  std={std_cvar:.2f}\")\n"
      ]
    }
  ]
}