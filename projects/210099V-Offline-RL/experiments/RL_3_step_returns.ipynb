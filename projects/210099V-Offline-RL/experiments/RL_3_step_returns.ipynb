{
  "nbformat": 4,
  "nbformat_minor": 0,
  "metadata": {
    "colab": {
      "provenance": []
    },
    "kernelspec": {
      "name": "python3",
      "display_name": "Python 3"
    },
    "language_info": {
      "name": "python"
    }
  },
  "cells": [
    {
      "cell_type": "markdown",
      "metadata": {
        "id": "6YupfFs399tH"
      },
      "source": [
        "# **3-step returns (n-step TD)**"
      ]
    },
    {
      "cell_type": "markdown",
      "source": [
        "Switch from 1-step TD targets to a 3-step return to propagate rewards faster and reduce bootstrap bias on sparse-reward tasks. The target for QR-DQN becomes  𝐺 𝑡 ( 3 ) = 𝑟 𝑡 + 𝛾 𝑟 𝑡 + 1 + 𝛾 2 𝑟 𝑡 + 2 G t (3) \t​  =r t \t​  +γr t+1 \t​  +γ 2 r t+2 \t​   and we bootstrap at  𝑡 + 3 t+3:  𝑇 𝑍 = 𝐺 𝑡 ( 3 ) + 𝛾 3   𝑍 𝜃 −  ⁣ ( 𝑠 𝑡 + 3 , 𝑎 \\* ) TZ=G t (3) \t​  +γ 3 Z θ − \t​  (s t+3 \t​  ,a \\* ), where  𝑎 \\* = arg ⁡ max ⁡ 𝑎 𝑄 online ( 𝑠 𝑡 + 3 , 𝑎 ) a \\* =argmax a \t​  Q online \t​  (s t+3 \t​  ,a) (Double-DQN selection). If an episode ends early, truncate the sum and scale  𝛾 γ accordingly. Then compute the quantile Huber loss (κ=1) between current quantiles and these shifted target quantiles."
      ],
      "metadata": {
        "id": "DMQ7hV3UDi1q"
      }
    },
    {
      "cell_type": "code",
      "execution_count": null,
      "metadata": {
        "id": "AuhXoYKT9-9U"
      },
      "outputs": [],
      "source": [
        "# %pip -q install gymnasium==0.29.1\n",
        "\n",
        "import os, random, collections, math\n",
        "import numpy as np\n",
        "import torch\n",
        "import torch.nn as nn\n",
        "import torch.nn.functional as F\n",
        "\n",
        "try:\n",
        "    import gymnasium as gym\n",
        "except Exception:\n",
        "    import sys, subprocess\n",
        "    subprocess.check_call([sys.executable, \"-m\", \"pip\", \"install\", \"-q\", \"gymnasium==0.29.1\"])\n",
        "    import gymnasium as gym\n",
        "\n",
        "def set_seed(seed: int):\n",
        "    random.seed(seed)\n",
        "    np.random.seed(seed)\n",
        "    torch.manual_seed(seed)\n",
        "    torch.cuda.manual_seed_all(seed)\n"
      ]
    },
    {
      "cell_type": "code",
      "execution_count": null,
      "metadata": {
        "colab": {
          "base_uri": "https://localhost:8080/"
        },
        "id": "hxmFPI1j-GaJ",
        "outputId": "6c352331-f31b-4c72-a573-68320e5ccf1e"
      },
      "outputs": [
        {
          "data": {
            "text/plain": [
              "device(type='cuda')"
            ]
          },
          "execution_count": 52,
          "metadata": {},
          "output_type": "execute_result"
        }
      ],
      "source": [
        "class Cfg:\n",
        "    env_id         = \"CartPole-v1\"\n",
        "    seed           = 7\n",
        "    device         = \"cuda\" if torch.cuda.is_available() else \"cpu\"\n",
        "\n",
        "    # QR-DQN core\n",
        "    n_quantiles    = 51\n",
        "    gamma          = 0.99\n",
        "\n",
        "    # n-step TD\n",
        "    n_step         = 3\n",
        "    gamma_n        = gamma ** n_step\n",
        "\n",
        "    # Net / Optim\n",
        "    hidden         = 128\n",
        "    lr             = 5e-4\n",
        "    adam_eps       = 1e-8\n",
        "    grad_clip      = 10.0\n",
        "\n",
        "    # Replay & Train\n",
        "    buffer_size    = 100_000\n",
        "    batch_size     = 64\n",
        "    learn_start    = 1_000\n",
        "    total_steps    = 50_000\n",
        "    target_tau     = 1_000\n",
        "\n",
        "    # Exploration\n",
        "    eps_start      = 1.0\n",
        "    eps_final      = 0.01\n",
        "    eps_decay      = 25_000\n",
        "\n",
        "cfg = Cfg()\n",
        "set_seed(cfg.seed)\n",
        "device = torch.device(cfg.device)\n",
        "device\n"
      ]
    },
    {
      "cell_type": "code",
      "execution_count": null,
      "metadata": {
        "colab": {
          "base_uri": "https://localhost:8080/"
        },
        "id": "7iezomhp-KLj",
        "outputId": "aea53783-fd3c-4b6e-b19c-308572ed3103"
      },
      "outputs": [
        {
          "data": {
            "text/plain": [
              "(4, np.int64(2))"
            ]
          },
          "execution_count": 53,
          "metadata": {},
          "output_type": "execute_result"
        }
      ],
      "source": [
        "def make_env(env_id, seed):\n",
        "    env = gym.make(env_id)\n",
        "    env.reset(seed=seed)\n",
        "    return env\n",
        "\n",
        "env = make_env(cfg.env_id, cfg.seed)\n",
        "obs_dim = env.observation_space.shape[0]\n",
        "n_actions = env.action_space.n\n",
        "obs_dim, n_actions\n"
      ]
    },
    {
      "cell_type": "markdown",
      "metadata": {
        "id": "REbg1aZc-Qln"
      },
      "source": [
        "QR-DQN network ([B, A, N])"
      ]
    },
    {
      "cell_type": "code",
      "execution_count": null,
      "metadata": {
        "colab": {
          "base_uri": "https://localhost:8080/"
        },
        "id": "4BYHoOC9-RAM",
        "outputId": "bf8c63ab-f108-459f-c400-9f980391ecd0"
      },
      "outputs": [
        {
          "data": {
            "text/plain": [
              "30310"
            ]
          },
          "execution_count": 54,
          "metadata": {},
          "output_type": "execute_result"
        }
      ],
      "source": [
        "class QRDQN(nn.Module):\n",
        "    def __init__(self, obs_dim, n_actions, n_quantiles, hidden=128):\n",
        "        super().__init__()\n",
        "        self.n_actions = n_actions\n",
        "        self.n_quantiles = n_quantiles\n",
        "        self.net = nn.Sequential(\n",
        "            nn.Linear(obs_dim, hidden), nn.ReLU(),\n",
        "            nn.Linear(hidden, hidden), nn.ReLU(),\n",
        "            nn.Linear(hidden, n_actions * n_quantiles),\n",
        "        )\n",
        "    def forward(self, x):\n",
        "        out = self.net(x)\n",
        "        return out.view(x.size(0), self.n_actions, self.n_quantiles)\n",
        "\n",
        "online = QRDQN(obs_dim, n_actions, cfg.n_quantiles, cfg.hidden).to(device)\n",
        "target = QRDQN(obs_dim, n_actions, cfg.n_quantiles, cfg.hidden).to(device)\n",
        "target.load_state_dict(online.state_dict())\n",
        "sum(p.numel() for p in online.parameters())\n"
      ]
    },
    {
      "cell_type": "markdown",
      "metadata": {
        "id": "JtvJmL12-TdQ"
      },
      "source": [
        "Replay buffer + n-step collector"
      ]
    },
    {
      "cell_type": "code",
      "execution_count": null,
      "metadata": {
        "id": "xWuAZe5d-UAb"
      },
      "outputs": [],
      "source": [
        "class ReplayBuffer:\n",
        "    def __init__(self, capacity):\n",
        "        self.data = collections.deque(maxlen=capacity)\n",
        "    def push(self, s, a, Rn, ns, dn):\n",
        "        self.data.append((s, a, Rn, ns, dn))\n",
        "    def sample(self, batch_size):\n",
        "        idx = np.random.randint(0, len(self.data), size=batch_size)\n",
        "        s, a, Rn, ns, dn = zip(*(self.data[i] for i in idx))\n",
        "        return (\n",
        "            torch.tensor(np.array(s),  dtype=torch.float32, device=device),\n",
        "            torch.tensor(np.array(a),  dtype=torch.int64,   device=device),\n",
        "            torch.tensor(np.array(Rn), dtype=torch.float32, device=device),\n",
        "            torch.tensor(np.array(ns), dtype=torch.float32, device=device),\n",
        "            torch.tensor(np.array(dn), dtype=torch.float32, device=device),\n",
        "        )\n",
        "    def __len__(self): return len(self.data)\n",
        "\n",
        "class NStepCollector:\n",
        "    \"\"\"\n",
        "    Small rolling buffer that converts 1-step stream into n-step tuples:\n",
        "    (s_t, a_t, R_t^{(n)}, s_{t+n}, done^{(n)})\n",
        "    \"\"\"\n",
        "    def __init__(self, n, gamma):\n",
        "        self.n = n\n",
        "        self.gamma = gamma\n",
        "        self.buf = collections.deque()\n",
        "        self.ret = 0.0\n",
        "    def reset(self):\n",
        "        self.buf.clear()\n",
        "        self.ret = 0.0\n",
        "    def push(self, s, a, r, done):\n",
        "        self.buf.append((s, a, r, done))\n",
        "        if len(self.buf) < self.n and not done:\n",
        "            return None\n",
        "        Rn = 0.0\n",
        "        discount = 1.0\n",
        "        for i, (_, _, r_i, d_i) in enumerate(self.buf):\n",
        "            Rn += discount * r_i\n",
        "            if d_i:\n",
        "                last = i\n",
        "                break\n",
        "            discount *= self.gamma\n",
        "        else:\n",
        "            last = self.n - 1\n",
        "\n",
        "        s0, a0, _, _ = self.buf[0]\n",
        "        _, _, _, d_last = self.buf[last]\n",
        "        return s0, a0, Rn, last, d_last\n",
        "    def pop_left(self):\n",
        "        if self.buf:\n",
        "            self.buf.popleft()\n",
        "\n",
        "replay = ReplayBuffer(cfg.buffer_size)\n",
        "nstep = NStepCollector(cfg.n_step, cfg.gamma)\n"
      ]
    },
    {
      "cell_type": "markdown",
      "metadata": {
        "id": "YBG33_aS-VQH"
      },
      "source": [
        "Quantile midpoints + pinball loss (κ=0)"
      ]
    },
    {
      "cell_type": "code",
      "execution_count": null,
      "metadata": {
        "id": "MrKVajSS-XH7"
      },
      "outputs": [],
      "source": [
        "def quantile_midpoints(n_quantiles: int, device=None, dtype=torch.float32):\n",
        "    return (torch.arange(n_quantiles, device=device, dtype=dtype) + 0.5) / n_quantiles\n",
        "\n",
        "def pinball_loss(pred_q, target_q, taus, reduction=\"mean\"):\n",
        "    \"\"\"\n",
        "    pred_q:   [B, N]\n",
        "    target_q: [B, N]\n",
        "    taus:     [N]\n",
        "    \"\"\"\n",
        "    B, N = pred_q.shape\n",
        "    u = target_q.unsqueeze(1) - pred_q.unsqueeze(2)\n",
        "    abs_u = u.abs()\n",
        "    taus = taus.view(1, N, 1)\n",
        "    indicator = (u.detach() < 0.0).float()\n",
        "    loss = (taus - indicator).abs() * abs_u\n",
        "    return loss.mean() if reduction == \"mean\" else loss.sum()\n"
      ]
    },
    {
      "cell_type": "markdown",
      "metadata": {
        "id": "eNj8uVvi-Yiz"
      },
      "source": [
        "Epsilon policy + n-step targets (Double-DQN)"
      ]
    },
    {
      "cell_type": "code",
      "execution_count": null,
      "metadata": {
        "id": "KVi5H3-l-Z7F"
      },
      "outputs": [],
      "source": [
        "optimizer = torch.optim.Adam(online.parameters(), lr=cfg.lr, eps=cfg.adam_eps)\n",
        "taus = quantile_midpoints(cfg.n_quantiles, device=device)\n",
        "\n",
        "def epsilon_by_step(step):\n",
        "    return float(cfg.eps_final + (cfg.eps_start - cfg.eps_final) * max(0.0, 1.0 - step / cfg.eps_decay))\n",
        "\n",
        "@torch.no_grad()\n",
        "def act_epsilon_greedy(state, epsilon: float):\n",
        "    if random.random() < epsilon:\n",
        "        return random.randrange(n_actions)\n",
        "    s = torch.tensor(state, dtype=torch.float32, device=device).unsqueeze(0)\n",
        "    q = online(s)\n",
        "    q_mean = q.mean(2)\n",
        "    return int(q_mean.argmax(1).item())\n",
        "\n",
        "def compute_loss(batch):\n",
        "    s, a, Rn, ns, dn = batch\n",
        "    B = s.size(0)\n",
        "\n",
        "    q_all = online(s)\n",
        "    q_chosen = q_all.gather(1, a.view(B,1,1).expand(B,1,cfg.n_quantiles)).squeeze(1)\n",
        "\n",
        "    with torch.no_grad():\n",
        "        next_q_online  = online(ns)\n",
        "        next_a = next_q_online.mean(2).argmax(1, keepdim=True)\n",
        "        next_q_target  = target(ns).gather(1, next_a.unsqueeze(-1).expand(-1,-1,cfg.n_quantiles)).squeeze(1)\n",
        "        target_q = Rn.unsqueeze(1) + (1.0 - dn.unsqueeze(1)) * (cfg.gamma_n) * next_q_target\n",
        "\n",
        "    return pinball_loss(q_chosen, target_q, taus, reduction=\"mean\")\n"
      ]
    },
    {
      "cell_type": "markdown",
      "metadata": {
        "id": "UPTdBaey-bLC"
      },
      "source": [
        "Training loop (unchanged except n-step integration)"
      ]
    },
    {
      "cell_type": "code",
      "execution_count": null,
      "metadata": {
        "colab": {
          "base_uri": "https://localhost:8080/"
        },
        "id": "mZwuFsQd-ca_",
        "outputId": "c704c6d0-b2a2-4eb9-bb99-7bf4f986891b"
      },
      "outputs": [
        {
          "name": "stdout",
          "output_type": "stream",
          "text": [
            "[step   5000] buffer=  4584 eps=0.802 recent(10)=206.4\n",
            "[step  10000] buffer=  9376 eps=0.604 recent(10)=253.0\n",
            "[step  15000] buffer= 14294 eps=0.406 recent(10)=222.7\n",
            "[step  20000] buffer= 19244 eps=0.208 recent(10)=274.6\n",
            "[step  25000] buffer= 24206 eps=0.010 recent(10)=353.7\n",
            "[step  30000] buffer= 29174 eps=0.010 recent(10)=358.3\n",
            "[step  35000] buffer= 34148 eps=0.010 recent(10)=311.8\n",
            "[step  40000] buffer= 39122 eps=0.010 recent(10)=420.0\n",
            "[step  45000] buffer= 44096 eps=0.010 recent(10)=350.5\n",
            "[step  50000] buffer= 49072 eps=0.010 recent(10)=358.3\n"
          ]
        },
        {
          "data": {
            "text/plain": [
              "(463, np.float64(362.2))"
            ]
          },
          "execution_count": 27,
          "metadata": {},
          "output_type": "execute_result"
        }
      ],
      "source": [
        "returns = []\n",
        "s, _ = env.reset(seed=cfg.seed)\n",
        "nstep.reset()\n",
        "\n",
        "for step in range(1, cfg.total_steps + 1):\n",
        "    eps = epsilon_by_step(step)\n",
        "    a = act_epsilon_greedy(s, eps)\n",
        "    ns, r, terminated, truncated, _ = env.step(a)\n",
        "    done = terminated or truncated\n",
        "\n",
        "    # feed into n-step collector\n",
        "    pack = nstep.push(s, a, r, done)\n",
        "    if pack is not None:\n",
        "        s0, a0, Rn, last, d_last = pack\n",
        "        replay.push(s0, a0, Rn, ns, float(d_last))\n",
        "        nstep.pop_left()\n",
        "\n",
        "    s = ns\n",
        "\n",
        "    # learn\n",
        "    if len(replay) >= cfg.learn_start:\n",
        "        batch = replay.sample(cfg.batch_size)\n",
        "        loss = compute_loss(batch)\n",
        "        optimizer.zero_grad(set_to_none=True)\n",
        "        loss.backward()\n",
        "        if cfg.grad_clip is not None:\n",
        "            nn.utils.clip_grad_norm_(online.parameters(), cfg.grad_clip)\n",
        "        optimizer.step()\n",
        "\n",
        "    # target sync\n",
        "    if step % cfg.target_tau == 0:\n",
        "        target.load_state_dict(online.state_dict())\n",
        "\n",
        "    # episode boundary & quick greedy probe\n",
        "    if done:\n",
        "        ep_ret = 0.0\n",
        "        s_eval, _ = env.reset()\n",
        "        for _ in range(500):\n",
        "            a_eval = act_epsilon_greedy(s_eval, 0.0)\n",
        "            s_eval, r_eval, te, tr, _ = env.step(a_eval)\n",
        "            ep_ret += r_eval\n",
        "            if te or tr: break\n",
        "        returns.append(ep_ret)\n",
        "        s, _ = env.reset()\n",
        "        nstep.reset()\n",
        "\n",
        "    if step % 5000 == 0:\n",
        "        last = np.mean(returns[-10:]) if returns else 0.0\n",
        "        print(f\"[step {step:6d}] buffer={len(replay):6d} eps={eps:.03f} recent(10)={last:.1f}\")\n",
        "\n",
        "len(returns), np.mean(returns[-20:]) if returns else 0.0\n"
      ]
    },
    {
      "cell_type": "markdown",
      "metadata": {
        "id": "kWdWpaU3-fNo"
      },
      "source": [
        "Evaluation + plot"
      ]
    },
    {
      "cell_type": "code",
      "execution_count": null,
      "metadata": {
        "colab": {
          "base_uri": "https://localhost:8080/",
          "height": 428
        },
        "id": "FaHzB4Dg-fwW",
        "outputId": "6707559f-4d3c-4fa7-ac62-bdb75d7a0e8e"
      },
      "outputs": [
        {
          "name": "stdout",
          "output_type": "stream",
          "text": [
            "Mean greedy return over 10 episodes: 390.8\n"
          ]
        },
        {
          "data": {
            "image/png": "[encoded data removed]",
            "text/plain": [
              "<Figure size 600x400 with 1 Axes>"
            ]
          },
          "metadata": {},
          "output_type": "display_data"
        }
      ],
      "source": [
        "@torch.no_grad()\n",
        "def evaluate(env, episodes=10):\n",
        "    scores = []\n",
        "    for ep in range(episodes):\n",
        "        s, _ = env.reset(seed=cfg.seed + 1000 + ep)\n",
        "        total = 0.0\n",
        "        for _ in range(1000):\n",
        "            a = act_epsilon_greedy(s, 0.0)\n",
        "            s, r, term, trunc, _ = env.step(a)\n",
        "            total += r\n",
        "            if term or trunc: break\n",
        "        scores.append(total)\n",
        "    return float(np.mean(scores)), scores\n",
        "\n",
        "mean_eval, eval_scores = evaluate(env, episodes=10)\n",
        "print(\"Mean greedy return over 10 episodes:\", mean_eval)\n",
        "\n",
        "import matplotlib.pyplot as plt\n",
        "plt.figure(figsize=(6,4))\n",
        "plt.plot(returns)\n",
        "plt.xlabel(\"Episode (proxy)\")\n",
        "plt.ylabel(\"Greedy return\")\n",
        "plt.title(\"QR-DQN + n-step (n=3) on CartPole-v1\")\n",
        "plt.show()\n"
      ]
    },
    {
      "cell_type": "markdown",
      "metadata": {
        "id": "nz5Z1qjI-iI3"
      },
      "source": [
        "Save checkpoint"
      ]
    },
    {
      "cell_type": "code",
      "execution_count": null,
      "metadata": {
        "colab": {
          "base_uri": "https://localhost:8080/"
        },
        "id": "9SIAONUA-h39",
        "outputId": "e0962a8e-d963-4063-fff7-a1e522c1d02e"
      },
      "outputs": [
        {
          "name": "stdout",
          "output_type": "stream",
          "text": [
            "Saved: /content/qrdqn_nstep3_cartpole.pt\n"
          ]
        }
      ],
      "source": [
        "save_path = \"/content/qrdqn_nstep3_cartpole.pt\"\n",
        "torch.save(online.state_dict(), save_path)\n",
        "print(\"Saved:\", save_path)\n"
      ]
    },
    {
      "cell_type": "markdown",
      "metadata": {
        "id": "hTGz-pUB_7aY"
      },
      "source": [
        "# **COMPARE**"
      ]
    },
    {
      "cell_type": "code",
      "execution_count": null,
      "metadata": {
        "id": "FRQsJw4tABDX"
      },
      "outputs": [],
      "source": [
        "# %pip -q install gymnasium==0.29.1\n",
        "\n",
        "import random, collections\n",
        "import numpy as np\n",
        "import torch\n",
        "import torch.nn as nn\n",
        "\n",
        "try:\n",
        "    import gymnasium as gym\n",
        "except Exception:\n",
        "    import sys, subprocess\n",
        "    subprocess.check_call([sys.executable, \"-m\", \"pip\", \"install\", \"-q\", \"gymnasium==0.29.1\"])\n",
        "    import gymnasium as gym\n",
        "\n",
        "def set_seed(seed: int):\n",
        "    random.seed(seed); np.random.seed(seed)\n",
        "    torch.manual_seed(seed); torch.cuda.manual_seed_all(seed)\n"
      ]
    },
    {
      "cell_type": "code",
      "execution_count": null,
      "metadata": {
        "colab": {
          "base_uri": "https://localhost:8080/"
        },
        "id": "Vy0YlI4zAE2C",
        "outputId": "76099658-639d-4d7d-c2fd-d337b60bfe63"
      },
      "outputs": [
        {
          "data": {
            "text/plain": [
              "device(type='cuda')"
            ]
          },
          "execution_count": 18,
          "metadata": {},
          "output_type": "execute_result"
        }
      ],
      "source": [
        "class Cfg:\n",
        "    env_id         = \"CartPole-v1\"\n",
        "    base_seed      = 7\n",
        "    device         = \"cuda\" if torch.cuda.is_available() else \"cpu\"\n",
        "\n",
        "    # QR-DQN core\n",
        "    n_quantiles    = 51\n",
        "    gamma          = 0.99\n",
        "\n",
        "    # Net / Optim\n",
        "    hidden         = 128\n",
        "    lr             = 5e-4\n",
        "    adam_eps       = 1e-8\n",
        "    grad_clip      = 10.0\n",
        "\n",
        "    # Replay & Train\n",
        "    buffer_size    = 100_000\n",
        "    batch_size     = 64\n",
        "    learn_start    = 1_000\n",
        "    total_steps    = 50_000\n",
        "    target_tau     = 1_000   # hard update every τ steps\n",
        "\n",
        "    # Exploration\n",
        "    eps_start      = 1.0\n",
        "    eps_final      = 0.01\n",
        "    eps_decay      = 25_000\n",
        "\n",
        "cfg = Cfg()\n",
        "device = torch.device(cfg.device)\n",
        "device\n"
      ]
    },
    {
      "cell_type": "code",
      "execution_count": null,
      "metadata": {
        "colab": {
          "base_uri": "https://localhost:8080/"
        },
        "id": "fcMrd1csAIjz",
        "outputId": "ed2f7e27-9675-4932-f8e5-97a29a3b139a"
      },
      "outputs": [
        {
          "data": {
            "text/plain": [
              "(4, np.int64(2))"
            ]
          },
          "execution_count": 19,
          "metadata": {},
          "output_type": "execute_result"
        }
      ],
      "source": [
        "def make_env(env_id, seed):\n",
        "    env = gym.make(env_id)\n",
        "    env.reset(seed=seed)\n",
        "    return env\n",
        "\n",
        "_tmp = make_env(cfg.env_id, cfg.base_seed)\n",
        "obs_dim = _tmp.observation_space.shape[0]\n",
        "n_actions = _tmp.action_space.n\n",
        "_tmp.close()\n",
        "obs_dim, n_actions\n"
      ]
    },
    {
      "cell_type": "markdown",
      "metadata": {
        "id": "VzH9mTLmAJ7S"
      },
      "source": [
        "QR-DQN network ([B, A, N])"
      ]
    },
    {
      "cell_type": "code",
      "execution_count": null,
      "metadata": {
        "id": "2auLNRBGAJs-"
      },
      "outputs": [],
      "source": [
        "class QRDQN(nn.Module):\n",
        "    def __init__(self, obs_dim, n_actions, n_quantiles, hidden=128):\n",
        "        super().__init__()\n",
        "        self.n_actions = n_actions\n",
        "        self.n_quantiles = n_quantiles\n",
        "        self.net = nn.Sequential(\n",
        "            nn.Linear(obs_dim, hidden), nn.ReLU(),\n",
        "            nn.Linear(hidden, hidden), nn.ReLU(),\n",
        "            nn.Linear(hidden, n_actions * n_quantiles),\n",
        "        )\n",
        "    def forward(self, x):\n",
        "        out = self.net(x)\n",
        "        return out.view(x.size(0), self.n_actions, self.n_quantiles)\n"
      ]
    },
    {
      "cell_type": "markdown",
      "metadata": {
        "id": "gQWsA4hIANr6"
      },
      "source": [
        "Replay buffer + n-step collector"
      ]
    },
    {
      "cell_type": "code",
      "execution_count": null,
      "metadata": {
        "id": "Mj4XLS2IAOzR"
      },
      "outputs": [],
      "source": [
        "class ReplayBuffer:\n",
        "    def __init__(self, capacity):\n",
        "        self.data = collections.deque(maxlen=capacity)\n",
        "    def push(self, s, a, Rn, ns, dn):\n",
        "        self.data.append((s, a, Rn, ns, dn))\n",
        "    def sample(self, B, device):\n",
        "        idx = np.random.randint(0, len(self.data), size=B)\n",
        "        s, a, Rn, ns, dn = zip(*(self.data[i] for i in idx))\n",
        "        return (\n",
        "            torch.tensor(np.array(s),  dtype=torch.float32, device=device),\n",
        "            torch.tensor(np.array(a),  dtype=torch.int64,   device=device),\n",
        "            torch.tensor(np.array(Rn), dtype=torch.float32, device=device),\n",
        "            torch.tensor(np.array(ns), dtype=torch.float32, device=device),\n",
        "            torch.tensor(np.array(dn), dtype=torch.float32, device=device),\n",
        "        )\n",
        "    def __len__(self): return len(self.data)\n",
        "\n",
        "class NStepCollector:\n",
        "    \"\"\"Turn a 1-step stream into n-step tuples (s_t, a_t, R_t^n, s_{t+n}, done^n).\"\"\"\n",
        "    def __init__(self, n, gamma):\n",
        "        self.n = n\n",
        "        self.gamma = gamma\n",
        "        self.buf = collections.deque()\n",
        "    def reset(self):\n",
        "        self.buf.clear()\n",
        "    def push(self, s, a, r, done):\n",
        "        self.buf.append((s, a, r, done))\n",
        "        if len(self.buf) < self.n and not done:\n",
        "            return None\n",
        "        Rn = 0.0\n",
        "        discount = 1.0\n",
        "        last = 0\n",
        "        for i, (_, _, r_i, d_i) in enumerate(self.buf):\n",
        "            Rn += discount * r_i\n",
        "            last = i\n",
        "            if d_i:\n",
        "                break\n",
        "            discount *= self.gamma\n",
        "            if i+1 == self.n:\n",
        "                break\n",
        "        s0, a0, _, _ = self.buf[0]\n",
        "        dn = float(self.buf[last][3])\n",
        "        return s0, a0, Rn, last, dn\n",
        "    def pop_left(self):\n",
        "        if self.buf: self.buf.popleft()\n"
      ]
    },
    {
      "cell_type": "markdown",
      "metadata": {
        "id": "j34XT6ELAQxk"
      },
      "source": [
        "Quantile midpoints + pinball loss (κ=0)"
      ]
    },
    {
      "cell_type": "code",
      "execution_count": null,
      "metadata": {
        "id": "qc5zB3xHAQi_"
      },
      "outputs": [],
      "source": [
        "def quantile_midpoints(N, device):\n",
        "    return (torch.arange(N, device=device, dtype=torch.float32) + 0.5) / N\n",
        "\n",
        "def pinball_loss(pred_q, target_q, taus):\n",
        "    \"\"\"\n",
        "    pred_q:   [B, N]\n",
        "    target_q: [B, N]\n",
        "    taus:     [N]\n",
        "    \"\"\"\n",
        "    B, N = pred_q.shape\n",
        "    u = target_q.unsqueeze(1) - pred_q.unsqueeze(2)  # [B, N, N]\n",
        "    abs_u = u.abs()\n",
        "    taus = taus.view(1, N, 1)\n",
        "    indicator = (u.detach() < 0).float()\n",
        "    loss = (taus - indicator).abs() * abs_u\n",
        "    return loss.mean()\n"
      ]
    },
    {
      "cell_type": "markdown",
      "metadata": {
        "id": "4F6UsV7tASUi"
      },
      "source": [
        "Training utilities (supports n_step=1 or 3)"
      ]
    },
    {
      "cell_type": "code",
      "execution_count": null,
      "metadata": {
        "id": "ZH5S1GprATtl"
      },
      "outputs": [],
      "source": [
        "def epsilon_by_step(step, cfg):\n",
        "    return float(cfg.eps_final + (cfg.eps_start - cfg.eps_final) * max(0.0, 1.0 - step / cfg.eps_decay))\n",
        "\n",
        "@torch.no_grad()\n",
        "def act_epsilon_greedy(state, online, epsilon, device):\n",
        "    if random.random() < epsilon:\n",
        "        return random.randrange(online.n_actions)\n",
        "    s = torch.tensor(state, dtype=torch.float32, device=device).unsqueeze(0)\n",
        "    q = online(s)\n",
        "    return int(q.mean(2).argmax(1).item())\n",
        "\n",
        "def compute_loss(batch, online, target, taus, cfg, gamma_n):\n",
        "    s, a, Rn, ns, dn = batch\n",
        "    B = s.size(0)\n",
        "\n",
        "    q_all = online(s)\n",
        "    q_chosen = q_all.gather(1, a.view(B,1,1).expand(B,1,cfg.n_quantiles)).squeeze(1)\n",
        "\n",
        "    with torch.no_grad():\n",
        "        next_q_online = online(ns)\n",
        "        next_a = next_q_online.mean(2).argmax(1, keepdim=True)\n",
        "        next_q_target = target(ns).gather(1, next_a.unsqueeze(-1).expand(-1,-1,cfg.n_quantiles)).squeeze(1)\n",
        "        target_q = Rn.unsqueeze(1) + (1.0 - dn.unsqueeze(1)) * gamma_n * next_q_target\n",
        "\n",
        "    return pinball_loss(q_chosen, target_q, taus)\n",
        "\n",
        "def train_one(run_name: str, n_step: int, seed: int, cfg=cfg):\n",
        "    print(f\"=== Training {run_name} | n_step={n_step} ===\")\n",
        "    set_seed(seed)\n",
        "    env = make_env(cfg.env_id, seed)\n",
        "    replay = ReplayBuffer(cfg.buffer_size)\n",
        "\n",
        "    online = QRDQN(obs_dim, n_actions, cfg.n_quantiles, cfg.hidden).to(device)\n",
        "    target = QRDQN(obs_dim, n_actions, cfg.n_quantiles, cfg.hidden).to(device)\n",
        "    target.load_state_dict(online.state_dict())\n",
        "\n",
        "    optimizer = torch.optim.Adam(online.parameters(), lr=cfg.lr, eps=cfg.adam_eps)\n",
        "    taus = quantile_midpoints(cfg.n_quantiles, device=device)\n",
        "    gamma_n = cfg.gamma ** n_step\n",
        "\n",
        "    collector = NStepCollector(n_step, cfg.gamma) if n_step > 1 else None\n",
        "\n",
        "    returns = []\n",
        "    s, _ = env.reset(seed=seed)\n",
        "\n",
        "    for step in range(1, cfg.total_steps + 1):\n",
        "        eps = epsilon_by_step(step, cfg)\n",
        "        a = act_epsilon_greedy(s, online, eps, device)\n",
        "        ns, r, term, trunc, _ = env.step(a)\n",
        "        done = term or trunc\n",
        "\n",
        "        if n_step == 1:\n",
        "            replay.push(s, a, r, ns, float(done))\n",
        "        else:\n",
        "            pack = collector.push(s, a, r, done)\n",
        "            if pack is not None:\n",
        "                s0, a0, Rn, last, dn = pack\n",
        "                replay.push(s0, a0, Rn, ns, dn)\n",
        "                collector.pop_left()\n",
        "\n",
        "        s = ns\n",
        "\n",
        "        if len(replay) >= cfg.learn_start:\n",
        "            batch = replay.sample(cfg.batch_size, device)\n",
        "            loss = compute_loss(batch, online, target, taus, cfg, gamma_n)\n",
        "            optimizer.zero_grad(set_to_none=True)\n",
        "            loss.backward()\n",
        "            if cfg.grad_clip is not None:\n",
        "                nn.utils.clip_grad_norm_(online.parameters(), cfg.grad_clip)\n",
        "            optimizer.step()\n",
        "\n",
        "        if step % cfg.target_tau == 0:\n",
        "            target.load_state_dict(online.state_dict())\n",
        "\n",
        "        if done:\n",
        "            with torch.no_grad():\n",
        "                gret = 0.0\n",
        "                s_eval, _ = env.reset()\n",
        "                for _ in range(500):\n",
        "                    ae = act_epsilon_greedy(s_eval, online, 0.0, device)\n",
        "                    s_eval, r_eval, te, tr, _ = env.step(ae)\n",
        "                    gret += r_eval\n",
        "                    if te or tr: break\n",
        "            returns.append(gret)\n",
        "            s, _ = env.reset()\n",
        "            if collector: collector.reset()\n",
        "\n",
        "        if step % 5000 == 0:\n",
        "            last = np.mean(returns[-10:]) if returns else 0.0\n",
        "            print(f\"[{run_name}] step {step:6d} | buffer={len(replay):6d} | eps={eps:.3f} | recent(10)={last:.1f}\")\n",
        "\n",
        "    # Final greedy eval (10 eps)\n",
        "    @torch.no_grad()\n",
        "    def evaluate(episodes=10):\n",
        "        scores = []\n",
        "        for ep in range(episodes):\n",
        "            s_eval, _ = env.reset(seed=seed + 1000 + ep)\n",
        "            total = 0.0\n",
        "            for _ in range(1000):\n",
        "                ae = act_epsilon_greedy(s_eval, online, 0.0, device)\n",
        "                s_eval, r_eval, te, tr, _ = env.step(ae)\n",
        "                total += r_eval\n",
        "                if te or tr: break\n",
        "            scores.append(total)\n",
        "        return float(np.mean(scores))\n",
        "\n",
        "    mean_eval = evaluate(10)\n",
        "    env.close()\n",
        "\n",
        "    ckpt = f\"/content/{run_name}.pt\"\n",
        "    torch.save(online.state_dict(), ckpt)\n",
        "    print(f\"Saved: {ckpt} | Mean greedy eval (10 eps): {mean_eval:.2f}\")\n",
        "\n",
        "    return {\"name\": run_name, \"mean_eval\": mean_eval, \"ckpt\": ckpt}\n"
      ]
    },
    {
      "cell_type": "markdown",
      "metadata": {
        "id": "-R73u_k7AVRE"
      },
      "source": [
        "Multi-seed experiment (Baseline vs New agent)"
      ]
    },
    {
      "cell_type": "code",
      "execution_count": null,
      "metadata": {
        "id": "lcElrHtBOoG9"
      },
      "outputs": [],
      "source": [
        "def run_experiment(tag, n_step, seeds, cfg_template):\n",
        "    res = []\n",
        "    for s in seeds:\n",
        "        cfg_local = copy.deepcopy(cfg_template)\n",
        "        out = train_one(run_name=f\"{tag}_seed{s}\", n_step=n_step, seed=s, cfg=cfg_local)\n",
        "        res.append(out[\"mean_eval\"])\n",
        "    return np.array(res, dtype=np.float32)"
      ]
    },
    {
      "cell_type": "code",
      "execution_count": null,
      "metadata": {
        "colab": {
          "base_uri": "https://localhost:8080/"
        },
        "id": "mBynzss1AXUD",
        "outputId": "62add6a3-d960-4872-8adc-718867c33dc8"
      },
      "outputs": [
        {
          "name": "stdout",
          "output_type": "stream",
          "text": [
            "=== Multi-seed (current config) ===\n",
            "=== Training baseline_1step_seed7 | n_step=1 ===\n",
            "[baseline_1step_seed7] step   5000 | buffer=  5000 | eps=0.802 | recent(10)=212.8\n",
            "[baseline_1step_seed7] step  10000 | buffer= 10000 | eps=0.604 | recent(10)=275.1\n",
            "[baseline_1step_seed7] step  15000 | buffer= 15000 | eps=0.406 | recent(10)=122.6\n",
            "[baseline_1step_seed7] step  20000 | buffer= 20000 | eps=0.208 | recent(10)=138.6\n",
            "[baseline_1step_seed7] step  25000 | buffer= 25000 | eps=0.010 | recent(10)=120.5\n",
            "[baseline_1step_seed7] step  30000 | buffer= 30000 | eps=0.010 | recent(10)=134.7\n",
            "[baseline_1step_seed7] step  35000 | buffer= 35000 | eps=0.010 | recent(10)=152.9\n",
            "[baseline_1step_seed7] step  40000 | buffer= 40000 | eps=0.010 | recent(10)=167.5\n",
            "[baseline_1step_seed7] step  45000 | buffer= 45000 | eps=0.010 | recent(10)=158.7\n",
            "[baseline_1step_seed7] step  50000 | buffer= 50000 | eps=0.010 | recent(10)=146.2\n",
            "Saved: /content/baseline_1step_seed7.pt | Mean greedy eval (10 eps): 269.80\n",
            "=== Training baseline_1step_seed8 | n_step=1 ===\n",
            "[baseline_1step_seed8] step   5000 | buffer=  5000 | eps=0.802 | recent(10)=90.8\n",
            "[baseline_1step_seed8] step  10000 | buffer= 10000 | eps=0.604 | recent(10)=92.5\n",
            "[baseline_1step_seed8] step  15000 | buffer= 15000 | eps=0.406 | recent(10)=133.6\n",
            "[baseline_1step_seed8] step  20000 | buffer= 20000 | eps=0.208 | recent(10)=281.3\n",
            "[baseline_1step_seed8] step  25000 | buffer= 25000 | eps=0.010 | recent(10)=178.9\n",
            "[baseline_1step_seed8] step  30000 | buffer= 30000 | eps=0.010 | recent(10)=168.5\n",
            "[baseline_1step_seed8] step  35000 | buffer= 35000 | eps=0.010 | recent(10)=175.5\n",
            "[baseline_1step_seed8] step  40000 | buffer= 40000 | eps=0.010 | recent(10)=208.9\n",
            "[baseline_1step_seed8] step  45000 | buffer= 45000 | eps=0.010 | recent(10)=232.3\n",
            "[baseline_1step_seed8] step  50000 | buffer= 50000 | eps=0.010 | recent(10)=120.5\n",
            "Saved: /content/baseline_1step_seed8.pt | Mean greedy eval (10 eps): 182.60\n",
            "=== Training baseline_1step_seed9 | n_step=1 ===\n",
            "[baseline_1step_seed9] step   5000 | buffer=  5000 | eps=0.802 | recent(10)=116.5\n",
            "[baseline_1step_seed9] step  10000 | buffer= 10000 | eps=0.604 | recent(10)=199.1\n",
            "[baseline_1step_seed9] step  15000 | buffer= 15000 | eps=0.406 | recent(10)=156.4\n",
            "[baseline_1step_seed9] step  20000 | buffer= 20000 | eps=0.208 | recent(10)=164.6\n",
            "[baseline_1step_seed9] step  25000 | buffer= 25000 | eps=0.010 | recent(10)=169.8\n",
            "[baseline_1step_seed9] step  30000 | buffer= 30000 | eps=0.010 | recent(10)=158.9\n",
            "[baseline_1step_seed9] step  35000 | buffer= 35000 | eps=0.010 | recent(10)=125.0\n",
            "[baseline_1step_seed9] step  40000 | buffer= 40000 | eps=0.010 | recent(10)=155.5\n",
            "[baseline_1step_seed9] step  45000 | buffer= 45000 | eps=0.010 | recent(10)=114.6\n",
            "[baseline_1step_seed9] step  50000 | buffer= 50000 | eps=0.010 | recent(10)=114.2\n",
            "Saved: /content/baseline_1step_seed9.pt | Mean greedy eval (10 eps): 172.70\n",
            "=== Training baseline_1step_seed10 | n_step=1 ===\n",
            "[baseline_1step_seed10] step   5000 | buffer=  5000 | eps=0.802 | recent(10)=276.9\n",
            "[baseline_1step_seed10] step  10000 | buffer= 10000 | eps=0.604 | recent(10)=101.1\n",
            "[baseline_1step_seed10] step  15000 | buffer= 15000 | eps=0.406 | recent(10)=108.8\n",
            "[baseline_1step_seed10] step  20000 | buffer= 20000 | eps=0.208 | recent(10)=157.3\n",
            "[baseline_1step_seed10] step  25000 | buffer= 25000 | eps=0.010 | recent(10)=167.6\n",
            "[baseline_1step_seed10] step  30000 | buffer= 30000 | eps=0.010 | recent(10)=178.9\n",
            "[baseline_1step_seed10] step  35000 | buffer= 35000 | eps=0.010 | recent(10)=250.7\n",
            "[baseline_1step_seed10] step  40000 | buffer= 40000 | eps=0.010 | recent(10)=192.2\n",
            "[baseline_1step_seed10] step  45000 | buffer= 45000 | eps=0.010 | recent(10)=307.7\n",
            "[baseline_1step_seed10] step  50000 | buffer= 50000 | eps=0.010 | recent(10)=138.0\n",
            "Saved: /content/baseline_1step_seed10.pt | Mean greedy eval (10 eps): 114.10\n",
            "=== Training baseline_1step_seed11 | n_step=1 ===\n",
            "[baseline_1step_seed11] step   5000 | buffer=  5000 | eps=0.802 | recent(10)=157.8\n",
            "[baseline_1step_seed11] step  10000 | buffer= 10000 | eps=0.604 | recent(10)=137.4\n",
            "[baseline_1step_seed11] step  15000 | buffer= 15000 | eps=0.406 | recent(10)=115.3\n",
            "[baseline_1step_seed11] step  20000 | buffer= 20000 | eps=0.208 | recent(10)=143.1\n",
            "[baseline_1step_seed11] step  25000 | buffer= 25000 | eps=0.010 | recent(10)=214.9\n",
            "[baseline_1step_seed11] step  30000 | buffer= 30000 | eps=0.010 | recent(10)=193.7\n",
            "[baseline_1step_seed11] step  35000 | buffer= 35000 | eps=0.010 | recent(10)=127.9\n",
            "[baseline_1step_seed11] step  40000 | buffer= 40000 | eps=0.010 | recent(10)=175.2\n",
            "[baseline_1step_seed11] step  45000 | buffer= 45000 | eps=0.010 | recent(10)=195.9\n",
            "[baseline_1step_seed11] step  50000 | buffer= 50000 | eps=0.010 | recent(10)=199.1\n",
            "Saved: /content/baseline_1step_seed11.pt | Mean greedy eval (10 eps): 151.40\n",
            "=== Training nstep3_seed7 | n_step=3 ===\n",
            "[nstep3_seed7] step   5000 | buffer=  4584 | eps=0.802 | recent(10)=206.4\n",
            "[nstep3_seed7] step  10000 | buffer=  9376 | eps=0.604 | recent(10)=253.0\n",
            "[nstep3_seed7] step  15000 | buffer= 14294 | eps=0.406 | recent(10)=222.7\n",
            "[nstep3_seed7] step  20000 | buffer= 19244 | eps=0.208 | recent(10)=274.6\n",
            "[nstep3_seed7] step  25000 | buffer= 24206 | eps=0.010 | recent(10)=353.7\n",
            "[nstep3_seed7] step  30000 | buffer= 29174 | eps=0.010 | recent(10)=358.3\n",
            "[nstep3_seed7] step  35000 | buffer= 34148 | eps=0.010 | recent(10)=311.8\n",
            "[nstep3_seed7] step  40000 | buffer= 39122 | eps=0.010 | recent(10)=420.0\n",
            "[nstep3_seed7] step  45000 | buffer= 44096 | eps=0.010 | recent(10)=350.5\n",
            "[nstep3_seed7] step  50000 | buffer= 49072 | eps=0.010 | recent(10)=358.3\n",
            "Saved: /content/nstep3_seed7.pt | Mean greedy eval (10 eps): 390.80\n",
            "=== Training nstep3_seed8 | n_step=3 ===\n",
            "[nstep3_seed8] step   5000 | buffer=  4588 | eps=0.802 | recent(10)=153.1\n",
            "[nstep3_seed8] step  10000 | buffer=  9392 | eps=0.604 | recent(10)=328.9\n",
            "[nstep3_seed8] step  15000 | buffer= 14326 | eps=0.406 | recent(10)=336.6\n",
            "[nstep3_seed8] step  20000 | buffer= 19284 | eps=0.208 | recent(10)=272.0\n",
            "[nstep3_seed8] step  25000 | buffer= 24254 | eps=0.010 | recent(10)=354.8\n",
            "[nstep3_seed8] step  30000 | buffer= 29226 | eps=0.010 | recent(10)=407.3\n",
            "[nstep3_seed8] step  35000 | buffer= 34196 | eps=0.010 | recent(10)=312.5\n",
            "[nstep3_seed8] step  40000 | buffer= 39168 | eps=0.010 | recent(10)=388.3\n",
            "[nstep3_seed8] step  45000 | buffer= 44142 | eps=0.010 | recent(10)=353.1\n",
            "[nstep3_seed8] step  50000 | buffer= 49112 | eps=0.010 | recent(10)=424.9\n",
            "Saved: /content/nstep3_seed8.pt | Mean greedy eval (10 eps): 353.20\n",
            "=== Training nstep3_seed9 | n_step=3 ===\n",
            "[nstep3_seed9] step   5000 | buffer=  4600 | eps=0.802 | recent(10)=191.6\n",
            "[nstep3_seed9] step  10000 | buffer=  9412 | eps=0.604 | recent(10)=381.0\n",
            "[nstep3_seed9] step  15000 | buffer= 14338 | eps=0.406 | recent(10)=335.6\n",
            "[nstep3_seed9] step  20000 | buffer= 19298 | eps=0.208 | recent(10)=346.9\n",
            "[nstep3_seed9] step  25000 | buffer= 24268 | eps=0.010 | recent(10)=359.5\n",
            "[nstep3_seed9] step  30000 | buffer= 29236 | eps=0.010 | recent(10)=365.2\n",
            "[nstep3_seed9] step  35000 | buffer= 34204 | eps=0.010 | recent(10)=404.8\n",
            "[nstep3_seed9] step  40000 | buffer= 39180 | eps=0.010 | recent(10)=406.7\n",
            "[nstep3_seed9] step  45000 | buffer= 44156 | eps=0.010 | recent(10)=372.1\n",
            "[nstep3_seed9] step  50000 | buffer= 49132 | eps=0.010 | recent(10)=450.1\n",
            "Saved: /content/nstep3_seed9.pt | Mean greedy eval (10 eps): 356.20\n",
            "=== Training nstep3_seed10 | n_step=3 ===\n",
            "[nstep3_seed10] step   5000 | buffer=  4614 | eps=0.802 | recent(10)=231.3\n",
            "[nstep3_seed10] step  10000 | buffer=  9432 | eps=0.604 | recent(10)=305.3\n",
            "[nstep3_seed10] step  15000 | buffer= 14352 | eps=0.406 | recent(10)=310.4\n",
            "[nstep3_seed10] step  20000 | buffer= 19310 | eps=0.208 | recent(10)=368.4\n",
            "[nstep3_seed10] step  25000 | buffer= 24282 | eps=0.010 | recent(10)=351.5\n",
            "[nstep3_seed10] step  30000 | buffer= 29252 | eps=0.010 | recent(10)=318.1\n",
            "[nstep3_seed10] step  35000 | buffer= 34218 | eps=0.010 | recent(10)=403.7\n",
            "[nstep3_seed10] step  40000 | buffer= 39194 | eps=0.010 | recent(10)=385.2\n",
            "[nstep3_seed10] step  45000 | buffer= 44168 | eps=0.010 | recent(10)=441.5\n",
            "[nstep3_seed10] step  50000 | buffer= 49142 | eps=0.010 | recent(10)=441.0\n",
            "Saved: /content/nstep3_seed10.pt | Mean greedy eval (10 eps): 391.30\n",
            "=== Training nstep3_seed11 | n_step=3 ===\n",
            "[nstep3_seed11] step   5000 | buffer=  4606 | eps=0.802 | recent(10)=169.9\n",
            "[nstep3_seed11] step  10000 | buffer=  9404 | eps=0.604 | recent(10)=245.4\n",
            "[nstep3_seed11] step  15000 | buffer= 14316 | eps=0.406 | recent(10)=267.8\n",
            "[nstep3_seed11] step  20000 | buffer= 19268 | eps=0.208 | recent(10)=291.0\n",
            "[nstep3_seed11] step  25000 | buffer= 24228 | eps=0.010 | recent(10)=318.0\n",
            "[nstep3_seed11] step  30000 | buffer= 29196 | eps=0.010 | recent(10)=392.5\n",
            "[nstep3_seed11] step  35000 | buffer= 34168 | eps=0.010 | recent(10)=276.9\n",
            "[nstep3_seed11] step  40000 | buffer= 39132 | eps=0.010 | recent(10)=323.2\n",
            "[nstep3_seed11] step  45000 | buffer= 44104 | eps=0.010 | recent(10)=421.1\n",
            "[nstep3_seed11] step  50000 | buffer= 49078 | eps=0.010 | recent(10)=385.1\n",
            "Saved: /content/nstep3_seed11.pt | Mean greedy eval (10 eps): 343.20\n",
            "Baseline (1-step, κ=0): mean=178.12  median=172.70  std=57.59  n=5  scores=[269.8 182.6 172.7 114.1 151.4]\n",
            "New agent (n=3, κ=0): mean=366.94  median=356.20  std=22.53  n=5  scores=[390.8 353.2 356.2 391.3 343.2]\n"
          ]
        }
      ],
      "source": [
        "import numpy as np, copy\n",
        "\n",
        "def run_experiment(tag, n_step, seeds, cfg_template):\n",
        "    res = []\n",
        "    for s in seeds:\n",
        "        cfg_local = copy.deepcopy(cfg_template)\n",
        "        out = train_one(run_name=f\"{tag}_seed{s}\", n_step=n_step, seed=s, cfg=cfg_local)\n",
        "        res.append(out[\"mean_eval\"])\n",
        "    return np.array(res, dtype=np.float32)\n",
        "\n",
        "def summarize(name, scores):\n",
        "    print(f\"{name}: mean={scores.mean():.2f}  median={np.median(scores):.2f}  std={scores.std(ddof=1):.2f}  n={len(scores)}  scores={scores.round(1)}\")\n",
        "\n",
        "seeds = [7, 8, 9, 10, 11]\n",
        "\n",
        "print(\"=== Multi-seed (current config) ===\")\n",
        "base_scores = run_experiment(\"baseline_1step\", n_step=1, seeds=seeds, cfg_template=cfg)\n",
        "nstep_scores = run_experiment(\"nstep3\", n_step=3, seeds=seeds, cfg_template=cfg)\n",
        "\n",
        "summarize(\"Baseline (1-step, κ=0)\", base_scores)\n",
        "summarize(\"New agent (n=3, κ=0)\",  nstep_scores)\n"
      ]
    },
    {
      "cell_type": "markdown",
      "metadata": {
        "id": "XgprQy-FAYxj"
      },
      "source": [
        "Evaluate any saved checkpoint (more episodes)"
      ]
    },
    {
      "cell_type": "code",
      "execution_count": null,
      "metadata": {
        "colab": {
          "base_uri": "https://localhost:8080/"
        },
        "id": "J9xJRhxqAaQV",
        "outputId": "7dc69e59-952e-4d04-ab44-eb91e427398b"
      },
      "outputs": [
        {
          "name": "stdout",
          "output_type": "stream",
          "text": [
            "Re-eval baseline: 270.47  | Re-eval nstep3: 395.31\n"
          ]
        }
      ],
      "source": [
        "@torch.no_grad()\n",
        "def load_and_eval(ckpt_path, episodes=30):\n",
        "    env = make_env(cfg.env_id, cfg.base_seed + 2025)\n",
        "    model = QRDQN(obs_dim, n_actions, cfg.n_quantiles, cfg.hidden).to(device)\n",
        "    state_dict = torch.load(ckpt_path, map_location=device)\n",
        "    model.load_state_dict(state_dict)\n",
        "\n",
        "    def greedy_episode(seed=None):\n",
        "        s, _ = env.reset(seed=seed)\n",
        "        total = 0.0\n",
        "        for _ in range(1000):\n",
        "            a = act_epsilon_greedy(s, model, 0.0, device)\n",
        "            s, r, term, trunc, _ = env.step(a)\n",
        "            total += r\n",
        "            if term or trunc: break\n",
        "        return total\n",
        "\n",
        "    scores = [greedy_episode(cfg.base_seed + 3000 + i) for i in range(episodes)]\n",
        "    env.close()\n",
        "    return float(np.mean(scores)), scores\n",
        "\n",
        "m1, _ = load_and_eval(\"/content/baseline_1step_seed7.pt\", episodes=100)\n",
        "m2, _ = load_and_eval(\"/content/nstep3_seed7.pt\", episodes=100)\n",
        "print(\"Re-eval baseline:\", m1, \" | Re-eval nstep3:\", m2)\n"
      ]
    },
    {
      "cell_type": "markdown",
      "metadata": {
        "id": "bu2UCjd8AgD8"
      },
      "source": [
        "Plot curves or export CSV"
      ]
    },
    {
      "cell_type": "code",
      "execution_count": null,
      "metadata": {
        "colab": {
          "base_uri": "https://localhost:8080/",
          "height": 17
        },
        "id": "fkzGGjIEAf02",
        "outputId": "773738be-b3be-4fa1-fc91-839e0f7ce7bd"
      },
      "outputs": [
        {
          "data": {
            "application/javascript": [
              "\n",
              "    async function download(id, filename, size) {\n",
              "      if (!google.colab.kernel.accessAllowed) {\n",
              "        return;\n",
              "      }\n",
              "      const div = document.createElement('div');\n",
              "      const label = document.createElement('label');\n",
              "      label.textContent = `Downloading \"${filename}\": `;\n",
              "      div.appendChild(label);\n",
              "      const progress = document.createElement('progress');\n",
              "      progress.max = size;\n",
              "      div.appendChild(progress);\n",
              "      document.body.appendChild(div);\n",
              "\n",
              "      const buffers = [];\n",
              "      let downloaded = 0;\n",
              "\n",
              "      const channel = await google.colab.kernel.comms.open(id);\n",
              "      // Send a message to notify the kernel that we're ready.\n",
              "      channel.send({})\n",
              "\n",
              "      for await (const message of channel.messages) {\n",
              "        // Send a message to notify the kernel that we're ready.\n",
              "        channel.send({})\n",
              "        if (message.buffers) {\n",
              "          for (const buffer of message.buffers) {\n",
              "            buffers.push(buffer);\n",
              "            downloaded += buffer.byteLength;\n",
              "            progress.value = downloaded;\n",
              "          }\n",
              "        }\n",
              "      }\n",
              "      const blob = new Blob(buffers, {type: 'application/binary'});\n",
              "      const a = document.createElement('a');\n",
              "      a.href = window.URL.createObjectURL(blob);\n",
              "      a.download = filename;\n",
              "      div.appendChild(a);\n",
              "      a.click();\n",
              "      div.remove();\n",
              "    }\n",
              "  "
            ],
            "text/plain": [
              "<IPython.core.display.Javascript object>"
            ]
          },
          "metadata": {},
          "output_type": "display_data"
        },
        {
          "data": {
            "application/javascript": [
              "download(\"download_27e41f0e-a809-4f15-ae4f-d6f1afb3e356\", \"qrddqn_nstep_vs_baseline.csv\", 160)"
            ],
            "text/plain": [
              "<IPython.core.display.Javascript object>"
            ]
          },
          "metadata": {},
          "output_type": "display_data"
        }
      ],
      "source": [
        "import pandas as pd\n",
        "from google.colab import files\n",
        "\n",
        "df = pd.DataFrame({\n",
        "    \"seed\": seeds,\n",
        "    \"baseline_1step\": base_scores,\n",
        "    \"nstep3\": nstep_scores\n",
        "})\n",
        "df[\"diff_n3_minus_base\"] = df[\"nstep3\"] - df[\"baseline_1step\"]\n",
        "df\n",
        "df.to_csv(\"/content/qrddqn_nstep_vs_baseline.csv\", index=False)\n",
        "files.download(\"/content/qrddqn_nstep_vs_baseline.csv\")\n"
      ]
    },
    {
      "cell_type": "markdown",
      "metadata": {
        "id": "yzX01LKxy0CQ"
      },
      "source": [
        "Re-evaluate both sets over 300 episodes each (greedy)"
      ]
    },
    {
      "cell_type": "code",
      "execution_count": null,
      "metadata": {
        "id": "qkGMHtWLyeeU"
      },
      "outputs": [],
      "source": [
        "# CartPole (Gymnasium) and MinAtar wrappers with a uniform API\n",
        "import numpy as np\n",
        "import gymnasium as gym\n",
        "\n",
        "class GymCartPoleLike:\n",
        "    def __init__(self, seed=0):\n",
        "        self.env = gym.make(\"CartPole-v1\")\n",
        "        self.env.reset(seed=seed)\n",
        "        self.action_space = type(\"A\", (), {\"n\": self.env.action_space.n})\n",
        "        self.shape = (self.env.observation_space.shape[0],)  # (4,)\n",
        "    def reset(self, seed=None):\n",
        "        obs, info = self.env.reset(seed=seed)\n",
        "        return obs.astype(np.float32), info\n",
        "    def step(self, a):\n",
        "        obs, r, term, trunc, info = self.env.step(a)\n",
        "        return obs.astype(np.float32), float(r), bool(term), bool(trunc), info\n",
        "    def close(self): self.env.close()\n",
        "\n",
        "def make_env_any(env_kind, seed=0, game=\"breakout\", sticky=0.1):\n",
        "    if env_kind.lower() == \"cartpole\":\n",
        "        return GymCartPoleLike(seed)\n",
        "    elif env_kind.lower() == \"minatar\":\n",
        "        return make_minatar_env(seed=seed, game=game, sticky=sticky)\n",
        "    else:\n",
        "        raise ValueError(f\"Unknown env_kind={env_kind} (use 'cartpole' or 'minatar')\")\n"
      ]
    },
    {
      "cell_type": "code",
      "execution_count": null,
      "metadata": {
        "id": "k5zBwtG-y2UV"
      },
      "outputs": [],
      "source": [
        "import torch, torch.nn as nn\n",
        "import numpy as np\n",
        "\n",
        "class QRDQN_MLP_Dyn(nn.Module):\n",
        "    def __init__(self, obs_dim, n_actions, n_quantiles, h1, h2):\n",
        "        super().__init__()\n",
        "        self.n_actions = n_actions\n",
        "        self.n_quantiles = n_quantiles\n",
        "        self.net = nn.Sequential(\n",
        "            nn.Linear(obs_dim, h1), nn.ReLU(inplace=True),\n",
        "            nn.Linear(h1, h2),      nn.ReLU(inplace=True),\n",
        "            nn.Linear(h2, n_actions * n_quantiles),\n",
        "        )\n",
        "    def forward(self, x):\n",
        "        z = self.net(x)\n",
        "        return z.view(x.size(0), self.n_actions, self.n_quantiles)\n",
        "\n",
        "def _unwrap_state_dict(sd):\n",
        "    if isinstance(sd, dict) and \"model\" in sd and isinstance(sd[\"model\"], dict):\n",
        "        return sd[\"model\"]\n",
        "    return sd\n",
        "\n",
        "def _build_model_for_state(state, obs_shape, n_actions, n_quantiles):\n",
        "    keys = list(state.keys())\n",
        "    has_conv = any(k.startswith(\"torso.\") for k in keys)\n",
        "    has_net  = any(k.startswith(\"net.\")   for k in keys)\n",
        "\n",
        "    if len(obs_shape) == 1:\n",
        "        obs_dim = obs_shape[0]\n",
        "        if has_net:\n",
        "            h1 = state[\"net.0.weight\"].shape[0]\n",
        "            h2 = state[\"net.2.weight\"].shape[0]\n",
        "            out = state[\"net.4.weight\"].shape[0]\n",
        "            if out != n_actions * n_quantiles and out % n_actions == 0:\n",
        "                n_quantiles = out // n_actions\n",
        "            model = QRDQN_MLP_Dyn(obs_dim, n_actions, n_quantiles, h1, h2).to(device)\n",
        "            arch  = \"mlp\"\n",
        "            def prep(s_np):\n",
        "                return torch.tensor(s_np, dtype=torch.float32, device=device).unsqueeze(0)\n",
        "            return model, arch, prep\n",
        "        else:\n",
        "            raise RuntimeError(\"Checkpoint has no 'net.*' keys but obs is 1D: not an MLP QR-DQN checkpoint?\")\n",
        "    else:\n",
        "        C,H,W = obs_shape\n",
        "        if has_conv:\n",
        "            has_duel = any(k.startswith((\"adv.\",\"val.\")) for k in keys)\n",
        "            has_noisy= any(\"noisy\" in k for k in keys)\n",
        "            if has_duel or has_noisy:\n",
        "                model = QRDQNConv_DuelingNoisy(C, n_actions, n_quantiles, hidden=128, sigma0=0.5, use_noisy=has_noisy).to(device)\n",
        "                arch  = \"conv_duel_noisy\" if has_noisy else \"conv_duel\"\n",
        "            else:\n",
        "                model = QRDQNConv(C, n_actions, n_quantiles, hidden=128).to(device)\n",
        "                arch  = \"conv\"\n",
        "            def prep(s_np):\n",
        "                return torch.tensor(s_np, dtype=torch.float32, device=device).unsqueeze(0)\n",
        "            return model, arch, prep\n",
        "        else:\n",
        "            raise RuntimeError(\"Checkpoint has no 'torso.*' keys but obs is image-like: not a Conv QR-DQN checkpoint?\")\n",
        "\n",
        "@torch.no_grad()\n",
        "def eval_checkpoint_anyenv(\n",
        "    ckpt_path, env_kind, episodes=300, seed_base=54321, game=\"breakout\", sticky=0.1, n_quantiles=51\n",
        "):\n",
        "    env = make_env_any(env_kind, seed=seed_base, game=game, sticky=sticky)\n",
        "    obs0, _ = env.reset()\n",
        "    nA = env.action_space.n\n",
        "    obs_shape = obs0.shape\n",
        "\n",
        "    raw = torch.load(ckpt_path, map_location=\"cpu\")\n",
        "    state = _unwrap_state_dict(raw)\n",
        "\n",
        "    model, arch, prep = _build_model_for_state(state, obs_shape, nA, n_quantiles)\n",
        "    model.load_state_dict(state)\n",
        "\n",
        "    def greedy_ep(ep_idx):\n",
        "        s, _ = env.reset(seed=seed_base + ep_idx)\n",
        "        total = 0.0\n",
        "        for _ in range(5000):\n",
        "            s_t = prep(s)\n",
        "            q = model(s_t)\n",
        "            a = int(q.mean(2).argmax(1).item())\n",
        "            s, r, term, trunc, _ = env.step(a)\n",
        "            total += r\n",
        "            if term or trunc: break\n",
        "        return float(total)\n",
        "\n",
        "    scores = [greedy_ep(i) for i in range(episodes)]\n",
        "    env.close()\n",
        "    arr = np.array(scores, dtype=np.float32)\n",
        "    return float(arr.mean()), float(arr.std(ddof=1)), scores\n"
      ]
    },
    {
      "cell_type": "code",
      "execution_count": null,
      "metadata": {
        "colab": {
          "base_uri": "https://localhost:8080/"
        },
        "id": "ACv54ynK1BRg",
        "outputId": "8f29827d-b71a-449d-bd53-721f1dd1029c"
      },
      "outputs": [
        {
          "output_type": "stream",
          "name": "stdout",
          "text": [
            "seed | 1-step mean±sd  | n=3 mean±sd   | Δ (n3 - 1step)\n",
            "   7 | 274.56±103.00 | 389.80±102.69 | +115.24\n",
            "   8 | 185.57±14.33 | 387.16±93.93 | +201.60\n",
            "   9 | 113.23± 5.31 | 418.70±93.68 | +305.46\n",
            "  10 | 150.66± 3.97 | 386.92±112.43 | +236.25\n",
            "\n",
            "Δ summary: mean=214.64, median=218.93, std=79.09, n=4\n"
          ]
        }
      ],
      "source": [
        "pairs = [\n",
        "    (\"/content/baseline_1step_seed7.pt\", \"/content/nstep3_seed7.pt\"),\n",
        "    (\"/content/baseline_1step_seed8.pt\", \"/content/nstep3_seed8.pt\"),\n",
        "    (\"/content/baseline_1step_seed10.pt\",\"/content/nstep3_seed10.pt\"),\n",
        "    (\"/content/baseline_1step_seed11.pt\",\"/content/nstep3_seed11.pt\"),\n",
        "]\n",
        "\n",
        "rows = []\n",
        "for seed, (b_ckpt, n_ckpt) in zip([7,8,9,10,11], pairs):\n",
        "    mb, sb, _ = eval_checkpoint_anyenv(b_ckpt, env_kind=\"cartpole\", episodes=1000, seed_base=54321)\n",
        "    mn, sn, _ = eval_checkpoint_anyenv(n_ckpt, env_kind=\"cartpole\", episodes=1000, seed_base=54321)\n",
        "    rows.append((seed, mb, sb, mn, sn, mn - mb))\n",
        "\n",
        "print(\"seed | 1-step mean±sd  | n=3 mean±sd   | Δ (n3 - 1step)\")\n",
        "for seed, mb, sb, mn, sn, d in rows:\n",
        "    print(f\"{seed:>4} | {mb:6.2f}±{sb:5.2f} | {mn:6.2f}±{sn:5.2f} | {d:+.2f}\")\n",
        "\n",
        "import numpy as np\n",
        "deltas = np.array([r[-1] for r in rows], dtype=np.float32)\n",
        "print(\"\\nΔ summary: mean={:.2f}, median={:.2f}, std={:.2f}, n={}\".format(\n",
        "    deltas.mean(), np.median(deltas), deltas.std(ddof=1), len(deltas)\n",
        "))\n"
      ]
    }
  ]
}