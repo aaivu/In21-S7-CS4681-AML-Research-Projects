{
 "cells": [
  {
   "cell_type": "code",
   "execution_count": 1,
   "id": "825619f6",
   "metadata": {},
   "outputs": [
    {
     "name": "stderr",
     "output_type": "stream",
     "text": [
      "c:\\Users\\Yasiru Laksara\\miniconda3\\envs\\torch_env\\Lib\\site-packages\\tqdm\\auto.py:21: TqdmWarning: IProgress not found. Please update jupyter and ipywidgets. See https://ipywidgets.readthedocs.io/en/stable/user_install.html\n",
      "  from .autonotebook import tqdm as notebook_tqdm\n"
     ]
    }
   ],
   "source": [
    "import os\n",
    "import pandas as pd\n",
    "from PIL import Image\n",
    "import torch\n",
    "import torch.nn as nn\n",
    "import torch.nn.functional as F\n",
    "from torch.utils.data import DataLoader, Dataset\n",
    "from sklearn.model_selection import train_test_split\n",
    "import torchvision.transforms as transforms\n",
    "from tqdm.auto import tqdm\n",
    "from sklearn.metrics import roc_auc_score, f1_score, precision_recall_curve\n",
    "import numpy as np\n",
    "from torchvision.models import densenet121, DenseNet121_Weights, efficientnet_b2, EfficientNet_B2_Weights, efficientnet_b3, EfficientNet_B3_Weights\n",
    "import matplotlib.pyplot as plt\n",
    "import glob, json\n",
    "import warnings\n",
    "warnings.filterwarnings('ignore')"
   ]
  },
  {
   "cell_type": "code",
   "execution_count": 2,
   "id": "084c27b5",
   "metadata": {},
   "outputs": [
    {
     "name": "stdout",
     "output_type": "stream",
     "text": [
      "Device: cuda\n",
      "Models dir: ./Final Models\n"
     ]
    }
   ],
   "source": [
    "CONFIG = {\n",
    "    'batch_size': 8,\n",
    "    'device': 'cuda' if torch.cuda.is_available() else 'cpu',\n",
    "    'data_dir': './processed_images/data',\n",
    "    'models_dir': './Final Models',\n",
    "    'seed': 42\n",
    "}\n",
    "disease_list = [\n",
    "    'Atelectasis','Cardiomegaly','Consolidation','Edema','Effusion',\n",
    "    'Emphysema','Fibrosis','Hernia','Infiltration','Mass',\n",
    "    'Nodule','Pleural_Thickening','Pneumonia','Pneumothorax'\n",
    "]\n",
    "print('Device:', CONFIG['device'])\n",
    "print('Models dir:', CONFIG['models_dir'])"
   ]
  },
  {
   "cell_type": "code",
   "execution_count": 3,
   "id": "20651669",
   "metadata": {},
   "outputs": [],
   "source": [
    "transform_test = transforms.Compose([\n",
    "    transforms.Resize(256),\n",
    "    transforms.CenterCrop(224),\n",
    "    transforms.ToTensor(),\n",
    "    transforms.Normalize([0.485,0.456,0.406],[0.229,0.224,0.225])\n",
    "])\n",
    "def get_label_vector(labels_str):\n",
    "    labels = labels_str.split('|')\n",
    "    if labels == ['No Finding']:\n",
    "        return [0]*len(disease_list)\n",
    "    return [1 if d in labels else 0 for d in disease_list]\n",
    "class CheXNetDataset(Dataset):\n",
    "    def __init__(self, df, image_to_folder, transform=None):\n",
    "        self.df = df.reset_index(drop=True)\n",
    "        self.image_to_folder = image_to_folder\n",
    "        self.transform = transform\n",
    "    def __len__(self):\n",
    "        return len(self.df)\n",
    "    def __getitem__(self, idx):\n",
    "        row = self.df.iloc[idx]\n",
    "        img = row['Image Index']\n",
    "        folder = self.image_to_folder[img]\n",
    "        path = os.path.join(folder, img)\n",
    "        image = Image.open(path).convert('RGB')\n",
    "        if self.transform: image = self.transform(image)\n",
    "        labels = torch.tensor(get_label_vector(row['Finding Labels']), dtype=torch.float)\n",
    "        return image, labels"
   ]
  },
  {
   "cell_type": "code",
   "execution_count": 4,
   "id": "60f254c7",
   "metadata": {},
   "outputs": [
    {
     "name": "stdout",
     "output_type": "stream",
     "text": [
      "Test size: 2299 Val size: 5974\n"
     ]
    }
   ],
   "source": [
    "# Load CSV and map images\n",
    "data_path = CONFIG['data_dir']\n",
    "csv_file = os.path.join(data_path, 'Data_Entry_2017.csv')\n",
    "df = pd.read_csv(csv_file)\n",
    "image_folders = [os.path.join(data_path, f'images_{str(i).zfill(3)}','images') for i in range(1,13)]\n",
    "image_to_folder = {}\n",
    "for folder in image_folders:\n",
    "    if os.path.exists(folder):\n",
    "        for f in os.listdir(folder):\n",
    "            if f.endswith('.png'): image_to_folder[f]=folder\n",
    "df = df[df['Image Index'].isin(image_to_folder.keys())].reset_index(drop=True)\n",
    "# split same as other notebook\n",
    "unique_patients = df['Patient ID'].unique()\n",
    "train_val_patients, test_patients = train_test_split(unique_patients, test_size=0.02, random_state=CONFIG['seed'])\n",
    "train_patients, val_patients = train_test_split(train_val_patients, test_size=0.052, random_state=CONFIG['seed'])\n",
    "test_df = df[df['Patient ID'].isin(test_patients)]\n",
    "val_df = df[df['Patient ID'].isin(val_patients)]\n",
    "valloader = DataLoader(CheXNetDataset(val_df, image_to_folder, transform=transform_test), batch_size=CONFIG['batch_size'], shuffle=False, num_workers=0)\n",
    "testloader = DataLoader(CheXNetDataset(test_df, image_to_folder, transform=transform_test), batch_size=CONFIG['batch_size'], shuffle=False, num_workers=0)\n",
    "print('Test size:', len(test_df),'Val size:', len(val_df))"
   ]
  },
  {
   "cell_type": "code",
   "execution_count": 5,
   "id": "1d4c8f05",
   "metadata": {},
   "outputs": [],
   "source": [
    "def create_densenet_model():\n",
    "    model = densenet121(weights=DenseNet121_Weights.IMAGENET1K_V1)\n",
    "    model.classifier = nn.Linear(model.classifier.in_features, 14)\n",
    "    return model\n",
    "\n",
    "def create_efficientnet_b2_model():\n",
    "    model = efficientnet_b2(weights=EfficientNet_B2_Weights.IMAGENET1K_V1)\n",
    "    num_features = model.classifier[1].in_features\n",
    "    model.classifier = nn.Linear(num_features, 14)\n",
    "    return model\n",
    "\n",
    "def create_efficientnet_b3_model():\n",
    "    model = efficientnet_b3(weights=EfficientNet_B3_Weights.IMAGENET1K_V1)\n",
    "    num_features = model.classifier[1].in_features\n",
    "    model.classifier = nn.Linear(num_features, 14)\n",
    "    return model\n",
    "\n",
    "# Attention mechanism classes (moved to global scope for proper pickling)\n",
    "class ChannelAttention(nn.Module):\n",
    "    def __init__(self, in_planes, ratio=16):\n",
    "        super(ChannelAttention, self).__init__()\n",
    "        self.avg_pool = nn.AdaptiveAvgPool2d(1)\n",
    "        self.max_pool = nn.AdaptiveMaxPool2d(1)\n",
    "        self.fc1 = nn.Conv2d(in_planes, in_planes // ratio, 1, bias=False)\n",
    "        self.relu1 = nn.ReLU()\n",
    "        self.fc2 = nn.Conv2d(in_planes // ratio, in_planes, 1, bias=False)\n",
    "        self.sigmoid = nn.Sigmoid()\n",
    "        \n",
    "    def forward(self, x):\n",
    "        avg_out = self.fc2(self.relu1(self.fc1(self.avg_pool(x))))\n",
    "        max_out = self.fc2(self.relu1(self.fc1(self.max_pool(x))))\n",
    "        out = avg_out + max_out\n",
    "        return self.sigmoid(out)\n",
    "\n",
    "class SpatialAttention(nn.Module):\n",
    "    def __init__(self, kernel_size=7):\n",
    "        super(SpatialAttention, self).__init__()\n",
    "        assert kernel_size in (3, 7), 'kernel size must be 3 or 7'\n",
    "        padding = 3 if kernel_size == 7 else 1\n",
    "        \n",
    "        self.conv1 = nn.Conv2d(2, 1, kernel_size, padding=padding, bias=False)\n",
    "        self.sigmoid = nn.Sigmoid()\n",
    "\n",
    "    def forward(self, x):\n",
    "        avg_out = torch.mean(x, dim=1, keepdim=True)\n",
    "        max_out, _ = torch.max(x, dim=1, keepdim=True)\n",
    "        x = torch.cat([avg_out, max_out], dim=1)\n",
    "        x = self.conv1(x)\n",
    "        return self.sigmoid(x)\n",
    "\n",
    "class CBAM(nn.Module):\n",
    "    def __init__(self, in_planes, ratio=16, kernel_size=7):\n",
    "        super(CBAM, self).__init__()\n",
    "        self.ca = ChannelAttention(in_planes, ratio)\n",
    "        self.sa = SpatialAttention(kernel_size)\n",
    "\n",
    "    def forward(self, x):\n",
    "        x = x * self.ca(x)\n",
    "        x = x * self.sa(x)\n",
    "        return x\n",
    "\n",
    "class DenseNetCBAM(nn.Module):\n",
    "    def __init__(self, num_classes=14):\n",
    "        super(DenseNetCBAM, self).__init__()\n",
    "        # Load pretrained DenseNet121\n",
    "        self.densenet = densenet121(weights=DenseNet121_Weights.IMAGENET1K_V1)\n",
    "        \n",
    "        # Get the number of features from the last layer\n",
    "        num_features = self.densenet.classifier.in_features\n",
    "        \n",
    "        # Remove the classifier layer\n",
    "        self.densenet.classifier = nn.Identity()\n",
    "        \n",
    "        # Add CBAM attention after feature extraction\n",
    "        self.attention = CBAM(num_features)\n",
    "        \n",
    "        # Add global average pooling\n",
    "        self.global_pool = nn.AdaptiveAvgPool2d(1)\n",
    "        \n",
    "        # Add dropout and final classifier\n",
    "        self.dropout = nn.Dropout(0.2)\n",
    "        self.classifier = nn.Linear(num_features, num_classes)\n",
    "        \n",
    "    def forward(self, x):\n",
    "        # Extract features using DenseNet backbone\n",
    "        features = self.densenet.features(x)\n",
    "        \n",
    "        # Apply attention mechanism\n",
    "        attended_features = self.attention(features)\n",
    "        \n",
    "        # Global average pooling\n",
    "        pooled = self.global_pool(attended_features)\n",
    "        pooled = pooled.view(pooled.size(0), -1)\n",
    "        \n",
    "        # Apply dropout and classifier\n",
    "        output = self.dropout(pooled)\n",
    "        output = self.classifier(output)\n",
    "        \n",
    "        return output\n",
    "\n",
    "def create_densenet_attention_model():\n",
    "    return DenseNetCBAM()\n",
    "\n",
    "\n",
    "def detect_model_architecture(model_path):\n",
    "    try:\n",
    "        state_dict = torch.load(model_path, map_location='cpu')\n",
    "        \n",
    "        # Check for attention model\n",
    "        attention_keys = ['attention.ca.fc1.weight', 'attention.ca.fc2.weight', 'attention.sa.conv1.weight']\n",
    "        densenet_prefixed_keys = ['densenet.features.conv0.weight', 'densenet.features.norm0.weight']\n",
    "        if all(key in state_dict for key in attention_keys) and any(key in state_dict for key in densenet_prefixed_keys):\n",
    "            return 'densenet_attention'\n",
    "        \n",
    "        # Check for standard models\n",
    "        densenet_keys = ['features.conv0.weight', 'features.denseblock1.denselayer1.norm1.weight']\n",
    "        if all(key in state_dict for key in densenet_keys):\n",
    "            return 'densenet'\n",
    "        \n",
    "        # For EfficientNet: use channel-based detection for accurate variant identification\n",
    "        efficientnet_keys = ['features.0.0.weight', 'features.1.0.block.0.0.weight']\n",
    "        if any(key in state_dict for key in efficientnet_keys):\n",
    "            variant = detect_efficientnet_variant(model_path)\n",
    "            if variant in ['efficientnet_b2', 'efficientnet_b3']:\n",
    "                return variant\n",
    "            else:\n",
    "                print(f\"Detected EfficientNet but unknown variant: {variant}\")\n",
    "                return 'efficientnet_unknown'\n",
    "        \n",
    "        return 'unknown'\n",
    "    except Exception as e:\n",
    "        print(f\"Error: {e}\")\n",
    "        return 'unknown'"
   ]
  },
  {
   "cell_type": "code",
   "execution_count": 6,
   "id": "4dc74f06",
   "metadata": {},
   "outputs": [],
   "source": [
    "# Helper: flexible state_dict loader\n",
    "def load_state_dict_flexible(model, checkpoint_path, device='cpu'):\n",
    "    \"\"\"Load checkpoint into model by matching keys and shapes where possible.\n",
    "    Returns list of skipped keys and mismatched keys for debugging.\n",
    "    \"\"\"\n",
    "    checkpoint = torch.load(checkpoint_path, map_location=device)\n",
    "    if 'state_dict' in checkpoint:\n",
    "        state_dict = checkpoint['state_dict']\n",
    "    else:\n",
    "        state_dict = checkpoint\n",
    "\n",
    "    model_state = model.state_dict()\n",
    "    loaded_keys = []\n",
    "    skipped_missing = []\n",
    "    skipped_shape = []\n",
    "\n",
    "    for k, v in state_dict.items():\n",
    "        if k in model_state:\n",
    "            if model_state[k].shape == v.shape:\n",
    "                model_state[k] = v\n",
    "                loaded_keys.append(k)\n",
    "            else:\n",
    "                skipped_shape.append((k, v.shape, model_state[k].shape))\n",
    "        else:\n",
    "            skipped_missing.append(k)\n",
    "\n",
    "    # Load updated state dict into model\n",
    "    model.load_state_dict(model_state)\n",
    "\n",
    "    return {\n",
    "        'loaded_keys': loaded_keys,\n",
    "        'skipped_missing': skipped_missing,\n",
    "        'skipped_shape': skipped_shape\n",
    "    }\n",
    "\n",
    "# Helper: detect exact EfficientNet variant from checkpoint\n",
    "def detect_efficientnet_variant(checkpoint_path):\n",
    "    \"\"\"Detect EfficientNet variant (B2, B3, etc.) by inspecting first conv layer channels\"\"\"\n",
    "    try:\n",
    "        checkpoint = torch.load(checkpoint_path, map_location='cpu')\n",
    "        if 'state_dict' in checkpoint:\n",
    "            state_dict = checkpoint['state_dict']\n",
    "        else:\n",
    "            state_dict = checkpoint\n",
    "        \n",
    "        # Look for first conv layer to determine variant\n",
    "        first_conv_key = 'features.0.0.weight'\n",
    "        if first_conv_key in state_dict:\n",
    "            out_channels = state_dict[first_conv_key].shape[0]\n",
    "            \n",
    "            # EfficientNet channel mappings (first conv output channels)\n",
    "            variant_map = {\n",
    "                32: 'efficientnet_b2',  # B2 starts with 32 channels\n",
    "                40: 'efficientnet_b3',  # B3 starts with 40 channels\n",
    "                48: 'efficientnet_b4',  # B4 starts with 48 channels (future support)\n",
    "                # Add more variants as needed\n",
    "            }\n",
    "            \n",
    "            if out_channels in variant_map:\n",
    "                return variant_map[out_channels]\n",
    "            else:\n",
    "                print(f\"Warning: Unknown EfficientNet variant with {out_channels} channels\")\n",
    "                return 'efficientnet_unknown'\n",
    "        \n",
    "        return 'not_efficientnet'\n",
    "    except Exception as e:\n",
    "        print(f\"Error detecting EfficientNet variant: {e}\")\n",
    "        return 'error'"
   ]
  },
  {
   "cell_type": "code",
   "execution_count": 7,
   "id": "7c129d0b",
   "metadata": {},
   "outputs": [
    {
     "name": "stdout",
     "output_type": "stream",
     "text": [
      "Loaded seed 22 - densnet 121 - focal loss.pth DenseNet121\n",
      "Loaded seed 22 - densnet 121 - ZLPR loss.pth DenseNet121\n",
      "Loaded seed 22 - densnet 121 - ZLPR loss.pth DenseNet121\n",
      "Loaded seed 32 - densenet 121 - ZLPR loss.pth DenseNet121\n",
      "Loaded seed 32 - densenet 121 - ZLPR loss.pth DenseNet121\n",
      "Loaded seed 32- densnet121 - focal loss.pth DenseNet121\n",
      "Loaded seed 32- densnet121 - focal loss.pth DenseNet121\n",
      "Loaded seed 42 - densnet 121 - focal loss.pth DenseNet121\n",
      "Loaded seed 42 - densnet 121 - focal loss.pth DenseNet121\n",
      "Loaded seed 42 - densnet 121 - ZLPR loss.pth DenseNet121\n",
      "Loaded seed 42 - densnet 121 - ZLPR loss.pth DenseNet121\n",
      "Loaded seed 42 - densnet121- Attention - focal loss.pth DenseNet+CBAM\n",
      "Loaded seed 42 - densnet121- Attention - focal loss.pth DenseNet+CBAM\n",
      "Loaded seed 42 - efficienet b3 - focal loss.pth EfficientNet-B3\n",
      "Loaded seed 42 - efficienet b3 - focal loss.pth EfficientNet-B3\n",
      "Loaded seed 42 - efficinet b2 - focal loss.pth EfficientNet-B2\n",
      "Total loaded 9\n",
      "Loaded seed 42 - efficinet b2 - focal loss.pth EfficientNet-B2\n",
      "Total loaded 9\n"
     ]
    }
   ],
   "source": [
    "# Load models\n",
    "model_paths = glob.glob(os.path.join(CONFIG['models_dir'],'*.pth'))\n",
    "models=[]; model_names=[]\n",
    "for p in model_paths:\n",
    "    try:\n",
    "        arch = detect_model_architecture(p)\n",
    "        if arch=='densenet': m=create_densenet_model(); n='DenseNet121'\n",
    "        elif arch=='densenet_attention': m=create_densenet_attention_model(); n='DenseNet+CBAM'\n",
    "        elif arch=='efficientnet_b2': m=create_efficientnet_b2_model(); n='EfficientNet-B2'\n",
    "        elif arch=='efficientnet_b3': m=create_efficientnet_b3_model(); n='EfficientNet-B3'\n",
    "        else: print('Skip',os.path.basename(p)); continue\n",
    "        try:\n",
    "            # Try strict load first\n",
    "            m.load_state_dict(torch.load(p,map_location=CONFIG['device']))\n",
    "        except Exception as e:\n",
    "            print('Strict load failed for',os.path.basename(p),\"-> trying flexible loader. Error:\",e)\n",
    "            info = load_state_dict_flexible(m, p, device=CONFIG['device'])\n",
    "            print('Flexible loader report:', f\"loaded {len(info['loaded_keys'])} keys, skipped {len(info['skipped_missing'])} missing, {len(info['skipped_shape'])} shape-mismatches\")\n",
    "            if len(info['loaded_keys'])==0:\n",
    "                print('No compatible keys loaded; skipping', os.path.basename(p))\n",
    "                continue\n",
    "        m.to(CONFIG['device']); m.eval()\n",
    "        models.append(m); model_names.append(os.path.basename(p))\n",
    "        print('Loaded',os.path.basename(p),n)\n",
    "    except Exception as e:\n",
    "        print('Fail',os.path.basename(p),e)\n",
    "print('Total loaded',len(models))"
   ]
  },
  {
   "cell_type": "code",
   "execution_count": 8,
   "id": "cd2f5f9d",
   "metadata": {},
   "outputs": [
    {
     "name": "stdout",
     "output_type": "stream",
     "text": [
      "Get val preds\n"
     ]
    },
    {
     "name": "stderr",
     "output_type": "stream",
     "text": [
      "100%|██████████| 747/747 [04:36<00:00,  2.70it/s]\n",
      "100%|██████████| 747/747 [04:36<00:00,  2.70it/s]\n"
     ]
    },
    {
     "name": "stdout",
     "output_type": "stream",
     "text": [
      "Get test preds\n"
     ]
    },
    {
     "name": "stderr",
     "output_type": "stream",
     "text": [
      "100%|██████████| 288/288 [01:46<00:00,  2.70it/s]"
     ]
    },
    {
     "name": "stdout",
     "output_type": "stream",
     "text": [
      "Shapes (9, 5974, 14) (9, 2299, 14)\n"
     ]
    },
    {
     "name": "stderr",
     "output_type": "stream",
     "text": [
      "\n"
     ]
    }
   ],
   "source": [
    "def get_predictions(models,dataloader,device):\n",
    "    preds=[]; labels=[]\n",
    "    with torch.no_grad():\n",
    "        for x,y in tqdm(dataloader):\n",
    "            x=x.to(device)\n",
    "            b_preds=[]\n",
    "            for m in models:\n",
    "                out=m(x); b_preds.append(torch.sigmoid(out).cpu())\n",
    "            preds.append(torch.stack(b_preds))\n",
    "            labels.append(y)\n",
    "    preds=torch.cat(preds,dim=1)\n",
    "    labels=torch.cat(labels,dim=0)\n",
    "    return preds.numpy(), labels.numpy()\n",
    "print('Get val preds')\n",
    "val_predictions,val_labels=get_predictions(models,valloader,CONFIG['device'])\n",
    "print('Get test preds')\n",
    "test_predictions,test_labels=get_predictions(models,testloader,CONFIG['device'])\n",
    "print('Shapes',val_predictions.shape,test_predictions.shape)"
   ]
  },
  {
   "cell_type": "code",
   "execution_count": 9,
   "id": "7f7e3e5a",
   "metadata": {},
   "outputs": [
    {
     "name": "stdout",
     "output_type": "stream",
     "text": [
      "Val AUC: 0.8800682123264689\n",
      "Test AUC: 0.8558600734612247\n"
     ]
    }
   ],
   "source": [
    "# Simple average ensemble\n",
    "def simple_average(predictions):\n",
    "    # predictions: [num_models, num_samples, num_classes]\n",
    "    return np.mean(predictions, axis=0)\n",
    "\n",
    "ensemble_val = simple_average(val_predictions)\n",
    "ensemble_test = simple_average(test_predictions)\n",
    "\n",
    "def evaluate(labels,preds):\n",
    "    thresholds=[]\n",
    "    for i in range(preds.shape[1]):\n",
    "        p,r,t=precision_recall_curve(labels[:,i],preds[:,i])\n",
    "        f1s=2*(p*r)/(p+r+1e-8)\n",
    "        thresholds.append(t[np.argmax(f1s)] if len(t)>0 else 0.5)\n",
    "    preds_b=np.zeros_like(preds)\n",
    "    for i in range(preds.shape[1]): preds_b[:,i]=(preds[:,i]>thresholds[i]).astype(int)\n",
    "    aucs=[roc_auc_score(labels[:,i],preds[:,i]) for i in range(preds.shape[1])]\n",
    "    f1s=[f1_score(labels[:,i],preds_b[:,i]) for i in range(preds.shape[1])]\n",
    "    return {'avg_auc':np.mean(aucs),'avg_f1':np.mean(f1s),'aucs':aucs,'f1s':f1s}\n",
    "val_res=evaluate(val_labels,ensemble_val)\n",
    "test_res=evaluate(test_labels,ensemble_test)\n",
    "print('Val AUC:',val_res['avg_auc'])\n",
    "print('Test AUC:',test_res['avg_auc'])"
   ]
  },
  {
   "cell_type": "code",
   "execution_count": 10,
   "id": "2ce4f8a5",
   "metadata": {},
   "outputs": [
    {
     "name": "stdout",
     "output_type": "stream",
     "text": [
      "1. Individual Model Performance on Test Set:\n"
     ]
    },
    {
     "data": {
      "application/vnd.microsoft.datawrangler.viewer.v0+json": {
       "columns": [
        {
         "name": "index",
         "rawType": "int64",
         "type": "integer"
        },
        {
         "name": "Model",
         "rawType": "object",
         "type": "string"
        },
        {
         "name": "Test_AUROC",
         "rawType": "float64",
         "type": "float"
        },
        {
         "name": "Test_F1",
         "rawType": "float64",
         "type": "float"
        }
       ],
       "ref": "7d9e47a6-9c6d-4d5c-b47e-aa463b9a3e97",
       "rows": [
        [
         "0",
         "seed 22 - densnet 121 - focal loss.pth",
         "0.8475",
         "0.3852"
        ],
        [
         "1",
         "seed 22 - densnet 121 - ZLPR loss.pth",
         "0.8468",
         "0.3758"
        ],
        [
         "2",
         "seed 32 - densenet 121 - ZLPR loss.pth",
         "0.8479",
         "0.3762"
        ],
        [
         "3",
         "seed 32- densnet121 - focal loss.pth",
         "0.8458",
         "0.3679"
        ],
        [
         "4",
         "seed 42 - densnet 121 - focal loss.pth",
         "0.8514",
         "0.3803"
        ],
        [
         "5",
         "seed 42 - densnet 121 - ZLPR loss.pth",
         "0.8462",
         "0.3621"
        ],
        [
         "6",
         "seed 42 - densnet121- Attention - focal loss.pth",
         "0.848",
         "0.3787"
        ],
        [
         "7",
         "seed 42 - efficienet b3 - focal loss.pth",
         "0.8117",
         "0.3338"
        ],
        [
         "8",
         "seed 42 - efficinet b2 - focal loss.pth",
         "0.8322",
         "0.3528"
        ]
       ],
       "shape": {
        "columns": 3,
        "rows": 9
       }
      },
      "text/html": [
       "<div>\n",
       "<style scoped>\n",
       "    .dataframe tbody tr th:only-of-type {\n",
       "        vertical-align: middle;\n",
       "    }\n",
       "\n",
       "    .dataframe tbody tr th {\n",
       "        vertical-align: top;\n",
       "    }\n",
       "\n",
       "    .dataframe thead th {\n",
       "        text-align: right;\n",
       "    }\n",
       "</style>\n",
       "<table border=\"1\" class=\"dataframe\">\n",
       "  <thead>\n",
       "    <tr style=\"text-align: right;\">\n",
       "      <th></th>\n",
       "      <th>Model</th>\n",
       "      <th>Test_AUROC</th>\n",
       "      <th>Test_F1</th>\n",
       "    </tr>\n",
       "  </thead>\n",
       "  <tbody>\n",
       "    <tr>\n",
       "      <th>0</th>\n",
       "      <td>seed 22 - densnet 121 - focal loss.pth</td>\n",
       "      <td>0.8475</td>\n",
       "      <td>0.3852</td>\n",
       "    </tr>\n",
       "    <tr>\n",
       "      <th>1</th>\n",
       "      <td>seed 22 - densnet 121 - ZLPR loss.pth</td>\n",
       "      <td>0.8468</td>\n",
       "      <td>0.3758</td>\n",
       "    </tr>\n",
       "    <tr>\n",
       "      <th>2</th>\n",
       "      <td>seed 32 - densenet 121 - ZLPR loss.pth</td>\n",
       "      <td>0.8479</td>\n",
       "      <td>0.3762</td>\n",
       "    </tr>\n",
       "    <tr>\n",
       "      <th>3</th>\n",
       "      <td>seed 32- densnet121 - focal loss.pth</td>\n",
       "      <td>0.8458</td>\n",
       "      <td>0.3679</td>\n",
       "    </tr>\n",
       "    <tr>\n",
       "      <th>4</th>\n",
       "      <td>seed 42 - densnet 121 - focal loss.pth</td>\n",
       "      <td>0.8514</td>\n",
       "      <td>0.3803</td>\n",
       "    </tr>\n",
       "    <tr>\n",
       "      <th>5</th>\n",
       "      <td>seed 42 - densnet 121 - ZLPR loss.pth</td>\n",
       "      <td>0.8462</td>\n",
       "      <td>0.3621</td>\n",
       "    </tr>\n",
       "    <tr>\n",
       "      <th>6</th>\n",
       "      <td>seed 42 - densnet121- Attention - focal loss.pth</td>\n",
       "      <td>0.8480</td>\n",
       "      <td>0.3787</td>\n",
       "    </tr>\n",
       "    <tr>\n",
       "      <th>7</th>\n",
       "      <td>seed 42 - efficienet b3 - focal loss.pth</td>\n",
       "      <td>0.8117</td>\n",
       "      <td>0.3338</td>\n",
       "    </tr>\n",
       "    <tr>\n",
       "      <th>8</th>\n",
       "      <td>seed 42 - efficinet b2 - focal loss.pth</td>\n",
       "      <td>0.8322</td>\n",
       "      <td>0.3528</td>\n",
       "    </tr>\n",
       "  </tbody>\n",
       "</table>\n",
       "</div>"
      ],
      "text/plain": [
       "                                              Model  Test_AUROC  Test_F1\n",
       "0            seed 22 - densnet 121 - focal loss.pth      0.8475   0.3852\n",
       "1             seed 22 - densnet 121 - ZLPR loss.pth      0.8468   0.3758\n",
       "2            seed 32 - densenet 121 - ZLPR loss.pth      0.8479   0.3762\n",
       "3              seed 32- densnet121 - focal loss.pth      0.8458   0.3679\n",
       "4            seed 42 - densnet 121 - focal loss.pth      0.8514   0.3803\n",
       "5             seed 42 - densnet 121 - ZLPR loss.pth      0.8462   0.3621\n",
       "6  seed 42 - densnet121- Attention - focal loss.pth      0.8480   0.3787\n",
       "7          seed 42 - efficienet b3 - focal loss.pth      0.8117   0.3338\n",
       "8           seed 42 - efficinet b2 - focal loss.pth      0.8322   0.3528"
      ]
     },
     "metadata": {},
     "output_type": "display_data"
    }
   ],
   "source": [
    "# Test AUROC and F1 for each individual model (not ensemble) - use model_names for readable output\n",
    "individual_test_aurocs = []\n",
    "individual_test_f1s = []\n",
    "individual_thresholds = []\n",
    "for i in range(test_predictions.shape[0]):\n",
    "    preds = test_predictions[i]  # preds shape: [num_samples, num_classes]\n",
    "    aucs = []\n",
    "    f1s = []\n",
    "    thresholds = []\n",
    "    for j in range(preds.shape[1]):\n",
    "        p, r, t = precision_recall_curve(test_labels[:, j], preds[:, j])\n",
    "        f1_scores = 2 * (p * r) / (p + r + 1e-8)\n",
    "        thresh = float(t[np.argmax(f1_scores)]) if len(t) > 0 else 0.5\n",
    "        thresholds.append(thresh)\n",
    "        aucs.append(float(roc_auc_score(test_labels[:, j], preds[:, j])))\n",
    "        preds_b = (preds[:, j] > thresh).astype(int)\n",
    "        f1s.append(float(f1_score(test_labels[:, j], preds_b)))\n",
    "    individual_test_aurocs.append(np.mean(aucs))\n",
    "    individual_test_f1s.append(np.mean(f1s))\n",
    "    individual_thresholds.append(thresholds)\n",
    "# Build DataFrame with actual model names if available\n",
    "model_display_names = model_names if len(model_names)==len(individual_test_aurocs) else [f'Model_{i+1}' for i in range(len(individual_test_aurocs))]\n",
    "\n",
    "individual_results_df = pd.DataFrame({\n",
    "    'Model': model_display_names,\n",
    "    'Test_AUROC': np.round(individual_test_aurocs,4),\n",
    "    'Test_F1': np.round(individual_test_f1s,4)\n",
    "})\n",
    "print('1. Individual Model Performance on Test Set:')\n",
    "display(individual_results_df)"
   ]
  },
  {
   "cell_type": "code",
   "execution_count": 11,
   "id": "2fec93da",
   "metadata": {},
   "outputs": [
    {
     "name": "stdout",
     "output_type": "stream",
     "text": [
      "Saved to avg_ensemble_results\n"
     ]
    }
   ],
   "source": [
    "# Save results\n",
    "out_dir='avg_ensemble_results'\n",
    "os.makedirs(out_dir,exist_ok=True)\n",
    "weights={'method':'simple_average','num_models':len(models)}\n",
    "# Save mean F1 score as well\n",
    "with open(os.path.join(out_dir,'summary.json'),'w') as f:\n",
    "    json.dump({\n",
    "        'weights':weights,\n",
    "        'val_auc':float(val_res['avg_auc']),\n",
    "        'val_f1':float(val_res['avg_f1']),\n",
    "        'test_auc':float(test_res['avg_auc']),\n",
    "        'test_f1':float(test_res['avg_f1'])\n",
    "    },f,indent=2)\n",
    "print('Saved to',out_dir)"
   ]
  },
  {
   "cell_type": "code",
   "execution_count": 12,
   "id": "0d68a03c",
   "metadata": {},
   "outputs": [
    {
     "name": "stdout",
     "output_type": "stream",
     "text": [
      "Per-class performance (validation set, ensemble):\n"
     ]
    },
    {
     "data": {
      "application/vnd.microsoft.datawrangler.viewer.v0+json": {
       "columns": [
        {
         "name": "index",
         "rawType": "int64",
         "type": "integer"
        },
        {
         "name": "Disease",
         "rawType": "object",
         "type": "string"
        },
        {
         "name": "AUROC",
         "rawType": "float64",
         "type": "float"
        },
        {
         "name": "F1_Score",
         "rawType": "float64",
         "type": "float"
        },
        {
         "name": "Threshold",
         "rawType": "float64",
         "type": "float"
        }
       ],
       "ref": "38955672-0c8c-44bf-9e0e-91de657c76ae",
       "rows": [
        [
         "0",
         "Atelectasis",
         "0.868",
         "0.4641",
         "0.3153"
        ],
        [
         "1",
         "Cardiomegaly",
         "0.9219",
         "0.4367",
         "0.2786"
        ],
        [
         "2",
         "Consolidation",
         "0.8336",
         "0.3",
         "0.2115"
        ],
        [
         "3",
         "Edema",
         "0.9113",
         "0.259",
         "0.2556"
        ],
        [
         "4",
         "Effusion",
         "0.8927",
         "0.5373",
         "0.3656"
        ],
        [
         "5",
         "Emphysema",
         "0.948",
         "0.5705",
         "0.2631"
        ],
        [
         "6",
         "Fibrosis",
         "0.8774",
         "0.2478",
         "0.2368"
        ],
        [
         "7",
         "Hernia",
         "0.9934",
         "0.7059",
         "0.2836"
        ],
        [
         "8",
         "Infiltration",
         "0.7369",
         "0.4488",
         "0.3081"
        ],
        [
         "9",
         "Mass",
         "0.9029",
         "0.4744",
         "0.327"
        ],
        [
         "10",
         "Nodule",
         "0.8151",
         "0.4099",
         "0.2939"
        ],
        [
         "11",
         "Pleural_Thickening",
         "0.8737",
         "0.3177",
         "0.2296"
        ],
        [
         "12",
         "Pneumonia",
         "0.8097",
         "0.1037",
         "0.1853"
        ],
        [
         "13",
         "Pneumothorax",
         "0.9363",
         "0.547",
         "0.3422"
        ]
       ],
       "shape": {
        "columns": 4,
        "rows": 14
       }
      },
      "text/html": [
       "<div>\n",
       "<style scoped>\n",
       "    .dataframe tbody tr th:only-of-type {\n",
       "        vertical-align: middle;\n",
       "    }\n",
       "\n",
       "    .dataframe tbody tr th {\n",
       "        vertical-align: top;\n",
       "    }\n",
       "\n",
       "    .dataframe thead th {\n",
       "        text-align: right;\n",
       "    }\n",
       "</style>\n",
       "<table border=\"1\" class=\"dataframe\">\n",
       "  <thead>\n",
       "    <tr style=\"text-align: right;\">\n",
       "      <th></th>\n",
       "      <th>Disease</th>\n",
       "      <th>AUROC</th>\n",
       "      <th>F1_Score</th>\n",
       "      <th>Threshold</th>\n",
       "    </tr>\n",
       "  </thead>\n",
       "  <tbody>\n",
       "    <tr>\n",
       "      <th>0</th>\n",
       "      <td>Atelectasis</td>\n",
       "      <td>0.8680</td>\n",
       "      <td>0.4641</td>\n",
       "      <td>0.3153</td>\n",
       "    </tr>\n",
       "    <tr>\n",
       "      <th>1</th>\n",
       "      <td>Cardiomegaly</td>\n",
       "      <td>0.9219</td>\n",
       "      <td>0.4367</td>\n",
       "      <td>0.2786</td>\n",
       "    </tr>\n",
       "    <tr>\n",
       "      <th>2</th>\n",
       "      <td>Consolidation</td>\n",
       "      <td>0.8336</td>\n",
       "      <td>0.3000</td>\n",
       "      <td>0.2115</td>\n",
       "    </tr>\n",
       "    <tr>\n",
       "      <th>3</th>\n",
       "      <td>Edema</td>\n",
       "      <td>0.9113</td>\n",
       "      <td>0.2590</td>\n",
       "      <td>0.2556</td>\n",
       "    </tr>\n",
       "    <tr>\n",
       "      <th>4</th>\n",
       "      <td>Effusion</td>\n",
       "      <td>0.8927</td>\n",
       "      <td>0.5373</td>\n",
       "      <td>0.3656</td>\n",
       "    </tr>\n",
       "    <tr>\n",
       "      <th>5</th>\n",
       "      <td>Emphysema</td>\n",
       "      <td>0.9480</td>\n",
       "      <td>0.5705</td>\n",
       "      <td>0.2631</td>\n",
       "    </tr>\n",
       "    <tr>\n",
       "      <th>6</th>\n",
       "      <td>Fibrosis</td>\n",
       "      <td>0.8774</td>\n",
       "      <td>0.2478</td>\n",
       "      <td>0.2368</td>\n",
       "    </tr>\n",
       "    <tr>\n",
       "      <th>7</th>\n",
       "      <td>Hernia</td>\n",
       "      <td>0.9934</td>\n",
       "      <td>0.7059</td>\n",
       "      <td>0.2836</td>\n",
       "    </tr>\n",
       "    <tr>\n",
       "      <th>8</th>\n",
       "      <td>Infiltration</td>\n",
       "      <td>0.7369</td>\n",
       "      <td>0.4488</td>\n",
       "      <td>0.3081</td>\n",
       "    </tr>\n",
       "    <tr>\n",
       "      <th>9</th>\n",
       "      <td>Mass</td>\n",
       "      <td>0.9029</td>\n",
       "      <td>0.4744</td>\n",
       "      <td>0.3270</td>\n",
       "    </tr>\n",
       "    <tr>\n",
       "      <th>10</th>\n",
       "      <td>Nodule</td>\n",
       "      <td>0.8151</td>\n",
       "      <td>0.4099</td>\n",
       "      <td>0.2939</td>\n",
       "    </tr>\n",
       "    <tr>\n",
       "      <th>11</th>\n",
       "      <td>Pleural_Thickening</td>\n",
       "      <td>0.8737</td>\n",
       "      <td>0.3177</td>\n",
       "      <td>0.2296</td>\n",
       "    </tr>\n",
       "    <tr>\n",
       "      <th>12</th>\n",
       "      <td>Pneumonia</td>\n",
       "      <td>0.8097</td>\n",
       "      <td>0.1037</td>\n",
       "      <td>0.1853</td>\n",
       "    </tr>\n",
       "    <tr>\n",
       "      <th>13</th>\n",
       "      <td>Pneumothorax</td>\n",
       "      <td>0.9363</td>\n",
       "      <td>0.5470</td>\n",
       "      <td>0.3422</td>\n",
       "    </tr>\n",
       "  </tbody>\n",
       "</table>\n",
       "</div>"
      ],
      "text/plain": [
       "               Disease   AUROC  F1_Score  Threshold\n",
       "0          Atelectasis  0.8680    0.4641     0.3153\n",
       "1         Cardiomegaly  0.9219    0.4367     0.2786\n",
       "2        Consolidation  0.8336    0.3000     0.2115\n",
       "3                Edema  0.9113    0.2590     0.2556\n",
       "4             Effusion  0.8927    0.5373     0.3656\n",
       "5            Emphysema  0.9480    0.5705     0.2631\n",
       "6             Fibrosis  0.8774    0.2478     0.2368\n",
       "7               Hernia  0.9934    0.7059     0.2836\n",
       "8         Infiltration  0.7369    0.4488     0.3081\n",
       "9                 Mass  0.9029    0.4744     0.3270\n",
       "10              Nodule  0.8151    0.4099     0.2939\n",
       "11  Pleural_Thickening  0.8737    0.3177     0.2296\n",
       "12           Pneumonia  0.8097    0.1037     0.1853\n",
       "13        Pneumothorax  0.9363    0.5470     0.3422"
      ]
     },
     "metadata": {},
     "output_type": "display_data"
    },
    {
     "name": "stdout",
     "output_type": "stream",
     "text": [
      "Saved per-class results to avg_ensemble_results\\per_class_results.csv\n"
     ]
    }
   ],
   "source": [
    "# Per-class AUROC, F1, and thresholds after ensembling (formatted table)\n",
    "perclass_auroc = val_res['aucs']\n",
    "perclass_f1 = val_res['f1s']\n",
    "perclass_thresholds = []\n",
    "for i in range(ensemble_val.shape[1]):\n",
    "    p, r, t = precision_recall_curve(val_labels[:, i], ensemble_val[:, i])\n",
    "    f1_scores = 2 * (p * r) / (p + r + 1e-8)\n",
    "    thresh = float(t[np.argmax(f1_scores)]) if len(t) > 0 else 0.5\n",
    "    perclass_thresholds.append(thresh)\n",
    "perclass_df = pd.DataFrame({\n",
    "    'Disease': disease_list,\n",
    "    'AUROC': np.round(perclass_auroc,4),\n",
    "    'F1_Score': np.round(perclass_f1,4),\n",
    "    'Threshold': np.round(perclass_thresholds,4)\n",
    "})\n",
    "print('Per-class performance (validation set, ensemble):')\n",
    "display(perclass_df)\n",
    "# Save per-class CSV for later reference\n",
    "os.makedirs(out_dir, exist_ok=True)\n",
    "perclass_df.to_csv(os.path.join(out_dir,'per_class_results.csv'), index=False)\n",
    "print('Saved per-class results to', os.path.join(out_dir,'per_class_results.csv'))"
   ]
  },
  {
   "cell_type": "code",
   "execution_count": 13,
   "id": "4938c4c0",
   "metadata": {},
   "outputs": [
    {
     "name": "stdout",
     "output_type": "stream",
     "text": [
      "================================================================================\n",
      "ENSEMBLE RESULTS SUMMARY\n",
      "================================================================================\n",
      "\n",
      "1. Individual Model Performance on Test Set:\n"
     ]
    },
    {
     "data": {
      "application/vnd.microsoft.datawrangler.viewer.v0+json": {
       "columns": [
        {
         "name": "index",
         "rawType": "int64",
         "type": "integer"
        },
        {
         "name": "Model",
         "rawType": "object",
         "type": "string"
        },
        {
         "name": "Test_AUROC",
         "rawType": "float64",
         "type": "float"
        },
        {
         "name": "Test_F1",
         "rawType": "float64",
         "type": "float"
        }
       ],
       "ref": "489e6b26-9755-4142-8fd6-34a9856038f4",
       "rows": [
        [
         "0",
         "seed 22 - densnet 121 - focal loss.pth",
         "0.8475",
         "0.3852"
        ],
        [
         "1",
         "seed 22 - densnet 121 - ZLPR loss.pth",
         "0.8468",
         "0.3758"
        ],
        [
         "2",
         "seed 32 - densenet 121 - ZLPR loss.pth",
         "0.8479",
         "0.3762"
        ],
        [
         "3",
         "seed 32- densnet121 - focal loss.pth",
         "0.8458",
         "0.3679"
        ],
        [
         "4",
         "seed 42 - densnet 121 - focal loss.pth",
         "0.8514",
         "0.3803"
        ],
        [
         "5",
         "seed 42 - densnet 121 - ZLPR loss.pth",
         "0.8462",
         "0.3621"
        ],
        [
         "6",
         "seed 42 - densnet121- Attention - focal loss.pth",
         "0.848",
         "0.3787"
        ],
        [
         "7",
         "seed 42 - efficienet b3 - focal loss.pth",
         "0.8117",
         "0.3338"
        ],
        [
         "8",
         "seed 42 - efficinet b2 - focal loss.pth",
         "0.8322",
         "0.3528"
        ]
       ],
       "shape": {
        "columns": 3,
        "rows": 9
       }
      },
      "text/html": [
       "<div>\n",
       "<style scoped>\n",
       "    .dataframe tbody tr th:only-of-type {\n",
       "        vertical-align: middle;\n",
       "    }\n",
       "\n",
       "    .dataframe tbody tr th {\n",
       "        vertical-align: top;\n",
       "    }\n",
       "\n",
       "    .dataframe thead th {\n",
       "        text-align: right;\n",
       "    }\n",
       "</style>\n",
       "<table border=\"1\" class=\"dataframe\">\n",
       "  <thead>\n",
       "    <tr style=\"text-align: right;\">\n",
       "      <th></th>\n",
       "      <th>Model</th>\n",
       "      <th>Test_AUROC</th>\n",
       "      <th>Test_F1</th>\n",
       "    </tr>\n",
       "  </thead>\n",
       "  <tbody>\n",
       "    <tr>\n",
       "      <th>0</th>\n",
       "      <td>seed 22 - densnet 121 - focal loss.pth</td>\n",
       "      <td>0.8475</td>\n",
       "      <td>0.3852</td>\n",
       "    </tr>\n",
       "    <tr>\n",
       "      <th>1</th>\n",
       "      <td>seed 22 - densnet 121 - ZLPR loss.pth</td>\n",
       "      <td>0.8468</td>\n",
       "      <td>0.3758</td>\n",
       "    </tr>\n",
       "    <tr>\n",
       "      <th>2</th>\n",
       "      <td>seed 32 - densenet 121 - ZLPR loss.pth</td>\n",
       "      <td>0.8479</td>\n",
       "      <td>0.3762</td>\n",
       "    </tr>\n",
       "    <tr>\n",
       "      <th>3</th>\n",
       "      <td>seed 32- densnet121 - focal loss.pth</td>\n",
       "      <td>0.8458</td>\n",
       "      <td>0.3679</td>\n",
       "    </tr>\n",
       "    <tr>\n",
       "      <th>4</th>\n",
       "      <td>seed 42 - densnet 121 - focal loss.pth</td>\n",
       "      <td>0.8514</td>\n",
       "      <td>0.3803</td>\n",
       "    </tr>\n",
       "    <tr>\n",
       "      <th>5</th>\n",
       "      <td>seed 42 - densnet 121 - ZLPR loss.pth</td>\n",
       "      <td>0.8462</td>\n",
       "      <td>0.3621</td>\n",
       "    </tr>\n",
       "    <tr>\n",
       "      <th>6</th>\n",
       "      <td>seed 42 - densnet121- Attention - focal loss.pth</td>\n",
       "      <td>0.8480</td>\n",
       "      <td>0.3787</td>\n",
       "    </tr>\n",
       "    <tr>\n",
       "      <th>7</th>\n",
       "      <td>seed 42 - efficienet b3 - focal loss.pth</td>\n",
       "      <td>0.8117</td>\n",
       "      <td>0.3338</td>\n",
       "    </tr>\n",
       "    <tr>\n",
       "      <th>8</th>\n",
       "      <td>seed 42 - efficinet b2 - focal loss.pth</td>\n",
       "      <td>0.8322</td>\n",
       "      <td>0.3528</td>\n",
       "    </tr>\n",
       "  </tbody>\n",
       "</table>\n",
       "</div>"
      ],
      "text/plain": [
       "                                              Model  Test_AUROC  Test_F1\n",
       "0            seed 22 - densnet 121 - focal loss.pth      0.8475   0.3852\n",
       "1             seed 22 - densnet 121 - ZLPR loss.pth      0.8468   0.3758\n",
       "2            seed 32 - densenet 121 - ZLPR loss.pth      0.8479   0.3762\n",
       "3              seed 32- densnet121 - focal loss.pth      0.8458   0.3679\n",
       "4            seed 42 - densnet 121 - focal loss.pth      0.8514   0.3803\n",
       "5             seed 42 - densnet 121 - ZLPR loss.pth      0.8462   0.3621\n",
       "6  seed 42 - densnet121- Attention - focal loss.pth      0.8480   0.3787\n",
       "7          seed 42 - efficienet b3 - focal loss.pth      0.8117   0.3338\n",
       "8           seed 42 - efficinet b2 - focal loss.pth      0.8322   0.3528"
      ]
     },
     "metadata": {},
     "output_type": "display_data"
    },
    {
     "name": "stdout",
     "output_type": "stream",
     "text": [
      "Saved individual model results to avg_ensemble_results\\individual_results.csv\n",
      "\n",
      "2. Ensemble vs Best Individual Model:\n"
     ]
    },
    {
     "data": {
      "application/vnd.microsoft.datawrangler.viewer.v0+json": {
       "columns": [
        {
         "name": "index",
         "rawType": "int64",
         "type": "integer"
        },
        {
         "name": "Metric",
         "rawType": "object",
         "type": "string"
        },
        {
         "name": "Best_Individual",
         "rawType": "float64",
         "type": "float"
        },
        {
         "name": "Simple_Average_Ensemble",
         "rawType": "float64",
         "type": "float"
        },
        {
         "name": "Improvement",
         "rawType": "float64",
         "type": "float"
        },
        {
         "name": "Improvement_Pct",
         "rawType": "float64",
         "type": "float"
        }
       ],
       "ref": "6b74a680-1780-4550-a23e-075d8369d3bd",
       "rows": [
        [
         "0",
         "AUROC",
         "0.8514",
         "0.8559",
         "0.0044999999999999485",
         "0.53"
        ],
        [
         "1",
         "F1_Score",
         "0.3852",
         "0.3857",
         "0.0005000000000000004",
         "0.13"
        ]
       ],
       "shape": {
        "columns": 5,
        "rows": 2
       }
      },
      "text/html": [
       "<div>\n",
       "<style scoped>\n",
       "    .dataframe tbody tr th:only-of-type {\n",
       "        vertical-align: middle;\n",
       "    }\n",
       "\n",
       "    .dataframe tbody tr th {\n",
       "        vertical-align: top;\n",
       "    }\n",
       "\n",
       "    .dataframe thead th {\n",
       "        text-align: right;\n",
       "    }\n",
       "</style>\n",
       "<table border=\"1\" class=\"dataframe\">\n",
       "  <thead>\n",
       "    <tr style=\"text-align: right;\">\n",
       "      <th></th>\n",
       "      <th>Metric</th>\n",
       "      <th>Best_Individual</th>\n",
       "      <th>Simple_Average_Ensemble</th>\n",
       "      <th>Improvement</th>\n",
       "      <th>Improvement_Pct</th>\n",
       "    </tr>\n",
       "  </thead>\n",
       "  <tbody>\n",
       "    <tr>\n",
       "      <th>0</th>\n",
       "      <td>AUROC</td>\n",
       "      <td>0.8514</td>\n",
       "      <td>0.8559</td>\n",
       "      <td>0.0045</td>\n",
       "      <td>0.53</td>\n",
       "    </tr>\n",
       "    <tr>\n",
       "      <th>1</th>\n",
       "      <td>F1_Score</td>\n",
       "      <td>0.3852</td>\n",
       "      <td>0.3857</td>\n",
       "      <td>0.0005</td>\n",
       "      <td>0.13</td>\n",
       "    </tr>\n",
       "  </tbody>\n",
       "</table>\n",
       "</div>"
      ],
      "text/plain": [
       "     Metric  Best_Individual  Simple_Average_Ensemble  Improvement  \\\n",
       "0     AUROC           0.8514                   0.8559       0.0045   \n",
       "1  F1_Score           0.3852                   0.3857       0.0005   \n",
       "\n",
       "   Improvement_Pct  \n",
       "0             0.53  \n",
       "1             0.13  "
      ]
     },
     "metadata": {},
     "output_type": "display_data"
    },
    {
     "name": "stdout",
     "output_type": "stream",
     "text": [
      "Saved ensemble comparison to avg_ensemble_results\\ensemble_vs_individual.csv\n",
      "\n",
      "3. Per-Class Performance (Ensemble):\n"
     ]
    },
    {
     "data": {
      "application/vnd.microsoft.datawrangler.viewer.v0+json": {
       "columns": [
        {
         "name": "index",
         "rawType": "int64",
         "type": "integer"
        },
        {
         "name": "Disease",
         "rawType": "object",
         "type": "string"
        },
        {
         "name": "AUROC",
         "rawType": "float64",
         "type": "float"
        },
        {
         "name": "F1_Score",
         "rawType": "float64",
         "type": "float"
        },
        {
         "name": "Threshold",
         "rawType": "float64",
         "type": "float"
        }
       ],
       "ref": "95516b66-542c-46d8-87ff-ef046d81085f",
       "rows": [
        [
         "0",
         "Atelectasis",
         "0.868",
         "0.4641",
         "0.3153"
        ],
        [
         "1",
         "Cardiomegaly",
         "0.9219",
         "0.4367",
         "0.2786"
        ],
        [
         "2",
         "Consolidation",
         "0.8336",
         "0.3",
         "0.2115"
        ],
        [
         "3",
         "Edema",
         "0.9113",
         "0.259",
         "0.2556"
        ],
        [
         "4",
         "Effusion",
         "0.8927",
         "0.5373",
         "0.3656"
        ],
        [
         "5",
         "Emphysema",
         "0.948",
         "0.5705",
         "0.2631"
        ],
        [
         "6",
         "Fibrosis",
         "0.8774",
         "0.2478",
         "0.2368"
        ],
        [
         "7",
         "Hernia",
         "0.9934",
         "0.7059",
         "0.2836"
        ],
        [
         "8",
         "Infiltration",
         "0.7369",
         "0.4488",
         "0.3081"
        ],
        [
         "9",
         "Mass",
         "0.9029",
         "0.4744",
         "0.327"
        ],
        [
         "10",
         "Nodule",
         "0.8151",
         "0.4099",
         "0.2939"
        ],
        [
         "11",
         "Pleural_Thickening",
         "0.8737",
         "0.3177",
         "0.2296"
        ],
        [
         "12",
         "Pneumonia",
         "0.8097",
         "0.1037",
         "0.1853"
        ],
        [
         "13",
         "Pneumothorax",
         "0.9363",
         "0.547",
         "0.3422"
        ]
       ],
       "shape": {
        "columns": 4,
        "rows": 14
       }
      },
      "text/html": [
       "<div>\n",
       "<style scoped>\n",
       "    .dataframe tbody tr th:only-of-type {\n",
       "        vertical-align: middle;\n",
       "    }\n",
       "\n",
       "    .dataframe tbody tr th {\n",
       "        vertical-align: top;\n",
       "    }\n",
       "\n",
       "    .dataframe thead th {\n",
       "        text-align: right;\n",
       "    }\n",
       "</style>\n",
       "<table border=\"1\" class=\"dataframe\">\n",
       "  <thead>\n",
       "    <tr style=\"text-align: right;\">\n",
       "      <th></th>\n",
       "      <th>Disease</th>\n",
       "      <th>AUROC</th>\n",
       "      <th>F1_Score</th>\n",
       "      <th>Threshold</th>\n",
       "    </tr>\n",
       "  </thead>\n",
       "  <tbody>\n",
       "    <tr>\n",
       "      <th>0</th>\n",
       "      <td>Atelectasis</td>\n",
       "      <td>0.8680</td>\n",
       "      <td>0.4641</td>\n",
       "      <td>0.3153</td>\n",
       "    </tr>\n",
       "    <tr>\n",
       "      <th>1</th>\n",
       "      <td>Cardiomegaly</td>\n",
       "      <td>0.9219</td>\n",
       "      <td>0.4367</td>\n",
       "      <td>0.2786</td>\n",
       "    </tr>\n",
       "    <tr>\n",
       "      <th>2</th>\n",
       "      <td>Consolidation</td>\n",
       "      <td>0.8336</td>\n",
       "      <td>0.3000</td>\n",
       "      <td>0.2115</td>\n",
       "    </tr>\n",
       "    <tr>\n",
       "      <th>3</th>\n",
       "      <td>Edema</td>\n",
       "      <td>0.9113</td>\n",
       "      <td>0.2590</td>\n",
       "      <td>0.2556</td>\n",
       "    </tr>\n",
       "    <tr>\n",
       "      <th>4</th>\n",
       "      <td>Effusion</td>\n",
       "      <td>0.8927</td>\n",
       "      <td>0.5373</td>\n",
       "      <td>0.3656</td>\n",
       "    </tr>\n",
       "    <tr>\n",
       "      <th>5</th>\n",
       "      <td>Emphysema</td>\n",
       "      <td>0.9480</td>\n",
       "      <td>0.5705</td>\n",
       "      <td>0.2631</td>\n",
       "    </tr>\n",
       "    <tr>\n",
       "      <th>6</th>\n",
       "      <td>Fibrosis</td>\n",
       "      <td>0.8774</td>\n",
       "      <td>0.2478</td>\n",
       "      <td>0.2368</td>\n",
       "    </tr>\n",
       "    <tr>\n",
       "      <th>7</th>\n",
       "      <td>Hernia</td>\n",
       "      <td>0.9934</td>\n",
       "      <td>0.7059</td>\n",
       "      <td>0.2836</td>\n",
       "    </tr>\n",
       "    <tr>\n",
       "      <th>8</th>\n",
       "      <td>Infiltration</td>\n",
       "      <td>0.7369</td>\n",
       "      <td>0.4488</td>\n",
       "      <td>0.3081</td>\n",
       "    </tr>\n",
       "    <tr>\n",
       "      <th>9</th>\n",
       "      <td>Mass</td>\n",
       "      <td>0.9029</td>\n",
       "      <td>0.4744</td>\n",
       "      <td>0.3270</td>\n",
       "    </tr>\n",
       "    <tr>\n",
       "      <th>10</th>\n",
       "      <td>Nodule</td>\n",
       "      <td>0.8151</td>\n",
       "      <td>0.4099</td>\n",
       "      <td>0.2939</td>\n",
       "    </tr>\n",
       "    <tr>\n",
       "      <th>11</th>\n",
       "      <td>Pleural_Thickening</td>\n",
       "      <td>0.8737</td>\n",
       "      <td>0.3177</td>\n",
       "      <td>0.2296</td>\n",
       "    </tr>\n",
       "    <tr>\n",
       "      <th>12</th>\n",
       "      <td>Pneumonia</td>\n",
       "      <td>0.8097</td>\n",
       "      <td>0.1037</td>\n",
       "      <td>0.1853</td>\n",
       "    </tr>\n",
       "    <tr>\n",
       "      <th>13</th>\n",
       "      <td>Pneumothorax</td>\n",
       "      <td>0.9363</td>\n",
       "      <td>0.5470</td>\n",
       "      <td>0.3422</td>\n",
       "    </tr>\n",
       "  </tbody>\n",
       "</table>\n",
       "</div>"
      ],
      "text/plain": [
       "               Disease   AUROC  F1_Score  Threshold\n",
       "0          Atelectasis  0.8680    0.4641     0.3153\n",
       "1         Cardiomegaly  0.9219    0.4367     0.2786\n",
       "2        Consolidation  0.8336    0.3000     0.2115\n",
       "3                Edema  0.9113    0.2590     0.2556\n",
       "4             Effusion  0.8927    0.5373     0.3656\n",
       "5            Emphysema  0.9480    0.5705     0.2631\n",
       "6             Fibrosis  0.8774    0.2478     0.2368\n",
       "7               Hernia  0.9934    0.7059     0.2836\n",
       "8         Infiltration  0.7369    0.4488     0.3081\n",
       "9                 Mass  0.9029    0.4744     0.3270\n",
       "10              Nodule  0.8151    0.4099     0.2939\n",
       "11  Pleural_Thickening  0.8737    0.3177     0.2296\n",
       "12           Pneumonia  0.8097    0.1037     0.1853\n",
       "13        Pneumothorax  0.9363    0.5470     0.3422"
      ]
     },
     "metadata": {},
     "output_type": "display_data"
    },
    {
     "name": "stdout",
     "output_type": "stream",
     "text": [
      "Saved per-class results to avg_ensemble_results\\per_class_results.csv\n",
      "\n",
      "4. Per-Class Performance Statistics:\n"
     ]
    },
    {
     "data": {
      "application/vnd.microsoft.datawrangler.viewer.v0+json": {
       "columns": [
        {
         "name": "index",
         "rawType": "int64",
         "type": "integer"
        },
        {
         "name": "Statistic",
         "rawType": "object",
         "type": "string"
        },
        {
         "name": "AUROC",
         "rawType": "float64",
         "type": "float"
        },
        {
         "name": "F1_Score",
         "rawType": "float64",
         "type": "float"
        }
       ],
       "ref": "5c78ae2f-cffa-46e6-910b-554f768ff53d",
       "rows": [
        [
         "0",
         "Mean",
         "0.8801",
         "0.4159"
        ],
        [
         "1",
         "Std",
         "0.0657",
         "0.1571"
        ],
        [
         "2",
         "Min",
         "0.7369",
         "0.1037"
        ],
        [
         "3",
         "Max",
         "0.9934",
         "0.7059"
        ]
       ],
       "shape": {
        "columns": 3,
        "rows": 4
       }
      },
      "text/html": [
       "<div>\n",
       "<style scoped>\n",
       "    .dataframe tbody tr th:only-of-type {\n",
       "        vertical-align: middle;\n",
       "    }\n",
       "\n",
       "    .dataframe tbody tr th {\n",
       "        vertical-align: top;\n",
       "    }\n",
       "\n",
       "    .dataframe thead th {\n",
       "        text-align: right;\n",
       "    }\n",
       "</style>\n",
       "<table border=\"1\" class=\"dataframe\">\n",
       "  <thead>\n",
       "    <tr style=\"text-align: right;\">\n",
       "      <th></th>\n",
       "      <th>Statistic</th>\n",
       "      <th>AUROC</th>\n",
       "      <th>F1_Score</th>\n",
       "    </tr>\n",
       "  </thead>\n",
       "  <tbody>\n",
       "    <tr>\n",
       "      <th>0</th>\n",
       "      <td>Mean</td>\n",
       "      <td>0.8801</td>\n",
       "      <td>0.4159</td>\n",
       "    </tr>\n",
       "    <tr>\n",
       "      <th>1</th>\n",
       "      <td>Std</td>\n",
       "      <td>0.0657</td>\n",
       "      <td>0.1571</td>\n",
       "    </tr>\n",
       "    <tr>\n",
       "      <th>2</th>\n",
       "      <td>Min</td>\n",
       "      <td>0.7369</td>\n",
       "      <td>0.1037</td>\n",
       "    </tr>\n",
       "    <tr>\n",
       "      <th>3</th>\n",
       "      <td>Max</td>\n",
       "      <td>0.9934</td>\n",
       "      <td>0.7059</td>\n",
       "    </tr>\n",
       "  </tbody>\n",
       "</table>\n",
       "</div>"
      ],
      "text/plain": [
       "  Statistic   AUROC  F1_Score\n",
       "0      Mean  0.8801    0.4159\n",
       "1       Std  0.0657    0.1571\n",
       "2       Min  0.7369    0.1037\n",
       "3       Max  0.9934    0.7059"
      ]
     },
     "metadata": {},
     "output_type": "display_data"
    },
    {
     "name": "stdout",
     "output_type": "stream",
     "text": [
      "\n",
      "================================================================================\n"
     ]
    }
   ],
   "source": [
    "# Create comprehensive results tables and save CSVs\n",
    "print('=' * 80)\n",
    "print('ENSEMBLE RESULTS SUMMARY')\n",
    "print('=' * 80)\n",
    "\n",
    "# 1. Individual Model Performance Table (with real model names)\n",
    "individual_results_df = pd.DataFrame({\n",
    "    'Model': model_display_names,\n",
    "    'Test_AUROC': np.round(individual_test_aurocs,4),\n",
    "    'Test_F1': np.round(individual_test_f1s,4)\n",
    "})\n",
    "print('\\n1. Individual Model Performance on Test Set:')\n",
    "display(individual_results_df)\n",
    "# Save CSV\n",
    "os.makedirs(out_dir, exist_ok=True)\n",
    "individual_results_df.to_csv(os.path.join(out_dir,'individual_results.csv'), index=False)\n",
    "print('Saved individual model results to', os.path.join(out_dir,'individual_results.csv'))\n",
    "\n",
    "# 2. Ensemble vs Best Individual Model Comparison\n",
    "best_individual_auroc = float(np.max(individual_test_aurocs))\n",
    "best_individual_f1 = float(np.max(individual_test_f1s))\n",
    "ensemble_comparison_df = pd.DataFrame({\n",
    "    'Metric': ['AUROC', 'F1_Score'],\n",
    "    'Best_Individual': [round(best_individual_auroc,4), round(best_individual_f1,4)],\n",
    "    'Simple_Average_Ensemble': [round(float(test_res['avg_auc']),4), round(float(test_res['avg_f1']),4)],\n",
    "})\n",
    "ensemble_comparison_df['Improvement'] = ensemble_comparison_df['Simple_Average_Ensemble'] - ensemble_comparison_df['Best_Individual']\n",
    "ensemble_comparison_df['Improvement_Pct'] = (ensemble_comparison_df['Improvement'] / ensemble_comparison_df['Best_Individual'] * 100).round(2)\n",
    "print('\\n2. Ensemble vs Best Individual Model:')\n",
    "display(ensemble_comparison_df)\n",
    "ensemble_comparison_df.to_csv(os.path.join(out_dir,'ensemble_vs_individual.csv'), index=False)\n",
    "print('Saved ensemble comparison to', os.path.join(out_dir,'ensemble_vs_individual.csv'))\n",
    "\n",
    "# 3. Per-Class Performance Table (already created)\n",
    "print('\\n3. Per-Class Performance (Ensemble):')\n",
    "display(perclass_df)\n",
    "perclass_df.to_csv(os.path.join(out_dir,'per_class_results.csv'), index=False)\n",
    "print('Saved per-class results to', os.path.join(out_dir,'per_class_results.csv'))\n",
    "\n",
    "# 4. Summary Statistics\n",
    "summary_stats_df = pd.DataFrame({\n",
    "    'Statistic': ['Mean', 'Std', 'Min', 'Max'],\n",
    "    'AUROC': [perclass_df['AUROC'].mean(), perclass_df['AUROC'].std(), perclass_df['AUROC'].min(), perclass_df['AUROC'].max()],\n",
    "    'F1_Score': [perclass_df['F1_Score'].mean(), perclass_df['F1_Score'].std(), perclass_df['F1_Score'].min(), perclass_df['F1_Score'].max()]\n",
    "})\n",
    "summary_stats_df['AUROC'] = summary_stats_df['AUROC'].round(4)\n",
    "summary_stats_df['F1_Score'] = summary_stats_df['F1_Score'].round(4)\n",
    "print('\\n4. Per-Class Performance Statistics:')\n",
    "display(summary_stats_df)\n",
    "\n",
    "print('\\n' + '=' * 80)"
   ]
  }
 ],
 "metadata": {
  "kernelspec": {
   "display_name": "torch_env",
   "language": "python",
   "name": "python3"
  },
  "language_info": {
   "codemirror_mode": {
    "name": "ipython",
    "version": 3
   },
   "file_extension": ".py",
   "mimetype": "text/x-python",
   "name": "python",
   "nbconvert_exporter": "python",
   "pygments_lexer": "ipython3",
   "version": "3.11.13"
  }
 },
 "nbformat": 4,
 "nbformat_minor": 5
}
