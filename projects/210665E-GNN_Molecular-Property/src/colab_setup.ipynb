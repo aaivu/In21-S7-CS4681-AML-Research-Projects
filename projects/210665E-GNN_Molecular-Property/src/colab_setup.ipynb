{
  "cells": [
    {
      "cell_type": "markdown",
      "metadata": {},
      "source": [
        "# DimeNet++ Training on Google Colab with GPU\n",
        "\n",
        "This notebook sets up DimeNet++ training on Google Colab with free GPU access.\n",
        "\n",
        "## Steps:\n",
        "1. Enable GPU: Runtime → Change runtime type → GPU\n",
        "2. Run the cells below\n",
        "3. Training will be ~10-50x faster than CPU\n"
      ]
    },
    {
      "cell_type": "code",
      "execution_count": null,
      "metadata": {},
      "outputs": [],
      "source": [
        "# Check GPU availability\n",
        "import tensorflow as tf\n",
        "print('TensorFlow version:', tf.__version__)\n",
        "print('GPU available:', tf.config.list_physical_devices('GPU'))\n",
        "print('CUDA available:', tf.test.is_built_with_cuda())\n",
        "\n",
        "# Enable memory growth to avoid allocating all GPU memory at once\n",
        "gpus = tf.config.experimental.list_physical_devices('GPU')\n",
        "if gpus:\n",
        "    try:\n",
        "        for gpu in gpus:\n",
        "            tf.config.experimental.set_memory_growth(gpu, True)\n",
        "        print('GPU memory growth enabled')\n",
        "    except RuntimeError as e:\n",
        "        print(e)\n"
      ]
    },
    {
      "cell_type": "code",
      "execution_count": null,
      "metadata": {},
      "outputs": [],
      "source": [
        "# Install required packages\n",
        "!pip install tensorflow-gpu\n",
        "!pip install numpy scipy matplotlib\n"
      ]
    },
    {
      "cell_type": "code",
      "execution_count": null,
      "metadata": {},
      "outputs": [],
      "source": [
        "# Upload your data file\n",
        "from google.colab import files\n",
        "uploaded = files.upload()\n",
        "# Upload qm9_eV.npz file\n"
      ]
    },
    {
      "cell_type": "code",
      "execution_count": null,
      "metadata": {},
      "outputs": [],
      "source": [
        "# Upload your training script\n",
        "uploaded = files.upload()\n",
        "# Upload train_equivariant.py and the dimenet folder\n"
      ]
    },
    {
      "cell_type": "code",
      "execution_count": null,
      "metadata": {},
      "outputs": [],
      "source": [
        "# Run training with GPU acceleration\n",
        "!python train_equivariant.py --quick_test  # For testing\n",
        "# !python train_equivariant.py  # For full training (will take ~2-4 hours on GPU)\n"
      ]
    },
    {
      "cell_type": "code",
      "execution_count": null,
      "metadata": {},
      "outputs": [],
      "source": [
        "# Download results\n",
        "from google.colab import files\n",
        "files.download('outputs/benchmark_results.json')\n",
        "files.download('outputs/error_vs_epoch.png')\n"
      ]
    }
  ],
  "metadata": {
    "language_info": {
      "name": "python"
    }
  },
  "nbformat": 4,
  "nbformat_minor": 2
}
