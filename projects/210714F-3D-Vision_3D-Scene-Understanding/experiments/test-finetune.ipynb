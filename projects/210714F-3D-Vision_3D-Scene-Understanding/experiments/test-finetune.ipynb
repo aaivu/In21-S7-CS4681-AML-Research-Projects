{
 "cells": [
  {
   "cell_type": "code",
   "execution_count": null,
   "id": "b7b88459",
   "metadata": {},
   "outputs": [],
   "source": [
    "# Clone Real-ESRGAN and enter the Real-ESRGAN\n",
    "!git clone https://github.com/xinntao/Real-ESRGAN.git\n",
    "%cd Real-ESRGAN\n",
    "# Set up the environment\n",
    "!pip install basicsr\n",
    "!pip install facexlib\n",
    "!pip install gfpgan\n",
    "!pip install -r requirements.txt\n",
    "!python setup.py develop"
   ]
  },
  {
   "cell_type": "code",
   "execution_count": null,
   "id": "08795c0c",
   "metadata": {},
   "outputs": [],
   "source": [
    "# Fix the import error in basicsr/data/degradations.py\n",
    "!sed -i \"s/from torchvision.transforms.functional_tensor import rgb_to_grayscale/from torchvision.transforms.functional import rgb_to_grayscale/\" /usr/local/lib/python3.12/dist-packages/basicsr/data/degradations.py"
   ]
  },
  {
   "cell_type": "code",
   "execution_count": null,
   "id": "d55b13ab",
   "metadata": {},
   "outputs": [],
   "source": [
    "# Download the pre-trained models\n",
    "!wget https://github.com/xinntao/Real-ESRGAN/releases/download/v0.2.1/RealESRGAN_x2plus.pth -P experiments/pretrained_models"
   ]
  },
  {
   "cell_type": "code",
   "execution_count": null,
   "id": "9f3461ba",
   "metadata": {},
   "outputs": [],
   "source": [
    "import torch\n",
    "from basicsr.archs.rrdbnet_arch import RRDBNet\n",
    "from realesrgan import RealESRGANer\n",
    "\n",
    "# Define model\n",
    "model = RRDBNet(\n",
    "    num_in_ch=3, num_out_ch=3, num_feat=64,\n",
    "    num_block=23, num_grow_ch=32, scale=2\n",
    ")\n",
    "\n",
    "# Load pretrained weights\n",
    "model_path = 'experiments/pretrained_models/RealESRGAN_x2plus.pth'\n",
    "\n",
    "upsampler = RealESRGANer(\n",
    "    scale=2,\n",
    "    model_path=model_path,\n",
    "    model=model,\n",
    "    tile=0,\n",
    "    tile_pad=10,\n",
    "    pre_pad=0,\n",
    "    half=True  # use FP16 if GPU supports\n",
    ")\n"
   ]
  },
  {
   "cell_type": "code",
   "execution_count": null,
   "id": "035e6d16",
   "metadata": {},
   "outputs": [],
   "source": [
    "from torch.utils.data import DataLoader, Dataset\n",
    "from torchvision import transforms\n",
    "from PIL import Image\n",
    "import glob, os\n",
    "\n",
    "# Custom Dataset\n",
    "class IphoneToDslrDataset(Dataset):\n",
    "    def __init__(self, iphone_dir, dslr_dir, transform=None):\n",
    "        self.iphone_imgs = sorted(glob.glob(os.path.join(iphone_dir, \"*.jpg\")))\n",
    "        self.dslr_imgs = sorted(glob.glob(os.path.join(dslr_dir, \"*.jpg\")))\n",
    "        self.transform = transform\n",
    "\n",
    "    def __len__(self):\n",
    "        return min(len(self.iphone_imgs), len(self.dslr_imgs))\n",
    "\n",
    "    def __getitem__(self, idx):\n",
    "        inp = Image.open(self.iphone_imgs[idx]).convert(\"RGB\")\n",
    "        tgt = Image.open(self.dslr_imgs[idx]).convert(\"RGB\")\n",
    "        if self.transform:\n",
    "            inp, tgt = self.transform(inp), self.transform(tgt)\n",
    "        return inp, tgt\n",
    "\n",
    "# Data\n",
    "transform = transforms.Compose([\n",
    "    transforms.Resize((256,256)),\n",
    "    transforms.ToTensor()\n",
    "])\n",
    "train_dataset = IphoneToDslrDataset(\"/content/Real-ESRGAN/datasets/scannet++/iphone\", \"/content/Real-ESRGAN/datasets/scannet++/canon\", transform)\n",
    "train_loader = DataLoader(train_dataset, batch_size=2, shuffle=True)\n",
    "\n",
    "# Optimizer + Loss\n",
    "optimizer = torch.optim.Adam(model.parameters(), lr=1e-4)\n",
    "loss_fn = torch.nn.L1Loss()\n",
    "\n",
    "# Training loop (transfer learning)\n",
    "model.train()\n",
    "device = torch.device(\"cuda\" if torch.cuda.is_available() else \"cpu\")\n",
    "model.to(device)\n",
    "\n",
    "for epoch in range(2):  # keep small for Colab\n",
    "    for i, (inp, tgt) in enumerate(train_loader):\n",
    "        inp, tgt = inp.to(device).half(), tgt.to(device).half() # Cast input and target to half precision\n",
    "        out = model(inp)\n",
    "        loss = loss_fn(out, tgt)\n",
    "\n",
    "        optimizer.zero_grad()\n",
    "        loss.backward()\n",
    "        optimizer.step()\n",
    "\n",
    "        if i % 5 == 0:\n",
    "            print(f\"Epoch {epoch} Batch {i} Loss {loss.item():.4f}\")"
   ]
  }
 ],
 "metadata": {
  "language_info": {
   "name": "python"
  }
 },
 "nbformat": 4,
 "nbformat_minor": 5
}
