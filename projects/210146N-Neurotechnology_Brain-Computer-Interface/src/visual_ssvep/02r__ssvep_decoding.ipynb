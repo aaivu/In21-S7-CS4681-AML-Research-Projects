{
  "cells": [
    {
      "cell_type": "markdown",
      "metadata": {},
      "source": [
        "\n",
        "# SSVEP Decoding\n",
        "\n",
        "This notebook runs only the data analysis part of experiment.\n",
        "\n",
        "Look at the notes to see how this can be run on the web with binder or google collab.\n",
        "\n",
        "All of the additional notes are removed; only the code cells are kept.\n"
      ]
    },
    {
      "cell_type": "markdown",
      "metadata": {},
      "source": [
        "## Setup\n",
        "\n"
      ]
    },
    {
      "cell_type": "code",
      "execution_count": 1,
      "metadata": {
        "collapsed": false
      },
      "outputs": [],
      "source": [
        "# Some standard pythonic imports\n",
        "import warnings\n",
        "warnings.filterwarnings('ignore')\n",
        "import os,numpy as np,pandas as pd\n",
        "from collections import OrderedDict\n",
        "import seaborn as sns\n",
        "from matplotlib import pyplot as plt\n",
        "\n",
        "# MNE functions\n",
        "from mne import Epochs,find_events\n",
        "from mne.decoding import Vectorizer\n",
        "\n",
        "# EEG-Notebooks functions\n",
        "from eegnb.analysis.analysis_utils import load_data\n",
        "from eegnb.datasets import fetch_dataset\n",
        "\n",
        "# Scikit-learn and Pyriemann ML functionalities\n",
        "from sklearn.pipeline import make_pipeline\n",
        "from sklearn.linear_model import LogisticRegression\n",
        "from sklearn.preprocessing import StandardScaler\n",
        "from sklearn.discriminant_analysis import LinearDiscriminantAnalysis as LDA\n",
        "from sklearn.model_selection import cross_val_score, StratifiedShuffleSplit\n",
        "from pyriemann.estimation import Covariances, ERPCovariances, XdawnCovariances\n",
        "from pyriemann.spatialfilters import CSP\n",
        "from pyriemann.tangentspace import TangentSpace\n",
        "from pyriemann.classification import MDM"
      ]
    },
    {
      "cell_type": "markdown",
      "metadata": {},
      "source": [
        "## Load Data\n",
        "\n",
        "( See the ssvep `load_and_visualize` example for further description of this)\n",
        "\n",
        "\n"
      ]
    },
    {
      "cell_type": "code",
      "execution_count": 2,
      "metadata": {
        "collapsed": false
      },
      "outputs": [
        {
          "name": "stdout",
          "output_type": "stream",
          "text": [
            "\n",
            "\n",
            "Loading these files: \n",
            "\n",
            "C:\\Users\\pavit\\.eegnb\\data\\visual-SSVEP\\eegnb_examples\\muse2016\\subject0001\\session001\\data_2017-09-14-21.20.04.csv\n",
            "\n",
            "C:\\Users\\pavit\\.eegnb\\data\\visual-SSVEP\\eegnb_examples\\muse2016\\subject0001\\session001\\data_2017-09-14-21.22.51.csv\n",
            "\n",
            "C:\\Users\\pavit\\.eegnb\\data\\visual-SSVEP\\eegnb_examples\\muse2016\\subject0001\\session001\\data_2017-09-14-21.25.17.csv\n",
            "\n",
            "C:\\Users\\pavit\\.eegnb\\data\\visual-SSVEP\\eegnb_examples\\muse2016\\subject0001\\session001\\data_2017-09-14-21.27.36.csv\n",
            "\n",
            "C:\\Users\\pavit\\.eegnb\\data\\visual-SSVEP\\eegnb_examples\\muse2016\\subject0001\\session001\\data_2017-09-14-21.29.57.csv\n",
            "\n",
            "C:\\Users\\pavit\\.eegnb\\data\\visual-SSVEP\\eegnb_examples\\muse2016\\subject0001\\session001\\data_2017-09-14-21.32.15.csv\n",
            "\n",
            "\n",
            "\n",
            "\n",
            "['TP9', 'AF7', 'AF8', 'TP10', 'Right AUX', 'stim']\n",
            "['TP9', 'AF7', 'AF8', 'TP10', 'POz', 'stim']\n",
            "Creating RawArray with float64 data, n_channels=6, n_times=30732\n",
            "    Range : 0 ... 30731 =      0.000 ...   120.043 secs\n",
            "Ready.\n",
            "['TP9', 'AF7', 'AF8', 'TP10', 'Right AUX', 'stim']\n",
            "['TP9', 'AF7', 'AF8', 'TP10', 'POz', 'stim']\n",
            "Creating RawArray with float64 data, n_channels=6, n_times=30732\n",
            "    Range : 0 ... 30731 =      0.000 ...   120.043 secs\n",
            "Ready.\n",
            "['TP9', 'AF7', 'AF8', 'TP10', 'Right AUX', 'stim']\n",
            "['TP9', 'AF7', 'AF8', 'TP10', 'POz', 'stim']\n",
            "Creating RawArray with float64 data, n_channels=6, n_times=30720\n",
            "    Range : 0 ... 30719 =      0.000 ...   119.996 secs\n",
            "Ready.\n",
            "['TP9', 'AF7', 'AF8', 'TP10', 'Right AUX', 'stim']\n",
            "['TP9', 'AF7', 'AF8', 'TP10', 'POz', 'stim']\n",
            "Creating RawArray with float64 data, n_channels=6, n_times=30720\n",
            "    Range : 0 ... 30719 =      0.000 ...   119.996 secs\n",
            "Ready.\n",
            "['TP9', 'AF7', 'AF8', 'TP10', 'Right AUX', 'stim']\n",
            "['TP9', 'AF7', 'AF8', 'TP10', 'POz', 'stim']\n",
            "Creating RawArray with float64 data, n_channels=6, n_times=30732\n",
            "    Range : 0 ... 30731 =      0.000 ...   120.043 secs\n",
            "Ready.\n",
            "['TP9', 'AF7', 'AF8', 'TP10', 'Right AUX', 'stim']\n",
            "['TP9', 'AF7', 'AF8', 'TP10', 'POz', 'stim']\n",
            "Creating RawArray with float64 data, n_channels=6, n_times=30732\n",
            "    Range : 0 ... 30731 =      0.000 ...   120.043 secs\n",
            "Ready.\n",
            "Marking edge at 30732 samples (maps to 120.047 sec)\n",
            "Marking edge at 61464 samples (maps to 240.094 sec)\n",
            "Marking edge at 92184 samples (maps to 360.094 sec)\n",
            "Marking edge at 122904 samples (maps to 480.094 sec)\n",
            "Marking edge at 153636 samples (maps to 600.141 sec)\n"
          ]
        }
      ],
      "source": [
        "eegnb_data_path = os.path.join(os.path.expanduser('~/'),'.eegnb', 'data')    \n",
        "ssvep_data_path = os.path.join(eegnb_data_path, 'visual-SSVEP', 'eegnb_examples')\n",
        "\n",
        "# If dataset hasn't been downloaded yet, download it \n",
        "if not os.path.isdir(ssvep_data_path):\n",
        "    fetch_dataset(data_dir=eegnb_data_path, experiment='visual-SSVEP', site='eegnb_examples')        \n",
        "\n",
        "subject = 1\n",
        "session = 1\n",
        "raw = load_data(subject, session, \n",
        "                experiment='visual-SSVEP', site='eegnb_examples', device_name='muse2016',\n",
        "                data_dir = eegnb_data_path,\n",
        "                replace_ch_names={'Right AUX': 'POz'})"
      ]
    },
    {
      "cell_type": "markdown",
      "metadata": {},
      "source": [
        "## Epoching\n",
        "\n"
      ]
    },
    {
      "cell_type": "code",
      "execution_count": 3,
      "metadata": {
        "collapsed": false
      },
      "outputs": [
        {
          "name": "stdout",
          "output_type": "stream",
          "text": [
            "Finding events on: stim\n",
            "197 events found on stim channel stim\n",
            "Event IDs: [1 2]\n",
            "sample drop %:  2.538071065989844\n"
          ]
        }
      ],
      "source": [
        "# Next, we will chunk (epoch) the data into segments representing the data 100ms before to 800ms after each stimulus.\n",
        "# Note: we will not reject epochs here because the amplitude of the SSVEP at POz is so large it is difficult to separate from eye blinks\n",
        "\n",
        "events = find_events(raw)\n",
        "event_id = {'30 Hz': 1, '20 Hz': 2}\n",
        "epochs = Epochs(raw, events=events, event_id=event_id, \n",
        "                tmin=-0.5, tmax=4, baseline=None, preload=True,\n",
        "                verbose=False, picks=[0, 1, 2, 3, 4])\n",
        "print('sample drop %: ', (1 - len(epochs.events)/len(events)) * 100)"
      ]
    },
    {
      "cell_type": "markdown",
      "metadata": {},
      "source": [
        "## Decoding\n",
        "\n"
      ]
    },
    {
      "cell_type": "code",
      "execution_count": 4,
      "metadata": {
        "collapsed": false
      },
      "outputs": [
        {
          "name": "stdout",
          "output_type": "stream",
          "text": [
            "Filtering raw data in 6 contiguous segments\n",
            "Setting up band-pass filter from 25 - 35 Hz\n",
            "\n",
            "IIR filter parameters\n",
            "---------------------\n",
            "Butterworth bandpass zero-phase (two-pass forward and reverse) non-causal filter:\n",
            "- Filter order 16 (effective, after forward-backward)\n",
            "- Cutoffs at 25.00, 35.00 Hz: -6.02, -6.02 dB\n",
            "\n",
            "Filtering raw data in 6 contiguous segments\n",
            "Setting up band-pass filter from 15 - 25 Hz\n",
            "\n",
            "IIR filter parameters\n",
            "---------------------\n",
            "Butterworth bandpass zero-phase (two-pass forward and reverse) non-causal filter:\n",
            "- Filter order 16 (effective, after forward-backward)\n",
            "- Cutoffs at 15.00, 25.00 Hz: -6.02, -6.02 dB\n",
            "\n",
            "Finding events on: stim_30Hz, stim_20Hz\n",
            "197 events found on stim channel stim_30Hz\n",
            "Event IDs: [1 2]\n",
            "197 events found on stim channel stim_20Hz\n",
            "Event IDs: [1 2]\n",
            "NOTE: pick_types() is a legacy function. New code should use inst.pick(...).\n"
          ]
        }
      ],
      "source": [
        "# We can use a filter bank approach on the original 4 Muse electrodes (to see how the headband alone without external electrodes could be used to classify SSVEP):\n",
        "\n",
        "#    - Apply bandpass filters around both stimulation frequencies\n",
        "#    - Concatenate bandpass-filtered channels\n",
        "#    - Extract epochs (from 1 to 3 s after stimulus onset, to avoid classifying the ERP)\n",
        "#    - Apply common classification pipelines\n",
        "\n",
        "# Bandpass filter the raw data\n",
        "muse_raw = raw.drop_channels(['POz'])\n",
        "raw_filt_30Hz = muse_raw.copy().filter(25, 35, method='iir')\n",
        "raw_filt_20Hz = muse_raw.copy().filter(15, 25, method='iir')\n",
        "raw_filt_30Hz.rename_channels(lambda x: x + '_30Hz')\n",
        "raw_filt_20Hz.rename_channels(lambda x: x + '_20Hz')\n",
        "\n",
        "# Concatenate with the bandpass filtered channels\n",
        "raw_all = raw_filt_30Hz.add_channels([raw_filt_20Hz], \n",
        "                                            force_update_info=True)\n",
        "\n",
        "# Extract epochs\n",
        "events = find_events(raw_all)\n",
        "event_id = {'30 Hz': 1, '20 Hz': 2}\n",
        "\n",
        "epochs_all = Epochs(raw_all, events=events, event_id=event_id, \n",
        "                    tmin=1, tmax=3, baseline=None, \n",
        "                    reject={'eeg': 100e-6}, preload=True, verbose=False,)\n",
        "\n",
        "epochs_all.pick_types(eeg=True)\n",
        "X = epochs_all.get_data() * 1e6\n",
        "times = epochs.times\n",
        "y = epochs_all.events[:, -1]"
      ]
    },
    {
      "cell_type": "markdown",
      "metadata": {},
      "source": [
        "## Decoding\n",
        "\n"
      ]
    },
    {
      "cell_type": "code",
      "execution_count": 5,
      "metadata": {
        "collapsed": false
      },
      "outputs": [
        {
          "name": "stdout",
          "output_type": "stream",
          "text": [
            "CSP + RegLDA\n",
            "Cov + TS\n",
            "Cov + MDM\n",
            "CSP + Cov + TS\n"
          ]
        },
        {
          "data": {
            "image/png": "[encoded data removed]",
            "text/plain": [
              "<Figure size 800x400 with 1 Axes>"
            ]
          },
          "metadata": {},
          "output_type": "display_data"
        }
      ],
      "source": [
        "# Next, we will use 4 different machine learning pipelines to classify the SSVEP based on the data we collected. The\n",
        "\n",
        "# - CSP + RegLDA : Common Spatial Patterns + Regularized Linear Discriminat Analysis. This is a very common EEG analysis pipeline.\n",
        "# - Cov + TS : Covariance + Tangent space mapping. One of the most reliable Riemannian geometry-based pipelines.\n",
        "# - Cov + MDM: Covariance + MDM. A very simple, yet effective (for low channel count), Riemannian geometry classifier.\n",
        "# - CSP + Cov + TS: Common Spatial Patterns + Covariance + Tangent spacem mapping. Riemannian pipeline with the standard CSP procedure beforehand\n",
        "\n",
        "# Evaluation is done through cross-validation, with area-under-the-curve (AUC) as metric (AUC is probably the best metric for binary and unbalanced classification problem)\n",
        "\n",
        "# Note: because we're doing machine learning here, the following cell may take a while to complete\n",
        "\n",
        "clfs = OrderedDict()\n",
        "clfs['CSP + RegLDA'] = make_pipeline(Covariances(), CSP(4), LDA(shrinkage='auto', solver='eigen'))\n",
        "clfs['Cov + TS'] = make_pipeline(Covariances(), TangentSpace(), LogisticRegression())\n",
        "clfs['Cov + MDM'] = make_pipeline(Covariances(), MDM())\n",
        "clfs['CSP + Cov + TS'] = make_pipeline(Covariances(), CSP(4, log=False), TangentSpace(), LogisticRegression())\n",
        "\n",
        "# define cross validation \n",
        "cv = StratifiedShuffleSplit(n_splits=20, test_size=0.25, \n",
        "                                        random_state=42)\n",
        "\n",
        "# run cross validation for each pipeline\n",
        "auc = []\n",
        "methods = []\n",
        "for m in clfs:\n",
        "    print(m)     \n",
        "    try:    \n",
        "        res = cross_val_score(clfs[m], X, y==2, scoring='roc_auc',cv=cv, n_jobs=-1)\n",
        "        auc.extend(res)\n",
        "        methods.extend([m]*len(res))\n",
        "    except:\n",
        "        pass\n",
        "    \n",
        "results = pd.DataFrame(data=auc, columns=['AUC'])\n",
        "results['Method'] = methods\n",
        "\n",
        "fig = plt.figure(figsize=(8, 4))\n",
        "sns.barplot(data=results, x='AUC', y='Method')\n",
        "plt.xlim(0.4, 1)\n",
        "sns.despine()"
      ]
    },
    {
      "cell_type": "code",
      "execution_count": 6,
      "metadata": {},
      "outputs": [
        {
          "name": "stdout",
          "output_type": "stream",
          "text": [
            "\n",
            "AUC summary:\n",
            "                 mean    std  max_possible\n",
            "Method                                    \n",
            "CSP + Cov + TS  0.949  0.030         0.979\n",
            "CSP + RegLDA    0.941  0.030         0.971\n",
            "Cov + MDM       0.896  0.048         0.944\n",
            "Cov + TS        0.952  0.026         0.978\n"
          ]
        }
      ],
      "source": [
        "# Create DataFrame\n",
        "results_auc = pd.DataFrame({'AUC': auc, 'Method': methods})\n",
        "\n",
        "# Function to print summary with max possible AUC\n",
        "def print_summary_with_max(df, metric_name):\n",
        "    print(f\"\\n{metric_name} summary:\")\n",
        "    summary = df.groupby('Method')[metric_name].agg(['mean','std']).round(3)\n",
        "    # Add max possible column (mean + std, capped at 1)\n",
        "    summary['max_possible'] = (summary['mean'] + summary['std']).clip(upper=1.0)\n",
        "    print(summary)\n",
        "\n",
        "# Print summary\n",
        "print_summary_with_max(results_auc, 'AUC')"
      ]
    }
  ],
  "metadata": {
    "kernelspec": {
      "display_name": "eeg-expy",
      "language": "python",
      "name": "eeg-expy"
    },
    "language_info": {
      "codemirror_mode": {
        "name": "ipython",
        "version": 3
      },
      "file_extension": ".py",
      "mimetype": "text/x-python",
      "name": "python",
      "nbconvert_exporter": "python",
      "pygments_lexer": "ipython3",
      "version": "3.10.11"
    }
  },
  "nbformat": 4,
  "nbformat_minor": 0
}
