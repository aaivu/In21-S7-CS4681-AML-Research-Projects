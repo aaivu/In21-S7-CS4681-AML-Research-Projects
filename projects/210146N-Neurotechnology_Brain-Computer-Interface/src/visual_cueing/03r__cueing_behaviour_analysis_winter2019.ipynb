{
  "cells": [
    {
      "cell_type": "markdown",
      "metadata": {},
      "source": [
        "\n",
        "# Cueing Behavioural Analysis Winter 2019\n"
      ]
    },
    {
      "cell_type": "markdown",
      "metadata": {},
      "source": [
        "## Setup\n",
        "\n",
        "\n"
      ]
    },
    {
      "cell_type": "code",
      "execution_count": 1,
      "metadata": {
        "collapsed": false
      },
      "outputs": [],
      "source": [
        "# Standard Pythonic imports\n",
        "import os,sys,glob,numpy as np,pandas as pd\n",
        "import matplotlib.pyplot as plt \n",
        "import scipy.io as sio \n",
        "\n",
        "# EEG-Notebooks imports\n",
        "from eegnb.datasets import datasets"
      ]
    },
    {
      "cell_type": "markdown",
      "metadata": {},
      "source": [
        "Download the data\n",
        "\n"
      ]
    },
    {
      "cell_type": "code",
      "execution_count": 2,
      "metadata": {
        "collapsed": false
      },
      "outputs": [],
      "source": [
        "eegnb_data_path = os.path.join(os.path.expanduser('~/'),'.eegnb', 'data')\n",
        "cueing_data_path = os.path.join(eegnb_data_path, 'visual-cueing', 'kylemathlab_dev')\n",
        "\n",
        "# If dataset hasn't been downloaded yet, download it\n",
        "if not os.path.isdir(cueing_data_path):\n",
        "      datasets.fetch_dataset(data_dir=eegnb_data_path, experiment='visual-cueing', site='kylemathlab_dev')"
      ]
    },
    {
      "cell_type": "markdown",
      "metadata": {},
      "source": [
        "## Analyze .mat behavioural data for Accuracy and RT\n",
        "\n",
        "Load in subjects\n",
        "\n"
      ]
    },
    {
      "cell_type": "code",
      "execution_count": 3,
      "metadata": {
        "collapsed": false
      },
      "outputs": [],
      "source": [
        "# # Fall 2018\n",
        "subs = [101, 102, 103, 104, 106, 108, 109, 110, 111, 112,\n",
        "        202, 203, 204, 205, 207, 208, 209, 210, 211, \n",
        "        301, 302, 303, 304, 305, 306, 307, 308, 309]\n",
        "\n",
        "# 105 - no trials in one condition\n",
        "\n",
        "# # Winter 2019\n",
        "# subs = [1101, 1102, 1103, 1104, 1105, 1106, 1108, 1109, 1110,\n",
        "#         1202, 1203, 1205, 1206, 1209, 1210, 1211, 1215,\n",
        "#         1301, 1302, 1313, \n",
        "#         1401, 1402, 1403, 1404, 1405,  1408, 1410, 1411, 1412, 1413, 1413, 1414, 1415, 1416]\n",
        "\n",
        "# # 1107 - no csv session 1\n",
        "# # 1201 - no csv session 1\n",
        "# # 1304 - Muse 2\n",
        "# # 1308 - Muse 2\n",
        "# # 1311 - Muse 2\n",
        "# # 1314 - Muse 2\n",
        "# # 1407 - only session1\n",
        "\n",
        "# Both \n",
        "\n",
        "# Fall 2018\n",
        "# subs = [101, 102, 103, 104, 106, 108, 109, 110, 111, 112,\n",
        "#         202, 203, 204, 205, 207, 208, 209, 210, 211, \n",
        "#         301, 302, 303, 304, 305, 306, 307, 308, 309,\n",
        "#         1101, 1102, 1103, 1104, 1105, 1106, 1108, 1109, 1110,\n",
        "#         1202, 1203, 1205, 1206, 1209, 1210, 1211, 1215,\n",
        "#         1301, 1302, 1313, \n",
        "#         1401, 1402, 1403, 1404, 1405,  1408, 1410, 1411, 1412, 1413, 1413, 1414, 1415, 1416]"
      ]
    },
    {
      "cell_type": "markdown",
      "metadata": {},
      "source": [
        "Set some settings\n",
        "\n"
      ]
    },
    {
      "cell_type": "code",
      "execution_count": 4,
      "metadata": {
        "collapsed": false
      },
      "outputs": [],
      "source": [
        "# basic numbers\n",
        "n_subs = len(subs)\n",
        "n_sesh = 2\n",
        "conditions = ['valid','invalid']\n",
        "n_cond = len(conditions)\n",
        "\n",
        "# cutoff trials that are too slow or fast\n",
        "rt_toofast = 250\n",
        "rt_tooslow = 1500\n",
        "\n",
        "#creates arrays to save output\n",
        "count_rt = np.zeros((n_subs, n_sesh, n_cond))\n",
        "median_rt = np.zeros((n_subs, n_sesh, n_cond))\n",
        "prop_accu = np.zeros((n_subs, n_sesh, n_cond))"
      ]
    },
    {
      "cell_type": "markdown",
      "metadata": {},
      "source": [
        "Single Subject example\n",
        "\n"
      ]
    },
    {
      "cell_type": "code",
      "execution_count": 5,
      "metadata": {
        "collapsed": false
      },
      "outputs": [
        {
          "name": "stdout",
          "output_type": "stream",
          "text": [
            "Subject - 101\n",
            "C:\\Users\\pavit/.eegnb\\data\\visual-cueing\\kylemathlab_dev/muse2016/subject0101/session002/subject101_session2_behOutput_2018-11-20-16.58.50.mat\n",
            "[1. 1. 1. 1. 1. 1. 1. 1. 1. 1. 1. 1. 1. 1. 1. 1. 1. 1. 1. 1. 1. 1. 1. 1.\n",
            " 1. 1. 1. 1. 1. 1. 1. 1. 1. 1. 1. 1. 1. 1. 1. 1. 1. 1. 1. 1. 1. 1. 1. 1.\n",
            " 1. 1. 1. 1. 1. 1. 1. 1. 1. 1. 1. 1. 1. 1. 1. 1. 1. 1. 1. 1. 1. 1. 1. 1.\n",
            " 1.] [435.031485 423.867152 335.010084 434.945121 297.102568 402.462939\n",
            " 309.984897 352.377032 315.902263 346.695745 409.051914 337.994502\n",
            " 412.490445 253.304399 325.551731 451.072688 362.531119 449.032591\n",
            " 312.999804 293.670213 327.738388 526.629063 459.253055 355.719449\n",
            " 352.932556 345.884407 454.775045 350.070761 313.989374 374.227764\n",
            " 369.010847 345.467709 334.978303 334.730519 363.791318 451.067033\n",
            " 301.155788 419.084514 271.027066 423.420538 342.584127 337.859108\n",
            " 314.203547 339.341316 467.860489 327.351041 419.173015 340.925891\n",
            " 318.901094 351.947652 437.583955 290.667171 319.596349 331.919014\n",
            " 390.521833 412.642289 305.489389 348.551979 273.162904 347.040148\n",
            " 339.326291 386.592227 317.4145   393.78332  426.145324 350.753921\n",
            " 321.549098 313.940851 379.253401 338.095756 309.040606 403.22982\n",
            " 368.109211] [1. 1. 0. 1. 1. 0. 0. 1. 1. 1. 1. 1. 1. 1. 1. 0. 1. 1. 1. 0. 1. 1. 1. 1.\n",
            " 1. 1. 1. 1. 1. 1. 1. 1. 1. 1. 1. 1. 1. 0. 1. 1. 1. 1. 1. 1. 1. 1. 1. 0.\n",
            " 0. 1. 1. 1. 1. 1. 0. 1. 1. 1. 1. 1. 1. 0. 1. 1. 1. 1. 1. 1. 1. 1. 1. 1.\n",
            " 1.]\n",
            "\n",
            "[435.031485 423.867152 335.010084 434.945121 297.102568 402.462939\n",
            " 309.984897 352.377032 315.902263 346.695745 409.051914 337.994502\n",
            " 412.490445 253.304399 325.551731 451.072688 362.531119 449.032591\n",
            " 312.999804 293.670213 327.738388 526.629063 459.253055 355.719449\n",
            " 352.932556 345.884407 454.775045 350.070761 313.989374 374.227764\n",
            " 369.010847 345.467709 334.978303 334.730519 363.791318 451.067033\n",
            " 301.155788 419.084514 271.027066 423.420538 342.584127 337.859108\n",
            " 314.203547 339.341316 467.860489 327.351041 419.173015 340.925891\n",
            " 318.901094 351.947652 437.583955 290.667171 319.596349 331.919014\n",
            " 390.521833 412.642289 305.489389 348.551979 273.162904 347.040148\n",
            " 339.326291 386.592227 317.4145   393.78332  426.145324 350.753921\n",
            " 321.549098 313.940851 379.253401 338.095756 309.040606 403.22982\n",
            " 368.109211]\n",
            "[335.010084 402.462939 309.984897 451.072688 293.670213 419.084514\n",
            " 340.925891 318.901094 390.521833 386.592227]\n",
            "[335.010084 402.462939 309.984897 451.072688 293.670213 419.084514\n",
            " 340.925891 318.901094 390.521833 386.592227]\n",
            "Valid RT = 347.04014799990546 ms\n",
            "Invalid RT = 363.75905900013095 ms\n"
          ]
        }
      ],
      "source": [
        "#select single subject\n",
        "sub = subs[0]\n",
        "print('Subject - ' + str(sub))\n",
        "\n",
        "#just one session \n",
        "sesh = 1\n",
        "\n",
        "#load file\n",
        "#path =  './subject' + str(sub) + '/session' + str(sesh) + '/'\n",
        "path =  cueing_data_path + '/muse2016/subject' + str('%04.f' %sub) + '/session' + str('%03.f' %(sesh+1)) + '/'\n",
        "file =  [x for x in os.listdir(path) if x.endswith('.mat')][0]\n",
        "output_dict = sio.loadmat(path + file)\n",
        "print(path + file)\n",
        "\n",
        "#pull out important info\n",
        "output = output_dict['output']\n",
        "accuracy = output[:,6]\n",
        "rt = output[:,7]\n",
        "validity = output[:,3]\n",
        "print(accuracy,rt,validity)\n",
        "\n",
        "# median rt on each condition\t\n",
        "print('')\n",
        "print(rt)\n",
        "print(rt[validity == 0])\n",
        "print(rt[(validity == 0) & (rt <= rt_tooslow)])\n",
        "\n",
        "validRT  \t=  np.nanmedian(rt[ (validity == 1) &\n",
        "                              (rt >= rt_toofast) &\n",
        "                              (rt <= rt_tooslow)])\n",
        "\n",
        "print('Valid RT = ' + str(validRT) + ' ms')\n",
        "\n",
        "InvalidRT =  np.nanmedian(rt[ (validity == 0) &\n",
        "                              (rt >= rt_toofast) &\n",
        "                              (rt <= rt_tooslow)]) \n",
        "\n",
        "print('Invalid RT = ' + str(InvalidRT) + ' ms')"
      ]
    },
    {
      "cell_type": "markdown",
      "metadata": {},
      "source": [
        "Loop through subjects\n",
        "\n"
      ]
    },
    {
      "cell_type": "code",
      "execution_count": 6,
      "metadata": {
        "collapsed": false
      },
      "outputs": [
        {
          "name": "stdout",
          "output_type": "stream",
          "text": [
            "Subject - 101\n",
            "Subject - 102\n",
            "Subject - 103\n",
            "Subject - 104\n",
            "Subject - 106\n",
            "Subject - 108\n",
            "Subject - 109\n",
            "Subject - 110\n",
            "Subject - 111\n",
            "Subject - 112\n",
            "Subject - 202\n",
            "Subject - 203\n",
            "Subject - 204\n",
            "Subject - 205\n",
            "Subject - 207\n",
            "Subject - 208\n",
            "Subject - 209\n",
            "Subject - 210\n",
            "Subject - 211\n",
            "Subject - 301\n",
            "Subject - 302\n",
            "Subject - 303\n",
            "Subject - 304\n",
            "Subject - 305\n",
            "Subject - 306\n",
            "Subject - 307\n",
            "Subject - 308\n",
            "Subject - 309\n"
          ]
        }
      ],
      "source": [
        "for isub, sub in enumerate(subs):\n",
        "    print('Subject - ' + str(sub))\n",
        "    for sesh in range(n_sesh):\n",
        "        # get the path and file name and load data\n",
        "        #path =  './subject' + str(sub) + '/session' + str(sesh+1) + '/'\n",
        "        path =  cueing_data_path + '/muse2016/subject' + str('%04.f' %sub) + '/session' + str('%03.f' %(sesh+1)) + '/'\n",
        "       \n",
        "        file =  [x for x in os.listdir(path) if x.endswith('.mat')][0]\n",
        "        output_dict = sio.loadmat(path + file)\n",
        "\n",
        "        # pull out important stuff\n",
        "        output = output_dict['output']\n",
        "        accuracy = output[:,6]\n",
        "        rt = output[:,7]\n",
        "        validity = output[:,3]\n",
        "  \n",
        "        # median rt on each condition\t\n",
        "        median_rt[isub,sesh,:] \t= [  np.nanmedian(rt[ (validity == 1) & (rt >= rt_toofast) & (rt <= rt_tooslow)]),\n",
        "                                     np.nanmedian(rt[ (validity == 0) & (rt >= rt_toofast) & (rt <= rt_tooslow)]) ]\n",
        "    \n",
        "        # proportion accurate (number accurate / count)\n",
        "        prop_accu[isub,sesh,:]  = [ np.sum(accuracy[(validity == 1) & (rt >= rt_toofast) & (rt <= rt_tooslow)]) / \n",
        "                                   np.sum((validity == 1) & (rt >= rt_toofast) & (rt <= rt_tooslow)),\n",
        "                                   np.sum(accuracy[(validity == 0) & (rt >= rt_toofast) & (rt <= rt_tooslow)]) /\n",
        "                                   np.sum((validity == 0) & (rt >= rt_toofast) & (rt <= rt_tooslow)) ]"
      ]
    },
    {
      "cell_type": "markdown",
      "metadata": {},
      "source": [
        "Average over sessions and print data\n",
        "\n"
      ]
    },
    {
      "cell_type": "code",
      "execution_count": 7,
      "metadata": {
        "collapsed": false
      },
      "outputs": [
        {
          "name": "stdout",
          "output_type": "stream",
          "text": [
            "Median RT\n",
            "[[361.7079635  364.45366275]\n",
            " [547.10713075 611.45526175]\n",
            " [600.073256   587.019756  ]\n",
            " [535.04144725 533.250092  ]\n",
            " [419.24263125 439.1580675 ]\n",
            " [456.3330375  631.1320265 ]\n",
            " [446.95026625 556.038382  ]\n",
            " [484.0763345  478.4887    ]\n",
            " [443.5412585  472.331497  ]\n",
            " [436.66653125 501.3115865 ]\n",
            " [495.63977675 587.358365  ]\n",
            " [520.97468575 973.144689  ]\n",
            " [395.5098235  370.232933  ]\n",
            " [489.59985525 560.08098575]\n",
            " [455.6651645  500.22833625]\n",
            " [662.9326765  643.0934405 ]\n",
            " [488.56224425 474.7125945 ]\n",
            " [482.1316255  543.0173155 ]\n",
            " [713.4103845  894.0804795 ]\n",
            " [485.48053725 533.6649235 ]\n",
            " [519.5475525  505.339771  ]\n",
            " [488.45884825 500.39610975]\n",
            " [527.5814465  533.4898155 ]\n",
            " [477.23867575 446.72875575]\n",
            " [484.94210575 578.6717025 ]\n",
            " [681.7458885  804.780758  ]\n",
            " [419.736862   485.569911  ]\n",
            " [435.42846425 437.12191   ]]\n",
            "Proportion Accurate\n",
            "[[0.98305085 0.96428571]\n",
            " [1.         1.        ]\n",
            " [0.91680961 0.88974359]\n",
            " [0.97767857 0.96428571]\n",
            " [0.9822995  1.        ]\n",
            " [0.95403439 0.6       ]\n",
            " [0.92346939 0.97727273]\n",
            " [0.99019608 0.97058824]\n",
            " [0.97395994 1.        ]\n",
            " [0.68275862 0.83333333]\n",
            " [0.89914021 0.89732143]\n",
            " [0.92080745 0.73333333]\n",
            " [0.94716042 0.91666667]\n",
            " [0.95755518 1.        ]\n",
            " [0.95959184 0.94949495]\n",
            " [0.88296296 0.94117647]\n",
            " [0.90046296 0.92857143]\n",
            " [0.96551724 0.875     ]\n",
            " [0.91171329 0.92857143]\n",
            " [0.98333333 0.9       ]\n",
            " [0.95535714 0.96153846]\n",
            " [0.94187987 0.95833333]\n",
            " [0.96479592 0.94736842]\n",
            " [1.         0.90833333]\n",
            " [0.94186047 0.8       ]\n",
            " [1.         1.        ]\n",
            " [0.97222222 0.97222222]\n",
            " [0.95718391 1.        ]]\n"
          ]
        }
      ],
      "source": [
        "# Summary stats and collapse sessions\n",
        "Out_median_RT = np.squeeze(np.nanmean(median_rt,axis=1))\n",
        "Out_prop_accu = np.squeeze(np.nanmean(prop_accu,axis=1))\n",
        "\n",
        "print('Median RT')\n",
        "print(Out_median_RT)\n",
        "print('Proportion Accurate')\n",
        "print(Out_prop_accu)"
      ]
    },
    {
      "cell_type": "markdown",
      "metadata": {},
      "source": [
        "Plot barplot of results\n",
        "\n"
      ]
    },
    {
      "cell_type": "code",
      "execution_count": 8,
      "metadata": {
        "collapsed": false
      },
      "outputs": [
        {
          "data": {
            "image/png": "[encoded data removed]",
            "text/plain": [
              "<Figure size 640x480 with 2 Axes>"
            ]
          },
          "metadata": {},
          "output_type": "display_data"
        }
      ],
      "source": [
        "# bar plot results\n",
        "plt.figure()\n",
        "# Accuracy\n",
        "ax = plt.subplot(211)\n",
        "plt.bar([0,1], np.nanmean(Out_prop_accu,axis=0), 0.6, yerr = np.nanstd(Out_prop_accu,axis=0)/np.sqrt(n_subs))\n",
        "plt.ylim(.9,.96)\n",
        "plt.title('Accuracy')\n",
        "plt.ylabel('Proportion Correct')\n",
        "ax.set_xticks([0,1])\n",
        "ax.set_xticklabels(conditions)\n",
        "# RT\n",
        "ax = plt.subplot(212)\n",
        "plt.bar([0,1], np.nanmean(Out_median_RT,axis=0), 0.6, yerr = np.nanstd(Out_median_RT,axis=0)/np.sqrt(n_subs))\n",
        "plt.ylim(450,600)\n",
        "plt.title('Reaction Time')\n",
        "plt.ylabel('RT (ms)')\n",
        "plt.xlabel('Condition')\n",
        "ax.set_xticks([0,1])\n",
        "ax.set_xticklabels(conditions)\n",
        "plt.show()"
      ]
    },
    {
      "cell_type": "markdown",
      "metadata": {},
      "source": [
        "Output spreadsheet\n",
        "\n"
      ]
    },
    {
      "cell_type": "code",
      "execution_count": 9,
      "metadata": {
        "collapsed": false
      },
      "outputs": [
        {
          "name": "stdout",
          "output_type": "stream",
          "text": [
            "    Participant  AccValid  AccInvalid     RTValid   RTInvalid\n",
            "0           101  0.983051    0.964286  361.707963  364.453663\n",
            "1           102  1.000000    1.000000  547.107131  611.455262\n",
            "2           103  0.916810    0.889744  600.073256  587.019756\n",
            "3           104  0.977679    0.964286  535.041447  533.250092\n",
            "4           106  0.982299    1.000000  419.242631  439.158067\n",
            "5           108  0.954034    0.600000  456.333038  631.132027\n",
            "6           109  0.923469    0.977273  446.950266  556.038382\n",
            "7           110  0.990196    0.970588  484.076334  478.488700\n",
            "8           111  0.973960    1.000000  443.541259  472.331497\n",
            "9           112  0.682759    0.833333  436.666531  501.311586\n",
            "10          202  0.899140    0.897321  495.639777  587.358365\n",
            "11          203  0.920807    0.733333  520.974686  973.144689\n",
            "12          204  0.947160    0.916667  395.509823  370.232933\n",
            "13          205  0.957555    1.000000  489.599855  560.080986\n",
            "14          207  0.959592    0.949495  455.665165  500.228336\n",
            "15          208  0.882963    0.941176  662.932677  643.093440\n",
            "16          209  0.900463    0.928571  488.562244  474.712594\n",
            "17          210  0.965517    0.875000  482.131626  543.017316\n",
            "18          211  0.911713    0.928571  713.410385  894.080479\n",
            "19          301  0.983333    0.900000  485.480537  533.664923\n",
            "20          302  0.955357    0.961538  519.547552  505.339771\n",
            "21          303  0.941880    0.958333  488.458848  500.396110\n",
            "22          304  0.964796    0.947368  527.581447  533.489816\n",
            "23          305  1.000000    0.908333  477.238676  446.728756\n",
            "24          306  0.941860    0.800000  484.942106  578.671703\n",
            "25          307  1.000000    1.000000  681.745889  804.780758\n",
            "26          308  0.972222    0.972222  419.736862  485.569911\n",
            "27          309  0.957184    1.000000  435.428464  437.121910\n"
          ]
        }
      ],
      "source": [
        "## CSV output\n",
        "column_dict = {'Participant':subs,\n",
        "               'AccValid':Out_prop_accu[:,0],\n",
        "               'AccInvalid':Out_prop_accu[:,1],\n",
        "               'RTValid':Out_median_RT[:,0],\n",
        "               'RTInvalid':Out_median_RT[:,1] }\n",
        "df = pd.DataFrame(column_dict)\n",
        "print(df)\n",
        "df.to_csv('375CueingBehPy.csv',index=False)"
      ]
    }
  ],
  "metadata": {
    "kernelspec": {
      "display_name": "eeg-expy",
      "language": "python",
      "name": "eeg-expy"
    },
    "language_info": {
      "codemirror_mode": {
        "name": "ipython",
        "version": 3
      },
      "file_extension": ".py",
      "mimetype": "text/x-python",
      "name": "python",
      "nbconvert_exporter": "python",
      "pygments_lexer": "ipython3",
      "version": "3.10.11"
    }
  },
  "nbformat": 4,
  "nbformat_minor": 0
}
