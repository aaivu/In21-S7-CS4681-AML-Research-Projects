{
 "cells": [
  {
   "cell_type": "code",
   "execution_count": 1,
   "id": "c8e2c7ac",
   "metadata": {
    "execution": {
     "iopub.execute_input": "2025-09-01T18:39:06.219362Z",
     "iopub.status.busy": "2025-09-01T18:39:06.218945Z",
     "iopub.status.idle": "2025-09-01T18:39:09.882756Z",
     "shell.execute_reply": "2025-09-01T18:39:09.881946Z"
    },
    "papermill": {
     "duration": 3.670929,
     "end_time": "2025-09-01T18:39:09.884592",
     "exception": false,
     "start_time": "2025-09-01T18:39:06.213663",
     "status": "completed"
    },
    "tags": []
   },
   "outputs": [],
   "source": [
    "import argparse\n",
    "import os\n",
    "import random\n",
    "import joblib\n",
    "from typing import Tuple, Dict, Any\n",
    "import numpy as np\n",
    "import pandas as pd\n",
    "from sklearn.model_selection import train_test_split, StratifiedKFold\n",
    "from sklearn.preprocessing import StandardScaler, OneHotEncoder, FunctionTransformer\n",
    "from sklearn.compose import ColumnTransformer\n",
    "from sklearn.pipeline import Pipeline\n",
    "from sklearn.metrics import roc_auc_score, f1_score, accuracy_score\n",
    "from sklearn.linear_model import LogisticRegression"
   ]
  },
  {
   "cell_type": "code",
   "execution_count": 2,
   "id": "bb12fcdd",
   "metadata": {
    "execution": {
     "iopub.execute_input": "2025-09-01T18:39:09.893384Z",
     "iopub.status.busy": "2025-09-01T18:39:09.892410Z",
     "iopub.status.idle": "2025-09-01T18:39:46.658541Z",
     "shell.execute_reply": "2025-09-01T18:39:46.657369Z"
    },
    "papermill": {
     "duration": 36.771868,
     "end_time": "2025-09-01T18:39:46.660191",
     "exception": false,
     "start_time": "2025-09-01T18:39:09.888323",
     "status": "completed"
    },
    "tags": []
   },
   "outputs": [
    {
     "name": "stdout",
     "output_type": "stream",
     "text": [
      "Collecting interpret\r\n",
      "  Downloading interpret-0.7.2-py3-none-any.whl.metadata (1.2 kB)\r\n",
      "Collecting interpret-core==0.7.2 (from interpret-core[aplr,dash,debug,linear,notebook,plotly,sensitivity,shap]==0.7.2->interpret)\r\n",
      "  Downloading interpret_core-0.7.2-py3-none-any.whl.metadata (3.0 kB)\r\n",
      "Requirement already satisfied: numpy>=1.25 in /usr/local/lib/python3.11/dist-packages (from interpret-core==0.7.2->interpret-core[aplr,dash,debug,linear,notebook,plotly,sensitivity,shap]==0.7.2->interpret) (1.26.4)\r\n",
      "Requirement already satisfied: pandas>=0.19.2 in /usr/local/lib/python3.11/dist-packages (from interpret-core==0.7.2->interpret-core[aplr,dash,debug,linear,notebook,plotly,sensitivity,shap]==0.7.2->interpret) (2.2.3)\r\n",
      "Requirement already satisfied: scikit-learn>=0.18.1 in /usr/local/lib/python3.11/dist-packages (from interpret-core==0.7.2->interpret-core[aplr,dash,debug,linear,notebook,plotly,sensitivity,shap]==0.7.2->interpret) (1.2.2)\r\n",
      "Requirement already satisfied: joblib>=0.11 in /usr/local/lib/python3.11/dist-packages (from interpret-core==0.7.2->interpret-core[aplr,dash,debug,linear,notebook,plotly,sensitivity,shap]==0.7.2->interpret) (1.5.1)\r\n",
      "Requirement already satisfied: psutil>=5.6.2 in /usr/local/lib/python3.11/dist-packages (from interpret-core[aplr,dash,debug,linear,notebook,plotly,sensitivity,shap]==0.7.2->interpret) (7.0.0)\r\n",
      "Requirement already satisfied: ipykernel>=4.10.0 in /usr/local/lib/python3.11/dist-packages (from interpret-core[aplr,dash,debug,linear,notebook,plotly,sensitivity,shap]==0.7.2->interpret) (6.17.1)\r\n",
      "Requirement already satisfied: ipython>=5.5.0 in /usr/local/lib/python3.11/dist-packages (from interpret-core[aplr,dash,debug,linear,notebook,plotly,sensitivity,shap]==0.7.2->interpret) (7.34.0)\r\n",
      "Requirement already satisfied: plotly>=3.8.1 in /usr/local/lib/python3.11/dist-packages (from interpret-core[aplr,dash,debug,linear,notebook,plotly,sensitivity,shap]==0.7.2->interpret) (5.24.1)\r\n",
      "Collecting SALib>=1.3.3 (from interpret-core[aplr,dash,debug,linear,notebook,plotly,sensitivity,shap]==0.7.2->interpret)\r\n",
      "  Downloading salib-1.5.1-py3-none-any.whl.metadata (11 kB)\r\n",
      "Requirement already satisfied: shap>=0.28.5 in /usr/local/lib/python3.11/dist-packages (from interpret-core[aplr,dash,debug,linear,notebook,plotly,sensitivity,shap]==0.7.2->interpret) (0.44.1)\r\n",
      "Requirement already satisfied: dill>=0.2.5 in /usr/local/lib/python3.11/dist-packages (from interpret-core[aplr,dash,debug,linear,notebook,plotly,sensitivity,shap]==0.7.2->interpret) (0.3.8)\r\n",
      "Collecting aplr>=10.6.1 (from interpret-core[aplr,dash,debug,linear,notebook,plotly,sensitivity,shap]==0.7.2->interpret)\r\n",
      "  Downloading aplr-10.9.0-cp311-cp311-manylinux_2_17_x86_64.manylinux2014_x86_64.whl.metadata (2.4 kB)\r\n",
      "Collecting dash<3.0.0,>=2.0.0 (from interpret-core[aplr,dash,debug,linear,notebook,plotly,sensitivity,shap]==0.7.2->interpret)\r\n",
      "  Downloading dash-2.18.2-py3-none-any.whl.metadata (10 kB)\r\n",
      "Collecting dash-cytoscape>=0.1.1 (from interpret-core[aplr,dash,debug,linear,notebook,plotly,sensitivity,shap]==0.7.2->interpret)\r\n",
      "  Downloading dash_cytoscape-1.0.2.tar.gz (4.0 MB)\r\n",
      "\u001b[2K     \u001b[90m━━━━━━━━━━━━━━━━━━━━━━━━━━━━━━━━━━━━━━━━\u001b[0m \u001b[32m4.0/4.0 MB\u001b[0m \u001b[31m10.7 MB/s\u001b[0m eta \u001b[36m0:00:00\u001b[0m\r\n",
      "\u001b[?25h  Preparing metadata (setup.py) ... \u001b[?25l\u001b[?25hdone\r\n",
      "Collecting gevent>=1.3.6 (from interpret-core[aplr,dash,debug,linear,notebook,plotly,sensitivity,shap]==0.7.2->interpret)\r\n",
      "  Downloading gevent-25.8.2-cp311-cp311-manylinux2014_x86_64.manylinux_2_17_x86_64.whl.metadata (14 kB)\r\n",
      "Requirement already satisfied: requests>=2.19.0 in /usr/local/lib/python3.11/dist-packages (from interpret-core[aplr,dash,debug,linear,notebook,plotly,sensitivity,shap]==0.7.2->interpret) (2.32.4)\r\n",
      "Collecting Flask<3.1,>=1.0.4 (from dash<3.0.0,>=2.0.0->interpret-core[aplr,dash,debug,linear,notebook,plotly,sensitivity,shap]==0.7.2->interpret)\r\n",
      "  Downloading flask-3.0.3-py3-none-any.whl.metadata (3.2 kB)\r\n",
      "Collecting Werkzeug<3.1 (from dash<3.0.0,>=2.0.0->interpret-core[aplr,dash,debug,linear,notebook,plotly,sensitivity,shap]==0.7.2->interpret)\r\n",
      "  Downloading werkzeug-3.0.6-py3-none-any.whl.metadata (3.7 kB)\r\n",
      "Collecting dash-html-components==2.0.0 (from dash<3.0.0,>=2.0.0->interpret-core[aplr,dash,debug,linear,notebook,plotly,sensitivity,shap]==0.7.2->interpret)\r\n",
      "  Downloading dash_html_components-2.0.0-py3-none-any.whl.metadata (3.8 kB)\r\n",
      "Collecting dash-core-components==2.0.0 (from dash<3.0.0,>=2.0.0->interpret-core[aplr,dash,debug,linear,notebook,plotly,sensitivity,shap]==0.7.2->interpret)\r\n",
      "  Downloading dash_core_components-2.0.0-py3-none-any.whl.metadata (2.9 kB)\r\n",
      "Collecting dash-table==5.0.0 (from dash<3.0.0,>=2.0.0->interpret-core[aplr,dash,debug,linear,notebook,plotly,sensitivity,shap]==0.7.2->interpret)\r\n",
      "  Downloading dash_table-5.0.0-py3-none-any.whl.metadata (2.4 kB)\r\n",
      "Requirement already satisfied: importlib-metadata in /usr/local/lib/python3.11/dist-packages (from dash<3.0.0,>=2.0.0->interpret-core[aplr,dash,debug,linear,notebook,plotly,sensitivity,shap]==0.7.2->interpret) (8.7.0)\r\n",
      "Requirement already satisfied: typing-extensions>=4.1.1 in /usr/local/lib/python3.11/dist-packages (from dash<3.0.0,>=2.0.0->interpret-core[aplr,dash,debug,linear,notebook,plotly,sensitivity,shap]==0.7.2->interpret) (4.14.0)\r\n",
      "Collecting retrying (from dash<3.0.0,>=2.0.0->interpret-core[aplr,dash,debug,linear,notebook,plotly,sensitivity,shap]==0.7.2->interpret)\r\n",
      "  Downloading retrying-1.4.2-py3-none-any.whl.metadata (5.5 kB)\r\n",
      "Requirement already satisfied: nest-asyncio in /usr/local/lib/python3.11/dist-packages (from dash<3.0.0,>=2.0.0->interpret-core[aplr,dash,debug,linear,notebook,plotly,sensitivity,shap]==0.7.2->interpret) (1.6.0)\r\n",
      "Requirement already satisfied: setuptools in /usr/local/lib/python3.11/dist-packages (from dash<3.0.0,>=2.0.0->interpret-core[aplr,dash,debug,linear,notebook,plotly,sensitivity,shap]==0.7.2->interpret) (75.2.0)\r\n",
      "Requirement already satisfied: greenlet>=3.2.2 in /usr/local/lib/python3.11/dist-packages (from gevent>=1.3.6->interpret-core[aplr,dash,debug,linear,notebook,plotly,sensitivity,shap]==0.7.2->interpret) (3.2.3)\r\n",
      "Collecting zope.event (from gevent>=1.3.6->interpret-core[aplr,dash,debug,linear,notebook,plotly,sensitivity,shap]==0.7.2->interpret)\r\n",
      "  Downloading zope_event-5.1.1-py3-none-any.whl.metadata (5.0 kB)\r\n",
      "Collecting zope.interface (from gevent>=1.3.6->interpret-core[aplr,dash,debug,linear,notebook,plotly,sensitivity,shap]==0.7.2->interpret)\r\n",
      "  Downloading zope.interface-7.2-cp311-cp311-manylinux_2_5_x86_64.manylinux1_x86_64.manylinux_2_17_x86_64.manylinux2014_x86_64.whl.metadata (44 kB)\r\n",
      "\u001b[2K     \u001b[90m━━━━━━━━━━━━━━━━━━━━━━━━━━━━━━━━━━━━━━━━\u001b[0m \u001b[32m44.4/44.4 kB\u001b[0m \u001b[31m2.1 MB/s\u001b[0m eta \u001b[36m0:00:00\u001b[0m\r\n",
      "\u001b[?25hRequirement already satisfied: debugpy>=1.0 in /usr/local/lib/python3.11/dist-packages (from ipykernel>=4.10.0->interpret-core[aplr,dash,debug,linear,notebook,plotly,sensitivity,shap]==0.7.2->interpret) (1.8.0)\r\n",
      "Requirement already satisfied: jupyter-client>=6.1.12 in /usr/local/lib/python3.11/dist-packages (from ipykernel>=4.10.0->interpret-core[aplr,dash,debug,linear,notebook,plotly,sensitivity,shap]==0.7.2->interpret) (8.6.3)\r\n",
      "Requirement already satisfied: matplotlib-inline>=0.1 in /usr/local/lib/python3.11/dist-packages (from ipykernel>=4.10.0->interpret-core[aplr,dash,debug,linear,notebook,plotly,sensitivity,shap]==0.7.2->interpret) (0.1.7)\r\n",
      "Requirement already satisfied: packaging in /usr/local/lib/python3.11/dist-packages (from ipykernel>=4.10.0->interpret-core[aplr,dash,debug,linear,notebook,plotly,sensitivity,shap]==0.7.2->interpret) (25.0)\r\n",
      "Requirement already satisfied: pyzmq>=17 in /usr/local/lib/python3.11/dist-packages (from ipykernel>=4.10.0->interpret-core[aplr,dash,debug,linear,notebook,plotly,sensitivity,shap]==0.7.2->interpret) (24.0.1)\r\n",
      "Requirement already satisfied: tornado>=6.1 in /usr/local/lib/python3.11/dist-packages (from ipykernel>=4.10.0->interpret-core[aplr,dash,debug,linear,notebook,plotly,sensitivity,shap]==0.7.2->interpret) (6.5.1)\r\n",
      "Requirement already satisfied: traitlets>=5.1.0 in /usr/local/lib/python3.11/dist-packages (from ipykernel>=4.10.0->interpret-core[aplr,dash,debug,linear,notebook,plotly,sensitivity,shap]==0.7.2->interpret) (5.7.1)\r\n",
      "Requirement already satisfied: jedi>=0.16 in /usr/local/lib/python3.11/dist-packages (from ipython>=5.5.0->interpret-core[aplr,dash,debug,linear,notebook,plotly,sensitivity,shap]==0.7.2->interpret) (0.19.2)\r\n",
      "Requirement already satisfied: decorator in /usr/local/lib/python3.11/dist-packages (from ipython>=5.5.0->interpret-core[aplr,dash,debug,linear,notebook,plotly,sensitivity,shap]==0.7.2->interpret) (4.4.2)\r\n",
      "Requirement already satisfied: pickleshare in /usr/local/lib/python3.11/dist-packages (from ipython>=5.5.0->interpret-core[aplr,dash,debug,linear,notebook,plotly,sensitivity,shap]==0.7.2->interpret) (0.7.5)\r\n",
      "Requirement already satisfied: prompt-toolkit!=3.0.0,!=3.0.1,<3.1.0,>=2.0.0 in /usr/local/lib/python3.11/dist-packages (from ipython>=5.5.0->interpret-core[aplr,dash,debug,linear,notebook,plotly,sensitivity,shap]==0.7.2->interpret) (3.0.51)\r\n",
      "Requirement already satisfied: pygments in /usr/local/lib/python3.11/dist-packages (from ipython>=5.5.0->interpret-core[aplr,dash,debug,linear,notebook,plotly,sensitivity,shap]==0.7.2->interpret) (2.19.2)\r\n",
      "Requirement already satisfied: backcall in /usr/local/lib/python3.11/dist-packages (from ipython>=5.5.0->interpret-core[aplr,dash,debug,linear,notebook,plotly,sensitivity,shap]==0.7.2->interpret) (0.2.0)\r\n",
      "Requirement already satisfied: pexpect>4.3 in /usr/local/lib/python3.11/dist-packages (from ipython>=5.5.0->interpret-core[aplr,dash,debug,linear,notebook,plotly,sensitivity,shap]==0.7.2->interpret) (4.9.0)\r\n",
      "Requirement already satisfied: mkl_fft in /usr/local/lib/python3.11/dist-packages (from numpy>=1.25->interpret-core==0.7.2->interpret-core[aplr,dash,debug,linear,notebook,plotly,sensitivity,shap]==0.7.2->interpret) (1.3.8)\r\n",
      "Requirement already satisfied: mkl_random in /usr/local/lib/python3.11/dist-packages (from numpy>=1.25->interpret-core==0.7.2->interpret-core[aplr,dash,debug,linear,notebook,plotly,sensitivity,shap]==0.7.2->interpret) (1.2.4)\r\n",
      "Requirement already satisfied: mkl_umath in /usr/local/lib/python3.11/dist-packages (from numpy>=1.25->interpret-core==0.7.2->interpret-core[aplr,dash,debug,linear,notebook,plotly,sensitivity,shap]==0.7.2->interpret) (0.1.1)\r\n",
      "Requirement already satisfied: mkl in /usr/local/lib/python3.11/dist-packages (from numpy>=1.25->interpret-core==0.7.2->interpret-core[aplr,dash,debug,linear,notebook,plotly,sensitivity,shap]==0.7.2->interpret) (2025.2.0)\r\n",
      "Requirement already satisfied: tbb4py in /usr/local/lib/python3.11/dist-packages (from numpy>=1.25->interpret-core==0.7.2->interpret-core[aplr,dash,debug,linear,notebook,plotly,sensitivity,shap]==0.7.2->interpret) (2022.2.0)\r\n",
      "Requirement already satisfied: mkl-service in /usr/local/lib/python3.11/dist-packages (from numpy>=1.25->interpret-core==0.7.2->interpret-core[aplr,dash,debug,linear,notebook,plotly,sensitivity,shap]==0.7.2->interpret) (2.4.1)\r\n",
      "Requirement already satisfied: python-dateutil>=2.8.2 in /usr/local/lib/python3.11/dist-packages (from pandas>=0.19.2->interpret-core==0.7.2->interpret-core[aplr,dash,debug,linear,notebook,plotly,sensitivity,shap]==0.7.2->interpret) (2.9.0.post0)\r\n",
      "Requirement already satisfied: pytz>=2020.1 in /usr/local/lib/python3.11/dist-packages (from pandas>=0.19.2->interpret-core==0.7.2->interpret-core[aplr,dash,debug,linear,notebook,plotly,sensitivity,shap]==0.7.2->interpret) (2025.2)\r\n",
      "Requirement already satisfied: tzdata>=2022.7 in /usr/local/lib/python3.11/dist-packages (from pandas>=0.19.2->interpret-core==0.7.2->interpret-core[aplr,dash,debug,linear,notebook,plotly,sensitivity,shap]==0.7.2->interpret) (2025.2)\r\n",
      "Requirement already satisfied: tenacity>=6.2.0 in /usr/local/lib/python3.11/dist-packages (from plotly>=3.8.1->interpret-core[aplr,dash,debug,linear,notebook,plotly,sensitivity,shap]==0.7.2->interpret) (8.5.0)\r\n",
      "Requirement already satisfied: charset_normalizer<4,>=2 in /usr/local/lib/python3.11/dist-packages (from requests>=2.19.0->interpret-core[aplr,dash,debug,linear,notebook,plotly,sensitivity,shap]==0.7.2->interpret) (3.4.2)\r\n",
      "Requirement already satisfied: idna<4,>=2.5 in /usr/local/lib/python3.11/dist-packages (from requests>=2.19.0->interpret-core[aplr,dash,debug,linear,notebook,plotly,sensitivity,shap]==0.7.2->interpret) (3.10)\r\n",
      "Requirement already satisfied: urllib3<3,>=1.21.1 in /usr/local/lib/python3.11/dist-packages (from requests>=2.19.0->interpret-core[aplr,dash,debug,linear,notebook,plotly,sensitivity,shap]==0.7.2->interpret) (2.5.0)\r\n",
      "Requirement already satisfied: certifi>=2017.4.17 in /usr/local/lib/python3.11/dist-packages (from requests>=2.19.0->interpret-core[aplr,dash,debug,linear,notebook,plotly,sensitivity,shap]==0.7.2->interpret) (2025.6.15)\r\n",
      "Requirement already satisfied: matplotlib>=3.5 in /usr/local/lib/python3.11/dist-packages (from SALib>=1.3.3->interpret-core[aplr,dash,debug,linear,notebook,plotly,sensitivity,shap]==0.7.2->interpret) (3.7.2)\r\n",
      "Requirement already satisfied: multiprocess in /usr/local/lib/python3.11/dist-packages (from SALib>=1.3.3->interpret-core[aplr,dash,debug,linear,notebook,plotly,sensitivity,shap]==0.7.2->interpret) (0.70.16)\r\n",
      "Requirement already satisfied: scipy>=1.9.3 in /usr/local/lib/python3.11/dist-packages (from SALib>=1.3.3->interpret-core[aplr,dash,debug,linear,notebook,plotly,sensitivity,shap]==0.7.2->interpret) (1.15.3)\r\n",
      "Requirement already satisfied: threadpoolctl>=2.0.0 in /usr/local/lib/python3.11/dist-packages (from scikit-learn>=0.18.1->interpret-core==0.7.2->interpret-core[aplr,dash,debug,linear,notebook,plotly,sensitivity,shap]==0.7.2->interpret) (3.6.0)\r\n",
      "Requirement already satisfied: tqdm>=4.27.0 in /usr/local/lib/python3.11/dist-packages (from shap>=0.28.5->interpret-core[aplr,dash,debug,linear,notebook,plotly,sensitivity,shap]==0.7.2->interpret) (4.67.1)\r\n",
      "Requirement already satisfied: slicer==0.0.7 in /usr/local/lib/python3.11/dist-packages (from shap>=0.28.5->interpret-core[aplr,dash,debug,linear,notebook,plotly,sensitivity,shap]==0.7.2->interpret) (0.0.7)\r\n",
      "Requirement already satisfied: numba in /usr/local/lib/python3.11/dist-packages (from shap>=0.28.5->interpret-core[aplr,dash,debug,linear,notebook,plotly,sensitivity,shap]==0.7.2->interpret) (0.60.0)\r\n",
      "Requirement already satisfied: cloudpickle in /usr/local/lib/python3.11/dist-packages (from shap>=0.28.5->interpret-core[aplr,dash,debug,linear,notebook,plotly,sensitivity,shap]==0.7.2->interpret) (3.1.1)\r\n",
      "Requirement already satisfied: Jinja2>=3.1.2 in /usr/local/lib/python3.11/dist-packages (from Flask<3.1,>=1.0.4->dash<3.0.0,>=2.0.0->interpret-core[aplr,dash,debug,linear,notebook,plotly,sensitivity,shap]==0.7.2->interpret) (3.1.6)\r\n",
      "Requirement already satisfied: itsdangerous>=2.1.2 in /usr/local/lib/python3.11/dist-packages (from Flask<3.1,>=1.0.4->dash<3.0.0,>=2.0.0->interpret-core[aplr,dash,debug,linear,notebook,plotly,sensitivity,shap]==0.7.2->interpret) (2.2.0)\r\n",
      "Requirement already satisfied: click>=8.1.3 in /usr/local/lib/python3.11/dist-packages (from Flask<3.1,>=1.0.4->dash<3.0.0,>=2.0.0->interpret-core[aplr,dash,debug,linear,notebook,plotly,sensitivity,shap]==0.7.2->interpret) (8.2.1)\r\n",
      "Requirement already satisfied: blinker>=1.6.2 in /usr/local/lib/python3.11/dist-packages (from Flask<3.1,>=1.0.4->dash<3.0.0,>=2.0.0->interpret-core[aplr,dash,debug,linear,notebook,plotly,sensitivity,shap]==0.7.2->interpret) (1.9.0)\r\n",
      "Requirement already satisfied: parso<0.9.0,>=0.8.4 in /usr/local/lib/python3.11/dist-packages (from jedi>=0.16->ipython>=5.5.0->interpret-core[aplr,dash,debug,linear,notebook,plotly,sensitivity,shap]==0.7.2->interpret) (0.8.4)\r\n",
      "Requirement already satisfied: jupyter-core!=5.0.*,>=4.12 in /usr/local/lib/python3.11/dist-packages (from jupyter-client>=6.1.12->ipykernel>=4.10.0->interpret-core[aplr,dash,debug,linear,notebook,plotly,sensitivity,shap]==0.7.2->interpret) (5.8.1)\r\n",
      "Requirement already satisfied: contourpy>=1.0.1 in /usr/local/lib/python3.11/dist-packages (from matplotlib>=3.5->SALib>=1.3.3->interpret-core[aplr,dash,debug,linear,notebook,plotly,sensitivity,shap]==0.7.2->interpret) (1.3.2)\r\n",
      "Requirement already satisfied: cycler>=0.10 in /usr/local/lib/python3.11/dist-packages (from matplotlib>=3.5->SALib>=1.3.3->interpret-core[aplr,dash,debug,linear,notebook,plotly,sensitivity,shap]==0.7.2->interpret) (0.12.1)\r\n",
      "Requirement already satisfied: fonttools>=4.22.0 in /usr/local/lib/python3.11/dist-packages (from matplotlib>=3.5->SALib>=1.3.3->interpret-core[aplr,dash,debug,linear,notebook,plotly,sensitivity,shap]==0.7.2->interpret) (4.58.4)\r\n",
      "Requirement already satisfied: kiwisolver>=1.0.1 in /usr/local/lib/python3.11/dist-packages (from matplotlib>=3.5->SALib>=1.3.3->interpret-core[aplr,dash,debug,linear,notebook,plotly,sensitivity,shap]==0.7.2->interpret) (1.4.8)\r\n",
      "Requirement already satisfied: pillow>=6.2.0 in /usr/local/lib/python3.11/dist-packages (from matplotlib>=3.5->SALib>=1.3.3->interpret-core[aplr,dash,debug,linear,notebook,plotly,sensitivity,shap]==0.7.2->interpret) (11.2.1)\r\n",
      "Requirement already satisfied: pyparsing<3.1,>=2.3.1 in /usr/local/lib/python3.11/dist-packages (from matplotlib>=3.5->SALib>=1.3.3->interpret-core[aplr,dash,debug,linear,notebook,plotly,sensitivity,shap]==0.7.2->interpret) (3.0.9)\r\n",
      "Requirement already satisfied: ptyprocess>=0.5 in /usr/local/lib/python3.11/dist-packages (from pexpect>4.3->ipython>=5.5.0->interpret-core[aplr,dash,debug,linear,notebook,plotly,sensitivity,shap]==0.7.2->interpret) (0.7.0)\r\n",
      "Requirement already satisfied: wcwidth in /usr/local/lib/python3.11/dist-packages (from prompt-toolkit!=3.0.0,!=3.0.1,<3.1.0,>=2.0.0->ipython>=5.5.0->interpret-core[aplr,dash,debug,linear,notebook,plotly,sensitivity,shap]==0.7.2->interpret) (0.2.13)\r\n",
      "Requirement already satisfied: six>=1.5 in /usr/local/lib/python3.11/dist-packages (from python-dateutil>=2.8.2->pandas>=0.19.2->interpret-core==0.7.2->interpret-core[aplr,dash,debug,linear,notebook,plotly,sensitivity,shap]==0.7.2->interpret) (1.17.0)\r\n",
      "Requirement already satisfied: MarkupSafe>=2.1.1 in /usr/local/lib/python3.11/dist-packages (from Werkzeug<3.1->dash<3.0.0,>=2.0.0->interpret-core[aplr,dash,debug,linear,notebook,plotly,sensitivity,shap]==0.7.2->interpret) (3.0.2)\r\n",
      "Requirement already satisfied: zipp>=3.20 in /usr/local/lib/python3.11/dist-packages (from importlib-metadata->dash<3.0.0,>=2.0.0->interpret-core[aplr,dash,debug,linear,notebook,plotly,sensitivity,shap]==0.7.2->interpret) (3.23.0)\r\n",
      "Requirement already satisfied: intel-openmp<2026,>=2024 in /usr/local/lib/python3.11/dist-packages (from mkl->numpy>=1.25->interpret-core==0.7.2->interpret-core[aplr,dash,debug,linear,notebook,plotly,sensitivity,shap]==0.7.2->interpret) (2024.2.0)\r\n",
      "Requirement already satisfied: tbb==2022.* in /usr/local/lib/python3.11/dist-packages (from mkl->numpy>=1.25->interpret-core==0.7.2->interpret-core[aplr,dash,debug,linear,notebook,plotly,sensitivity,shap]==0.7.2->interpret) (2022.2.0)\r\n",
      "Requirement already satisfied: tcmlib==1.* in /usr/local/lib/python3.11/dist-packages (from tbb==2022.*->mkl->numpy>=1.25->interpret-core==0.7.2->interpret-core[aplr,dash,debug,linear,notebook,plotly,sensitivity,shap]==0.7.2->interpret) (1.4.0)\r\n",
      "Requirement already satisfied: intel-cmplr-lib-rt in /usr/local/lib/python3.11/dist-packages (from mkl_umath->numpy>=1.25->interpret-core==0.7.2->interpret-core[aplr,dash,debug,linear,notebook,plotly,sensitivity,shap]==0.7.2->interpret) (2024.2.0)\r\n",
      "Requirement already satisfied: llvmlite<0.44,>=0.43.0dev0 in /usr/local/lib/python3.11/dist-packages (from numba->shap>=0.28.5->interpret-core[aplr,dash,debug,linear,notebook,plotly,sensitivity,shap]==0.7.2->interpret) (0.43.0)\r\n",
      "Collecting setuptools (from dash<3.0.0,>=2.0.0->interpret-core[aplr,dash,debug,linear,notebook,plotly,sensitivity,shap]==0.7.2->interpret)\r\n",
      "  Downloading setuptools-80.9.0-py3-none-any.whl.metadata (6.6 kB)\r\n",
      "Requirement already satisfied: intel-cmplr-lib-ur==2024.2.0 in /usr/local/lib/python3.11/dist-packages (from intel-openmp<2026,>=2024->mkl->numpy>=1.25->interpret-core==0.7.2->interpret-core[aplr,dash,debug,linear,notebook,plotly,sensitivity,shap]==0.7.2->interpret) (2024.2.0)\r\n",
      "Requirement already satisfied: platformdirs>=2.5 in /usr/local/lib/python3.11/dist-packages (from jupyter-core!=5.0.*,>=4.12->jupyter-client>=6.1.12->ipykernel>=4.10.0->interpret-core[aplr,dash,debug,linear,notebook,plotly,sensitivity,shap]==0.7.2->interpret) (4.3.8)\r\n",
      "Downloading interpret-0.7.2-py3-none-any.whl (1.4 kB)\r\n",
      "Downloading interpret_core-0.7.2-py3-none-any.whl (16.5 MB)\r\n",
      "\u001b[2K   \u001b[90m━━━━━━━━━━━━━━━━━━━━━━━━━━━━━━━━━━━━━━━━\u001b[0m \u001b[32m16.5/16.5 MB\u001b[0m \u001b[31m66.8 MB/s\u001b[0m eta \u001b[36m0:00:00\u001b[0m\r\n",
      "\u001b[?25hDownloading aplr-10.9.0-cp311-cp311-manylinux_2_17_x86_64.manylinux2014_x86_64.whl (6.7 MB)\r\n",
      "\u001b[2K   \u001b[90m━━━━━━━━━━━━━━━━━━━━━━━━━━━━━━━━━━━━━━━━\u001b[0m \u001b[32m6.7/6.7 MB\u001b[0m \u001b[31m29.8 MB/s\u001b[0m eta \u001b[36m0:00:00\u001b[0m\r\n",
      "\u001b[?25hDownloading dash-2.18.2-py3-none-any.whl (7.8 MB)\r\n",
      "\u001b[2K   \u001b[90m━━━━━━━━━━━━━━━━━━━━━━━━━━━━━━━━━━━━━━━━\u001b[0m \u001b[32m7.8/7.8 MB\u001b[0m \u001b[31m93.9 MB/s\u001b[0m eta \u001b[36m0:00:00\u001b[0m\r\n",
      "\u001b[?25hDownloading dash_core_components-2.0.0-py3-none-any.whl (3.8 kB)\r\n",
      "Downloading dash_html_components-2.0.0-py3-none-any.whl (4.1 kB)\r\n",
      "Downloading dash_table-5.0.0-py3-none-any.whl (3.9 kB)\r\n",
      "Downloading gevent-25.8.2-cp311-cp311-manylinux2014_x86_64.manylinux_2_17_x86_64.whl (2.1 MB)\r\n",
      "\u001b[2K   \u001b[90m━━━━━━━━━━━━━━━━━━━━━━━━━━━━━━━━━━━━━━━━\u001b[0m \u001b[32m2.1/2.1 MB\u001b[0m \u001b[31m56.1 MB/s\u001b[0m eta \u001b[36m0:00:00\u001b[0m\r\n",
      "\u001b[?25hDownloading salib-1.5.1-py3-none-any.whl (778 kB)\r\n",
      "\u001b[2K   \u001b[90m━━━━━━━━━━━━━━━━━━━━━━━━━━━━━━━━━━━━━━━━\u001b[0m \u001b[32m778.9/778.9 kB\u001b[0m \u001b[31m28.5 MB/s\u001b[0m eta \u001b[36m0:00:00\u001b[0m\r\n",
      "\u001b[?25hDownloading flask-3.0.3-py3-none-any.whl (101 kB)\r\n",
      "\u001b[2K   \u001b[90m━━━━━━━━━━━━━━━━━━━━━━━━━━━━━━━━━━━━━━━━\u001b[0m \u001b[32m101.7/101.7 kB\u001b[0m \u001b[31m6.9 MB/s\u001b[0m eta \u001b[36m0:00:00\u001b[0m\r\n",
      "\u001b[?25hDownloading werkzeug-3.0.6-py3-none-any.whl (227 kB)\r\n",
      "\u001b[2K   \u001b[90m━━━━━━━━━━━━━━━━━━━━━━━━━━━━━━━━━━━━━━━━\u001b[0m \u001b[32m228.0/228.0 kB\u001b[0m \u001b[31m12.0 MB/s\u001b[0m eta \u001b[36m0:00:00\u001b[0m\r\n",
      "\u001b[?25hDownloading retrying-1.4.2-py3-none-any.whl (10 kB)\r\n",
      "Downloading zope_event-5.1.1-py3-none-any.whl (7.0 kB)\r\n",
      "Downloading setuptools-80.9.0-py3-none-any.whl (1.2 MB)\r\n",
      "\u001b[2K   \u001b[90m━━━━━━━━━━━━━━━━━━━━━━━━━━━━━━━━━━━━━━━━\u001b[0m \u001b[32m1.2/1.2 MB\u001b[0m \u001b[31m41.3 MB/s\u001b[0m eta \u001b[36m0:00:00\u001b[0m\r\n",
      "\u001b[?25hDownloading zope.interface-7.2-cp311-cp311-manylinux_2_5_x86_64.manylinux1_x86_64.manylinux_2_17_x86_64.manylinux2014_x86_64.whl (259 kB)\r\n",
      "\u001b[2K   \u001b[90m━━━━━━━━━━━━━━━━━━━━━━━━━━━━━━━━━━━━━━━━\u001b[0m \u001b[32m259.8/259.8 kB\u001b[0m \u001b[31m9.6 MB/s\u001b[0m eta \u001b[36m0:00:00\u001b[0m\r\n",
      "\u001b[?25hBuilding wheels for collected packages: dash-cytoscape\r\n",
      "  Building wheel for dash-cytoscape (setup.py) ... \u001b[?25l\u001b[?25hdone\r\n",
      "  Created wheel for dash-cytoscape: filename=dash_cytoscape-1.0.2-py3-none-any.whl size=4010717 sha256=75eacc3758f70706e313a7df0b7b5961c457096870e9e186ddeb0e1b50dc4ada\r\n",
      "  Stored in directory: /root/.cache/pip/wheels/99/b1/ab/6c999ab288b4849d372e23c0a8f6ece7edb7ffeb8c97959ab0\r\n",
      "Successfully built dash-cytoscape\r\n",
      "Installing collected packages: dash-table, dash-html-components, dash-core-components, Werkzeug, setuptools, retrying, zope.interface, zope.event, Flask, gevent, dash, dash-cytoscape, SALib, interpret-core, aplr, interpret\r\n",
      "  Attempting uninstall: Werkzeug\r\n",
      "    Found existing installation: Werkzeug 3.1.3\r\n",
      "    Uninstalling Werkzeug-3.1.3:\r\n",
      "      Successfully uninstalled Werkzeug-3.1.3\r\n",
      "  Attempting uninstall: setuptools\r\n",
      "    Found existing installation: setuptools 75.2.0\r\n",
      "    Uninstalling setuptools-75.2.0:\r\n",
      "      Successfully uninstalled setuptools-75.2.0\r\n",
      "  Attempting uninstall: Flask\r\n",
      "    Found existing installation: Flask 3.1.1\r\n",
      "    Uninstalling Flask-3.1.1:\r\n",
      "      Successfully uninstalled Flask-3.1.1\r\n",
      "\u001b[31mERROR: pip's dependency resolver does not currently take into account all the packages that are installed. This behaviour is the source of the following dependency conflicts.\r\n",
      "bigframes 2.8.0 requires google-cloud-bigquery-storage<3.0.0,>=2.30.0, which is not installed.\r\n",
      "pandas-gbq 0.29.1 requires google-api-core<3.0.0,>=2.10.2, but you have google-api-core 1.34.1 which is incompatible.\r\n",
      "thinc 8.3.6 requires numpy<3.0.0,>=2.0.0, but you have numpy 1.26.4 which is incompatible.\r\n",
      "bigframes 2.8.0 requires google-cloud-bigquery[bqstorage,pandas]>=3.31.0, but you have google-cloud-bigquery 3.25.0 which is incompatible.\r\n",
      "bigframes 2.8.0 requires rich<14,>=12.4.4, but you have rich 14.0.0 which is incompatible.\u001b[0m\u001b[31m\r\n",
      "\u001b[0mSuccessfully installed Flask-3.0.3 SALib-1.5.1 Werkzeug-3.0.6 aplr-10.9.0 dash-2.18.2 dash-core-components-2.0.0 dash-cytoscape-1.0.2 dash-html-components-2.0.0 dash-table-5.0.0 gevent-25.8.2 interpret-0.7.2 interpret-core-0.7.2 retrying-1.4.2 setuptools-80.9.0 zope.event-5.1.1 zope.interface-7.2\r\n"
     ]
    }
   ],
   "source": [
    "! pip install interpret"
   ]
  },
  {
   "cell_type": "code",
   "execution_count": 3,
   "id": "346f6e5d",
   "metadata": {
    "execution": {
     "iopub.execute_input": "2025-09-01T18:39:46.676090Z",
     "iopub.status.busy": "2025-09-01T18:39:46.675784Z",
     "iopub.status.idle": "2025-09-01T18:39:52.176125Z",
     "shell.execute_reply": "2025-09-01T18:39:52.175172Z"
    },
    "papermill": {
     "duration": 5.510736,
     "end_time": "2025-09-01T18:39:52.177947",
     "exception": false,
     "start_time": "2025-09-01T18:39:46.667211",
     "status": "completed"
    },
    "tags": []
   },
   "outputs": [],
   "source": [
    "# InterpretML\n",
    "from interpret.glassbox import ExplainableBoostingClassifier, ExplainableBoostingRegressor\n",
    "# Optuna for Bayesian-style optimization\n",
    "import optuna\n",
    "\n",
    "# PyTorch for self-supervised pretraining\n",
    "import torch\n",
    "import torch.nn as nn\n",
    "from torch.utils.data import DataLoader, TensorDataset\n"
   ]
  },
  {
   "cell_type": "code",
   "execution_count": 4,
   "id": "fb0003d9",
   "metadata": {
    "execution": {
     "iopub.execute_input": "2025-09-01T18:39:52.194492Z",
     "iopub.status.busy": "2025-09-01T18:39:52.193988Z",
     "iopub.status.idle": "2025-09-01T18:39:52.198809Z",
     "shell.execute_reply": "2025-09-01T18:39:52.198075Z"
    },
    "papermill": {
     "duration": 0.015148,
     "end_time": "2025-09-01T18:39:52.200426",
     "exception": false,
     "start_time": "2025-09-01T18:39:52.185278",
     "status": "completed"
    },
    "tags": []
   },
   "outputs": [],
   "source": [
    "import matplotlib.pyplot as plt\n",
    "from interpret.glassbox import ExplainableBoostingClassifier\n",
    "from interpret import show\n",
    "from sklearn.metrics import roc_auc_score, f1_score, accuracy_score, confusion_matrix, ConfusionMatrixDisplay"
   ]
  },
  {
   "cell_type": "code",
   "execution_count": 5,
   "id": "2f45bfcb",
   "metadata": {
    "execution": {
     "iopub.execute_input": "2025-09-01T18:39:52.214963Z",
     "iopub.status.busy": "2025-09-01T18:39:52.214630Z",
     "iopub.status.idle": "2025-09-01T18:39:52.226813Z",
     "shell.execute_reply": "2025-09-01T18:39:52.225972Z"
    },
    "papermill": {
     "duration": 0.021107,
     "end_time": "2025-09-01T18:39:52.228249",
     "exception": false,
     "start_time": "2025-09-01T18:39:52.207142",
     "status": "completed"
    },
    "tags": []
   },
   "outputs": [
    {
     "data": {
      "text/plain": [
       "<torch._C.Generator at 0x7da48149ee30>"
      ]
     },
     "execution_count": 5,
     "metadata": {},
     "output_type": "execute_result"
    }
   ],
   "source": [
    "SEED = 42\n",
    "random.seed(SEED)\n",
    "np.random.seed(SEED)\n",
    "torch.manual_seed(SEED)"
   ]
  },
  {
   "cell_type": "code",
   "execution_count": 6,
   "id": "bad32b63",
   "metadata": {
    "execution": {
     "iopub.execute_input": "2025-09-01T18:39:52.243480Z",
     "iopub.status.busy": "2025-09-01T18:39:52.243178Z",
     "iopub.status.idle": "2025-09-01T18:39:52.250379Z",
     "shell.execute_reply": "2025-09-01T18:39:52.249482Z"
    },
    "papermill": {
     "duration": 0.01667,
     "end_time": "2025-09-01T18:39:52.252039",
     "exception": false,
     "start_time": "2025-09-01T18:39:52.235369",
     "status": "completed"
    },
    "tags": []
   },
   "outputs": [],
   "source": [
    "def equalized_odds_difference(y_true, y_pred_proba, sensitive: np.ndarray, threshold=0.5):\n",
    "    \"\"\"Max absolute difference in TPR and FPR across groups (binary sensitive).\"\"\"\n",
    "    preds = (y_pred_proba >= threshold).astype(int)\n",
    "    groups = np.unique(sensitive)\n",
    "    tprs = []\n",
    "    fprs = []\n",
    "    for g in groups:\n",
    "        mask = (sensitive == g)\n",
    "        if mask.sum() == 0:\n",
    "            tprs.append(0.0)\n",
    "            fprs.append(0.0)\n",
    "            continue\n",
    "        tp = ((y_true == 1) & (preds == 1) & mask).sum()\n",
    "        fn = ((y_true == 1) & (preds == 0) & mask).sum()\n",
    "        fp = ((y_true == 0) & (preds == 1) & mask).sum()\n",
    "        tn = ((y_true == 0) & (preds == 0) & mask).sum()\n",
    "        tprs.append(tp / (tp + fn) if (tp + fn) > 0 else 0.0)\n",
    "        fprs.append(fp / (fp + tn) if (fp + tn) > 0 else 0.0)\n",
    "    # Differences\n",
    "    tpr_diff = abs(tprs[0] - tprs[1]) if len(tprs) >= 2 else 0.0\n",
    "    fpr_diff = abs(fprs[0] - fprs[1]) if len(fprs) >= 2 else 0.0\n",
    "    return max(tpr_diff, fpr_diff)"
   ]
  },
  {
   "cell_type": "code",
   "execution_count": 7,
   "id": "702cb6ff",
   "metadata": {
    "execution": {
     "iopub.execute_input": "2025-09-01T18:39:52.266978Z",
     "iopub.status.busy": "2025-09-01T18:39:52.266666Z",
     "iopub.status.idle": "2025-09-01T18:39:52.275169Z",
     "shell.execute_reply": "2025-09-01T18:39:52.271790Z"
    },
    "papermill": {
     "duration": 0.019984,
     "end_time": "2025-09-01T18:39:52.278886",
     "exception": false,
     "start_time": "2025-09-01T18:39:52.258902",
     "status": "completed"
    },
    "tags": []
   },
   "outputs": [],
   "source": [
    "def empirical_robustness_noise(model_predict_proba, X, y, noise_std_list=[0.01, 0.05, 0.1]):\n",
    "    \"\"\"Simple robustness: drop in ROC AUC under additive Gaussian noise.\"\"\"\n",
    "    base_auc = roc_auc_score(y, model_predict_proba(X))\n",
    "    results = {'base_auc': base_auc}\n",
    "    for std in noise_std_list:\n",
    "        Xp = X + np.random.normal(0, std, size=X.shape)\n",
    "        auc = roc_auc_score(y, model_predict_proba(Xp))\n",
    "        results[f'auc_noise_{std}'] = auc\n",
    "    return results\n"
   ]
  },
  {
   "cell_type": "code",
   "execution_count": 8,
   "id": "12342f8a",
   "metadata": {
    "execution": {
     "iopub.execute_input": "2025-09-01T18:39:52.299717Z",
     "iopub.status.busy": "2025-09-01T18:39:52.299149Z",
     "iopub.status.idle": "2025-09-01T18:39:52.305500Z",
     "shell.execute_reply": "2025-09-01T18:39:52.304723Z"
    },
    "papermill": {
     "duration": 0.016037,
     "end_time": "2025-09-01T18:39:52.307004",
     "exception": false,
     "start_time": "2025-09-01T18:39:52.290967",
     "status": "completed"
    },
    "tags": []
   },
   "outputs": [],
   "source": [
    "def load_adult_dataset() -> Tuple[pd.DataFrame, pd.Series, np.ndarray]:\n",
    "    \"\"\"Load Adult dataset directly from UCI repository.\"\"\"\n",
    "    url = \"https://archive.ics.uci.edu/ml/machine-learning-databases/adult/adult.data\"\n",
    "    df = pd.read_csv(\n",
    "        url,\n",
    "        header=None,\n",
    "        names=[\n",
    "            \"Age\", \"WorkClass\", \"fnlwgt\", \"Education\", \"EducationNum\",\n",
    "            \"MaritalStatus\", \"Occupation\", \"Relationship\", \"Race\", \"Sex\",\n",
    "            \"CapitalGain\", \"CapitalLoss\", \"HoursPerWeek\", \"NativeCountry\", \"Income\"\n",
    "        ]\n",
    "    )\n",
    "\n",
    "    # Label mapping: \">50K\" -> 1, \"<=50K\" -> 0\n",
    "    df['Income'] = df['Income'].str.strip()\n",
    "    y = df['Income'].apply(lambda s: 1 if s == '>50K' else 0).astype(int)\n",
    "\n",
    "    # Features\n",
    "    X = df.drop(columns=['Income'])\n",
    "\n",
    "    # Sensitive attribute (as before): \"Sex\"\n",
    "    sensitive = (X['Sex'].str.strip() == 'Male').astype(int).values\n",
    "\n",
    "    return X, y, sensitive"
   ]
  },
  {
   "cell_type": "code",
   "execution_count": 9,
   "id": "a16f8fde",
   "metadata": {
    "execution": {
     "iopub.execute_input": "2025-09-01T18:39:52.322166Z",
     "iopub.status.busy": "2025-09-01T18:39:52.321898Z",
     "iopub.status.idle": "2025-09-01T18:39:52.326097Z",
     "shell.execute_reply": "2025-09-01T18:39:52.325009Z"
    },
    "papermill": {
     "duration": 0.013703,
     "end_time": "2025-09-01T18:39:52.327781",
     "exception": false,
     "start_time": "2025-09-01T18:39:52.314078",
     "status": "completed"
    },
    "tags": []
   },
   "outputs": [],
   "source": [
    "DATASET_LOADERS = {\n",
    "    'adult': load_adult_dataset,\n",
    "}\n"
   ]
  },
  {
   "cell_type": "code",
   "execution_count": 10,
   "id": "e436644a",
   "metadata": {
    "execution": {
     "iopub.execute_input": "2025-09-01T18:39:52.342799Z",
     "iopub.status.busy": "2025-09-01T18:39:52.342465Z",
     "iopub.status.idle": "2025-09-01T18:39:52.346811Z",
     "shell.execute_reply": "2025-09-01T18:39:52.346025Z"
    },
    "papermill": {
     "duration": 0.01339,
     "end_time": "2025-09-01T18:39:52.348100",
     "exception": false,
     "start_time": "2025-09-01T18:39:52.334710",
     "status": "completed"
    },
    "tags": []
   },
   "outputs": [],
   "source": [
    "def build_adult_preprocessor(X: pd.DataFrame):\n",
    "    return FunctionTransformer(lambda x: x)"
   ]
  },
  {
   "cell_type": "code",
   "execution_count": 11,
   "id": "b55c1c10",
   "metadata": {
    "execution": {
     "iopub.execute_input": "2025-09-01T18:39:52.363346Z",
     "iopub.status.busy": "2025-09-01T18:39:52.363027Z",
     "iopub.status.idle": "2025-09-01T18:39:52.371442Z",
     "shell.execute_reply": "2025-09-01T18:39:52.370483Z"
    },
    "papermill": {
     "duration": 0.017668,
     "end_time": "2025-09-01T18:39:52.372930",
     "exception": false,
     "start_time": "2025-09-01T18:39:52.355262",
     "status": "completed"
    },
    "tags": []
   },
   "outputs": [],
   "source": [
    "import numpy as np\n",
    "from sklearn.model_selection import StratifiedShuffleSplit, cross_validate\n",
    "from sklearn.metrics import ConfusionMatrixDisplay\n",
    "import matplotlib.pyplot as plt\n",
    "from interpret.glassbox import ExplainableBoostingClassifier\n",
    "from interpret import show\n",
    "\n",
    "def format_n(x):\n",
    "    return \"{0:.3f}\".format(x)\n",
    "\n",
    "def train_baseline_ebm_with_vis(X, y, params=None):\n",
    "    params = params or {}\n",
    "    model = ExplainableBoostingClassifier(**params)\n",
    "\n",
    "    ss = StratifiedShuffleSplit(n_splits=3, test_size=0.25, random_state=1337)\n",
    "    scores = cross_validate(\n",
    "        model, X, y, scoring='roc_auc', cv=ss,\n",
    "        n_jobs=None, return_estimator=True, return_train_score=False\n",
    "    )\n",
    "\n",
    "    record = dict()\n",
    "    record['fit_time_mean'] = format_n(np.mean(scores['fit_time']))\n",
    "    record['fit_time_std'] = format_n(np.std(scores['fit_time']))\n",
    "    record['test_score_mean'] = format_n(np.mean(scores['test_score']))\n",
    "    record['test_score_std'] = format_n(np.std(scores['test_score']))\n",
    "\n",
    "    # Take the first trained model\n",
    "    trained_model = scores['estimator'][0]\n",
    "\n",
    "    # Get one split\n",
    "    train_idx, test_idx = list(ss.split(X, y))[0]\n",
    "\n",
    "    # Handle pandas vs numpy gracefully\n",
    "    if hasattr(X, \"iloc\"):  # Pandas DataFrame\n",
    "        X_test = X.iloc[test_idx]\n",
    "    else:  # NumPy array\n",
    "        X_test = X[test_idx]\n",
    "\n",
    "    if hasattr(y, \"iloc\"):  # Pandas Series\n",
    "        y_test = y.iloc[test_idx]\n",
    "    else:  # NumPy array\n",
    "        y_test = y[test_idx]\n",
    "\n",
    "    # Confusion matrix\n",
    "    y_pred = trained_model.predict(X_test)\n",
    "    ConfusionMatrixDisplay.from_predictions(y_test, y_pred)\n",
    "    plt.title(\"Confusion Matrix (Validation Split)\")\n",
    "    plt.show()\n",
    "\n",
    "    # InterpretML visualization\n",
    "    ebm_global = trained_model.explain_global()\n",
    "    show(ebm_global)\n",
    "\n",
    "    return trained_model, record\n"
   ]
  },
  {
   "cell_type": "code",
   "execution_count": 12,
   "id": "138328a2",
   "metadata": {
    "execution": {
     "iopub.execute_input": "2025-09-01T18:39:52.388048Z",
     "iopub.status.busy": "2025-09-01T18:39:52.387774Z",
     "iopub.status.idle": "2025-09-01T18:39:52.393427Z",
     "shell.execute_reply": "2025-09-01T18:39:52.392564Z"
    },
    "papermill": {
     "duration": 0.015331,
     "end_time": "2025-09-01T18:39:52.395010",
     "exception": false,
     "start_time": "2025-09-01T18:39:52.379679",
     "status": "completed"
    },
    "tags": []
   },
   "outputs": [],
   "source": [
    "class TabularAutoencoder(nn.Module):\n",
    "    def __init__(self, input_dim, latent_dim=32):\n",
    "        super().__init__()\n",
    "        self.encoder = nn.Sequential(\n",
    "            nn.Linear(input_dim, max(64, latent_dim * 4)),\n",
    "            nn.ReLU(),\n",
    "            nn.Linear(max(64, latent_dim * 4), latent_dim),\n",
    "            nn.ReLU()\n",
    "        )\n",
    "        self.decoder = nn.Sequential(\n",
    "            nn.Linear(latent_dim, max(64, latent_dim * 4)),\n",
    "            nn.ReLU(),\n",
    "            nn.Linear(max(64, latent_dim * 4), input_dim)\n",
    "        )\n",
    "\n",
    "    def forward(self, x):\n",
    "        z = self.encoder(x)\n",
    "        recon = self.decoder(z)\n",
    "        return recon, z\n"
   ]
  },
  {
   "cell_type": "code",
   "execution_count": 13,
   "id": "dfaa415c",
   "metadata": {
    "execution": {
     "iopub.execute_input": "2025-09-01T18:39:52.409730Z",
     "iopub.status.busy": "2025-09-01T18:39:52.409182Z",
     "iopub.status.idle": "2025-09-01T18:39:52.418146Z",
     "shell.execute_reply": "2025-09-01T18:39:52.417376Z"
    },
    "papermill": {
     "duration": 0.017958,
     "end_time": "2025-09-01T18:39:52.419737",
     "exception": false,
     "start_time": "2025-09-01T18:39:52.401779",
     "status": "completed"
    },
    "tags": []
   },
   "outputs": [],
   "source": [
    "def pretrain_autoencoder_get_init_scores(X_unlabeled: np.ndarray, X_small_labeled: np.ndarray, y_small: np.ndarray,\n",
    "                                         device='cpu', epochs=50, batch_size=256, latent_dim=32):\n",
    "    \"\"\"\n",
    "    Train autoencoder on X_unlabeled (self-supervised), then train a small classifier on\n",
    "    the encoder output for the labeled subset to produce init_score probabilities.\n",
    "    Returns init_score for entire dataset (probabilities).\n",
    "    \"\"\"\n",
    "    device = torch.device(device)\n",
    "    X_unlabeled_t = torch.from_numpy(X_unlabeled.astype(np.float32))\n",
    "    ds = TensorDataset(X_unlabeled_t)\n",
    "    dl = DataLoader(ds, batch_size=batch_size, shuffle=True)\n",
    "\n",
    "    ae = TabularAutoencoder(input_dim=X_unlabeled.shape[1], latent_dim=latent_dim).to(device)\n",
    "    opt = torch.optim.Adam(ae.parameters(), lr=1e-3)\n",
    "    loss_fn = nn.MSELoss()\n",
    "\n",
    "    for ep in range(epochs):\n",
    "        ae.train()\n",
    "        epoch_loss = 0.0\n",
    "        for (batch,) in dl:\n",
    "            batch = batch.to(device)\n",
    "            recon, _ = ae(batch)\n",
    "            loss = loss_fn(recon, batch)\n",
    "            opt.zero_grad()\n",
    "            loss.backward()\n",
    "            opt.step()\n",
    "            epoch_loss += loss.item() * batch.size(0)\n",
    "    # build encoder outputs for labeled small set\n",
    "    ae.eval()\n",
    "    with torch.no_grad():\n",
    "        Z_small = ae.encoder(torch.from_numpy(X_small_labeled.astype(np.float32)).to(device)).cpu().numpy()\n",
    "        Z_full = ae.encoder(torch.from_numpy(X_unlabeled.astype(np.float32)).to(device)).cpu().numpy()\n",
    "\n",
    "    # train logistic regression on Z_small -> produce probabilities for full set as init_score\n",
    "    clf = LogisticRegression(max_iter=1000)\n",
    "    clf.fit(Z_small, y_small)\n",
    "    init_scores = clf.predict_proba(Z_full)[:, 1]\n",
    "    return init_scores, ae, clf"
   ]
  },
  {
   "cell_type": "code",
   "execution_count": 14,
   "id": "e4bc5e92",
   "metadata": {
    "execution": {
     "iopub.execute_input": "2025-09-01T18:39:52.435124Z",
     "iopub.status.busy": "2025-09-01T18:39:52.434715Z",
     "iopub.status.idle": "2025-09-01T18:39:52.439154Z",
     "shell.execute_reply": "2025-09-01T18:39:52.438305Z"
    },
    "papermill": {
     "duration": 0.014313,
     "end_time": "2025-09-01T18:39:52.440792",
     "exception": false,
     "start_time": "2025-09-01T18:39:52.426479",
     "status": "completed"
    },
    "tags": []
   },
   "outputs": [],
   "source": [
    "output_dir='out_M_Preprocessing'\n",
    "dataset='adult'"
   ]
  },
  {
   "cell_type": "code",
   "execution_count": 15,
   "id": "73cfde5d",
   "metadata": {
    "execution": {
     "iopub.execute_input": "2025-09-01T18:39:52.456935Z",
     "iopub.status.busy": "2025-09-01T18:39:52.456126Z",
     "iopub.status.idle": "2025-09-01T18:39:52.461441Z",
     "shell.execute_reply": "2025-09-01T18:39:52.460599Z"
    },
    "papermill": {
     "duration": 0.015295,
     "end_time": "2025-09-01T18:39:52.463393",
     "exception": false,
     "start_time": "2025-09-01T18:39:52.448098",
     "status": "completed"
    },
    "tags": []
   },
   "outputs": [],
   "source": [
    "def get_adult_data():\n",
    "    os.makedirs(output_dir, exist_ok=True)\n",
    "    print(f'[INFO] Loading {dataset} dataset ...')\n",
    "    X_df, y, sensitive = DATASET_LOADERS[dataset]()\n",
    "    preproc = build_adult_preprocessor(X_df)\n",
    "    X_all = preproc.fit_transform(X_df)\n",
    "    # convert to numpy arrays for later use\n",
    "    #X_all = np.asarray(X_all, dtype=float)\n",
    "    y = np.asarray(y, dtype=int)\n",
    "    print(\"[INFO] Loading completed\")\n",
    "\n",
    "   \n",
    "\n",
    "    return X_all,y"
   ]
  },
  {
   "cell_type": "code",
   "execution_count": 16,
   "id": "195079c5",
   "metadata": {
    "execution": {
     "iopub.execute_input": "2025-09-01T18:39:52.478079Z",
     "iopub.status.busy": "2025-09-01T18:39:52.477690Z",
     "iopub.status.idle": "2025-09-01T18:39:52.485123Z",
     "shell.execute_reply": "2025-09-01T18:39:52.484276Z"
    },
    "papermill": {
     "duration": 0.016445,
     "end_time": "2025-09-01T18:39:52.486636",
     "exception": false,
     "start_time": "2025-09-01T18:39:52.470191",
     "status": "completed"
    },
    "tags": []
   },
   "outputs": [],
   "source": [
    "from sklearn.model_selection import StratifiedKFold, cross_val_score\n",
    "\n",
    "def run_hpo_ebm_without_dp(X_train, y_train, n_trials=40, timeout=None, output_dir='hpo'):\n",
    "    os.makedirs(output_dir, exist_ok=True)\n",
    "\n",
    "    def objective(trial):\n",
    "        # sample hyperparams\n",
    "        params = {\n",
    "            'learning_rate': trial.suggest_loguniform('learning_rate', 1e-4, 1e-1),\n",
    "            'max_bins': trial.suggest_int('max_bins', 64, 512),\n",
    "            'max_leaves': trial.suggest_int('max_leaves', 2, 64),\n",
    "            'max_rounds': trial.suggest_int('max_rounds', 50, 2000),\n",
    "            'interactions': trial.suggest_int('interactions', 0, 10),\n",
    "            'outer_bags': trial.suggest_int('outer_bags', 4, 32),\n",
    "            'inner_bags': trial.suggest_int('inner_bags', 0, 8),\n",
    "            # greedy ratio can be tuned too\n",
    "            'greedy_ratio': trial.suggest_float('greedy_ratio', 0.0, 20.0),\n",
    "        }\n",
    "      \n",
    "\n",
    "        model = ExplainableBoostingClassifier(**params)\n",
    "        #model.fit(X_train, y_train)\n",
    "        cv = StratifiedKFold(n_splits=5, shuffle=True, random_state=SEED)\n",
    "        roc = cross_val_score(model, X_train, y_train, cv=cv, scoring=\"roc_auc\").mean()\n",
    "      \n",
    "        objective_value = (1.0 - roc) \n",
    "\n",
    "        # store additional info as trial user attributes\n",
    "        trial.set_user_attr('roc_auc', roc)\n",
    "       \n",
    "        trial.set_user_attr('params', params)\n",
    "        return objective_value\n",
    "\n",
    "    study = optuna.create_study(direction='minimize', sampler=optuna.samplers.TPESampler(seed=SEED))\n",
    "    study.optimize(objective, n_trials=n_trials, timeout=timeout)\n",
    "    # persist study\n",
    "    joblib.dump(study, os.path.join(output_dir, 'optuna_study_without_dp.pkl'))\n",
    "    return study\n"
   ]
  },
  {
   "cell_type": "code",
   "execution_count": 17,
   "id": "99408bab",
   "metadata": {
    "execution": {
     "iopub.execute_input": "2025-09-01T18:39:52.502025Z",
     "iopub.status.busy": "2025-09-01T18:39:52.501594Z",
     "iopub.status.idle": "2025-09-01T21:07:55.458856Z",
     "shell.execute_reply": "2025-09-01T21:07:55.457305Z"
    },
    "papermill": {
     "duration": 8882.968116,
     "end_time": "2025-09-01T21:07:55.461611",
     "exception": false,
     "start_time": "2025-09-01T18:39:52.493495",
     "status": "completed"
    },
    "tags": []
   },
   "outputs": [
    {
     "name": "stdout",
     "output_type": "stream",
     "text": [
      "[INFO] Loading adult dataset ...\n"
     ]
    },
    {
     "name": "stderr",
     "output_type": "stream",
     "text": [
      "[I 2025-09-01 18:39:54,434] A new study created in memory with name: no-name-e22d9095-daa2-4847-bb11-e8bafde18273\n"
     ]
    },
    {
     "name": "stdout",
     "output_type": "stream",
     "text": [
      "[INFO] Loading completed\n",
      "[INFO] Running HPO (Optuna)...\n"
     ]
    },
    {
     "name": "stderr",
     "output_type": "stream",
     "text": [
      "/tmp/ipykernel_13/3030925094.py:9: FutureWarning: suggest_loguniform has been deprecated in v3.0.0. This feature will be removed in v6.0.0. See https://github.com/optuna/optuna/releases/tag/v3.0.0. Use suggest_float(..., log=True) instead.\n",
      "  'learning_rate': trial.suggest_loguniform('learning_rate', 1e-4, 1e-1),\n",
      "[I 2025-09-01 18:41:39,291] Trial 0 finished with value: 0.07272485857649946 and parameters: {'learning_rate': 0.0013292918943162175, 'max_bins': 490, 'max_leaves': 48, 'max_rounds': 1217, 'interactions': 1, 'outer_bags': 8, 'inner_bags': 0, 'greedy_ratio': 17.323522915498703}. Best is trial 0 with value: 0.07272485857649946.\n",
      "/tmp/ipykernel_13/3030925094.py:9: FutureWarning: suggest_loguniform has been deprecated in v3.0.0. This feature will be removed in v6.0.0. See https://github.com/optuna/optuna/releases/tag/v3.0.0. Use suggest_float(..., log=True) instead.\n",
      "  'learning_rate': trial.suggest_loguniform('learning_rate', 1e-4, 1e-1),\n",
      "[I 2025-09-01 18:44:39,398] Trial 1 finished with value: 0.0721676331020118 and parameters: {'learning_rate': 0.006358358856676255, 'max_bins': 381, 'max_leaves': 3, 'max_rounds': 1942, 'interactions': 9, 'outer_bags': 10, 'inner_bags': 1, 'greedy_ratio': 3.6680901970686763}. Best is trial 1 with value: 0.0721676331020118.\n",
      "/tmp/ipykernel_13/3030925094.py:9: FutureWarning: suggest_loguniform has been deprecated in v3.0.0. This feature will be removed in v6.0.0. See https://github.com/optuna/optuna/releases/tag/v3.0.0. Use suggest_float(..., log=True) instead.\n",
      "  'learning_rate': trial.suggest_loguniform('learning_rate', 1e-4, 1e-1),\n",
      "[I 2025-09-01 18:47:24,766] Trial 2 finished with value: 0.0771736918468442 and parameters: {'learning_rate': 0.0008179499475211679, 'max_bins': 299, 'max_leaves': 29, 'max_rounds': 618, 'interactions': 6, 'outer_bags': 8, 'inner_bags': 2, 'greedy_ratio': 7.327236865873834}. Best is trial 1 with value: 0.0721676331020118.\n",
      "/tmp/ipykernel_13/3030925094.py:9: FutureWarning: suggest_loguniform has been deprecated in v3.0.0. This feature will be removed in v6.0.0. See https://github.com/optuna/optuna/releases/tag/v3.0.0. Use suggest_float(..., log=True) instead.\n",
      "  'learning_rate': trial.suggest_loguniform('learning_rate', 1e-4, 1e-1),\n",
      "[I 2025-09-01 18:52:22,308] Trial 3 finished with value: 0.07403747582469578 and parameters: {'learning_rate': 0.0023345864076016252, 'max_bins': 416, 'max_leaves': 14, 'max_rounds': 1053, 'interactions': 6, 'outer_bags': 5, 'inner_bags': 5, 'greedy_ratio': 3.4104824737458306}. Best is trial 1 with value: 0.0721676331020118.\n",
      "/tmp/ipykernel_13/3030925094.py:9: FutureWarning: suggest_loguniform has been deprecated in v3.0.0. This feature will be removed in v6.0.0. See https://github.com/optuna/optuna/releases/tag/v3.0.0. Use suggest_float(..., log=True) instead.\n",
      "  'learning_rate': trial.suggest_loguniform('learning_rate', 1e-4, 1e-1),\n",
      "[I 2025-09-01 19:00:51,070] Trial 4 finished with value: 0.09309485078399082 and parameters: {'learning_rate': 0.00015673095467235422, 'max_bins': 490, 'max_leaves': 62, 'max_rounds': 1627, 'interactions': 3, 'outer_bags': 6, 'inner_bags': 6, 'greedy_ratio': 8.803049874792027}. Best is trial 1 with value: 0.0721676331020118.\n",
      "/tmp/ipykernel_13/3030925094.py:9: FutureWarning: suggest_loguniform has been deprecated in v3.0.0. This feature will be removed in v6.0.0. See https://github.com/optuna/optuna/releases/tag/v3.0.0. Use suggest_float(..., log=True) instead.\n",
      "  'learning_rate': trial.suggest_loguniform('learning_rate', 1e-4, 1e-1),\n",
      "[I 2025-09-01 19:13:22,358] Trial 5 finished with value: 0.09395776152113378 and parameters: {'learning_rate': 0.00023233503515390126, 'max_bins': 286, 'max_leaves': 4, 'max_rounds': 1824, 'interactions': 2, 'outer_bags': 23, 'inner_bags': 2, 'greedy_ratio': 10.401360423556216}. Best is trial 1 with value: 0.0721676331020118.\n",
      "/tmp/ipykernel_13/3030925094.py:9: FutureWarning: suggest_loguniform has been deprecated in v3.0.0. This feature will be removed in v6.0.0. See https://github.com/optuna/optuna/releases/tag/v3.0.0. Use suggest_float(..., log=True) instead.\n",
      "  'learning_rate': trial.suggest_loguniform('learning_rate', 1e-4, 1e-1),\n",
      "[I 2025-09-01 19:54:38,461] Trial 6 finished with value: 0.07177660232027994 and parameters: {'learning_rate': 0.004366473592979638, 'max_bins': 146, 'max_leaves': 63, 'max_rounds': 1562, 'interactions': 10, 'outer_bags': 29, 'inner_bags': 5, 'greedy_ratio': 18.437484700462335}. Best is trial 6 with value: 0.07177660232027994.\n",
      "/tmp/ipykernel_13/3030925094.py:9: FutureWarning: suggest_loguniform has been deprecated in v3.0.0. This feature will be removed in v6.0.0. See https://github.com/optuna/optuna/releases/tag/v3.0.0. Use suggest_float(..., log=True) instead.\n",
      "  'learning_rate': trial.suggest_loguniform('learning_rate', 1e-4, 1e-1),\n",
      "[I 2025-09-01 20:01:48,481] Trial 7 finished with value: 0.10427932632130654 and parameters: {'learning_rate': 0.00018427970406864567, 'max_bins': 151, 'max_leaves': 4, 'max_rounds': 684, 'interactions': 4, 'outer_bags': 11, 'inner_bags': 7, 'greedy_ratio': 7.135066533871786}. Best is trial 6 with value: 0.07177660232027994.\n",
      "/tmp/ipykernel_13/3030925094.py:9: FutureWarning: suggest_loguniform has been deprecated in v3.0.0. This feature will be removed in v6.0.0. See https://github.com/optuna/optuna/releases/tag/v3.0.0. Use suggest_float(..., log=True) instead.\n",
      "  'learning_rate': trial.suggest_loguniform('learning_rate', 1e-4, 1e-1),\n",
      "[I 2025-09-01 20:23:05,789] Trial 8 finished with value: 0.07719740882551795 and parameters: {'learning_rate': 0.0006963114377829289, 'max_bins': 307, 'max_leaves': 10, 'max_rounds': 1615, 'interactions': 0, 'outer_bags': 32, 'inner_bags': 6, 'greedy_ratio': 3.974313630683448}. Best is trial 6 with value: 0.07177660232027994.\n",
      "/tmp/ipykernel_13/3030925094.py:9: FutureWarning: suggest_loguniform has been deprecated in v3.0.0. This feature will be removed in v6.0.0. See https://github.com/optuna/optuna/releases/tag/v3.0.0. Use suggest_float(..., log=True) instead.\n",
      "  'learning_rate': trial.suggest_loguniform('learning_rate', 1e-4, 1e-1),\n",
      "[I 2025-09-01 20:30:54,285] Trial 9 finished with value: 0.09516794443450216 and parameters: {'learning_rate': 0.00010388823104027947, 'max_bins': 430, 'max_leaves': 46, 'max_rounds': 1472, 'interactions': 8, 'outer_bags': 6, 'inner_bags': 3, 'greedy_ratio': 2.3173811905025943}. Best is trial 6 with value: 0.07177660232027994.\n",
      "/tmp/ipykernel_13/3030925094.py:9: FutureWarning: suggest_loguniform has been deprecated in v3.0.0. This feature will be removed in v6.0.0. See https://github.com/optuna/optuna/releases/tag/v3.0.0. Use suggest_float(..., log=True) instead.\n",
      "  'learning_rate': trial.suggest_loguniform('learning_rate', 1e-4, 1e-1),\n",
      "[I 2025-09-01 20:33:49,729] Trial 10 finished with value: 0.07251304953139859 and parameters: {'learning_rate': 0.06798074017967529, 'max_bins': 66, 'max_leaves': 63, 'max_rounds': 85, 'interactions': 10, 'outer_bags': 30, 'inner_bags': 8, 'greedy_ratio': 19.535357132894617}. Best is trial 6 with value: 0.07177660232027994.\n",
      "/tmp/ipykernel_13/3030925094.py:9: FutureWarning: suggest_loguniform has been deprecated in v3.0.0. This feature will be removed in v6.0.0. See https://github.com/optuna/optuna/releases/tag/v3.0.0. Use suggest_float(..., log=True) instead.\n",
      "  'learning_rate': trial.suggest_loguniform('learning_rate', 1e-4, 1e-1),\n",
      "[I 2025-09-01 20:35:16,651] Trial 11 finished with value: 0.07125208658103421 and parameters: {'learning_rate': 0.015212160287772085, 'max_bins': 198, 'max_leaves': 24, 'max_rounds': 1895, 'interactions': 10, 'outer_bags': 16, 'inner_bags': 0, 'greedy_ratio': 14.317104413531471}. Best is trial 11 with value: 0.07125208658103421.\n",
      "/tmp/ipykernel_13/3030925094.py:9: FutureWarning: suggest_loguniform has been deprecated in v3.0.0. This feature will be removed in v6.0.0. See https://github.com/optuna/optuna/releases/tag/v3.0.0. Use suggest_float(..., log=True) instead.\n",
      "  'learning_rate': trial.suggest_loguniform('learning_rate', 1e-4, 1e-1),\n",
      "[I 2025-09-01 20:42:08,449] Trial 12 finished with value: 0.07137755604211748 and parameters: {'learning_rate': 0.012150414980645195, 'max_bins': 173, 'max_leaves': 26, 'max_rounds': 1331, 'interactions': 8, 'outer_bags': 18, 'inner_bags': 4, 'greedy_ratio': 14.536734572806093}. Best is trial 11 with value: 0.07125208658103421.\n",
      "/tmp/ipykernel_13/3030925094.py:9: FutureWarning: suggest_loguniform has been deprecated in v3.0.0. This feature will be removed in v6.0.0. See https://github.com/optuna/optuna/releases/tag/v3.0.0. Use suggest_float(..., log=True) instead.\n",
      "  'learning_rate': trial.suggest_loguniform('learning_rate', 1e-4, 1e-1),\n",
      "[I 2025-09-01 20:43:23,150] Trial 13 finished with value: 0.07110313942062574 and parameters: {'learning_rate': 0.01988671777944442, 'max_bins': 188, 'max_leaves': 23, 'max_rounds': 1291, 'interactions': 8, 'outer_bags': 16, 'inner_bags': 0, 'greedy_ratio': 14.109950346148283}. Best is trial 13 with value: 0.07110313942062574.\n",
      "/tmp/ipykernel_13/3030925094.py:9: FutureWarning: suggest_loguniform has been deprecated in v3.0.0. This feature will be removed in v6.0.0. See https://github.com/optuna/optuna/releases/tag/v3.0.0. Use suggest_float(..., log=True) instead.\n",
      "  'learning_rate': trial.suggest_loguniform('learning_rate', 1e-4, 1e-1),\n",
      "[I 2025-09-01 20:44:35,277] Trial 14 finished with value: 0.07083276970648666 and parameters: {'learning_rate': 0.02781961766389436, 'max_bins': 222, 'max_leaves': 21, 'max_rounds': 794, 'interactions': 7, 'outer_bags': 18, 'inner_bags': 0, 'greedy_ratio': 12.951862063104386}. Best is trial 14 with value: 0.07083276970648666.\n",
      "/tmp/ipykernel_13/3030925094.py:9: FutureWarning: suggest_loguniform has been deprecated in v3.0.0. This feature will be removed in v6.0.0. See https://github.com/optuna/optuna/releases/tag/v3.0.0. Use suggest_float(..., log=True) instead.\n",
      "  'learning_rate': trial.suggest_loguniform('learning_rate', 1e-4, 1e-1),\n",
      "[I 2025-09-01 20:46:06,954] Trial 15 finished with value: 0.07521435278583932 and parameters: {'learning_rate': 0.07576910067122855, 'max_bins': 219, 'max_leaves': 38, 'max_rounds': 753, 'interactions': 7, 'outer_bags': 23, 'inner_bags': 1, 'greedy_ratio': 12.629995895602583}. Best is trial 14 with value: 0.07083276970648666.\n",
      "/tmp/ipykernel_13/3030925094.py:9: FutureWarning: suggest_loguniform has been deprecated in v3.0.0. This feature will be removed in v6.0.0. See https://github.com/optuna/optuna/releases/tag/v3.0.0. Use suggest_float(..., log=True) instead.\n",
      "  'learning_rate': trial.suggest_loguniform('learning_rate', 1e-4, 1e-1),\n",
      "[I 2025-09-01 20:46:57,397] Trial 16 finished with value: 0.07112722392626214 and parameters: {'learning_rate': 0.03075647320138443, 'max_bins': 80, 'max_leaves': 18, 'max_rounds': 357, 'interactions': 5, 'outer_bags': 14, 'inner_bags': 0, 'greedy_ratio': 16.050537460165057}. Best is trial 14 with value: 0.07083276970648666.\n",
      "/tmp/ipykernel_13/3030925094.py:9: FutureWarning: suggest_loguniform has been deprecated in v3.0.0. This feature will be removed in v6.0.0. See https://github.com/optuna/optuna/releases/tag/v3.0.0. Use suggest_float(..., log=True) instead.\n",
      "  'learning_rate': trial.suggest_loguniform('learning_rate', 1e-4, 1e-1),\n",
      "[I 2025-09-01 20:48:56,734] Trial 17 finished with value: 0.07141965911965398 and parameters: {'learning_rate': 0.03261137671441207, 'max_bins': 245, 'max_leaves': 37, 'max_rounds': 923, 'interactions': 7, 'outer_bags': 22, 'inner_bags': 2, 'greedy_ratio': 11.992816888392476}. Best is trial 14 with value: 0.07083276970648666.\n",
      "/tmp/ipykernel_13/3030925094.py:9: FutureWarning: suggest_loguniform has been deprecated in v3.0.0. This feature will be removed in v6.0.0. See https://github.com/optuna/optuna/releases/tag/v3.0.0. Use suggest_float(..., log=True) instead.\n",
      "  'learning_rate': trial.suggest_loguniform('learning_rate', 1e-4, 1e-1),\n",
      "[I 2025-09-01 20:50:19,347] Trial 18 finished with value: 0.07111682788642248 and parameters: {'learning_rate': 0.026827642226843643, 'max_bins': 117, 'max_leaves': 21, 'max_rounds': 1073, 'interactions': 8, 'outer_bags': 20, 'inner_bags': 1, 'greedy_ratio': 11.790748997873962}. Best is trial 14 with value: 0.07083276970648666.\n",
      "/tmp/ipykernel_13/3030925094.py:9: FutureWarning: suggest_loguniform has been deprecated in v3.0.0. This feature will be removed in v6.0.0. See https://github.com/optuna/optuna/releases/tag/v3.0.0. Use suggest_float(..., log=True) instead.\n",
      "  'learning_rate': trial.suggest_loguniform('learning_rate', 1e-4, 1e-1),\n",
      "[I 2025-09-01 20:52:31,861] Trial 19 finished with value: 0.07215256131481351 and parameters: {'learning_rate': 0.009851175989628437, 'max_bins': 363, 'max_leaves': 33, 'max_rounds': 517, 'interactions': 5, 'outer_bags': 14, 'inner_bags': 3, 'greedy_ratio': 14.626157090522526}. Best is trial 14 with value: 0.07083276970648666.\n",
      "/tmp/ipykernel_13/3030925094.py:9: FutureWarning: suggest_loguniform has been deprecated in v3.0.0. This feature will be removed in v6.0.0. See https://github.com/optuna/optuna/releases/tag/v3.0.0. Use suggest_float(..., log=True) instead.\n",
      "  'learning_rate': trial.suggest_loguniform('learning_rate', 1e-4, 1e-1),\n",
      "[I 2025-09-01 20:55:17,184] Trial 20 finished with value: 0.07214821468343902 and parameters: {'learning_rate': 0.04478292021337845, 'max_bins': 248, 'max_leaves': 14, 'max_rounds': 832, 'interactions': 7, 'outer_bags': 27, 'inner_bags': 3, 'greedy_ratio': 9.587063547804853}. Best is trial 14 with value: 0.07083276970648666.\n",
      "/tmp/ipykernel_13/3030925094.py:9: FutureWarning: suggest_loguniform has been deprecated in v3.0.0. This feature will be removed in v6.0.0. See https://github.com/optuna/optuna/releases/tag/v3.0.0. Use suggest_float(..., log=True) instead.\n",
      "  'learning_rate': trial.suggest_loguniform('learning_rate', 1e-4, 1e-1),\n",
      "[I 2025-09-01 20:56:41,233] Trial 21 finished with value: 0.07104437439728972 and parameters: {'learning_rate': 0.017188061821021287, 'max_bins': 115, 'max_leaves': 21, 'max_rounds': 1124, 'interactions': 8, 'outer_bags': 20, 'inner_bags': 1, 'greedy_ratio': 13.148257837117818}. Best is trial 14 with value: 0.07083276970648666.\n",
      "/tmp/ipykernel_13/3030925094.py:9: FutureWarning: suggest_loguniform has been deprecated in v3.0.0. This feature will be removed in v6.0.0. See https://github.com/optuna/optuna/releases/tag/v3.0.0. Use suggest_float(..., log=True) instead.\n",
      "  'learning_rate': trial.suggest_loguniform('learning_rate', 1e-4, 1e-1),\n",
      "[I 2025-09-01 20:58:20,030] Trial 22 finished with value: 0.07111868557354217 and parameters: {'learning_rate': 0.01596515722263987, 'max_bins': 114, 'max_leaves': 18, 'max_rounds': 1278, 'interactions': 9, 'outer_bags': 18, 'inner_bags': 0, 'greedy_ratio': 16.388910496207238}. Best is trial 14 with value: 0.07083276970648666.\n",
      "/tmp/ipykernel_13/3030925094.py:9: FutureWarning: suggest_loguniform has been deprecated in v3.0.0. This feature will be removed in v6.0.0. See https://github.com/optuna/optuna/releases/tag/v3.0.0. Use suggest_float(..., log=True) instead.\n",
      "  'learning_rate': trial.suggest_loguniform('learning_rate', 1e-4, 1e-1),\n",
      "[I 2025-09-01 21:00:44,985] Trial 23 finished with value: 0.07166079605670217 and parameters: {'learning_rate': 0.006242883381523234, 'max_bins': 192, 'max_leaves': 30, 'max_rounds': 1148, 'interactions': 6, 'outer_bags': 25, 'inner_bags': 1, 'greedy_ratio': 13.299849294054976}. Best is trial 14 with value: 0.07083276970648666.\n",
      "/tmp/ipykernel_13/3030925094.py:9: FutureWarning: suggest_loguniform has been deprecated in v3.0.0. This feature will be removed in v6.0.0. See https://github.com/optuna/optuna/releases/tag/v3.0.0. Use suggest_float(..., log=True) instead.\n",
      "  'learning_rate': trial.suggest_loguniform('learning_rate', 1e-4, 1e-1),\n",
      "[I 2025-09-01 21:02:03,250] Trial 24 finished with value: 0.07085783529527134 and parameters: {'learning_rate': 0.08993872330278985, 'max_bins': 117, 'max_leaves': 11, 'max_rounds': 914, 'interactions': 9, 'outer_bags': 15, 'inner_bags': 0, 'greedy_ratio': 11.019086611797674}. Best is trial 14 with value: 0.07083276970648666.\n",
      "/tmp/ipykernel_13/3030925094.py:9: FutureWarning: suggest_loguniform has been deprecated in v3.0.0. This feature will be removed in v6.0.0. See https://github.com/optuna/optuna/releases/tag/v3.0.0. Use suggest_float(..., log=True) instead.\n",
      "  'learning_rate': trial.suggest_loguniform('learning_rate', 1e-4, 1e-1),\n",
      "[I 2025-09-01 21:03:35,347] Trial 25 finished with value: 0.07117321507945351 and parameters: {'learning_rate': 0.0995131402823127, 'max_bins': 108, 'max_leaves': 10, 'max_rounds': 918, 'interactions': 9, 'outer_bags': 20, 'inner_bags': 1, 'greedy_ratio': 10.639208064080666}. Best is trial 14 with value: 0.07083276970648666.\n",
      "/tmp/ipykernel_13/3030925094.py:9: FutureWarning: suggest_loguniform has been deprecated in v3.0.0. This feature will be removed in v6.0.0. See https://github.com/optuna/optuna/releases/tag/v3.0.0. Use suggest_float(..., log=True) instead.\n",
      "  'learning_rate': trial.suggest_loguniform('learning_rate', 1e-4, 1e-1),\n",
      "[I 2025-09-01 21:04:53,079] Trial 26 finished with value: 0.07195944849283009 and parameters: {'learning_rate': 0.04709250553630523, 'max_bins': 144, 'max_leaves': 13, 'max_rounds': 441, 'interactions': 9, 'outer_bags': 13, 'inner_bags': 2, 'greedy_ratio': 6.883432409622145}. Best is trial 14 with value: 0.07083276970648666.\n",
      "/tmp/ipykernel_13/3030925094.py:9: FutureWarning: suggest_loguniform has been deprecated in v3.0.0. This feature will be removed in v6.0.0. See https://github.com/optuna/optuna/releases/tag/v3.0.0. Use suggest_float(..., log=True) instead.\n",
      "  'learning_rate': trial.suggest_loguniform('learning_rate', 1e-4, 1e-1),\n",
      "[I 2025-09-01 21:06:29,599] Trial 27 finished with value: 0.07071270636863802 and parameters: {'learning_rate': 0.053837171670457214, 'max_bins': 239, 'max_leaves': 8, 'max_rounds': 908, 'interactions': 7, 'outer_bags': 20, 'inner_bags': 0, 'greedy_ratio': 10.890167671001365}. Best is trial 27 with value: 0.07071270636863802.\n",
      "/tmp/ipykernel_13/3030925094.py:9: FutureWarning: suggest_loguniform has been deprecated in v3.0.0. This feature will be removed in v6.0.0. See https://github.com/optuna/optuna/releases/tag/v3.0.0. Use suggest_float(..., log=True) instead.\n",
      "  'learning_rate': trial.suggest_loguniform('learning_rate', 1e-4, 1e-1),\n",
      "[I 2025-09-01 21:07:28,785] Trial 28 finished with value: 0.07072545772823946 and parameters: {'learning_rate': 0.04572221117183004, 'max_bins': 259, 'max_leaves': 9, 'max_rounds': 220, 'interactions': 4, 'outer_bags': 16, 'inner_bags': 0, 'greedy_ratio': 8.658581250048687}. Best is trial 27 with value: 0.07071270636863802.\n",
      "/tmp/ipykernel_13/3030925094.py:9: FutureWarning: suggest_loguniform has been deprecated in v3.0.0. This feature will be removed in v6.0.0. See https://github.com/optuna/optuna/releases/tag/v3.0.0. Use suggest_float(..., log=True) instead.\n",
      "  'learning_rate': trial.suggest_loguniform('learning_rate', 1e-4, 1e-1),\n",
      "[I 2025-09-01 21:07:55,441] Trial 29 finished with value: 0.07567027924451142 and parameters: {'learning_rate': 0.048011382433027244, 'max_bins': 333, 'max_leaves': 7, 'max_rounds': 61, 'interactions': 4, 'outer_bags': 17, 'inner_bags': 0, 'greedy_ratio': 8.518402889119784}. Best is trial 27 with value: 0.07071270636863802.\n"
     ]
    },
    {
     "name": "stdout",
     "output_type": "stream",
     "text": [
      "[HPO] Best trial: {'learning_rate': 0.053837171670457214, 'max_bins': 239, 'max_leaves': 8, 'max_rounds': 908, 'interactions': 7, 'outer_bags': 20, 'inner_bags': 0, 'greedy_ratio': 10.890167671001365}\n"
     ]
    }
   ],
   "source": [
    "X_all, y = get_adult_data()\n",
    "print('[INFO] Running HPO (Optuna)...')\n",
    "study = run_hpo_ebm_without_dp(X_all, y, n_trials=30, output_dir=output_dir)\n",
    "print('[HPO] Best trial:', study.best_trial.params)"
   ]
  }
 ],
 "metadata": {
  "kaggle": {
   "accelerator": "none",
   "dataSources": [],
   "dockerImageVersionId": 31089,
   "isGpuEnabled": false,
   "isInternetEnabled": true,
   "language": "python",
   "sourceType": "notebook"
  },
  "kernelspec": {
   "display_name": "Python 3",
   "language": "python",
   "name": "python3"
  },
  "language_info": {
   "codemirror_mode": {
    "name": "ipython",
    "version": 3
   },
   "file_extension": ".py",
   "mimetype": "text/x-python",
   "name": "python",
   "nbconvert_exporter": "python",
   "pygments_lexer": "ipython3",
   "version": "3.11.13"
  },
  "papermill": {
   "default_parameters": {},
   "duration": 8937.483457,
   "end_time": "2025-09-01T21:07:58.126188",
   "environment_variables": {},
   "exception": null,
   "input_path": "__notebook__.ipynb",
   "output_path": "__notebook__.ipynb",
   "parameters": {},
   "start_time": "2025-09-01T18:39:00.642731",
   "version": "2.6.0"
  }
 },
 "nbformat": 4,
 "nbformat_minor": 5
}
