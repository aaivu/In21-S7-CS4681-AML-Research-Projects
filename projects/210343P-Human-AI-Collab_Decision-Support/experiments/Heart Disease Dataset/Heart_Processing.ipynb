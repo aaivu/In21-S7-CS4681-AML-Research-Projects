{
 "cells": [
  {
   "cell_type": "code",
   "execution_count": 1,
   "id": "bbd50392",
   "metadata": {},
   "outputs": [],
   "source": [
    "import argparse\n",
    "import os\n",
    "import random\n",
    "import joblib\n",
    "from typing import Tuple, Dict, Any\n",
    "import numpy as np\n",
    "import pandas as pd\n",
    "from sklearn.model_selection import train_test_split, StratifiedKFold\n",
    "from sklearn.preprocessing import StandardScaler, OneHotEncoder, FunctionTransformer\n",
    "from sklearn.compose import ColumnTransformer\n",
    "from sklearn.pipeline import Pipeline\n",
    "from sklearn.metrics import roc_auc_score, f1_score, accuracy_score\n",
    "from sklearn.linear_model import LogisticRegression"
   ]
  },
  {
   "cell_type": "code",
   "execution_count": 2,
   "id": "4cbe76a8",
   "metadata": {},
   "outputs": [
    {
     "name": "stderr",
     "output_type": "stream",
     "text": [
      "c:\\Users\\Isara Liyanage\\AppData\\Local\\Programs\\Python\\Python312\\Lib\\site-packages\\tqdm\\auto.py:21: TqdmWarning: IProgress not found. Please update jupyter and ipywidgets. See https://ipywidgets.readthedocs.io/en/stable/user_install.html\n",
      "  from .autonotebook import tqdm as notebook_tqdm\n"
     ]
    }
   ],
   "source": [
    "# InterpretML\n",
    "from interpret.glassbox import ExplainableBoostingClassifier, ExplainableBoostingRegressor\n",
    "# Optuna for Bayesian-style optimization\n",
    "import optuna\n",
    "\n",
    "# PyTorch for self-supervised pretraining\n",
    "import torch\n",
    "import torch.nn as nn\n",
    "from torch.utils.data import DataLoader, TensorDataset\n"
   ]
  },
  {
   "cell_type": "code",
   "execution_count": 3,
   "id": "9845163b",
   "metadata": {},
   "outputs": [],
   "source": [
    "import matplotlib.pyplot as plt\n",
    "from interpret.glassbox import ExplainableBoostingClassifier\n",
    "from interpret import show\n",
    "from sklearn.metrics import roc_auc_score, f1_score, accuracy_score, confusion_matrix, ConfusionMatrixDisplay"
   ]
  },
  {
   "cell_type": "code",
   "execution_count": 4,
   "id": "c33b0293",
   "metadata": {},
   "outputs": [
    {
     "data": {
      "text/plain": [
       "<torch._C.Generator at 0x1c4cf0d63b0>"
      ]
     },
     "execution_count": 4,
     "metadata": {},
     "output_type": "execute_result"
    }
   ],
   "source": [
    "SEED = 42\n",
    "random.seed(SEED)\n",
    "np.random.seed(SEED)\n",
    "torch.manual_seed(SEED)"
   ]
  },
  {
   "cell_type": "code",
   "execution_count": 5,
   "id": "d0f12788",
   "metadata": {},
   "outputs": [],
   "source": [
    "def equalized_odds_difference(y_true, y_pred_proba, sensitive: np.ndarray, threshold=0.5):\n",
    "    \"\"\"Max absolute difference in TPR and FPR across groups (binary sensitive).\"\"\"\n",
    "    preds = (y_pred_proba >= threshold).astype(int)\n",
    "    groups = np.unique(sensitive)\n",
    "    tprs = []\n",
    "    fprs = []\n",
    "    for g in groups:\n",
    "        mask = (sensitive == g)\n",
    "        if mask.sum() == 0:\n",
    "            tprs.append(0.0)\n",
    "            fprs.append(0.0)\n",
    "            continue\n",
    "        tp = ((y_true == 1) & (preds == 1) & mask).sum()\n",
    "        fn = ((y_true == 1) & (preds == 0) & mask).sum()\n",
    "        fp = ((y_true == 0) & (preds == 1) & mask).sum()\n",
    "        tn = ((y_true == 0) & (preds == 0) & mask).sum()\n",
    "        tprs.append(tp / (tp + fn) if (tp + fn) > 0 else 0.0)\n",
    "        fprs.append(fp / (fp + tn) if (fp + tn) > 0 else 0.0)\n",
    "    # Differences\n",
    "    tpr_diff = abs(tprs[0] - tprs[1]) if len(tprs) >= 2 else 0.0\n",
    "    fpr_diff = abs(fprs[0] - fprs[1]) if len(fprs) >= 2 else 0.0\n",
    "    return max(tpr_diff, fpr_diff)"
   ]
  },
  {
   "cell_type": "code",
   "execution_count": 6,
   "id": "b6150178",
   "metadata": {},
   "outputs": [],
   "source": [
    "def empirical_robustness_noise(model_predict_proba, X, y, noise_std_list=[0.01, 0.05, 0.1]):\n",
    "    \"\"\"Simple robustness: drop in ROC AUC under additive Gaussian noise.\"\"\"\n",
    "    base_auc = roc_auc_score(y, model_predict_proba(X))\n",
    "    results = {'base_auc': base_auc}\n",
    "    for std in noise_std_list:\n",
    "        Xp = X + np.random.normal(0, std, size=X.shape)\n",
    "        auc = roc_auc_score(y, model_predict_proba(Xp))\n",
    "        results[f'auc_noise_{std}'] = auc\n",
    "    return results\n"
   ]
  },
  {
   "cell_type": "code",
   "execution_count": null,
   "id": "800459d5",
   "metadata": {},
   "outputs": [],
   "source": [
    "from typing import Tuple\n",
    "import pandas as pd\n",
    "\n",
    "def load_heart_dataset() -> Tuple[pd.DataFrame, pd.Series]:\n",
    "    \"\"\"\n",
    "    Load the Heart Disease UCI dataset and binarize target.\n",
    "    Source: https://www.kaggle.com/ronitf/heart-disease-uci\n",
    "    \"\"\"\n",
    "    # Load dataset\n",
    "    df = pd.read_csv(\n",
    "        r'.\\data\\heart.csv'\n",
    "    )\n",
    "    \n",
    "    # Features\n",
    "    X = df.drop(columns=['num','id'])\n",
    "    \n",
    "    # Binary labels: 0 stays 0, all others -> 1\n",
    "    y = (df['num'] > 0).astype(int)\n",
    "\n",
    "    return X, y\n"
   ]
  },
  {
   "cell_type": "code",
   "execution_count": 8,
   "id": "ac406851",
   "metadata": {},
   "outputs": [],
   "source": [
    "def build_heart_preprocessor(X: pd.DataFrame):\n",
    "    return FunctionTransformer(lambda x: x)"
   ]
  },
  {
   "cell_type": "code",
   "execution_count": 9,
   "id": "3c95f11b",
   "metadata": {},
   "outputs": [],
   "source": [
    "import numpy as np\n",
    "from sklearn.model_selection import StratifiedShuffleSplit, cross_validate\n",
    "from sklearn.metrics import ConfusionMatrixDisplay\n",
    "import matplotlib.pyplot as plt\n",
    "from interpret.glassbox import ExplainableBoostingClassifier\n",
    "from interpret import show\n",
    "\n",
    "def format_n(x):\n",
    "    return \"{0:.5f}\".format(x)\n",
    "\n",
    "def train_baseline_ebm_with_vis(X, y, params=None):\n",
    "    params = params or {}\n",
    "    model = ExplainableBoostingClassifier(**params)\n",
    "\n",
    "    ss = StratifiedShuffleSplit(n_splits=3, test_size=0.25, random_state=1337)\n",
    "    scores = cross_validate(\n",
    "        model, X, y, scoring='roc_auc', cv=ss,\n",
    "        n_jobs=None, return_estimator=True, return_train_score=False\n",
    "    )\n",
    "\n",
    "    record = dict()\n",
    "    record['fit_time_mean'] = format_n(np.mean(scores['fit_time']))\n",
    "    record['fit_time_std'] = format_n(np.std(scores['fit_time']))\n",
    "    record['test_score_mean'] = format_n(np.mean(scores['test_score']))\n",
    "    record['test_score_std'] = format_n(np.std(scores['test_score']))\n",
    "\n",
    "    # Take the first trained model\n",
    "    trained_model = scores['estimator'][0]\n",
    "\n",
    "    # Get one split\n",
    "    train_idx, test_idx = list(ss.split(X, y))[0]\n",
    "\n",
    "    # Handle pandas vs numpy gracefully\n",
    "    if hasattr(X, \"iloc\"):  # Pandas DataFrame\n",
    "        X_test = X.iloc[test_idx]\n",
    "    else:  # NumPy array\n",
    "        X_test = X[test_idx]\n",
    "\n",
    "    if hasattr(y, \"iloc\"):  # Pandas Series\n",
    "        y_test = y.iloc[test_idx]\n",
    "    else:  # NumPy array\n",
    "        y_test = y[test_idx]\n",
    "\n",
    "    # Confusion matrix\n",
    "    y_pred = trained_model.predict(X_test)\n",
    "    ConfusionMatrixDisplay.from_predictions(y_test, y_pred)\n",
    "    plt.title(\"Confusion Matrix (Validation Split)\")\n",
    "    plt.show()\n",
    "\n",
    "    # InterpretML visualization\n",
    "    ebm_global = trained_model.explain_global()\n",
    "    show(ebm_global)\n",
    "\n",
    "    return trained_model, record\n"
   ]
  },
  {
   "cell_type": "code",
   "execution_count": 10,
   "id": "20bb4d45",
   "metadata": {},
   "outputs": [],
   "source": [
    "class TabularAutoencoder(nn.Module):\n",
    "    def __init__(self, input_dim, latent_dim=32):\n",
    "        super().__init__()\n",
    "        self.encoder = nn.Sequential(\n",
    "            nn.Linear(input_dim, max(64, latent_dim * 4)),\n",
    "            nn.ReLU(),\n",
    "            nn.Linear(max(64, latent_dim * 4), latent_dim),\n",
    "            nn.ReLU()\n",
    "        )\n",
    "        self.decoder = nn.Sequential(\n",
    "            nn.Linear(latent_dim, max(64, latent_dim * 4)),\n",
    "            nn.ReLU(),\n",
    "            nn.Linear(max(64, latent_dim * 4), input_dim)\n",
    "        )\n",
    "\n",
    "    def forward(self, x):\n",
    "        z = self.encoder(x)\n",
    "        recon = self.decoder(z)\n",
    "        return recon, z\n"
   ]
  },
  {
   "cell_type": "code",
   "execution_count": 36,
   "id": "dec6c12f",
   "metadata": {},
   "outputs": [],
   "source": [
    "from sklearn.impute import SimpleImputer\n",
    "\n",
    "def pretrain_autoencoder_get_init_scores(X_unlabeled: np.ndarray, X_small_labeled: np.ndarray, y_small: np.ndarray,\n",
    "                                         device='cpu', epochs=50, batch_size=256, latent_dim=32):\n",
    "    \"\"\"\n",
    "    Train autoencoder on X_unlabeled (self-supervised), then train a small classifier on\n",
    "    the encoder output for the labeled subset to produce init_score probabilities.\n",
    "    Returns init_score for entire dataset (probabilities).\n",
    "    \"\"\"\n",
    "    device = torch.device(device)\n",
    "    X_unlabeled = np.nan_to_num(X_unlabeled, nan=0.0, posinf=0.0, neginf=0.0)\n",
    "    X_small_labeled = np.nan_to_num(X_small_labeled, nan=0.0, posinf=0.0, neginf=0.0)\n",
    "    X_unlabeled_t = torch.from_numpy(X_unlabeled.astype(np.float32))\n",
    "    ds = TensorDataset(X_unlabeled_t)\n",
    "    dl = DataLoader(ds, batch_size=batch_size, shuffle=True)\n",
    "\n",
    "    ae = TabularAutoencoder(input_dim=X_unlabeled.shape[1], latent_dim=latent_dim).to(device)\n",
    "    opt = torch.optim.Adam(ae.parameters(), lr=1e-3)\n",
    "    loss_fn = nn.MSELoss()\n",
    "\n",
    "    for ep in range(epochs):\n",
    "        ae.train()\n",
    "        epoch_loss = 0.0\n",
    "        for (batch,) in dl:\n",
    "            batch = batch.to(device)\n",
    "            recon, _ = ae(batch)\n",
    "            loss = loss_fn(recon, batch)\n",
    "            opt.zero_grad()\n",
    "            loss.backward()\n",
    "            opt.step()\n",
    "            epoch_loss += loss.item() * batch.size(0)\n",
    "    # build encoder outputs for labeled small set\n",
    "    ae.eval()\n",
    "    with torch.no_grad():\n",
    "        Z_small = ae.encoder(torch.from_numpy(X_small_labeled.astype(np.float32)).to(device)).cpu().numpy()\n",
    "        Z_full = ae.encoder(torch.from_numpy(X_unlabeled.astype(np.float32)).to(device)).cpu().numpy()\n",
    "\n",
    "    imputer = SimpleImputer(strategy=\"mean\")\n",
    "    Z_small = imputer.fit_transform(Z_small)\n",
    "    Z_full = imputer.transform(Z_full)\n",
    "   \n",
    "\n",
    "\n",
    "    # train logistic regression on Z_small -> produce probabilities for full set as init_score\n",
    "    clf = LogisticRegression(max_iter=1000)\n",
    "    clf.fit(Z_small, y_small)\n",
    "    init_scores = clf.predict_proba(Z_full)[:, 1]\n",
    "    return init_scores, ae, clf"
   ]
  },
  {
   "cell_type": "code",
   "execution_count": 12,
   "id": "69511571",
   "metadata": {},
   "outputs": [],
   "source": [
    "output_dir='out_M_Preprocessing_Heart'\n",
    "dataset='heart'"
   ]
  },
  {
   "cell_type": "code",
   "execution_count": 13,
   "id": "41a4d9d5",
   "metadata": {},
   "outputs": [],
   "source": [
    "DATASET_LOADERS = {\n",
    "    'heart': load_heart_dataset,\n",
    "}\n"
   ]
  },
  {
   "cell_type": "code",
   "execution_count": 14,
   "id": "66ab22df",
   "metadata": {},
   "outputs": [],
   "source": [
    "def get_heart_data():\n",
    "    os.makedirs(output_dir, exist_ok=True)\n",
    "    print(f'[INFO] Loading {dataset} dataset ...')\n",
    "    X_df, y = DATASET_LOADERS[dataset]()\n",
    "    preproc = build_heart_preprocessor(X_df)\n",
    "    X_all = preproc.fit_transform(X_df)\n",
    "    y = np.asarray(y, dtype=int)\n",
    "    print(\"[INFO] Loading completed\")\n",
    "\n",
    "    return X_all,y"
   ]
  },
  {
   "cell_type": "code",
   "execution_count": 37,
   "id": "0906ae21",
   "metadata": {},
   "outputs": [
    {
     "name": "stdout",
     "output_type": "stream",
     "text": [
      "[INFO] Training baseline EBM (default params)...\n",
      "[INFO] Loading heart dataset ...\n",
      "[INFO] Loading completed\n"
     ]
    },
    {
     "name": "stderr",
     "output_type": "stream",
     "text": [
      "c:\\Users\\Isara Liyanage\\AppData\\Local\\Programs\\Python\\Python312\\Lib\\site-packages\\interpret\\glassbox\\_ebm\\_ebm.py:869: UserWarning:\n",
      "\n",
      "Missing values detected. Our visualizations do not currently display missing values. To retain the glassbox nature of the model you need to either set the missing values to an extreme value like -1000 that will be visible on the graphs, or manually examine the missing value score in ebm.term_scores_[term_index][0]\n",
      "\n",
      "c:\\Users\\Isara Liyanage\\AppData\\Local\\Programs\\Python\\Python312\\Lib\\site-packages\\interpret\\glassbox\\_ebm\\_ebm.py:1244: UserWarning:\n",
      "\n",
      "For multiclass we cannot currently visualize pairs and they will be stripped from the global explanations. Set interactions=0 to generate a fully interpretable glassbox model.\n",
      "\n",
      "c:\\Users\\Isara Liyanage\\AppData\\Local\\Programs\\Python\\Python312\\Lib\\site-packages\\interpret\\glassbox\\_ebm\\_ebm.py:869: UserWarning:\n",
      "\n",
      "Missing values detected. Our visualizations do not currently display missing values. To retain the glassbox nature of the model you need to either set the missing values to an extreme value like -1000 that will be visible on the graphs, or manually examine the missing value score in ebm.term_scores_[term_index][0]\n",
      "\n",
      "c:\\Users\\Isara Liyanage\\AppData\\Local\\Programs\\Python\\Python312\\Lib\\site-packages\\interpret\\glassbox\\_ebm\\_ebm.py:1244: UserWarning:\n",
      "\n",
      "For multiclass we cannot currently visualize pairs and they will be stripped from the global explanations. Set interactions=0 to generate a fully interpretable glassbox model.\n",
      "\n",
      "c:\\Users\\Isara Liyanage\\AppData\\Local\\Programs\\Python\\Python312\\Lib\\site-packages\\interpret\\glassbox\\_ebm\\_ebm.py:869: UserWarning:\n",
      "\n",
      "Missing values detected. Our visualizations do not currently display missing values. To retain the glassbox nature of the model you need to either set the missing values to an extreme value like -1000 that will be visible on the graphs, or manually examine the missing value score in ebm.term_scores_[term_index][0]\n",
      "\n",
      "c:\\Users\\Isara Liyanage\\AppData\\Local\\Programs\\Python\\Python312\\Lib\\site-packages\\interpret\\glassbox\\_ebm\\_ebm.py:1244: UserWarning:\n",
      "\n",
      "For multiclass we cannot currently visualize pairs and they will be stripped from the global explanations. Set interactions=0 to generate a fully interpretable glassbox model.\n",
      "\n"
     ]
    },
    {
     "data": {
      "image/png": "[encoded data removed]",
      "text/plain": [
       "<Figure size 640x480 with 2 Axes>"
      ]
     },
     "metadata": {},
     "output_type": "display_data"
    },
    {
     "name": "stderr",
     "output_type": "stream",
     "text": [
      "c:\\Users\\Isara Liyanage\\AppData\\Local\\Programs\\Python\\Python312\\Lib\\site-packages\\interpret\\glassbox\\_ebm\\_ebm.py:2238: UserWarning:\n",
      "\n",
      "Dropping term id & age from explanation since we can't graph multinomial interactions.\n",
      "\n",
      "c:\\Users\\Isara Liyanage\\AppData\\Local\\Programs\\Python\\Python312\\Lib\\site-packages\\interpret\\glassbox\\_ebm\\_ebm.py:2238: UserWarning:\n",
      "\n",
      "Dropping term id & sex from explanation since we can't graph multinomial interactions.\n",
      "\n",
      "c:\\Users\\Isara Liyanage\\AppData\\Local\\Programs\\Python\\Python312\\Lib\\site-packages\\interpret\\glassbox\\_ebm\\_ebm.py:2238: UserWarning:\n",
      "\n",
      "Dropping term id & trestbps from explanation since we can't graph multinomial interactions.\n",
      "\n",
      "c:\\Users\\Isara Liyanage\\AppData\\Local\\Programs\\Python\\Python312\\Lib\\site-packages\\interpret\\glassbox\\_ebm\\_ebm.py:2238: UserWarning:\n",
      "\n",
      "Dropping term id & chol from explanation since we can't graph multinomial interactions.\n",
      "\n",
      "c:\\Users\\Isara Liyanage\\AppData\\Local\\Programs\\Python\\Python312\\Lib\\site-packages\\interpret\\glassbox\\_ebm\\_ebm.py:2238: UserWarning:\n",
      "\n",
      "Dropping term id & fbs from explanation since we can't graph multinomial interactions.\n",
      "\n",
      "c:\\Users\\Isara Liyanage\\AppData\\Local\\Programs\\Python\\Python312\\Lib\\site-packages\\interpret\\glassbox\\_ebm\\_ebm.py:2238: UserWarning:\n",
      "\n",
      "Dropping term id & restecg from explanation since we can't graph multinomial interactions.\n",
      "\n",
      "c:\\Users\\Isara Liyanage\\AppData\\Local\\Programs\\Python\\Python312\\Lib\\site-packages\\interpret\\glassbox\\_ebm\\_ebm.py:2238: UserWarning:\n",
      "\n",
      "Dropping term id & thalch from explanation since we can't graph multinomial interactions.\n",
      "\n",
      "c:\\Users\\Isara Liyanage\\AppData\\Local\\Programs\\Python\\Python312\\Lib\\site-packages\\interpret\\glassbox\\_ebm\\_ebm.py:2238: UserWarning:\n",
      "\n",
      "Dropping term id & oldpeak from explanation since we can't graph multinomial interactions.\n",
      "\n",
      "c:\\Users\\Isara Liyanage\\AppData\\Local\\Programs\\Python\\Python312\\Lib\\site-packages\\interpret\\glassbox\\_ebm\\_ebm.py:2238: UserWarning:\n",
      "\n",
      "Dropping term id & slope from explanation since we can't graph multinomial interactions.\n",
      "\n",
      "c:\\Users\\Isara Liyanage\\AppData\\Local\\Programs\\Python\\Python312\\Lib\\site-packages\\interpret\\glassbox\\_ebm\\_ebm.py:2238: UserWarning:\n",
      "\n",
      "Dropping term id & ca from explanation since we can't graph multinomial interactions.\n",
      "\n",
      "c:\\Users\\Isara Liyanage\\AppData\\Local\\Programs\\Python\\Python312\\Lib\\site-packages\\interpret\\glassbox\\_ebm\\_ebm.py:2238: UserWarning:\n",
      "\n",
      "Dropping term id & thal from explanation since we can't graph multinomial interactions.\n",
      "\n",
      "c:\\Users\\Isara Liyanage\\AppData\\Local\\Programs\\Python\\Python312\\Lib\\site-packages\\interpret\\glassbox\\_ebm\\_ebm.py:2238: UserWarning:\n",
      "\n",
      "Dropping term age & dataset from explanation since we can't graph multinomial interactions.\n",
      "\n",
      "c:\\Users\\Isara Liyanage\\AppData\\Local\\Programs\\Python\\Python312\\Lib\\site-packages\\interpret\\glassbox\\_ebm\\_ebm.py:2238: UserWarning:\n",
      "\n",
      "Dropping term age & trestbps from explanation since we can't graph multinomial interactions.\n",
      "\n",
      "c:\\Users\\Isara Liyanage\\AppData\\Local\\Programs\\Python\\Python312\\Lib\\site-packages\\interpret\\glassbox\\_ebm\\_ebm.py:2238: UserWarning:\n",
      "\n",
      "Dropping term age & chol from explanation since we can't graph multinomial interactions.\n",
      "\n",
      "c:\\Users\\Isara Liyanage\\AppData\\Local\\Programs\\Python\\Python312\\Lib\\site-packages\\interpret\\glassbox\\_ebm\\_ebm.py:2238: UserWarning:\n",
      "\n",
      "Dropping term age & fbs from explanation since we can't graph multinomial interactions.\n",
      "\n",
      "c:\\Users\\Isara Liyanage\\AppData\\Local\\Programs\\Python\\Python312\\Lib\\site-packages\\interpret\\glassbox\\_ebm\\_ebm.py:2238: UserWarning:\n",
      "\n",
      "Dropping term age & restecg from explanation since we can't graph multinomial interactions.\n",
      "\n",
      "c:\\Users\\Isara Liyanage\\AppData\\Local\\Programs\\Python\\Python312\\Lib\\site-packages\\interpret\\glassbox\\_ebm\\_ebm.py:2238: UserWarning:\n",
      "\n",
      "Dropping term age & thalch from explanation since we can't graph multinomial interactions.\n",
      "\n",
      "c:\\Users\\Isara Liyanage\\AppData\\Local\\Programs\\Python\\Python312\\Lib\\site-packages\\interpret\\glassbox\\_ebm\\_ebm.py:2238: UserWarning:\n",
      "\n",
      "Dropping term age & oldpeak from explanation since we can't graph multinomial interactions.\n",
      "\n",
      "c:\\Users\\Isara Liyanage\\AppData\\Local\\Programs\\Python\\Python312\\Lib\\site-packages\\interpret\\glassbox\\_ebm\\_ebm.py:2238: UserWarning:\n",
      "\n",
      "Dropping term age & ca from explanation since we can't graph multinomial interactions.\n",
      "\n",
      "c:\\Users\\Isara Liyanage\\AppData\\Local\\Programs\\Python\\Python312\\Lib\\site-packages\\interpret\\glassbox\\_ebm\\_ebm.py:2238: UserWarning:\n",
      "\n",
      "Dropping term sex & ca from explanation since we can't graph multinomial interactions.\n",
      "\n",
      "c:\\Users\\Isara Liyanage\\AppData\\Local\\Programs\\Python\\Python312\\Lib\\site-packages\\interpret\\glassbox\\_ebm\\_ebm.py:2238: UserWarning:\n",
      "\n",
      "Dropping term dataset & chol from explanation since we can't graph multinomial interactions.\n",
      "\n",
      "c:\\Users\\Isara Liyanage\\AppData\\Local\\Programs\\Python\\Python312\\Lib\\site-packages\\interpret\\glassbox\\_ebm\\_ebm.py:2238: UserWarning:\n",
      "\n",
      "Dropping term dataset & thalch from explanation since we can't graph multinomial interactions.\n",
      "\n",
      "c:\\Users\\Isara Liyanage\\AppData\\Local\\Programs\\Python\\Python312\\Lib\\site-packages\\interpret\\glassbox\\_ebm\\_ebm.py:2238: UserWarning:\n",
      "\n",
      "Dropping term dataset & oldpeak from explanation since we can't graph multinomial interactions.\n",
      "\n",
      "c:\\Users\\Isara Liyanage\\AppData\\Local\\Programs\\Python\\Python312\\Lib\\site-packages\\interpret\\glassbox\\_ebm\\_ebm.py:2238: UserWarning:\n",
      "\n",
      "Dropping term cp & chol from explanation since we can't graph multinomial interactions.\n",
      "\n",
      "c:\\Users\\Isara Liyanage\\AppData\\Local\\Programs\\Python\\Python312\\Lib\\site-packages\\interpret\\glassbox\\_ebm\\_ebm.py:2238: UserWarning:\n",
      "\n",
      "Dropping term cp & restecg from explanation since we can't graph multinomial interactions.\n",
      "\n",
      "c:\\Users\\Isara Liyanage\\AppData\\Local\\Programs\\Python\\Python312\\Lib\\site-packages\\interpret\\glassbox\\_ebm\\_ebm.py:2238: UserWarning:\n",
      "\n",
      "Dropping term cp & thalch from explanation since we can't graph multinomial interactions.\n",
      "\n",
      "c:\\Users\\Isara Liyanage\\AppData\\Local\\Programs\\Python\\Python312\\Lib\\site-packages\\interpret\\glassbox\\_ebm\\_ebm.py:2238: UserWarning:\n",
      "\n",
      "Dropping term trestbps & chol from explanation since we can't graph multinomial interactions.\n",
      "\n",
      "c:\\Users\\Isara Liyanage\\AppData\\Local\\Programs\\Python\\Python312\\Lib\\site-packages\\interpret\\glassbox\\_ebm\\_ebm.py:2238: UserWarning:\n",
      "\n",
      "Dropping term trestbps & thalch from explanation since we can't graph multinomial interactions.\n",
      "\n",
      "c:\\Users\\Isara Liyanage\\AppData\\Local\\Programs\\Python\\Python312\\Lib\\site-packages\\interpret\\glassbox\\_ebm\\_ebm.py:2238: UserWarning:\n",
      "\n",
      "Dropping term trestbps & oldpeak from explanation since we can't graph multinomial interactions.\n",
      "\n",
      "c:\\Users\\Isara Liyanage\\AppData\\Local\\Programs\\Python\\Python312\\Lib\\site-packages\\interpret\\glassbox\\_ebm\\_ebm.py:2238: UserWarning:\n",
      "\n",
      "Dropping term trestbps & ca from explanation since we can't graph multinomial interactions.\n",
      "\n",
      "c:\\Users\\Isara Liyanage\\AppData\\Local\\Programs\\Python\\Python312\\Lib\\site-packages\\interpret\\glassbox\\_ebm\\_ebm.py:2238: UserWarning:\n",
      "\n",
      "Dropping term chol & fbs from explanation since we can't graph multinomial interactions.\n",
      "\n",
      "c:\\Users\\Isara Liyanage\\AppData\\Local\\Programs\\Python\\Python312\\Lib\\site-packages\\interpret\\glassbox\\_ebm\\_ebm.py:2238: UserWarning:\n",
      "\n",
      "Dropping term chol & restecg from explanation since we can't graph multinomial interactions.\n",
      "\n",
      "c:\\Users\\Isara Liyanage\\AppData\\Local\\Programs\\Python\\Python312\\Lib\\site-packages\\interpret\\glassbox\\_ebm\\_ebm.py:2238: UserWarning:\n",
      "\n",
      "Dropping term chol & thalch from explanation since we can't graph multinomial interactions.\n",
      "\n",
      "c:\\Users\\Isara Liyanage\\AppData\\Local\\Programs\\Python\\Python312\\Lib\\site-packages\\interpret\\glassbox\\_ebm\\_ebm.py:2238: UserWarning:\n",
      "\n",
      "Dropping term chol & exang from explanation since we can't graph multinomial interactions.\n",
      "\n",
      "c:\\Users\\Isara Liyanage\\AppData\\Local\\Programs\\Python\\Python312\\Lib\\site-packages\\interpret\\glassbox\\_ebm\\_ebm.py:2238: UserWarning:\n",
      "\n",
      "Dropping term chol & oldpeak from explanation since we can't graph multinomial interactions.\n",
      "\n",
      "c:\\Users\\Isara Liyanage\\AppData\\Local\\Programs\\Python\\Python312\\Lib\\site-packages\\interpret\\glassbox\\_ebm\\_ebm.py:2238: UserWarning:\n",
      "\n",
      "Dropping term chol & slope from explanation since we can't graph multinomial interactions.\n",
      "\n",
      "c:\\Users\\Isara Liyanage\\AppData\\Local\\Programs\\Python\\Python312\\Lib\\site-packages\\interpret\\glassbox\\_ebm\\_ebm.py:2238: UserWarning:\n",
      "\n",
      "Dropping term chol & ca from explanation since we can't graph multinomial interactions.\n",
      "\n",
      "c:\\Users\\Isara Liyanage\\AppData\\Local\\Programs\\Python\\Python312\\Lib\\site-packages\\interpret\\glassbox\\_ebm\\_ebm.py:2238: UserWarning:\n",
      "\n",
      "Dropping term chol & thal from explanation since we can't graph multinomial interactions.\n",
      "\n",
      "c:\\Users\\Isara Liyanage\\AppData\\Local\\Programs\\Python\\Python312\\Lib\\site-packages\\interpret\\glassbox\\_ebm\\_ebm.py:2238: UserWarning:\n",
      "\n",
      "Dropping term fbs & oldpeak from explanation since we can't graph multinomial interactions.\n",
      "\n",
      "c:\\Users\\Isara Liyanage\\AppData\\Local\\Programs\\Python\\Python312\\Lib\\site-packages\\interpret\\glassbox\\_ebm\\_ebm.py:2238: UserWarning:\n",
      "\n",
      "Dropping term thalch & oldpeak from explanation since we can't graph multinomial interactions.\n",
      "\n",
      "c:\\Users\\Isara Liyanage\\AppData\\Local\\Programs\\Python\\Python312\\Lib\\site-packages\\interpret\\glassbox\\_ebm\\_ebm.py:2238: UserWarning:\n",
      "\n",
      "Dropping term thalch & ca from explanation since we can't graph multinomial interactions.\n",
      "\n",
      "c:\\Users\\Isara Liyanage\\AppData\\Local\\Programs\\Python\\Python312\\Lib\\site-packages\\interpret\\glassbox\\_ebm\\_ebm.py:2238: UserWarning:\n",
      "\n",
      "Dropping term thalch & thal from explanation since we can't graph multinomial interactions.\n",
      "\n",
      "c:\\Users\\Isara Liyanage\\AppData\\Local\\Programs\\Python\\Python312\\Lib\\site-packages\\interpret\\glassbox\\_ebm\\_ebm.py:2238: UserWarning:\n",
      "\n",
      "Dropping term oldpeak & slope from explanation since we can't graph multinomial interactions.\n",
      "\n",
      "c:\\Users\\Isara Liyanage\\AppData\\Local\\Programs\\Python\\Python312\\Lib\\site-packages\\interpret\\glassbox\\_ebm\\_ebm.py:2238: UserWarning:\n",
      "\n",
      "Dropping term oldpeak & ca from explanation since we can't graph multinomial interactions.\n",
      "\n",
      "c:\\Users\\Isara Liyanage\\AppData\\Local\\Programs\\Python\\Python312\\Lib\\site-packages\\interpret\\glassbox\\_ebm\\_ebm.py:2238: UserWarning:\n",
      "\n",
      "Dropping term oldpeak & thal from explanation since we can't graph multinomial interactions.\n",
      "\n"
     ]
    },
    {
     "data": {
      "text/html": [
       "<!-- http://127.0.0.1:7001/2785519380928/ -->\n",
       "<iframe src=\"http://127.0.0.1:7001/2785519380928/\" width=100% height=800 frameBorder=\"0\"></iframe>"
      ]
     },
     "metadata": {},
     "output_type": "display_data"
    },
    {
     "name": "stdout",
     "output_type": "stream",
     "text": [
      "[BASELINE] {'fit_time_mean': '58.56750', 'fit_time_std': '3.75265', 'test_score_mean': '0.81255', 'test_score_std': '0.00191'}\n"
     ]
    },
    {
     "data": {
      "text/plain": [
       "['out_M_Preprocessing_Heart\\\\ebm_baseline.pkl']"
      ]
     },
     "execution_count": 37,
     "metadata": {},
     "output_type": "execute_result"
    }
   ],
   "source": [
    "# Baseline EBM\n",
    "print('[INFO] Training baseline EBM (default params)...')\n",
    "ebm_params = {\"random_state\": 1337, \"n_jobs\": -1}\n",
    "X_all, y = get_heart_data()\n",
    "ebm, record = train_baseline_ebm_with_vis(X_all, y, params=ebm_params)\n",
    "\n",
    "print('[BASELINE]', record)\n",
    "\n",
    "joblib.dump(ebm, os.path.join(output_dir, 'ebm_baseline.pkl'))\n"
   ]
  },
  {
   "cell_type": "code",
   "execution_count": 71,
   "id": "1e518a0c",
   "metadata": {},
   "outputs": [
    {
     "name": "stdout",
     "output_type": "stream",
     "text": [
      "[INFO] Training baseline EBM (default params)...\n",
      "[INFO] Loading heart dataset ...\n",
      "[INFO] Loading completed\n"
     ]
    },
    {
     "name": "stderr",
     "output_type": "stream",
     "text": [
      "c:\\Users\\Isara Liyanage\\AppData\\Local\\Programs\\Python\\Python312\\Lib\\site-packages\\interpret\\glassbox\\_ebm\\_ebm.py:869: UserWarning:\n",
      "\n",
      "Missing values detected. Our visualizations do not currently display missing values. To retain the glassbox nature of the model you need to either set the missing values to an extreme value like -1000 that will be visible on the graphs, or manually examine the missing value score in ebm.term_scores_[term_index][0]\n",
      "\n",
      "c:\\Users\\Isara Liyanage\\AppData\\Local\\Programs\\Python\\Python312\\Lib\\site-packages\\interpret\\glassbox\\_ebm\\_ebm.py:869: UserWarning:\n",
      "\n",
      "Missing values detected. Our visualizations do not currently display missing values. To retain the glassbox nature of the model you need to either set the missing values to an extreme value like -1000 that will be visible on the graphs, or manually examine the missing value score in ebm.term_scores_[term_index][0]\n",
      "\n",
      "c:\\Users\\Isara Liyanage\\AppData\\Local\\Programs\\Python\\Python312\\Lib\\site-packages\\interpret\\glassbox\\_ebm\\_ebm.py:869: UserWarning:\n",
      "\n",
      "Missing values detected. Our visualizations do not currently display missing values. To retain the glassbox nature of the model you need to either set the missing values to an extreme value like -1000 that will be visible on the graphs, or manually examine the missing value score in ebm.term_scores_[term_index][0]\n",
      "\n"
     ]
    },
    {
     "data": {
      "image/png": "[encoded data removed]",
      "text/plain": [
       "<Figure size 640x480 with 2 Axes>"
      ]
     },
     "metadata": {},
     "output_type": "display_data"
    },
    {
     "data": {
      "text/html": [
       "<!-- http://127.0.0.1:7001/2785519489328/ -->\n",
       "<iframe src=\"http://127.0.0.1:7001/2785519489328/\" width=100% height=800 frameBorder=\"0\"></iframe>"
      ]
     },
     "metadata": {},
     "output_type": "display_data"
    },
    {
     "name": "stdout",
     "output_type": "stream",
     "text": [
      "[BASELINE] {'fit_time_mean': '22.20337', 'fit_time_std': '1.20841', 'test_score_mean': '0.88706', 'test_score_std': '0.01107'}\n"
     ]
    },
    {
     "data": {
      "text/plain": [
       "['out_M_Preprocessing_Heart\\\\ebm_baseline.pkl']"
      ]
     },
     "execution_count": 71,
     "metadata": {},
     "output_type": "execute_result"
    }
   ],
   "source": [
    "# Baseline EBM\n",
    "print('[INFO] Training baseline EBM (default params)...')\n",
    "ebm_params = {\"random_state\": 1337, \"n_jobs\": -1}\n",
    "X_all, y = get_heart_data()\n",
    "ebm, record = train_baseline_ebm_with_vis(X_all, y, params=ebm_params)\n",
    "\n",
    "print('[BASELINE]', record)\n",
    "\n",
    "joblib.dump(ebm, os.path.join(output_dir, 'ebm_baseline.pkl'))"
   ]
  },
  {
   "cell_type": "code",
   "execution_count": 72,
   "id": "df051f67",
   "metadata": {},
   "outputs": [],
   "source": [
    "from sklearn.model_selection import StratifiedKFold, cross_val_score\n",
    "\n",
    "def run_hpo_ebm_without_dp(X_train, y_train, n_trials=40, timeout=None, output_dir='hpo'):\n",
    "    os.makedirs(output_dir, exist_ok=True)\n",
    "\n",
    "    def objective(trial):\n",
    "        # sample hyperparams\n",
    "        params = {\n",
    "            'learning_rate': trial.suggest_loguniform('learning_rate', 1e-4, 1e-1),\n",
    "            'max_bins': trial.suggest_int('max_bins', 64, 512),\n",
    "            'max_leaves': trial.suggest_int('max_leaves', 2, 64),\n",
    "            'max_rounds': trial.suggest_int('max_rounds', 50, 2000),\n",
    "            'interactions': trial.suggest_int('interactions', 0, 10),\n",
    "            'outer_bags': trial.suggest_int('outer_bags', 4, 32),\n",
    "            'inner_bags': trial.suggest_int('inner_bags', 0, 8),\n",
    "            # greedy ratio can be tuned too\n",
    "            'greedy_ratio': trial.suggest_float('greedy_ratio', 0.0, 20.0),\n",
    "        }\n",
    "      \n",
    "\n",
    "        model = ExplainableBoostingClassifier(**params)\n",
    "        #model.fit(X_train, y_train)\n",
    "        cv = StratifiedKFold(n_splits=5, shuffle=True, random_state=SEED)\n",
    "        roc = cross_val_score(model, X_train, y_train, cv=cv, scoring=\"roc_auc\").mean()\n",
    "      \n",
    "        objective_value = (1.0 - roc) \n",
    "\n",
    "        # store additional info as trial user attributes\n",
    "        trial.set_user_attr('roc_auc', roc)\n",
    "       \n",
    "        trial.set_user_attr('params', params)\n",
    "        return objective_value\n",
    "\n",
    "    study = optuna.create_study(direction='minimize', sampler=optuna.samplers.TPESampler(seed=SEED))\n",
    "    study.optimize(objective, n_trials=n_trials, timeout=timeout)\n",
    "    # persist study\n",
    "    joblib.dump(study, os.path.join(output_dir, 'optuna_study_without_dp.pkl'))\n",
    "    return study\n"
   ]
  },
  {
   "cell_type": "code",
   "execution_count": 73,
   "id": "4a55ca97",
   "metadata": {},
   "outputs": [
    {
     "name": "stderr",
     "output_type": "stream",
     "text": [
      "[I 2025-09-04 23:25:47,865] A new study created in memory with name: no-name-311befb2-fd00-47ae-b38a-69bc0eb09864\n"
     ]
    },
    {
     "name": "stdout",
     "output_type": "stream",
     "text": [
      "[INFO] Running HPO (Optuna)...\n"
     ]
    },
    {
     "name": "stderr",
     "output_type": "stream",
     "text": [
      "C:\\Users\\Isara Liyanage\\AppData\\Local\\Temp\\ipykernel_22040\\3030925094.py:9: FutureWarning:\n",
      "\n",
      "suggest_loguniform has been deprecated in v3.0.0. This feature will be removed in v6.0.0. See https://github.com/optuna/optuna/releases/tag/v3.0.0. Use suggest_float(..., log=True) instead.\n",
      "\n",
      "c:\\Users\\Isara Liyanage\\AppData\\Local\\Programs\\Python\\Python312\\Lib\\site-packages\\interpret\\glassbox\\_ebm\\_ebm.py:869: UserWarning:\n",
      "\n",
      "Missing values detected. Our visualizations do not currently display missing values. To retain the glassbox nature of the model you need to either set the missing values to an extreme value like -1000 that will be visible on the graphs, or manually examine the missing value score in ebm.term_scores_[term_index][0]\n",
      "\n",
      "c:\\Users\\Isara Liyanage\\AppData\\Local\\Programs\\Python\\Python312\\Lib\\site-packages\\interpret\\glassbox\\_ebm\\_ebm.py:869: UserWarning:\n",
      "\n",
      "Missing values detected. Our visualizations do not currently display missing values. To retain the glassbox nature of the model you need to either set the missing values to an extreme value like -1000 that will be visible on the graphs, or manually examine the missing value score in ebm.term_scores_[term_index][0]\n",
      "\n",
      "c:\\Users\\Isara Liyanage\\AppData\\Local\\Programs\\Python\\Python312\\Lib\\site-packages\\interpret\\glassbox\\_ebm\\_ebm.py:869: UserWarning:\n",
      "\n",
      "Missing values detected. Our visualizations do not currently display missing values. To retain the glassbox nature of the model you need to either set the missing values to an extreme value like -1000 that will be visible on the graphs, or manually examine the missing value score in ebm.term_scores_[term_index][0]\n",
      "\n",
      "c:\\Users\\Isara Liyanage\\AppData\\Local\\Programs\\Python\\Python312\\Lib\\site-packages\\interpret\\glassbox\\_ebm\\_ebm.py:869: UserWarning:\n",
      "\n",
      "Missing values detected. Our visualizations do not currently display missing values. To retain the glassbox nature of the model you need to either set the missing values to an extreme value like -1000 that will be visible on the graphs, or manually examine the missing value score in ebm.term_scores_[term_index][0]\n",
      "\n",
      "c:\\Users\\Isara Liyanage\\AppData\\Local\\Programs\\Python\\Python312\\Lib\\site-packages\\interpret\\glassbox\\_ebm\\_ebm.py:869: UserWarning:\n",
      "\n",
      "Missing values detected. Our visualizations do not currently display missing values. To retain the glassbox nature of the model you need to either set the missing values to an extreme value like -1000 that will be visible on the graphs, or manually examine the missing value score in ebm.term_scores_[term_index][0]\n",
      "\n",
      "[I 2025-09-04 23:26:12,578] Trial 0 finished with value: 0.11021738558706606 and parameters: {'learning_rate': 0.0013292918943162175, 'max_bins': 490, 'max_leaves': 48, 'max_rounds': 1217, 'interactions': 1, 'outer_bags': 8, 'inner_bags': 0, 'greedy_ratio': 17.323522915498703}. Best is trial 0 with value: 0.11021738558706606.\n",
      "C:\\Users\\Isara Liyanage\\AppData\\Local\\Temp\\ipykernel_22040\\3030925094.py:9: FutureWarning:\n",
      "\n",
      "suggest_loguniform has been deprecated in v3.0.0. This feature will be removed in v6.0.0. See https://github.com/optuna/optuna/releases/tag/v3.0.0. Use suggest_float(..., log=True) instead.\n",
      "\n",
      "c:\\Users\\Isara Liyanage\\AppData\\Local\\Programs\\Python\\Python312\\Lib\\site-packages\\interpret\\glassbox\\_ebm\\_ebm.py:869: UserWarning:\n",
      "\n",
      "Missing values detected. Our visualizations do not currently display missing values. To retain the glassbox nature of the model you need to either set the missing values to an extreme value like -1000 that will be visible on the graphs, or manually examine the missing value score in ebm.term_scores_[term_index][0]\n",
      "\n",
      "c:\\Users\\Isara Liyanage\\AppData\\Local\\Programs\\Python\\Python312\\Lib\\site-packages\\interpret\\glassbox\\_ebm\\_ebm.py:869: UserWarning:\n",
      "\n",
      "Missing values detected. Our visualizations do not currently display missing values. To retain the glassbox nature of the model you need to either set the missing values to an extreme value like -1000 that will be visible on the graphs, or manually examine the missing value score in ebm.term_scores_[term_index][0]\n",
      "\n",
      "c:\\Users\\Isara Liyanage\\AppData\\Local\\Programs\\Python\\Python312\\Lib\\site-packages\\interpret\\glassbox\\_ebm\\_ebm.py:869: UserWarning:\n",
      "\n",
      "Missing values detected. Our visualizations do not currently display missing values. To retain the glassbox nature of the model you need to either set the missing values to an extreme value like -1000 that will be visible on the graphs, or manually examine the missing value score in ebm.term_scores_[term_index][0]\n",
      "\n",
      "c:\\Users\\Isara Liyanage\\AppData\\Local\\Programs\\Python\\Python312\\Lib\\site-packages\\interpret\\glassbox\\_ebm\\_ebm.py:869: UserWarning:\n",
      "\n",
      "Missing values detected. Our visualizations do not currently display missing values. To retain the glassbox nature of the model you need to either set the missing values to an extreme value like -1000 that will be visible on the graphs, or manually examine the missing value score in ebm.term_scores_[term_index][0]\n",
      "\n",
      "c:\\Users\\Isara Liyanage\\AppData\\Local\\Programs\\Python\\Python312\\Lib\\site-packages\\interpret\\glassbox\\_ebm\\_ebm.py:869: UserWarning:\n",
      "\n",
      "Missing values detected. Our visualizations do not currently display missing values. To retain the glassbox nature of the model you need to either set the missing values to an extreme value like -1000 that will be visible on the graphs, or manually examine the missing value score in ebm.term_scores_[term_index][0]\n",
      "\n",
      "[I 2025-09-04 23:26:43,714] Trial 1 finished with value: 0.09396573181371315 and parameters: {'learning_rate': 0.006358358856676255, 'max_bins': 381, 'max_leaves': 3, 'max_rounds': 1942, 'interactions': 9, 'outer_bags': 10, 'inner_bags': 1, 'greedy_ratio': 3.6680901970686763}. Best is trial 1 with value: 0.09396573181371315.\n",
      "C:\\Users\\Isara Liyanage\\AppData\\Local\\Temp\\ipykernel_22040\\3030925094.py:9: FutureWarning:\n",
      "\n",
      "suggest_loguniform has been deprecated in v3.0.0. This feature will be removed in v6.0.0. See https://github.com/optuna/optuna/releases/tag/v3.0.0. Use suggest_float(..., log=True) instead.\n",
      "\n",
      "c:\\Users\\Isara Liyanage\\AppData\\Local\\Programs\\Python\\Python312\\Lib\\site-packages\\interpret\\glassbox\\_ebm\\_ebm.py:869: UserWarning:\n",
      "\n",
      "Missing values detected. Our visualizations do not currently display missing values. To retain the glassbox nature of the model you need to either set the missing values to an extreme value like -1000 that will be visible on the graphs, or manually examine the missing value score in ebm.term_scores_[term_index][0]\n",
      "\n",
      "[W 2025-09-04 23:27:04,787] Trial 2 failed with parameters: {'learning_rate': 0.0008179499475211679, 'max_bins': 299, 'max_leaves': 29, 'max_rounds': 618, 'interactions': 6, 'outer_bags': 8, 'inner_bags': 2, 'greedy_ratio': 7.327236865873834} because of the following error: KeyboardInterrupt().\n",
      "Traceback (most recent call last):\n",
      "  File \"c:\\Users\\Isara Liyanage\\AppData\\Local\\Programs\\Python\\Python312\\Lib\\site-packages\\optuna\\study\\_optimize.py\", line 201, in _run_trial\n",
      "    value_or_values = func(trial)\n",
      "                      ^^^^^^^^^^^\n",
      "  File \"C:\\Users\\Isara Liyanage\\AppData\\Local\\Temp\\ipykernel_22040\\3030925094.py\", line 24, in objective\n",
      "    roc = cross_val_score(model, X_train, y_train, cv=cv, scoring=\"roc_auc\").mean()\n",
      "          ^^^^^^^^^^^^^^^^^^^^^^^^^^^^^^^^^^^^^^^^^^^^^^^^^^^^^^^^^^^^^^^^^^\n",
      "  File \"c:\\Users\\Isara Liyanage\\AppData\\Local\\Programs\\Python\\Python312\\Lib\\site-packages\\sklearn\\utils\\_param_validation.py\", line 218, in wrapper\n",
      "    return func(*args, **kwargs)\n",
      "           ^^^^^^^^^^^^^^^^^^^^^\n",
      "  File \"c:\\Users\\Isara Liyanage\\AppData\\Local\\Programs\\Python\\Python312\\Lib\\site-packages\\sklearn\\model_selection\\_validation.py\", line 677, in cross_val_score\n",
      "    cv_results = cross_validate(\n",
      "                 ^^^^^^^^^^^^^^^\n",
      "  File \"c:\\Users\\Isara Liyanage\\AppData\\Local\\Programs\\Python\\Python312\\Lib\\site-packages\\sklearn\\utils\\_param_validation.py\", line 218, in wrapper\n",
      "    return func(*args, **kwargs)\n",
      "           ^^^^^^^^^^^^^^^^^^^^^\n",
      "  File \"c:\\Users\\Isara Liyanage\\AppData\\Local\\Programs\\Python\\Python312\\Lib\\site-packages\\sklearn\\model_selection\\_validation.py\", line 399, in cross_validate\n",
      "    results = parallel(\n",
      "              ^^^^^^^^^\n",
      "  File \"c:\\Users\\Isara Liyanage\\AppData\\Local\\Programs\\Python\\Python312\\Lib\\site-packages\\sklearn\\utils\\parallel.py\", line 82, in __call__\n",
      "    return super().__call__(iterable_with_config_and_warning_filters)\n",
      "           ^^^^^^^^^^^^^^^^^^^^^^^^^^^^^^^^^^^^^^^^^^^^^^^^^^^^^^^^^^\n",
      "  File \"c:\\Users\\Isara Liyanage\\AppData\\Local\\Programs\\Python\\Python312\\Lib\\site-packages\\joblib\\parallel.py\", line 1863, in __call__\n",
      "    return output if self.return_generator else list(output)\n",
      "                                                ^^^^^^^^^^^^\n",
      "  File \"c:\\Users\\Isara Liyanage\\AppData\\Local\\Programs\\Python\\Python312\\Lib\\site-packages\\joblib\\parallel.py\", line 1792, in _get_sequential_output\n",
      "    res = func(*args, **kwargs)\n",
      "          ^^^^^^^^^^^^^^^^^^^^^\n",
      "  File \"c:\\Users\\Isara Liyanage\\AppData\\Local\\Programs\\Python\\Python312\\Lib\\site-packages\\sklearn\\utils\\parallel.py\", line 147, in __call__\n",
      "    return self.function(*args, **kwargs)\n",
      "           ^^^^^^^^^^^^^^^^^^^^^^^^^^^^^^\n",
      "  File \"c:\\Users\\Isara Liyanage\\AppData\\Local\\Programs\\Python\\Python312\\Lib\\site-packages\\sklearn\\model_selection\\_validation.py\", line 859, in _fit_and_score\n",
      "    estimator.fit(X_train, y_train, **fit_params)\n",
      "  File \"c:\\Users\\Isara Liyanage\\AppData\\Local\\Programs\\Python\\Python312\\Lib\\site-packages\\interpret\\glassbox\\_ebm\\_ebm.py\", line 1483, in fit\n",
      "    results = provider.parallel(boost, parallel_args)\n",
      "              ^^^^^^^^^^^^^^^^^^^^^^^^^^^^^^^^^^^^^^^\n",
      "  File \"c:\\Users\\Isara Liyanage\\AppData\\Local\\Programs\\Python\\Python312\\Lib\\site-packages\\interpret\\provider\\_compute.py\", line 20, in parallel\n",
      "    return Parallel(n_jobs=self.n_jobs)(\n",
      "           ^^^^^^^^^^^^^^^^^^^^^^^^^^^^^\n",
      "  File \"c:\\Users\\Isara Liyanage\\AppData\\Local\\Programs\\Python\\Python312\\Lib\\site-packages\\joblib\\parallel.py\", line 1952, in __call__\n",
      "    return output if self.return_generator else list(output)\n",
      "                                                ^^^^^^^^^^^^\n",
      "  File \"c:\\Users\\Isara Liyanage\\AppData\\Local\\Programs\\Python\\Python312\\Lib\\site-packages\\joblib\\parallel.py\", line 1595, in _get_outputs\n",
      "    yield from self._retrieve()\n",
      "  File \"c:\\Users\\Isara Liyanage\\AppData\\Local\\Programs\\Python\\Python312\\Lib\\site-packages\\joblib\\parallel.py\", line 1707, in _retrieve\n",
      "    time.sleep(0.01)\n",
      "KeyboardInterrupt\n",
      "[W 2025-09-04 23:27:04,838] Trial 2 failed with value None.\n"
     ]
    },
    {
     "ename": "KeyboardInterrupt",
     "evalue": "",
     "output_type": "error",
     "traceback": [
      "\u001b[1;31m---------------------------------------------------------------------------\u001b[0m",
      "\u001b[1;31mKeyboardInterrupt\u001b[0m                         Traceback (most recent call last)",
      "Cell \u001b[1;32mIn[73], line 2\u001b[0m\n\u001b[0;32m      1\u001b[0m \u001b[38;5;28mprint\u001b[39m(\u001b[38;5;124m'\u001b[39m\u001b[38;5;124m[INFO] Running HPO (Optuna)...\u001b[39m\u001b[38;5;124m'\u001b[39m)\n\u001b[1;32m----> 2\u001b[0m study \u001b[38;5;241m=\u001b[39m \u001b[43mrun_hpo_ebm_without_dp\u001b[49m\u001b[43m(\u001b[49m\u001b[43mX_all\u001b[49m\u001b[43m,\u001b[49m\u001b[43m \u001b[49m\u001b[43my\u001b[49m\u001b[43m,\u001b[49m\u001b[43m \u001b[49m\u001b[43mn_trials\u001b[49m\u001b[38;5;241;43m=\u001b[39;49m\u001b[38;5;241;43m15\u001b[39;49m\u001b[43m,\u001b[49m\u001b[43m \u001b[49m\u001b[43moutput_dir\u001b[49m\u001b[38;5;241;43m=\u001b[39;49m\u001b[43moutput_dir\u001b[49m\u001b[43m)\u001b[49m\n\u001b[0;32m      3\u001b[0m \u001b[38;5;28mprint\u001b[39m(\u001b[38;5;124m'\u001b[39m\u001b[38;5;124m[HPO] Best trial:\u001b[39m\u001b[38;5;124m'\u001b[39m, study\u001b[38;5;241m.\u001b[39mbest_trial\u001b[38;5;241m.\u001b[39mparams)\n",
      "Cell \u001b[1;32mIn[72], line 35\u001b[0m, in \u001b[0;36mrun_hpo_ebm_without_dp\u001b[1;34m(X_train, y_train, n_trials, timeout, output_dir)\u001b[0m\n\u001b[0;32m     32\u001b[0m     \u001b[38;5;28;01mreturn\u001b[39;00m objective_value\n\u001b[0;32m     34\u001b[0m study \u001b[38;5;241m=\u001b[39m optuna\u001b[38;5;241m.\u001b[39mcreate_study(direction\u001b[38;5;241m=\u001b[39m\u001b[38;5;124m'\u001b[39m\u001b[38;5;124mminimize\u001b[39m\u001b[38;5;124m'\u001b[39m, sampler\u001b[38;5;241m=\u001b[39moptuna\u001b[38;5;241m.\u001b[39msamplers\u001b[38;5;241m.\u001b[39mTPESampler(seed\u001b[38;5;241m=\u001b[39mSEED))\n\u001b[1;32m---> 35\u001b[0m \u001b[43mstudy\u001b[49m\u001b[38;5;241;43m.\u001b[39;49m\u001b[43moptimize\u001b[49m\u001b[43m(\u001b[49m\u001b[43mobjective\u001b[49m\u001b[43m,\u001b[49m\u001b[43m \u001b[49m\u001b[43mn_trials\u001b[49m\u001b[38;5;241;43m=\u001b[39;49m\u001b[43mn_trials\u001b[49m\u001b[43m,\u001b[49m\u001b[43m \u001b[49m\u001b[43mtimeout\u001b[49m\u001b[38;5;241;43m=\u001b[39;49m\u001b[43mtimeout\u001b[49m\u001b[43m)\u001b[49m\n\u001b[0;32m     36\u001b[0m \u001b[38;5;66;03m# persist study\u001b[39;00m\n\u001b[0;32m     37\u001b[0m joblib\u001b[38;5;241m.\u001b[39mdump(study, os\u001b[38;5;241m.\u001b[39mpath\u001b[38;5;241m.\u001b[39mjoin(output_dir, \u001b[38;5;124m'\u001b[39m\u001b[38;5;124moptuna_study_without_dp.pkl\u001b[39m\u001b[38;5;124m'\u001b[39m))\n",
      "File \u001b[1;32mc:\\Users\\Isara Liyanage\\AppData\\Local\\Programs\\Python\\Python312\\Lib\\site-packages\\optuna\\study\\study.py:490\u001b[0m, in \u001b[0;36mStudy.optimize\u001b[1;34m(self, func, n_trials, timeout, n_jobs, catch, callbacks, gc_after_trial, show_progress_bar)\u001b[0m\n\u001b[0;32m    388\u001b[0m \u001b[38;5;28;01mdef\u001b[39;00m \u001b[38;5;21moptimize\u001b[39m(\n\u001b[0;32m    389\u001b[0m     \u001b[38;5;28mself\u001b[39m,\n\u001b[0;32m    390\u001b[0m     func: ObjectiveFuncType,\n\u001b[1;32m   (...)\u001b[0m\n\u001b[0;32m    397\u001b[0m     show_progress_bar: \u001b[38;5;28mbool\u001b[39m \u001b[38;5;241m=\u001b[39m \u001b[38;5;28;01mFalse\u001b[39;00m,\n\u001b[0;32m    398\u001b[0m ) \u001b[38;5;241m-\u001b[39m\u001b[38;5;241m>\u001b[39m \u001b[38;5;28;01mNone\u001b[39;00m:\n\u001b[0;32m    399\u001b[0m \u001b[38;5;250m    \u001b[39m\u001b[38;5;124;03m\"\"\"Optimize an objective function.\u001b[39;00m\n\u001b[0;32m    400\u001b[0m \n\u001b[0;32m    401\u001b[0m \u001b[38;5;124;03m    Optimization is done by choosing a suitable set of hyperparameter values from a given\u001b[39;00m\n\u001b[1;32m   (...)\u001b[0m\n\u001b[0;32m    488\u001b[0m \u001b[38;5;124;03m            If nested invocation of this method occurs.\u001b[39;00m\n\u001b[0;32m    489\u001b[0m \u001b[38;5;124;03m    \"\"\"\u001b[39;00m\n\u001b[1;32m--> 490\u001b[0m     \u001b[43m_optimize\u001b[49m\u001b[43m(\u001b[49m\n\u001b[0;32m    491\u001b[0m \u001b[43m        \u001b[49m\u001b[43mstudy\u001b[49m\u001b[38;5;241;43m=\u001b[39;49m\u001b[38;5;28;43mself\u001b[39;49m\u001b[43m,\u001b[49m\n\u001b[0;32m    492\u001b[0m \u001b[43m        \u001b[49m\u001b[43mfunc\u001b[49m\u001b[38;5;241;43m=\u001b[39;49m\u001b[43mfunc\u001b[49m\u001b[43m,\u001b[49m\n\u001b[0;32m    493\u001b[0m \u001b[43m        \u001b[49m\u001b[43mn_trials\u001b[49m\u001b[38;5;241;43m=\u001b[39;49m\u001b[43mn_trials\u001b[49m\u001b[43m,\u001b[49m\n\u001b[0;32m    494\u001b[0m \u001b[43m        \u001b[49m\u001b[43mtimeout\u001b[49m\u001b[38;5;241;43m=\u001b[39;49m\u001b[43mtimeout\u001b[49m\u001b[43m,\u001b[49m\n\u001b[0;32m    495\u001b[0m \u001b[43m        \u001b[49m\u001b[43mn_jobs\u001b[49m\u001b[38;5;241;43m=\u001b[39;49m\u001b[43mn_jobs\u001b[49m\u001b[43m,\u001b[49m\n\u001b[0;32m    496\u001b[0m \u001b[43m        \u001b[49m\u001b[43mcatch\u001b[49m\u001b[38;5;241;43m=\u001b[39;49m\u001b[38;5;28;43mtuple\u001b[39;49m\u001b[43m(\u001b[49m\u001b[43mcatch\u001b[49m\u001b[43m)\u001b[49m\u001b[43m \u001b[49m\u001b[38;5;28;43;01mif\u001b[39;49;00m\u001b[43m \u001b[49m\u001b[38;5;28;43misinstance\u001b[39;49m\u001b[43m(\u001b[49m\u001b[43mcatch\u001b[49m\u001b[43m,\u001b[49m\u001b[43m \u001b[49m\u001b[43mIterable\u001b[49m\u001b[43m)\u001b[49m\u001b[43m \u001b[49m\u001b[38;5;28;43;01melse\u001b[39;49;00m\u001b[43m \u001b[49m\u001b[43m(\u001b[49m\u001b[43mcatch\u001b[49m\u001b[43m,\u001b[49m\u001b[43m)\u001b[49m\u001b[43m,\u001b[49m\n\u001b[0;32m    497\u001b[0m \u001b[43m        \u001b[49m\u001b[43mcallbacks\u001b[49m\u001b[38;5;241;43m=\u001b[39;49m\u001b[43mcallbacks\u001b[49m\u001b[43m,\u001b[49m\n\u001b[0;32m    498\u001b[0m \u001b[43m        \u001b[49m\u001b[43mgc_after_trial\u001b[49m\u001b[38;5;241;43m=\u001b[39;49m\u001b[43mgc_after_trial\u001b[49m\u001b[43m,\u001b[49m\n\u001b[0;32m    499\u001b[0m \u001b[43m        \u001b[49m\u001b[43mshow_progress_bar\u001b[49m\u001b[38;5;241;43m=\u001b[39;49m\u001b[43mshow_progress_bar\u001b[49m\u001b[43m,\u001b[49m\n\u001b[0;32m    500\u001b[0m \u001b[43m    \u001b[49m\u001b[43m)\u001b[49m\n",
      "File \u001b[1;32mc:\\Users\\Isara Liyanage\\AppData\\Local\\Programs\\Python\\Python312\\Lib\\site-packages\\optuna\\study\\_optimize.py:63\u001b[0m, in \u001b[0;36m_optimize\u001b[1;34m(study, func, n_trials, timeout, n_jobs, catch, callbacks, gc_after_trial, show_progress_bar)\u001b[0m\n\u001b[0;32m     61\u001b[0m \u001b[38;5;28;01mtry\u001b[39;00m:\n\u001b[0;32m     62\u001b[0m     \u001b[38;5;28;01mif\u001b[39;00m n_jobs \u001b[38;5;241m==\u001b[39m \u001b[38;5;241m1\u001b[39m:\n\u001b[1;32m---> 63\u001b[0m         \u001b[43m_optimize_sequential\u001b[49m\u001b[43m(\u001b[49m\n\u001b[0;32m     64\u001b[0m \u001b[43m            \u001b[49m\u001b[43mstudy\u001b[49m\u001b[43m,\u001b[49m\n\u001b[0;32m     65\u001b[0m \u001b[43m            \u001b[49m\u001b[43mfunc\u001b[49m\u001b[43m,\u001b[49m\n\u001b[0;32m     66\u001b[0m \u001b[43m            \u001b[49m\u001b[43mn_trials\u001b[49m\u001b[43m,\u001b[49m\n\u001b[0;32m     67\u001b[0m \u001b[43m            \u001b[49m\u001b[43mtimeout\u001b[49m\u001b[43m,\u001b[49m\n\u001b[0;32m     68\u001b[0m \u001b[43m            \u001b[49m\u001b[43mcatch\u001b[49m\u001b[43m,\u001b[49m\n\u001b[0;32m     69\u001b[0m \u001b[43m            \u001b[49m\u001b[43mcallbacks\u001b[49m\u001b[43m,\u001b[49m\n\u001b[0;32m     70\u001b[0m \u001b[43m            \u001b[49m\u001b[43mgc_after_trial\u001b[49m\u001b[43m,\u001b[49m\n\u001b[0;32m     71\u001b[0m \u001b[43m            \u001b[49m\u001b[43mreseed_sampler_rng\u001b[49m\u001b[38;5;241;43m=\u001b[39;49m\u001b[38;5;28;43;01mFalse\u001b[39;49;00m\u001b[43m,\u001b[49m\n\u001b[0;32m     72\u001b[0m \u001b[43m            \u001b[49m\u001b[43mtime_start\u001b[49m\u001b[38;5;241;43m=\u001b[39;49m\u001b[38;5;28;43;01mNone\u001b[39;49;00m\u001b[43m,\u001b[49m\n\u001b[0;32m     73\u001b[0m \u001b[43m            \u001b[49m\u001b[43mprogress_bar\u001b[49m\u001b[38;5;241;43m=\u001b[39;49m\u001b[43mprogress_bar\u001b[49m\u001b[43m,\u001b[49m\n\u001b[0;32m     74\u001b[0m \u001b[43m        \u001b[49m\u001b[43m)\u001b[49m\n\u001b[0;32m     75\u001b[0m     \u001b[38;5;28;01melse\u001b[39;00m:\n\u001b[0;32m     76\u001b[0m         \u001b[38;5;28;01mif\u001b[39;00m n_jobs \u001b[38;5;241m==\u001b[39m \u001b[38;5;241m-\u001b[39m\u001b[38;5;241m1\u001b[39m:\n",
      "File \u001b[1;32mc:\\Users\\Isara Liyanage\\AppData\\Local\\Programs\\Python\\Python312\\Lib\\site-packages\\optuna\\study\\_optimize.py:160\u001b[0m, in \u001b[0;36m_optimize_sequential\u001b[1;34m(study, func, n_trials, timeout, catch, callbacks, gc_after_trial, reseed_sampler_rng, time_start, progress_bar)\u001b[0m\n\u001b[0;32m    157\u001b[0m         \u001b[38;5;28;01mbreak\u001b[39;00m\n\u001b[0;32m    159\u001b[0m \u001b[38;5;28;01mtry\u001b[39;00m:\n\u001b[1;32m--> 160\u001b[0m     frozen_trial_id \u001b[38;5;241m=\u001b[39m \u001b[43m_run_trial\u001b[49m\u001b[43m(\u001b[49m\u001b[43mstudy\u001b[49m\u001b[43m,\u001b[49m\u001b[43m \u001b[49m\u001b[43mfunc\u001b[49m\u001b[43m,\u001b[49m\u001b[43m \u001b[49m\u001b[43mcatch\u001b[49m\u001b[43m)\u001b[49m\n\u001b[0;32m    161\u001b[0m \u001b[38;5;28;01mfinally\u001b[39;00m:\n\u001b[0;32m    162\u001b[0m     \u001b[38;5;66;03m# The following line mitigates memory problems that can be occurred in some\u001b[39;00m\n\u001b[0;32m    163\u001b[0m     \u001b[38;5;66;03m# environments (e.g., services that use computing containers such as GitHub Actions).\u001b[39;00m\n\u001b[0;32m    164\u001b[0m     \u001b[38;5;66;03m# Please refer to the following PR for further details:\u001b[39;00m\n\u001b[0;32m    165\u001b[0m     \u001b[38;5;66;03m# https://github.com/optuna/optuna/pull/325.\u001b[39;00m\n\u001b[0;32m    166\u001b[0m     \u001b[38;5;28;01mif\u001b[39;00m gc_after_trial:\n",
      "File \u001b[1;32mc:\\Users\\Isara Liyanage\\AppData\\Local\\Programs\\Python\\Python312\\Lib\\site-packages\\optuna\\study\\_optimize.py:258\u001b[0m, in \u001b[0;36m_run_trial\u001b[1;34m(study, func, catch)\u001b[0m\n\u001b[0;32m    251\u001b[0m         \u001b[38;5;28;01massert\u001b[39;00m \u001b[38;5;28;01mFalse\u001b[39;00m, \u001b[38;5;124m\"\u001b[39m\u001b[38;5;124mShould not reach.\u001b[39m\u001b[38;5;124m\"\u001b[39m\n\u001b[0;32m    253\u001b[0m \u001b[38;5;28;01mif\u001b[39;00m (\n\u001b[0;32m    254\u001b[0m     updated_state \u001b[38;5;241m==\u001b[39m TrialState\u001b[38;5;241m.\u001b[39mFAIL\n\u001b[0;32m    255\u001b[0m     \u001b[38;5;129;01mand\u001b[39;00m func_err \u001b[38;5;129;01mis\u001b[39;00m \u001b[38;5;129;01mnot\u001b[39;00m \u001b[38;5;28;01mNone\u001b[39;00m\n\u001b[0;32m    256\u001b[0m     \u001b[38;5;129;01mand\u001b[39;00m \u001b[38;5;129;01mnot\u001b[39;00m \u001b[38;5;28misinstance\u001b[39m(func_err, catch)\n\u001b[0;32m    257\u001b[0m ):\n\u001b[1;32m--> 258\u001b[0m     \u001b[38;5;28;01mraise\u001b[39;00m func_err\n\u001b[0;32m    259\u001b[0m \u001b[38;5;28;01mreturn\u001b[39;00m trial\u001b[38;5;241m.\u001b[39m_trial_id\n",
      "File \u001b[1;32mc:\\Users\\Isara Liyanage\\AppData\\Local\\Programs\\Python\\Python312\\Lib\\site-packages\\optuna\\study\\_optimize.py:201\u001b[0m, in \u001b[0;36m_run_trial\u001b[1;34m(study, func, catch)\u001b[0m\n\u001b[0;32m    199\u001b[0m \u001b[38;5;28;01mwith\u001b[39;00m get_heartbeat_thread(trial\u001b[38;5;241m.\u001b[39m_trial_id, study\u001b[38;5;241m.\u001b[39m_storage):\n\u001b[0;32m    200\u001b[0m     \u001b[38;5;28;01mtry\u001b[39;00m:\n\u001b[1;32m--> 201\u001b[0m         value_or_values \u001b[38;5;241m=\u001b[39m \u001b[43mfunc\u001b[49m\u001b[43m(\u001b[49m\u001b[43mtrial\u001b[49m\u001b[43m)\u001b[49m\n\u001b[0;32m    202\u001b[0m     \u001b[38;5;28;01mexcept\u001b[39;00m exceptions\u001b[38;5;241m.\u001b[39mTrialPruned \u001b[38;5;28;01mas\u001b[39;00m e:\n\u001b[0;32m    203\u001b[0m         \u001b[38;5;66;03m# TODO(mamu): Handle multi-objective cases.\u001b[39;00m\n\u001b[0;32m    204\u001b[0m         state \u001b[38;5;241m=\u001b[39m TrialState\u001b[38;5;241m.\u001b[39mPRUNED\n",
      "Cell \u001b[1;32mIn[72], line 24\u001b[0m, in \u001b[0;36mrun_hpo_ebm_without_dp.<locals>.objective\u001b[1;34m(trial)\u001b[0m\n\u001b[0;32m     22\u001b[0m \u001b[38;5;66;03m#model.fit(X_train, y_train)\u001b[39;00m\n\u001b[0;32m     23\u001b[0m cv \u001b[38;5;241m=\u001b[39m StratifiedKFold(n_splits\u001b[38;5;241m=\u001b[39m\u001b[38;5;241m5\u001b[39m, shuffle\u001b[38;5;241m=\u001b[39m\u001b[38;5;28;01mTrue\u001b[39;00m, random_state\u001b[38;5;241m=\u001b[39mSEED)\n\u001b[1;32m---> 24\u001b[0m roc \u001b[38;5;241m=\u001b[39m \u001b[43mcross_val_score\u001b[49m\u001b[43m(\u001b[49m\u001b[43mmodel\u001b[49m\u001b[43m,\u001b[49m\u001b[43m \u001b[49m\u001b[43mX_train\u001b[49m\u001b[43m,\u001b[49m\u001b[43m \u001b[49m\u001b[43my_train\u001b[49m\u001b[43m,\u001b[49m\u001b[43m \u001b[49m\u001b[43mcv\u001b[49m\u001b[38;5;241;43m=\u001b[39;49m\u001b[43mcv\u001b[49m\u001b[43m,\u001b[49m\u001b[43m \u001b[49m\u001b[43mscoring\u001b[49m\u001b[38;5;241;43m=\u001b[39;49m\u001b[38;5;124;43m\"\u001b[39;49m\u001b[38;5;124;43mroc_auc\u001b[39;49m\u001b[38;5;124;43m\"\u001b[39;49m\u001b[43m)\u001b[49m\u001b[38;5;241m.\u001b[39mmean()\n\u001b[0;32m     26\u001b[0m objective_value \u001b[38;5;241m=\u001b[39m (\u001b[38;5;241m1.0\u001b[39m \u001b[38;5;241m-\u001b[39m roc) \n\u001b[0;32m     28\u001b[0m \u001b[38;5;66;03m# store additional info as trial user attributes\u001b[39;00m\n",
      "File \u001b[1;32mc:\\Users\\Isara Liyanage\\AppData\\Local\\Programs\\Python\\Python312\\Lib\\site-packages\\sklearn\\utils\\_param_validation.py:218\u001b[0m, in \u001b[0;36mvalidate_params.<locals>.decorator.<locals>.wrapper\u001b[1;34m(*args, **kwargs)\u001b[0m\n\u001b[0;32m    212\u001b[0m \u001b[38;5;28;01mtry\u001b[39;00m:\n\u001b[0;32m    213\u001b[0m     \u001b[38;5;28;01mwith\u001b[39;00m config_context(\n\u001b[0;32m    214\u001b[0m         skip_parameter_validation\u001b[38;5;241m=\u001b[39m(\n\u001b[0;32m    215\u001b[0m             prefer_skip_nested_validation \u001b[38;5;129;01mor\u001b[39;00m global_skip_validation\n\u001b[0;32m    216\u001b[0m         )\n\u001b[0;32m    217\u001b[0m     ):\n\u001b[1;32m--> 218\u001b[0m         \u001b[38;5;28;01mreturn\u001b[39;00m \u001b[43mfunc\u001b[49m\u001b[43m(\u001b[49m\u001b[38;5;241;43m*\u001b[39;49m\u001b[43margs\u001b[49m\u001b[43m,\u001b[49m\u001b[43m \u001b[49m\u001b[38;5;241;43m*\u001b[39;49m\u001b[38;5;241;43m*\u001b[39;49m\u001b[43mkwargs\u001b[49m\u001b[43m)\u001b[49m\n\u001b[0;32m    219\u001b[0m \u001b[38;5;28;01mexcept\u001b[39;00m InvalidParameterError \u001b[38;5;28;01mas\u001b[39;00m e:\n\u001b[0;32m    220\u001b[0m     \u001b[38;5;66;03m# When the function is just a wrapper around an estimator, we allow\u001b[39;00m\n\u001b[0;32m    221\u001b[0m     \u001b[38;5;66;03m# the function to delegate validation to the estimator, but we replace\u001b[39;00m\n\u001b[0;32m    222\u001b[0m     \u001b[38;5;66;03m# the name of the estimator by the name of the function in the error\u001b[39;00m\n\u001b[0;32m    223\u001b[0m     \u001b[38;5;66;03m# message to avoid confusion.\u001b[39;00m\n\u001b[0;32m    224\u001b[0m     msg \u001b[38;5;241m=\u001b[39m re\u001b[38;5;241m.\u001b[39msub(\n\u001b[0;32m    225\u001b[0m         \u001b[38;5;124mr\u001b[39m\u001b[38;5;124m\"\u001b[39m\u001b[38;5;124mparameter of \u001b[39m\u001b[38;5;124m\\\u001b[39m\u001b[38;5;124mw+ must be\u001b[39m\u001b[38;5;124m\"\u001b[39m,\n\u001b[0;32m    226\u001b[0m         \u001b[38;5;124mf\u001b[39m\u001b[38;5;124m\"\u001b[39m\u001b[38;5;124mparameter of \u001b[39m\u001b[38;5;132;01m{\u001b[39;00mfunc\u001b[38;5;241m.\u001b[39m\u001b[38;5;18m__qualname__\u001b[39m\u001b[38;5;132;01m}\u001b[39;00m\u001b[38;5;124m must be\u001b[39m\u001b[38;5;124m\"\u001b[39m,\n\u001b[0;32m    227\u001b[0m         \u001b[38;5;28mstr\u001b[39m(e),\n\u001b[0;32m    228\u001b[0m     )\n",
      "File \u001b[1;32mc:\\Users\\Isara Liyanage\\AppData\\Local\\Programs\\Python\\Python312\\Lib\\site-packages\\sklearn\\model_selection\\_validation.py:677\u001b[0m, in \u001b[0;36mcross_val_score\u001b[1;34m(estimator, X, y, groups, scoring, cv, n_jobs, verbose, params, pre_dispatch, error_score)\u001b[0m\n\u001b[0;32m    674\u001b[0m \u001b[38;5;66;03m# To ensure multimetric format is not supported\u001b[39;00m\n\u001b[0;32m    675\u001b[0m scorer \u001b[38;5;241m=\u001b[39m check_scoring(estimator, scoring\u001b[38;5;241m=\u001b[39mscoring)\n\u001b[1;32m--> 677\u001b[0m cv_results \u001b[38;5;241m=\u001b[39m \u001b[43mcross_validate\u001b[49m\u001b[43m(\u001b[49m\n\u001b[0;32m    678\u001b[0m \u001b[43m    \u001b[49m\u001b[43mestimator\u001b[49m\u001b[38;5;241;43m=\u001b[39;49m\u001b[43mestimator\u001b[49m\u001b[43m,\u001b[49m\n\u001b[0;32m    679\u001b[0m \u001b[43m    \u001b[49m\u001b[43mX\u001b[49m\u001b[38;5;241;43m=\u001b[39;49m\u001b[43mX\u001b[49m\u001b[43m,\u001b[49m\n\u001b[0;32m    680\u001b[0m \u001b[43m    \u001b[49m\u001b[43my\u001b[49m\u001b[38;5;241;43m=\u001b[39;49m\u001b[43my\u001b[49m\u001b[43m,\u001b[49m\n\u001b[0;32m    681\u001b[0m \u001b[43m    \u001b[49m\u001b[43mgroups\u001b[49m\u001b[38;5;241;43m=\u001b[39;49m\u001b[43mgroups\u001b[49m\u001b[43m,\u001b[49m\n\u001b[0;32m    682\u001b[0m \u001b[43m    \u001b[49m\u001b[43mscoring\u001b[49m\u001b[38;5;241;43m=\u001b[39;49m\u001b[43m{\u001b[49m\u001b[38;5;124;43m\"\u001b[39;49m\u001b[38;5;124;43mscore\u001b[39;49m\u001b[38;5;124;43m\"\u001b[39;49m\u001b[43m:\u001b[49m\u001b[43m \u001b[49m\u001b[43mscorer\u001b[49m\u001b[43m}\u001b[49m\u001b[43m,\u001b[49m\n\u001b[0;32m    683\u001b[0m \u001b[43m    \u001b[49m\u001b[43mcv\u001b[49m\u001b[38;5;241;43m=\u001b[39;49m\u001b[43mcv\u001b[49m\u001b[43m,\u001b[49m\n\u001b[0;32m    684\u001b[0m \u001b[43m    \u001b[49m\u001b[43mn_jobs\u001b[49m\u001b[38;5;241;43m=\u001b[39;49m\u001b[43mn_jobs\u001b[49m\u001b[43m,\u001b[49m\n\u001b[0;32m    685\u001b[0m \u001b[43m    \u001b[49m\u001b[43mverbose\u001b[49m\u001b[38;5;241;43m=\u001b[39;49m\u001b[43mverbose\u001b[49m\u001b[43m,\u001b[49m\n\u001b[0;32m    686\u001b[0m \u001b[43m    \u001b[49m\u001b[43mparams\u001b[49m\u001b[38;5;241;43m=\u001b[39;49m\u001b[43mparams\u001b[49m\u001b[43m,\u001b[49m\n\u001b[0;32m    687\u001b[0m \u001b[43m    \u001b[49m\u001b[43mpre_dispatch\u001b[49m\u001b[38;5;241;43m=\u001b[39;49m\u001b[43mpre_dispatch\u001b[49m\u001b[43m,\u001b[49m\n\u001b[0;32m    688\u001b[0m \u001b[43m    \u001b[49m\u001b[43merror_score\u001b[49m\u001b[38;5;241;43m=\u001b[39;49m\u001b[43merror_score\u001b[49m\u001b[43m,\u001b[49m\n\u001b[0;32m    689\u001b[0m \u001b[43m\u001b[49m\u001b[43m)\u001b[49m\n\u001b[0;32m    690\u001b[0m \u001b[38;5;28;01mreturn\u001b[39;00m cv_results[\u001b[38;5;124m\"\u001b[39m\u001b[38;5;124mtest_score\u001b[39m\u001b[38;5;124m\"\u001b[39m]\n",
      "File \u001b[1;32mc:\\Users\\Isara Liyanage\\AppData\\Local\\Programs\\Python\\Python312\\Lib\\site-packages\\sklearn\\utils\\_param_validation.py:218\u001b[0m, in \u001b[0;36mvalidate_params.<locals>.decorator.<locals>.wrapper\u001b[1;34m(*args, **kwargs)\u001b[0m\n\u001b[0;32m    212\u001b[0m \u001b[38;5;28;01mtry\u001b[39;00m:\n\u001b[0;32m    213\u001b[0m     \u001b[38;5;28;01mwith\u001b[39;00m config_context(\n\u001b[0;32m    214\u001b[0m         skip_parameter_validation\u001b[38;5;241m=\u001b[39m(\n\u001b[0;32m    215\u001b[0m             prefer_skip_nested_validation \u001b[38;5;129;01mor\u001b[39;00m global_skip_validation\n\u001b[0;32m    216\u001b[0m         )\n\u001b[0;32m    217\u001b[0m     ):\n\u001b[1;32m--> 218\u001b[0m         \u001b[38;5;28;01mreturn\u001b[39;00m \u001b[43mfunc\u001b[49m\u001b[43m(\u001b[49m\u001b[38;5;241;43m*\u001b[39;49m\u001b[43margs\u001b[49m\u001b[43m,\u001b[49m\u001b[43m \u001b[49m\u001b[38;5;241;43m*\u001b[39;49m\u001b[38;5;241;43m*\u001b[39;49m\u001b[43mkwargs\u001b[49m\u001b[43m)\u001b[49m\n\u001b[0;32m    219\u001b[0m \u001b[38;5;28;01mexcept\u001b[39;00m InvalidParameterError \u001b[38;5;28;01mas\u001b[39;00m e:\n\u001b[0;32m    220\u001b[0m     \u001b[38;5;66;03m# When the function is just a wrapper around an estimator, we allow\u001b[39;00m\n\u001b[0;32m    221\u001b[0m     \u001b[38;5;66;03m# the function to delegate validation to the estimator, but we replace\u001b[39;00m\n\u001b[0;32m    222\u001b[0m     \u001b[38;5;66;03m# the name of the estimator by the name of the function in the error\u001b[39;00m\n\u001b[0;32m    223\u001b[0m     \u001b[38;5;66;03m# message to avoid confusion.\u001b[39;00m\n\u001b[0;32m    224\u001b[0m     msg \u001b[38;5;241m=\u001b[39m re\u001b[38;5;241m.\u001b[39msub(\n\u001b[0;32m    225\u001b[0m         \u001b[38;5;124mr\u001b[39m\u001b[38;5;124m\"\u001b[39m\u001b[38;5;124mparameter of \u001b[39m\u001b[38;5;124m\\\u001b[39m\u001b[38;5;124mw+ must be\u001b[39m\u001b[38;5;124m\"\u001b[39m,\n\u001b[0;32m    226\u001b[0m         \u001b[38;5;124mf\u001b[39m\u001b[38;5;124m\"\u001b[39m\u001b[38;5;124mparameter of \u001b[39m\u001b[38;5;132;01m{\u001b[39;00mfunc\u001b[38;5;241m.\u001b[39m\u001b[38;5;18m__qualname__\u001b[39m\u001b[38;5;132;01m}\u001b[39;00m\u001b[38;5;124m must be\u001b[39m\u001b[38;5;124m\"\u001b[39m,\n\u001b[0;32m    227\u001b[0m         \u001b[38;5;28mstr\u001b[39m(e),\n\u001b[0;32m    228\u001b[0m     )\n",
      "File \u001b[1;32mc:\\Users\\Isara Liyanage\\AppData\\Local\\Programs\\Python\\Python312\\Lib\\site-packages\\sklearn\\model_selection\\_validation.py:399\u001b[0m, in \u001b[0;36mcross_validate\u001b[1;34m(estimator, X, y, groups, scoring, cv, n_jobs, verbose, params, pre_dispatch, return_train_score, return_estimator, return_indices, error_score)\u001b[0m\n\u001b[0;32m    396\u001b[0m \u001b[38;5;66;03m# We clone the estimator to make sure that all the folds are\u001b[39;00m\n\u001b[0;32m    397\u001b[0m \u001b[38;5;66;03m# independent, and that it is pickle-able.\u001b[39;00m\n\u001b[0;32m    398\u001b[0m parallel \u001b[38;5;241m=\u001b[39m Parallel(n_jobs\u001b[38;5;241m=\u001b[39mn_jobs, verbose\u001b[38;5;241m=\u001b[39mverbose, pre_dispatch\u001b[38;5;241m=\u001b[39mpre_dispatch)\n\u001b[1;32m--> 399\u001b[0m results \u001b[38;5;241m=\u001b[39m \u001b[43mparallel\u001b[49m\u001b[43m(\u001b[49m\n\u001b[0;32m    400\u001b[0m \u001b[43m    \u001b[49m\u001b[43mdelayed\u001b[49m\u001b[43m(\u001b[49m\u001b[43m_fit_and_score\u001b[49m\u001b[43m)\u001b[49m\u001b[43m(\u001b[49m\n\u001b[0;32m    401\u001b[0m \u001b[43m        \u001b[49m\u001b[43mclone\u001b[49m\u001b[43m(\u001b[49m\u001b[43mestimator\u001b[49m\u001b[43m)\u001b[49m\u001b[43m,\u001b[49m\n\u001b[0;32m    402\u001b[0m \u001b[43m        \u001b[49m\u001b[43mX\u001b[49m\u001b[43m,\u001b[49m\n\u001b[0;32m    403\u001b[0m \u001b[43m        \u001b[49m\u001b[43my\u001b[49m\u001b[43m,\u001b[49m\n\u001b[0;32m    404\u001b[0m \u001b[43m        \u001b[49m\u001b[43mscorer\u001b[49m\u001b[38;5;241;43m=\u001b[39;49m\u001b[43mscorers\u001b[49m\u001b[43m,\u001b[49m\n\u001b[0;32m    405\u001b[0m \u001b[43m        \u001b[49m\u001b[43mtrain\u001b[49m\u001b[38;5;241;43m=\u001b[39;49m\u001b[43mtrain\u001b[49m\u001b[43m,\u001b[49m\n\u001b[0;32m    406\u001b[0m \u001b[43m        \u001b[49m\u001b[43mtest\u001b[49m\u001b[38;5;241;43m=\u001b[39;49m\u001b[43mtest\u001b[49m\u001b[43m,\u001b[49m\n\u001b[0;32m    407\u001b[0m \u001b[43m        \u001b[49m\u001b[43mverbose\u001b[49m\u001b[38;5;241;43m=\u001b[39;49m\u001b[43mverbose\u001b[49m\u001b[43m,\u001b[49m\n\u001b[0;32m    408\u001b[0m \u001b[43m        \u001b[49m\u001b[43mparameters\u001b[49m\u001b[38;5;241;43m=\u001b[39;49m\u001b[38;5;28;43;01mNone\u001b[39;49;00m\u001b[43m,\u001b[49m\n\u001b[0;32m    409\u001b[0m \u001b[43m        \u001b[49m\u001b[43mfit_params\u001b[49m\u001b[38;5;241;43m=\u001b[39;49m\u001b[43mrouted_params\u001b[49m\u001b[38;5;241;43m.\u001b[39;49m\u001b[43mestimator\u001b[49m\u001b[38;5;241;43m.\u001b[39;49m\u001b[43mfit\u001b[49m\u001b[43m,\u001b[49m\n\u001b[0;32m    410\u001b[0m \u001b[43m        \u001b[49m\u001b[43mscore_params\u001b[49m\u001b[38;5;241;43m=\u001b[39;49m\u001b[43mrouted_params\u001b[49m\u001b[38;5;241;43m.\u001b[39;49m\u001b[43mscorer\u001b[49m\u001b[38;5;241;43m.\u001b[39;49m\u001b[43mscore\u001b[49m\u001b[43m,\u001b[49m\n\u001b[0;32m    411\u001b[0m \u001b[43m        \u001b[49m\u001b[43mreturn_train_score\u001b[49m\u001b[38;5;241;43m=\u001b[39;49m\u001b[43mreturn_train_score\u001b[49m\u001b[43m,\u001b[49m\n\u001b[0;32m    412\u001b[0m \u001b[43m        \u001b[49m\u001b[43mreturn_times\u001b[49m\u001b[38;5;241;43m=\u001b[39;49m\u001b[38;5;28;43;01mTrue\u001b[39;49;00m\u001b[43m,\u001b[49m\n\u001b[0;32m    413\u001b[0m \u001b[43m        \u001b[49m\u001b[43mreturn_estimator\u001b[49m\u001b[38;5;241;43m=\u001b[39;49m\u001b[43mreturn_estimator\u001b[49m\u001b[43m,\u001b[49m\n\u001b[0;32m    414\u001b[0m \u001b[43m        \u001b[49m\u001b[43merror_score\u001b[49m\u001b[38;5;241;43m=\u001b[39;49m\u001b[43merror_score\u001b[49m\u001b[43m,\u001b[49m\n\u001b[0;32m    415\u001b[0m \u001b[43m    \u001b[49m\u001b[43m)\u001b[49m\n\u001b[0;32m    416\u001b[0m \u001b[43m    \u001b[49m\u001b[38;5;28;43;01mfor\u001b[39;49;00m\u001b[43m \u001b[49m\u001b[43mtrain\u001b[49m\u001b[43m,\u001b[49m\u001b[43m \u001b[49m\u001b[43mtest\u001b[49m\u001b[43m \u001b[49m\u001b[38;5;129;43;01min\u001b[39;49;00m\u001b[43m \u001b[49m\u001b[43mindices\u001b[49m\n\u001b[0;32m    417\u001b[0m \u001b[43m\u001b[49m\u001b[43m)\u001b[49m\n\u001b[0;32m    419\u001b[0m _warn_or_raise_about_fit_failures(results, error_score)\n\u001b[0;32m    421\u001b[0m \u001b[38;5;66;03m# For callable scoring, the return type is only know after calling. If the\u001b[39;00m\n\u001b[0;32m    422\u001b[0m \u001b[38;5;66;03m# return type is a dictionary, the error scores can now be inserted with\u001b[39;00m\n\u001b[0;32m    423\u001b[0m \u001b[38;5;66;03m# the correct key.\u001b[39;00m\n",
      "File \u001b[1;32mc:\\Users\\Isara Liyanage\\AppData\\Local\\Programs\\Python\\Python312\\Lib\\site-packages\\sklearn\\utils\\parallel.py:82\u001b[0m, in \u001b[0;36mParallel.__call__\u001b[1;34m(self, iterable)\u001b[0m\n\u001b[0;32m     73\u001b[0m warning_filters \u001b[38;5;241m=\u001b[39m warnings\u001b[38;5;241m.\u001b[39mfilters\n\u001b[0;32m     74\u001b[0m iterable_with_config_and_warning_filters \u001b[38;5;241m=\u001b[39m (\n\u001b[0;32m     75\u001b[0m     (\n\u001b[0;32m     76\u001b[0m         _with_config_and_warning_filters(delayed_func, config, warning_filters),\n\u001b[1;32m   (...)\u001b[0m\n\u001b[0;32m     80\u001b[0m     \u001b[38;5;28;01mfor\u001b[39;00m delayed_func, args, kwargs \u001b[38;5;129;01min\u001b[39;00m iterable\n\u001b[0;32m     81\u001b[0m )\n\u001b[1;32m---> 82\u001b[0m \u001b[38;5;28;01mreturn\u001b[39;00m \u001b[38;5;28;43msuper\u001b[39;49m\u001b[43m(\u001b[49m\u001b[43m)\u001b[49m\u001b[38;5;241;43m.\u001b[39;49m\u001b[38;5;21;43m__call__\u001b[39;49m\u001b[43m(\u001b[49m\u001b[43miterable_with_config_and_warning_filters\u001b[49m\u001b[43m)\u001b[49m\n",
      "File \u001b[1;32mc:\\Users\\Isara Liyanage\\AppData\\Local\\Programs\\Python\\Python312\\Lib\\site-packages\\joblib\\parallel.py:1863\u001b[0m, in \u001b[0;36mParallel.__call__\u001b[1;34m(self, iterable)\u001b[0m\n\u001b[0;32m   1861\u001b[0m     output \u001b[38;5;241m=\u001b[39m \u001b[38;5;28mself\u001b[39m\u001b[38;5;241m.\u001b[39m_get_sequential_output(iterable)\n\u001b[0;32m   1862\u001b[0m     \u001b[38;5;28mnext\u001b[39m(output)\n\u001b[1;32m-> 1863\u001b[0m     \u001b[38;5;28;01mreturn\u001b[39;00m output \u001b[38;5;28;01mif\u001b[39;00m \u001b[38;5;28mself\u001b[39m\u001b[38;5;241m.\u001b[39mreturn_generator \u001b[38;5;28;01melse\u001b[39;00m \u001b[38;5;28;43mlist\u001b[39;49m\u001b[43m(\u001b[49m\u001b[43moutput\u001b[49m\u001b[43m)\u001b[49m\n\u001b[0;32m   1865\u001b[0m \u001b[38;5;66;03m# Let's create an ID that uniquely identifies the current call. If the\u001b[39;00m\n\u001b[0;32m   1866\u001b[0m \u001b[38;5;66;03m# call is interrupted early and that the same instance is immediately\u001b[39;00m\n\u001b[0;32m   1867\u001b[0m \u001b[38;5;66;03m# re-used, this id will be used to prevent workers that were\u001b[39;00m\n\u001b[0;32m   1868\u001b[0m \u001b[38;5;66;03m# concurrently finalizing a task from the previous call to run the\u001b[39;00m\n\u001b[0;32m   1869\u001b[0m \u001b[38;5;66;03m# callback.\u001b[39;00m\n\u001b[0;32m   1870\u001b[0m \u001b[38;5;28;01mwith\u001b[39;00m \u001b[38;5;28mself\u001b[39m\u001b[38;5;241m.\u001b[39m_lock:\n",
      "File \u001b[1;32mc:\\Users\\Isara Liyanage\\AppData\\Local\\Programs\\Python\\Python312\\Lib\\site-packages\\joblib\\parallel.py:1792\u001b[0m, in \u001b[0;36mParallel._get_sequential_output\u001b[1;34m(self, iterable)\u001b[0m\n\u001b[0;32m   1790\u001b[0m \u001b[38;5;28mself\u001b[39m\u001b[38;5;241m.\u001b[39mn_dispatched_batches \u001b[38;5;241m+\u001b[39m\u001b[38;5;241m=\u001b[39m \u001b[38;5;241m1\u001b[39m\n\u001b[0;32m   1791\u001b[0m \u001b[38;5;28mself\u001b[39m\u001b[38;5;241m.\u001b[39mn_dispatched_tasks \u001b[38;5;241m+\u001b[39m\u001b[38;5;241m=\u001b[39m \u001b[38;5;241m1\u001b[39m\n\u001b[1;32m-> 1792\u001b[0m res \u001b[38;5;241m=\u001b[39m \u001b[43mfunc\u001b[49m\u001b[43m(\u001b[49m\u001b[38;5;241;43m*\u001b[39;49m\u001b[43margs\u001b[49m\u001b[43m,\u001b[49m\u001b[43m \u001b[49m\u001b[38;5;241;43m*\u001b[39;49m\u001b[38;5;241;43m*\u001b[39;49m\u001b[43mkwargs\u001b[49m\u001b[43m)\u001b[49m\n\u001b[0;32m   1793\u001b[0m \u001b[38;5;28mself\u001b[39m\u001b[38;5;241m.\u001b[39mn_completed_tasks \u001b[38;5;241m+\u001b[39m\u001b[38;5;241m=\u001b[39m \u001b[38;5;241m1\u001b[39m\n\u001b[0;32m   1794\u001b[0m \u001b[38;5;28mself\u001b[39m\u001b[38;5;241m.\u001b[39mprint_progress()\n",
      "File \u001b[1;32mc:\\Users\\Isara Liyanage\\AppData\\Local\\Programs\\Python\\Python312\\Lib\\site-packages\\sklearn\\utils\\parallel.py:147\u001b[0m, in \u001b[0;36m_FuncWrapper.__call__\u001b[1;34m(self, *args, **kwargs)\u001b[0m\n\u001b[0;32m    145\u001b[0m \u001b[38;5;28;01mwith\u001b[39;00m config_context(\u001b[38;5;241m*\u001b[39m\u001b[38;5;241m*\u001b[39mconfig), warnings\u001b[38;5;241m.\u001b[39mcatch_warnings():\n\u001b[0;32m    146\u001b[0m     warnings\u001b[38;5;241m.\u001b[39mfilters \u001b[38;5;241m=\u001b[39m warning_filters\n\u001b[1;32m--> 147\u001b[0m     \u001b[38;5;28;01mreturn\u001b[39;00m \u001b[38;5;28;43mself\u001b[39;49m\u001b[38;5;241;43m.\u001b[39;49m\u001b[43mfunction\u001b[49m\u001b[43m(\u001b[49m\u001b[38;5;241;43m*\u001b[39;49m\u001b[43margs\u001b[49m\u001b[43m,\u001b[49m\u001b[43m \u001b[49m\u001b[38;5;241;43m*\u001b[39;49m\u001b[38;5;241;43m*\u001b[39;49m\u001b[43mkwargs\u001b[49m\u001b[43m)\u001b[49m\n",
      "File \u001b[1;32mc:\\Users\\Isara Liyanage\\AppData\\Local\\Programs\\Python\\Python312\\Lib\\site-packages\\sklearn\\model_selection\\_validation.py:859\u001b[0m, in \u001b[0;36m_fit_and_score\u001b[1;34m(estimator, X, y, scorer, train, test, verbose, parameters, fit_params, score_params, return_train_score, return_parameters, return_n_test_samples, return_times, return_estimator, split_progress, candidate_progress, error_score)\u001b[0m\n\u001b[0;32m    857\u001b[0m         estimator\u001b[38;5;241m.\u001b[39mfit(X_train, \u001b[38;5;241m*\u001b[39m\u001b[38;5;241m*\u001b[39mfit_params)\n\u001b[0;32m    858\u001b[0m     \u001b[38;5;28;01melse\u001b[39;00m:\n\u001b[1;32m--> 859\u001b[0m         \u001b[43mestimator\u001b[49m\u001b[38;5;241;43m.\u001b[39;49m\u001b[43mfit\u001b[49m\u001b[43m(\u001b[49m\u001b[43mX_train\u001b[49m\u001b[43m,\u001b[49m\u001b[43m \u001b[49m\u001b[43my_train\u001b[49m\u001b[43m,\u001b[49m\u001b[43m \u001b[49m\u001b[38;5;241;43m*\u001b[39;49m\u001b[38;5;241;43m*\u001b[39;49m\u001b[43mfit_params\u001b[49m\u001b[43m)\u001b[49m\n\u001b[0;32m    861\u001b[0m \u001b[38;5;28;01mexcept\u001b[39;00m \u001b[38;5;167;01mException\u001b[39;00m:\n\u001b[0;32m    862\u001b[0m     \u001b[38;5;66;03m# Note fit time as time until error\u001b[39;00m\n\u001b[0;32m    863\u001b[0m     fit_time \u001b[38;5;241m=\u001b[39m time\u001b[38;5;241m.\u001b[39mtime() \u001b[38;5;241m-\u001b[39m start_time\n",
      "File \u001b[1;32mc:\\Users\\Isara Liyanage\\AppData\\Local\\Programs\\Python\\Python312\\Lib\\site-packages\\interpret\\glassbox\\_ebm\\_ebm.py:1483\u001b[0m, in \u001b[0;36mEBMModel.fit\u001b[1;34m(self, X, y, sample_weight, bags, init_score)\u001b[0m\n\u001b[0;32m   1431\u001b[0m         early_stopping_rounds_local \u001b[38;5;241m=\u001b[39m \u001b[38;5;241m0\u001b[39m\n\u001b[0;32m   1433\u001b[0m     parallel_args\u001b[38;5;241m.\u001b[39mappend(\n\u001b[0;32m   1434\u001b[0m         (\n\u001b[0;32m   1435\u001b[0m             shm_name,\n\u001b[1;32m   (...)\u001b[0m\n\u001b[0;32m   1480\u001b[0m         )\n\u001b[0;32m   1481\u001b[0m     )\n\u001b[1;32m-> 1483\u001b[0m results \u001b[38;5;241m=\u001b[39m \u001b[43mprovider\u001b[49m\u001b[38;5;241;43m.\u001b[39;49m\u001b[43mparallel\u001b[49m\u001b[43m(\u001b[49m\u001b[43mboost\u001b[49m\u001b[43m,\u001b[49m\u001b[43m \u001b[49m\u001b[43mparallel_args\u001b[49m\u001b[43m)\u001b[49m\n\u001b[0;32m   1485\u001b[0m \u001b[38;5;66;03m# allow python to reclaim these big memory items via reference counting\u001b[39;00m\n\u001b[0;32m   1486\u001b[0m \u001b[38;5;66;03m# this holds references to dataset, scores_bags, and bags\u001b[39;00m\n\u001b[0;32m   1487\u001b[0m \u001b[38;5;28;01mdel\u001b[39;00m parallel_args\n",
      "File \u001b[1;32mc:\\Users\\Isara Liyanage\\AppData\\Local\\Programs\\Python\\Python312\\Lib\\site-packages\\interpret\\provider\\_compute.py:20\u001b[0m, in \u001b[0;36mJobLibProvider.parallel\u001b[1;34m(self, compute_fn, compute_args_iter)\u001b[0m\n\u001b[0;32m     19\u001b[0m \u001b[38;5;28;01mdef\u001b[39;00m \u001b[38;5;21mparallel\u001b[39m(\u001b[38;5;28mself\u001b[39m, compute_fn, compute_args_iter):\n\u001b[1;32m---> 20\u001b[0m     \u001b[38;5;28;01mreturn\u001b[39;00m \u001b[43mParallel\u001b[49m\u001b[43m(\u001b[49m\u001b[43mn_jobs\u001b[49m\u001b[38;5;241;43m=\u001b[39;49m\u001b[38;5;28;43mself\u001b[39;49m\u001b[38;5;241;43m.\u001b[39;49m\u001b[43mn_jobs\u001b[49m\u001b[43m)\u001b[49m\u001b[43m(\u001b[49m\n\u001b[0;32m     21\u001b[0m \u001b[43m        \u001b[49m\u001b[43mdelayed\u001b[49m\u001b[43m(\u001b[49m\u001b[43mcompute_fn\u001b[49m\u001b[43m)\u001b[49m\u001b[43m(\u001b[49m\u001b[38;5;241;43m*\u001b[39;49m\u001b[43margs\u001b[49m\u001b[43m)\u001b[49m\u001b[43m \u001b[49m\u001b[38;5;28;43;01mfor\u001b[39;49;00m\u001b[43m \u001b[49m\u001b[43margs\u001b[49m\u001b[43m \u001b[49m\u001b[38;5;129;43;01min\u001b[39;49;00m\u001b[43m \u001b[49m\u001b[43mcompute_args_iter\u001b[49m\n\u001b[0;32m     22\u001b[0m \u001b[43m    \u001b[49m\u001b[43m)\u001b[49m\n",
      "File \u001b[1;32mc:\\Users\\Isara Liyanage\\AppData\\Local\\Programs\\Python\\Python312\\Lib\\site-packages\\joblib\\parallel.py:1952\u001b[0m, in \u001b[0;36mParallel.__call__\u001b[1;34m(self, iterable)\u001b[0m\n\u001b[0;32m   1946\u001b[0m \u001b[38;5;66;03m# The first item from the output is blank, but it makes the interpreter\u001b[39;00m\n\u001b[0;32m   1947\u001b[0m \u001b[38;5;66;03m# progress until it enters the Try/Except block of the generator and\u001b[39;00m\n\u001b[0;32m   1948\u001b[0m \u001b[38;5;66;03m# reach the first `yield` statement. This starts the aynchronous\u001b[39;00m\n\u001b[0;32m   1949\u001b[0m \u001b[38;5;66;03m# dispatch of the tasks to the workers.\u001b[39;00m\n\u001b[0;32m   1950\u001b[0m \u001b[38;5;28mnext\u001b[39m(output)\n\u001b[1;32m-> 1952\u001b[0m \u001b[38;5;28;01mreturn\u001b[39;00m output \u001b[38;5;28;01mif\u001b[39;00m \u001b[38;5;28mself\u001b[39m\u001b[38;5;241m.\u001b[39mreturn_generator \u001b[38;5;28;01melse\u001b[39;00m \u001b[38;5;28;43mlist\u001b[39;49m\u001b[43m(\u001b[49m\u001b[43moutput\u001b[49m\u001b[43m)\u001b[49m\n",
      "File \u001b[1;32mc:\\Users\\Isara Liyanage\\AppData\\Local\\Programs\\Python\\Python312\\Lib\\site-packages\\joblib\\parallel.py:1595\u001b[0m, in \u001b[0;36mParallel._get_outputs\u001b[1;34m(self, iterator, pre_dispatch)\u001b[0m\n\u001b[0;32m   1592\u001b[0m     \u001b[38;5;28;01myield\u001b[39;00m\n\u001b[0;32m   1594\u001b[0m     \u001b[38;5;28;01mwith\u001b[39;00m \u001b[38;5;28mself\u001b[39m\u001b[38;5;241m.\u001b[39m_backend\u001b[38;5;241m.\u001b[39mretrieval_context():\n\u001b[1;32m-> 1595\u001b[0m         \u001b[38;5;28;01myield from\u001b[39;00m \u001b[38;5;28mself\u001b[39m\u001b[38;5;241m.\u001b[39m_retrieve()\n\u001b[0;32m   1597\u001b[0m \u001b[38;5;28;01mexcept\u001b[39;00m \u001b[38;5;167;01mGeneratorExit\u001b[39;00m:\n\u001b[0;32m   1598\u001b[0m     \u001b[38;5;66;03m# The generator has been garbage collected before being fully\u001b[39;00m\n\u001b[0;32m   1599\u001b[0m     \u001b[38;5;66;03m# consumed. This aborts the remaining tasks if possible and warn\u001b[39;00m\n\u001b[0;32m   1600\u001b[0m     \u001b[38;5;66;03m# the user if necessary.\u001b[39;00m\n\u001b[0;32m   1601\u001b[0m     \u001b[38;5;28mself\u001b[39m\u001b[38;5;241m.\u001b[39m_exception \u001b[38;5;241m=\u001b[39m \u001b[38;5;28;01mTrue\u001b[39;00m\n",
      "File \u001b[1;32mc:\\Users\\Isara Liyanage\\AppData\\Local\\Programs\\Python\\Python312\\Lib\\site-packages\\joblib\\parallel.py:1707\u001b[0m, in \u001b[0;36mParallel._retrieve\u001b[1;34m(self)\u001b[0m\n\u001b[0;32m   1702\u001b[0m \u001b[38;5;66;03m# If the next job is not ready for retrieval yet, we just wait for\u001b[39;00m\n\u001b[0;32m   1703\u001b[0m \u001b[38;5;66;03m# async callbacks to progress.\u001b[39;00m\n\u001b[0;32m   1704\u001b[0m \u001b[38;5;28;01mif\u001b[39;00m ((\u001b[38;5;28mlen\u001b[39m(\u001b[38;5;28mself\u001b[39m\u001b[38;5;241m.\u001b[39m_jobs) \u001b[38;5;241m==\u001b[39m \u001b[38;5;241m0\u001b[39m) \u001b[38;5;129;01mor\u001b[39;00m\n\u001b[0;32m   1705\u001b[0m     (\u001b[38;5;28mself\u001b[39m\u001b[38;5;241m.\u001b[39m_jobs[\u001b[38;5;241m0\u001b[39m]\u001b[38;5;241m.\u001b[39mget_status(\n\u001b[0;32m   1706\u001b[0m         timeout\u001b[38;5;241m=\u001b[39m\u001b[38;5;28mself\u001b[39m\u001b[38;5;241m.\u001b[39mtimeout) \u001b[38;5;241m==\u001b[39m TASK_PENDING)):\n\u001b[1;32m-> 1707\u001b[0m     \u001b[43mtime\u001b[49m\u001b[38;5;241;43m.\u001b[39;49m\u001b[43msleep\u001b[49m\u001b[43m(\u001b[49m\u001b[38;5;241;43m0.01\u001b[39;49m\u001b[43m)\u001b[49m\n\u001b[0;32m   1708\u001b[0m     \u001b[38;5;28;01mcontinue\u001b[39;00m\n\u001b[0;32m   1710\u001b[0m \u001b[38;5;66;03m# We need to be careful: the job list can be filling up as\u001b[39;00m\n\u001b[0;32m   1711\u001b[0m \u001b[38;5;66;03m# we empty it and Python list are not thread-safe by\u001b[39;00m\n\u001b[0;32m   1712\u001b[0m \u001b[38;5;66;03m# default hence the use of the lock\u001b[39;00m\n",
      "\u001b[1;31mKeyboardInterrupt\u001b[0m: "
     ]
    }
   ],
   "source": [
    "print('[INFO] Running HPO (Optuna)...')\n",
    "study = run_hpo_ebm_without_dp(X_all, y, n_trials=15, output_dir=output_dir)\n",
    "print('[HPO] Best trial:', study.best_trial.params)"
   ]
  },
  {
   "cell_type": "markdown",
   "id": "463d9448",
   "metadata": {},
   "source": [
    "### Best Params"
   ]
  },
  {
   "cell_type": "code",
   "execution_count": 16,
   "id": "57737bf7",
   "metadata": {},
   "outputs": [
    {
     "name": "stdout",
     "output_type": "stream",
     "text": [
      "[INFO] Training baseline EBM (default params)...\n",
      "[INFO] Loading heart dataset ...\n",
      "[INFO] Loading completed\n"
     ]
    },
    {
     "name": "stderr",
     "output_type": "stream",
     "text": [
      "c:\\Users\\Isara Liyanage\\AppData\\Local\\Programs\\Python\\Python312\\Lib\\site-packages\\interpret\\glassbox\\_ebm\\_ebm.py:869: UserWarning: Missing values detected. Our visualizations do not currently display missing values. To retain the glassbox nature of the model you need to either set the missing values to an extreme value like -1000 that will be visible on the graphs, or manually examine the missing value score in ebm.term_scores_[term_index][0]\n",
      "  warn(\n",
      "c:\\Users\\Isara Liyanage\\AppData\\Local\\Programs\\Python\\Python312\\Lib\\site-packages\\interpret\\glassbox\\_ebm\\_ebm.py:869: UserWarning: Missing values detected. Our visualizations do not currently display missing values. To retain the glassbox nature of the model you need to either set the missing values to an extreme value like -1000 that will be visible on the graphs, or manually examine the missing value score in ebm.term_scores_[term_index][0]\n",
      "  warn(\n",
      "c:\\Users\\Isara Liyanage\\AppData\\Local\\Programs\\Python\\Python312\\Lib\\site-packages\\interpret\\glassbox\\_ebm\\_ebm.py:869: UserWarning: Missing values detected. Our visualizations do not currently display missing values. To retain the glassbox nature of the model you need to either set the missing values to an extreme value like -1000 that will be visible on the graphs, or manually examine the missing value score in ebm.term_scores_[term_index][0]\n",
      "  warn(\n"
     ]
    },
    {
     "data": {
      "image/png": "[encoded data removed]",
      "text/plain": [
       "<Figure size 640x480 with 2 Axes>"
      ]
     },
     "metadata": {},
     "output_type": "display_data"
    },
    {
     "data": {
      "text/html": [
       "<!-- http://127.0.0.1:7001/1944877439536/ -->\n",
       "<iframe src=\"http://127.0.0.1:7001/1944877439536/\" width=100% height=800 frameBorder=\"0\"></iframe>"
      ]
     },
     "metadata": {},
     "output_type": "display_data"
    },
    {
     "name": "stdout",
     "output_type": "stream",
     "text": [
      "[BASELINE] {'fit_time_mean': '11.80917', 'fit_time_std': '5.83106', 'test_score_mean': '0.88564', 'test_score_std': '0.01289'}\n"
     ]
    },
    {
     "data": {
      "text/plain": [
       "['out_M_Preprocessing_Heart\\\\ebm_baseline_hpo.pkl']"
      ]
     },
     "execution_count": 16,
     "metadata": {},
     "output_type": "execute_result"
    }
   ],
   "source": [
    "# Baseline EBM\n",
    "print('[INFO] Training baseline EBM (default params)...')\n",
    "ebm_params = {'learning_rate': 0.006358358856676255, 'max_bins': 381, 'max_leaves': 3, 'max_rounds': 1942, 'interactions': 9, 'outer_bags': 10, 'inner_bags': 1, 'greedy_ratio': 3.6680901970686763, \"random_state\": 1337,\"n_jobs\": -1}\n",
    "X_all, y = get_heart_data()\n",
    "ebm, record = train_baseline_ebm_with_vis(X_all, y, params=ebm_params)\n",
    "#print('[BASELINE]', base_metrics)\n",
    "print('[BASELINE]', record)\n",
    "# Save baseline model\n",
    "joblib.dump(ebm, os.path.join(output_dir, 'ebm_baseline_hpo.pkl'))\n"
   ]
  },
  {
   "cell_type": "markdown",
   "id": "fd33994b",
   "metadata": {},
   "source": [
    "### Pretrain"
   ]
  },
  {
   "cell_type": "code",
   "execution_count": 17,
   "id": "7e5928ce",
   "metadata": {},
   "outputs": [],
   "source": [
    "def preprocessor_with_encoding(X: pd.DataFrame):\n",
    "    \"\"\"Auto-detect categorical and numeric columns and build a ColumnTransformer with \n",
    "    the same preprocessing steps as benchmark_models.\"\"\"\n",
    "    # Detect categorical and numeric columns\n",
    "    is_cat = np.array([dt.kind == 'O' for dt in X.dtypes])\n",
    "    cat_cols = X.columns.values[is_cat]\n",
    "    num_cols = X.columns.values[~is_cat]\n",
    "\n",
    "    # Pipelines\n",
    "    cat_pipe = Pipeline([\n",
    "        ('ohe', OneHotEncoder(sparse_output=False, handle_unknown='ignore'))\n",
    "    ])\n",
    "    num_pipe = Pipeline([\n",
    "        ('identity', FunctionTransformer())\n",
    "    ])\n",
    "    ct = ColumnTransformer(\n",
    "        transformers=[\n",
    "            ('cat', cat_pipe, cat_cols),\n",
    "            ('num', num_pipe, num_cols)\n",
    "        ]\n",
    "    )\n",
    "    preproc = Pipeline([\n",
    "        ('ct', ct),\n",
    "        ('std', StandardScaler())\n",
    "    ])\n",
    "\n",
    "    return preproc\n"
   ]
  },
  {
   "cell_type": "code",
   "execution_count": 20,
   "id": "f0eb52c2",
   "metadata": {},
   "outputs": [],
   "source": [
    "def get_heart_data_with_split():\n",
    "    os.makedirs(output_dir, exist_ok=True)\n",
    "    print(f'[INFO] Loading {dataset} dataset ...')\n",
    "    X_df, y = DATASET_LOADERS[dataset]()\n",
    "    preproc = preprocessor_with_encoding(X_df)\n",
    "    X_all = preproc.fit_transform(X_df)\n",
    "    # convert to numpy arrays for later use\n",
    "    X_all = np.asarray(X_all, dtype=float)\n",
    "    y = np.asarray(y, dtype=int)\n",
    "    print(\"[INFO] Loading completed\")\n",
    "\n",
    "    X_temp, X_test, y_temp, y_test = train_test_split(\n",
    "    X_all, y,  test_size=0.2, stratify=y, random_state=SEED)\n",
    "    X_train, X_val, y_train, y_val = train_test_split(\n",
    "    X_temp, y_temp,  test_size=0.25, stratify=y_temp, random_state=SEED)  # 0.25*0.8 = 0.2\n",
    "\n",
    "    return X_train, y_train,  X_val, y_val,  X_test, y_test, X_all"
   ]
  },
  {
   "cell_type": "code",
   "execution_count": 21,
   "id": "95dce077",
   "metadata": {},
   "outputs": [
    {
     "name": "stdout",
     "output_type": "stream",
     "text": [
      "[INFO] Loading heart dataset ...\n",
      "[INFO] Loading completed\n"
     ]
    }
   ],
   "source": [
    "X_train, y_train,  X_val, y_val, X_test, y_test, X_all = get_heart_data_with_split()\n"
   ]
  },
  {
   "cell_type": "code",
   "execution_count": null,
   "id": "4ba7a59d",
   "metadata": {},
   "outputs": [],
   "source": [
    "import numpy as np\n",
    "from sklearn.model_selection import StratifiedShuffleSplit\n",
    "from sklearn.metrics import ConfusionMatrixDisplay, roc_auc_score\n",
    "import matplotlib.pyplot as plt\n",
    "from interpret.glassbox import ExplainableBoostingClassifier\n",
    "from interpret import show\n",
    "\n",
    "def format_n(x):\n",
    "    return \"{0:.5f}\".format(x)\n",
    "\n",
    "def train_baseline_ebm_with_vis_init(X, y, params=None, init_score=None):\n",
    "    \"\"\"\n",
    "    Train an ExplainableBoostingClassifier (EBM) with optional init_score.\n",
    "\n",
    "    Parameters\n",
    "    ----------\n",
    "    X : array-like or DataFrame\n",
    "        Input features.\n",
    "    y : array-like or Series\n",
    "        Target labels.\n",
    "    params : dict, optional\n",
    "        Extra parameters for the EBM.\n",
    "    init_score : array-like, optional\n",
    "        Per-sample initial scores to warm-start EBM.\n",
    "        Should be aligned with y (same length).\n",
    "    \"\"\"\n",
    "    params = params or {}\n",
    "    model = ExplainableBoostingClassifier(**params)\n",
    "\n",
    "    ss = StratifiedShuffleSplit(n_splits=3, test_size=0.25, random_state=1337)\n",
    "\n",
    "    aucs, fit_times = [], []\n",
    "    trained_models = []\n",
    "\n",
    "    for train_idx, test_idx in ss.split(X, y):\n",
    "        if hasattr(X, \"iloc\"):  # Pandas\n",
    "            X_train, X_test = X.iloc[train_idx], X.iloc[test_idx]\n",
    "        else:\n",
    "            X_train, X_test = X[train_idx], X[test_idx]\n",
    "\n",
    "        if hasattr(y, \"iloc\"):\n",
    "            y_train, y_test = y.iloc[train_idx], y.iloc[test_idx]\n",
    "        else:\n",
    "            y_train, y_test = y[train_idx], y[test_idx]\n",
    "\n",
    "        if init_score is not None:\n",
    "            # Align per-sample scores with current split\n",
    "            init_score_train = init_score[train_idx]\n",
    "            model.fit(X_train, y_train, init_score=init_score_train)\n",
    "        else:\n",
    "            model.fit(X_train, y_train)\n",
    "\n",
    "        # Predict probabilities for ROC AUC\n",
    "        y_pred_proba = model.predict_proba(X_test)[:, 1]\n",
    "        auc = roc_auc_score(y_test, y_pred_proba)\n",
    "        aucs.append(auc)\n",
    "\n",
    "        trained_models.append(model)\n",
    "\n",
    "    # Collect metrics\n",
    "    record = dict()\n",
    "    record['test_score_mean'] = format_n(np.mean(aucs))\n",
    "    record['test_score_std'] = format_n(np.std(aucs) )\n",
    "\n",
    "\n",
    "    # Use first trained model for visualization\n",
    "    trained_model = trained_models[0]\n",
    "\n",
    "    # Pick one split for confusion matrix\n",
    "    train_idx, test_idx = list(ss.split(X, y))[0]\n",
    "    if hasattr(X, \"iloc\"):\n",
    "        X_test = X.iloc[test_idx]\n",
    "    else:\n",
    "        X_test = X[test_idx]\n",
    "    if hasattr(y, \"iloc\"):\n",
    "        y_test = y.iloc[test_idx]\n",
    "    else:\n",
    "        y_test = y[test_idx]\n",
    "\n",
    "    y_pred = trained_model.predict(X_test)\n",
    "    ConfusionMatrixDisplay.from_predictions(y_test, y_pred)\n",
    "    plt.title(\"Confusion Matrix (Validation Split)\")\n",
    "    plt.show()\n",
    "\n",
    "    # InterpretML visualization\n",
    "    ebm_global = trained_model.explain_global()\n",
    "    show(ebm_global)\n",
    "\n",
    "    return trained_model, record\n"
   ]
  },
  {
   "cell_type": "code",
   "execution_count": 37,
   "id": "3f5f81a1",
   "metadata": {},
   "outputs": [
    {
     "name": "stdout",
     "output_type": "stream",
     "text": [
      "[INFO] Pretraining autoencoder and deriving init_score...\n",
      "[INFO] Training EBM initialized from pretrain init_scores...\n"
     ]
    },
    {
     "name": "stderr",
     "output_type": "stream",
     "text": [
      "c:\\Users\\Isara Liyanage\\AppData\\Local\\Programs\\Python\\Python312\\Lib\\site-packages\\interpret\\glassbox\\_ebm\\_ebm.py:869: UserWarning:\n",
      "\n",
      "Missing values detected. Our visualizations do not currently display missing values. To retain the glassbox nature of the model you need to either set the missing values to an extreme value like -1000 that will be visible on the graphs, or manually examine the missing value score in ebm.term_scores_[term_index][0]\n",
      "\n",
      "c:\\Users\\Isara Liyanage\\AppData\\Local\\Programs\\Python\\Python312\\Lib\\site-packages\\interpret\\glassbox\\_ebm\\_ebm.py:869: UserWarning:\n",
      "\n",
      "Missing values detected. Our visualizations do not currently display missing values. To retain the glassbox nature of the model you need to either set the missing values to an extreme value like -1000 that will be visible on the graphs, or manually examine the missing value score in ebm.term_scores_[term_index][0]\n",
      "\n",
      "c:\\Users\\Isara Liyanage\\AppData\\Local\\Programs\\Python\\Python312\\Lib\\site-packages\\interpret\\glassbox\\_ebm\\_ebm.py:869: UserWarning:\n",
      "\n",
      "Missing values detected. Our visualizations do not currently display missing values. To retain the glassbox nature of the model you need to either set the missing values to an extreme value like -1000 that will be visible on the graphs, or manually examine the missing value score in ebm.term_scores_[term_index][0]\n",
      "\n"
     ]
    },
    {
     "data": {
      "image/png": "[encoded data removed]",
      "text/plain": [
       "<Figure size 640x480 with 2 Axes>"
      ]
     },
     "metadata": {},
     "output_type": "display_data"
    },
    {
     "data": {
      "text/html": [
       "<!-- http://127.0.0.1:7001/1945025859936/ -->\n",
       "<iframe src=\"http://127.0.0.1:7001/1945025859936/\" width=100% height=800 frameBorder=\"0\"></iframe>"
      ]
     },
     "metadata": {},
     "output_type": "display_data"
    },
    {
     "name": "stdout",
     "output_type": "stream",
     "text": [
      "{'test_score_mean': '0.88110', 'test_score_std': '0.01552'}\n"
     ]
    },
    {
     "data": {
      "text/plain": [
       "['out_M_Preprocessing_Heart\\\\ebm_pretrained_init.pkl']"
      ]
     },
     "execution_count": 37,
     "metadata": {},
     "output_type": "execute_result"
    }
   ],
   "source": [
    "print('[INFO] Pretraining autoencoder and deriving init_score...')\n",
    "# Use all X_train + X_val + X_test as unlabeled pool for pretraining; use small labeled subset for classifier on latent.\n",
    "X_unlabeled = X_all  # full data for self-supervision (practical choice)\n",
    "# small labeled subset (simulate cold-start)\n",
    "small_idx = np.random.choice(range(len(X_train)), size=int(0.2 * len(X_train)), replace=False)\n",
    "X_small_labeled = X_train[small_idx]\n",
    "y_small = y_train[small_idx]\n",
    "init_scores_full, ae_model, small_clf = pretrain_autoencoder_get_init_scores(\n",
    "    X_unlabeled, X_small_labeled, y_small, epochs=20, batch_size=256, latent_dim=32)\n",
    "\n",
    "print('[INFO] Training EBM initialized from pretrain init_scores...')\n",
    "trained_model, record= train_baseline_ebm_with_vis_init(X_all, y, init_score=init_scores_full)\n",
    "print(record)\n",
    "joblib.dump(trained_model, os.path.join(output_dir, 'ebm_pretrained_init.pkl'))"
   ]
  },
  {
   "cell_type": "markdown",
   "id": "68fcf37d",
   "metadata": {},
   "source": [
    "### Pretraining with HPO"
   ]
  },
  {
   "cell_type": "code",
   "execution_count": 40,
   "id": "915a9723",
   "metadata": {},
   "outputs": [
    {
     "name": "stdout",
     "output_type": "stream",
     "text": [
      "[INFO] Pretraining autoencoder and deriving init_score...\n",
      "[INFO] Training EBM initialized from pretrain init_scores...\n"
     ]
    },
    {
     "name": "stderr",
     "output_type": "stream",
     "text": [
      "c:\\Users\\Isara Liyanage\\AppData\\Local\\Programs\\Python\\Python312\\Lib\\site-packages\\interpret\\glassbox\\_ebm\\_ebm.py:869: UserWarning:\n",
      "\n",
      "Missing values detected. Our visualizations do not currently display missing values. To retain the glassbox nature of the model you need to either set the missing values to an extreme value like -1000 that will be visible on the graphs, or manually examine the missing value score in ebm.term_scores_[term_index][0]\n",
      "\n",
      "c:\\Users\\Isara Liyanage\\AppData\\Local\\Programs\\Python\\Python312\\Lib\\site-packages\\interpret\\glassbox\\_ebm\\_ebm.py:869: UserWarning:\n",
      "\n",
      "Missing values detected. Our visualizations do not currently display missing values. To retain the glassbox nature of the model you need to either set the missing values to an extreme value like -1000 that will be visible on the graphs, or manually examine the missing value score in ebm.term_scores_[term_index][0]\n",
      "\n",
      "c:\\Users\\Isara Liyanage\\AppData\\Local\\Programs\\Python\\Python312\\Lib\\site-packages\\interpret\\glassbox\\_ebm\\_ebm.py:869: UserWarning:\n",
      "\n",
      "Missing values detected. Our visualizations do not currently display missing values. To retain the glassbox nature of the model you need to either set the missing values to an extreme value like -1000 that will be visible on the graphs, or manually examine the missing value score in ebm.term_scores_[term_index][0]\n",
      "\n"
     ]
    },
    {
     "data": {
      "image/png": "[encoded data removed]",
      "text/plain": [
       "<Figure size 640x480 with 2 Axes>"
      ]
     },
     "metadata": {},
     "output_type": "display_data"
    },
    {
     "data": {
      "text/html": [
       "<!-- http://127.0.0.1:7001/1945024630176/ -->\n",
       "<iframe src=\"http://127.0.0.1:7001/1945024630176/\" width=100% height=800 frameBorder=\"0\"></iframe>"
      ]
     },
     "metadata": {},
     "output_type": "display_data"
    },
    {
     "name": "stdout",
     "output_type": "stream",
     "text": [
      "{'test_score_mean': '0.89135', 'test_score_std': '0.01865'}\n"
     ]
    },
    {
     "data": {
      "text/plain": [
       "['out_M_Preprocessing_Heart\\\\ebm_pretrained_init.pkl']"
      ]
     },
     "execution_count": 40,
     "metadata": {},
     "output_type": "execute_result"
    }
   ],
   "source": [
    "print('[INFO] Pretraining autoencoder and deriving init_score...')\n",
    "# Use all X_train + X_val + X_test as unlabeled pool for pretraining; use small labeled subset for classifier on latent.\n",
    "X_unlabeled = X_all  # full data for self-supervision (practical choice)\n",
    "# small labeled subset (simulate cold-start)\n",
    "small_idx = np.random.choice(range(len(X_train)), size=int(0.2 * len(X_train)), replace=False)\n",
    "X_small_labeled = X_train[small_idx]\n",
    "y_small = y_train[small_idx]\n",
    "init_scores_full, ae_model, small_clf = pretrain_autoencoder_get_init_scores(\n",
    "    X_unlabeled, X_small_labeled, y_small, epochs=20, batch_size=256, latent_dim=32)\n",
    "# Train EBM with init_score (init_score accepts per-sample scores)\n",
    "# NOTE: InterpretML expects init_score to be either per-sample score array or a model that produces scores.\n",
    "\n",
    "ebm_params = {'learning_rate': 0.006358358856676255, 'max_bins': 381, 'max_leaves': 3, 'max_rounds': 1942, 'interactions': 9, 'outer_bags': 10, 'inner_bags': 1, 'greedy_ratio': 3.6680901970686763, \"random_state\": 1337,\"n_jobs\": -1}\n",
    "\n",
    "\n",
    "print('[INFO] Training EBM initialized from pretrain init_scores...')\n",
    "trained_model, record= train_baseline_ebm_with_vis_init(X_all, y, init_score=init_scores_full,params=ebm_params)\n",
    "print(record)\n",
    "joblib.dump(trained_model, os.path.join(output_dir, 'ebm_pretrained_init.pkl'))"
   ]
  }
 ],
 "metadata": {
  "kernelspec": {
   "display_name": "Python 3",
   "language": "python",
   "name": "python3"
  },
  "language_info": {
   "codemirror_mode": {
    "name": "ipython",
    "version": 3
   },
   "file_extension": ".py",
   "mimetype": "text/x-python",
   "name": "python",
   "nbconvert_exporter": "python",
   "pygments_lexer": "ipython3",
   "version": "3.12.0"
  }
 },
 "nbformat": 4,
 "nbformat_minor": 5
}
