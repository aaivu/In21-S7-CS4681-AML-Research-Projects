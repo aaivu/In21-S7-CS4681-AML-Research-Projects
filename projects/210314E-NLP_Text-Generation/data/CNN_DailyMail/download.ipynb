{
 "cells": [
  {
   "cell_type": "code",
   "execution_count": null,
   "id": "0c50cb2b",
   "metadata": {},
   "outputs": [],
   "source": [
    "from datasets import load_dataset\n",
    "\n",
    "# Load CNN/DailyMail dataset (version 3.0.0 is the one used in most papers)\n",
    "# This dataset contains news articles and their highlights/summaries\n",
    "dataset = load_dataset(\"cnn_dailymail\", \"3.0.0\")\n",
    "\n",
    "print(f\"Dataset loaded successfully!\")\n",
    "print(f\"Train samples: {len(dataset['train'])}\")\n",
    "print(f\"Validation samples: {len(dataset['validation'])}\")\n",
    "print(f\"Test samples: {len(dataset['test'])}\")"
   ]
  },
  {
   "cell_type": "code",
   "execution_count": null,
   "id": "267a40c6",
   "metadata": {},
   "outputs": [],
   "source": [
    "# Save the dataset splits to Parquet format for efficient storage and loading\n",
    "print(\"Saving dataset to Parquet format...\")\n",
    "\n",
    "dataset[\"train\"].to_parquet(\"cnn_dailymail_train.parquet\")\n",
    "print(\"✓ Training set saved\")\n",
    "\n",
    "dataset[\"validation\"].to_parquet(\"cnn_dailymail_validation.parquet\")\n",
    "print(\"✓ Validation set saved\")\n",
    "\n",
    "dataset[\"test\"].to_parquet(\"cnn_dailymail_test.parquet\")\n",
    "print(\"✓ Test set saved\")\n",
    "\n",
    "print(\"\\nAll datasets saved successfully!\")"
   ]
  }
 ],
 "metadata": {
  "kernelspec": {
   "display_name": "Python 3",
   "language": "python",
   "name": "python3"
  },
  "language_info": {
   "codemirror_mode": {
    "name": "ipython",
    "version": 3
   },
   "file_extension": ".py",
   "mimetype": "text/x-python",
   "name": "python",
   "nbconvert_exporter": "python",
   "pygments_lexer": "ipython3",
   "version": "3.12.10"
  }
 },
 "nbformat": 4,
 "nbformat_minor": 5
}
