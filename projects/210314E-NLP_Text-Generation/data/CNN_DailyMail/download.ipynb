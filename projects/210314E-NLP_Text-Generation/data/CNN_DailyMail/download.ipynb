{
 "cells": [
  {
   "cell_type": "code",
   "execution_count": null,
   "id": "0c50cb2b",
   "metadata": {},
   "outputs": [],
   "source": [
    "from datasets import load_dataset\n",
    "\n",
    "# Load CNN/DailyMail (version 3.0.0 is the one used in most papers)\n",
    "dataset = load_dataset(\"cnn_dailymail\", \"3.0.0\")"
   ]
  },
  {
   "cell_type": "code",
   "execution_count": null,
   "id": "267a40c6",
   "metadata": {},
   "outputs": [],
   "source": [
    "dataset[\"train\"].to_parquet(\"cnn_dailymail_train\")\n",
    "dataset[\"validation\"].to_parquet(\"cnn_dailymail_validation.parquet\")\n",
    "dataset[\"test\"].to_parquet(\"cnn_dailymail_test.parquet\")"
   ]
  }
 ],
 "metadata": {
  "kernelspec": {
   "display_name": "Python 3",
   "language": "python",
   "name": "python3"
  },
  "language_info": {
   "codemirror_mode": {
    "name": "ipython",
    "version": 3
   },
   "file_extension": ".py",
   "mimetype": "text/x-python",
   "name": "python",
   "nbconvert_exporter": "python",
   "pygments_lexer": "ipython3",
   "version": "3.12.10"
  }
 },
 "nbformat": 4,
 "nbformat_minor": 5
}
