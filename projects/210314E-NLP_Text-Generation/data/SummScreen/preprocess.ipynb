{
 "cells": [
  {
   "cell_type": "code",
   "execution_count": null,
   "id": "6978fc32",
   "metadata": {},
   "outputs": [],
   "source": [
    "# Read each json file in the \"ForeverDreaming\" directory\n",
    "# Get only the Recap and Transcript fields\n",
    "import os\n",
    "import json\n",
    "import csv\n",
    "import re\n",
    "from datetime import datetime\n",
    "\n",
    "def clean_text(text):\n",
    "    # Handle case where text might be a list\n",
    "    if isinstance(text, list):\n",
    "        # If it's a list, join the elements with spaces\n",
    "        text = ' '.join(str(item) for item in text)\n",
    "    elif text is None:\n",
    "        text = ''\n",
    "    else:\n",
    "        # Convert to string if it's not already\n",
    "        text = str(text)\n",
    "    \n",
    "    # Remove HTML tags\n",
    "    text = re.sub(r'<.*?>', '', text)\n",
    "    # Replace multiple spaces with a single space\n",
    "    text = re.sub(r'\\s+', ' ', text)\n",
    "    # Strip leading and trailing whitespace\n",
    "    text = text.strip()\n",
    "    return text\n",
    "\n",
    "def process_json_files(input_directory, output_csv):\n",
    "    fieldnames = ['Recap', 'Transcript']\n",
    "    \n",
    "    with open(output_csv, mode='w', newline='', encoding='utf-8') as csvfile:\n",
    "        writer = csv.DictWriter(csvfile, fieldnames=fieldnames)\n",
    "        writer.writeheader()\n",
    "        \n",
    "        for filename in os.listdir(input_directory):\n",
    "            if filename.endswith('.json'):\n",
    "                filepath = os.path.join(input_directory, filename)\n",
    "                with open(filepath, 'r', encoding='utf-8') as jsonfile:\n",
    "                    data = json.load(jsonfile)\n",
    "                    \n",
    "                    title = data.get('Title', 'N/A')\n",
    "                    date_str = data.get('Date', 'N/A')\n",
    "                    try:\n",
    "                        date = datetime.strptime(date_str, '%Y-%m-%d').date()\n",
    "                    except ValueError:\n",
    "                        date = 'N/A'\n",
    "                    \n",
    "                    recap = clean_text(data.get('Recap', 'N/A'))\n",
    "                    transcript = clean_text(data.get('Transcript', 'N/A'))\n",
    "                    \n",
    "                    writer.writerow({\n",
    "                        'Recap': recap,\n",
    "                        'Transcript': transcript\n",
    "                    })\n",
    "                    \n",
    "\n"
   ]
  },
  {
   "cell_type": "code",
   "execution_count": null,
   "id": "b03b6f51",
   "metadata": {},
   "outputs": [],
   "source": [
    "input_directory = 'ForeverDreaming'\n",
    "output_csv = 'test.csv'\n",
    "process_json_files(input_directory, output_csv)"
   ]
  },
  {
   "cell_type": "code",
   "execution_count": null,
   "id": "6875be10",
   "metadata": {},
   "outputs": [],
   "source": [
    "input_directory = 'TvMegaSite'\n",
    "output_csv = 'train.csv'\n",
    "process_json_files(input_directory, output_csv)"
   ]
  },
  {
   "cell_type": "code",
   "execution_count": null,
   "id": "7421f140",
   "metadata": {},
   "outputs": [],
   "source": []
  }
 ],
 "metadata": {
  "kernelspec": {
   "display_name": "Python 3",
   "language": "python",
   "name": "python3"
  },
  "language_info": {
   "codemirror_mode": {
    "name": "ipython",
    "version": 3
   },
   "file_extension": ".py",
   "mimetype": "text/x-python",
   "name": "python",
   "nbconvert_exporter": "python",
   "pygments_lexer": "ipython3",
   "version": "3.12.10"
  }
 },
 "nbformat": 4,
 "nbformat_minor": 5
}
