{
 "cells": [
  {
   "cell_type": "code",
   "execution_count": null,
   "metadata": {
    "trusted": true
   },
   "outputs": [],
   "source": [
    "pip install transformers==4.50"
   ]
  },
  {
   "cell_type": "code",
   "execution_count": null,
   "metadata": {
    "trusted": true
   },
   "outputs": [],
   "source": [
    "import torch\n",
    "from transformers import (\n",
    "    PegasusXConfig, \n",
    "    PegasusXForConditionalGeneration, \n",
    "    AutoTokenizer,\n",
    "    TrainingArguments, \n",
    "    Trainer, \n",
    "    DataCollatorForSeq2Seq\n",
    ")\n",
    "from datasets import load_dataset\n",
    "\n",
    "# Determine device availability (GPU or CPU)\n",
    "device = \"cuda\" if torch.cuda.is_available() else \"cpu\"\n",
    "print(f\"Using device: {device}\")"
   ]
  },
  {
   "cell_type": "code",
   "execution_count": null,
   "metadata": {
    "trusted": true
   },
   "outputs": [],
   "source": [
    "%env PYTORCH_CUDA_ALLOC_CONF=expandable_segments:True"
   ]
  },
  {
   "cell_type": "code",
   "execution_count": null,
   "metadata": {},
   "outputs": [],
   "source": [
    "# Set the activation function to test\n",
    "activation = \"gelu\"\n",
    "print(f\"Using activation function: {activation}\")"
   ]
  },
  {
   "cell_type": "code",
   "execution_count": null,
   "metadata": {
    "trusted": true
   },
   "outputs": [],
   "source": [
    "# Configure PEGASUS-X model with specified activation function\n",
    "config = PegasusXConfig(\n",
    "    max_position_embeddings=512,           # Maximum sequence length\n",
    "    activation_function=activation         # Dynamic activation function selection\n",
    ")\n",
    "print(f\"Model configuration: max_position_embeddings={config.max_position_embeddings}, activation_function={config.activation_function}\")"
   ]
  },
  {
   "cell_type": "markdown",
   "metadata": {},
   "source": [
    "# Fine Tuning"
   ]
  },
  {
   "cell_type": "code",
   "execution_count": null,
   "metadata": {
    "trusted": true
   },
   "outputs": [],
   "source": [
    "# Load the CNN/DailyMail dataset\n",
    "ds_path = \"/kaggle/input/cnndailymail/train.parquet\"\n",
    "ds = load_dataset('parquet', data_files=ds_path)"
   ]
  },
  {
   "cell_type": "code",
   "execution_count": null,
   "metadata": {
    "trusted": true
   },
   "outputs": [],
   "source": [
    "# Load the tokenizer\n",
    "tokenizer = AutoTokenizer.from_pretrained(\"google/pegasus-x-base\")\n",
    "\n",
    "def preprocess_function(examples):\n",
    "    \"\"\"\n",
    "    Preprocess and tokenize input articles and their corresponding summaries.\n",
    "    \"\"\"\n",
    "    # Tokenize the articles (input)\n",
    "    model_inputs = tokenizer(\n",
    "        examples['description'],\n",
    "        max_length=128,\n",
    "        truncation=True,\n",
    "    )\n",
    "\n",
    "    # Tokenize the summaries (labels)\n",
    "    with tokenizer.as_target_tokenizer():\n",
    "        labels = tokenizer(\n",
    "            examples['abstract'],\n",
    "            max_length=128,\n",
    "            truncation=True,\n",
    "        )\n",
    "\n",
    "    # Add the labels to the model inputs\n",
    "    model_inputs['labels'] = labels['input_ids']\n",
    "    return model_inputs\n",
    "\n",
    "# Apply the preprocessing function to the entire dataset\n",
    "tokenized_dataset = ds.map(preprocess_function, batched=True)\n",
    "train_dataset_split = tokenized_dataset['train']"
   ]
  },
  {
   "cell_type": "code",
   "execution_count": null,
   "metadata": {
    "trusted": true
   },
   "outputs": [],
   "source": [
    "# Load the model with custom configuration\n",
    "model = PegasusXForConditionalGeneration.from_pretrained(\n",
    "    \"google/pegasus-x-base\",\n",
    "    config=config,\n",
    "    ignore_mismatched_sizes=True\n",
    ").to(device)\n",
    "\n",
    "# Initialize data collator for sequence-to-sequence tasks\n",
    "data_collator = DataCollatorForSeq2Seq(tokenizer=tokenizer, model=model)\n",
    "\n",
    "# Define training arguments\n",
    "training_args = TrainingArguments(\n",
    "    output_dir=\"./results\",               # Output directory for model checkpoints\n",
    "    per_device_train_batch_size=8,        # Batch size per device during training\n",
    "    num_train_epochs=3,                   # Total number of training epochs\n",
    "    weight_decay=0.01,                    # Weight decay for regularization\n",
    "    logging_dir='./logs',                 # Directory for storing logs\n",
    "    logging_steps=10,                     # Log every N steps\n",
    "    save_strategy=\"epoch\",                # Save checkpoint at the end of each epoch\n",
    "    report_to=\"tensorboard\"               # Report metrics to TensorBoard\n",
    ")"
   ]
  },
  {
   "cell_type": "code",
   "execution_count": null,
   "metadata": {
    "trusted": true
   },
   "outputs": [],
   "source": [
    "# Initialize the Trainer\n",
    "trainer = Trainer(\n",
    "    model=model,\n",
    "    args=training_args,\n",
    "    train_dataset=train_dataset_split,\n",
    "    tokenizer=tokenizer,\n",
    "    data_collator=data_collator\n",
    ")"
   ]
  },
  {
   "cell_type": "code",
   "execution_count": null,
   "metadata": {
    "trusted": true
   },
   "outputs": [],
   "source": [
    "# Start the fine-tuning process\n",
    "print(\"Starting model training...\")\n",
    "trainer.train()\n",
    "print(\"Training completed!\")"
   ]
  },
  {
   "cell_type": "code",
   "execution_count": null,
   "metadata": {
    "trusted": true
   },
   "outputs": [],
   "source": [
    "!mkdir -p results"
   ]
  },
  {
   "cell_type": "code",
   "execution_count": null,
   "metadata": {
    "trusted": true
   },
   "outputs": [],
   "source": [
    "!rm -r results"
   ]
  },
  {
   "cell_type": "code",
   "execution_count": null,
   "metadata": {
    "trusted": true
   },
   "outputs": [],
   "source": [
    "# Save the fine-tuned model\n",
    "output_dir = f\"/kaggle/working/{activation}\"\n",
    "trainer.save_model(output_dir)\n",
    "print(f\"Model saved to {output_dir}\")"
   ]
  }
 ],
 "metadata": {
  "kaggle": {
   "accelerator": "gpu",
   "dataSources": [
    {
     "datasetId": 8363024,
     "sourceId": 13196451,
     "sourceType": "datasetVersion"
    }
   ],
   "dockerImageVersionId": 31090,
   "isGpuEnabled": true,
   "isInternetEnabled": true,
   "language": "python",
   "sourceType": "notebook"
  },
  "kernelspec": {
   "display_name": "Python 3",
   "language": "python",
   "name": "python3"
  },
  "language_info": {
   "codemirror_mode": {
    "name": "ipython",
    "version": 3
   },
   "file_extension": ".py",
   "mimetype": "text/x-python",
   "name": "python",
   "nbconvert_exporter": "python",
   "pygments_lexer": "ipython3",
   "version": "3.11.13"
  }
 },
 "nbformat": 4,
 "nbformat_minor": 4
}
