{
  "nbformat": 4,
  "nbformat_minor": 0,
  "metadata": {
    "colab": {
      "provenance": []
    },
    "kernelspec": {
      "name": "python3",
      "display_name": "Python 3"
    },
    "language_info": {
      "name": "python"
    }
  },
  "cells": [
    {
      "cell_type": "code",
      "execution_count": 1,
      "metadata": {
        "id": "eQJrn_X_Z3sy"
      },
      "outputs": [],
      "source": [
        "import requests\n",
        "import json\n",
        "import os\n",
        "from dotenv import load_dotenv\n",
        "\n",
        "from google.colab import userdata"
      ]
    },
    {
      "cell_type": "code",
      "source": [
        "load_dotenv()\n",
        "\n",
        "os.environ['PERSPECTIVE_API_KEY'] = userdata.get('PERSPECTIVE_API_KEY')\n",
        "\n",
        "API_KEY = os.environ['PERSPECTIVE_API_KEY']"
      ],
      "metadata": {
        "id": "x_rIHPJYk5pT"
      },
      "execution_count": 2,
      "outputs": []
    },
    {
      "cell_type": "code",
      "source": [
        "TEXT_TO_ANALYZE = \"This comment is really disrespectful.\"\n",
        "\n",
        "url = f\"https://commentanalyzer.googleapis.com/v1alpha1/comments:analyze?key={API_KEY}\"\n",
        "\n",
        "payload = {\n",
        "    \"comment\": {\"text\": TEXT_TO_ANALYZE},\n",
        "    \"requestedAttributes\": {\n",
        "        \"TOXICITY\": {},\n",
        "        \"SEVERE_TOXICITY\": {},\n",
        "        \"INSULT\": {}\n",
        "    }\n",
        "}\n",
        "\n",
        "headers = {\"Content-Type\": \"application/json\"}"
      ],
      "metadata": {
        "id": "MbQrmjdNaDmi"
      },
      "execution_count": 7,
      "outputs": []
    },
    {
      "cell_type": "code",
      "source": [
        "response = requests.post(url, data=json.dumps(payload), headers=headers)\n",
        "result = response.json()\n",
        "\n",
        "print(json.dumps(result, indent=2))"
      ],
      "metadata": {
        "colab": {
          "base_uri": "https://localhost:8080/"
        },
        "id": "48lSLgyiaHSy",
        "outputId": "50e56588-04bd-4a2d-89fa-5e31327553c8"
      },
      "execution_count": 8,
      "outputs": [
        {
          "output_type": "stream",
          "name": "stdout",
          "text": [
            "{\n",
            "  \"attributeScores\": {\n",
            "    \"TOXICITY\": {\n",
            "      \"spanScores\": [\n",
            "        {\n",
            "          \"begin\": 0,\n",
            "          \"end\": 37,\n",
            "          \"score\": {\n",
            "            \"value\": 0.15656179,\n",
            "            \"type\": \"PROBABILITY\"\n",
            "          }\n",
            "        }\n",
            "      ],\n",
            "      \"summaryScore\": {\n",
            "        \"value\": 0.15656179,\n",
            "        \"type\": \"PROBABILITY\"\n",
            "      }\n",
            "    },\n",
            "    \"INSULT\": {\n",
            "      \"spanScores\": [\n",
            "        {\n",
            "          \"begin\": 0,\n",
            "          \"end\": 37,\n",
            "          \"score\": {\n",
            "            \"value\": 0.062150877,\n",
            "            \"type\": \"PROBABILITY\"\n",
            "          }\n",
            "        }\n",
            "      ],\n",
            "      \"summaryScore\": {\n",
            "        \"value\": 0.062150877,\n",
            "        \"type\": \"PROBABILITY\"\n",
            "      }\n",
            "    },\n",
            "    \"SEVERE_TOXICITY\": {\n",
            "      \"spanScores\": [\n",
            "        {\n",
            "          \"begin\": 0,\n",
            "          \"end\": 37,\n",
            "          \"score\": {\n",
            "            \"value\": 0.002002716,\n",
            "            \"type\": \"PROBABILITY\"\n",
            "          }\n",
            "        }\n",
            "      ],\n",
            "      \"summaryScore\": {\n",
            "        \"value\": 0.002002716,\n",
            "        \"type\": \"PROBABILITY\"\n",
            "      }\n",
            "    }\n",
            "  },\n",
            "  \"languages\": [\n",
            "    \"en\"\n",
            "  ],\n",
            "  \"detectedLanguages\": [\n",
            "    \"en\"\n",
            "  ]\n",
            "}\n"
          ]
        }
      ]
    },
    {
      "cell_type": "code",
      "source": [],
      "metadata": {
        "id": "1MjV56xBk9Oo"
      },
      "execution_count": null,
      "outputs": []
    }
  ]
}