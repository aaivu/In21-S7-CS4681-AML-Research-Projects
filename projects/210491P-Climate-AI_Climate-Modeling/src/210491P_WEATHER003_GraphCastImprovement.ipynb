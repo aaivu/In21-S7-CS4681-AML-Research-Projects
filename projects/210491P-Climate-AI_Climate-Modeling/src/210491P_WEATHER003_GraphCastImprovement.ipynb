{
  "cells": [
    {
      "cell_type": "markdown",
      "metadata": {
        "id": "koTUv_y1GiFh"
      },
      "source": [
        "# **Graph Cast Improvement Experiments**"
      ]
    },
    {
      "cell_type": "markdown",
      "metadata": {
        "id": "kSgEeEjSGt2s"
      },
      "source": [
        "# 1. Load and Import necessary dependencies"
      ]
    },
    {
      "cell_type": "code",
      "execution_count": null,
      "metadata": {
        "colab": {
          "base_uri": "https://localhost:8080/"
        },
        "collapsed": true,
        "id": "-W4K9skv9vh-",
        "outputId": "c7378553-7f83-4cab-bee6-736c8a74b5de"
      },
      "outputs": [],
      "source": [
        "# @title Install graphcast and dependencies\n",
        "\n",
        "%pip install --upgrade https://github.com/deepmind/graphcast/archive/master.zip"
      ]
    },
    {
      "cell_type": "code",
      "execution_count": null,
      "metadata": {
        "colab": {
          "base_uri": "https://localhost:8080/"
        },
        "collapsed": true,
        "id": "MTh6DO_AIzbH",
        "outputId": "f49ef105-c3e9-4880-b5a3-c345c807fd1f"
      },
      "outputs": [],
      "source": [
        "# @title Workaround for cartopy crashes\n",
        "\n",
        "# Workaround for cartopy crashes due to the shapely installed by default in\n",
        "# google colab kernel (https://github.com/anitagraser/movingpandas/issues/81):\n",
        "!pip uninstall -y shapely\n",
        "!pip install shapely --no-binary shapely"
      ]
    },
    {
      "cell_type": "code",
      "execution_count": null,
      "metadata": {
        "id": "bwFoswTIGrzf"
      },
      "outputs": [],
      "source": [
        "# @title Imports\n",
        "\n",
        "import dataclasses\n",
        "import datetime\n",
        "import functools\n",
        "import math\n",
        "import re\n",
        "from typing import Optional\n",
        "\n",
        "import cartopy.crs as ccrs\n",
        "from google.cloud import storage\n",
        "from graphcast import autoregressive\n",
        "from graphcast import casting\n",
        "from graphcast import checkpoint\n",
        "from graphcast import data_utils\n",
        "from graphcast import graphcast\n",
        "from graphcast import normalization\n",
        "from graphcast import rollout\n",
        "from graphcast import xarray_jax\n",
        "from graphcast import xarray_tree\n",
        "from IPython.display import HTML\n",
        "import ipywidgets as widgets\n",
        "import haiku as hk\n",
        "import jax\n",
        "import jax.numpy as jnp\n",
        "import matplotlib\n",
        "import matplotlib.pyplot as plt\n",
        "from matplotlib import animation\n",
        "import numpy as np\n",
        "import xarray\n",
        "\n",
        "\n",
        "def parse_file_parts(file_name):\n",
        "  return dict(part.split(\"-\", 1) for part in file_name.split(\"_\"))\n"
      ]
    },
    {
      "cell_type": "code",
      "execution_count": null,
      "metadata": {
        "id": "5JUymx84dI2m"
      },
      "outputs": [],
      "source": [
        "# @title Plotting functions\n",
        "\n",
        "def select(\n",
        "    data: xarray.Dataset,\n",
        "    variable: str,\n",
        "    level: Optional[int] = None,\n",
        "    max_steps: Optional[int] = None\n",
        "    ) -> xarray.Dataset:\n",
        "  data = data[variable]\n",
        "  if \"batch\" in data.dims:\n",
        "    data = data.isel(batch=0)\n",
        "  if max_steps is not None and \"time\" in data.sizes and max_steps < data.sizes[\"time\"]:\n",
        "    data = data.isel(time=range(0, max_steps))\n",
        "  if level is not None and \"level\" in data.coords:\n",
        "    data = data.sel(level=level)\n",
        "  return data\n",
        "\n",
        "def scale(\n",
        "    data: xarray.Dataset,\n",
        "    center: Optional[float] = None,\n",
        "    robust: bool = False,\n",
        "    ) -> tuple[xarray.Dataset, matplotlib.colors.Normalize, str]:\n",
        "  vmin = np.nanpercentile(data, (2 if robust else 0))\n",
        "  vmax = np.nanpercentile(data, (98 if robust else 100))\n",
        "  if center is not None:\n",
        "    diff = max(vmax - center, center - vmin)\n",
        "    vmin = center - diff\n",
        "    vmax = center + diff\n",
        "  return (data, matplotlib.colors.Normalize(vmin, vmax),\n",
        "          (\"RdBu_r\" if center is not None else \"viridis\"))\n",
        "\n",
        "def plot_data(\n",
        "    data: dict[str, xarray.Dataset],\n",
        "    fig_title: str,\n",
        "    plot_size: float = 5,\n",
        "    robust: bool = False,\n",
        "    cols: int = 4\n",
        "    ) -> tuple[xarray.Dataset, matplotlib.colors.Normalize, str]:\n",
        "\n",
        "  first_data = next(iter(data.values()))[0]\n",
        "  max_steps = first_data.sizes.get(\"time\", 1)\n",
        "  assert all(max_steps == d.sizes.get(\"time\", 1) for d, _, _ in data.values())\n",
        "\n",
        "  cols = min(cols, len(data))\n",
        "  rows = math.ceil(len(data) / cols)\n",
        "  figure = plt.figure(figsize=(plot_size * 2 * cols,\n",
        "                               plot_size * rows))\n",
        "  figure.suptitle(fig_title, fontsize=16)\n",
        "  figure.subplots_adjust(wspace=0, hspace=0)\n",
        "  figure.tight_layout()\n",
        "\n",
        "  images = []\n",
        "  for i, (title, (plot_data, norm, cmap)) in enumerate(data.items()):\n",
        "    ax = figure.add_subplot(rows, cols, i+1)\n",
        "    ax.set_xticks([])\n",
        "    ax.set_yticks([])\n",
        "    ax.set_title(title)\n",
        "    im = ax.imshow(\n",
        "        plot_data.isel(time=0, missing_dims=\"ignore\"), norm=norm,\n",
        "        origin=\"lower\", cmap=cmap)\n",
        "    plt.colorbar(\n",
        "        mappable=im,\n",
        "        ax=ax,\n",
        "        orientation=\"vertical\",\n",
        "        pad=0.02,\n",
        "        aspect=16,\n",
        "        shrink=0.75,\n",
        "        cmap=cmap,\n",
        "        extend=(\"both\" if robust else \"neither\"))\n",
        "    images.append(im)\n",
        "\n",
        "  def update(frame):\n",
        "    if \"time\" in first_data.dims:\n",
        "      td = datetime.timedelta(microseconds=first_data[\"time\"][frame].item() / 1000)\n",
        "      figure.suptitle(f\"{fig_title}, {td}\", fontsize=16)\n",
        "    else:\n",
        "      figure.suptitle(fig_title, fontsize=16)\n",
        "    for im, (plot_data, norm, cmap) in zip(images, data.values()):\n",
        "      im.set_data(plot_data.isel(time=frame, missing_dims=\"ignore\"))\n",
        "\n",
        "  ani = animation.FuncAnimation(\n",
        "      fig=figure, func=update, frames=max_steps, interval=250)\n",
        "  plt.close(figure.number)\n",
        "  return HTML(ani.to_jshtml())"
      ]
    },
    {
      "cell_type": "code",
      "execution_count": null,
      "metadata": {
        "id": "4wagX1TL_f15"
      },
      "outputs": [],
      "source": [
        "# @title Authenticate with Google Cloud Storage\n",
        "\n",
        "gcs_client = storage.Client.create_anonymous_client()\n",
        "gcs_bucket = gcs_client.get_bucket(\"dm_graphcast\")\n",
        "dir_prefix = \"graphcast/\""
      ]
    },
    {
      "cell_type": "markdown",
      "metadata": {
        "id": "Nw0m4wcba7w9"
      },
      "source": [
        "# 2. Load Pre-trained GraphCast Models"
      ]
    },
    {
      "cell_type": "markdown",
      "metadata": {
        "id": "afZeJGQt6-mo"
      },
      "source": [
        "GraphCast model crashes during runtime due to insufficient memory. I am now switching to GraphCast_small model.\n",
        "\n",
        "*   GraphCast model needs around 60 GB of RAM for inferencing.\n",
        "*   GraphCast_small requires around 10GB of RAM for inferencing.\n",
        "\n",
        "**Assumption:** Whatever approaches improve the GraphCast_small model, also improve GraphCast model"
      ]
    },
    {
      "cell_type": "code",
      "execution_count": null,
      "metadata": {
        "colab": {
          "base_uri": "https://localhost:8080/"
        },
        "id": "Se-8P1hPbDLQ",
        "outputId": "4446e4d0-64f2-4c56-d03c-055000bf4403"
      },
      "outputs": [],
      "source": [
        "# @title Load pre-trained GraphCast_Small Model\n",
        "# checkpoint_filename = \"GraphCast - ERA5 1979-2017 - resolution 0.25 - pressure levels 37 - mesh 2to6 - precipitation input and output.npz\"\n",
        "checkpoint_filename = \"GraphCast_small - ERA5 1979-2015 - resolution 1.0 - pressure levels 13 - mesh 2to5 - precipitation input and output.npz\"\n",
        "\n",
        "# extract model name\n",
        "model_name = checkpoint_filename.split(\"-\")[0].strip()\n",
        "\n",
        "# Load checkpoint from GCS bucket\n",
        "with gcs_bucket.blob(f\"{dir_prefix}params/{checkpoint_filename}\").open(\"rb\") as f:\n",
        "    ckpt = checkpoint.load(f, graphcast.CheckPoint)\n",
        "\n",
        "# Extract components\n",
        "params = ckpt.params          # Pretrained weights\n",
        "state = {}\n",
        "model_config = ckpt.model_config\n",
        "task_config = ckpt.task_config\n",
        "\n",
        "# Show model info\n",
        "print(f\"{model_name} Model Loaded Successfully\\n\")\n",
        "print(\"Model description: \", ckpt.description, \"\\n\")\n",
        "print(\"Model license: \", ckpt.license, \"\\n\")\n"
      ]
    },
    {
      "cell_type": "markdown",
      "metadata": {
        "id": "Y7Q66f_xkgJb"
      },
      "source": [
        "# 3. Load Example Data"
      ]
    },
    {
      "cell_type": "code",
      "execution_count": null,
      "metadata": {
        "colab": {
          "base_uri": "https://localhost:8080/"
        },
        "id": "I4nq3iVZpAtP",
        "outputId": "4f35baf1-cf8b-4491-b697-20415ad86404"
      },
      "outputs": [],
      "source": [
        "# @title Load the appropraite data\n",
        "\n",
        "dataset_file = \"source-era5_date-2022-01-01_res-1.0_levels-13_steps-01.nc\"\n",
        "# dataset_file = \"source-era5_date-2022-01-01_res-1.0_levels-13_steps-04.nc\"\n",
        "# dataset_file = \"source-era5_date-2022-01-01_res-1.0_levels-13_steps-12.nc\"\n",
        "# dataset_file = \"source-era5_date-2022-01-01_res-1.0_levels-13_steps-20.nc\"\n",
        "# dataset_file = \"source-era5_date-2022-01-01_res-1.0_levels-13_steps-40.nc\"\n",
        "\n",
        "\n",
        "# Load dataset from GCS\n",
        "with gcs_bucket.blob(f\"{dir_prefix}dataset/{dataset_file}\").open(\"rb\") as f:\n",
        "    example_batch = xarray.load_dataset(f).compute()\n",
        "\n",
        "print(\"Dataset loaded with dimensions:\", example_batch.dims)\n",
        "example_batch"
      ]
    },
    {
      "cell_type": "code",
      "execution_count": null,
      "metadata": {
        "id": "ucDW-xYhxtdR"
      },
      "outputs": [],
      "source": [
        "# @title Extract inference inputs/targets/forcings\n",
        "inputs, targets, forcings = data_utils.extract_inputs_targets_forcings(\n",
        "    example_batch,\n",
        "    target_lead_times=slice(\"6h\", f\"{(example_batch.sizes['time']-2)*6}h\"),\n",
        "    **dataclasses.asdict(task_config)\n",
        ")"
      ]
    },
    {
      "cell_type": "code",
      "execution_count": null,
      "metadata": {
        "id": "4NMmVnpD0DEi"
      },
      "outputs": [],
      "source": [
        "# @title Load normalization data\n",
        "\n",
        "with gcs_bucket.blob(dir_prefix+\"stats/diffs_stddev_by_level.nc\").open(\"rb\") as f:\n",
        "    diffs_stddev_by_level = xarray.load_dataset(f).compute()\n",
        "with gcs_bucket.blob(dir_prefix+\"stats/mean_by_level.nc\").open(\"rb\") as f:\n",
        "    mean_by_level = xarray.load_dataset(f).compute()\n",
        "with gcs_bucket.blob(dir_prefix+\"stats/stddev_by_level.nc\").open(\"rb\") as f:\n",
        "    stddev_by_level = xarray.load_dataset(f).compute()"
      ]
    },
    {
      "cell_type": "code",
      "execution_count": null,
      "metadata": {
        "id": "MGrWJWP37jj7"
      },
      "outputs": [],
      "source": [
        "# @title Build jitted functions, and possibly initialize random weights\n",
        "\n",
        "# def construct_wrapped_graphcast(\n",
        "#     model_config: graphcast.ModelConfig,\n",
        "#     task_config: graphcast.TaskConfig):\n",
        "#   \"\"\"Constructs and wraps the GraphCast Predictor.\"\"\"\n",
        "#   # Deeper one-step predictor.\n",
        "#   predictor = graphcast.GraphCast(model_config, task_config)\n",
        "\n",
        "#   # Modify inputs/outputs to `graphcast.GraphCast` to handle conversion to\n",
        "#   # from/to float32 to/from BFloat16.\n",
        "#   predictor = casting.Bfloat16Cast(predictor)\n",
        "\n",
        "#   # Modify inputs/outputs to `casting.Bfloat16Cast` so the casting to/from\n",
        "#   # BFloat16 happens after applying normalization to the inputs/targets.\n",
        "#   predictor = normalization.InputsAndResiduals(\n",
        "#       predictor,\n",
        "#       diffs_stddev_by_level=diffs_stddev_by_level,\n",
        "#       mean_by_level=mean_by_level,\n",
        "#       stddev_by_level=stddev_by_level)\n",
        "\n",
        "#   # Wraps everything so the one-step model can produce trajectories.\n",
        "#   predictor = autoregressive.Predictor(predictor, gradient_checkpointing=True)\n",
        "#   return predictor\n",
        "\n",
        "\n",
        "# @hk.transform_with_state\n",
        "# def run_forward(model_config, task_config, inputs, targets_template, forcings):\n",
        "#   predictor = construct_wrapped_graphcast(model_config, task_config)\n",
        "#   return predictor(inputs, targets_template=targets_template, forcings=forcings)\n",
        "\n",
        "\n",
        "# # @hk.transform_with_state\n",
        "# # def loss_fn(model_config, task_config, inputs, targets, forcings):\n",
        "# #   predictor = construct_wrapped_graphcast(model_config, task_config)\n",
        "# #   loss, diagnostics = predictor.loss(inputs, targets, forcings)\n",
        "# #   return xarray_tree.map_structure(\n",
        "# #       lambda x: xarray_jax.unwrap_data(x.mean(), require_jax=True),\n",
        "# #       (loss, diagnostics))\n",
        "\n",
        "# # def grads_fn(params, state, model_config, task_config, inputs, targets, forcings):\n",
        "# #   def _aux(params, state, i, t, f):\n",
        "# #     (loss, diagnostics), next_state = loss_fn.apply(\n",
        "# #         params, state, jax.random.PRNGKey(0), model_config, task_config,\n",
        "# #         i, t, f)\n",
        "# #     return loss, (diagnostics, next_state)\n",
        "# #   (loss, (diagnostics, next_state)), grads = jax.value_and_grad(\n",
        "# #       _aux, has_aux=True)(params, state, inputs, targets, forcings)\n",
        "# #   return loss, diagnostics, next_state, grads\n",
        "\n",
        "# # Jax doesn't seem to like passing configs as args through the jit. Passing it\n",
        "# # in via partial (instead of capture by closure) forces jax to invalidate the\n",
        "# # jit cache if you change configs.\n",
        "# def with_configs(fn):\n",
        "#   return functools.partial(\n",
        "#       fn, model_config=model_config, task_config=task_config)\n",
        "\n",
        "# # Always pass params and state, so the usage below are simpler\n",
        "# def with_params(fn):\n",
        "#   return functools.partial(fn, params=params, state=state)\n",
        "\n",
        "# # Our models aren't stateful, so the state is always empty, so just return the\n",
        "# # predictions. This is requiredy by our rollout code, and generally simpler.\n",
        "# def drop_state(fn):\n",
        "#   return lambda **kw: fn(**kw)[0]\n",
        "\n",
        "# # init_jitted = jax.jit(with_configs(run_forward.init))\n",
        "\n",
        "# # if params is None:\n",
        "# #   params, state = init_jitted(\n",
        "# #       rng=jax.random.PRNGKey(0),\n",
        "# #       inputs=train_inputs,\n",
        "# #       targets_template=train_targets,\n",
        "# #       forcings=train_forcings)\n",
        "\n",
        "# # loss_fn_jitted = drop_state(with_params(jax.jit(with_configs(loss_fn.apply))))\n",
        "# # grads_fn_jitted = with_params(jax.jit(with_configs(grads_fn)))\n",
        "# run_forward_jitted = drop_state(with_params(jax.jit(with_configs(\n",
        "#     run_forward.apply))))"
      ]
    },
    {
      "cell_type": "code",
      "execution_count": null,
      "metadata": {
        "id": "hmwwaQpMgP8R"
      },
      "outputs": [],
      "source": [
        "# @title Build jitted functions, and possibly initialize random weights\n",
        "\n",
        "def construct_wrapped_graphcast(\n",
        "    model_config: graphcast.ModelConfig,\n",
        "    task_config: graphcast.TaskConfig):\n",
        "  \"\"\"Constructs and wraps the GraphCast Predictor.\"\"\"\n",
        "  # Deeper one-step predictor.\n",
        "  predictor = graphcast.GraphCast(model_config, task_config)\n",
        "\n",
        "  # Modify inputs/outputs to `graphcast.GraphCast` to handle conversion to\n",
        "  # from/to float32 to/from BFloat16.\n",
        "  predictor = casting.Bfloat16Cast(predictor)\n",
        "\n",
        "  # Modify inputs/outputs to `casting.Bfloat16Cast` so the casting to/from\n",
        "  # BFloat16 happens after applying normalization to the inputs/targets.\n",
        "  predictor = normalization.InputsAndResiduals(\n",
        "      predictor,\n",
        "      diffs_stddev_by_level=diffs_stddev_by_level,\n",
        "      mean_by_level=mean_by_level,\n",
        "      stddev_by_level=stddev_by_level)\n",
        "\n",
        "  # Wraps everything so the one-step model can produce trajectories.\n",
        "  predictor = autoregressive.Predictor(predictor, gradient_checkpointing=True)\n",
        "  return predictor\n",
        "\n",
        "\n",
        "@hk.transform_with_state\n",
        "def run_forward(model_config, task_config, inputs, targets_template, forcings):\n",
        "  predictor = construct_wrapped_graphcast(model_config, task_config)\n",
        "  return predictor(inputs, targets_template=targets_template, forcings=forcings)\n",
        "\n",
        "# Jax doesn't seem to like passing configs as args through the jit. Passing it\n",
        "# in via partial (instead of capture by closure) forces jax to invalidate the\n",
        "# jit cache if you change configs.\n",
        "def with_configs(fn):\n",
        "  return functools.partial(\n",
        "      fn, model_config=model_config, task_config=task_config)\n",
        "\n",
        "# Always pass params and state, so the usage below are simpler\n",
        "def with_params(fn):\n",
        "  return functools.partial(fn, params=params, state=state)\n",
        "\n",
        "# Our models aren't stateful, so the state is always empty, so just return the\n",
        "# predictions. This is requiredy by our rollout code, and generally simpler.\n",
        "def drop_state(fn):\n",
        "  return lambda **kw: fn(**kw)[0]\n",
        "\n",
        "run_forward_jitted = drop_state(with_params(jax.jit(with_configs(\n",
        "    run_forward.apply))))"
      ]
    },
    {
      "cell_type": "markdown",
      "metadata": {
        "id": "jVfIMvy-4hOA"
      },
      "source": [
        "# 4. Model Inferencing / Run the Model"
      ]
    },
    {
      "cell_type": "code",
      "execution_count": null,
      "metadata": {
        "colab": {
          "base_uri": "https://localhost:8080/",
          "height": 692
        },
        "id": "KKJCFWbA8Okq",
        "outputId": "879da593-cb2a-4458-9a2c-7558057121fa"
      },
      "outputs": [],
      "source": [
        "# @title Autoregressive rollout (loop in python)\n",
        "\n",
        "assert model_config.resolution in (0, 360. / example_batch.sizes[\"lon\"]), (\n",
        "  \"Model resolution doesn't match the data resolution. You likely want to \"\n",
        "  \"re-filter the dataset list, and download the correct data.\")\n",
        "\n",
        "\n",
        "predictions = rollout.chunked_prediction(\n",
        "    run_forward_jitted,\n",
        "    rng=jax.random.PRNGKey(0),\n",
        "    inputs=inputs,\n",
        "    targets_template=targets * np.nan,\n",
        "    forcings=forcings)\n",
        "predictions"
      ]
    },
    {
      "cell_type": "code",
      "execution_count": null,
      "metadata": {
        "colab": {
          "base_uri": "https://localhost:8080/",
          "height": 458
        },
        "id": "AcAkx4uBvgdg",
        "outputId": "407a2392-c1df-490b-9820-ec03fe91eade"
      },
      "outputs": [],
      "source": [
        "predictions[\"2m_temperature\"]"
      ]
    },
    {
      "cell_type": "code",
      "execution_count": null,
      "metadata": {
        "colab": {
          "base_uri": "https://localhost:8080/",
          "height": 266,
          "referenced_widgets": [
            "afdcffbd507041b0ae12a023c1965c78",
            "e2e78a7486fe496f8ef56efe2ea1cfc6",
            "e8595df10a974500af6543d4a1dd6424",
            "5d3d6d7b015b480aa6a23f5265703a7f",
            "ab1a63d4dc1b4af49e4f809cb6fed3da",
            "60ce59537bce4f3eb5aae76355a9f94e",
            "2b25fc4750fc42d88f34155461e36397",
            "81db872de4b94f91b9488cf809a2025a",
            "a4bc12f07cb64eff9e84fe77ec5e0738",
            "70504fa589764b8b866f701c865aa316",
            "50f3f1a2d2794194a7852179631e2ca8",
            "4d12b84f067e4d99b6a3e956719d3cf3",
            "700fbbc919bc4b889f054e0a0be81551",
            "c77a47ebc8b24ffd836c0b32b2d76685",
            "8781a307da8740c3a2cbbc896bc43605",
            "5972e20563ce43ee9784a3be4006c44b",
            "360d0f0e7afd4364bd72ba730843032a"
          ]
        },
        "id": "62x2RiIz9gUu",
        "outputId": "bb06298c-f474-4496-9f64-e8af66d8b3a2"
      },
      "outputs": [],
      "source": [
        "# @title Choose predictions to plot\n",
        "\n",
        "plot_pred_variable = widgets.Dropdown(\n",
        "    options=predictions.data_vars.keys(),\n",
        "    value=\"2m_temperature\",\n",
        "    description=\"Variable\")\n",
        "plot_pred_level = widgets.Dropdown(\n",
        "    options=predictions.coords[\"level\"].values,\n",
        "    value=500,\n",
        "    description=\"Level\")\n",
        "plot_pred_robust = widgets.Checkbox(value=True, description=\"Robust\")\n",
        "plot_pred_max_steps = widgets.IntSlider(\n",
        "    min=1,\n",
        "    max=predictions.dims[\"time\"],\n",
        "    value=predictions.dims[\"time\"],\n",
        "    description=\"Max steps\")\n",
        "\n",
        "widgets.VBox([\n",
        "    plot_pred_variable,\n",
        "    plot_pred_level,\n",
        "    plot_pred_robust,\n",
        "    plot_pred_max_steps,\n",
        "    widgets.Label(value=\"Run the next cell to plot the predictions. Rerunning this cell clears your selection.\")\n",
        "])"
      ]
    },
    {
      "cell_type": "code",
      "execution_count": null,
      "metadata": {
        "colab": {
          "base_uri": "https://localhost:8080/",
          "height": 653
        },
        "id": "6YSwNJmN9jWp",
        "outputId": "e747d099-0e1e-4df5-be6b-6531c700bfe9"
      },
      "outputs": [],
      "source": [
        "# @title Plot predictions\n",
        "\n",
        "plot_size = 5\n",
        "plot_max_steps = min(predictions.dims[\"time\"], plot_pred_max_steps.value)\n",
        "\n",
        "data = {\n",
        "    \"Targets\": scale(select(targets, plot_pred_variable.value, plot_pred_level.value, plot_max_steps), robust=plot_pred_robust.value),\n",
        "    \"Predictions\": scale(select(predictions, plot_pred_variable.value, plot_pred_level.value, plot_max_steps), robust=plot_pred_robust.value),\n",
        "    \"Diff\": scale((select(targets, plot_pred_variable.value, plot_pred_level.value, plot_max_steps) -\n",
        "                        select(predictions, plot_pred_variable.value, plot_pred_level.value, plot_max_steps)),\n",
        "                       robust=plot_pred_robust.value, center=0),\n",
        "}\n",
        "fig_title = plot_pred_variable.value\n",
        "if \"level\" in predictions[plot_pred_variable.value].coords:\n",
        "  fig_title += f\" at {plot_pred_level.value} hPa\"\n",
        "\n",
        "plot_data(data, fig_title, plot_size, plot_pred_robust.value)\n"
      ]
    },
    {
      "cell_type": "code",
      "execution_count": null,
      "metadata": {
        "id": "UZN_2x2yAq6w"
      },
      "outputs": [],
      "source": []
    },
    {
      "cell_type": "markdown",
      "metadata": {
        "id": "oOE3i2eVxe9D"
      },
      "source": [
        "# 5. Experiments with Ensemble Statistics (Mean, Median)"
      ]
    },
    {
      "cell_type": "markdown",
      "metadata": {
        "id": "wRalV5NJtJL0"
      },
      "source": [
        "# 5.1. Taking Ensemble Mean"
      ]
    },
    {
      "cell_type": "code",
      "execution_count": null,
      "metadata": {
        "colab": {
          "base_uri": "https://localhost:8080/",
          "height": 751
        },
        "id": "TUMvZnzXg9Qr",
        "outputId": "c27a5c3c-ba3a-44e7-91d4-ef500b669972"
      },
      "outputs": [],
      "source": [
        "# @title Ensemble Rollout Functions with Gaussian Noise\n",
        "\n",
        "ensemble_size = 10       # number of ensemble members\n",
        "noise_std = 0.0000001        # standard deviation of Gaussian noise added to inputs\n",
        "\n",
        "\n",
        "def add_gaussian_noise(inputs, rng, std):\n",
        "    \"\"\"Adds Gaussian noise to all input arrays.\"\"\"\n",
        "    noisy_inputs_dict = {}\n",
        "    for k, v in inputs.items():\n",
        "        key, rng = jax.random.split(rng)\n",
        "        noise = jax.random.normal(key, v.shape) * std\n",
        "        noisy_inputs_dict[k] = v + noise\n",
        "    # Convert back to xarray Dataset\n",
        "    return xarray.Dataset(noisy_inputs_dict), rng\n",
        "\n",
        "def ensemble_rollout(run_fn, inputs, targets_template, forcings, ensemble_size=5, std=noise_std, rng=jax.random.PRNGKey(0)):\n",
        "    ensemble_predictions_data = []\n",
        "    for i in range(ensemble_size):\n",
        "        rng, subkey = jax.random.split(rng)\n",
        "        noisy_inputs, _ = add_gaussian_noise(inputs, subkey, std)\n",
        "\n",
        "        # Pass the subkey as the rng argument to the run_fn\n",
        "        pred = run_fn(rng=subkey, inputs=noisy_inputs, targets_template=targets_template, forcings=forcings)\n",
        "\n",
        "        # Add ensemble dimension\n",
        "        pred = pred.expand_dims({\"ensemble\": [i]})\n",
        "        ensemble_predictions_data.append(pred)\n",
        "        print(f\"Ensemble member {i+1} done.\")\n",
        "\n",
        "    return xarray.concat(ensemble_predictions_data, dim=\"ensemble\").astype(np.float32)\n",
        "\n",
        "\n",
        "ensemble_preds_data = ensemble_rollout(\n",
        "    run_forward_jitted,\n",
        "    inputs=inputs,\n",
        "    targets_template=targets * np.nan,\n",
        "    forcings=forcings,\n",
        "    ensemble_size=ensemble_size,\n",
        "    std=noise_std,\n",
        "    rng=jax.random.PRNGKey(42)\n",
        ")\n",
        "\n",
        "ensemble_preds_data"
      ]
    },
    {
      "cell_type": "code",
      "execution_count": null,
      "metadata": {
        "colab": {
          "base_uri": "https://localhost:8080/",
          "height": 1000
        },
        "id": "0bDxE1QF2LBO",
        "outputId": "3fbb4c5c-dc85-4272-a363-bf011a04f278"
      },
      "outputs": [],
      "source": [
        "# @title Aggregate ensemble predictions to get ensemble mean\n",
        "\n",
        "ensemble_mean = ensemble_preds_data.mean(dim=\"ensemble\").compute()\n",
        "ensemble_std = ensemble_preds_data.std(dim=\"ensemble\").compute()\n",
        "\n",
        "# Explicitly convert data variables to NumPy arrays and assign back with dimensions\n",
        "for var in ensemble_mean.data_vars:\n",
        "    dims = ensemble_mean[var].dims\n",
        "    ensemble_mean[var] = xarray.DataArray(ensemble_mean[var].values, dims=dims)\n",
        "\n",
        "for var in ensemble_std.data_vars:\n",
        "    dims = ensemble_std[var].dims\n",
        "    ensemble_std[var] = xarray.DataArray(ensemble_std[var].values, dims=dims)\n",
        "\n",
        "\n",
        "print(\"Ensemble Mean:\")\n",
        "display(ensemble_mean)\n",
        "\n",
        "print(\"\\nEnsemble Standard Deviation:\")\n",
        "display(ensemble_std)"
      ]
    },
    {
      "cell_type": "code",
      "execution_count": null,
      "metadata": {
        "colab": {
          "base_uri": "https://localhost:8080/",
          "height": 266,
          "referenced_widgets": [
            "ae5bc8b9f629457a94b86bc6d9c04e4b",
            "48d879e90fcf4b1db448be3de9be1b83",
            "c5066b470d964fa281bb6f6101202fc0",
            "59a911636de040b0b0cd1695902e3f58",
            "af6423e358d346a886a9c37ef6959d00",
            "4c9df6ee330748b7a157065b687878f1",
            "a60c112b703d471a8182f2f1b18e1f9b",
            "d2d4ccebf9334e9a81826abe548282f2",
            "83583c8951ba44cda15a3b7ef226fd75",
            "0cafcead43454a139ddf2a49e7020eff",
            "deaf9b12bbdd460082136a6307203492",
            "1e03ab3977864aa284cac749a6da5572",
            "873bb8cf8d38402bb873d21c977e9b02",
            "78dba4d5a97f44999dcf4f76310de56f",
            "a267594b6dc34ad6b346bdfa110d34fd",
            "6ff70be4393d47a69ce6f55e70903c77",
            "a7af0b5ba0c3469f9e667c40ddaee61a"
          ]
        },
        "id": "i8bWUR0rm1K9",
        "outputId": "7bb6a978-5207-4140-cfde-ad3edd3bb566"
      },
      "outputs": [],
      "source": [
        "# @title Choose ensemble mean to plot\n",
        "\n",
        "plot_pred_variable = widgets.Dropdown(\n",
        "    options=ensemble_mean.data_vars.keys(),\n",
        "    value=\"2m_temperature\",\n",
        "    description=\"Variable\")\n",
        "plot_pred_level = widgets.Dropdown(\n",
        "    options=ensemble_mean.coords[\"level\"].values,\n",
        "    value=500,\n",
        "    description=\"Level\")\n",
        "plot_pred_robust = widgets.Checkbox(value=True, description=\"Robust\")\n",
        "plot_pred_max_steps = widgets.IntSlider(\n",
        "    min=1,\n",
        "    max=ensemble_mean.dims[\"time\"],\n",
        "    value=ensemble_mean.dims[\"time\"],\n",
        "    description=\"Max steps\")\n",
        "\n",
        "widgets.VBox([\n",
        "    plot_pred_variable,\n",
        "    plot_pred_level,\n",
        "    plot_pred_robust,\n",
        "    plot_pred_max_steps,\n",
        "    widgets.Label(value=\"Run the next cell to plot the predictions. Rerunning this cell clears your selection.\")\n",
        "])"
      ]
    },
    {
      "cell_type": "code",
      "execution_count": null,
      "metadata": {
        "colab": {
          "base_uri": "https://localhost:8080/",
          "height": 653
        },
        "id": "5q-JVU4YnJGA",
        "outputId": "f1fa9f9a-e813-4114-a906-a6698287a317"
      },
      "outputs": [],
      "source": [
        "# @title Plot ensemble mean predictions\n",
        "\n",
        "plot_size = 5\n",
        "plot_max_steps = min(ensemble_mean.dims[\"time\"], plot_pred_max_steps.value)\n",
        "\n",
        "data = {\n",
        "    \"Targets\": scale(select(targets, plot_pred_variable.value, plot_pred_level.value, plot_max_steps), robust=plot_pred_robust.value),\n",
        "    \"Predictions\": scale(select(ensemble_mean, plot_pred_variable.value, plot_pred_level.value, plot_max_steps), robust=plot_pred_robust.value),\n",
        "    \"Diff\": scale((select(targets, plot_pred_variable.value, plot_pred_level.value, plot_max_steps) -\n",
        "                        select(ensemble_mean, plot_pred_variable.value, plot_pred_level.value, plot_max_steps)),\n",
        "                       robust=plot_pred_robust.value, center=0),\n",
        "}\n",
        "fig_title = plot_pred_variable.value\n",
        "if \"level\" in ensemble_mean[plot_pred_variable.value].coords:\n",
        "  fig_title += f\" at {plot_pred_level.value} hPa\"\n",
        "\n",
        "plot_data(data, fig_title, plot_size, plot_pred_robust.value)\n"
      ]
    },
    {
      "cell_type": "markdown",
      "metadata": {
        "id": "kVAB2lgbuXUX"
      },
      "source": [
        "# 5.2. Taking Ensemble Median"
      ]
    },
    {
      "cell_type": "code",
      "execution_count": null,
      "metadata": {
        "id": "zSF7h4Xxn2-F"
      },
      "outputs": [],
      "source": [
        "# @title Aggregate median and trimmed mean\n",
        "median = ensemble_preds_data.median(dim=\"ensemble\")\n"
      ]
    },
    {
      "cell_type": "code",
      "execution_count": null,
      "metadata": {
        "colab": {
          "base_uri": "https://localhost:8080/",
          "referenced_widgets": [
            "66c24fce070b4ec6bd2ef774f18a1cd0",
            "5176a9387daa4d53913c02b2a234fdf1",
            "c1e992663cf24c4d95a9e161509b857f",
            "990cd5ceedda4c5297bcc9f15f6828cc",
            "bac94a0ef25649d3ae8f49308e55dd92",
            "17627632e01c49e69699397e79926b39",
            "16803774c533405c98fcfc7bffef750d",
            "e40a9477c67f4f51b73080f543f181e2",
            "247cbb615b3842a08a5f768830e42f5d",
            "ffbf88c2495a4bafbce409a1ffdc42b3",
            "82b086e556914b969ad68a6d1eae40fb",
            "d3f7d177df894e2ba939e9871dcd96cd",
            "e0db73abc6b445ad8552843bfd944ca3",
            "dc21f317e01c42ea8d30b674e318df6d",
            "dfa096573eaf4860ad2e14715b017821",
            "4ab944df245547be891c327cc9bd8065",
            "7250d02b4aa5411c908d0a7fefe2cf81"
          ]
        },
        "id": "ImxuYTP5oDSU",
        "outputId": "4c151eed-612f-4f85-bf47-1508597af181"
      },
      "outputs": [],
      "source": [
        "# @title Choose median of predictions to plot\n",
        "\n",
        "plot_pred_variable = widgets.Dropdown(\n",
        "    options=median.data_vars.keys(),\n",
        "    value=\"2m_temperature\",\n",
        "    description=\"Variable\")\n",
        "plot_pred_level = widgets.Dropdown(\n",
        "    options=median.coords[\"level\"].values,\n",
        "    value=500,\n",
        "    description=\"Level\")\n",
        "plot_pred_robust = widgets.Checkbox(value=True, description=\"Robust\")\n",
        "plot_pred_max_steps = widgets.IntSlider(\n",
        "    min=1,\n",
        "    max=median.dims[\"time\"],\n",
        "    value=median.dims[\"time\"],\n",
        "    description=\"Max steps\")\n",
        "\n",
        "widgets.VBox([\n",
        "    plot_pred_variable,\n",
        "    plot_pred_level,\n",
        "    plot_pred_robust,\n",
        "    plot_pred_max_steps,\n",
        "    widgets.Label(value=\"Run the next cell to plot the predictions. Rerunning this cell clears your selection.\")\n",
        "])"
      ]
    },
    {
      "cell_type": "code",
      "execution_count": null,
      "metadata": {
        "colab": {
          "base_uri": "https://localhost:8080/"
        },
        "id": "ExKM-UzCoRUL",
        "outputId": "049aa395-ae03-4cec-c7df-0ae08d2c0d98"
      },
      "outputs": [],
      "source": [
        "# @title Plot median of predictions\n",
        "\n",
        "plot_size = 5\n",
        "plot_max_steps = min(median.dims[\"time\"], plot_pred_max_steps.value)\n",
        "\n",
        "data = {\n",
        "    \"Targets\": scale(select(targets, plot_pred_variable.value, plot_pred_level.value, plot_max_steps), robust=plot_pred_robust.value),\n",
        "    \"Predictions\": scale(select(median, plot_pred_variable.value, plot_pred_level.value, plot_max_steps), robust=plot_pred_robust.value),\n",
        "    \"Diff\": scale((select(targets, plot_pred_variable.value, plot_pred_level.value, plot_max_steps) -\n",
        "                        select(median, plot_pred_variable.value, plot_pred_level.value, plot_max_steps)),\n",
        "                       robust=plot_pred_robust.value, center=0),\n",
        "}\n",
        "fig_title = plot_pred_variable.value\n",
        "if \"level\" in median[plot_pred_variable.value].coords:\n",
        "  fig_title += f\" at {plot_pred_level.value} hPa\"\n",
        "\n",
        "plot_data(data, fig_title, plot_size, plot_pred_robust.value)\n"
      ]
    },
    {
      "cell_type": "markdown",
      "metadata": {
        "id": "vZLVGXFPti8D"
      },
      "source": [
        "# 5.3. Taking Trimmed Ensemble Mean"
      ]
    },
    {
      "cell_type": "code",
      "execution_count": null,
      "metadata": {
        "id": "Cvp1gNmgtin5"
      },
      "outputs": [],
      "source": [
        "# @title Calculating Trimmed Ensemble Mean\n",
        "trimmed_mean = ensemble_preds_data.sortby(\"ensemble\").isel(ensemble=slice(1, -1)).mean(dim=\"ensemble\")"
      ]
    },
    {
      "cell_type": "code",
      "execution_count": null,
      "metadata": {
        "colab": {
          "base_uri": "https://localhost:8080/",
          "referenced_widgets": [
            "5d35c9cbfe0e4cb7bb8792a775ee61a1",
            "eb87493376044484a74998c245725b75",
            "6578ce7744614bce9de48959741581c3",
            "d5f603cdccfe4f2db89af36e51d6c758",
            "abecbf62a4064971aa53ba13c78b5160",
            "09acae558cd84cdeb8af6853243a8531",
            "6193a9d374c94320b6aabf1794b53861",
            "4a1a76af72164519a4211848721bb01b",
            "f9c75c4bf12c490494373813e6937ff8",
            "22100fe8d8904397ade08168b2d8829b",
            "9a94701922484d37a3b1849e940bb4f3",
            "a603e74e1dd3409185e119a065ba56f6",
            "ab2f998db218492ab5b7ecf53827a792",
            "099eba60f3da44a5b1fa601fce4ffc9b",
            "769faed710b94ff1a5f337e5141f9c1b",
            "d2bdf047dfe1441caaacd280b110f1a1",
            "b12a64030bde45d29d497a0d97953288"
          ]
        },
        "id": "U2pm_JWEoj5V",
        "outputId": "06cbb284-172e-43bf-a795-a12473a1bdef"
      },
      "outputs": [],
      "source": [
        "# @title Choose predictions to plot trimmed mean\n",
        "\n",
        "plot_pred_variable = widgets.Dropdown(\n",
        "    options=trimmed_mean.data_vars.keys(),\n",
        "    value=\"2m_temperature\",\n",
        "    description=\"Variable\")\n",
        "plot_pred_level = widgets.Dropdown(\n",
        "    options=trimmed_mean.coords[\"level\"].values,\n",
        "    value=500,\n",
        "    description=\"Level\")\n",
        "plot_pred_robust = widgets.Checkbox(value=True, description=\"Robust\")\n",
        "plot_pred_max_steps = widgets.IntSlider(\n",
        "    min=1,\n",
        "    max=trimmed_mean.dims[\"time\"],\n",
        "    value=trimmed_mean.dims[\"time\"],\n",
        "    description=\"Max steps\")\n",
        "\n",
        "widgets.VBox([\n",
        "    plot_pred_variable,\n",
        "    plot_pred_level,\n",
        "    plot_pred_robust,\n",
        "    plot_pred_max_steps,\n",
        "    widgets.Label(value=\"Run the next cell to plot the predictions. Rerunning this cell clears your selection.\")\n",
        "])"
      ]
    },
    {
      "cell_type": "code",
      "execution_count": null,
      "metadata": {
        "colab": {
          "base_uri": "https://localhost:8080/"
        },
        "id": "4F2ckLqVoulL",
        "outputId": "a2710e33-ad5f-46e7-96e3-3efcc3743c43"
      },
      "outputs": [],
      "source": [
        "# @title Plot trimmed mean of predictions\n",
        "\n",
        "plot_size = 5\n",
        "plot_max_steps = min(trimmed_mean.dims[\"time\"], plot_pred_max_steps.value)\n",
        "\n",
        "data = {\n",
        "    \"Targets\": scale(select(targets, plot_pred_variable.value, plot_pred_level.value, plot_max_steps), robust=plot_pred_robust.value),\n",
        "    \"Predictions\": scale(select(trimmed_mean, plot_pred_variable.value, plot_pred_level.value, plot_max_steps), robust=plot_pred_robust.value),\n",
        "    \"Diff\": scale((select(targets, plot_pred_variable.value, plot_pred_level.value, plot_max_steps) -\n",
        "                        select(trimmed_mean, plot_pred_variable.value, plot_pred_level.value, plot_max_steps)),\n",
        "                       robust=plot_pred_robust.value, center=0),\n",
        "}\n",
        "fig_title = plot_pred_variable.value\n",
        "if \"level\" in trimmed_mean[plot_pred_variable.value].coords:\n",
        "  fig_title += f\" at {plot_pred_level.value} hPa\"\n",
        "\n",
        "plot_data(data, fig_title, plot_size, plot_pred_robust.value)\n"
      ]
    },
    {
      "cell_type": "markdown",
      "metadata": {
        "id": "fY6mGymqvAWe"
      },
      "source": [
        "# 5.4. Trying Bias Correction"
      ]
    },
    {
      "cell_type": "code",
      "execution_count": null,
      "metadata": {
        "colab": {
          "base_uri": "https://localhost:8080/",
          "height": 637
        },
        "id": "sUmPBc2LpgJ7",
        "outputId": "c0337cfc-db83-48b4-b5c5-e3ef00d997f4"
      },
      "outputs": [],
      "source": [
        "# @title Simple Bias Correction\n",
        "\n",
        "# Apply bias correction to the ensemble mean predictions\n",
        "corrected_predictions = ensemble_mean.copy()\n",
        "\n",
        "for var in corrected_predictions.data_vars:\n",
        "    if var in targets.data_vars:\n",
        "        # Flatten time/space for fitting\n",
        "        em_flat = ensemble_mean[var].values.flatten()\n",
        "        y_flat = targets[var].values.flatten()\n",
        "\n",
        "        # Remove NaN values for fitting\n",
        "        mask = ~np.isnan(y_flat)\n",
        "        em_flat_masked = em_flat[mask]\n",
        "        y_flat_masked = y_flat[mask]\n",
        "\n",
        "        if len(em_flat_masked) > 1: # Ensure there's enough data to fit a line\n",
        "            # Fit linear model (obs = a * ensemble_mean + b)\n",
        "            a, b = np.polyfit(em_flat_masked, y_flat_masked, 1)\n",
        "\n",
        "            # Apply bias correction to the current variable\n",
        "            corrected_predictions[var] = a * corrected_predictions[var] + b\n",
        "        else:\n",
        "            print(f\"Skipping bias correction for {var} due to insufficient data.\")\n",
        "    else:\n",
        "        print(f\"Skipping bias correction for {var} as it is not in targets.\")\n",
        "\n",
        "print(\"Bias Corrected Ensemble Mean:\")\n",
        "display(corrected_predictions)"
      ]
    },
    {
      "cell_type": "code",
      "execution_count": null,
      "metadata": {
        "colab": {
          "base_uri": "https://localhost:8080/",
          "height": 266,
          "referenced_widgets": [
            "c8eac649a3904f688be6b9069839bdca",
            "31eff17eda64427dac07d3fd0a4baafd",
            "402de2193e704217ba08223eaa0d4fe5",
            "aefe17285ceb4817b253f1e4f5f8f697",
            "03aa04e819f14d2a97e5a241a3fb5ef6",
            "7b5c05d83cc64742800d05be196e1d69",
            "1bca215a91ff419c9c4999eca7bc6213",
            "30da5a38de254792a47c7f05a58f086d",
            "0fdec21e2b4b496a9b20fa11595d7522",
            "25767aed95644fb5b48295cc871b08a4",
            "9a8a9739273848948d64744e5282d78b",
            "eae986fd7e214666bd1bded0ef930d14",
            "5a0421094b0f4890b68b9b78153336c2",
            "7a2c598314184f2fbcf5984a8b02951d",
            "039abfb598434a3e852fc80e27a69a7b",
            "bf54e59a6c3941f8b720e2395f3d4892",
            "ca3654bf0c2d4450b259e02a513ed0a7"
          ]
        },
        "id": "yqpcWv4eqLBh",
        "outputId": "f7e3136e-ba72-408e-f9aa-68c44073fa47"
      },
      "outputs": [],
      "source": [
        "# @title Choose corrected_predictions to plot\n",
        "\n",
        "plot_pred_variable = widgets.Dropdown(\n",
        "    options=corrected_predictions.data_vars.keys(),\n",
        "    value=\"2m_temperature\",\n",
        "    description=\"Variable\")\n",
        "plot_pred_level = widgets.Dropdown(\n",
        "    options=corrected_predictions.coords[\"level\"].values,\n",
        "    value=500,\n",
        "    description=\"Level\")\n",
        "plot_pred_robust = widgets.Checkbox(value=True, description=\"Robust\")\n",
        "plot_pred_max_steps = widgets.IntSlider(\n",
        "    min=1,\n",
        "    max=corrected_predictions.dims[\"time\"],\n",
        "    value=corrected_predictions.dims[\"time\"],\n",
        "    description=\"Max steps\")\n",
        "\n",
        "widgets.VBox([\n",
        "    plot_pred_variable,\n",
        "    plot_pred_level,\n",
        "    plot_pred_robust,\n",
        "    plot_pred_max_steps,\n",
        "    widgets.Label(value=\"Run the next cell to plot the predictions. Rerunning this cell clears your selection.\")\n",
        "])"
      ]
    },
    {
      "cell_type": "code",
      "execution_count": null,
      "metadata": {
        "colab": {
          "base_uri": "https://localhost:8080/",
          "height": 653
        },
        "id": "EUGSbFEBqVzM",
        "outputId": "470dcf31-7463-4b93-846d-4fb0d2f0e845"
      },
      "outputs": [],
      "source": [
        "# @title Plot bias corrected_predictions\n",
        "\n",
        "plot_size = 5\n",
        "plot_max_steps = min(corrected_predictions.dims[\"time\"], plot_pred_max_steps.value)\n",
        "\n",
        "data = {\n",
        "    \"Targets\": scale(select(targets, plot_pred_variable.value, plot_pred_level.value, plot_max_steps), robust=plot_pred_robust.value),\n",
        "    \"Predictions\": scale(select(corrected_predictions, plot_pred_variable.value, plot_pred_level.value, plot_max_steps), robust=plot_pred_robust.value),\n",
        "    \"Diff\": scale((select(targets, plot_pred_variable.value, plot_pred_level.value, plot_max_steps) -\n",
        "                        select(corrected_predictions, plot_pred_variable.value, plot_pred_level.value, plot_max_steps)),\n",
        "                       robust=plot_pred_robust.value, center=0),\n",
        "}\n",
        "fig_title = plot_pred_variable.value\n",
        "if \"level\" in corrected_predictions[plot_pred_variable.value].coords:\n",
        "  fig_title += f\" at {plot_pred_level.value} hPa\"\n",
        "\n",
        "plot_data(data, fig_title, plot_size, plot_pred_robust.value)\n"
      ]
    },
    {
      "cell_type": "markdown",
      "metadata": {
        "id": "uOZ_vPWFvyiU"
      },
      "source": [
        "# 5.5. Comparing Results"
      ]
    },
    {
      "cell_type": "code",
      "execution_count": null,
      "metadata": {
        "id": "623NFpjos9aU"
      },
      "outputs": [],
      "source": [
        "# @title Functions to calculate RMSE per variable\n",
        "\n",
        "def calculate_rmse(predictions, targets):\n",
        "    \"\"\"Calculates RMSE between predictions and targets, ignoring NaNs, and as a percentage.\"\"\"\n",
        "    # Ensure both datasets have the same variables\n",
        "    common_vars = list(set(predictions.data_vars) & set(targets.data_vars))\n",
        "    if not common_vars:\n",
        "        raise ValueError(\"No common variables found between predictions and targets.\")\n",
        "\n",
        "    rmse_results = {}\n",
        "    rmse_percentage_results = {}\n",
        "    for var in common_vars:\n",
        "        pred_values = predictions[var].values\n",
        "        target_values = targets[var].values\n",
        "\n",
        "        # Calculate squared error, ignoring NaNs\n",
        "        squared_error = (pred_values - target_values)**2\n",
        "        mean_squared_error = np.nanmean(squared_error)\n",
        "        rmse = np.sqrt(mean_squared_error)\n",
        "        rmse_results[var] = rmse\n",
        "\n",
        "        # Calculate percentage error relative to the mean absolute target value\n",
        "        mean_abs_target = np.nanmean(np.abs(target_values))\n",
        "        if mean_abs_target != 0:\n",
        "            rmse_percentage = (rmse / mean_abs_target) * 100\n",
        "            rmse_percentage_results[var] = rmse_percentage\n",
        "        else:\n",
        "            rmse_percentage_results[var] = float('inf') # Handle cases where mean absolute target is zero\n",
        "\n",
        "\n",
        "    return rmse_results, rmse_percentage_results\n"
      ]
    },
    {
      "cell_type": "code",
      "execution_count": null,
      "metadata": {
        "id": "iGTJtfC9utAr"
      },
      "outputs": [],
      "source": [
        "# @title Calculate RMSE for each variable using original predictions and targets\n",
        "\n",
        "rmse_prediction_original, rmse_percentage_predictions_original = calculate_rmse(predictions, targets)\n"
      ]
    },
    {
      "cell_type": "code",
      "execution_count": null,
      "metadata": {
        "id": "9sSISi8wuWmo"
      },
      "outputs": [],
      "source": [
        "# @title Calculate RMSE for each variable using ensemble mean and targets\n",
        "rmse_ensemble_mean, rmse_percentage_ensemble_mean = calculate_rmse(ensemble_mean, targets)\n"
      ]
    },
    {
      "cell_type": "code",
      "execution_count": null,
      "metadata": {
        "id": "x8c73vcfwDrf"
      },
      "outputs": [],
      "source": [
        "# @title Calculate RMSE for each variable using ensemble median and targets\n",
        "rmse_ensemble_median, rmse_percentage_ensemble_median = calculate_rmse(median, targets)\n"
      ]
    },
    {
      "cell_type": "code",
      "execution_count": null,
      "metadata": {
        "id": "MspHVC6WwYmj"
      },
      "outputs": [],
      "source": [
        "# @title Calculate RMSE for each variable using ensemble trimmed mean and targets\n",
        "rmse_ensemble_trimmed_mean, rmse_percentage_ensemble_trimmed_mean = calculate_rmse(trimmed_mean, targets)\n"
      ]
    },
    {
      "cell_type": "code",
      "execution_count": null,
      "metadata": {
        "colab": {
          "base_uri": "https://localhost:8080/",
          "height": 394
        },
        "id": "9xo-M5Er4Qn_",
        "outputId": "3c6a523e-9677-4683-af81-89f6267b639e"
      },
      "outputs": [],
      "source": [
        "# @title Tabulate RMSE of each ensemble aggregation techniques\n",
        "\n",
        "import pandas as pd\n",
        "\n",
        "# Create a dictionary to hold the RMSE results\n",
        "rmse_comparison_aggregation = {\n",
        "    \"Variable\": list(rmse_prediction_original.keys()),\n",
        "    \"Original Prediction RMSE\": list(rmse_prediction_original.values()),\n",
        "    \"Ensemble Mean RMSE\": list(rmse_ensemble_mean.values()),\n",
        "    \"Ensemble Median RMSE\": list(rmse_ensemble_median.values()),\n",
        "    \"Ensemble Trimmed Mean RMSE\": list(rmse_ensemble_trimmed_mean.values())\n",
        "}\n",
        "\n",
        "# Create a pandas DataFrame\n",
        "rmse_aggregation_df = pd.DataFrame(rmse_comparison_aggregation)\n",
        "\n",
        "# Display the DataFrame\n",
        "display(rmse_aggregation_df)"
      ]
    },
    {
      "cell_type": "code",
      "execution_count": null,
      "metadata": {
        "colab": {
          "base_uri": "https://localhost:8080/",
          "height": 394
        },
        "id": "AAJJlS5Plox0",
        "outputId": "fa064b3a-a179-4f1b-96bd-a71e8abe403a"
      },
      "outputs": [],
      "source": [
        "# @title Compare Bias Corrected vs Ensemble Mean RMSE\n",
        "\n",
        "import pandas as pd\n",
        "\n",
        "# Calculate RMSE for original predictions\n",
        "rmse_prediction_original, _ = calculate_rmse(predictions, targets)\n",
        "\n",
        "# Calculate RMSE for ensemble mean\n",
        "rmse_ensemble_mean, _ = calculate_rmse(ensemble_mean, targets)\n",
        "\n",
        "# Calculate RMSE for bias corrected predictions\n",
        "rmse_corrected_predictions, _ = calculate_rmse(corrected_predictions, targets)\n",
        "\n",
        "# Create a dictionary to hold the RMSE results\n",
        "rmse_comparison_bias_correction = {\n",
        "    \"Variable\": list(rmse_prediction_original.keys()),\n",
        "    \"Original Prediction RMSE\": list(rmse_prediction_original.values()),\n",
        "    \"Ensemble Mean RMSE\": list(rmse_ensemble_mean.values()),\n",
        "    \"Bias Corrected Prediction RMSE\": list(rmse_corrected_predictions.values())\n",
        "}\n",
        "\n",
        "# Create a pandas DataFrame\n",
        "rmse_bias_correction_df = pd.DataFrame(rmse_comparison_bias_correction)\n",
        "\n",
        "# Display the DataFrame\n",
        "display(rmse_bias_correction_df)"
      ]
    },
    {
      "cell_type": "markdown",
      "metadata": {
        "id": "9QPzZSxyKre_"
      },
      "source": [
        "# 6. Experiment with noise magnitude (Ensemble Size is Fixed at 10)\n",
        "\n",
        "Due to the time taken to run an ensemble is little high ensemble member count is fixed at 10."
      ]
    },
    {
      "cell_type": "markdown",
      "metadata": {
        "id": "5Lo0z_6jLZAJ"
      },
      "source": [
        "# 6.1. Noise Magnitude = 10^(-1)"
      ]
    },
    {
      "cell_type": "code",
      "execution_count": null,
      "metadata": {
        "colab": {
          "base_uri": "https://localhost:8080/"
        },
        "id": "JPEJB8ZEK3fN",
        "outputId": "d421563a-c209-4ce1-dee2-fe52ca0cc751"
      },
      "outputs": [],
      "source": [
        "noise_std=0.1\n",
        "ensemble_size=10\n",
        "\n",
        "ensemble_noise_exp_1 = ensemble_rollout(\n",
        "    run_forward_jitted,\n",
        "    inputs=inputs,\n",
        "    targets_template=targets * np.nan,\n",
        "    forcings=forcings,\n",
        "    ensemble_size=ensemble_size,\n",
        "    std=noise_std,\n",
        "    rng=jax.random.PRNGKey(42)\n",
        ")"
      ]
    },
    {
      "cell_type": "code",
      "execution_count": null,
      "metadata": {
        "id": "fzcM_POTL2EE"
      },
      "outputs": [],
      "source": [
        "# @title Calculate RMSE for ensemble run with noise 10^(-1)\n",
        "\n",
        "ensemble_mean_noise_exp_1 = ensemble_noise_exp_1.mean(dim=\"ensemble\").compute()\n",
        "rmse_prediction_noise_exp_1, rmse_percentage_predictions_noise_exp_1 = calculate_rmse(ensemble_mean_noise_exp_1, targets)\n"
      ]
    },
    {
      "cell_type": "markdown",
      "metadata": {
        "id": "eubYlW45LkoK"
      },
      "source": [
        "# 6.2. Noise Magnitude = 10^(-3)"
      ]
    },
    {
      "cell_type": "code",
      "execution_count": null,
      "metadata": {
        "colab": {
          "base_uri": "https://localhost:8080/"
        },
        "id": "7QpyMnLgLozw",
        "outputId": "1ced6b80-ddfa-4061-c15d-cbabdf611aee"
      },
      "outputs": [],
      "source": [
        "noise_std=0.0001\n",
        "ensemble_size=10\n",
        "\n",
        "ensemble_noise_exp_3 = ensemble_rollout(\n",
        "    run_forward_jitted,\n",
        "    inputs=inputs,\n",
        "    targets_template=targets * np.nan,\n",
        "    forcings=forcings,\n",
        "    ensemble_size=ensemble_size,\n",
        "    std=noise_std,\n",
        "    rng=jax.random.PRNGKey(42)\n",
        ")"
      ]
    },
    {
      "cell_type": "code",
      "execution_count": null,
      "metadata": {
        "id": "8dBKzDjJ24c1"
      },
      "outputs": [],
      "source": [
        "# @title Calculate RMSE for ensemble run with noise 10^(-3)\n",
        "\n",
        "ensemble_mean_noise_exp_3 = ensemble_noise_exp_3.mean(dim=\"ensemble\").compute()\n",
        "rmse_prediction_noise_exp_3, rmse_percentage_predictions_noise_exp_3 = calculate_rmse(ensemble_mean_noise_exp_3, targets)\n"
      ]
    },
    {
      "cell_type": "markdown",
      "metadata": {
        "id": "wVCiEVeSLqJm"
      },
      "source": [
        "# 6.3. Noise Magnitude = 10^(-5)"
      ]
    },
    {
      "cell_type": "code",
      "execution_count": null,
      "metadata": {
        "colab": {
          "base_uri": "https://localhost:8080/"
        },
        "id": "XmZppJtpLtll",
        "outputId": "81142f00-fe3e-46bb-eb61-6730f023818e"
      },
      "outputs": [],
      "source": [
        "noise_std=0.00001\n",
        "ensemble_size=10\n",
        "\n",
        "ensemble_noise_exp_5 = ensemble_rollout(\n",
        "    run_forward_jitted,\n",
        "    inputs=inputs,\n",
        "    targets_template=targets * np.nan,\n",
        "    forcings=forcings,\n",
        "    ensemble_size=ensemble_size,\n",
        "    std=noise_std,\n",
        "    rng=jax.random.PRNGKey(42)\n",
        ")"
      ]
    },
    {
      "cell_type": "code",
      "execution_count": null,
      "metadata": {
        "id": "LkdUXRgG3Ci8"
      },
      "outputs": [],
      "source": [
        "# @title Calculate RMSE for ensemble run with noise 10^(-5)\n",
        "\n",
        "ensemble_mean_noise_exp_5 = ensemble_noise_exp_5.mean(dim=\"ensemble\").compute()\n",
        "rmse_prediction_noise_exp_5, rmse_percentage_predictions_noise_exp_5 = calculate_rmse(ensemble_mean_noise_exp_5, targets)\n"
      ]
    },
    {
      "cell_type": "markdown",
      "metadata": {
        "id": "P4082n40Lt-k"
      },
      "source": [
        "# 6.4. Noise Magnitude = 10^(-6)"
      ]
    },
    {
      "cell_type": "code",
      "execution_count": null,
      "metadata": {
        "colab": {
          "base_uri": "https://localhost:8080/"
        },
        "id": "s75k9TBBLw8L",
        "outputId": "0d055f35-c8a6-4354-8100-39e284bda6d6"
      },
      "outputs": [],
      "source": [
        "noise_std=0.000001\n",
        "ensemble_size=10\n",
        "\n",
        "ensemble_noise_exp_6 = ensemble_rollout(\n",
        "    run_forward_jitted,\n",
        "    inputs=inputs,\n",
        "    targets_template=targets * np.nan,\n",
        "    forcings=forcings,\n",
        "    ensemble_size=ensemble_size,\n",
        "    std=noise_std,\n",
        "    rng=jax.random.PRNGKey(42)\n",
        ")"
      ]
    },
    {
      "cell_type": "code",
      "execution_count": null,
      "metadata": {
        "id": "jUVvNgZP3MB0"
      },
      "outputs": [],
      "source": [
        "# @title Calculate RMSE for ensemble run with noise 10^(-6)\n",
        "\n",
        "ensemble_mean_noise_exp_6 = ensemble_noise_exp_6.mean(dim=\"ensemble\").compute()\n",
        "rmse_prediction_noise_exp_6, rmse_percentage_predictions_noise_exp_6 = calculate_rmse(ensemble_mean_noise_exp_6, targets)\n"
      ]
    },
    {
      "cell_type": "markdown",
      "metadata": {
        "id": "uWoMhsMfDUdE"
      },
      "source": [
        "# 6.5. Noise Magnitude = 10^(-7)"
      ]
    },
    {
      "cell_type": "code",
      "execution_count": null,
      "metadata": {
        "colab": {
          "base_uri": "https://localhost:8080/"
        },
        "id": "h4dCbj39DW9g",
        "outputId": "7ce86704-da6b-4945-acdd-a73a9497d0d8"
      },
      "outputs": [],
      "source": [
        "noise_std=0.0000001\n",
        "ensemble_size=10\n",
        "\n",
        "ensemble_noise_exp_7 = ensemble_rollout(\n",
        "    run_forward_jitted,\n",
        "    inputs=inputs,\n",
        "    targets_template=targets * np.nan,\n",
        "    forcings=forcings,\n",
        "    ensemble_size=ensemble_size,\n",
        "    std=noise_std,\n",
        "    rng=jax.random.PRNGKey(42)\n",
        ")"
      ]
    },
    {
      "cell_type": "code",
      "execution_count": null,
      "metadata": {
        "id": "ToTLf7EvDf5G"
      },
      "outputs": [],
      "source": [
        "# @title Calculate RMSE for ensemble run with noise 10^(-7)\n",
        "\n",
        "ensemble_mean_noise_exp_7 = ensemble_noise_exp_7.mean(dim=\"ensemble\").compute()\n",
        "rmse_prediction_noise_exp_7, rmse_percentage_predictions_noise_exp_7 = calculate_rmse(ensemble_mean_noise_exp_7, targets)"
      ]
    },
    {
      "cell_type": "markdown",
      "metadata": {
        "id": "6qzoco4qSHTA"
      },
      "source": [
        "# 6.6. Noise Magnitude = 10^(-8)"
      ]
    },
    {
      "cell_type": "code",
      "execution_count": null,
      "metadata": {
        "colab": {
          "base_uri": "https://localhost:8080/"
        },
        "id": "BFLgh7iISHTA",
        "outputId": "54913124-929d-4d63-9a7b-39272d007cb0"
      },
      "outputs": [],
      "source": [
        "noise_std=0.00000001\n",
        "ensemble_size=10\n",
        "\n",
        "ensemble_noise_exp_8 = ensemble_rollout(\n",
        "    run_forward_jitted,\n",
        "    inputs=inputs,\n",
        "    targets_template=targets * np.nan,\n",
        "    forcings=forcings,\n",
        "    ensemble_size=ensemble_size,\n",
        "    std=noise_std,\n",
        "    rng=jax.random.PRNGKey(42)\n",
        ")"
      ]
    },
    {
      "cell_type": "code",
      "execution_count": null,
      "metadata": {
        "id": "epBegbh9SPlt"
      },
      "outputs": [],
      "source": [
        "# @title Calculate RMSE for ensemble run with noise 10^(-8)\n",
        "\n",
        "ensemble_mean_noise_exp_8 = ensemble_noise_exp_8.mean(dim=\"ensemble\").compute()\n",
        "rmse_prediction_noise_exp_8, rmse_percentage_predictions_noise_exp_8 = calculate_rmse(ensemble_mean_noise_exp_8, targets)"
      ]
    },
    {
      "cell_type": "markdown",
      "metadata": {
        "id": "TNHzK1lTLxnp"
      },
      "source": [
        "# 6.7. Compare the Results"
      ]
    },
    {
      "cell_type": "code",
      "execution_count": null,
      "metadata": {
        "colab": {
          "base_uri": "https://localhost:8080/",
          "height": 412
        },
        "id": "q4-VFlhu3c2Q",
        "outputId": "ab3746b0-d2b3-464f-c668-8e7190d57f21"
      },
      "outputs": [],
      "source": [
        "# @title Tabulate RMSE for each noise setting\n",
        "\n",
        "import pandas as pd\n",
        "\n",
        "# Create a dictionary to hold the RMSE results\n",
        "rmse_comparison = {\n",
        "    \"Variable\": list(rmse_prediction_original.keys()),\n",
        "    \"Original Prediction\": list(rmse_prediction_original.values()),\n",
        "    \"Noise 10^(-1)\": list(rmse_prediction_noise_exp_1.values()),\n",
        "    \"Noise 10^(-3)\": list(rmse_prediction_noise_exp_3.values()),\n",
        "    \"Noise 10^(-5)\": list(rmse_prediction_noise_exp_5.values()),\n",
        "    \"Noise 10^(-6)\": list(rmse_prediction_noise_exp_6.values()),\n",
        "    \"Noise 10^(-7)\": list(rmse_prediction_noise_exp_7.values()),\n",
        "    \"Noise 10^(-8)\": list(rmse_prediction_noise_exp_8.values()),\n",
        "}\n",
        "\n",
        "# Create a pandas DataFrame\n",
        "rmse_df = pd.DataFrame(rmse_comparison)\n",
        "\n",
        "# Display the DataFrame\n",
        "display(rmse_df)"
      ]
    },
    {
      "cell_type": "markdown",
      "metadata": {
        "id": "PyoE0xa4LGTq"
      },
      "source": [
        "# 7. Experiment with ensemble member count with fixed noised magnitude(10^-7)."
      ]
    },
    {
      "cell_type": "markdown",
      "metadata": {
        "id": "BqWvtercMCQB"
      },
      "source": [
        "# 7.1. Ensemble Member Count = 2"
      ]
    },
    {
      "cell_type": "code",
      "execution_count": null,
      "metadata": {
        "colab": {
          "base_uri": "https://localhost:8080/"
        },
        "id": "y5b1CzJOUgH0",
        "outputId": "efd3ba8b-9438-4d9f-e7de-ed9893a49b50"
      },
      "outputs": [],
      "source": [
        "noise_std=0.0000001\n",
        "ensemble_size=2\n",
        "\n",
        "ensemble_mem_2 = ensemble_rollout(\n",
        "    run_forward_jitted,\n",
        "    inputs=inputs,\n",
        "    targets_template=targets * np.nan,\n",
        "    forcings=forcings,\n",
        "    ensemble_size=ensemble_size,\n",
        "    std=noise_std,\n",
        "    rng=jax.random.PRNGKey(42)\n",
        ")"
      ]
    },
    {
      "cell_type": "code",
      "execution_count": null,
      "metadata": {
        "id": "hEG55lOiUgH1"
      },
      "outputs": [],
      "source": [
        "# @title Calculate RMSE for ensemble with 2 members\n",
        "\n",
        "ensemble_mean_mem_2 = ensemble_mem_2.mean(dim=\"ensemble\").compute()\n",
        "rmse_prediction_mem_2, rmse_percentage_predictions_mem_2 = calculate_rmse(ensemble_mean_mem_2, targets)\n"
      ]
    },
    {
      "cell_type": "markdown",
      "metadata": {
        "id": "5LRP_0WgMJqo"
      },
      "source": [
        "# 7.2. Ensemble Member Count = 5"
      ]
    },
    {
      "cell_type": "code",
      "execution_count": null,
      "metadata": {
        "colab": {
          "base_uri": "https://localhost:8080/"
        },
        "id": "QJJBFpk5Ut01",
        "outputId": "05e3a8f6-c66b-4a93-c40a-bc3f730d2b15"
      },
      "outputs": [],
      "source": [
        "noise_std=0.0000001\n",
        "ensemble_size=5\n",
        "\n",
        "ensemble_mem_5 = ensemble_rollout(\n",
        "    run_forward_jitted,\n",
        "    inputs=inputs,\n",
        "    targets_template=targets * np.nan,\n",
        "    forcings=forcings,\n",
        "    ensemble_size=ensemble_size,\n",
        "    std=noise_std,\n",
        "    rng=jax.random.PRNGKey(42)\n",
        ")"
      ]
    },
    {
      "cell_type": "code",
      "execution_count": null,
      "metadata": {
        "id": "J-RjirzVVEws"
      },
      "outputs": [],
      "source": [
        "# @title Calculate RMSE for ensemble with 5 members\n",
        "\n",
        "ensemble_mean_mem_5 = ensemble_mem_5.mean(dim=\"ensemble\").compute()\n",
        "rmse_prediction_mem_5, rmse_percentage_predictions_mem_5 = calculate_rmse(ensemble_mean_mem_5, targets)"
      ]
    },
    {
      "cell_type": "markdown",
      "metadata": {
        "id": "dNDs4bKkMQFU"
      },
      "source": [
        "# 7.3. Ensemble Member Count = 10"
      ]
    },
    {
      "cell_type": "code",
      "execution_count": null,
      "metadata": {
        "colab": {
          "base_uri": "https://localhost:8080/"
        },
        "id": "6l_fsHqQUwbE",
        "outputId": "0db06236-a7d4-4073-a20f-557626c1dfd5"
      },
      "outputs": [],
      "source": [
        "noise_std=0.0000001\n",
        "ensemble_size=10\n",
        "\n",
        "ensemble_mem_10 = ensemble_rollout(\n",
        "    run_forward_jitted,\n",
        "    inputs=inputs,\n",
        "    targets_template=targets * np.nan,\n",
        "    forcings=forcings,\n",
        "    ensemble_size=ensemble_size,\n",
        "    std=noise_std,\n",
        "    rng=jax.random.PRNGKey(42)\n",
        ")"
      ]
    },
    {
      "cell_type": "code",
      "execution_count": null,
      "metadata": {
        "id": "cnexMBfpVRO3"
      },
      "outputs": [],
      "source": [
        "# @title Calculate RMSE for ensemble with 10 members\n",
        "\n",
        "ensemble_mean_mem_10 = ensemble_mem_10.mean(dim=\"ensemble\").compute()\n",
        "rmse_prediction_mem_10, rmse_percentage_predictions_mem_10 = calculate_rmse(ensemble_mean_mem_10, targets)"
      ]
    },
    {
      "cell_type": "markdown",
      "metadata": {
        "id": "Mz46hRYJMUTV"
      },
      "source": [
        "# 7.4. Ensemble Member Count = 15"
      ]
    },
    {
      "cell_type": "code",
      "execution_count": null,
      "metadata": {
        "colab": {
          "base_uri": "https://localhost:8080/"
        },
        "id": "kBPeadW3U0-M",
        "outputId": "dd92902b-4ece-48e6-a3a6-24493d7839fa"
      },
      "outputs": [],
      "source": [
        "noise_std=0.0000001\n",
        "ensemble_size=15\n",
        "\n",
        "ensemble_mem_15 = ensemble_rollout(\n",
        "    run_forward_jitted,\n",
        "    inputs=inputs,\n",
        "    targets_template=targets * np.nan,\n",
        "    forcings=forcings,\n",
        "    ensemble_size=ensemble_size,\n",
        "    std=noise_std,\n",
        "    rng=jax.random.PRNGKey(42)\n",
        ")"
      ]
    },
    {
      "cell_type": "code",
      "execution_count": null,
      "metadata": {
        "id": "QSX6xlMmVYoU"
      },
      "outputs": [],
      "source": [
        "# @title Calculate RMSE for ensemble with 15 members\n",
        "\n",
        "ensemble_mean_mem_15 = ensemble_mem_15.mean(dim=\"ensemble\").compute()\n",
        "rmse_prediction_mem_15, rmse_percentage_predictions_mem_15 = calculate_rmse(ensemble_mean_mem_15, targets)"
      ]
    },
    {
      "cell_type": "markdown",
      "metadata": {
        "id": "kF7fg_FmMZNK"
      },
      "source": [
        "# 7.5. Compare Results"
      ]
    },
    {
      "cell_type": "code",
      "execution_count": null,
      "metadata": {
        "colab": {
          "base_uri": "https://localhost:8080/",
          "height": 412
        },
        "id": "l98T1gAQMdUz",
        "outputId": "da685f50-fb76-47a5-a35d-d84ded566b1d"
      },
      "outputs": [],
      "source": [
        "# @title Tabulate RMSE for each ensemble member count\n",
        "\n",
        "import pandas as pd\n",
        "\n",
        "# Create a dictionary to hold the RMSE results\n",
        "rmse_comparison_member_count = {\n",
        "    \"Variable\": list(rmse_prediction_original.keys()),\n",
        "    \"Original Prediction RMSE\": list(rmse_prediction_original.values()),\n",
        "    \"Ensemble Members = 2 RMSE\": list(rmse_prediction_mem_2.values()),\n",
        "    \"Ensemble Members = 5 RMSE\": list(rmse_prediction_mem_5.values()),\n",
        "    \"Ensemble Members = 10 RMSE\": list(rmse_prediction_mem_10.values()),\n",
        "    \"Ensemble Members = 15 RMSE\": list(rmse_prediction_mem_15.values()),\n",
        "}\n",
        "\n",
        "# Create a pandas DataFrame\n",
        "rmse_member_count_df = pd.DataFrame(rmse_comparison_member_count)\n",
        "\n",
        "# Display the DataFrame\n",
        "display(rmse_member_count_df)"
      ]
    }
  ],
  "metadata": {
    "accelerator": "GPU",
    "colab": {
      "collapsed_sections": [
        "Nw0m4wcba7w9",
        "Y7Q66f_xkgJb",
        "kVAB2lgbuXUX",
        "vZLVGXFPti8D",
        "BqWvtercMCQB",
        "5LRP_0WgMJqo",
        "dNDs4bKkMQFU",
        "Mz46hRYJMUTV"
      ],
      "gpuType": "T4",
      "provenance": []
    },
    "kernelspec": {
      "display_name": "Python 3",
      "name": "python3"
    },
    "language_info": {
      "name": "python",
      "version": "3.11.0"
    },
    "widgets": {
      "application/vnd.jupyter.widget-state+json": {
        "039abfb598434a3e852fc80e27a69a7b": {
          "model_module": "@jupyter-widgets/controls",
          "model_module_version": "1.5.0",
          "model_name": "SliderStyleModel",
          "state": {
            "_model_module": "@jupyter-widgets/controls",
            "_model_module_version": "1.5.0",
            "_model_name": "SliderStyleModel",
            "_view_count": null,
            "_view_module": "@jupyter-widgets/base",
            "_view_module_version": "1.2.0",
            "_view_name": "StyleView",
            "description_width": "",
            "handle_color": null
          }
        },
        "03aa04e819f14d2a97e5a241a3fb5ef6": {
          "model_module": "@jupyter-widgets/controls",
          "model_module_version": "1.5.0",
          "model_name": "IntSliderModel",
          "state": {
            "_dom_classes": [],
            "_model_module": "@jupyter-widgets/controls",
            "_model_module_version": "1.5.0",
            "_model_name": "IntSliderModel",
            "_view_count": null,
            "_view_module": "@jupyter-widgets/controls",
            "_view_module_version": "1.5.0",
            "_view_name": "IntSliderView",
            "continuous_update": true,
            "description": "Max steps",
            "description_tooltip": null,
            "disabled": false,
            "layout": "IPY_MODEL_7a2c598314184f2fbcf5984a8b02951d",
            "max": 1,
            "min": 1,
            "orientation": "horizontal",
            "readout": true,
            "readout_format": "d",
            "step": 1,
            "style": "IPY_MODEL_039abfb598434a3e852fc80e27a69a7b",
            "value": 1
          }
        },
        "099eba60f3da44a5b1fa601fce4ffc9b": {
          "model_module": "@jupyter-widgets/base",
          "model_module_version": "1.2.0",
          "model_name": "LayoutModel",
          "state": {
            "_model_module": "@jupyter-widgets/base",
            "_model_module_version": "1.2.0",
            "_model_name": "LayoutModel",
            "_view_count": null,
            "_view_module": "@jupyter-widgets/base",
            "_view_module_version": "1.2.0",
            "_view_name": "LayoutView",
            "align_content": null,
            "align_items": null,
            "align_self": null,
            "border": null,
            "bottom": null,
            "display": null,
            "flex": null,
            "flex_flow": null,
            "grid_area": null,
            "grid_auto_columns": null,
            "grid_auto_flow": null,
            "grid_auto_rows": null,
            "grid_column": null,
            "grid_gap": null,
            "grid_row": null,
            "grid_template_areas": null,
            "grid_template_columns": null,
            "grid_template_rows": null,
            "height": null,
            "justify_content": null,
            "justify_items": null,
            "left": null,
            "margin": null,
            "max_height": null,
            "max_width": null,
            "min_height": null,
            "min_width": null,
            "object_fit": null,
            "object_position": null,
            "order": null,
            "overflow": null,
            "overflow_x": null,
            "overflow_y": null,
            "padding": null,
            "right": null,
            "top": null,
            "visibility": null,
            "width": null
          }
        },
        "09acae558cd84cdeb8af6853243a8531": {
          "model_module": "@jupyter-widgets/controls",
          "model_module_version": "1.5.0",
          "model_name": "LabelModel",
          "state": {
            "_dom_classes": [],
            "_model_module": "@jupyter-widgets/controls",
            "_model_module_version": "1.5.0",
            "_model_name": "LabelModel",
            "_view_count": null,
            "_view_module": "@jupyter-widgets/controls",
            "_view_module_version": "1.5.0",
            "_view_name": "LabelView",
            "description": "",
            "description_tooltip": null,
            "layout": "IPY_MODEL_d2bdf047dfe1441caaacd280b110f1a1",
            "placeholder": "​",
            "style": "IPY_MODEL_b12a64030bde45d29d497a0d97953288",
            "value": "Run the next cell to plot the predictions. Rerunning this cell clears your selection."
          }
        },
        "0cafcead43454a139ddf2a49e7020eff": {
          "model_module": "@jupyter-widgets/base",
          "model_module_version": "1.2.0",
          "model_name": "LayoutModel",
          "state": {
            "_model_module": "@jupyter-widgets/base",
            "_model_module_version": "1.2.0",
            "_model_name": "LayoutModel",
            "_view_count": null,
            "_view_module": "@jupyter-widgets/base",
            "_view_module_version": "1.2.0",
            "_view_name": "LayoutView",
            "align_content": null,
            "align_items": null,
            "align_self": null,
            "border": null,
            "bottom": null,
            "display": null,
            "flex": null,
            "flex_flow": null,
            "grid_area": null,
            "grid_auto_columns": null,
            "grid_auto_flow": null,
            "grid_auto_rows": null,
            "grid_column": null,
            "grid_gap": null,
            "grid_row": null,
            "grid_template_areas": null,
            "grid_template_columns": null,
            "grid_template_rows": null,
            "height": null,
            "justify_content": null,
            "justify_items": null,
            "left": null,
            "margin": null,
            "max_height": null,
            "max_width": null,
            "min_height": null,
            "min_width": null,
            "object_fit": null,
            "object_position": null,
            "order": null,
            "overflow": null,
            "overflow_x": null,
            "overflow_y": null,
            "padding": null,
            "right": null,
            "top": null,
            "visibility": null,
            "width": null
          }
        },
        "0fdec21e2b4b496a9b20fa11595d7522": {
          "model_module": "@jupyter-widgets/controls",
          "model_module_version": "1.5.0",
          "model_name": "DescriptionStyleModel",
          "state": {
            "_model_module": "@jupyter-widgets/controls",
            "_model_module_version": "1.5.0",
            "_model_name": "DescriptionStyleModel",
            "_view_count": null,
            "_view_module": "@jupyter-widgets/base",
            "_view_module_version": "1.2.0",
            "_view_name": "StyleView",
            "description_width": ""
          }
        },
        "16803774c533405c98fcfc7bffef750d": {
          "model_module": "@jupyter-widgets/base",
          "model_module_version": "1.2.0",
          "model_name": "LayoutModel",
          "state": {
            "_model_module": "@jupyter-widgets/base",
            "_model_module_version": "1.2.0",
            "_model_name": "LayoutModel",
            "_view_count": null,
            "_view_module": "@jupyter-widgets/base",
            "_view_module_version": "1.2.0",
            "_view_name": "LayoutView",
            "align_content": null,
            "align_items": null,
            "align_self": null,
            "border": null,
            "bottom": null,
            "display": null,
            "flex": null,
            "flex_flow": null,
            "grid_area": null,
            "grid_auto_columns": null,
            "grid_auto_flow": null,
            "grid_auto_rows": null,
            "grid_column": null,
            "grid_gap": null,
            "grid_row": null,
            "grid_template_areas": null,
            "grid_template_columns": null,
            "grid_template_rows": null,
            "height": null,
            "justify_content": null,
            "justify_items": null,
            "left": null,
            "margin": null,
            "max_height": null,
            "max_width": null,
            "min_height": null,
            "min_width": null,
            "object_fit": null,
            "object_position": null,
            "order": null,
            "overflow": null,
            "overflow_x": null,
            "overflow_y": null,
            "padding": null,
            "right": null,
            "top": null,
            "visibility": null,
            "width": null
          }
        },
        "17627632e01c49e69699397e79926b39": {
          "model_module": "@jupyter-widgets/controls",
          "model_module_version": "1.5.0",
          "model_name": "LabelModel",
          "state": {
            "_dom_classes": [],
            "_model_module": "@jupyter-widgets/controls",
            "_model_module_version": "1.5.0",
            "_model_name": "LabelModel",
            "_view_count": null,
            "_view_module": "@jupyter-widgets/controls",
            "_view_module_version": "1.5.0",
            "_view_name": "LabelView",
            "description": "",
            "description_tooltip": null,
            "layout": "IPY_MODEL_4ab944df245547be891c327cc9bd8065",
            "placeholder": "​",
            "style": "IPY_MODEL_7250d02b4aa5411c908d0a7fefe2cf81",
            "value": "Run the next cell to plot the predictions. Rerunning this cell clears your selection."
          }
        },
        "1bca215a91ff419c9c4999eca7bc6213": {
          "model_module": "@jupyter-widgets/base",
          "model_module_version": "1.2.0",
          "model_name": "LayoutModel",
          "state": {
            "_model_module": "@jupyter-widgets/base",
            "_model_module_version": "1.2.0",
            "_model_name": "LayoutModel",
            "_view_count": null,
            "_view_module": "@jupyter-widgets/base",
            "_view_module_version": "1.2.0",
            "_view_name": "LayoutView",
            "align_content": null,
            "align_items": null,
            "align_self": null,
            "border": null,
            "bottom": null,
            "display": null,
            "flex": null,
            "flex_flow": null,
            "grid_area": null,
            "grid_auto_columns": null,
            "grid_auto_flow": null,
            "grid_auto_rows": null,
            "grid_column": null,
            "grid_gap": null,
            "grid_row": null,
            "grid_template_areas": null,
            "grid_template_columns": null,
            "grid_template_rows": null,
            "height": null,
            "justify_content": null,
            "justify_items": null,
            "left": null,
            "margin": null,
            "max_height": null,
            "max_width": null,
            "min_height": null,
            "min_width": null,
            "object_fit": null,
            "object_position": null,
            "order": null,
            "overflow": null,
            "overflow_x": null,
            "overflow_y": null,
            "padding": null,
            "right": null,
            "top": null,
            "visibility": null,
            "width": null
          }
        },
        "1e03ab3977864aa284cac749a6da5572": {
          "model_module": "@jupyter-widgets/base",
          "model_module_version": "1.2.0",
          "model_name": "LayoutModel",
          "state": {
            "_model_module": "@jupyter-widgets/base",
            "_model_module_version": "1.2.0",
            "_model_name": "LayoutModel",
            "_view_count": null,
            "_view_module": "@jupyter-widgets/base",
            "_view_module_version": "1.2.0",
            "_view_name": "LayoutView",
            "align_content": null,
            "align_items": null,
            "align_self": null,
            "border": null,
            "bottom": null,
            "display": null,
            "flex": null,
            "flex_flow": null,
            "grid_area": null,
            "grid_auto_columns": null,
            "grid_auto_flow": null,
            "grid_auto_rows": null,
            "grid_column": null,
            "grid_gap": null,
            "grid_row": null,
            "grid_template_areas": null,
            "grid_template_columns": null,
            "grid_template_rows": null,
            "height": null,
            "justify_content": null,
            "justify_items": null,
            "left": null,
            "margin": null,
            "max_height": null,
            "max_width": null,
            "min_height": null,
            "min_width": null,
            "object_fit": null,
            "object_position": null,
            "order": null,
            "overflow": null,
            "overflow_x": null,
            "overflow_y": null,
            "padding": null,
            "right": null,
            "top": null,
            "visibility": null,
            "width": null
          }
        },
        "22100fe8d8904397ade08168b2d8829b": {
          "model_module": "@jupyter-widgets/base",
          "model_module_version": "1.2.0",
          "model_name": "LayoutModel",
          "state": {
            "_model_module": "@jupyter-widgets/base",
            "_model_module_version": "1.2.0",
            "_model_name": "LayoutModel",
            "_view_count": null,
            "_view_module": "@jupyter-widgets/base",
            "_view_module_version": "1.2.0",
            "_view_name": "LayoutView",
            "align_content": null,
            "align_items": null,
            "align_self": null,
            "border": null,
            "bottom": null,
            "display": null,
            "flex": null,
            "flex_flow": null,
            "grid_area": null,
            "grid_auto_columns": null,
            "grid_auto_flow": null,
            "grid_auto_rows": null,
            "grid_column": null,
            "grid_gap": null,
            "grid_row": null,
            "grid_template_areas": null,
            "grid_template_columns": null,
            "grid_template_rows": null,
            "height": null,
            "justify_content": null,
            "justify_items": null,
            "left": null,
            "margin": null,
            "max_height": null,
            "max_width": null,
            "min_height": null,
            "min_width": null,
            "object_fit": null,
            "object_position": null,
            "order": null,
            "overflow": null,
            "overflow_x": null,
            "overflow_y": null,
            "padding": null,
            "right": null,
            "top": null,
            "visibility": null,
            "width": null
          }
        },
        "247cbb615b3842a08a5f768830e42f5d": {
          "model_module": "@jupyter-widgets/controls",
          "model_module_version": "1.5.0",
          "model_name": "DescriptionStyleModel",
          "state": {
            "_model_module": "@jupyter-widgets/controls",
            "_model_module_version": "1.5.0",
            "_model_name": "DescriptionStyleModel",
            "_view_count": null,
            "_view_module": "@jupyter-widgets/base",
            "_view_module_version": "1.2.0",
            "_view_name": "StyleView",
            "description_width": ""
          }
        },
        "25767aed95644fb5b48295cc871b08a4": {
          "model_module": "@jupyter-widgets/base",
          "model_module_version": "1.2.0",
          "model_name": "LayoutModel",
          "state": {
            "_model_module": "@jupyter-widgets/base",
            "_model_module_version": "1.2.0",
            "_model_name": "LayoutModel",
            "_view_count": null,
            "_view_module": "@jupyter-widgets/base",
            "_view_module_version": "1.2.0",
            "_view_name": "LayoutView",
            "align_content": null,
            "align_items": null,
            "align_self": null,
            "border": null,
            "bottom": null,
            "display": null,
            "flex": null,
            "flex_flow": null,
            "grid_area": null,
            "grid_auto_columns": null,
            "grid_auto_flow": null,
            "grid_auto_rows": null,
            "grid_column": null,
            "grid_gap": null,
            "grid_row": null,
            "grid_template_areas": null,
            "grid_template_columns": null,
            "grid_template_rows": null,
            "height": null,
            "justify_content": null,
            "justify_items": null,
            "left": null,
            "margin": null,
            "max_height": null,
            "max_width": null,
            "min_height": null,
            "min_width": null,
            "object_fit": null,
            "object_position": null,
            "order": null,
            "overflow": null,
            "overflow_x": null,
            "overflow_y": null,
            "padding": null,
            "right": null,
            "top": null,
            "visibility": null,
            "width": null
          }
        },
        "2b25fc4750fc42d88f34155461e36397": {
          "model_module": "@jupyter-widgets/base",
          "model_module_version": "1.2.0",
          "model_name": "LayoutModel",
          "state": {
            "_model_module": "@jupyter-widgets/base",
            "_model_module_version": "1.2.0",
            "_model_name": "LayoutModel",
            "_view_count": null,
            "_view_module": "@jupyter-widgets/base",
            "_view_module_version": "1.2.0",
            "_view_name": "LayoutView",
            "align_content": null,
            "align_items": null,
            "align_self": null,
            "border": null,
            "bottom": null,
            "display": null,
            "flex": null,
            "flex_flow": null,
            "grid_area": null,
            "grid_auto_columns": null,
            "grid_auto_flow": null,
            "grid_auto_rows": null,
            "grid_column": null,
            "grid_gap": null,
            "grid_row": null,
            "grid_template_areas": null,
            "grid_template_columns": null,
            "grid_template_rows": null,
            "height": null,
            "justify_content": null,
            "justify_items": null,
            "left": null,
            "margin": null,
            "max_height": null,
            "max_width": null,
            "min_height": null,
            "min_width": null,
            "object_fit": null,
            "object_position": null,
            "order": null,
            "overflow": null,
            "overflow_x": null,
            "overflow_y": null,
            "padding": null,
            "right": null,
            "top": null,
            "visibility": null,
            "width": null
          }
        },
        "30da5a38de254792a47c7f05a58f086d": {
          "model_module": "@jupyter-widgets/base",
          "model_module_version": "1.2.0",
          "model_name": "LayoutModel",
          "state": {
            "_model_module": "@jupyter-widgets/base",
            "_model_module_version": "1.2.0",
            "_model_name": "LayoutModel",
            "_view_count": null,
            "_view_module": "@jupyter-widgets/base",
            "_view_module_version": "1.2.0",
            "_view_name": "LayoutView",
            "align_content": null,
            "align_items": null,
            "align_self": null,
            "border": null,
            "bottom": null,
            "display": null,
            "flex": null,
            "flex_flow": null,
            "grid_area": null,
            "grid_auto_columns": null,
            "grid_auto_flow": null,
            "grid_auto_rows": null,
            "grid_column": null,
            "grid_gap": null,
            "grid_row": null,
            "grid_template_areas": null,
            "grid_template_columns": null,
            "grid_template_rows": null,
            "height": null,
            "justify_content": null,
            "justify_items": null,
            "left": null,
            "margin": null,
            "max_height": null,
            "max_width": null,
            "min_height": null,
            "min_width": null,
            "object_fit": null,
            "object_position": null,
            "order": null,
            "overflow": null,
            "overflow_x": null,
            "overflow_y": null,
            "padding": null,
            "right": null,
            "top": null,
            "visibility": null,
            "width": null
          }
        },
        "31eff17eda64427dac07d3fd0a4baafd": {
          "model_module": "@jupyter-widgets/controls",
          "model_module_version": "1.5.0",
          "model_name": "DropdownModel",
          "state": {
            "_dom_classes": [],
            "_model_module": "@jupyter-widgets/controls",
            "_model_module_version": "1.5.0",
            "_model_name": "DropdownModel",
            "_options_labels": [
              "10m_u_component_of_wind",
              "10m_v_component_of_wind",
              "2m_temperature",
              "geopotential",
              "mean_sea_level_pressure",
              "specific_humidity",
              "temperature",
              "total_precipitation_6hr",
              "u_component_of_wind",
              "v_component_of_wind",
              "vertical_velocity"
            ],
            "_view_count": null,
            "_view_module": "@jupyter-widgets/controls",
            "_view_module_version": "1.5.0",
            "_view_name": "DropdownView",
            "description": "Variable",
            "description_tooltip": null,
            "disabled": false,
            "index": 2,
            "layout": "IPY_MODEL_30da5a38de254792a47c7f05a58f086d",
            "style": "IPY_MODEL_0fdec21e2b4b496a9b20fa11595d7522"
          }
        },
        "360d0f0e7afd4364bd72ba730843032a": {
          "model_module": "@jupyter-widgets/controls",
          "model_module_version": "1.5.0",
          "model_name": "DescriptionStyleModel",
          "state": {
            "_model_module": "@jupyter-widgets/controls",
            "_model_module_version": "1.5.0",
            "_model_name": "DescriptionStyleModel",
            "_view_count": null,
            "_view_module": "@jupyter-widgets/base",
            "_view_module_version": "1.2.0",
            "_view_name": "StyleView",
            "description_width": ""
          }
        },
        "402de2193e704217ba08223eaa0d4fe5": {
          "model_module": "@jupyter-widgets/controls",
          "model_module_version": "1.5.0",
          "model_name": "DropdownModel",
          "state": {
            "_dom_classes": [],
            "_model_module": "@jupyter-widgets/controls",
            "_model_module_version": "1.5.0",
            "_model_name": "DropdownModel",
            "_options_labels": [
              "50",
              "100",
              "150",
              "200",
              "250",
              "300",
              "400",
              "500",
              "600",
              "700",
              "850",
              "925",
              "1000"
            ],
            "_view_count": null,
            "_view_module": "@jupyter-widgets/controls",
            "_view_module_version": "1.5.0",
            "_view_name": "DropdownView",
            "description": "Level",
            "description_tooltip": null,
            "disabled": false,
            "index": 7,
            "layout": "IPY_MODEL_25767aed95644fb5b48295cc871b08a4",
            "style": "IPY_MODEL_9a8a9739273848948d64744e5282d78b"
          }
        },
        "48d879e90fcf4b1db448be3de9be1b83": {
          "model_module": "@jupyter-widgets/controls",
          "model_module_version": "1.5.0",
          "model_name": "DropdownModel",
          "state": {
            "_dom_classes": [],
            "_model_module": "@jupyter-widgets/controls",
            "_model_module_version": "1.5.0",
            "_model_name": "DropdownModel",
            "_options_labels": [
              "10m_u_component_of_wind",
              "10m_v_component_of_wind",
              "2m_temperature",
              "geopotential",
              "mean_sea_level_pressure",
              "specific_humidity",
              "temperature",
              "total_precipitation_6hr",
              "u_component_of_wind",
              "v_component_of_wind",
              "vertical_velocity"
            ],
            "_view_count": null,
            "_view_module": "@jupyter-widgets/controls",
            "_view_module_version": "1.5.0",
            "_view_name": "DropdownView",
            "description": "Variable",
            "description_tooltip": null,
            "disabled": false,
            "index": 2,
            "layout": "IPY_MODEL_d2d4ccebf9334e9a81826abe548282f2",
            "style": "IPY_MODEL_83583c8951ba44cda15a3b7ef226fd75"
          }
        },
        "4a1a76af72164519a4211848721bb01b": {
          "model_module": "@jupyter-widgets/base",
          "model_module_version": "1.2.0",
          "model_name": "LayoutModel",
          "state": {
            "_model_module": "@jupyter-widgets/base",
            "_model_module_version": "1.2.0",
            "_model_name": "LayoutModel",
            "_view_count": null,
            "_view_module": "@jupyter-widgets/base",
            "_view_module_version": "1.2.0",
            "_view_name": "LayoutView",
            "align_content": null,
            "align_items": null,
            "align_self": null,
            "border": null,
            "bottom": null,
            "display": null,
            "flex": null,
            "flex_flow": null,
            "grid_area": null,
            "grid_auto_columns": null,
            "grid_auto_flow": null,
            "grid_auto_rows": null,
            "grid_column": null,
            "grid_gap": null,
            "grid_row": null,
            "grid_template_areas": null,
            "grid_template_columns": null,
            "grid_template_rows": null,
            "height": null,
            "justify_content": null,
            "justify_items": null,
            "left": null,
            "margin": null,
            "max_height": null,
            "max_width": null,
            "min_height": null,
            "min_width": null,
            "object_fit": null,
            "object_position": null,
            "order": null,
            "overflow": null,
            "overflow_x": null,
            "overflow_y": null,
            "padding": null,
            "right": null,
            "top": null,
            "visibility": null,
            "width": null
          }
        },
        "4ab944df245547be891c327cc9bd8065": {
          "model_module": "@jupyter-widgets/base",
          "model_module_version": "1.2.0",
          "model_name": "LayoutModel",
          "state": {
            "_model_module": "@jupyter-widgets/base",
            "_model_module_version": "1.2.0",
            "_model_name": "LayoutModel",
            "_view_count": null,
            "_view_module": "@jupyter-widgets/base",
            "_view_module_version": "1.2.0",
            "_view_name": "LayoutView",
            "align_content": null,
            "align_items": null,
            "align_self": null,
            "border": null,
            "bottom": null,
            "display": null,
            "flex": null,
            "flex_flow": null,
            "grid_area": null,
            "grid_auto_columns": null,
            "grid_auto_flow": null,
            "grid_auto_rows": null,
            "grid_column": null,
            "grid_gap": null,
            "grid_row": null,
            "grid_template_areas": null,
            "grid_template_columns": null,
            "grid_template_rows": null,
            "height": null,
            "justify_content": null,
            "justify_items": null,
            "left": null,
            "margin": null,
            "max_height": null,
            "max_width": null,
            "min_height": null,
            "min_width": null,
            "object_fit": null,
            "object_position": null,
            "order": null,
            "overflow": null,
            "overflow_x": null,
            "overflow_y": null,
            "padding": null,
            "right": null,
            "top": null,
            "visibility": null,
            "width": null
          }
        },
        "4c9df6ee330748b7a157065b687878f1": {
          "model_module": "@jupyter-widgets/controls",
          "model_module_version": "1.5.0",
          "model_name": "LabelModel",
          "state": {
            "_dom_classes": [],
            "_model_module": "@jupyter-widgets/controls",
            "_model_module_version": "1.5.0",
            "_model_name": "LabelModel",
            "_view_count": null,
            "_view_module": "@jupyter-widgets/controls",
            "_view_module_version": "1.5.0",
            "_view_name": "LabelView",
            "description": "",
            "description_tooltip": null,
            "layout": "IPY_MODEL_6ff70be4393d47a69ce6f55e70903c77",
            "placeholder": "​",
            "style": "IPY_MODEL_a7af0b5ba0c3469f9e667c40ddaee61a",
            "value": "Run the next cell to plot the predictions. Rerunning this cell clears your selection."
          }
        },
        "4d12b84f067e4d99b6a3e956719d3cf3": {
          "model_module": "@jupyter-widgets/base",
          "model_module_version": "1.2.0",
          "model_name": "LayoutModel",
          "state": {
            "_model_module": "@jupyter-widgets/base",
            "_model_module_version": "1.2.0",
            "_model_name": "LayoutModel",
            "_view_count": null,
            "_view_module": "@jupyter-widgets/base",
            "_view_module_version": "1.2.0",
            "_view_name": "LayoutView",
            "align_content": null,
            "align_items": null,
            "align_self": null,
            "border": null,
            "bottom": null,
            "display": null,
            "flex": null,
            "flex_flow": null,
            "grid_area": null,
            "grid_auto_columns": null,
            "grid_auto_flow": null,
            "grid_auto_rows": null,
            "grid_column": null,
            "grid_gap": null,
            "grid_row": null,
            "grid_template_areas": null,
            "grid_template_columns": null,
            "grid_template_rows": null,
            "height": null,
            "justify_content": null,
            "justify_items": null,
            "left": null,
            "margin": null,
            "max_height": null,
            "max_width": null,
            "min_height": null,
            "min_width": null,
            "object_fit": null,
            "object_position": null,
            "order": null,
            "overflow": null,
            "overflow_x": null,
            "overflow_y": null,
            "padding": null,
            "right": null,
            "top": null,
            "visibility": null,
            "width": null
          }
        },
        "50f3f1a2d2794194a7852179631e2ca8": {
          "model_module": "@jupyter-widgets/controls",
          "model_module_version": "1.5.0",
          "model_name": "DescriptionStyleModel",
          "state": {
            "_model_module": "@jupyter-widgets/controls",
            "_model_module_version": "1.5.0",
            "_model_name": "DescriptionStyleModel",
            "_view_count": null,
            "_view_module": "@jupyter-widgets/base",
            "_view_module_version": "1.2.0",
            "_view_name": "StyleView",
            "description_width": ""
          }
        },
        "5176a9387daa4d53913c02b2a234fdf1": {
          "model_module": "@jupyter-widgets/controls",
          "model_module_version": "1.5.0",
          "model_name": "DropdownModel",
          "state": {
            "_dom_classes": [],
            "_model_module": "@jupyter-widgets/controls",
            "_model_module_version": "1.5.0",
            "_model_name": "DropdownModel",
            "_options_labels": [
              "10m_u_component_of_wind",
              "10m_v_component_of_wind",
              "2m_temperature",
              "geopotential",
              "mean_sea_level_pressure",
              "specific_humidity",
              "temperature",
              "total_precipitation_6hr",
              "u_component_of_wind",
              "v_component_of_wind",
              "vertical_velocity"
            ],
            "_view_count": null,
            "_view_module": "@jupyter-widgets/controls",
            "_view_module_version": "1.5.0",
            "_view_name": "DropdownView",
            "description": "Variable",
            "description_tooltip": null,
            "disabled": false,
            "index": 2,
            "layout": "IPY_MODEL_e40a9477c67f4f51b73080f543f181e2",
            "style": "IPY_MODEL_247cbb615b3842a08a5f768830e42f5d"
          }
        },
        "5972e20563ce43ee9784a3be4006c44b": {
          "model_module": "@jupyter-widgets/base",
          "model_module_version": "1.2.0",
          "model_name": "LayoutModel",
          "state": {
            "_model_module": "@jupyter-widgets/base",
            "_model_module_version": "1.2.0",
            "_model_name": "LayoutModel",
            "_view_count": null,
            "_view_module": "@jupyter-widgets/base",
            "_view_module_version": "1.2.0",
            "_view_name": "LayoutView",
            "align_content": null,
            "align_items": null,
            "align_self": null,
            "border": null,
            "bottom": null,
            "display": null,
            "flex": null,
            "flex_flow": null,
            "grid_area": null,
            "grid_auto_columns": null,
            "grid_auto_flow": null,
            "grid_auto_rows": null,
            "grid_column": null,
            "grid_gap": null,
            "grid_row": null,
            "grid_template_areas": null,
            "grid_template_columns": null,
            "grid_template_rows": null,
            "height": null,
            "justify_content": null,
            "justify_items": null,
            "left": null,
            "margin": null,
            "max_height": null,
            "max_width": null,
            "min_height": null,
            "min_width": null,
            "object_fit": null,
            "object_position": null,
            "order": null,
            "overflow": null,
            "overflow_x": null,
            "overflow_y": null,
            "padding": null,
            "right": null,
            "top": null,
            "visibility": null,
            "width": null
          }
        },
        "59a911636de040b0b0cd1695902e3f58": {
          "model_module": "@jupyter-widgets/controls",
          "model_module_version": "1.5.0",
          "model_name": "CheckboxModel",
          "state": {
            "_dom_classes": [],
            "_model_module": "@jupyter-widgets/controls",
            "_model_module_version": "1.5.0",
            "_model_name": "CheckboxModel",
            "_view_count": null,
            "_view_module": "@jupyter-widgets/controls",
            "_view_module_version": "1.5.0",
            "_view_name": "CheckboxView",
            "description": "Robust",
            "description_tooltip": null,
            "disabled": false,
            "indent": true,
            "layout": "IPY_MODEL_1e03ab3977864aa284cac749a6da5572",
            "style": "IPY_MODEL_873bb8cf8d38402bb873d21c977e9b02",
            "value": true
          }
        },
        "5a0421094b0f4890b68b9b78153336c2": {
          "model_module": "@jupyter-widgets/controls",
          "model_module_version": "1.5.0",
          "model_name": "DescriptionStyleModel",
          "state": {
            "_model_module": "@jupyter-widgets/controls",
            "_model_module_version": "1.5.0",
            "_model_name": "DescriptionStyleModel",
            "_view_count": null,
            "_view_module": "@jupyter-widgets/base",
            "_view_module_version": "1.2.0",
            "_view_name": "StyleView",
            "description_width": ""
          }
        },
        "5d35c9cbfe0e4cb7bb8792a775ee61a1": {
          "model_module": "@jupyter-widgets/controls",
          "model_module_version": "1.5.0",
          "model_name": "VBoxModel",
          "state": {
            "_dom_classes": [],
            "_model_module": "@jupyter-widgets/controls",
            "_model_module_version": "1.5.0",
            "_model_name": "VBoxModel",
            "_view_count": null,
            "_view_module": "@jupyter-widgets/controls",
            "_view_module_version": "1.5.0",
            "_view_name": "VBoxView",
            "box_style": "",
            "children": [
              "IPY_MODEL_eb87493376044484a74998c245725b75",
              "IPY_MODEL_6578ce7744614bce9de48959741581c3",
              "IPY_MODEL_d5f603cdccfe4f2db89af36e51d6c758",
              "IPY_MODEL_abecbf62a4064971aa53ba13c78b5160",
              "IPY_MODEL_09acae558cd84cdeb8af6853243a8531"
            ],
            "layout": "IPY_MODEL_6193a9d374c94320b6aabf1794b53861"
          }
        },
        "5d3d6d7b015b480aa6a23f5265703a7f": {
          "model_module": "@jupyter-widgets/controls",
          "model_module_version": "1.5.0",
          "model_name": "CheckboxModel",
          "state": {
            "_dom_classes": [],
            "_model_module": "@jupyter-widgets/controls",
            "_model_module_version": "1.5.0",
            "_model_name": "CheckboxModel",
            "_view_count": null,
            "_view_module": "@jupyter-widgets/controls",
            "_view_module_version": "1.5.0",
            "_view_name": "CheckboxView",
            "description": "Robust",
            "description_tooltip": null,
            "disabled": false,
            "indent": true,
            "layout": "IPY_MODEL_4d12b84f067e4d99b6a3e956719d3cf3",
            "style": "IPY_MODEL_700fbbc919bc4b889f054e0a0be81551",
            "value": true
          }
        },
        "60ce59537bce4f3eb5aae76355a9f94e": {
          "model_module": "@jupyter-widgets/controls",
          "model_module_version": "1.5.0",
          "model_name": "LabelModel",
          "state": {
            "_dom_classes": [],
            "_model_module": "@jupyter-widgets/controls",
            "_model_module_version": "1.5.0",
            "_model_name": "LabelModel",
            "_view_count": null,
            "_view_module": "@jupyter-widgets/controls",
            "_view_module_version": "1.5.0",
            "_view_name": "LabelView",
            "description": "",
            "description_tooltip": null,
            "layout": "IPY_MODEL_5972e20563ce43ee9784a3be4006c44b",
            "placeholder": "​",
            "style": "IPY_MODEL_360d0f0e7afd4364bd72ba730843032a",
            "value": "Run the next cell to plot the predictions. Rerunning this cell clears your selection."
          }
        },
        "6193a9d374c94320b6aabf1794b53861": {
          "model_module": "@jupyter-widgets/base",
          "model_module_version": "1.2.0",
          "model_name": "LayoutModel",
          "state": {
            "_model_module": "@jupyter-widgets/base",
            "_model_module_version": "1.2.0",
            "_model_name": "LayoutModel",
            "_view_count": null,
            "_view_module": "@jupyter-widgets/base",
            "_view_module_version": "1.2.0",
            "_view_name": "LayoutView",
            "align_content": null,
            "align_items": null,
            "align_self": null,
            "border": null,
            "bottom": null,
            "display": null,
            "flex": null,
            "flex_flow": null,
            "grid_area": null,
            "grid_auto_columns": null,
            "grid_auto_flow": null,
            "grid_auto_rows": null,
            "grid_column": null,
            "grid_gap": null,
            "grid_row": null,
            "grid_template_areas": null,
            "grid_template_columns": null,
            "grid_template_rows": null,
            "height": null,
            "justify_content": null,
            "justify_items": null,
            "left": null,
            "margin": null,
            "max_height": null,
            "max_width": null,
            "min_height": null,
            "min_width": null,
            "object_fit": null,
            "object_position": null,
            "order": null,
            "overflow": null,
            "overflow_x": null,
            "overflow_y": null,
            "padding": null,
            "right": null,
            "top": null,
            "visibility": null,
            "width": null
          }
        },
        "6578ce7744614bce9de48959741581c3": {
          "model_module": "@jupyter-widgets/controls",
          "model_module_version": "1.5.0",
          "model_name": "DropdownModel",
          "state": {
            "_dom_classes": [],
            "_model_module": "@jupyter-widgets/controls",
            "_model_module_version": "1.5.0",
            "_model_name": "DropdownModel",
            "_options_labels": [
              "50",
              "100",
              "150",
              "200",
              "250",
              "300",
              "400",
              "500",
              "600",
              "700",
              "850",
              "925",
              "1000"
            ],
            "_view_count": null,
            "_view_module": "@jupyter-widgets/controls",
            "_view_module_version": "1.5.0",
            "_view_name": "DropdownView",
            "description": "Level",
            "description_tooltip": null,
            "disabled": false,
            "index": 7,
            "layout": "IPY_MODEL_22100fe8d8904397ade08168b2d8829b",
            "style": "IPY_MODEL_9a94701922484d37a3b1849e940bb4f3"
          }
        },
        "66c24fce070b4ec6bd2ef774f18a1cd0": {
          "model_module": "@jupyter-widgets/controls",
          "model_module_version": "1.5.0",
          "model_name": "VBoxModel",
          "state": {
            "_dom_classes": [],
            "_model_module": "@jupyter-widgets/controls",
            "_model_module_version": "1.5.0",
            "_model_name": "VBoxModel",
            "_view_count": null,
            "_view_module": "@jupyter-widgets/controls",
            "_view_module_version": "1.5.0",
            "_view_name": "VBoxView",
            "box_style": "",
            "children": [
              "IPY_MODEL_5176a9387daa4d53913c02b2a234fdf1",
              "IPY_MODEL_c1e992663cf24c4d95a9e161509b857f",
              "IPY_MODEL_990cd5ceedda4c5297bcc9f15f6828cc",
              "IPY_MODEL_bac94a0ef25649d3ae8f49308e55dd92",
              "IPY_MODEL_17627632e01c49e69699397e79926b39"
            ],
            "layout": "IPY_MODEL_16803774c533405c98fcfc7bffef750d"
          }
        },
        "6ff70be4393d47a69ce6f55e70903c77": {
          "model_module": "@jupyter-widgets/base",
          "model_module_version": "1.2.0",
          "model_name": "LayoutModel",
          "state": {
            "_model_module": "@jupyter-widgets/base",
            "_model_module_version": "1.2.0",
            "_model_name": "LayoutModel",
            "_view_count": null,
            "_view_module": "@jupyter-widgets/base",
            "_view_module_version": "1.2.0",
            "_view_name": "LayoutView",
            "align_content": null,
            "align_items": null,
            "align_self": null,
            "border": null,
            "bottom": null,
            "display": null,
            "flex": null,
            "flex_flow": null,
            "grid_area": null,
            "grid_auto_columns": null,
            "grid_auto_flow": null,
            "grid_auto_rows": null,
            "grid_column": null,
            "grid_gap": null,
            "grid_row": null,
            "grid_template_areas": null,
            "grid_template_columns": null,
            "grid_template_rows": null,
            "height": null,
            "justify_content": null,
            "justify_items": null,
            "left": null,
            "margin": null,
            "max_height": null,
            "max_width": null,
            "min_height": null,
            "min_width": null,
            "object_fit": null,
            "object_position": null,
            "order": null,
            "overflow": null,
            "overflow_x": null,
            "overflow_y": null,
            "padding": null,
            "right": null,
            "top": null,
            "visibility": null,
            "width": null
          }
        },
        "700fbbc919bc4b889f054e0a0be81551": {
          "model_module": "@jupyter-widgets/controls",
          "model_module_version": "1.5.0",
          "model_name": "DescriptionStyleModel",
          "state": {
            "_model_module": "@jupyter-widgets/controls",
            "_model_module_version": "1.5.0",
            "_model_name": "DescriptionStyleModel",
            "_view_count": null,
            "_view_module": "@jupyter-widgets/base",
            "_view_module_version": "1.2.0",
            "_view_name": "StyleView",
            "description_width": ""
          }
        },
        "70504fa589764b8b866f701c865aa316": {
          "model_module": "@jupyter-widgets/base",
          "model_module_version": "1.2.0",
          "model_name": "LayoutModel",
          "state": {
            "_model_module": "@jupyter-widgets/base",
            "_model_module_version": "1.2.0",
            "_model_name": "LayoutModel",
            "_view_count": null,
            "_view_module": "@jupyter-widgets/base",
            "_view_module_version": "1.2.0",
            "_view_name": "LayoutView",
            "align_content": null,
            "align_items": null,
            "align_self": null,
            "border": null,
            "bottom": null,
            "display": null,
            "flex": null,
            "flex_flow": null,
            "grid_area": null,
            "grid_auto_columns": null,
            "grid_auto_flow": null,
            "grid_auto_rows": null,
            "grid_column": null,
            "grid_gap": null,
            "grid_row": null,
            "grid_template_areas": null,
            "grid_template_columns": null,
            "grid_template_rows": null,
            "height": null,
            "justify_content": null,
            "justify_items": null,
            "left": null,
            "margin": null,
            "max_height": null,
            "max_width": null,
            "min_height": null,
            "min_width": null,
            "object_fit": null,
            "object_position": null,
            "order": null,
            "overflow": null,
            "overflow_x": null,
            "overflow_y": null,
            "padding": null,
            "right": null,
            "top": null,
            "visibility": null,
            "width": null
          }
        },
        "7250d02b4aa5411c908d0a7fefe2cf81": {
          "model_module": "@jupyter-widgets/controls",
          "model_module_version": "1.5.0",
          "model_name": "DescriptionStyleModel",
          "state": {
            "_model_module": "@jupyter-widgets/controls",
            "_model_module_version": "1.5.0",
            "_model_name": "DescriptionStyleModel",
            "_view_count": null,
            "_view_module": "@jupyter-widgets/base",
            "_view_module_version": "1.2.0",
            "_view_name": "StyleView",
            "description_width": ""
          }
        },
        "769faed710b94ff1a5f337e5141f9c1b": {
          "model_module": "@jupyter-widgets/controls",
          "model_module_version": "1.5.0",
          "model_name": "SliderStyleModel",
          "state": {
            "_model_module": "@jupyter-widgets/controls",
            "_model_module_version": "1.5.0",
            "_model_name": "SliderStyleModel",
            "_view_count": null,
            "_view_module": "@jupyter-widgets/base",
            "_view_module_version": "1.2.0",
            "_view_name": "StyleView",
            "description_width": "",
            "handle_color": null
          }
        },
        "78dba4d5a97f44999dcf4f76310de56f": {
          "model_module": "@jupyter-widgets/base",
          "model_module_version": "1.2.0",
          "model_name": "LayoutModel",
          "state": {
            "_model_module": "@jupyter-widgets/base",
            "_model_module_version": "1.2.0",
            "_model_name": "LayoutModel",
            "_view_count": null,
            "_view_module": "@jupyter-widgets/base",
            "_view_module_version": "1.2.0",
            "_view_name": "LayoutView",
            "align_content": null,
            "align_items": null,
            "align_self": null,
            "border": null,
            "bottom": null,
            "display": null,
            "flex": null,
            "flex_flow": null,
            "grid_area": null,
            "grid_auto_columns": null,
            "grid_auto_flow": null,
            "grid_auto_rows": null,
            "grid_column": null,
            "grid_gap": null,
            "grid_row": null,
            "grid_template_areas": null,
            "grid_template_columns": null,
            "grid_template_rows": null,
            "height": null,
            "justify_content": null,
            "justify_items": null,
            "left": null,
            "margin": null,
            "max_height": null,
            "max_width": null,
            "min_height": null,
            "min_width": null,
            "object_fit": null,
            "object_position": null,
            "order": null,
            "overflow": null,
            "overflow_x": null,
            "overflow_y": null,
            "padding": null,
            "right": null,
            "top": null,
            "visibility": null,
            "width": null
          }
        },
        "7a2c598314184f2fbcf5984a8b02951d": {
          "model_module": "@jupyter-widgets/base",
          "model_module_version": "1.2.0",
          "model_name": "LayoutModel",
          "state": {
            "_model_module": "@jupyter-widgets/base",
            "_model_module_version": "1.2.0",
            "_model_name": "LayoutModel",
            "_view_count": null,
            "_view_module": "@jupyter-widgets/base",
            "_view_module_version": "1.2.0",
            "_view_name": "LayoutView",
            "align_content": null,
            "align_items": null,
            "align_self": null,
            "border": null,
            "bottom": null,
            "display": null,
            "flex": null,
            "flex_flow": null,
            "grid_area": null,
            "grid_auto_columns": null,
            "grid_auto_flow": null,
            "grid_auto_rows": null,
            "grid_column": null,
            "grid_gap": null,
            "grid_row": null,
            "grid_template_areas": null,
            "grid_template_columns": null,
            "grid_template_rows": null,
            "height": null,
            "justify_content": null,
            "justify_items": null,
            "left": null,
            "margin": null,
            "max_height": null,
            "max_width": null,
            "min_height": null,
            "min_width": null,
            "object_fit": null,
            "object_position": null,
            "order": null,
            "overflow": null,
            "overflow_x": null,
            "overflow_y": null,
            "padding": null,
            "right": null,
            "top": null,
            "visibility": null,
            "width": null
          }
        },
        "7b5c05d83cc64742800d05be196e1d69": {
          "model_module": "@jupyter-widgets/controls",
          "model_module_version": "1.5.0",
          "model_name": "LabelModel",
          "state": {
            "_dom_classes": [],
            "_model_module": "@jupyter-widgets/controls",
            "_model_module_version": "1.5.0",
            "_model_name": "LabelModel",
            "_view_count": null,
            "_view_module": "@jupyter-widgets/controls",
            "_view_module_version": "1.5.0",
            "_view_name": "LabelView",
            "description": "",
            "description_tooltip": null,
            "layout": "IPY_MODEL_bf54e59a6c3941f8b720e2395f3d4892",
            "placeholder": "​",
            "style": "IPY_MODEL_ca3654bf0c2d4450b259e02a513ed0a7",
            "value": "Run the next cell to plot the predictions. Rerunning this cell clears your selection."
          }
        },
        "81db872de4b94f91b9488cf809a2025a": {
          "model_module": "@jupyter-widgets/base",
          "model_module_version": "1.2.0",
          "model_name": "LayoutModel",
          "state": {
            "_model_module": "@jupyter-widgets/base",
            "_model_module_version": "1.2.0",
            "_model_name": "LayoutModel",
            "_view_count": null,
            "_view_module": "@jupyter-widgets/base",
            "_view_module_version": "1.2.0",
            "_view_name": "LayoutView",
            "align_content": null,
            "align_items": null,
            "align_self": null,
            "border": null,
            "bottom": null,
            "display": null,
            "flex": null,
            "flex_flow": null,
            "grid_area": null,
            "grid_auto_columns": null,
            "grid_auto_flow": null,
            "grid_auto_rows": null,
            "grid_column": null,
            "grid_gap": null,
            "grid_row": null,
            "grid_template_areas": null,
            "grid_template_columns": null,
            "grid_template_rows": null,
            "height": null,
            "justify_content": null,
            "justify_items": null,
            "left": null,
            "margin": null,
            "max_height": null,
            "max_width": null,
            "min_height": null,
            "min_width": null,
            "object_fit": null,
            "object_position": null,
            "order": null,
            "overflow": null,
            "overflow_x": null,
            "overflow_y": null,
            "padding": null,
            "right": null,
            "top": null,
            "visibility": null,
            "width": null
          }
        },
        "82b086e556914b969ad68a6d1eae40fb": {
          "model_module": "@jupyter-widgets/controls",
          "model_module_version": "1.5.0",
          "model_name": "DescriptionStyleModel",
          "state": {
            "_model_module": "@jupyter-widgets/controls",
            "_model_module_version": "1.5.0",
            "_model_name": "DescriptionStyleModel",
            "_view_count": null,
            "_view_module": "@jupyter-widgets/base",
            "_view_module_version": "1.2.0",
            "_view_name": "StyleView",
            "description_width": ""
          }
        },
        "83583c8951ba44cda15a3b7ef226fd75": {
          "model_module": "@jupyter-widgets/controls",
          "model_module_version": "1.5.0",
          "model_name": "DescriptionStyleModel",
          "state": {
            "_model_module": "@jupyter-widgets/controls",
            "_model_module_version": "1.5.0",
            "_model_name": "DescriptionStyleModel",
            "_view_count": null,
            "_view_module": "@jupyter-widgets/base",
            "_view_module_version": "1.2.0",
            "_view_name": "StyleView",
            "description_width": ""
          }
        },
        "873bb8cf8d38402bb873d21c977e9b02": {
          "model_module": "@jupyter-widgets/controls",
          "model_module_version": "1.5.0",
          "model_name": "DescriptionStyleModel",
          "state": {
            "_model_module": "@jupyter-widgets/controls",
            "_model_module_version": "1.5.0",
            "_model_name": "DescriptionStyleModel",
            "_view_count": null,
            "_view_module": "@jupyter-widgets/base",
            "_view_module_version": "1.2.0",
            "_view_name": "StyleView",
            "description_width": ""
          }
        },
        "8781a307da8740c3a2cbbc896bc43605": {
          "model_module": "@jupyter-widgets/controls",
          "model_module_version": "1.5.0",
          "model_name": "SliderStyleModel",
          "state": {
            "_model_module": "@jupyter-widgets/controls",
            "_model_module_version": "1.5.0",
            "_model_name": "SliderStyleModel",
            "_view_count": null,
            "_view_module": "@jupyter-widgets/base",
            "_view_module_version": "1.2.0",
            "_view_name": "StyleView",
            "description_width": "",
            "handle_color": null
          }
        },
        "990cd5ceedda4c5297bcc9f15f6828cc": {
          "model_module": "@jupyter-widgets/controls",
          "model_module_version": "1.5.0",
          "model_name": "CheckboxModel",
          "state": {
            "_dom_classes": [],
            "_model_module": "@jupyter-widgets/controls",
            "_model_module_version": "1.5.0",
            "_model_name": "CheckboxModel",
            "_view_count": null,
            "_view_module": "@jupyter-widgets/controls",
            "_view_module_version": "1.5.0",
            "_view_name": "CheckboxView",
            "description": "Robust",
            "description_tooltip": null,
            "disabled": false,
            "indent": true,
            "layout": "IPY_MODEL_d3f7d177df894e2ba939e9871dcd96cd",
            "style": "IPY_MODEL_e0db73abc6b445ad8552843bfd944ca3",
            "value": true
          }
        },
        "9a8a9739273848948d64744e5282d78b": {
          "model_module": "@jupyter-widgets/controls",
          "model_module_version": "1.5.0",
          "model_name": "DescriptionStyleModel",
          "state": {
            "_model_module": "@jupyter-widgets/controls",
            "_model_module_version": "1.5.0",
            "_model_name": "DescriptionStyleModel",
            "_view_count": null,
            "_view_module": "@jupyter-widgets/base",
            "_view_module_version": "1.2.0",
            "_view_name": "StyleView",
            "description_width": ""
          }
        },
        "9a94701922484d37a3b1849e940bb4f3": {
          "model_module": "@jupyter-widgets/controls",
          "model_module_version": "1.5.0",
          "model_name": "DescriptionStyleModel",
          "state": {
            "_model_module": "@jupyter-widgets/controls",
            "_model_module_version": "1.5.0",
            "_model_name": "DescriptionStyleModel",
            "_view_count": null,
            "_view_module": "@jupyter-widgets/base",
            "_view_module_version": "1.2.0",
            "_view_name": "StyleView",
            "description_width": ""
          }
        },
        "a267594b6dc34ad6b346bdfa110d34fd": {
          "model_module": "@jupyter-widgets/controls",
          "model_module_version": "1.5.0",
          "model_name": "SliderStyleModel",
          "state": {
            "_model_module": "@jupyter-widgets/controls",
            "_model_module_version": "1.5.0",
            "_model_name": "SliderStyleModel",
            "_view_count": null,
            "_view_module": "@jupyter-widgets/base",
            "_view_module_version": "1.2.0",
            "_view_name": "StyleView",
            "description_width": "",
            "handle_color": null
          }
        },
        "a4bc12f07cb64eff9e84fe77ec5e0738": {
          "model_module": "@jupyter-widgets/controls",
          "model_module_version": "1.5.0",
          "model_name": "DescriptionStyleModel",
          "state": {
            "_model_module": "@jupyter-widgets/controls",
            "_model_module_version": "1.5.0",
            "_model_name": "DescriptionStyleModel",
            "_view_count": null,
            "_view_module": "@jupyter-widgets/base",
            "_view_module_version": "1.2.0",
            "_view_name": "StyleView",
            "description_width": ""
          }
        },
        "a603e74e1dd3409185e119a065ba56f6": {
          "model_module": "@jupyter-widgets/base",
          "model_module_version": "1.2.0",
          "model_name": "LayoutModel",
          "state": {
            "_model_module": "@jupyter-widgets/base",
            "_model_module_version": "1.2.0",
            "_model_name": "LayoutModel",
            "_view_count": null,
            "_view_module": "@jupyter-widgets/base",
            "_view_module_version": "1.2.0",
            "_view_name": "LayoutView",
            "align_content": null,
            "align_items": null,
            "align_self": null,
            "border": null,
            "bottom": null,
            "display": null,
            "flex": null,
            "flex_flow": null,
            "grid_area": null,
            "grid_auto_columns": null,
            "grid_auto_flow": null,
            "grid_auto_rows": null,
            "grid_column": null,
            "grid_gap": null,
            "grid_row": null,
            "grid_template_areas": null,
            "grid_template_columns": null,
            "grid_template_rows": null,
            "height": null,
            "justify_content": null,
            "justify_items": null,
            "left": null,
            "margin": null,
            "max_height": null,
            "max_width": null,
            "min_height": null,
            "min_width": null,
            "object_fit": null,
            "object_position": null,
            "order": null,
            "overflow": null,
            "overflow_x": null,
            "overflow_y": null,
            "padding": null,
            "right": null,
            "top": null,
            "visibility": null,
            "width": null
          }
        },
        "a60c112b703d471a8182f2f1b18e1f9b": {
          "model_module": "@jupyter-widgets/base",
          "model_module_version": "1.2.0",
          "model_name": "LayoutModel",
          "state": {
            "_model_module": "@jupyter-widgets/base",
            "_model_module_version": "1.2.0",
            "_model_name": "LayoutModel",
            "_view_count": null,
            "_view_module": "@jupyter-widgets/base",
            "_view_module_version": "1.2.0",
            "_view_name": "LayoutView",
            "align_content": null,
            "align_items": null,
            "align_self": null,
            "border": null,
            "bottom": null,
            "display": null,
            "flex": null,
            "flex_flow": null,
            "grid_area": null,
            "grid_auto_columns": null,
            "grid_auto_flow": null,
            "grid_auto_rows": null,
            "grid_column": null,
            "grid_gap": null,
            "grid_row": null,
            "grid_template_areas": null,
            "grid_template_columns": null,
            "grid_template_rows": null,
            "height": null,
            "justify_content": null,
            "justify_items": null,
            "left": null,
            "margin": null,
            "max_height": null,
            "max_width": null,
            "min_height": null,
            "min_width": null,
            "object_fit": null,
            "object_position": null,
            "order": null,
            "overflow": null,
            "overflow_x": null,
            "overflow_y": null,
            "padding": null,
            "right": null,
            "top": null,
            "visibility": null,
            "width": null
          }
        },
        "a7af0b5ba0c3469f9e667c40ddaee61a": {
          "model_module": "@jupyter-widgets/controls",
          "model_module_version": "1.5.0",
          "model_name": "DescriptionStyleModel",
          "state": {
            "_model_module": "@jupyter-widgets/controls",
            "_model_module_version": "1.5.0",
            "_model_name": "DescriptionStyleModel",
            "_view_count": null,
            "_view_module": "@jupyter-widgets/base",
            "_view_module_version": "1.2.0",
            "_view_name": "StyleView",
            "description_width": ""
          }
        },
        "ab1a63d4dc1b4af49e4f809cb6fed3da": {
          "model_module": "@jupyter-widgets/controls",
          "model_module_version": "1.5.0",
          "model_name": "IntSliderModel",
          "state": {
            "_dom_classes": [],
            "_model_module": "@jupyter-widgets/controls",
            "_model_module_version": "1.5.0",
            "_model_name": "IntSliderModel",
            "_view_count": null,
            "_view_module": "@jupyter-widgets/controls",
            "_view_module_version": "1.5.0",
            "_view_name": "IntSliderView",
            "continuous_update": true,
            "description": "Max steps",
            "description_tooltip": null,
            "disabled": false,
            "layout": "IPY_MODEL_c77a47ebc8b24ffd836c0b32b2d76685",
            "max": 1,
            "min": 1,
            "orientation": "horizontal",
            "readout": true,
            "readout_format": "d",
            "step": 1,
            "style": "IPY_MODEL_8781a307da8740c3a2cbbc896bc43605",
            "value": 1
          }
        },
        "ab2f998db218492ab5b7ecf53827a792": {
          "model_module": "@jupyter-widgets/controls",
          "model_module_version": "1.5.0",
          "model_name": "DescriptionStyleModel",
          "state": {
            "_model_module": "@jupyter-widgets/controls",
            "_model_module_version": "1.5.0",
            "_model_name": "DescriptionStyleModel",
            "_view_count": null,
            "_view_module": "@jupyter-widgets/base",
            "_view_module_version": "1.2.0",
            "_view_name": "StyleView",
            "description_width": ""
          }
        },
        "abecbf62a4064971aa53ba13c78b5160": {
          "model_module": "@jupyter-widgets/controls",
          "model_module_version": "1.5.0",
          "model_name": "IntSliderModel",
          "state": {
            "_dom_classes": [],
            "_model_module": "@jupyter-widgets/controls",
            "_model_module_version": "1.5.0",
            "_model_name": "IntSliderModel",
            "_view_count": null,
            "_view_module": "@jupyter-widgets/controls",
            "_view_module_version": "1.5.0",
            "_view_name": "IntSliderView",
            "continuous_update": true,
            "description": "Max steps",
            "description_tooltip": null,
            "disabled": false,
            "layout": "IPY_MODEL_099eba60f3da44a5b1fa601fce4ffc9b",
            "max": 1,
            "min": 1,
            "orientation": "horizontal",
            "readout": true,
            "readout_format": "d",
            "step": 1,
            "style": "IPY_MODEL_769faed710b94ff1a5f337e5141f9c1b",
            "value": 1
          }
        },
        "ae5bc8b9f629457a94b86bc6d9c04e4b": {
          "model_module": "@jupyter-widgets/controls",
          "model_module_version": "1.5.0",
          "model_name": "VBoxModel",
          "state": {
            "_dom_classes": [],
            "_model_module": "@jupyter-widgets/controls",
            "_model_module_version": "1.5.0",
            "_model_name": "VBoxModel",
            "_view_count": null,
            "_view_module": "@jupyter-widgets/controls",
            "_view_module_version": "1.5.0",
            "_view_name": "VBoxView",
            "box_style": "",
            "children": [
              "IPY_MODEL_48d879e90fcf4b1db448be3de9be1b83",
              "IPY_MODEL_c5066b470d964fa281bb6f6101202fc0",
              "IPY_MODEL_59a911636de040b0b0cd1695902e3f58",
              "IPY_MODEL_af6423e358d346a886a9c37ef6959d00",
              "IPY_MODEL_4c9df6ee330748b7a157065b687878f1"
            ],
            "layout": "IPY_MODEL_a60c112b703d471a8182f2f1b18e1f9b"
          }
        },
        "aefe17285ceb4817b253f1e4f5f8f697": {
          "model_module": "@jupyter-widgets/controls",
          "model_module_version": "1.5.0",
          "model_name": "CheckboxModel",
          "state": {
            "_dom_classes": [],
            "_model_module": "@jupyter-widgets/controls",
            "_model_module_version": "1.5.0",
            "_model_name": "CheckboxModel",
            "_view_count": null,
            "_view_module": "@jupyter-widgets/controls",
            "_view_module_version": "1.5.0",
            "_view_name": "CheckboxView",
            "description": "Robust",
            "description_tooltip": null,
            "disabled": false,
            "indent": true,
            "layout": "IPY_MODEL_eae986fd7e214666bd1bded0ef930d14",
            "style": "IPY_MODEL_5a0421094b0f4890b68b9b78153336c2",
            "value": true
          }
        },
        "af6423e358d346a886a9c37ef6959d00": {
          "model_module": "@jupyter-widgets/controls",
          "model_module_version": "1.5.0",
          "model_name": "IntSliderModel",
          "state": {
            "_dom_classes": [],
            "_model_module": "@jupyter-widgets/controls",
            "_model_module_version": "1.5.0",
            "_model_name": "IntSliderModel",
            "_view_count": null,
            "_view_module": "@jupyter-widgets/controls",
            "_view_module_version": "1.5.0",
            "_view_name": "IntSliderView",
            "continuous_update": true,
            "description": "Max steps",
            "description_tooltip": null,
            "disabled": false,
            "layout": "IPY_MODEL_78dba4d5a97f44999dcf4f76310de56f",
            "max": 1,
            "min": 1,
            "orientation": "horizontal",
            "readout": true,
            "readout_format": "d",
            "step": 1,
            "style": "IPY_MODEL_a267594b6dc34ad6b346bdfa110d34fd",
            "value": 1
          }
        },
        "afdcffbd507041b0ae12a023c1965c78": {
          "model_module": "@jupyter-widgets/controls",
          "model_module_version": "1.5.0",
          "model_name": "VBoxModel",
          "state": {
            "_dom_classes": [],
            "_model_module": "@jupyter-widgets/controls",
            "_model_module_version": "1.5.0",
            "_model_name": "VBoxModel",
            "_view_count": null,
            "_view_module": "@jupyter-widgets/controls",
            "_view_module_version": "1.5.0",
            "_view_name": "VBoxView",
            "box_style": "",
            "children": [
              "IPY_MODEL_e2e78a7486fe496f8ef56efe2ea1cfc6",
              "IPY_MODEL_e8595df10a974500af6543d4a1dd6424",
              "IPY_MODEL_5d3d6d7b015b480aa6a23f5265703a7f",
              "IPY_MODEL_ab1a63d4dc1b4af49e4f809cb6fed3da",
              "IPY_MODEL_60ce59537bce4f3eb5aae76355a9f94e"
            ],
            "layout": "IPY_MODEL_2b25fc4750fc42d88f34155461e36397"
          }
        },
        "b12a64030bde45d29d497a0d97953288": {
          "model_module": "@jupyter-widgets/controls",
          "model_module_version": "1.5.0",
          "model_name": "DescriptionStyleModel",
          "state": {
            "_model_module": "@jupyter-widgets/controls",
            "_model_module_version": "1.5.0",
            "_model_name": "DescriptionStyleModel",
            "_view_count": null,
            "_view_module": "@jupyter-widgets/base",
            "_view_module_version": "1.2.0",
            "_view_name": "StyleView",
            "description_width": ""
          }
        },
        "bac94a0ef25649d3ae8f49308e55dd92": {
          "model_module": "@jupyter-widgets/controls",
          "model_module_version": "1.5.0",
          "model_name": "IntSliderModel",
          "state": {
            "_dom_classes": [],
            "_model_module": "@jupyter-widgets/controls",
            "_model_module_version": "1.5.0",
            "_model_name": "IntSliderModel",
            "_view_count": null,
            "_view_module": "@jupyter-widgets/controls",
            "_view_module_version": "1.5.0",
            "_view_name": "IntSliderView",
            "continuous_update": true,
            "description": "Max steps",
            "description_tooltip": null,
            "disabled": false,
            "layout": "IPY_MODEL_dc21f317e01c42ea8d30b674e318df6d",
            "max": 1,
            "min": 1,
            "orientation": "horizontal",
            "readout": true,
            "readout_format": "d",
            "step": 1,
            "style": "IPY_MODEL_dfa096573eaf4860ad2e14715b017821",
            "value": 1
          }
        },
        "bf54e59a6c3941f8b720e2395f3d4892": {
          "model_module": "@jupyter-widgets/base",
          "model_module_version": "1.2.0",
          "model_name": "LayoutModel",
          "state": {
            "_model_module": "@jupyter-widgets/base",
            "_model_module_version": "1.2.0",
            "_model_name": "LayoutModel",
            "_view_count": null,
            "_view_module": "@jupyter-widgets/base",
            "_view_module_version": "1.2.0",
            "_view_name": "LayoutView",
            "align_content": null,
            "align_items": null,
            "align_self": null,
            "border": null,
            "bottom": null,
            "display": null,
            "flex": null,
            "flex_flow": null,
            "grid_area": null,
            "grid_auto_columns": null,
            "grid_auto_flow": null,
            "grid_auto_rows": null,
            "grid_column": null,
            "grid_gap": null,
            "grid_row": null,
            "grid_template_areas": null,
            "grid_template_columns": null,
            "grid_template_rows": null,
            "height": null,
            "justify_content": null,
            "justify_items": null,
            "left": null,
            "margin": null,
            "max_height": null,
            "max_width": null,
            "min_height": null,
            "min_width": null,
            "object_fit": null,
            "object_position": null,
            "order": null,
            "overflow": null,
            "overflow_x": null,
            "overflow_y": null,
            "padding": null,
            "right": null,
            "top": null,
            "visibility": null,
            "width": null
          }
        },
        "c1e992663cf24c4d95a9e161509b857f": {
          "model_module": "@jupyter-widgets/controls",
          "model_module_version": "1.5.0",
          "model_name": "DropdownModel",
          "state": {
            "_dom_classes": [],
            "_model_module": "@jupyter-widgets/controls",
            "_model_module_version": "1.5.0",
            "_model_name": "DropdownModel",
            "_options_labels": [
              "50",
              "100",
              "150",
              "200",
              "250",
              "300",
              "400",
              "500",
              "600",
              "700",
              "850",
              "925",
              "1000"
            ],
            "_view_count": null,
            "_view_module": "@jupyter-widgets/controls",
            "_view_module_version": "1.5.0",
            "_view_name": "DropdownView",
            "description": "Level",
            "description_tooltip": null,
            "disabled": false,
            "index": 7,
            "layout": "IPY_MODEL_ffbf88c2495a4bafbce409a1ffdc42b3",
            "style": "IPY_MODEL_82b086e556914b969ad68a6d1eae40fb"
          }
        },
        "c5066b470d964fa281bb6f6101202fc0": {
          "model_module": "@jupyter-widgets/controls",
          "model_module_version": "1.5.0",
          "model_name": "DropdownModel",
          "state": {
            "_dom_classes": [],
            "_model_module": "@jupyter-widgets/controls",
            "_model_module_version": "1.5.0",
            "_model_name": "DropdownModel",
            "_options_labels": [
              "50",
              "100",
              "150",
              "200",
              "250",
              "300",
              "400",
              "500",
              "600",
              "700",
              "850",
              "925",
              "1000"
            ],
            "_view_count": null,
            "_view_module": "@jupyter-widgets/controls",
            "_view_module_version": "1.5.0",
            "_view_name": "DropdownView",
            "description": "Level",
            "description_tooltip": null,
            "disabled": false,
            "index": 7,
            "layout": "IPY_MODEL_0cafcead43454a139ddf2a49e7020eff",
            "style": "IPY_MODEL_deaf9b12bbdd460082136a6307203492"
          }
        },
        "c77a47ebc8b24ffd836c0b32b2d76685": {
          "model_module": "@jupyter-widgets/base",
          "model_module_version": "1.2.0",
          "model_name": "LayoutModel",
          "state": {
            "_model_module": "@jupyter-widgets/base",
            "_model_module_version": "1.2.0",
            "_model_name": "LayoutModel",
            "_view_count": null,
            "_view_module": "@jupyter-widgets/base",
            "_view_module_version": "1.2.0",
            "_view_name": "LayoutView",
            "align_content": null,
            "align_items": null,
            "align_self": null,
            "border": null,
            "bottom": null,
            "display": null,
            "flex": null,
            "flex_flow": null,
            "grid_area": null,
            "grid_auto_columns": null,
            "grid_auto_flow": null,
            "grid_auto_rows": null,
            "grid_column": null,
            "grid_gap": null,
            "grid_row": null,
            "grid_template_areas": null,
            "grid_template_columns": null,
            "grid_template_rows": null,
            "height": null,
            "justify_content": null,
            "justify_items": null,
            "left": null,
            "margin": null,
            "max_height": null,
            "max_width": null,
            "min_height": null,
            "min_width": null,
            "object_fit": null,
            "object_position": null,
            "order": null,
            "overflow": null,
            "overflow_x": null,
            "overflow_y": null,
            "padding": null,
            "right": null,
            "top": null,
            "visibility": null,
            "width": null
          }
        },
        "c8eac649a3904f688be6b9069839bdca": {
          "model_module": "@jupyter-widgets/controls",
          "model_module_version": "1.5.0",
          "model_name": "VBoxModel",
          "state": {
            "_dom_classes": [],
            "_model_module": "@jupyter-widgets/controls",
            "_model_module_version": "1.5.0",
            "_model_name": "VBoxModel",
            "_view_count": null,
            "_view_module": "@jupyter-widgets/controls",
            "_view_module_version": "1.5.0",
            "_view_name": "VBoxView",
            "box_style": "",
            "children": [
              "IPY_MODEL_31eff17eda64427dac07d3fd0a4baafd",
              "IPY_MODEL_402de2193e704217ba08223eaa0d4fe5",
              "IPY_MODEL_aefe17285ceb4817b253f1e4f5f8f697",
              "IPY_MODEL_03aa04e819f14d2a97e5a241a3fb5ef6",
              "IPY_MODEL_7b5c05d83cc64742800d05be196e1d69"
            ],
            "layout": "IPY_MODEL_1bca215a91ff419c9c4999eca7bc6213"
          }
        },
        "ca3654bf0c2d4450b259e02a513ed0a7": {
          "model_module": "@jupyter-widgets/controls",
          "model_module_version": "1.5.0",
          "model_name": "DescriptionStyleModel",
          "state": {
            "_model_module": "@jupyter-widgets/controls",
            "_model_module_version": "1.5.0",
            "_model_name": "DescriptionStyleModel",
            "_view_count": null,
            "_view_module": "@jupyter-widgets/base",
            "_view_module_version": "1.2.0",
            "_view_name": "StyleView",
            "description_width": ""
          }
        },
        "d2bdf047dfe1441caaacd280b110f1a1": {
          "model_module": "@jupyter-widgets/base",
          "model_module_version": "1.2.0",
          "model_name": "LayoutModel",
          "state": {
            "_model_module": "@jupyter-widgets/base",
            "_model_module_version": "1.2.0",
            "_model_name": "LayoutModel",
            "_view_count": null,
            "_view_module": "@jupyter-widgets/base",
            "_view_module_version": "1.2.0",
            "_view_name": "LayoutView",
            "align_content": null,
            "align_items": null,
            "align_self": null,
            "border": null,
            "bottom": null,
            "display": null,
            "flex": null,
            "flex_flow": null,
            "grid_area": null,
            "grid_auto_columns": null,
            "grid_auto_flow": null,
            "grid_auto_rows": null,
            "grid_column": null,
            "grid_gap": null,
            "grid_row": null,
            "grid_template_areas": null,
            "grid_template_columns": null,
            "grid_template_rows": null,
            "height": null,
            "justify_content": null,
            "justify_items": null,
            "left": null,
            "margin": null,
            "max_height": null,
            "max_width": null,
            "min_height": null,
            "min_width": null,
            "object_fit": null,
            "object_position": null,
            "order": null,
            "overflow": null,
            "overflow_x": null,
            "overflow_y": null,
            "padding": null,
            "right": null,
            "top": null,
            "visibility": null,
            "width": null
          }
        },
        "d2d4ccebf9334e9a81826abe548282f2": {
          "model_module": "@jupyter-widgets/base",
          "model_module_version": "1.2.0",
          "model_name": "LayoutModel",
          "state": {
            "_model_module": "@jupyter-widgets/base",
            "_model_module_version": "1.2.0",
            "_model_name": "LayoutModel",
            "_view_count": null,
            "_view_module": "@jupyter-widgets/base",
            "_view_module_version": "1.2.0",
            "_view_name": "LayoutView",
            "align_content": null,
            "align_items": null,
            "align_self": null,
            "border": null,
            "bottom": null,
            "display": null,
            "flex": null,
            "flex_flow": null,
            "grid_area": null,
            "grid_auto_columns": null,
            "grid_auto_flow": null,
            "grid_auto_rows": null,
            "grid_column": null,
            "grid_gap": null,
            "grid_row": null,
            "grid_template_areas": null,
            "grid_template_columns": null,
            "grid_template_rows": null,
            "height": null,
            "justify_content": null,
            "justify_items": null,
            "left": null,
            "margin": null,
            "max_height": null,
            "max_width": null,
            "min_height": null,
            "min_width": null,
            "object_fit": null,
            "object_position": null,
            "order": null,
            "overflow": null,
            "overflow_x": null,
            "overflow_y": null,
            "padding": null,
            "right": null,
            "top": null,
            "visibility": null,
            "width": null
          }
        },
        "d3f7d177df894e2ba939e9871dcd96cd": {
          "model_module": "@jupyter-widgets/base",
          "model_module_version": "1.2.0",
          "model_name": "LayoutModel",
          "state": {
            "_model_module": "@jupyter-widgets/base",
            "_model_module_version": "1.2.0",
            "_model_name": "LayoutModel",
            "_view_count": null,
            "_view_module": "@jupyter-widgets/base",
            "_view_module_version": "1.2.0",
            "_view_name": "LayoutView",
            "align_content": null,
            "align_items": null,
            "align_self": null,
            "border": null,
            "bottom": null,
            "display": null,
            "flex": null,
            "flex_flow": null,
            "grid_area": null,
            "grid_auto_columns": null,
            "grid_auto_flow": null,
            "grid_auto_rows": null,
            "grid_column": null,
            "grid_gap": null,
            "grid_row": null,
            "grid_template_areas": null,
            "grid_template_columns": null,
            "grid_template_rows": null,
            "height": null,
            "justify_content": null,
            "justify_items": null,
            "left": null,
            "margin": null,
            "max_height": null,
            "max_width": null,
            "min_height": null,
            "min_width": null,
            "object_fit": null,
            "object_position": null,
            "order": null,
            "overflow": null,
            "overflow_x": null,
            "overflow_y": null,
            "padding": null,
            "right": null,
            "top": null,
            "visibility": null,
            "width": null
          }
        },
        "d5f603cdccfe4f2db89af36e51d6c758": {
          "model_module": "@jupyter-widgets/controls",
          "model_module_version": "1.5.0",
          "model_name": "CheckboxModel",
          "state": {
            "_dom_classes": [],
            "_model_module": "@jupyter-widgets/controls",
            "_model_module_version": "1.5.0",
            "_model_name": "CheckboxModel",
            "_view_count": null,
            "_view_module": "@jupyter-widgets/controls",
            "_view_module_version": "1.5.0",
            "_view_name": "CheckboxView",
            "description": "Robust",
            "description_tooltip": null,
            "disabled": false,
            "indent": true,
            "layout": "IPY_MODEL_a603e74e1dd3409185e119a065ba56f6",
            "style": "IPY_MODEL_ab2f998db218492ab5b7ecf53827a792",
            "value": true
          }
        },
        "dc21f317e01c42ea8d30b674e318df6d": {
          "model_module": "@jupyter-widgets/base",
          "model_module_version": "1.2.0",
          "model_name": "LayoutModel",
          "state": {
            "_model_module": "@jupyter-widgets/base",
            "_model_module_version": "1.2.0",
            "_model_name": "LayoutModel",
            "_view_count": null,
            "_view_module": "@jupyter-widgets/base",
            "_view_module_version": "1.2.0",
            "_view_name": "LayoutView",
            "align_content": null,
            "align_items": null,
            "align_self": null,
            "border": null,
            "bottom": null,
            "display": null,
            "flex": null,
            "flex_flow": null,
            "grid_area": null,
            "grid_auto_columns": null,
            "grid_auto_flow": null,
            "grid_auto_rows": null,
            "grid_column": null,
            "grid_gap": null,
            "grid_row": null,
            "grid_template_areas": null,
            "grid_template_columns": null,
            "grid_template_rows": null,
            "height": null,
            "justify_content": null,
            "justify_items": null,
            "left": null,
            "margin": null,
            "max_height": null,
            "max_width": null,
            "min_height": null,
            "min_width": null,
            "object_fit": null,
            "object_position": null,
            "order": null,
            "overflow": null,
            "overflow_x": null,
            "overflow_y": null,
            "padding": null,
            "right": null,
            "top": null,
            "visibility": null,
            "width": null
          }
        },
        "deaf9b12bbdd460082136a6307203492": {
          "model_module": "@jupyter-widgets/controls",
          "model_module_version": "1.5.0",
          "model_name": "DescriptionStyleModel",
          "state": {
            "_model_module": "@jupyter-widgets/controls",
            "_model_module_version": "1.5.0",
            "_model_name": "DescriptionStyleModel",
            "_view_count": null,
            "_view_module": "@jupyter-widgets/base",
            "_view_module_version": "1.2.0",
            "_view_name": "StyleView",
            "description_width": ""
          }
        },
        "dfa096573eaf4860ad2e14715b017821": {
          "model_module": "@jupyter-widgets/controls",
          "model_module_version": "1.5.0",
          "model_name": "SliderStyleModel",
          "state": {
            "_model_module": "@jupyter-widgets/controls",
            "_model_module_version": "1.5.0",
            "_model_name": "SliderStyleModel",
            "_view_count": null,
            "_view_module": "@jupyter-widgets/base",
            "_view_module_version": "1.2.0",
            "_view_name": "StyleView",
            "description_width": "",
            "handle_color": null
          }
        },
        "e0db73abc6b445ad8552843bfd944ca3": {
          "model_module": "@jupyter-widgets/controls",
          "model_module_version": "1.5.0",
          "model_name": "DescriptionStyleModel",
          "state": {
            "_model_module": "@jupyter-widgets/controls",
            "_model_module_version": "1.5.0",
            "_model_name": "DescriptionStyleModel",
            "_view_count": null,
            "_view_module": "@jupyter-widgets/base",
            "_view_module_version": "1.2.0",
            "_view_name": "StyleView",
            "description_width": ""
          }
        },
        "e2e78a7486fe496f8ef56efe2ea1cfc6": {
          "model_module": "@jupyter-widgets/controls",
          "model_module_version": "1.5.0",
          "model_name": "DropdownModel",
          "state": {
            "_dom_classes": [],
            "_model_module": "@jupyter-widgets/controls",
            "_model_module_version": "1.5.0",
            "_model_name": "DropdownModel",
            "_options_labels": [
              "10m_u_component_of_wind",
              "10m_v_component_of_wind",
              "2m_temperature",
              "geopotential",
              "mean_sea_level_pressure",
              "specific_humidity",
              "temperature",
              "total_precipitation_6hr",
              "u_component_of_wind",
              "v_component_of_wind",
              "vertical_velocity"
            ],
            "_view_count": null,
            "_view_module": "@jupyter-widgets/controls",
            "_view_module_version": "1.5.0",
            "_view_name": "DropdownView",
            "description": "Variable",
            "description_tooltip": null,
            "disabled": false,
            "index": 2,
            "layout": "IPY_MODEL_81db872de4b94f91b9488cf809a2025a",
            "style": "IPY_MODEL_a4bc12f07cb64eff9e84fe77ec5e0738"
          }
        },
        "e40a9477c67f4f51b73080f543f181e2": {
          "model_module": "@jupyter-widgets/base",
          "model_module_version": "1.2.0",
          "model_name": "LayoutModel",
          "state": {
            "_model_module": "@jupyter-widgets/base",
            "_model_module_version": "1.2.0",
            "_model_name": "LayoutModel",
            "_view_count": null,
            "_view_module": "@jupyter-widgets/base",
            "_view_module_version": "1.2.0",
            "_view_name": "LayoutView",
            "align_content": null,
            "align_items": null,
            "align_self": null,
            "border": null,
            "bottom": null,
            "display": null,
            "flex": null,
            "flex_flow": null,
            "grid_area": null,
            "grid_auto_columns": null,
            "grid_auto_flow": null,
            "grid_auto_rows": null,
            "grid_column": null,
            "grid_gap": null,
            "grid_row": null,
            "grid_template_areas": null,
            "grid_template_columns": null,
            "grid_template_rows": null,
            "height": null,
            "justify_content": null,
            "justify_items": null,
            "left": null,
            "margin": null,
            "max_height": null,
            "max_width": null,
            "min_height": null,
            "min_width": null,
            "object_fit": null,
            "object_position": null,
            "order": null,
            "overflow": null,
            "overflow_x": null,
            "overflow_y": null,
            "padding": null,
            "right": null,
            "top": null,
            "visibility": null,
            "width": null
          }
        },
        "e8595df10a974500af6543d4a1dd6424": {
          "model_module": "@jupyter-widgets/controls",
          "model_module_version": "1.5.0",
          "model_name": "DropdownModel",
          "state": {
            "_dom_classes": [],
            "_model_module": "@jupyter-widgets/controls",
            "_model_module_version": "1.5.0",
            "_model_name": "DropdownModel",
            "_options_labels": [
              "50",
              "100",
              "150",
              "200",
              "250",
              "300",
              "400",
              "500",
              "600",
              "700",
              "850",
              "925",
              "1000"
            ],
            "_view_count": null,
            "_view_module": "@jupyter-widgets/controls",
            "_view_module_version": "1.5.0",
            "_view_name": "DropdownView",
            "description": "Level",
            "description_tooltip": null,
            "disabled": false,
            "index": 7,
            "layout": "IPY_MODEL_70504fa589764b8b866f701c865aa316",
            "style": "IPY_MODEL_50f3f1a2d2794194a7852179631e2ca8"
          }
        },
        "eae986fd7e214666bd1bded0ef930d14": {
          "model_module": "@jupyter-widgets/base",
          "model_module_version": "1.2.0",
          "model_name": "LayoutModel",
          "state": {
            "_model_module": "@jupyter-widgets/base",
            "_model_module_version": "1.2.0",
            "_model_name": "LayoutModel",
            "_view_count": null,
            "_view_module": "@jupyter-widgets/base",
            "_view_module_version": "1.2.0",
            "_view_name": "LayoutView",
            "align_content": null,
            "align_items": null,
            "align_self": null,
            "border": null,
            "bottom": null,
            "display": null,
            "flex": null,
            "flex_flow": null,
            "grid_area": null,
            "grid_auto_columns": null,
            "grid_auto_flow": null,
            "grid_auto_rows": null,
            "grid_column": null,
            "grid_gap": null,
            "grid_row": null,
            "grid_template_areas": null,
            "grid_template_columns": null,
            "grid_template_rows": null,
            "height": null,
            "justify_content": null,
            "justify_items": null,
            "left": null,
            "margin": null,
            "max_height": null,
            "max_width": null,
            "min_height": null,
            "min_width": null,
            "object_fit": null,
            "object_position": null,
            "order": null,
            "overflow": null,
            "overflow_x": null,
            "overflow_y": null,
            "padding": null,
            "right": null,
            "top": null,
            "visibility": null,
            "width": null
          }
        },
        "eb87493376044484a74998c245725b75": {
          "model_module": "@jupyter-widgets/controls",
          "model_module_version": "1.5.0",
          "model_name": "DropdownModel",
          "state": {
            "_dom_classes": [],
            "_model_module": "@jupyter-widgets/controls",
            "_model_module_version": "1.5.0",
            "_model_name": "DropdownModel",
            "_options_labels": [
              "10m_u_component_of_wind",
              "10m_v_component_of_wind",
              "2m_temperature",
              "geopotential",
              "mean_sea_level_pressure",
              "specific_humidity",
              "temperature",
              "total_precipitation_6hr",
              "u_component_of_wind",
              "v_component_of_wind",
              "vertical_velocity"
            ],
            "_view_count": null,
            "_view_module": "@jupyter-widgets/controls",
            "_view_module_version": "1.5.0",
            "_view_name": "DropdownView",
            "description": "Variable",
            "description_tooltip": null,
            "disabled": false,
            "index": 2,
            "layout": "IPY_MODEL_4a1a76af72164519a4211848721bb01b",
            "style": "IPY_MODEL_f9c75c4bf12c490494373813e6937ff8"
          }
        },
        "f9c75c4bf12c490494373813e6937ff8": {
          "model_module": "@jupyter-widgets/controls",
          "model_module_version": "1.5.0",
          "model_name": "DescriptionStyleModel",
          "state": {
            "_model_module": "@jupyter-widgets/controls",
            "_model_module_version": "1.5.0",
            "_model_name": "DescriptionStyleModel",
            "_view_count": null,
            "_view_module": "@jupyter-widgets/base",
            "_view_module_version": "1.2.0",
            "_view_name": "StyleView",
            "description_width": ""
          }
        },
        "ffbf88c2495a4bafbce409a1ffdc42b3": {
          "model_module": "@jupyter-widgets/base",
          "model_module_version": "1.2.0",
          "model_name": "LayoutModel",
          "state": {
            "_model_module": "@jupyter-widgets/base",
            "_model_module_version": "1.2.0",
            "_model_name": "LayoutModel",
            "_view_count": null,
            "_view_module": "@jupyter-widgets/base",
            "_view_module_version": "1.2.0",
            "_view_name": "LayoutView",
            "align_content": null,
            "align_items": null,
            "align_self": null,
            "border": null,
            "bottom": null,
            "display": null,
            "flex": null,
            "flex_flow": null,
            "grid_area": null,
            "grid_auto_columns": null,
            "grid_auto_flow": null,
            "grid_auto_rows": null,
            "grid_column": null,
            "grid_gap": null,
            "grid_row": null,
            "grid_template_areas": null,
            "grid_template_columns": null,
            "grid_template_rows": null,
            "height": null,
            "justify_content": null,
            "justify_items": null,
            "left": null,
            "margin": null,
            "max_height": null,
            "max_width": null,
            "min_height": null,
            "min_width": null,
            "object_fit": null,
            "object_position": null,
            "order": null,
            "overflow": null,
            "overflow_x": null,
            "overflow_y": null,
            "padding": null,
            "right": null,
            "top": null,
            "visibility": null,
            "width": null
          }
        }
      }
    }
  },
  "nbformat": 4,
  "nbformat_minor": 0
}
