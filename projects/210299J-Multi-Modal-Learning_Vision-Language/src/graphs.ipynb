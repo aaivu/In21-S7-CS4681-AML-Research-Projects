{
 "cells": [
  {
   "cell_type": "code",
   "execution_count": 1,
   "id": "f48f89e5",
   "metadata": {},
   "outputs": [
    {
     "ename": "ModuleNotFoundError",
     "evalue": "No module named 'matplotlib'",
     "output_type": "error",
     "traceback": [
      "\u001b[31m---------------------------------------------------------------------------\u001b[39m",
      "\u001b[31mModuleNotFoundError\u001b[39m                       Traceback (most recent call last)",
      "\u001b[36mCell\u001b[39m\u001b[36m \u001b[39m\u001b[32mIn[1]\u001b[39m\u001b[32m, line 3\u001b[39m\n\u001b[32m      1\u001b[39m \u001b[38;5;66;03m# plot_results.py\u001b[39;00m\n\u001b[32m      2\u001b[39m \u001b[38;5;28;01mimport\u001b[39;00m\u001b[38;5;250m \u001b[39m\u001b[34;01mjson\u001b[39;00m\n\u001b[32m----> \u001b[39m\u001b[32m3\u001b[39m \u001b[38;5;28;01mimport\u001b[39;00m\u001b[38;5;250m \u001b[39m\u001b[34;01mmatplotlib\u001b[39;00m\u001b[34;01m.\u001b[39;00m\u001b[34;01mpyplot\u001b[39;00m\u001b[38;5;250m \u001b[39m\u001b[38;5;28;01mas\u001b[39;00m\u001b[38;5;250m \u001b[39m\u001b[34;01mplt\u001b[39;00m\n\u001b[32m      5\u001b[39m \u001b[38;5;66;03m# Fill these from your evaluation dicts\u001b[39;00m\n\u001b[32m      6\u001b[39m baseline_all = {\u001b[33m\"\u001b[39m\u001b[33mCIDEr\u001b[39m\u001b[33m\"\u001b[39m: \u001b[32m1.064\u001b[39m, \u001b[33m\"\u001b[39m\u001b[33mSPICE\u001b[39m\u001b[33m\"\u001b[39m: \u001b[32m0.148\u001b[39m}\n",
      "\u001b[31mModuleNotFoundError\u001b[39m: No module named 'matplotlib'"
     ]
    }
   ],
   "source": [
    "# plot_results.py\n",
    "import json\n",
    "import matplotlib.pyplot as plt\n",
    "\n",
    "# Fill these from your evaluation dicts\n",
    "baseline_all = {\"CIDEr\": 1.064, \"SPICE\": 0.148}\n",
    "hybrid_all   = {\"CIDEr\": 1.090, \"SPICE\": 0.151}  # <-- replace with your real best α, if achieved\n",
    "\n",
    "splits = {\n",
    "  \"in-domain\":  {\"base\": {\"CIDEr\":1.019,\"SPICE\":0.149}, \"hyb\": {\"CIDEr\":1.030,\"SPICE\":0.152}},\n",
    "  \"near-domain\":{\"base\": {\"CIDEr\":1.056,\"SPICE\":0.150}, \"hyb\": {\"CIDEr\":1.071,\"SPICE\":0.153}},\n",
    "  \"out-of-domain\":{\"base\":{\"CIDEr\":1.035,\"SPICE\":0.143}, \"hyb\":{\"CIDEr\":1.062,\"SPICE\":0.149}},\n",
    "}\n",
    "\n",
    "# --- overall bar ---\n",
    "labels = [\"CIDEr\",\"SPICE\"]\n",
    "x = range(len(labels))\n",
    "base = [baseline_all[k] for k in labels]\n",
    "hyb  = [hybrid_all[k]   for k in labels]\n",
    "\n",
    "plt.figure()\n",
    "plt.bar([i-0.2 for i in x], base, width=0.4, label=\"Baseline\")\n",
    "plt.bar([i+0.2 for i in x], hyb,  width=0.4, label=\"Hybrid\")\n",
    "plt.xticks(list(x), labels)\n",
    "plt.ylabel(\"Score\")\n",
    "plt.title(\"Overall (ALL∩)\")\n",
    "plt.legend()\n",
    "plt.show()\n",
    "\n",
    "# --- per-split CIDEr ---\n",
    "plt.figure()\n",
    "names = list(splits.keys())\n",
    "base_c = [splits[n][\"base\"][\"CIDEr\"] for n in names]\n",
    "hyb_c  = [splits[n][\"hyb\"][\"CIDEr\"]  for n in names]\n",
    "xx = range(len(names))\n",
    "plt.bar([i-0.2 for i in xx], base_c, width=0.4, label=\"Baseline\")\n",
    "plt.bar([i+0.2 for i in xx], hyb_c,  width=0.4, label=\"Hybrid\")\n",
    "plt.xticks(list(xx), names, rotation=20)\n",
    "plt.ylabel(\"CIDEr\")\n",
    "plt.title(\"CIDEr by split\")\n",
    "plt.legend()\n",
    "plt.show()\n",
    "\n",
    "# --- per-split SPICE ---\n",
    "plt.figure()\n",
    "base_s = [splits[n][\"base\"][\"SPICE\"] for n in names]\n",
    "hyb_s  = [splits[n][\"hyb\"][\"SPICE\"]  for n in names]\n",
    "plt.bar([i-0.2 for i in xx], base_s, width=0.4, label=\"Baseline\")\n",
    "plt.bar([i+0.2 for i in xx], hyb_s,  width=0.4, label=\"Hybrid\")\n",
    "plt.xticks(list(xx), names, rotation=20)\n",
    "plt.ylabel(\"SPICE\")\n",
    "plt.title(\"SPICE by split\")\n",
    "plt.legend()\n",
    "plt.show()\n"
   ]
  },
  {
   "cell_type": "code",
   "execution_count": null,
   "id": "93472451",
   "metadata": {},
   "outputs": [],
   "source": []
  }
 ],
 "metadata": {
  "kernelspec": {
   "display_name": "Python 3",
   "language": "python",
   "name": "python3"
  },
  "language_info": {
   "codemirror_mode": {
    "name": "ipython",
    "version": 3
   },
   "file_extension": ".py",
   "mimetype": "text/x-python",
   "name": "python",
   "nbconvert_exporter": "python",
   "pygments_lexer": "ipython3",
   "version": "3.12.3"
  }
 },
 "nbformat": 4,
 "nbformat_minor": 5
}
