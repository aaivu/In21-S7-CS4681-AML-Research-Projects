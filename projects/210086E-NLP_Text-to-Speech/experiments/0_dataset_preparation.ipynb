{
 "cells": [
  {
   "cell_type": "code",
   "execution_count": 4,
   "id": "95073d63-41f1-47bf-b288-a9b05b23248c",
   "metadata": {},
   "outputs": [],
   "source": [
    "import os\n",
    "import glob\n",
    "\n",
    "root = \"../data/VCTK-Corpus-0.92/wav48_silence_trimmed\""
   ]
  },
  {
   "cell_type": "code",
   "execution_count": 7,
   "id": "cd1e9508-df81-4021-a93b-74a3eef801cb",
   "metadata": {},
   "outputs": [
    {
     "name": "stdout",
     "output_type": "stream",
     "text": [
      "number of audios to be deleted 44455 | number of audios to be renamed 43873\n"
     ]
    }
   ],
   "source": [
    "# dry run\n",
    "delete_list = []\n",
    "rename_list = []\n",
    "for folder, _, _ in os.walk(root):\n",
    "    for f in glob.glob(os.path.join(folder, \"*_mic1.flac\")):\n",
    "        delete_list.append(f)\n",
    "    for f in glob.glob(os.path.join(folder, \"*_mic2.flac\")):\n",
    "        rename_list.append(f)\n",
    "\n",
    "print(f\"number of audios to be deleted {len(delete_list)} | number of audios to be renamed {len(rename_list)}\")"
   ]
  },
  {
   "cell_type": "code",
   "execution_count": 9,
   "id": "071fcd54-b3ba-4eb8-bc5c-e6fc05d79566",
   "metadata": {},
   "outputs": [],
   "source": [
    "# remove and rename\n",
    "for folder, _, _ in os.walk(root):\n",
    "    # Remove mic1 files\n",
    "    for mic1_file in glob.glob(os.path.join(folder, \"*_mic1.flac\")):\n",
    "        os.remove(mic1_file)\n",
    "\n",
    "    # Rename mic2 files → remove \"_mic2\"\n",
    "    for mic2_file in glob.glob(os.path.join(folder, \"*_mic2.flac\")):\n",
    "        new_name = mic2_file.replace(\"_mic2\", \"\")\n",
    "        os.rename(mic2_file, new_name)\n"
   ]
  }
 ],
 "metadata": {
  "kernelspec": {
   "display_name": "Python 3 (ipykernel)",
   "language": "python",
   "name": "python3"
  },
  "language_info": {
   "codemirror_mode": {
    "name": "ipython",
    "version": 3
   },
   "file_extension": ".py",
   "mimetype": "text/x-python",
   "name": "python",
   "nbconvert_exporter": "python",
   "pygments_lexer": "ipython3",
   "version": "3.10.18"
  }
 },
 "nbformat": 4,
 "nbformat_minor": 5
}
