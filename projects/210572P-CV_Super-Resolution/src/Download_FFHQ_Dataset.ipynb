{
 "cells": [
  {
   "cell_type": "markdown",
   "metadata": {},
   "source": [
    "# FFHQ Dataset Downloader for Google Colab\n",
    "\n",
    "This notebook provides a streamlined process for downloading the **Flickr-Faces-HQ (FFHQ)** dataset directly within a Google Colab environment and transferring it to your Google Drive.\n",
    "\n",
    "--- \n",
    "### ⚠️ **Important Considerations**\n",
    "\n",
    "1.  **Large Dataset Size**: The FFHQ image dataset is approximately **88 GB**. Ensure you have sufficient space in your Google Drive.\n",
    "2.  **Long Duration**: The entire download and transfer process can take **several hours**. It is highly recommended to use a **Colab Pro** subscription to prevent the session from timing out.\n",
    "3.  **Colab Disk Space**: A standard, free Colab instance may not have enough temporary disk space to hold the entire dataset before transferring. Colab Pro provides more disk space.\n",
    "\n",
    "---"
   ]
  },
  {
   "cell_type": "markdown",
   "metadata": {},
   "source": [
    "## Step 1: Mount Google Drive\n",
    "\n",
    "First, connect to your Google Drive. This is where the downloaded dataset will be stored. You will be asked to authorize the connection."
   ]
  },
  {
   "cell_type": "code",
   "execution_count": null,
   "metadata": {},
   "outputs": [],
   "source": [
    "from google.colab import drive\n",
    "drive.mount('/content/drive')"
   ]
  },
  {
   "cell_type": "markdown",
   "metadata": {},
   "source": [
    "## Step 2: Create the Target Directory in Google Drive\n",
    "\n",
    "Let's create the folder structure in your Google Drive where the dataset will live. We will use `CodeFormer_Dataset/ffhq` as the destination."
   ]
  },
  {
   "cell_type": "code",
   "execution_count": null,
   "metadata": {},
   "outputs": [],
   "source": [
    "# This is the path that your training script will expect.\n",
    "target_drive_folder = \"/content/drive/My Drive/CodeFormer_Dataset/ffhq\"\n",
    "\n",
    "!mkdir -p \"{target_drive_folder}\"\n",
    "\n",
    "print(f\"Successfully created directory: {target_drive_folder}\")"
   ]
  },
  {
   "cell_type": "markdown",
   "metadata": {},
   "source": [
    "## Step 3: Download and Transfer the Dataset\n",
    "\n",
    "This is the main step. The following script will:\n",
    "1. Clone the official FFHQ dataset repository.\n",
    "2. Run the download script to fetch the 70,000 images (1024x1024 resolution) to the Colab's temporary local storage.\n",
    "3. Copy all the downloaded images to the Google Drive folder you created.\n",
    "\n",
    "**Note:** This is a very long process. Please be patient."
   ]
  },
  {
   "cell_type": "code",
   "execution_count": null,
   "metadata": {},
   "outputs": [],
   "source": [
    "# Navigate out to the root /content directory for a clean workspace\n",
    "%cd /content/\n",
    "\n",
    "print(\"Cloning the official FFHQ dataset repository from NVIDIA...\")\n",
    "!git clone https://github.com/NVlabs/ffhq-dataset.git\n",
    "%cd ffhq-dataset\n",
    "\n",
    "# Run the official Python script to download the images.\n",
    "# The '--wilds' flag downloads the 1024x1024 PNG images.\n",
    "# The images will be saved locally inside '/content/ffhq-dataset/images1024x1024'.\n",
    "print(\"\\nStarting FFHQ dataset download. This will take several hours...\")\n",
    "!python download_ffhq.py --wilds\n",
    "\n",
    "# After the download is complete, copy the images to your Google Drive.\n",
    "print(\"\\nDownload complete. Starting transfer to Google Drive. This will also take a long time...\")\n",
    "!cp -r /content/ffhq-dataset/images1024x1024/* \"/content/drive/My Drive/CodeFormer_Dataset/ffhq/\"\n",
    "\n",
    "print(\"\\n--- All Done! ---\")\n",
    "print(\"The FFHQ dataset has been successfully downloaded and transferred to your Google Drive.\")"
   ]
  },
  {
   "cell_type": "markdown",
   "metadata": {},
   "source": [
    "## Step 4: Verify the Transfer\n",
    "\n",
    "Let's run a quick check to ensure the files are now in your Google Drive."
   ]
  },
  {
   "cell_type": "code",
   "execution_count": null,
   "metadata": {},
   "outputs": [],
   "source": [
    "# List the first 10 files in the target directory\n",
    "!ls -l \"/content/drive/My Drive/CodeFormer_Dataset/ffhq\" | head -n 10"
   ]
  }
 ],
 "metadata": {
  "colab": {
   "collapsed_sections": [],
   "name": "Download_FFHQ_Dataset.ipynb",
   "provenance": []
  },
  "kernelspec": {
   "display_name": "Python 3",
   "name": "python3"
  },
  "language_info": {
   "name": "python"
  }
 },
 "nbformat": 4,
 "nbformat_minor": 0
}