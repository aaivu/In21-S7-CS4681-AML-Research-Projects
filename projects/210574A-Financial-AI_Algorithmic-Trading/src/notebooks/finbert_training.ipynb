{
 "cells": [
  {
   "cell_type": "markdown",
   "metadata": {},
   "source": [
    "# FinBERT Example Notebook\n",
    "\n",
    "This notebooks shows how to train and use the FinBERT pre-trained language model for financial sentiment analysis."
   ]
  },
  {
   "cell_type": "markdown",
   "metadata": {},
   "source": [
    "## Modules "
   ]
  },
  {
   "cell_type": "code",
   "execution_count": 1,
   "metadata": {
    "ExecuteTime": {
     "end_time": "2020-03-23T15:55:04.902740Z",
     "start_time": "2020-03-23T15:55:04.876252Z"
    }
   },
   "outputs": [
    {
     "name": "stderr",
     "output_type": "stream",
     "text": [
      "/Users/pasindusankalpa/Documents/finBERT/venv/lib/python3.13/site-packages/tqdm/auto.py:21: TqdmWarning: IProgress not found. Please update jupyter and ipywidgets. See https://ipywidgets.readthedocs.io/en/stable/user_install.html\n",
      "  from .autonotebook import tqdm as notebook_tqdm\n"
     ]
    }
   ],
   "source": [
    "from pathlib import Path\n",
    "import shutil\n",
    "import os\n",
    "import logging\n",
    "import sys\n",
    "import pandas as pd\n",
    "sys.path.append('..')\n",
    "\n",
    "from textblob import TextBlob\n",
    "from pprint import pprint\n",
    "from sklearn.metrics import classification_report\n",
    "\n",
    "from transformers import AutoModelForSequenceClassification\n",
    "\n",
    "from finbert.finbert import *\n",
    "import finbert.utils as tools\n",
    "\n",
    "%load_ext autoreload\n",
    "%autoreload 2\n",
    "\n",
    "project_dir = Path.cwd().parent\n",
    "pd.set_option('max_colwidth', 1)"
   ]
  },
  {
   "cell_type": "code",
   "execution_count": 2,
   "metadata": {
    "ExecuteTime": {
     "end_time": "2020-03-23T15:55:05.711210Z",
     "start_time": "2020-03-23T15:55:05.693609Z"
    }
   },
   "outputs": [],
   "source": [
    "logging.basicConfig(format = '%(asctime)s - %(levelname)s - %(name)s -   %(message)s',\n",
    "                    datefmt = '%m/%d/%Y %H:%M:%S',\n",
    "                    level = logging.ERROR)"
   ]
  },
  {
   "cell_type": "markdown",
   "metadata": {},
   "source": [
    "## Prepare the model"
   ]
  },
  {
   "cell_type": "markdown",
   "metadata": {},
   "source": [
    "### Setting path variables:\n",
    "1. `lm_path`: the path for the pre-trained language model (If vanilla Bert is used then no need to set this one).\n",
    "2. `cl_path`: the path where the classification model is saved.\n",
    "3. `cl_data_path`: the path of the directory that contains the data files of `train.csv`, `validation.csv`, `test.csv`.\n",
    "---\n",
    "\n",
    "In the initialization of `bertmodel`, we can either use the original pre-trained weights from Google by giving `bm = 'bert-base-uncased`, or our further pre-trained language model by `bm = lm_path`\n",
    "\n",
    "\n",
    "---\n",
    "All of the configurations with the model is controlled with the `config` variable. "
   ]
  },
  {
   "cell_type": "code",
   "execution_count": 3,
   "metadata": {
    "ExecuteTime": {
     "end_time": "2020-03-23T15:55:07.405597Z",
     "start_time": "2020-03-23T15:55:07.386378Z"
    }
   },
   "outputs": [],
   "source": [
    "lm_path = project_dir/'models'/'language_model'/'finbertTRC2'\n",
    "cl_path = project_dir/'models'/'classifier_model'/'finbert-sentiment'\n",
    "cl_data_path = project_dir/'data'/'sentiment_data'"
   ]
  },
  {
   "cell_type": "code",
   "execution_count": 4,
   "metadata": {},
   "outputs": [
    {
     "name": "stdout",
     "output_type": "stream",
     "text": [
      "(1896, 2)\n",
      "(1629, 2)\n"
     ]
    }
   ],
   "source": [
    "# combine train data set\n",
    "from numpy import negative\n",
    "\n",
    "\n",
    "train_df_before =  pd.read_csv(\n",
    "    cl_data_path/'train.csv' , sep=\"\\t\",\n",
    "                index_col=False, \n",
    ")\n",
    "train_df_before.head()\n",
    "\n",
    "count_df = train_df_before['label'].value_counts().to_dict()\n",
    "count_df\n",
    "\n",
    "negative_augmented = pd.read_csv(\n",
    "    cl_data_path/'augmented_new_negative_df.csv',\n",
    "    sep=\"\\t\",\n",
    "    encoding=\"utf-8\",\n",
    "    index_col=False,\n",
    ")\n",
    "\n",
    "negative_augmented.head()\n",
    "\n",
    "negative_augmented['label'].value_counts()\n",
    "\n",
    "positive_augmented = pd.read_csv(\n",
    "    cl_data_path/'augmented_new_positive_df.csv',\n",
    "    sep=\"\\t\",\n",
    "    encoding=\"utf-8\",\n",
    "    index_col=False,\n",
    ")\n",
    "\n",
    "positive_augmented['label'].value_counts()\n",
    "\n",
    "# neutral_augmented = pd.read_csv(\n",
    "#     cl_data_path/'augmented_new_neutral_df.csv',\n",
    "#     sep=\"\\t\",\n",
    "#     encoding=\"utf-8\",\n",
    "#     index_col=False,\n",
    "# )\n",
    "\n",
    "# neutral_augmented['label'].value_counts()\n",
    "\n",
    "train_df_after = pd.concat([train_df_before, negative_augmented, positive_augmented])\n",
    "\n",
    "train_df_after['label'].value_counts()\n",
    "\n",
    "#save the combined data\n",
    "train_df_after.to_csv(cl_data_path/'train.csv', index=False, sep=\"\\t\", encoding=\"utf-8\")\n",
    "\n",
    "print(train_df_after.shape)\n",
    "print(train_df_before.shape)"
   ]
  },
  {
   "cell_type": "markdown",
   "metadata": {},
   "source": [
    "###  Configuring training parameters"
   ]
  },
  {
   "cell_type": "markdown",
   "metadata": {},
   "source": [
    "You can find the explanations of the training parameters in the class docsctrings. "
   ]
  },
  {
   "cell_type": "code",
   "execution_count": 5,
   "metadata": {
    "ExecuteTime": {
     "end_time": "2020-03-23T15:55:12.378583Z",
     "start_time": "2020-03-23T15:55:09.196746Z"
    }
   },
   "outputs": [],
   "source": [
    "# Clean the cl_path\n",
    "try:\n",
    "    shutil.rmtree(cl_path) \n",
    "except:\n",
    "    pass\n",
    "\n",
    "bertmodel = AutoModelForSequenceClassification.from_pretrained(\"ProsusAI/finbert\",cache_dir=None, num_labels=3)\n",
    "\n",
    "\n",
    "config = Config(   data_dir=cl_data_path,\n",
    "                   bert_model=bertmodel,\n",
    "                   num_train_epochs=6,\n",
    "                   model_dir=cl_path,\n",
    "                   max_seq_length = 64,\n",
    "                   train_batch_size = 64,\n",
    "                   learning_rate = 2e-5,\n",
    "                   output_mode='classification',\n",
    "                   warm_up_proportion=0.2,\n",
    "                   local_rank=-1,\n",
    "                   discriminate=True,\n",
    "                   gradual_unfreeze=True)"
   ]
  },
  {
   "cell_type": "markdown",
   "metadata": {},
   "source": [
    "`finbert` is our main class that encapsulates all the functionality. The list of class labels should be given in the prepare_model method call with label_list parameter."
   ]
  },
  {
   "cell_type": "code",
   "execution_count": 6,
   "metadata": {
    "ExecuteTime": {
     "end_time": "2020-03-23T15:55:16.657078Z",
     "start_time": "2020-03-23T15:55:16.639644Z"
    }
   },
   "outputs": [],
   "source": [
    "finbert = FinBert(config)\n",
    "finbert.base_model = 'bert-base-uncased'\n",
    "finbert.config.discriminate=True\n",
    "finbert.config.gradual_unfreeze=True"
   ]
  },
  {
   "cell_type": "code",
   "execution_count": 7,
   "metadata": {
    "ExecuteTime": {
     "end_time": "2020-03-23T15:55:17.850734Z",
     "start_time": "2020-03-23T15:55:17.368073Z"
    }
   },
   "outputs": [
    {
     "name": "stderr",
     "output_type": "stream",
     "text": [
      "09/14/2025 19:52:43 - INFO - finbert.finbert -   device: cpu n_gpu: 0, distributed training: False, 16-bits training: False\n"
     ]
    }
   ],
   "source": [
    "finbert.prepare_model(label_list=['positive','negative','neutral'])"
   ]
  },
  {
   "cell_type": "markdown",
   "metadata": {},
   "source": [
    "## Fine-tune the model"
   ]
  },
  {
   "cell_type": "code",
   "execution_count": 8,
   "metadata": {
    "ExecuteTime": {
     "end_time": "2020-03-23T15:55:19.395707Z",
     "start_time": "2020-03-23T15:55:19.349642Z"
    },
    "scrolled": true
   },
   "outputs": [],
   "source": [
    "# Get the training examples\n",
    "train_data = finbert.get_data('train')"
   ]
  },
  {
   "cell_type": "code",
   "execution_count": 9,
   "metadata": {
    "ExecuteTime": {
     "end_time": "2020-03-23T15:55:25.912424Z",
     "start_time": "2020-03-23T15:55:20.065887Z"
    }
   },
   "outputs": [],
   "source": [
    "model = finbert.create_the_model()"
   ]
  },
  {
   "cell_type": "markdown",
   "metadata": {},
   "source": [
    "### [Optional] Fine-tune only a subset of the model\n",
    "The variable `freeze` determines the last layer (out of 12) to be freezed. You can skip this part if you want to fine-tune the whole model.\n",
    "\n",
    "<span style=\"color:red\">Important: </span>\n",
    "Execute this step if you want a shorter training time in the expense of accuracy."
   ]
  },
  {
   "cell_type": "code",
   "execution_count": 10,
   "metadata": {},
   "outputs": [],
   "source": [
    "# This is for fine-tuning a subset of the model.\n",
    "\n",
    "freeze = 6\n",
    "\n",
    "for param in model.bert.embeddings.parameters():\n",
    "    param.requires_grad = False\n",
    "    \n",
    "for i in range(freeze):\n",
    "    for param in model.bert.encoder.layer[i].parameters():\n",
    "        param.requires_grad = False"
   ]
  },
  {
   "cell_type": "markdown",
   "metadata": {},
   "source": [
    "### Training"
   ]
  },
  {
   "cell_type": "code",
   "execution_count": 11,
   "metadata": {
    "ExecuteTime": {
     "end_time": "2020-03-23T15:58:35.486890Z",
     "start_time": "2020-03-23T15:55:27.293772Z"
    },
    "scrolled": true
   },
   "outputs": [
    {
     "name": "stderr",
     "output_type": "stream",
     "text": [
      "09/14/2025 19:52:45 - INFO - finbert.utils -   *** Example ***\n",
      "09/14/2025 19:52:45 - INFO - finbert.utils -   guid: train-1\n",
      "09/14/2025 19:52:45 - INFO - finbert.utils -   tokens: [CLS] 2009 3 february 2010 - finland - based steel maker ra ##uta ##ru ##uk ##ki rt ##rks ) , or ru ##uk ##ki , said today it slipped to a larger - than - expected pre ##ta ##x loss of eu ##r ##46 ##m in the fourth quarter of 2009 from a year - earlier profit of eu ##r ##45 ##m . [SEP]\n",
      "09/14/2025 19:52:45 - INFO - finbert.utils -   input_ids: 101 2268 1017 2337 2230 1011 6435 1011 2241 3886 9338 10958 13210 6820 6968 3211 19387 19987 1007 1010 2030 21766 6968 3211 1010 2056 2651 2009 5707 2000 1037 3469 1011 2084 1011 3517 3653 2696 2595 3279 1997 7327 2099 21472 2213 1999 1996 2959 4284 1997 2268 2013 1037 2095 1011 3041 5618 1997 7327 2099 19961 2213 1012 102\n",
      "09/14/2025 19:52:45 - INFO - finbert.utils -   attention_mask: 1 1 1 1 1 1 1 1 1 1 1 1 1 1 1 1 1 1 1 1 1 1 1 1 1 1 1 1 1 1 1 1 1 1 1 1 1 1 1 1 1 1 1 1 1 1 1 1 1 1 1 1 1 1 1 1 1 1 1 1 1 1 1 1\n",
      "09/14/2025 19:52:45 - INFO - finbert.utils -   token_type_ids: 0 0 0 0 0 0 0 0 0 0 0 0 0 0 0 0 0 0 0 0 0 0 0 0 0 0 0 0 0 0 0 0 0 0 0 0 0 0 0 0 0 0 0 0 0 0 0 0 0 0 0 0 0 0 0 0 0 0 0 0 0 0 0 0\n",
      "09/14/2025 19:52:45 - INFO - finbert.utils -   label: negative (id = 1)\n",
      "09/14/2025 19:52:45 - INFO - finbert.finbert -   ***** Loading data *****\n",
      "09/14/2025 19:52:45 - INFO - finbert.finbert -     Num examples = 1896\n",
      "09/14/2025 19:52:45 - INFO - finbert.finbert -     Batch size = 64\n",
      "09/14/2025 19:52:45 - INFO - finbert.finbert -     Num steps = 12\n",
      "huggingface/tokenizers: The current process just got forked, after parallelism has already been used. Disabling parallelism to avoid deadlocks...\n",
      "To disable this warning, you can either:\n",
      "\t- Avoid using `tokenizers` before the fork if possible\n",
      "\t- Explicitly set the environment variable TOKENIZERS_PARALLELISM=(true | false)\n",
      "Iteration: 100%|██████████| 30/30 [00:42<00:00,  1.41s/it]\n",
      "09/14/2025 19:53:27 - INFO - finbert.utils -   *** Example ***\n",
      "09/14/2025 19:53:27 - INFO - finbert.utils -   guid: validation-1\n",
      "09/14/2025 19:53:27 - INFO - finbert.utils -   tokens: [CLS] for the new shares sub ##scribe ##d with stock options all shareholder rights commence from the date on which they are entered into the trade register . [SEP]\n",
      "09/14/2025 19:53:27 - INFO - finbert.utils -   input_ids: 101 2005 1996 2047 6661 4942 29234 2094 2007 4518 7047 2035 18668 2916 22825 2013 1996 3058 2006 2029 2027 2024 3133 2046 1996 3119 4236 1012 102 0 0 0 0 0 0 0 0 0 0 0 0 0 0 0 0 0 0 0 0 0 0 0 0 0 0 0 0 0 0 0 0 0 0 0\n",
      "09/14/2025 19:53:27 - INFO - finbert.utils -   attention_mask: 1 1 1 1 1 1 1 1 1 1 1 1 1 1 1 1 1 1 1 1 1 1 1 1 1 1 1 1 1 0 0 0 0 0 0 0 0 0 0 0 0 0 0 0 0 0 0 0 0 0 0 0 0 0 0 0 0 0 0 0 0 0 0 0\n",
      "09/14/2025 19:53:27 - INFO - finbert.utils -   token_type_ids: 0 0 0 0 0 0 0 0 0 0 0 0 0 0 0 0 0 0 0 0 0 0 0 0 0 0 0 0 0 0 0 0 0 0 0 0 0 0 0 0 0 0 0 0 0 0 0 0 0 0 0 0 0 0 0 0 0 0 0 0 0 0 0 0\n",
      "09/14/2025 19:53:27 - INFO - finbert.utils -   label: neutral (id = 2)\n",
      "09/14/2025 19:53:27 - INFO - finbert.finbert -   ***** Loading data *****\n",
      "09/14/2025 19:53:27 - INFO - finbert.finbert -     Num examples = 182\n",
      "09/14/2025 19:53:27 - INFO - finbert.finbert -     Batch size = 64\n",
      "09/14/2025 19:53:27 - INFO - finbert.finbert -     Num steps = 12\n",
      "Validating: 100%|██████████| 3/3 [00:02<00:00,  1.22it/s]\n"
     ]
    },
    {
     "name": "stdout",
     "output_type": "stream",
     "text": [
      "Validation losses: [0.13529823472102484]\n",
      "No best model found\n"
     ]
    },
    {
     "name": "stderr",
     "output_type": "stream",
     "text": [
      "Iteration: 100%|██████████| 30/30 [00:57<00:00,  1.93s/it]\n",
      "09/14/2025 19:54:30 - INFO - finbert.utils -   *** Example ***\n",
      "09/14/2025 19:54:30 - INFO - finbert.utils -   guid: validation-1\n",
      "09/14/2025 19:54:30 - INFO - finbert.utils -   tokens: [CLS] for the new shares sub ##scribe ##d with stock options all shareholder rights commence from the date on which they are entered into the trade register . [SEP]\n",
      "09/14/2025 19:54:30 - INFO - finbert.utils -   input_ids: 101 2005 1996 2047 6661 4942 29234 2094 2007 4518 7047 2035 18668 2916 22825 2013 1996 3058 2006 2029 2027 2024 3133 2046 1996 3119 4236 1012 102 0 0 0 0 0 0 0 0 0 0 0 0 0 0 0 0 0 0 0 0 0 0 0 0 0 0 0 0 0 0 0 0 0 0 0\n",
      "09/14/2025 19:54:30 - INFO - finbert.utils -   attention_mask: 1 1 1 1 1 1 1 1 1 1 1 1 1 1 1 1 1 1 1 1 1 1 1 1 1 1 1 1 1 0 0 0 0 0 0 0 0 0 0 0 0 0 0 0 0 0 0 0 0 0 0 0 0 0 0 0 0 0 0 0 0 0 0 0\n",
      "09/14/2025 19:54:30 - INFO - finbert.utils -   token_type_ids: 0 0 0 0 0 0 0 0 0 0 0 0 0 0 0 0 0 0 0 0 0 0 0 0 0 0 0 0 0 0 0 0 0 0 0 0 0 0 0 0 0 0 0 0 0 0 0 0 0 0 0 0 0 0 0 0 0 0 0 0 0 0 0 0\n",
      "09/14/2025 19:54:30 - INFO - finbert.utils -   label: neutral (id = 2)\n",
      "09/14/2025 19:54:30 - INFO - finbert.finbert -   ***** Loading data *****\n",
      "09/14/2025 19:54:30 - INFO - finbert.finbert -     Num examples = 182\n",
      "09/14/2025 19:54:30 - INFO - finbert.finbert -     Batch size = 64\n",
      "09/14/2025 19:54:30 - INFO - finbert.finbert -     Num steps = 12\n",
      "Validating: 100%|██████████| 3/3 [00:02<00:00,  1.26it/s]\n"
     ]
    },
    {
     "name": "stdout",
     "output_type": "stream",
     "text": [
      "Validation losses: [0.13529823472102484, 0.12362139175335567]\n"
     ]
    },
    {
     "name": "stderr",
     "output_type": "stream",
     "text": [
      "Iteration: 100%|██████████| 30/30 [01:12<00:00,  2.43s/it]\n",
      "09/14/2025 19:55:47 - INFO - finbert.utils -   *** Example ***\n",
      "09/14/2025 19:55:47 - INFO - finbert.utils -   guid: validation-1\n",
      "09/14/2025 19:55:47 - INFO - finbert.utils -   tokens: [CLS] for the new shares sub ##scribe ##d with stock options all shareholder rights commence from the date on which they are entered into the trade register . [SEP]\n",
      "09/14/2025 19:55:47 - INFO - finbert.utils -   input_ids: 101 2005 1996 2047 6661 4942 29234 2094 2007 4518 7047 2035 18668 2916 22825 2013 1996 3058 2006 2029 2027 2024 3133 2046 1996 3119 4236 1012 102 0 0 0 0 0 0 0 0 0 0 0 0 0 0 0 0 0 0 0 0 0 0 0 0 0 0 0 0 0 0 0 0 0 0 0\n",
      "09/14/2025 19:55:47 - INFO - finbert.utils -   attention_mask: 1 1 1 1 1 1 1 1 1 1 1 1 1 1 1 1 1 1 1 1 1 1 1 1 1 1 1 1 1 0 0 0 0 0 0 0 0 0 0 0 0 0 0 0 0 0 0 0 0 0 0 0 0 0 0 0 0 0 0 0 0 0 0 0\n",
      "09/14/2025 19:55:47 - INFO - finbert.utils -   token_type_ids: 0 0 0 0 0 0 0 0 0 0 0 0 0 0 0 0 0 0 0 0 0 0 0 0 0 0 0 0 0 0 0 0 0 0 0 0 0 0 0 0 0 0 0 0 0 0 0 0 0 0 0 0 0 0 0 0 0 0 0 0 0 0 0 0\n",
      "09/14/2025 19:55:47 - INFO - finbert.utils -   label: neutral (id = 2)\n",
      "09/14/2025 19:55:47 - INFO - finbert.finbert -   ***** Loading data *****\n",
      "09/14/2025 19:55:47 - INFO - finbert.finbert -     Num examples = 182\n",
      "09/14/2025 19:55:47 - INFO - finbert.finbert -     Batch size = 64\n",
      "09/14/2025 19:55:47 - INFO - finbert.finbert -     Num steps = 12\n",
      "Validating: 100%|██████████| 3/3 [00:02<00:00,  1.17it/s]\n"
     ]
    },
    {
     "name": "stdout",
     "output_type": "stream",
     "text": [
      "Validation losses: [0.13529823472102484, 0.12362139175335567, 0.10697191456953685]\n"
     ]
    },
    {
     "name": "stderr",
     "output_type": "stream",
     "text": [
      "Iteration: 100%|██████████| 30/30 [01:39<00:00,  3.30s/it]\n",
      "09/14/2025 19:57:30 - INFO - finbert.utils -   *** Example ***\n",
      "09/14/2025 19:57:30 - INFO - finbert.utils -   guid: validation-1\n",
      "09/14/2025 19:57:30 - INFO - finbert.utils -   tokens: [CLS] for the new shares sub ##scribe ##d with stock options all shareholder rights commence from the date on which they are entered into the trade register . [SEP]\n",
      "09/14/2025 19:57:30 - INFO - finbert.utils -   input_ids: 101 2005 1996 2047 6661 4942 29234 2094 2007 4518 7047 2035 18668 2916 22825 2013 1996 3058 2006 2029 2027 2024 3133 2046 1996 3119 4236 1012 102 0 0 0 0 0 0 0 0 0 0 0 0 0 0 0 0 0 0 0 0 0 0 0 0 0 0 0 0 0 0 0 0 0 0 0\n",
      "09/14/2025 19:57:30 - INFO - finbert.utils -   attention_mask: 1 1 1 1 1 1 1 1 1 1 1 1 1 1 1 1 1 1 1 1 1 1 1 1 1 1 1 1 1 0 0 0 0 0 0 0 0 0 0 0 0 0 0 0 0 0 0 0 0 0 0 0 0 0 0 0 0 0 0 0 0 0 0 0\n",
      "09/14/2025 19:57:30 - INFO - finbert.utils -   token_type_ids: 0 0 0 0 0 0 0 0 0 0 0 0 0 0 0 0 0 0 0 0 0 0 0 0 0 0 0 0 0 0 0 0 0 0 0 0 0 0 0 0 0 0 0 0 0 0 0 0 0 0 0 0 0 0 0 0 0 0 0 0 0 0 0 0\n",
      "09/14/2025 19:57:30 - INFO - finbert.utils -   label: neutral (id = 2)\n",
      "09/14/2025 19:57:30 - INFO - finbert.finbert -   ***** Loading data *****\n",
      "09/14/2025 19:57:30 - INFO - finbert.finbert -     Num examples = 182\n",
      "09/14/2025 19:57:30 - INFO - finbert.finbert -     Batch size = 64\n",
      "09/14/2025 19:57:30 - INFO - finbert.finbert -     Num steps = 12\n",
      "Validating: 100%|██████████| 3/3 [00:02<00:00,  1.11it/s]\n"
     ]
    },
    {
     "name": "stdout",
     "output_type": "stream",
     "text": [
      "Validation losses: [0.13529823472102484, 0.12362139175335567, 0.10697191456953685, 0.10341812173525493]\n"
     ]
    },
    {
     "name": "stderr",
     "output_type": "stream",
     "text": [
      "Iteration: 100%|██████████| 30/30 [02:01<00:00,  4.06s/it]\n",
      "09/14/2025 19:59:36 - INFO - finbert.utils -   *** Example ***\n",
      "09/14/2025 19:59:36 - INFO - finbert.utils -   guid: validation-1\n",
      "09/14/2025 19:59:36 - INFO - finbert.utils -   tokens: [CLS] for the new shares sub ##scribe ##d with stock options all shareholder rights commence from the date on which they are entered into the trade register . [SEP]\n",
      "09/14/2025 19:59:36 - INFO - finbert.utils -   input_ids: 101 2005 1996 2047 6661 4942 29234 2094 2007 4518 7047 2035 18668 2916 22825 2013 1996 3058 2006 2029 2027 2024 3133 2046 1996 3119 4236 1012 102 0 0 0 0 0 0 0 0 0 0 0 0 0 0 0 0 0 0 0 0 0 0 0 0 0 0 0 0 0 0 0 0 0 0 0\n",
      "09/14/2025 19:59:36 - INFO - finbert.utils -   attention_mask: 1 1 1 1 1 1 1 1 1 1 1 1 1 1 1 1 1 1 1 1 1 1 1 1 1 1 1 1 1 0 0 0 0 0 0 0 0 0 0 0 0 0 0 0 0 0 0 0 0 0 0 0 0 0 0 0 0 0 0 0 0 0 0 0\n",
      "09/14/2025 19:59:36 - INFO - finbert.utils -   token_type_ids: 0 0 0 0 0 0 0 0 0 0 0 0 0 0 0 0 0 0 0 0 0 0 0 0 0 0 0 0 0 0 0 0 0 0 0 0 0 0 0 0 0 0 0 0 0 0 0 0 0 0 0 0 0 0 0 0 0 0 0 0 0 0 0 0\n",
      "09/14/2025 19:59:36 - INFO - finbert.utils -   label: neutral (id = 2)\n",
      "09/14/2025 19:59:36 - INFO - finbert.finbert -   ***** Loading data *****\n",
      "09/14/2025 19:59:36 - INFO - finbert.finbert -     Num examples = 182\n",
      "09/14/2025 19:59:36 - INFO - finbert.finbert -     Batch size = 64\n",
      "09/14/2025 19:59:36 - INFO - finbert.finbert -     Num steps = 12\n",
      "Validating: 100%|██████████| 3/3 [00:02<00:00,  1.07it/s]\n"
     ]
    },
    {
     "name": "stdout",
     "output_type": "stream",
     "text": [
      "Validation losses: [0.13529823472102484, 0.12362139175335567, 0.10697191456953685, 0.10341812173525493, 0.09733122090498607]\n"
     ]
    },
    {
     "name": "stderr",
     "output_type": "stream",
     "text": [
      "Iteration: 100%|██████████| 30/30 [01:55<00:00,  3.84s/it]\n",
      "09/14/2025 20:01:35 - INFO - finbert.utils -   *** Example ***\n",
      "09/14/2025 20:01:35 - INFO - finbert.utils -   guid: validation-1\n",
      "09/14/2025 20:01:35 - INFO - finbert.utils -   tokens: [CLS] for the new shares sub ##scribe ##d with stock options all shareholder rights commence from the date on which they are entered into the trade register . [SEP]\n",
      "09/14/2025 20:01:35 - INFO - finbert.utils -   input_ids: 101 2005 1996 2047 6661 4942 29234 2094 2007 4518 7047 2035 18668 2916 22825 2013 1996 3058 2006 2029 2027 2024 3133 2046 1996 3119 4236 1012 102 0 0 0 0 0 0 0 0 0 0 0 0 0 0 0 0 0 0 0 0 0 0 0 0 0 0 0 0 0 0 0 0 0 0 0\n",
      "09/14/2025 20:01:35 - INFO - finbert.utils -   attention_mask: 1 1 1 1 1 1 1 1 1 1 1 1 1 1 1 1 1 1 1 1 1 1 1 1 1 1 1 1 1 0 0 0 0 0 0 0 0 0 0 0 0 0 0 0 0 0 0 0 0 0 0 0 0 0 0 0 0 0 0 0 0 0 0 0\n",
      "09/14/2025 20:01:35 - INFO - finbert.utils -   token_type_ids: 0 0 0 0 0 0 0 0 0 0 0 0 0 0 0 0 0 0 0 0 0 0 0 0 0 0 0 0 0 0 0 0 0 0 0 0 0 0 0 0 0 0 0 0 0 0 0 0 0 0 0 0 0 0 0 0 0 0 0 0 0 0 0 0\n",
      "09/14/2025 20:01:35 - INFO - finbert.utils -   label: neutral (id = 2)\n",
      "09/14/2025 20:01:35 - INFO - finbert.finbert -   ***** Loading data *****\n",
      "09/14/2025 20:01:35 - INFO - finbert.finbert -     Num examples = 182\n",
      "09/14/2025 20:01:35 - INFO - finbert.finbert -     Batch size = 64\n",
      "09/14/2025 20:01:35 - INFO - finbert.finbert -     Num steps = 12\n",
      "Validating: 100%|██████████| 3/3 [00:02<00:00,  1.14it/s]\n",
      "Epoch: 100%|██████████| 6/6 [08:52<00:00, 88.81s/it] \n"
     ]
    },
    {
     "name": "stdout",
     "output_type": "stream",
     "text": [
      "Validation losses: [0.13529823472102484, 0.12362139175335567, 0.10697191456953685, 0.10341812173525493, 0.09733122090498607, 0.09738450994094212]\n"
     ]
    }
   ],
   "source": [
    "trained_model = finbert.train(train_examples = train_data, model = model)"
   ]
  },
  {
   "cell_type": "markdown",
   "metadata": {},
   "source": [
    "## Test the model\n",
    "\n",
    "`bert.evaluate` outputs the DataFrame, where true labels and logit values for each example is given"
   ]
  },
  {
   "cell_type": "code",
   "execution_count": 12,
   "metadata": {
    "ExecuteTime": {
     "end_time": "2020-03-23T15:58:40.056789Z",
     "start_time": "2020-03-23T15:58:40.023198Z"
    }
   },
   "outputs": [],
   "source": [
    "test_data = finbert.get_data('test')"
   ]
  },
  {
   "cell_type": "code",
   "execution_count": 13,
   "metadata": {
    "ExecuteTime": {
     "end_time": "2020-03-23T15:58:48.248044Z",
     "start_time": "2020-03-23T15:58:41.699009Z"
    },
    "scrolled": true
   },
   "outputs": [
    {
     "name": "stderr",
     "output_type": "stream",
     "text": [
      "09/14/2025 20:01:40 - INFO - finbert.utils -   *** Example ***\n",
      "09/14/2025 20:01:40 - INFO - finbert.utils -   guid: test-1\n",
      "09/14/2025 20:01:40 - INFO - finbert.utils -   tokens: [CLS] card ##ona slowed her vehicle , turned around and returned to the intersection , where she called 911 . [SEP]\n",
      "09/14/2025 20:01:40 - INFO - finbert.utils -   input_ids: 101 4003 7856 9784 2014 4316 1010 2357 2105 1998 2513 2000 1996 6840 1010 2073 2016 2170 19989 1012 102 0 0 0 0 0 0 0 0 0 0 0 0 0 0 0 0 0 0 0 0 0 0 0 0 0 0 0 0 0 0 0 0 0 0 0 0 0 0 0 0 0 0 0\n",
      "09/14/2025 20:01:40 - INFO - finbert.utils -   attention_mask: 1 1 1 1 1 1 1 1 1 1 1 1 1 1 1 1 1 1 1 1 1 0 0 0 0 0 0 0 0 0 0 0 0 0 0 0 0 0 0 0 0 0 0 0 0 0 0 0 0 0 0 0 0 0 0 0 0 0 0 0 0 0 0 0\n",
      "09/14/2025 20:01:40 - INFO - finbert.utils -   token_type_ids: 0 0 0 0 0 0 0 0 0 0 0 0 0 0 0 0 0 0 0 0 0 0 0 0 0 0 0 0 0 0 0 0 0 0 0 0 0 0 0 0 0 0 0 0 0 0 0 0 0 0 0 0 0 0 0 0 0 0 0 0 0 0 0 0\n",
      "09/14/2025 20:01:40 - INFO - finbert.utils -   label: neutral (id = 2)\n",
      "09/14/2025 20:01:40 - INFO - finbert.finbert -   ***** Loading data *****\n",
      "09/14/2025 20:01:40 - INFO - finbert.finbert -     Num examples = 453\n",
      "09/14/2025 20:01:40 - INFO - finbert.finbert -     Batch size = 64\n",
      "09/14/2025 20:01:40 - INFO - finbert.finbert -     Num steps = 42\n",
      "09/14/2025 20:01:40 - INFO - finbert.finbert -   ***** Running evaluation ***** \n",
      "09/14/2025 20:01:40 - INFO - finbert.finbert -     Num examples = 453\n",
      "09/14/2025 20:01:40 - INFO - finbert.finbert -     Batch size = 32\n",
      "Testing:   0%|          | 0/8 [00:00<?, ?it/s]"
     ]
    },
    {
     "name": "stderr",
     "output_type": "stream",
     "text": [
      "Testing: 100%|██████████| 8/8 [00:06<00:00,  1.14it/s]\n"
     ]
    }
   ],
   "source": [
    "results = finbert.evaluate(examples=test_data, model=trained_model)"
   ]
  },
  {
   "cell_type": "markdown",
   "metadata": {},
   "source": [
    "### Prepare the classification report"
   ]
  },
  {
   "cell_type": "code",
   "execution_count": 14,
   "metadata": {
    "ExecuteTime": {
     "end_time": "2020-03-23T15:58:51.361079Z",
     "start_time": "2020-03-23T15:58:51.339548Z"
    }
   },
   "outputs": [],
   "source": [
    "import matplotlib.pyplot as plt\n",
    "import seaborn as sns\n",
    "from sklearn.metrics import confusion_matrix\n",
    "\n",
    "def report(df, cols=['label','prediction','logits']):\n",
    "    #print('Validation loss:{0:.2f}'.format(metrics['best_validation_loss']))\n",
    "    cs = CrossEntropyLoss(weight=finbert.class_weights)\n",
    "    loss = cs(torch.tensor(list(df[cols[2]])),torch.tensor(list(df[cols[0]])))\n",
    "    print(\"Loss:{0:.2f}\".format(loss))\n",
    "    print(\"Accuracy:{0:.2f}\".format((df[cols[0]] == df[cols[1]]).sum() / df.shape[0]) )\n",
    "    print(\"\\nClassification Report:\")\n",
    "    report, y_true, y_pred = classification_report(df[cols[0]], df[cols[1]])\n",
    "    print(report)\n",
    "    plt.figure(figsize=(10, 10))\n",
    "    sns.heatmap(confusion_matrix(y_true, y_pred), annot=True, fmt='d')\n",
    "    plt.show()\n"
   ]
  },
  {
   "cell_type": "code",
   "execution_count": 15,
   "metadata": {
    "ExecuteTime": {
     "end_time": "2020-03-23T15:58:53.190447Z",
     "start_time": "2020-03-23T15:58:53.166729Z"
    }
   },
   "outputs": [],
   "source": [
    "results['prediction'] = results.predictions.apply(lambda x: np.argmax(x,axis=0))"
   ]
  },
  {
   "cell_type": "code",
   "execution_count": 16,
   "metadata": {
    "ExecuteTime": {
     "end_time": "2020-03-23T15:58:54.436270Z",
     "start_time": "2020-03-23T15:58:54.399174Z"
    },
    "scrolled": true
   },
   "outputs": [
    {
     "name": "stderr",
     "output_type": "stream",
     "text": [
      "/var/folders/bt/47lhlkx11kd7rvpdmc4zmjh00000gn/T/ipykernel_33956/2059374156.py:8: UserWarning: Creating a tensor from a list of numpy.ndarrays is extremely slow. Please consider converting the list to a single numpy.ndarray with numpy.array() before converting to a tensor. (Triggered internally at /Users/runner/work/pytorch/pytorch/pytorch/torch/csrc/utils/tensor_new.cpp:256.)\n",
      "  loss = cs(torch.tensor(list(df[cols[2]])),torch.tensor(list(df[cols[0]])))\n"
     ]
    },
    {
     "name": "stdout",
     "output_type": "stream",
     "text": [
      "Loss:0.05\n",
      "Accuracy:0.99\n",
      "\n",
      "Classification Report:\n",
      "              precision    recall  f1-score   support\n",
      "\n",
      "           0       0.97      0.99      0.98       117\n",
      "           1       0.98      0.95      0.97        60\n",
      "           2       1.00      0.99      0.99       276\n",
      "\n",
      "    accuracy                           0.99       453\n",
      "   macro avg       0.98      0.98      0.98       453\n",
      "weighted avg       0.99      0.99      0.99       453\n",
      "\n"
     ]
    },
    {
     "data": {
      "image/png": "[encoded data removed]",
      "text/plain": [
       "<Figure size 1000x1000 with 2 Axes>"
      ]
     },
     "metadata": {},
     "output_type": "display_data"
    }
   ],
   "source": [
    "report(results,cols=['labels','prediction','predictions'])\n",
    "\n"
   ]
  },
  {
   "cell_type": "markdown",
   "metadata": {},
   "source": [
    "### Get predictions"
   ]
  },
  {
   "cell_type": "markdown",
   "metadata": {},
   "source": [
    "With the `predict` function, given a piece of text, we split it into a list of sentences and then predict sentiment for each sentence. The output is written into a dataframe. Predictions are represented in three different columns: \n",
    "\n",
    "1) `logit`: probabilities for each class\n",
    "\n",
    "2) `prediction`: predicted label\n",
    "\n",
    "3) `sentiment_score`: sentiment score calculated as: probability of positive - probability of negative\n",
    "\n",
    "Below we analyze a paragraph taken out of [this](https://www.economist.com/finance-and-economics/2019/01/03/a-profit-warning-from-apple-jolts-markets) article from The Economist. For comparison purposes, we also put the sentiments predicted with TextBlob.\n",
    "> Later that day Apple said it was revising down its earnings expectations in the fourth quarter of 2018, largely because of lower sales and signs of economic weakness in China. The news rapidly infected financial markets. Apple’s share price fell by around 7% in after-hours trading and the decline was extended to more than 10% when the market opened. The dollar fell by 3.7% against the yen in a matter of minutes after the announcement, before rapidly recovering some ground. Asian stockmarkets closed down on January 3rd and European ones opened lower. Yields on government bonds fell as investors fled to the traditional haven in a market storm."
   ]
  },
  {
   "cell_type": "code",
   "execution_count": 17,
   "metadata": {
    "ExecuteTime": {
     "end_time": "2020-03-23T15:59:03.875213Z",
     "start_time": "2020-03-23T15:59:03.857612Z"
    }
   },
   "outputs": [],
   "source": [
    "# text = \"Later that day Apple said it was revising down its earnings expectations in \\\n",
    "# the fourth quarter of 2018, largely because of lower sales and signs of economic weakness in China. \\\n",
    "# The news rapidly infected financial markets. Apple’s share price fell by around 7% in after-hours \\\n",
    "# trading and the decline was extended to more than 10% when the market opened. The dollar fell \\\n",
    "# by 3.7% against the yen in a matter of minutes after the announcement, before rapidly recovering \\\n",
    "# some ground. Asian stockmarkets closed down on January 3rd and European ones opened lower. \\\n",
    "# Yields on government bonds fell as investors fled to the traditional haven in a market storm.\""
   ]
  },
  {
   "cell_type": "markdown",
   "metadata": {},
   "source": [
    "Evaluate Exisiting FinBert"
   ]
  },
  {
   "cell_type": "code",
   "execution_count": 18,
   "metadata": {},
   "outputs": [],
   "source": [
    "model = AutoModelForSequenceClassification.from_pretrained(\"ProsusAI/finbert\", cache_dir=None, num_labels=3)"
   ]
  },
  {
   "cell_type": "code",
   "execution_count": 19,
   "metadata": {},
   "outputs": [],
   "source": [
    "test_data = finbert.get_data('test')"
   ]
  },
  {
   "cell_type": "code",
   "execution_count": 20,
   "metadata": {},
   "outputs": [
    {
     "name": "stderr",
     "output_type": "stream",
     "text": [
      "09/14/2025 20:01:48 - INFO - finbert.utils -   *** Example ***\n",
      "09/14/2025 20:01:48 - INFO - finbert.utils -   guid: test-1\n",
      "09/14/2025 20:01:48 - INFO - finbert.utils -   tokens: [CLS] card ##ona slowed her vehicle , turned around and returned to the intersection , where she called 911 . [SEP]\n",
      "09/14/2025 20:01:48 - INFO - finbert.utils -   input_ids: 101 4003 7856 9784 2014 4316 1010 2357 2105 1998 2513 2000 1996 6840 1010 2073 2016 2170 19989 1012 102 0 0 0 0 0 0 0 0 0 0 0 0 0 0 0 0 0 0 0 0 0 0 0 0 0 0 0 0 0 0 0 0 0 0 0 0 0 0 0 0 0 0 0\n",
      "09/14/2025 20:01:48 - INFO - finbert.utils -   attention_mask: 1 1 1 1 1 1 1 1 1 1 1 1 1 1 1 1 1 1 1 1 1 0 0 0 0 0 0 0 0 0 0 0 0 0 0 0 0 0 0 0 0 0 0 0 0 0 0 0 0 0 0 0 0 0 0 0 0 0 0 0 0 0 0 0\n",
      "09/14/2025 20:01:48 - INFO - finbert.utils -   token_type_ids: 0 0 0 0 0 0 0 0 0 0 0 0 0 0 0 0 0 0 0 0 0 0 0 0 0 0 0 0 0 0 0 0 0 0 0 0 0 0 0 0 0 0 0 0 0 0 0 0 0 0 0 0 0 0 0 0 0 0 0 0 0 0 0 0\n"
     ]
    },
    {
     "name": "stderr",
     "output_type": "stream",
     "text": [
      "09/14/2025 20:01:48 - INFO - finbert.utils -   label: neutral (id = 2)\n",
      "09/14/2025 20:01:48 - INFO - finbert.finbert -   ***** Loading data *****\n",
      "09/14/2025 20:01:48 - INFO - finbert.finbert -     Num examples = 453\n",
      "09/14/2025 20:01:48 - INFO - finbert.finbert -     Batch size = 64\n",
      "09/14/2025 20:01:48 - INFO - finbert.finbert -     Num steps = 42\n",
      "09/14/2025 20:01:48 - INFO - finbert.finbert -   ***** Running evaluation ***** \n",
      "09/14/2025 20:01:48 - INFO - finbert.finbert -     Num examples = 453\n",
      "09/14/2025 20:01:48 - INFO - finbert.finbert -     Batch size = 32\n",
      "Testing: 100%|██████████| 8/8 [00:06<00:00,  1.24it/s]\n"
     ]
    }
   ],
   "source": [
    "results = finbert.evaluate(examples=test_data, model=model)"
   ]
  },
  {
   "cell_type": "code",
   "execution_count": 21,
   "metadata": {},
   "outputs": [
    {
     "name": "stdout",
     "output_type": "stream",
     "text": [
      "Accuracy:0.98\n",
      "\n",
      "Classification Report:\n",
      "              precision    recall  f1-score   support\n",
      "\n",
      "           0       0.97      0.99      0.98       117\n",
      "           1       0.94      1.00      0.97        60\n",
      "           2       1.00      0.97      0.99       276\n",
      "\n",
      "    accuracy                           0.98       453\n",
      "   macro avg       0.97      0.99      0.98       453\n",
      "weighted avg       0.98      0.98      0.98       453\n",
      "\n"
     ]
    },
    {
     "data": {
      "image/png": "[encoded data removed]",
      "text/plain": [
       "<Figure size 1000x1000 with 2 Axes>"
      ]
     },
     "metadata": {},
     "output_type": "display_data"
    }
   ],
   "source": [
    "\n",
    "import matplotlib.pyplot as plt\n",
    "import seaborn as sns\n",
    "from sklearn.metrics import confusion_matrix\n",
    "\n",
    "def report(df, cols=['label','prediction','logits']):\n",
    "    #print('Validation loss:{0:.2f}'.format(metrics['best_validation_loss']))\n",
    "    # cs = CrossEntropyLoss(weight=model.class_weights)\n",
    "    # print(\"Loss:{0:.2f}\".format(loss))\n",
    "    print(\"Accuracy:{0:.2f}\".format((df[cols[0]] == df[cols[1]]).sum() / df.shape[0]) )\n",
    "    print(\"\\nClassification Report:\")\n",
    "    report, y_true, y_pred = classification_report(df[cols[0]], df[cols[1]])\n",
    "    print(report)\n",
    "    plt.figure(figsize=(10, 10))\n",
    "    sns.heatmap(confusion_matrix(y_true, y_pred), annot=True, fmt='d')\n",
    "    plt.show()\n",
    "    \n",
    "results['prediction'] = results.predictions.apply(lambda x: np.argmax(x,axis=0))\n",
    "report(results,cols=['labels','prediction','predictions'])\n",
    "\n",
    "\n",
    "\n",
    "\n"
   ]
  },
  {
   "cell_type": "code",
   "execution_count": 22,
   "metadata": {},
   "outputs": [],
   "source": [
    "# results"
   ]
  },
  {
   "cell_type": "code",
   "execution_count": 23,
   "metadata": {},
   "outputs": [],
   "source": [
    "# confusion matrix with results\n",
    "\n",
    "\n",
    "\n"
   ]
  },
  {
   "cell_type": "code",
   "execution_count": 24,
   "metadata": {
    "ExecuteTime": {
     "end_time": "2020-03-23T15:59:16.246963Z",
     "start_time": "2020-03-23T15:59:13.285393Z"
    },
    "scrolled": true
   },
   "outputs": [],
   "source": [
    "# cl_path = project_dir/'models'/'classifier_model'/'finbert-sentiment'\n",
    "# model = AutoModelForSequenceClassification.from_pretrained(cl_path, cache_dir=None, num_labels=3)"
   ]
  },
  {
   "cell_type": "code",
   "execution_count": 25,
   "metadata": {},
   "outputs": [],
   "source": [
    "# import nltk\n",
    "# nltk.download('punkt')"
   ]
  },
  {
   "cell_type": "code",
   "execution_count": 26,
   "metadata": {
    "ExecuteTime": {
     "end_time": "2020-03-23T15:59:19.531663Z",
     "start_time": "2020-03-23T15:59:17.744984Z"
    },
    "scrolled": true
   },
   "outputs": [],
   "source": [
    "# result = predict(text,model)"
   ]
  },
  {
   "cell_type": "code",
   "execution_count": 27,
   "metadata": {
    "ExecuteTime": {
     "end_time": "2020-03-23T15:59:20.519047Z",
     "start_time": "2020-03-23T15:59:20.440450Z"
    }
   },
   "outputs": [],
   "source": [
    "# blob = TextBlob(text)\n",
    "# result['textblob_prediction'] = [sentence.sentiment.polarity for sentence in blob.sentences]\n",
    "# result"
   ]
  },
  {
   "cell_type": "code",
   "execution_count": 28,
   "metadata": {
    "ExecuteTime": {
     "end_time": "2020-03-23T15:59:38.737969Z",
     "start_time": "2020-03-23T15:59:38.718255Z"
    }
   },
   "outputs": [],
   "source": [
    "# print(f'Average sentiment is %.2f.' % (result.sentiment_score.mean()))"
   ]
  },
  {
   "cell_type": "markdown",
   "metadata": {},
   "source": [
    "Here is another example"
   ]
  },
  {
   "cell_type": "code",
   "execution_count": 29,
   "metadata": {
    "ExecuteTime": {
     "end_time": "2020-03-23T15:59:45.922058Z",
     "start_time": "2020-03-23T15:59:45.904622Z"
    }
   },
   "outputs": [],
   "source": [
    "# text2 = \"Shares in the spin-off of South African e-commerce group Naspers surged more than 25% \\\n",
    "# in the first minutes of their market debut in Amsterdam on Wednesday. Bob van Dijk, CEO of \\\n",
    "# Naspers and Prosus Group poses at Amsterdam's stock exchange, as Prosus begins trading on the \\\n",
    "# Euronext stock exchange in Amsterdam, Netherlands, September 11, 2019. REUTERS/Piroschka van de Wouw \\\n",
    "# Prosus comprises Naspers’ global empire of consumer internet assets, with the jewel in the crown a \\\n",
    "# 31% stake in Chinese tech titan Tencent. There is 'way more demand than is even available, so that’s \\\n",
    "# good,' said the CEO of Euronext Amsterdam, Maurice van Tilburg. 'It’s going to be an interesting \\\n",
    "# hour of trade after opening this morning.' Euronext had given an indicative price of 58.70 euros \\\n",
    "# per share for Prosus, implying a market value of 95.3 billion euros ($105 billion). The shares \\\n",
    "# jumped to 76 euros on opening and were trading at 75 euros at 0719 GMT.\""
   ]
  },
  {
   "cell_type": "code",
   "execution_count": 30,
   "metadata": {
    "ExecuteTime": {
     "end_time": "2020-03-23T15:59:48.152474Z",
     "start_time": "2020-03-23T15:59:47.028417Z"
    }
   },
   "outputs": [],
   "source": [
    "# result2 = predict(text2,model)\n",
    "# blob = TextBlob(text2)\n",
    "# result2['textblob_prediction'] = [sentence.sentiment.polarity for sentence in blob.sentences]"
   ]
  },
  {
   "cell_type": "code",
   "execution_count": 31,
   "metadata": {
    "ExecuteTime": {
     "end_time": "2020-03-23T15:59:50.428951Z",
     "start_time": "2020-03-23T15:59:50.402385Z"
    }
   },
   "outputs": [],
   "source": [
    "# result2"
   ]
  },
  {
   "cell_type": "code",
   "execution_count": 32,
   "metadata": {
    "ExecuteTime": {
     "end_time": "2020-03-23T16:00:27.031491Z",
     "start_time": "2020-03-23T16:00:27.012639Z"
    }
   },
   "outputs": [],
   "source": [
    "# print(f'Average sentiment is %.2f.' % (result2.sentiment_score.mean()))"
   ]
  },
  {
   "cell_type": "code",
   "execution_count": null,
   "metadata": {},
   "outputs": [],
   "source": []
  }
 ],
 "metadata": {
  "kernelspec": {
   "display_name": "venv",
   "language": "python",
   "name": "python3"
  },
  "language_info": {
   "codemirror_mode": {
    "name": "ipython",
    "version": 3
   },
   "file_extension": ".py",
   "mimetype": "text/x-python",
   "name": "python",
   "nbconvert_exporter": "python",
   "pygments_lexer": "ipython3",
   "version": "3.13.5"
  },
  "pycharm": {
   "stem_cell": {
    "cell_type": "raw",
    "metadata": {
     "collapsed": false
    },
    "source": []
   }
  },
  "toc": {
   "base_numbering": 1,
   "nav_menu": {},
   "number_sections": true,
   "sideBar": true,
   "skip_h1_title": true,
   "title_cell": "Table of Contents",
   "title_sidebar": "Contents",
   "toc_cell": false,
   "toc_position": {},
   "toc_section_display": true,
   "toc_window_display": true
  }
 },
 "nbformat": 4,
 "nbformat_minor": 2
}
