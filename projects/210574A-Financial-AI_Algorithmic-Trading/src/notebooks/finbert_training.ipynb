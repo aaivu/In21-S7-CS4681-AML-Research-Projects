{
 "cells": [
  {
   "cell_type": "markdown",
   "metadata": {},
   "source": [
    "# FinBERT Example Notebook\n",
    "\n",
    "This notebooks shows how to train and use the FinBERT pre-trained language model for financial sentiment analysis."
   ]
  },
  {
   "cell_type": "markdown",
   "metadata": {},
   "source": [
    "## Modules "
   ]
  },
  {
   "cell_type": "code",
   "execution_count": 1,
   "metadata": {
    "ExecuteTime": {
     "end_time": "2020-03-23T15:55:04.902740Z",
     "start_time": "2020-03-23T15:55:04.876252Z"
    }
   },
   "outputs": [
    {
     "name": "stderr",
     "output_type": "stream",
     "text": [
      "/Users/pasindusankalpa/Documents/finBERT/venv/lib/python3.12/site-packages/tqdm/auto.py:21: TqdmWarning: IProgress not found. Please update jupyter and ipywidgets. See https://ipywidgets.readthedocs.io/en/stable/user_install.html\n",
      "  from .autonotebook import tqdm as notebook_tqdm\n"
     ]
    }
   ],
   "source": [
    "from pathlib import Path\n",
    "import shutil\n",
    "import os\n",
    "import logging\n",
    "import sys\n",
    "import pandas as pd\n",
    "sys.path.append('..')\n",
    "\n",
    "from textblob import TextBlob\n",
    "from pprint import pprint\n",
    "from sklearn.metrics import classification_report\n",
    "\n",
    "from transformers import AutoModelForSequenceClassification\n",
    "\n",
    "from finbert.finbert import *\n",
    "import finbert.utils as tools\n",
    "\n",
    "%load_ext autoreload\n",
    "%autoreload 2\n",
    "\n",
    "project_dir = Path.cwd().parent\n",
    "pd.set_option('max_colwidth', 1)"
   ]
  },
  {
   "cell_type": "code",
   "execution_count": 2,
   "metadata": {
    "ExecuteTime": {
     "end_time": "2020-03-23T15:55:05.711210Z",
     "start_time": "2020-03-23T15:55:05.693609Z"
    }
   },
   "outputs": [],
   "source": [
    "logging.basicConfig(format = '%(asctime)s - %(levelname)s - %(name)s -   %(message)s',\n",
    "                    datefmt = '%m/%d/%Y %H:%M:%S',\n",
    "                    level = logging.ERROR)"
   ]
  },
  {
   "cell_type": "markdown",
   "metadata": {},
   "source": [
    "## Prepare the model"
   ]
  },
  {
   "cell_type": "markdown",
   "metadata": {},
   "source": [
    "### Setting path variables:\n",
    "1. `lm_path`: the path for the pre-trained language model (If vanilla Bert is used then no need to set this one).\n",
    "2. `cl_path`: the path where the classification model is saved.\n",
    "3. `cl_data_path`: the path of the directory that contains the data files of `train.csv`, `validation.csv`, `test.csv`.\n",
    "---\n",
    "\n",
    "In the initialization of `bertmodel`, we can either use the original pre-trained weights from Google by giving `bm = 'bert-base-uncased`, or our further pre-trained language model by `bm = lm_path`\n",
    "\n",
    "\n",
    "---\n",
    "All of the configurations with the model is controlled with the `config` variable. "
   ]
  },
  {
   "cell_type": "markdown",
   "metadata": {},
   "source": [
    "# Finetune With All agree dataset "
   ]
  },
  {
   "cell_type": "code",
   "execution_count": 18,
   "metadata": {
    "ExecuteTime": {
     "end_time": "2020-03-23T15:55:07.405597Z",
     "start_time": "2020-03-23T15:55:07.386378Z"
    }
   },
   "outputs": [],
   "source": [
    "cl_data_path = project_dir/'data'/'sentiment_data'/'All_ageed'\n",
    "cl_path = project_dir/'models'/'classifier_model'/'finbert-sentiment'/'all_agree_data_augmented_fintuned'"
   ]
  },
  {
   "cell_type": "code",
   "execution_count": 6,
   "metadata": {},
   "outputs": [
    {
     "name": "stdout",
     "output_type": "stream",
     "text": [
      "(2256, 2)\n",
      "(1629, 2)\n"
     ]
    }
   ],
   "source": [
    "# combine train data set\n",
    "from numpy import negative\n",
    "\n",
    "\n",
    "train_df_before =  pd.read_csv(\n",
    "    cl_data_path/'train.csv' , sep=\"\\t\",\n",
    "                index_col=False, \n",
    ")\n",
    "train_df_before.head()\n",
    "\n",
    "count_df = train_df_before['label'].value_counts().to_dict()\n",
    "count_df\n",
    "\n",
    "negative_augmented = pd.read_csv(\n",
    "    cl_data_path/'augmented_negative_df.csv',\n",
    "    \n",
    ")\n",
    "\n",
    "\n",
    "positive_augmented = pd.read_csv(\n",
    "    cl_data_path/'augmented_positive_df.csv',\n",
    "   \n",
    ")\n",
    "\n",
    "train_df_after = pd.concat([train_df_before, negative_augmented, positive_augmented])\n",
    "\n",
    "\n",
    "#save the combined data\n",
    "train_df_after.to_csv(cl_data_path/'train.csv', index=False, sep=\"\\t\", encoding=\"utf-8\")\n",
    "\n",
    "print(train_df_after.shape)\n",
    "print(train_df_before.shape)"
   ]
  },
  {
   "cell_type": "markdown",
   "metadata": {},
   "source": [
    "###  Configuring training parameters"
   ]
  },
  {
   "cell_type": "markdown",
   "metadata": {},
   "source": [
    "You can find the explanations of the training parameters in the class docsctrings. "
   ]
  },
  {
   "cell_type": "code",
   "execution_count": 7,
   "metadata": {
    "ExecuteTime": {
     "end_time": "2020-03-23T15:55:12.378583Z",
     "start_time": "2020-03-23T15:55:09.196746Z"
    }
   },
   "outputs": [],
   "source": [
    "# Clean the cl_path\n",
    "try:\n",
    "    shutil.rmtree(cl_path) \n",
    "except:\n",
    "    pass\n",
    "\n",
    "bertmodel = AutoModelForSequenceClassification.from_pretrained(\"ProsusAI/finbert\",cache_dir=None, num_labels=3)\n",
    "\n",
    "\n",
    "config = Config(   data_dir=cl_data_path,\n",
    "                   bert_model=bertmodel,\n",
    "                   num_train_epochs=6,\n",
    "                   model_dir=cl_path,\n",
    "                   max_seq_length = 64,\n",
    "                   train_batch_size = 64,\n",
    "                   learning_rate = 2e-5,\n",
    "                   output_mode='classification',\n",
    "                   warm_up_proportion=0.2,\n",
    "                   local_rank=-1,\n",
    "                   discriminate=True,\n",
    "                   gradual_unfreeze=True)"
   ]
  },
  {
   "cell_type": "markdown",
   "metadata": {},
   "source": [
    "`finbert` is our main class that encapsulates all the functionality. The list of class labels should be given in the prepare_model method call with label_list parameter."
   ]
  },
  {
   "cell_type": "code",
   "execution_count": 8,
   "metadata": {
    "ExecuteTime": {
     "end_time": "2020-03-23T15:55:16.657078Z",
     "start_time": "2020-03-23T15:55:16.639644Z"
    }
   },
   "outputs": [],
   "source": [
    "finbert = FinBert(config)\n",
    "finbert.base_model = 'bert-base-uncased'\n",
    "finbert.config.discriminate=True\n",
    "finbert.config.gradual_unfreeze=True"
   ]
  },
  {
   "cell_type": "code",
   "execution_count": 9,
   "metadata": {
    "ExecuteTime": {
     "end_time": "2020-03-23T15:55:17.850734Z",
     "start_time": "2020-03-23T15:55:17.368073Z"
    }
   },
   "outputs": [
    {
     "name": "stderr",
     "output_type": "stream",
     "text": [
      "10/04/2025 16:56:06 - INFO - finbert.finbert -   device: cpu n_gpu: 0, distributed training: False, 16-bits training: False\n"
     ]
    }
   ],
   "source": [
    "finbert.prepare_model(label_list=['positive','negative','neutral'])"
   ]
  },
  {
   "cell_type": "markdown",
   "metadata": {},
   "source": [
    "## Fine-tune the model"
   ]
  },
  {
   "cell_type": "code",
   "execution_count": 10,
   "metadata": {
    "ExecuteTime": {
     "end_time": "2020-03-23T15:55:19.395707Z",
     "start_time": "2020-03-23T15:55:19.349642Z"
    },
    "scrolled": true
   },
   "outputs": [],
   "source": [
    "# Get the training examples\n",
    "train_data = finbert.get_data('train')"
   ]
  },
  {
   "cell_type": "code",
   "execution_count": 11,
   "metadata": {
    "ExecuteTime": {
     "end_time": "2020-03-23T15:55:25.912424Z",
     "start_time": "2020-03-23T15:55:20.065887Z"
    }
   },
   "outputs": [],
   "source": [
    "model = finbert.create_the_model()"
   ]
  },
  {
   "cell_type": "markdown",
   "metadata": {},
   "source": [
    "### [Optional] Fine-tune only a subset of the model\n",
    "The variable `freeze` determines the last layer (out of 12) to be freezed. You can skip this part if you want to fine-tune the whole model.\n",
    "\n",
    "<span style=\"color:red\">Important: </span>\n",
    "Execute this step if you want a shorter training time in the expense of accuracy."
   ]
  },
  {
   "cell_type": "code",
   "execution_count": 12,
   "metadata": {},
   "outputs": [],
   "source": [
    "# This is for fine-tuning a subset of the model.\n",
    "\n",
    "freeze = 6\n",
    "\n",
    "for param in model.bert.embeddings.parameters():\n",
    "    param.requires_grad = False\n",
    "    \n",
    "for i in range(freeze):\n",
    "    for param in model.bert.encoder.layer[i].parameters():\n",
    "        param.requires_grad = False"
   ]
  },
  {
   "cell_type": "markdown",
   "metadata": {},
   "source": [
    "### Training"
   ]
  },
  {
   "cell_type": "code",
   "execution_count": 13,
   "metadata": {
    "ExecuteTime": {
     "end_time": "2020-03-23T15:58:35.486890Z",
     "start_time": "2020-03-23T15:55:27.293772Z"
    },
    "scrolled": true
   },
   "outputs": [
    {
     "name": "stderr",
     "output_type": "stream",
     "text": [
      "10/04/2025 16:56:16 - INFO - finbert.utils -   *** Example ***\n",
      "10/04/2025 16:56:16 - INFO - finbert.utils -   guid: train-1\n",
      "10/04/2025 16:56:16 - INFO - finbert.utils -   tokens: [CLS] 2009 3 february 2010 - finland - based steel maker ra ##uta ##ru ##uk ##ki rt ##rks ) , or ru ##uk ##ki , said today it slipped to a larger - than - expected pre ##ta ##x loss of eu ##r ##46 ##m in the fourth quarter of 2009 from a year - earlier profit of eu ##r ##45 ##m . [SEP]\n",
      "10/04/2025 16:56:16 - INFO - finbert.utils -   input_ids: 101 2268 1017 2337 2230 1011 6435 1011 2241 3886 9338 10958 13210 6820 6968 3211 19387 19987 1007 1010 2030 21766 6968 3211 1010 2056 2651 2009 5707 2000 1037 3469 1011 2084 1011 3517 3653 2696 2595 3279 1997 7327 2099 21472 2213 1999 1996 2959 4284 1997 2268 2013 1037 2095 1011 3041 5618 1997 7327 2099 19961 2213 1012 102\n",
      "10/04/2025 16:56:16 - INFO - finbert.utils -   attention_mask: 1 1 1 1 1 1 1 1 1 1 1 1 1 1 1 1 1 1 1 1 1 1 1 1 1 1 1 1 1 1 1 1 1 1 1 1 1 1 1 1 1 1 1 1 1 1 1 1 1 1 1 1 1 1 1 1 1 1 1 1 1 1 1 1\n",
      "10/04/2025 16:56:16 - INFO - finbert.utils -   token_type_ids: 0 0 0 0 0 0 0 0 0 0 0 0 0 0 0 0 0 0 0 0 0 0 0 0 0 0 0 0 0 0 0 0 0 0 0 0 0 0 0 0 0 0 0 0 0 0 0 0 0 0 0 0 0 0 0 0 0 0 0 0 0 0 0 0\n",
      "10/04/2025 16:56:16 - INFO - finbert.utils -   label: negative (id = 1)\n",
      "10/04/2025 16:56:16 - INFO - finbert.finbert -   ***** Loading data *****\n",
      "10/04/2025 16:56:16 - INFO - finbert.finbert -     Num examples = 2256\n",
      "10/04/2025 16:56:16 - INFO - finbert.finbert -     Batch size = 64\n",
      "10/04/2025 16:56:16 - INFO - finbert.finbert -     Num steps = 12\n",
      "huggingface/tokenizers: The current process just got forked, after parallelism has already been used. Disabling parallelism to avoid deadlocks...\n",
      "To disable this warning, you can either:\n",
      "\t- Avoid using `tokenizers` before the fork if possible\n",
      "\t- Explicitly set the environment variable TOKENIZERS_PARALLELISM=(true | false)\n",
      "Iteration: 100%|██████████| 36/36 [00:48<00:00,  1.35s/it]\n",
      "10/04/2025 16:57:05 - INFO - finbert.utils -   *** Example ***\n",
      "10/04/2025 16:57:05 - INFO - finbert.utils -   guid: validation-1\n",
      "10/04/2025 16:57:05 - INFO - finbert.utils -   tokens: [CLS] for the new shares sub ##scribe ##d with stock options all shareholder rights commence from the date on which they are entered into the trade register . [SEP]\n",
      "10/04/2025 16:57:05 - INFO - finbert.utils -   input_ids: 101 2005 1996 2047 6661 4942 29234 2094 2007 4518 7047 2035 18668 2916 22825 2013 1996 3058 2006 2029 2027 2024 3133 2046 1996 3119 4236 1012 102 0 0 0 0 0 0 0 0 0 0 0 0 0 0 0 0 0 0 0 0 0 0 0 0 0 0 0 0 0 0 0 0 0 0 0\n",
      "10/04/2025 16:57:05 - INFO - finbert.utils -   attention_mask: 1 1 1 1 1 1 1 1 1 1 1 1 1 1 1 1 1 1 1 1 1 1 1 1 1 1 1 1 1 0 0 0 0 0 0 0 0 0 0 0 0 0 0 0 0 0 0 0 0 0 0 0 0 0 0 0 0 0 0 0 0 0 0 0\n",
      "10/04/2025 16:57:05 - INFO - finbert.utils -   token_type_ids: 0 0 0 0 0 0 0 0 0 0 0 0 0 0 0 0 0 0 0 0 0 0 0 0 0 0 0 0 0 0 0 0 0 0 0 0 0 0 0 0 0 0 0 0 0 0 0 0 0 0 0 0 0 0 0 0 0 0 0 0 0 0 0 0\n",
      "10/04/2025 16:57:05 - INFO - finbert.utils -   label: neutral (id = 2)\n",
      "10/04/2025 16:57:05 - INFO - finbert.finbert -   ***** Loading data *****\n",
      "10/04/2025 16:57:05 - INFO - finbert.finbert -     Num examples = 182\n",
      "10/04/2025 16:57:05 - INFO - finbert.finbert -     Batch size = 64\n",
      "10/04/2025 16:57:05 - INFO - finbert.finbert -     Num steps = 12\n",
      "Validating: 100%|██████████| 3/3 [00:02<00:00,  1.29it/s]\n"
     ]
    },
    {
     "name": "stdout",
     "output_type": "stream",
     "text": [
      "Validation losses: [0.12302194784084956]\n",
      "No best model found\n"
     ]
    },
    {
     "name": "stderr",
     "output_type": "stream",
     "text": [
      "Iteration: 100%|██████████| 36/36 [01:04<00:00,  1.80s/it]\n",
      "10/04/2025 16:58:12 - INFO - finbert.utils -   *** Example ***\n",
      "10/04/2025 16:58:12 - INFO - finbert.utils -   guid: validation-1\n",
      "10/04/2025 16:58:12 - INFO - finbert.utils -   tokens: [CLS] for the new shares sub ##scribe ##d with stock options all shareholder rights commence from the date on which they are entered into the trade register . [SEP]\n",
      "10/04/2025 16:58:12 - INFO - finbert.utils -   input_ids: 101 2005 1996 2047 6661 4942 29234 2094 2007 4518 7047 2035 18668 2916 22825 2013 1996 3058 2006 2029 2027 2024 3133 2046 1996 3119 4236 1012 102 0 0 0 0 0 0 0 0 0 0 0 0 0 0 0 0 0 0 0 0 0 0 0 0 0 0 0 0 0 0 0 0 0 0 0\n",
      "10/04/2025 16:58:12 - INFO - finbert.utils -   attention_mask: 1 1 1 1 1 1 1 1 1 1 1 1 1 1 1 1 1 1 1 1 1 1 1 1 1 1 1 1 1 0 0 0 0 0 0 0 0 0 0 0 0 0 0 0 0 0 0 0 0 0 0 0 0 0 0 0 0 0 0 0 0 0 0 0\n",
      "10/04/2025 16:58:12 - INFO - finbert.utils -   token_type_ids: 0 0 0 0 0 0 0 0 0 0 0 0 0 0 0 0 0 0 0 0 0 0 0 0 0 0 0 0 0 0 0 0 0 0 0 0 0 0 0 0 0 0 0 0 0 0 0 0 0 0 0 0 0 0 0 0 0 0 0 0 0 0 0 0\n",
      "10/04/2025 16:58:12 - INFO - finbert.utils -   label: neutral (id = 2)\n",
      "10/04/2025 16:58:12 - INFO - finbert.finbert -   ***** Loading data *****\n",
      "10/04/2025 16:58:12 - INFO - finbert.finbert -     Num examples = 182\n",
      "10/04/2025 16:58:12 - INFO - finbert.finbert -     Batch size = 64\n",
      "10/04/2025 16:58:12 - INFO - finbert.finbert -     Num steps = 12\n",
      "Validating: 100%|██████████| 3/3 [00:02<00:00,  1.30it/s]\n"
     ]
    },
    {
     "name": "stdout",
     "output_type": "stream",
     "text": [
      "Validation losses: [0.12302194784084956, 0.10393384844064713]\n"
     ]
    },
    {
     "name": "stderr",
     "output_type": "stream",
     "text": [
      "Iteration: 100%|██████████| 36/36 [01:23<00:00,  2.32s/it]\n",
      "10/04/2025 16:59:39 - INFO - finbert.utils -   *** Example ***\n",
      "10/04/2025 16:59:39 - INFO - finbert.utils -   guid: validation-1\n",
      "10/04/2025 16:59:39 - INFO - finbert.utils -   tokens: [CLS] for the new shares sub ##scribe ##d with stock options all shareholder rights commence from the date on which they are entered into the trade register . [SEP]\n",
      "10/04/2025 16:59:39 - INFO - finbert.utils -   input_ids: 101 2005 1996 2047 6661 4942 29234 2094 2007 4518 7047 2035 18668 2916 22825 2013 1996 3058 2006 2029 2027 2024 3133 2046 1996 3119 4236 1012 102 0 0 0 0 0 0 0 0 0 0 0 0 0 0 0 0 0 0 0 0 0 0 0 0 0 0 0 0 0 0 0 0 0 0 0\n",
      "10/04/2025 16:59:39 - INFO - finbert.utils -   attention_mask: 1 1 1 1 1 1 1 1 1 1 1 1 1 1 1 1 1 1 1 1 1 1 1 1 1 1 1 1 1 0 0 0 0 0 0 0 0 0 0 0 0 0 0 0 0 0 0 0 0 0 0 0 0 0 0 0 0 0 0 0 0 0 0 0\n",
      "10/04/2025 16:59:39 - INFO - finbert.utils -   token_type_ids: 0 0 0 0 0 0 0 0 0 0 0 0 0 0 0 0 0 0 0 0 0 0 0 0 0 0 0 0 0 0 0 0 0 0 0 0 0 0 0 0 0 0 0 0 0 0 0 0 0 0 0 0 0 0 0 0 0 0 0 0 0 0 0 0\n",
      "10/04/2025 16:59:39 - INFO - finbert.utils -   label: neutral (id = 2)\n",
      "10/04/2025 16:59:39 - INFO - finbert.finbert -   ***** Loading data *****\n",
      "10/04/2025 16:59:39 - INFO - finbert.finbert -     Num examples = 182\n",
      "10/04/2025 16:59:39 - INFO - finbert.finbert -     Batch size = 64\n",
      "10/04/2025 16:59:39 - INFO - finbert.finbert -     Num steps = 12\n",
      "Validating: 100%|██████████| 3/3 [00:02<00:00,  1.32it/s]\n"
     ]
    },
    {
     "name": "stdout",
     "output_type": "stream",
     "text": [
      "Validation losses: [0.12302194784084956, 0.10393384844064713, 0.09169804056485494]\n"
     ]
    },
    {
     "name": "stderr",
     "output_type": "stream",
     "text": [
      "Iteration: 100%|██████████| 36/36 [01:42<00:00,  2.86s/it]\n",
      "10/04/2025 17:01:24 - INFO - finbert.utils -   *** Example ***\n",
      "10/04/2025 17:01:24 - INFO - finbert.utils -   guid: validation-1\n",
      "10/04/2025 17:01:24 - INFO - finbert.utils -   tokens: [CLS] for the new shares sub ##scribe ##d with stock options all shareholder rights commence from the date on which they are entered into the trade register . [SEP]\n",
      "10/04/2025 17:01:24 - INFO - finbert.utils -   input_ids: 101 2005 1996 2047 6661 4942 29234 2094 2007 4518 7047 2035 18668 2916 22825 2013 1996 3058 2006 2029 2027 2024 3133 2046 1996 3119 4236 1012 102 0 0 0 0 0 0 0 0 0 0 0 0 0 0 0 0 0 0 0 0 0 0 0 0 0 0 0 0 0 0 0 0 0 0 0\n",
      "10/04/2025 17:01:24 - INFO - finbert.utils -   attention_mask: 1 1 1 1 1 1 1 1 1 1 1 1 1 1 1 1 1 1 1 1 1 1 1 1 1 1 1 1 1 0 0 0 0 0 0 0 0 0 0 0 0 0 0 0 0 0 0 0 0 0 0 0 0 0 0 0 0 0 0 0 0 0 0 0\n",
      "10/04/2025 17:01:24 - INFO - finbert.utils -   token_type_ids: 0 0 0 0 0 0 0 0 0 0 0 0 0 0 0 0 0 0 0 0 0 0 0 0 0 0 0 0 0 0 0 0 0 0 0 0 0 0 0 0 0 0 0 0 0 0 0 0 0 0 0 0 0 0 0 0 0 0 0 0 0 0 0 0\n",
      "10/04/2025 17:01:24 - INFO - finbert.utils -   label: neutral (id = 2)\n",
      "10/04/2025 17:01:24 - INFO - finbert.finbert -   ***** Loading data *****\n",
      "10/04/2025 17:01:24 - INFO - finbert.finbert -     Num examples = 182\n",
      "10/04/2025 17:01:24 - INFO - finbert.finbert -     Batch size = 64\n",
      "10/04/2025 17:01:24 - INFO - finbert.finbert -     Num steps = 12\n",
      "Validating: 100%|██████████| 3/3 [00:03<00:00,  1.00s/it]\n",
      "Epoch:  67%|██████▋   | 4/6 [05:11<02:51, 85.66s/it]"
     ]
    },
    {
     "name": "stdout",
     "output_type": "stream",
     "text": [
      "Validation losses: [0.12302194784084956, 0.10393384844064713, 0.09169804056485494, 0.09431273241837819]\n"
     ]
    },
    {
     "name": "stderr",
     "output_type": "stream",
     "text": [
      "Iteration: 100%|██████████| 36/36 [01:55<00:00,  3.20s/it]\n",
      "10/04/2025 17:03:22 - INFO - finbert.utils -   *** Example ***\n",
      "10/04/2025 17:03:22 - INFO - finbert.utils -   guid: validation-1\n",
      "10/04/2025 17:03:22 - INFO - finbert.utils -   tokens: [CLS] for the new shares sub ##scribe ##d with stock options all shareholder rights commence from the date on which they are entered into the trade register . [SEP]\n",
      "10/04/2025 17:03:22 - INFO - finbert.utils -   input_ids: 101 2005 1996 2047 6661 4942 29234 2094 2007 4518 7047 2035 18668 2916 22825 2013 1996 3058 2006 2029 2027 2024 3133 2046 1996 3119 4236 1012 102 0 0 0 0 0 0 0 0 0 0 0 0 0 0 0 0 0 0 0 0 0 0 0 0 0 0 0 0 0 0 0 0 0 0 0\n",
      "10/04/2025 17:03:22 - INFO - finbert.utils -   attention_mask: 1 1 1 1 1 1 1 1 1 1 1 1 1 1 1 1 1 1 1 1 1 1 1 1 1 1 1 1 1 0 0 0 0 0 0 0 0 0 0 0 0 0 0 0 0 0 0 0 0 0 0 0 0 0 0 0 0 0 0 0 0 0 0 0\n",
      "10/04/2025 17:03:22 - INFO - finbert.utils -   token_type_ids: 0 0 0 0 0 0 0 0 0 0 0 0 0 0 0 0 0 0 0 0 0 0 0 0 0 0 0 0 0 0 0 0 0 0 0 0 0 0 0 0 0 0 0 0 0 0 0 0 0 0 0 0 0 0 0 0 0 0 0 0 0 0 0 0\n",
      "10/04/2025 17:03:22 - INFO - finbert.utils -   label: neutral (id = 2)\n",
      "10/04/2025 17:03:22 - INFO - finbert.finbert -   ***** Loading data *****\n",
      "10/04/2025 17:03:22 - INFO - finbert.finbert -     Num examples = 182\n",
      "10/04/2025 17:03:22 - INFO - finbert.finbert -     Batch size = 64\n",
      "10/04/2025 17:03:22 - INFO - finbert.finbert -     Num steps = 12\n",
      "Validating: 100%|██████████| 3/3 [00:02<00:00,  1.16it/s]\n"
     ]
    },
    {
     "name": "stdout",
     "output_type": "stream",
     "text": [
      "Validation losses: [0.12302194784084956, 0.10393384844064713, 0.09169804056485494, 0.09431273241837819, 0.0886783121774594]\n"
     ]
    },
    {
     "name": "stderr",
     "output_type": "stream",
     "text": [
      "Iteration: 100%|██████████| 36/36 [01:56<00:00,  3.25s/it]\n",
      "10/04/2025 17:05:23 - INFO - finbert.utils -   *** Example ***\n",
      "10/04/2025 17:05:23 - INFO - finbert.utils -   guid: validation-1\n",
      "10/04/2025 17:05:23 - INFO - finbert.utils -   tokens: [CLS] for the new shares sub ##scribe ##d with stock options all shareholder rights commence from the date on which they are entered into the trade register . [SEP]\n",
      "10/04/2025 17:05:23 - INFO - finbert.utils -   input_ids: 101 2005 1996 2047 6661 4942 29234 2094 2007 4518 7047 2035 18668 2916 22825 2013 1996 3058 2006 2029 2027 2024 3133 2046 1996 3119 4236 1012 102 0 0 0 0 0 0 0 0 0 0 0 0 0 0 0 0 0 0 0 0 0 0 0 0 0 0 0 0 0 0 0 0 0 0 0\n",
      "10/04/2025 17:05:23 - INFO - finbert.utils -   attention_mask: 1 1 1 1 1 1 1 1 1 1 1 1 1 1 1 1 1 1 1 1 1 1 1 1 1 1 1 1 1 0 0 0 0 0 0 0 0 0 0 0 0 0 0 0 0 0 0 0 0 0 0 0 0 0 0 0 0 0 0 0 0 0 0 0\n",
      "10/04/2025 17:05:23 - INFO - finbert.utils -   token_type_ids: 0 0 0 0 0 0 0 0 0 0 0 0 0 0 0 0 0 0 0 0 0 0 0 0 0 0 0 0 0 0 0 0 0 0 0 0 0 0 0 0 0 0 0 0 0 0 0 0 0 0 0 0 0 0 0 0 0 0 0 0 0 0 0 0\n",
      "10/04/2025 17:05:23 - INFO - finbert.utils -   label: neutral (id = 2)\n",
      "10/04/2025 17:05:23 - INFO - finbert.finbert -   ***** Loading data *****\n",
      "10/04/2025 17:05:23 - INFO - finbert.finbert -     Num examples = 182\n",
      "10/04/2025 17:05:23 - INFO - finbert.finbert -     Batch size = 64\n",
      "10/04/2025 17:05:23 - INFO - finbert.finbert -     Num steps = 12\n",
      "Validating: 100%|██████████| 3/3 [00:02<00:00,  1.16it/s]\n",
      "Epoch: 100%|██████████| 6/6 [09:09<00:00, 91.51s/it] \n"
     ]
    },
    {
     "name": "stdout",
     "output_type": "stream",
     "text": [
      "Validation losses: [0.12302194784084956, 0.10393384844064713, 0.09169804056485494, 0.09431273241837819, 0.0886783121774594, 0.09065546592076619]\n"
     ]
    }
   ],
   "source": [
    "trained_model = finbert.train(train_examples = train_data, model = model)"
   ]
  },
  {
   "cell_type": "markdown",
   "metadata": {},
   "source": [
    "## Test the model\n",
    "\n",
    "`bert.evaluate` outputs the DataFrame, where true labels and logit values for each example is given"
   ]
  },
  {
   "cell_type": "markdown",
   "metadata": {},
   "source": [
    "### with all agree test data set"
   ]
  },
  {
   "cell_type": "markdown",
   "metadata": {},
   "source": [
    "#### trained model"
   ]
  },
  {
   "cell_type": "code",
   "execution_count": 14,
   "metadata": {
    "ExecuteTime": {
     "end_time": "2020-03-23T15:58:40.056789Z",
     "start_time": "2020-03-23T15:58:40.023198Z"
    }
   },
   "outputs": [],
   "source": [
    "test_data = finbert.get_data('test')"
   ]
  },
  {
   "cell_type": "code",
   "execution_count": 15,
   "metadata": {
    "ExecuteTime": {
     "end_time": "2020-03-23T15:58:48.248044Z",
     "start_time": "2020-03-23T15:58:41.699009Z"
    },
    "scrolled": true
   },
   "outputs": [
    {
     "name": "stderr",
     "output_type": "stream",
     "text": [
      "10/04/2025 17:22:42 - INFO - finbert.utils -   *** Example ***\n",
      "10/04/2025 17:22:42 - INFO - finbert.utils -   guid: test-1\n",
      "10/04/2025 17:22:42 - INFO - finbert.utils -   tokens: [CLS] card ##ona slowed her vehicle , turned around and returned to the intersection , where she called 911 . [SEP]\n",
      "10/04/2025 17:22:42 - INFO - finbert.utils -   input_ids: 101 4003 7856 9784 2014 4316 1010 2357 2105 1998 2513 2000 1996 6840 1010 2073 2016 2170 19989 1012 102 0 0 0 0 0 0 0 0 0 0 0 0 0 0 0 0 0 0 0 0 0 0 0 0 0 0 0 0 0 0 0 0 0 0 0 0 0 0 0 0 0 0 0\n",
      "10/04/2025 17:22:42 - INFO - finbert.utils -   attention_mask: 1 1 1 1 1 1 1 1 1 1 1 1 1 1 1 1 1 1 1 1 1 0 0 0 0 0 0 0 0 0 0 0 0 0 0 0 0 0 0 0 0 0 0 0 0 0 0 0 0 0 0 0 0 0 0 0 0 0 0 0 0 0 0 0\n",
      "10/04/2025 17:22:42 - INFO - finbert.utils -   token_type_ids: 0 0 0 0 0 0 0 0 0 0 0 0 0 0 0 0 0 0 0 0 0 0 0 0 0 0 0 0 0 0 0 0 0 0 0 0 0 0 0 0 0 0 0 0 0 0 0 0 0 0 0 0 0 0 0 0 0 0 0 0 0 0 0 0\n",
      "10/04/2025 17:22:42 - INFO - finbert.utils -   label: neutral (id = 2)\n",
      "10/04/2025 17:22:42 - INFO - finbert.finbert -   ***** Loading data *****\n",
      "10/04/2025 17:22:42 - INFO - finbert.finbert -     Num examples = 453\n",
      "10/04/2025 17:22:42 - INFO - finbert.finbert -     Batch size = 64\n",
      "10/04/2025 17:22:42 - INFO - finbert.finbert -     Num steps = 42\n",
      "10/04/2025 17:22:42 - INFO - finbert.finbert -   ***** Running evaluation ***** \n",
      "10/04/2025 17:22:42 - INFO - finbert.finbert -     Num examples = 453\n",
      "10/04/2025 17:22:42 - INFO - finbert.finbert -     Batch size = 32\n",
      "Testing: 100%|██████████| 8/8 [00:05<00:00,  1.37it/s]\n"
     ]
    }
   ],
   "source": [
    "results = finbert.evaluate(examples=test_data, model=trained_model)"
   ]
  },
  {
   "cell_type": "markdown",
   "metadata": {},
   "source": [
    "### Prepare the classification report"
   ]
  },
  {
   "cell_type": "code",
   "execution_count": null,
   "metadata": {
    "ExecuteTime": {
     "end_time": "2020-03-23T15:58:51.361079Z",
     "start_time": "2020-03-23T15:58:51.339548Z"
    }
   },
   "outputs": [],
   "source": [
    "import matplotlib.pyplot as plt\n",
    "import seaborn as sns\n",
    "from sklearn.metrics import confusion_matrix\n",
    "\n",
    "def report(df, cols=['label','prediction','logits']):\n",
    "    #print('Validation loss:{0:.2f}'.format(metrics['best_validation_loss']))\n",
    "    cs = CrossEntropyLoss(weight=finbert.class_weights)\n",
    "    loss = cs(torch.tensor(list(df[cols[2]])),torch.tensor(list(df[cols[0]])))\n",
    "    print(\"Loss:{0:.2f}\".format(loss))\n",
    "    print(\"Accuracy:{0:.2f}\".format((df[cols[0]] == df[cols[1]]).sum() / df.shape[0]) )\n",
    "    print(\"\\nClassification Report:\")\n",
    "    report, y_true, y_pred = classification_report(df[cols[0]], df[cols[1]])\n",
    "    print(report)\n",
    "    plt.figure(figsize=(10, 10))\n",
    "    sns.heatmap(confusion_matrix(y_true, y_pred), annot=True, fmt='d')\n",
    "    plt.show()\n"
   ]
  },
  {
   "cell_type": "code",
   "execution_count": 17,
   "metadata": {
    "ExecuteTime": {
     "end_time": "2020-03-23T15:58:53.190447Z",
     "start_time": "2020-03-23T15:58:53.166729Z"
    }
   },
   "outputs": [],
   "source": [
    "results['prediction'] = results.predictions.apply(lambda x: np.argmax(x,axis=0))"
   ]
  },
  {
   "cell_type": "code",
   "execution_count": 16,
   "metadata": {
    "ExecuteTime": {
     "end_time": "2020-03-23T15:58:54.436270Z",
     "start_time": "2020-03-23T15:58:54.399174Z"
    },
    "scrolled": true
   },
   "outputs": [
    {
     "name": "stderr",
     "output_type": "stream",
     "text": [
      "/var/folders/bt/47lhlkx11kd7rvpdmc4zmjh00000gn/T/ipykernel_33956/2059374156.py:8: UserWarning: Creating a tensor from a list of numpy.ndarrays is extremely slow. Please consider converting the list to a single numpy.ndarray with numpy.array() before converting to a tensor. (Triggered internally at /Users/runner/work/pytorch/pytorch/pytorch/torch/csrc/utils/tensor_new.cpp:256.)\n",
      "  loss = cs(torch.tensor(list(df[cols[2]])),torch.tensor(list(df[cols[0]])))\n"
     ]
    },
    {
     "name": "stdout",
     "output_type": "stream",
     "text": [
      "Loss:0.05\n",
      "Accuracy:0.99\n",
      "\n",
      "Classification Report:\n",
      "              precision    recall  f1-score   support\n",
      "\n",
      "           0       0.97      0.99      0.98       117\n",
      "           1       0.98      0.95      0.97        60\n",
      "           2       1.00      0.99      0.99       276\n",
      "\n",
      "    accuracy                           0.99       453\n",
      "   macro avg       0.98      0.98      0.98       453\n",
      "weighted avg       0.99      0.99      0.99       453\n",
      "\n"
     ]
    },
    {
     "data": {
      "image/png": "[encoded data removed]",
      "text/plain": [
       "<Figure size 1000x1000 with 2 Axes>"
      ]
     },
     "metadata": {},
     "output_type": "display_data"
    }
   ],
   "source": [
    "report(results,cols=['labels','prediction','predictions'])\n",
    "\n"
   ]
  },
  {
   "cell_type": "markdown",
   "metadata": {},
   "source": [
    "##### Without finetuning FinBert (Existing FinBert)"
   ]
  },
  {
   "cell_type": "code",
   "execution_count": 39,
   "metadata": {},
   "outputs": [],
   "source": [
    "base_model = AutoModelForSequenceClassification.from_pretrained(\"ProsusAI/finbert\", cache_dir=None, num_labels=3)\n"
   ]
  },
  {
   "cell_type": "code",
   "execution_count": 40,
   "metadata": {},
   "outputs": [],
   "source": [
    "test_data = finbert.get_data('test')"
   ]
  },
  {
   "cell_type": "code",
   "execution_count": 41,
   "metadata": {},
   "outputs": [
    {
     "name": "stderr",
     "output_type": "stream",
     "text": [
      "10/04/2025 17:39:18 - INFO - finbert.utils -   *** Example ***\n",
      "10/04/2025 17:39:18 - INFO - finbert.utils -   guid: test-1\n",
      "10/04/2025 17:39:18 - INFO - finbert.utils -   tokens: [CLS] card ##ona slowed her vehicle , turned around and returned to the intersection , where she called 911 . [SEP]\n",
      "10/04/2025 17:39:18 - INFO - finbert.utils -   input_ids: 101 4003 7856 9784 2014 4316 1010 2357 2105 1998 2513 2000 1996 6840 1010 2073 2016 2170 19989 1012 102 0 0 0 0 0 0 0 0 0 0 0 0 0 0 0 0 0 0 0 0 0 0 0 0 0 0 0 0 0 0 0 0 0 0 0 0 0 0 0 0 0 0 0\n",
      "10/04/2025 17:39:18 - INFO - finbert.utils -   attention_mask: 1 1 1 1 1 1 1 1 1 1 1 1 1 1 1 1 1 1 1 1 1 0 0 0 0 0 0 0 0 0 0 0 0 0 0 0 0 0 0 0 0 0 0 0 0 0 0 0 0 0 0 0 0 0 0 0 0 0 0 0 0 0 0 0\n",
      "10/04/2025 17:39:18 - INFO - finbert.utils -   token_type_ids: 0 0 0 0 0 0 0 0 0 0 0 0 0 0 0 0 0 0 0 0 0 0 0 0 0 0 0 0 0 0 0 0 0 0 0 0 0 0 0 0 0 0 0 0 0 0 0 0 0 0 0 0 0 0 0 0 0 0 0 0 0 0 0 0\n",
      "10/04/2025 17:39:18 - INFO - finbert.utils -   label: neutral (id = 2)\n"
     ]
    },
    {
     "name": "stderr",
     "output_type": "stream",
     "text": [
      "10/04/2025 17:39:18 - INFO - finbert.finbert -   ***** Loading data *****\n",
      "10/04/2025 17:39:18 - INFO - finbert.finbert -     Num examples = 453\n",
      "10/04/2025 17:39:18 - INFO - finbert.finbert -     Batch size = 64\n",
      "10/04/2025 17:39:18 - INFO - finbert.finbert -     Num steps = 42\n",
      "10/04/2025 17:39:18 - INFO - finbert.finbert -   ***** Running evaluation ***** \n",
      "10/04/2025 17:39:18 - INFO - finbert.finbert -     Num examples = 453\n",
      "10/04/2025 17:39:18 - INFO - finbert.finbert -     Batch size = 32\n",
      "Testing: 100%|██████████| 8/8 [00:05<00:00,  1.37it/s]\n"
     ]
    }
   ],
   "source": [
    "results = finbert.evaluate(examples=test_data, model=base_model)"
   ]
  },
  {
   "cell_type": "code",
   "execution_count": 44,
   "metadata": {},
   "outputs": [
    {
     "name": "stdout",
     "output_type": "stream",
     "text": [
      "Accuracy:0.98\n",
      "\n",
      "Classification Report:\n",
      "              precision    recall  f1-score   support\n",
      "\n",
      "           0       0.97      0.99      0.98       117\n",
      "           1       0.94      1.00      0.97        60\n",
      "           2       1.00      0.97      0.99       276\n",
      "\n",
      "    accuracy                           0.98       453\n",
      "   macro avg       0.97      0.99      0.98       453\n",
      "weighted avg       0.98      0.98      0.98       453\n",
      "\n"
     ]
    },
    {
     "data": {
      "image/png": "[encoded data removed]",
      "text/plain": [
       "<Figure size 1000x1000 with 2 Axes>"
      ]
     },
     "metadata": {},
     "output_type": "display_data"
    }
   ],
   "source": [
    "\n",
    "import matplotlib.pyplot as plt\n",
    "import seaborn as sns\n",
    "from sklearn.metrics import confusion_matrix, classification_report\n",
    "\n",
    "def report(df, cols=['label','prediction','logits']):\n",
    "    #print('Validation loss:{0:.2f}'.format(metrics['best_validation_loss']))\n",
    "    # cs = CrossEntropyLoss(weight=model.class_weights)\n",
    "    # print(\"Loss:{0:.2f}\".format(loss))\n",
    "    print(\"Accuracy:{0:.2f}\".format((df[cols[0]] == df[cols[1]]).sum() / df.shape[0]) )\n",
    "    print(\"\\nClassification Report:\")\n",
    "    y_true = df[cols[0]]\n",
    "    y_pred = df[cols[1]]\n",
    "    print(classification_report(y_true, y_pred))\n",
    "    plt.figure(figsize=(10, 10))\n",
    "    sns.heatmap(confusion_matrix(y_true, y_pred), annot=True, fmt='d')\n",
    "    plt.title('Confusion Matrix')\n",
    "    plt.ylabel('True Label')\n",
    "    plt.xlabel('Predicted Label')\n",
    "    plt.show()\n",
    "    \n",
    "results['prediction'] = results.predictions.apply(lambda x: np.argmax(x,axis=0))\n",
    "report(results,cols=['labels','prediction','predictions'])\n"
   ]
  },
  {
   "cell_type": "markdown",
   "metadata": {},
   "source": [
    "### 75 Agree test dataset"
   ]
  },
  {
   "cell_type": "code",
   "execution_count": 58,
   "metadata": {},
   "outputs": [],
   "source": [
    "cl_data_path = project_dir/'data'/'sentiment_data'/'75_agree'"
   ]
  },
  {
   "cell_type": "code",
   "execution_count": 61,
   "metadata": {},
   "outputs": [
    {
     "name": "stderr",
     "output_type": "stream",
     "text": [
      "10/04/2025 18:13:13 - INFO - finbert.finbert -   device: cpu n_gpu: 0, distributed training: False, 16-bits training: False\n"
     ]
    }
   ],
   "source": [
    "\n",
    "config = Config(   data_dir=cl_data_path,\n",
    "                   bert_model=bertmodel,\n",
    "                   num_train_epochs=6,\n",
    "                   model_dir=cl_path,\n",
    "                   max_seq_length = 64,\n",
    "                   train_batch_size = 64,\n",
    "                   learning_rate = 2e-5,\n",
    "                   output_mode='classification',\n",
    "                   warm_up_proportion=0.2,\n",
    "                   local_rank=-1,\n",
    "                   discriminate=True,\n",
    "                   gradual_unfreeze=True)\n",
    "\n",
    "finbert = FinBert(config)\n",
    "finbert.base_model = 'bert-base-uncased'\n",
    "finbert.config.discriminate=True\n",
    "finbert.config.gradual_unfreeze=True\n",
    "\n",
    "finbert.prepare_model(label_list=['positive','negative','neutral'])"
   ]
  },
  {
   "cell_type": "markdown",
   "metadata": {},
   "source": [
    "##### fine tuned model"
   ]
  },
  {
   "cell_type": "code",
   "execution_count": 62,
   "metadata": {},
   "outputs": [
    {
     "name": "stderr",
     "output_type": "stream",
     "text": [
      "10/04/2025 18:13:17 - INFO - finbert.utils -   *** Example ***\n",
      "10/04/2025 18:13:17 - INFO - finbert.utils -   guid: test-1\n",
      "10/04/2025 18:13:17 - INFO - finbert.utils -   tokens: [CLS] it is expected to be completed by the end of 2007 . [SEP]\n",
      "10/04/2025 18:13:17 - INFO - finbert.utils -   input_ids: 101 2009 2003 3517 2000 2022 2949 2011 1996 2203 1997 2289 1012 102 0 0 0 0 0 0 0 0 0 0 0 0 0 0 0 0 0 0 0 0 0 0 0 0 0 0 0 0 0 0 0 0 0 0 0 0 0 0 0 0 0 0 0 0 0 0 0 0 0 0\n",
      "10/04/2025 18:13:17 - INFO - finbert.utils -   attention_mask: 1 1 1 1 1 1 1 1 1 1 1 1 1 1 0 0 0 0 0 0 0 0 0 0 0 0 0 0 0 0 0 0 0 0 0 0 0 0 0 0 0 0 0 0 0 0 0 0 0 0 0 0 0 0 0 0 0 0 0 0 0 0 0 0\n",
      "10/04/2025 18:13:17 - INFO - finbert.utils -   token_type_ids: 0 0 0 0 0 0 0 0 0 0 0 0 0 0 0 0 0 0 0 0 0 0 0 0 0 0 0 0 0 0 0 0 0 0 0 0 0 0 0 0 0 0 0 0 0 0 0 0 0 0 0 0 0 0 0 0 0 0 0 0 0 0 0 0\n",
      "10/04/2025 18:13:17 - INFO - finbert.utils -   label: neutral (id = 2)\n"
     ]
    },
    {
     "name": "stderr",
     "output_type": "stream",
     "text": [
      "10/04/2025 18:13:17 - INFO - finbert.finbert -   ***** Loading data *****\n",
      "10/04/2025 18:13:17 - INFO - finbert.finbert -     Num examples = 691\n",
      "10/04/2025 18:13:17 - INFO - finbert.finbert -     Batch size = 64\n",
      "10/04/2025 18:13:17 - INFO - finbert.finbert -     Num steps = 60\n",
      "10/04/2025 18:13:17 - INFO - finbert.finbert -   ***** Running evaluation ***** \n",
      "10/04/2025 18:13:17 - INFO - finbert.finbert -     Num examples = 691\n",
      "10/04/2025 18:13:17 - INFO - finbert.finbert -     Batch size = 32\n",
      "Testing: 100%|██████████| 11/11 [00:08<00:00,  1.25it/s]"
     ]
    },
    {
     "name": "stdout",
     "output_type": "stream",
     "text": [
      "Accuracy:0.97\n",
      "\n",
      "Classification Report:\n",
      "              precision    recall  f1-score   support\n",
      "\n",
      "           0       0.96      0.98      0.97       200\n",
      "           1       0.94      0.96      0.95        83\n",
      "           2       0.99      0.97      0.98       408\n",
      "\n",
      "    accuracy                           0.97       691\n",
      "   macro avg       0.96      0.97      0.97       691\n",
      "weighted avg       0.97      0.97      0.97       691\n",
      "\n"
     ]
    },
    {
     "name": "stderr",
     "output_type": "stream",
     "text": [
      "\n"
     ]
    },
    {
     "data": {
      "image/png": "[encoded data removed]",
      "text/plain": [
       "<Figure size 1000x1000 with 2 Axes>"
      ]
     },
     "metadata": {},
     "output_type": "display_data"
    }
   ],
   "source": [
    "test_data = finbert.get_data('test')\n",
    "results = finbert.evaluate(examples=test_data, model=trained_model)\n",
    "\n",
    "\n",
    "\n",
    "import matplotlib.pyplot as plt\n",
    "import seaborn as sns\n",
    "from sklearn.metrics import confusion_matrix, classification_report\n",
    "\n",
    "def report(df, cols=['label','prediction','logits']):\n",
    "    #print('Validation loss:{0:.2f}'.format(metrics['best_validation_loss']))\n",
    "    # cs = CrossEntropyLoss(weight=model.class_weights)\n",
    "    # print(\"Loss:{0:.2f}\".format(loss))\n",
    "    print(\"Accuracy:{0:.2f}\".format((df[cols[0]] == df[cols[1]]).sum() / df.shape[0]) )\n",
    "    print(\"\\nClassification Report:\")\n",
    "    y_true = df[cols[0]]\n",
    "    y_pred = df[cols[1]]\n",
    "    print(classification_report(y_true, y_pred))\n",
    "    plt.figure(figsize=(10, 10))\n",
    "    sns.heatmap(confusion_matrix(y_true, y_pred), annot=True, fmt='d')\n",
    "    plt.title('Confusion Matrix')\n",
    "    plt.ylabel('True Label')\n",
    "    plt.xlabel('Predicted Label')\n",
    "    plt.show()\n",
    "    \n",
    "\n",
    "    \n",
    "results['prediction'] = results.predictions.apply(lambda x: np.argmax(x,axis=0))\n",
    "\n",
    "report(results,cols=['labels','prediction','predictions'])\n",
    "\n",
    "\n",
    "\n",
    "\n"
   ]
  },
  {
   "cell_type": "code",
   "execution_count": 54,
   "metadata": {},
   "outputs": [],
   "source": [
    "### without finetuning FinBert (Existing FinBert)"
   ]
  },
  {
   "cell_type": "code",
   "execution_count": 63,
   "metadata": {},
   "outputs": [
    {
     "name": "stderr",
     "output_type": "stream",
     "text": [
      "10/04/2025 18:13:48 - INFO - finbert.utils -   *** Example ***\n",
      "10/04/2025 18:13:48 - INFO - finbert.utils -   guid: test-1\n",
      "10/04/2025 18:13:48 - INFO - finbert.utils -   tokens: [CLS] it is expected to be completed by the end of 2007 . [SEP]\n",
      "10/04/2025 18:13:48 - INFO - finbert.utils -   input_ids: 101 2009 2003 3517 2000 2022 2949 2011 1996 2203 1997 2289 1012 102 0 0 0 0 0 0 0 0 0 0 0 0 0 0 0 0 0 0 0 0 0 0 0 0 0 0 0 0 0 0 0 0 0 0 0 0 0 0 0 0 0 0 0 0 0 0 0 0 0 0\n",
      "10/04/2025 18:13:48 - INFO - finbert.utils -   attention_mask: 1 1 1 1 1 1 1 1 1 1 1 1 1 1 0 0 0 0 0 0 0 0 0 0 0 0 0 0 0 0 0 0 0 0 0 0 0 0 0 0 0 0 0 0 0 0 0 0 0 0 0 0 0 0 0 0 0 0 0 0 0 0 0 0\n",
      "10/04/2025 18:13:48 - INFO - finbert.utils -   token_type_ids: 0 0 0 0 0 0 0 0 0 0 0 0 0 0 0 0 0 0 0 0 0 0 0 0 0 0 0 0 0 0 0 0 0 0 0 0 0 0 0 0 0 0 0 0 0 0 0 0 0 0 0 0 0 0 0 0 0 0 0 0 0 0 0 0\n",
      "10/04/2025 18:13:48 - INFO - finbert.utils -   label: neutral (id = 2)\n",
      "10/04/2025 18:13:48 - INFO - finbert.finbert -   ***** Loading data *****\n",
      "10/04/2025 18:13:48 - INFO - finbert.finbert -     Num examples = 691\n",
      "10/04/2025 18:13:48 - INFO - finbert.finbert -     Batch size = 64\n",
      "10/04/2025 18:13:48 - INFO - finbert.finbert -     Num steps = 60\n",
      "10/04/2025 18:13:48 - INFO - finbert.finbert -   ***** Running evaluation ***** \n",
      "10/04/2025 18:13:48 - INFO - finbert.finbert -     Num examples = 691\n",
      "10/04/2025 18:13:48 - INFO - finbert.finbert -     Batch size = 32\n",
      "Testing: 100%|██████████| 11/11 [00:08<00:00,  1.26it/s]"
     ]
    },
    {
     "name": "stdout",
     "output_type": "stream",
     "text": [
      "Accuracy:0.95\n",
      "\n",
      "Classification Report:\n",
      "              precision    recall  f1-score   support\n",
      "\n",
      "           0       0.92      0.96      0.94       200\n",
      "           1       0.83      0.98      0.90        83\n",
      "           2       0.99      0.93      0.96       408\n",
      "\n",
      "    accuracy                           0.95       691\n",
      "   macro avg       0.91      0.96      0.93       691\n",
      "weighted avg       0.95      0.95      0.95       691\n",
      "\n"
     ]
    },
    {
     "name": "stderr",
     "output_type": "stream",
     "text": [
      "\n"
     ]
    },
    {
     "data": {
      "image/png": "[encoded data removed]",
      "text/plain": [
       "<Figure size 1000x1000 with 2 Axes>"
      ]
     },
     "metadata": {},
     "output_type": "display_data"
    }
   ],
   "source": [
    "test_data = finbert.get_data('test')\n",
    "results = finbert.evaluate(examples=test_data, model=base_model)\n",
    "\n",
    "\n",
    "\n",
    "import matplotlib.pyplot as plt\n",
    "import seaborn as sns\n",
    "from sklearn.metrics import confusion_matrix, classification_report\n",
    "\n",
    "def report(df, cols=['label','prediction','logits']):\n",
    "    #print('Validation loss:{0:.2f}'.format(metrics['best_validation_loss']))\n",
    "    # cs = CrossEntropyLoss(weight=model.class_weights)\n",
    "    # print(\"Loss:{0:.2f}\".format(loss))\n",
    "    print(\"Accuracy:{0:.2f}\".format((df[cols[0]] == df[cols[1]]).sum() / df.shape[0]) )\n",
    "    print(\"\\nClassification Report:\")\n",
    "    y_true = df[cols[0]]\n",
    "    y_pred = df[cols[1]]\n",
    "    print(classification_report(y_true, y_pred))\n",
    "    plt.figure(figsize=(10, 10))\n",
    "    sns.heatmap(confusion_matrix(y_true, y_pred), annot=True, fmt='d')\n",
    "    plt.title('Confusion Matrix')\n",
    "    plt.ylabel('True Label')\n",
    "    plt.xlabel('Predicted Label')\n",
    "    plt.show()\n",
    "    \n",
    "\n",
    "    \n",
    "results['prediction'] = results.predictions.apply(lambda x: np.argmax(x,axis=0))\n",
    "\n",
    "report(results,cols=['labels','prediction','predictions'])\n",
    "\n",
    "\n",
    "\n",
    "\n"
   ]
  },
  {
   "cell_type": "markdown",
   "metadata": {},
   "source": [
    "### 50_agree test dataset"
   ]
  },
  {
   "cell_type": "code",
   "execution_count": 64,
   "metadata": {},
   "outputs": [
    {
     "name": "stderr",
     "output_type": "stream",
     "text": [
      "10/04/2025 18:14:07 - INFO - finbert.finbert -   device: cpu n_gpu: 0, distributed training: False, 16-bits training: False\n"
     ]
    }
   ],
   "source": [
    "cl_data_path = project_dir/'data'/'sentiment_data'/'50_agree'\n",
    "\n",
    "config = Config(   data_dir=cl_data_path,\n",
    "                   bert_model=bertmodel,\n",
    "                   num_train_epochs=6,\n",
    "                   model_dir=cl_path,\n",
    "                   max_seq_length = 64,\n",
    "                   train_batch_size = 64,\n",
    "                   learning_rate = 2e-5,\n",
    "                   output_mode='classification',\n",
    "                   warm_up_proportion=0.2,\n",
    "                   local_rank=-1,\n",
    "                   discriminate=True,\n",
    "                   gradual_unfreeze=True)\n",
    "\n",
    "finbert = FinBert(config)\n",
    "finbert.base_model = 'bert-base-uncased'\n",
    "finbert.config.discriminate=True\n",
    "finbert.config.gradual_unfreeze=True\n",
    "\n",
    "finbert.prepare_model(label_list=['positive','negative','neutral'])"
   ]
  },
  {
   "cell_type": "code",
   "execution_count": 65,
   "metadata": {},
   "outputs": [
    {
     "name": "stderr",
     "output_type": "stream",
     "text": [
      "10/04/2025 18:14:11 - INFO - finbert.utils -   *** Example ***\n",
      "10/04/2025 18:14:11 - INFO - finbert.utils -   guid: test-1\n",
      "10/04/2025 18:14:11 - INFO - finbert.utils -   tokens: [CLS] the bristol port company has sealed a one million pound contract with cooper specialised handling to supply it with four 45 - ton ##ne , custom ##ised reach stack ##ers from ko ##ne ##cr ##ane ##s . [SEP]\n",
      "10/04/2025 18:14:11 - INFO - finbert.utils -   input_ids: 101 1996 7067 3417 2194 2038 10203 1037 2028 2454 9044 3206 2007 6201 17009 8304 2000 4425 2009 2007 2176 3429 1011 10228 2638 1010 7661 5084 3362 9991 2545 2013 12849 2638 26775 7231 2015 1012 102 0 0 0 0 0 0 0 0 0 0 0 0 0 0 0 0 0 0 0 0 0 0 0 0 0\n",
      "10/04/2025 18:14:11 - INFO - finbert.utils -   attention_mask: 1 1 1 1 1 1 1 1 1 1 1 1 1 1 1 1 1 1 1 1 1 1 1 1 1 1 1 1 1 1 1 1 1 1 1 1 1 1 1 0 0 0 0 0 0 0 0 0 0 0 0 0 0 0 0 0 0 0 0 0 0 0 0 0\n",
      "10/04/2025 18:14:11 - INFO - finbert.utils -   token_type_ids: 0 0 0 0 0 0 0 0 0 0 0 0 0 0 0 0 0 0 0 0 0 0 0 0 0 0 0 0 0 0 0 0 0 0 0 0 0 0 0 0 0 0 0 0 0 0 0 0 0 0 0 0 0 0 0 0 0 0 0 0 0 0 0 0\n",
      "10/04/2025 18:14:11 - INFO - finbert.utils -   label: positive (id = 0)\n"
     ]
    },
    {
     "name": "stderr",
     "output_type": "stream",
     "text": [
      "10/04/2025 18:14:11 - INFO - finbert.finbert -   ***** Loading data *****\n",
      "10/04/2025 18:14:11 - INFO - finbert.finbert -     Num examples = 970\n",
      "10/04/2025 18:14:11 - INFO - finbert.finbert -     Batch size = 64\n",
      "10/04/2025 18:14:11 - INFO - finbert.finbert -     Num steps = 90\n",
      "10/04/2025 18:14:11 - INFO - finbert.finbert -   ***** Running evaluation ***** \n",
      "10/04/2025 18:14:11 - INFO - finbert.finbert -     Num examples = 970\n",
      "10/04/2025 18:14:11 - INFO - finbert.finbert -     Batch size = 32\n",
      "Testing: 100%|██████████| 16/16 [00:12<00:00,  1.31it/s]"
     ]
    },
    {
     "name": "stdout",
     "output_type": "stream",
     "text": [
      "Accuracy:0.86\n",
      "\n",
      "Classification Report:\n",
      "              precision    recall  f1-score   support\n",
      "\n",
      "           0       0.80      0.82      0.81       267\n",
      "           1       0.86      0.87      0.86       128\n",
      "           2       0.89      0.88      0.89       575\n",
      "\n",
      "    accuracy                           0.86       970\n",
      "   macro avg       0.85      0.86      0.85       970\n",
      "weighted avg       0.86      0.86      0.86       970\n",
      "\n"
     ]
    },
    {
     "name": "stderr",
     "output_type": "stream",
     "text": [
      "\n"
     ]
    },
    {
     "data": {
      "image/png": "[encoded data removed]",
      "text/plain": [
       "<Figure size 1000x1000 with 2 Axes>"
      ]
     },
     "metadata": {},
     "output_type": "display_data"
    }
   ],
   "source": [
    "test_data = finbert.get_data('test')\n",
    "results = finbert.evaluate(examples=test_data, model=trained_model)\n",
    "\n",
    "\n",
    "\n",
    "import matplotlib.pyplot as plt\n",
    "import seaborn as sns\n",
    "from sklearn.metrics import confusion_matrix, classification_report\n",
    "\n",
    "def report(df, cols=['label','prediction','logits']):\n",
    "    #print('Validation loss:{0:.2f}'.format(metrics['best_validation_loss']))\n",
    "    # cs = CrossEntropyLoss(weight=model.class_weights)\n",
    "    # print(\"Loss:{0:.2f}\".format(loss))\n",
    "    print(\"Accuracy:{0:.2f}\".format((df[cols[0]] == df[cols[1]]).sum() / df.shape[0]) )\n",
    "    print(\"\\nClassification Report:\")\n",
    "    y_true = df[cols[0]]\n",
    "    y_pred = df[cols[1]]\n",
    "    print(classification_report(y_true, y_pred))\n",
    "    plt.figure(figsize=(10, 10))\n",
    "    sns.heatmap(confusion_matrix(y_true, y_pred), annot=True, fmt='d')\n",
    "    plt.title('Confusion Matrix')\n",
    "    plt.ylabel('True Label')\n",
    "    plt.xlabel('Predicted Label')\n",
    "    plt.show()\n",
    "    \n",
    "\n",
    "    \n",
    "results['prediction'] = results.predictions.apply(lambda x: np.argmax(x,axis=0))\n",
    "\n",
    "report(results,cols=['labels','prediction','predictions'])\n",
    "\n",
    "\n",
    "\n",
    "\n"
   ]
  },
  {
   "cell_type": "code",
   "execution_count": 66,
   "metadata": {},
   "outputs": [
    {
     "name": "stderr",
     "output_type": "stream",
     "text": [
      "10/04/2025 18:14:31 - INFO - finbert.utils -   *** Example ***\n",
      "10/04/2025 18:14:31 - INFO - finbert.utils -   guid: test-1\n",
      "10/04/2025 18:14:31 - INFO - finbert.utils -   tokens: [CLS] the bristol port company has sealed a one million pound contract with cooper specialised handling to supply it with four 45 - ton ##ne , custom ##ised reach stack ##ers from ko ##ne ##cr ##ane ##s . [SEP]\n",
      "10/04/2025 18:14:31 - INFO - finbert.utils -   input_ids: 101 1996 7067 3417 2194 2038 10203 1037 2028 2454 9044 3206 2007 6201 17009 8304 2000 4425 2009 2007 2176 3429 1011 10228 2638 1010 7661 5084 3362 9991 2545 2013 12849 2638 26775 7231 2015 1012 102 0 0 0 0 0 0 0 0 0 0 0 0 0 0 0 0 0 0 0 0 0 0 0 0 0\n",
      "10/04/2025 18:14:31 - INFO - finbert.utils -   attention_mask: 1 1 1 1 1 1 1 1 1 1 1 1 1 1 1 1 1 1 1 1 1 1 1 1 1 1 1 1 1 1 1 1 1 1 1 1 1 1 1 0 0 0 0 0 0 0 0 0 0 0 0 0 0 0 0 0 0 0 0 0 0 0 0 0\n",
      "10/04/2025 18:14:31 - INFO - finbert.utils -   token_type_ids: 0 0 0 0 0 0 0 0 0 0 0 0 0 0 0 0 0 0 0 0 0 0 0 0 0 0 0 0 0 0 0 0 0 0 0 0 0 0 0 0 0 0 0 0 0 0 0 0 0 0 0 0 0 0 0 0 0 0 0 0 0 0 0 0\n",
      "10/04/2025 18:14:31 - INFO - finbert.utils -   label: positive (id = 0)\n"
     ]
    },
    {
     "name": "stderr",
     "output_type": "stream",
     "text": [
      "10/04/2025 18:14:32 - INFO - finbert.finbert -   ***** Loading data *****\n",
      "10/04/2025 18:14:32 - INFO - finbert.finbert -     Num examples = 970\n",
      "10/04/2025 18:14:32 - INFO - finbert.finbert -     Batch size = 64\n",
      "10/04/2025 18:14:32 - INFO - finbert.finbert -     Num steps = 90\n",
      "10/04/2025 18:14:32 - INFO - finbert.finbert -   ***** Running evaluation ***** \n",
      "10/04/2025 18:14:32 - INFO - finbert.finbert -     Num examples = 970\n",
      "10/04/2025 18:14:32 - INFO - finbert.finbert -     Batch size = 32\n",
      "Testing: 100%|██████████| 16/16 [00:12<00:00,  1.32it/s]"
     ]
    },
    {
     "name": "stdout",
     "output_type": "stream",
     "text": [
      "Accuracy:0.84\n",
      "\n",
      "Classification Report:\n",
      "              precision    recall  f1-score   support\n",
      "\n",
      "           0       0.76      0.86      0.81       267\n",
      "           1       0.74      0.95      0.83       128\n",
      "           2       0.92      0.81      0.86       575\n",
      "\n",
      "    accuracy                           0.84       970\n",
      "   macro avg       0.81      0.87      0.83       970\n",
      "weighted avg       0.85      0.84      0.84       970\n",
      "\n"
     ]
    },
    {
     "name": "stderr",
     "output_type": "stream",
     "text": [
      "\n"
     ]
    },
    {
     "data": {
      "image/png": "[encoded data removed]",
      "text/plain": [
       "<Figure size 1000x1000 with 2 Axes>"
      ]
     },
     "metadata": {},
     "output_type": "display_data"
    }
   ],
   "source": [
    "test_data = finbert.get_data('test')\n",
    "results = finbert.evaluate(examples=test_data, model=base_model)\n",
    "\n",
    "\n",
    "\n",
    "import matplotlib.pyplot as plt\n",
    "import seaborn as sns\n",
    "from sklearn.metrics import confusion_matrix, classification_report\n",
    "\n",
    "def report(df, cols=['label','prediction','logits']):\n",
    "    #print('Validation loss:{0:.2f}'.format(metrics['best_validation_loss']))\n",
    "    # cs = CrossEntropyLoss(weight=model.class_weights)\n",
    "    # print(\"Loss:{0:.2f}\".format(loss))\n",
    "    print(\"Accuracy:{0:.2f}\".format((df[cols[0]] == df[cols[1]]).sum() / df.shape[0]) )\n",
    "    print(\"\\nClassification Report:\")\n",
    "    y_true = df[cols[0]]\n",
    "    y_pred = df[cols[1]]\n",
    "    print(classification_report(y_true, y_pred))\n",
    "    plt.figure(figsize=(10, 10))\n",
    "    sns.heatmap(confusion_matrix(y_true, y_pred), annot=True, fmt='d')\n",
    "    plt.title('Confusion Matrix')\n",
    "    plt.ylabel('True Label')\n",
    "    plt.xlabel('Predicted Label')\n",
    "    plt.show()\n",
    "    \n",
    "\n",
    "    \n",
    "results['prediction'] = results.predictions.apply(lambda x: np.argmax(x,axis=0))\n",
    "\n",
    "report(results,cols=['labels','prediction','predictions'])\n",
    "\n",
    "\n",
    "\n",
    "\n"
   ]
  },
  {
   "cell_type": "markdown",
   "metadata": {},
   "source": [
    "### 66 agree test dataset"
   ]
  },
  {
   "cell_type": "code",
   "execution_count": 67,
   "metadata": {},
   "outputs": [
    {
     "name": "stderr",
     "output_type": "stream",
     "text": [
      "10/04/2025 18:20:25 - INFO - finbert.finbert -   device: cpu n_gpu: 0, distributed training: False, 16-bits training: False\n"
     ]
    }
   ],
   "source": [
    "cl_data_path = project_dir/'data'/'sentiment_data'/'66_agree'\n",
    "\n",
    "config = Config(   data_dir=cl_data_path,\n",
    "                   bert_model=bertmodel,\n",
    "                   num_train_epochs=6,\n",
    "                   model_dir=cl_path,\n",
    "                   max_seq_length = 64,\n",
    "                   train_batch_size = 64,\n",
    "                   learning_rate = 2e-5,\n",
    "                   output_mode='classification',\n",
    "                   warm_up_proportion=0.2,\n",
    "                   local_rank=-1,\n",
    "                   discriminate=True,\n",
    "                   gradual_unfreeze=True)\n",
    "\n",
    "finbert = FinBert(config)\n",
    "finbert.base_model = 'bert-base-uncased'\n",
    "finbert.config.discriminate=True\n",
    "finbert.config.gradual_unfreeze=True\n",
    "\n",
    "finbert.prepare_model(label_list=['positive','negative','neutral'])"
   ]
  },
  {
   "cell_type": "code",
   "execution_count": 68,
   "metadata": {},
   "outputs": [
    {
     "name": "stderr",
     "output_type": "stream",
     "text": [
      "10/04/2025 18:20:44 - INFO - finbert.utils -   *** Example ***\n",
      "10/04/2025 18:20:44 - INFO - finbert.utils -   guid: test-1\n",
      "10/04/2025 18:20:44 - INFO - finbert.utils -   tokens: [CLS] the purchase price will be paid in cash upon the closure of the transaction , scheduled for april 1 , 2009 . [SEP]\n",
      "10/04/2025 18:20:44 - INFO - finbert.utils -   input_ids: 101 1996 5309 3976 2097 2022 3825 1999 5356 2588 1996 8503 1997 1996 12598 1010 5115 2005 2258 1015 1010 2268 1012 102 0 0 0 0 0 0 0 0 0 0 0 0 0 0 0 0 0 0 0 0 0 0 0 0 0 0 0 0 0 0 0 0 0 0 0 0 0 0 0 0\n",
      "10/04/2025 18:20:44 - INFO - finbert.utils -   attention_mask: 1 1 1 1 1 1 1 1 1 1 1 1 1 1 1 1 1 1 1 1 1 1 1 1 0 0 0 0 0 0 0 0 0 0 0 0 0 0 0 0 0 0 0 0 0 0 0 0 0 0 0 0 0 0 0 0 0 0 0 0 0 0 0 0\n",
      "10/04/2025 18:20:44 - INFO - finbert.utils -   token_type_ids: 0 0 0 0 0 0 0 0 0 0 0 0 0 0 0 0 0 0 0 0 0 0 0 0 0 0 0 0 0 0 0 0 0 0 0 0 0 0 0 0 0 0 0 0 0 0 0 0 0 0 0 0 0 0 0 0 0 0 0 0 0 0 0 0\n",
      "10/04/2025 18:20:44 - INFO - finbert.utils -   label: neutral (id = 2)\n",
      "10/04/2025 18:20:44 - INFO - finbert.finbert -   ***** Loading data *****\n",
      "10/04/2025 18:20:44 - INFO - finbert.finbert -     Num examples = 844\n",
      "10/04/2025 18:20:44 - INFO - finbert.finbert -     Batch size = 64\n",
      "10/04/2025 18:20:44 - INFO - finbert.finbert -     Num steps = 78\n",
      "10/04/2025 18:20:44 - INFO - finbert.finbert -   ***** Running evaluation ***** \n",
      "10/04/2025 18:20:44 - INFO - finbert.finbert -     Num examples = 844\n",
      "10/04/2025 18:20:44 - INFO - finbert.finbert -     Batch size = 32\n",
      "Testing: 100%|██████████| 14/14 [00:11<00:00,  1.25it/s]\n"
     ]
    },
    {
     "name": "stdout",
     "output_type": "stream",
     "text": [
      "Accuracy:0.94\n",
      "\n",
      "Classification Report:\n",
      "              precision    recall  f1-score   support\n",
      "\n",
      "           0       0.91      0.93      0.92       243\n",
      "           1       0.95      0.97      0.96        95\n",
      "           2       0.96      0.95      0.95       506\n",
      "\n",
      "    accuracy                           0.94       844\n",
      "   macro avg       0.94      0.95      0.94       844\n",
      "weighted avg       0.94      0.94      0.94       844\n",
      "\n"
     ]
    },
    {
     "data": {
      "image/png": "[encoded data removed]",
      "text/plain": [
       "<Figure size 1000x1000 with 2 Axes>"
      ]
     },
     "metadata": {},
     "output_type": "display_data"
    }
   ],
   "source": [
    "test_data = finbert.get_data('test')\n",
    "results = finbert.evaluate(examples=test_data, model=trained_model)\n",
    "\n",
    "\n",
    "\n",
    "import matplotlib.pyplot as plt\n",
    "import seaborn as sns\n",
    "from sklearn.metrics import confusion_matrix, classification_report\n",
    "\n",
    "def report(df, cols=['label','prediction','logits']):\n",
    "    #print('Validation loss:{0:.2f}'.format(metrics['best_validation_loss']))\n",
    "    # cs = CrossEntropyLoss(weight=model.class_weights)\n",
    "    # print(\"Loss:{0:.2f}\".format(loss))\n",
    "    print(\"Accuracy:{0:.2f}\".format((df[cols[0]] == df[cols[1]]).sum() / df.shape[0]) )\n",
    "    print(\"\\nClassification Report:\")\n",
    "    y_true = df[cols[0]]\n",
    "    y_pred = df[cols[1]]\n",
    "    print(classification_report(y_true, y_pred))\n",
    "    plt.figure(figsize=(10, 10))\n",
    "    sns.heatmap(confusion_matrix(y_true, y_pred), annot=True, fmt='d')\n",
    "    plt.title('Confusion Matrix')\n",
    "    plt.ylabel('True Label')\n",
    "    plt.xlabel('Predicted Label')\n",
    "    plt.show()\n",
    "    \n",
    "\n",
    "    \n",
    "results['prediction'] = results.predictions.apply(lambda x: np.argmax(x,axis=0))\n",
    "\n",
    "report(results,cols=['labels','prediction','predictions'])\n",
    "\n",
    "\n",
    "\n",
    "\n"
   ]
  },
  {
   "cell_type": "code",
   "execution_count": 69,
   "metadata": {},
   "outputs": [
    {
     "name": "stderr",
     "output_type": "stream",
     "text": [
      "10/04/2025 18:21:00 - INFO - finbert.utils -   *** Example ***\n",
      "10/04/2025 18:21:00 - INFO - finbert.utils -   guid: test-1\n",
      "10/04/2025 18:21:00 - INFO - finbert.utils -   tokens: [CLS] the purchase price will be paid in cash upon the closure of the transaction , scheduled for april 1 , 2009 . [SEP]\n",
      "10/04/2025 18:21:00 - INFO - finbert.utils -   input_ids: 101 1996 5309 3976 2097 2022 3825 1999 5356 2588 1996 8503 1997 1996 12598 1010 5115 2005 2258 1015 1010 2268 1012 102 0 0 0 0 0 0 0 0 0 0 0 0 0 0 0 0 0 0 0 0 0 0 0 0 0 0 0 0 0 0 0 0 0 0 0 0 0 0 0 0\n",
      "10/04/2025 18:21:00 - INFO - finbert.utils -   attention_mask: 1 1 1 1 1 1 1 1 1 1 1 1 1 1 1 1 1 1 1 1 1 1 1 1 0 0 0 0 0 0 0 0 0 0 0 0 0 0 0 0 0 0 0 0 0 0 0 0 0 0 0 0 0 0 0 0 0 0 0 0 0 0 0 0\n",
      "10/04/2025 18:21:00 - INFO - finbert.utils -   token_type_ids: 0 0 0 0 0 0 0 0 0 0 0 0 0 0 0 0 0 0 0 0 0 0 0 0 0 0 0 0 0 0 0 0 0 0 0 0 0 0 0 0 0 0 0 0 0 0 0 0 0 0 0 0 0 0 0 0 0 0 0 0 0 0 0 0\n",
      "10/04/2025 18:21:00 - INFO - finbert.utils -   label: neutral (id = 2)\n",
      "10/04/2025 18:21:01 - INFO - finbert.finbert -   ***** Loading data *****\n",
      "10/04/2025 18:21:01 - INFO - finbert.finbert -     Num examples = 844\n",
      "10/04/2025 18:21:01 - INFO - finbert.finbert -     Batch size = 64\n",
      "10/04/2025 18:21:01 - INFO - finbert.finbert -     Num steps = 78\n",
      "10/04/2025 18:21:01 - INFO - finbert.finbert -   ***** Running evaluation ***** \n",
      "10/04/2025 18:21:01 - INFO - finbert.finbert -     Num examples = 844\n",
      "10/04/2025 18:21:01 - INFO - finbert.finbert -     Batch size = 32\n",
      "Testing: 100%|██████████| 14/14 [00:11<00:00,  1.27it/s]\n"
     ]
    },
    {
     "name": "stdout",
     "output_type": "stream",
     "text": [
      "Accuracy:0.92\n",
      "\n",
      "Classification Report:\n",
      "              precision    recall  f1-score   support\n",
      "\n",
      "           0       0.85      0.95      0.90       243\n",
      "           1       0.82      1.00      0.90        95\n",
      "           2       0.98      0.89      0.93       506\n",
      "\n",
      "    accuracy                           0.92       844\n",
      "   macro avg       0.88      0.95      0.91       844\n",
      "weighted avg       0.93      0.92      0.92       844\n",
      "\n"
     ]
    },
    {
     "data": {
      "image/png": "[encoded data removed]",
      "text/plain": [
       "<Figure size 1000x1000 with 2 Axes>"
      ]
     },
     "metadata": {},
     "output_type": "display_data"
    }
   ],
   "source": [
    "test_data = finbert.get_data('test')\n",
    "results = finbert.evaluate(examples=test_data, model=base_model)\n",
    "\n",
    "\n",
    "\n",
    "import matplotlib.pyplot as plt\n",
    "import seaborn as sns\n",
    "from sklearn.metrics import confusion_matrix, classification_report\n",
    "\n",
    "def report(df, cols=['label','prediction','logits']):\n",
    "    #print('Validation loss:{0:.2f}'.format(metrics['best_validation_loss']))\n",
    "    # cs = CrossEntropyLoss(weight=model.class_weights)\n",
    "    # print(\"Loss:{0:.2f}\".format(loss))\n",
    "    print(\"Accuracy:{0:.2f}\".format((df[cols[0]] == df[cols[1]]).sum() / df.shape[0]) )\n",
    "    print(\"\\nClassification Report:\")\n",
    "    y_true = df[cols[0]]\n",
    "    y_pred = df[cols[1]]\n",
    "    print(classification_report(y_true, y_pred))\n",
    "    plt.figure(figsize=(10, 10))\n",
    "    sns.heatmap(confusion_matrix(y_true, y_pred), annot=True, fmt='d')\n",
    "    plt.title('Confusion Matrix')\n",
    "    plt.ylabel('True Label')\n",
    "    plt.xlabel('Predicted Label')\n",
    "    plt.show()\n",
    "    \n",
    "\n",
    "    \n",
    "results['prediction'] = results.predictions.apply(lambda x: np.argmax(x,axis=0))\n",
    "\n",
    "report(results,cols=['labels','prediction','predictions'])\n",
    "\n",
    "\n",
    "\n",
    "\n"
   ]
  },
  {
   "cell_type": "code",
   "execution_count": null,
   "metadata": {},
   "outputs": [],
   "source": []
  }
 ],
 "metadata": {
  "kernelspec": {
   "display_name": "venv",
   "language": "python",
   "name": "python3"
  },
  "language_info": {
   "codemirror_mode": {
    "name": "ipython",
    "version": 3
   },
   "file_extension": ".py",
   "mimetype": "text/x-python",
   "name": "python",
   "nbconvert_exporter": "python",
   "pygments_lexer": "ipython3",
   "version": "3.12.0"
  },
  "pycharm": {
   "stem_cell": {
    "cell_type": "raw",
    "metadata": {
     "collapsed": false
    },
    "source": []
   }
  },
  "toc": {
   "base_numbering": 1,
   "nav_menu": {},
   "number_sections": true,
   "sideBar": true,
   "skip_h1_title": true,
   "title_cell": "Table of Contents",
   "title_sidebar": "Contents",
   "toc_cell": false,
   "toc_position": {},
   "toc_section_display": true,
   "toc_window_display": true
  }
 },
 "nbformat": 4,
 "nbformat_minor": 2
}
