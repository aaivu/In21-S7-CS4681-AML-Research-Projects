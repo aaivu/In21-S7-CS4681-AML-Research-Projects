{
  "cells": [
    {
      "cell_type": "markdown",
      "metadata": {},
      "source": [
        "# Click Dataset - NODE 8 Layers Baseline\n",
        "\n",
        "This notebook runs the Click dataset (2012 KDD Cup) with an 8-layer NODE model.\n",
        "\n",
        "**Dataset Info:**\n",
        "- Size: ~800K training samples, 200K test samples\n",
        "- Features: 11 features (mix of categorical and numerical)\n",
        "- Task: Binary classification (click prediction)\n",
        "- Source: 2012 KDD Cup competition\n",
        "\n",
        "**Model Configuration:**\n",
        "- 8 layers, 128 trees per layer\n",
        "- Tree depth: 6\n",
        "- Tree dimension: 3\n",
        "- Choice function: entmax15\n",
        "- Binary function: entmoid15\n"
      ]
    },
    {
      "cell_type": "code",
      "execution_count": null,
      "metadata": {},
      "outputs": [],
      "source": [
        "import os\n",
        "import sys\n",
        "import time\n",
        "import numpy as np\n",
        "import pandas as pd\n",
        "import matplotlib.pyplot as plt\n",
        "import torch\n",
        "import torch.nn as nn\n",
        "import torch.nn.functional as F\n",
        "\n",
        "# Add parent directory to path\n",
        "sys.path.insert(0, '..')\n",
        "import lib\n",
        "from qhoptim.pyt import QHAdam\n",
        "\n",
        "print(f\"PyTorch version: {torch.__version__}\")\n",
        "print(f\"CUDA available: {torch.cuda.is_available()}\")\n",
        "if torch.cuda.is_available():\n",
        "    print(f\"CUDA device: {torch.cuda.get_device_name()}\")\n",
        "    print(f\"CUDA memory: {torch.cuda.get_device_properties(0).total_memory / 1e9:.1f} GB\")\n"
      ]
    },
    {
      "cell_type": "code",
      "execution_count": null,
      "metadata": {},
      "outputs": [],
      "source": [
        "# Set device and memory optimization\n",
        "device = 'cuda' if torch.cuda.is_available() else 'cpu'\n",
        "print(f\"Using device: {device}\")\n",
        "\n",
        "if torch.cuda.is_available():\n",
        "    os.environ[\"PYTORCH_CUDA_ALLOC_CONF\"] = \"expandable_segments:True\"\n",
        "    torch.cuda.empty_cache()\n"
      ]
    },
    {
      "cell_type": "markdown",
      "metadata": {},
      "source": [
        "## Data Loading\n",
        "\n",
        "The Click dataset will be automatically downloaded if not present. It includes categorical encoding using LeaveOneOutEncoder.\n"
      ]
    },
    {
      "cell_type": "code",
      "execution_count": null,
      "metadata": {},
      "outputs": [],
      "source": [
        "# Load Click data using lib.Dataset\n",
        "print(\"Loading Click dataset...\")\n",
        "data = lib.Dataset(\n",
        "    'CLICK',\n",
        "    random_state=1337,\n",
        "    quantile_transform=True,\n",
        "    quantile_noise=1e-3,\n",
        "    valid_size=100_000,\n",
        "    validation_seed=1337\n",
        ")\n",
        "\n",
        "print(f\"Training set: {data.X_train.shape}\")\n",
        "print(f\"Validation set: {data.X_valid.shape}\")\n",
        "print(f\"Test set: {data.X_test.shape}\")\n",
        "print(f\"Feature dimension: {data.X_train.shape[1]}\")\n",
        "print(f\"Class distribution (train): {np.bincount(data.y_train)}\")\n",
        "print(f\"Class distribution (valid): {np.bincount(data.y_valid)}\")\n",
        "print(f\"Class distribution (test): {np.bincount(data.y_test)}\")\n",
        "\n",
        "in_features = data.X_train.shape[1]\n"
      ]
    }
  ],
  "metadata": {
    "language_info": {
      "name": "python"
    }
  },
  "nbformat": 4,
  "nbformat_minor": 2
}
