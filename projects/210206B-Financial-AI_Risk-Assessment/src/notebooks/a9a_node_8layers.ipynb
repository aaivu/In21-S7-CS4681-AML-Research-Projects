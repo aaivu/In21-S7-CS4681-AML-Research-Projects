{
  "cells": [
    {
      "cell_type": "code",
      "execution_count": null,
      "metadata": {},
      "outputs": [
        {
          "name": "stdout",
          "output_type": "stream",
          "text": [
            "env: CUDA_VISIBLE_DEVICES=0\n",
            "experiment: a9a_node_8layers_2025.10.01_14-57\n",
            "2.5.1+cu121 True 12.1\n",
            "Device : cuda\n"
          ]
        }
      ],
      "source": [
        "%load_ext autoreload\n",
        "%autoreload 2\n",
        "%env CUDA_VISIBLE_DEVICES=0\n",
        "import os, sys\n",
        "import time\n",
        "sys.path.insert(0, '..')\n",
        "import numpy as np\n",
        "import matplotlib.pyplot as plt\n",
        "%matplotlib inline\n",
        "import lib\n",
        "import torch, torch.nn as nn\n",
        "import torch.nn.functional as F\n",
        "\n",
        "device = 'cuda' if torch.cuda.is_available() else 'cpu'\n",
        "\n",
        "experiment_name = 'a9a_node_8layers'\n",
        "experiment_name = '{}_{}.{:0>2d}.{:0>2d}_{:0>2d}-{:0>2d}'.format(experiment_name, *time.gmtime()[:5])\n",
        "print(\"experiment:\", experiment_name)\n",
        "\n",
        "print(torch.__version__, torch.cuda.is_available(), torch.version.cuda)\n",
        "print(f\"Device : {device}\")\n"
      ]
    },
    {
      "cell_type": "code",
      "execution_count": null,
      "metadata": {},
      "outputs": [
        {
          "name": "stdout",
          "output_type": "stream",
          "text": [
            "Loading A9A data from local files...\n",
            "Loading train data from: ../data/A9A/a9a\n",
            "Loading test data from: ../data/A9A/a9a.t\n",
            "Train data shape: (32561, 123)\n",
            "Test data shape: (16281, 123)\n",
            "Train labels: (array([0., 1.]), array([24720,  7841]))\n",
            "Test labels: (array([0., 1.]), array([12435,  3846]))\n",
            "Train indices: 26048\n",
            "Valid indices: 6513\n",
            "Train split: (26048, 123)\n",
            "Valid split: (6513, 123)\n",
            "Applying quantile transform...\n",
            "Features: 123\n",
            "Train samples: 26048\n",
            "Valid samples: 6513\n",
            "Test samples: 16281\n"
          ]
        }
      ],
      "source": [
        "# Load A9A data from local files\n",
        "print(\"Loading A9A data from local files...\")\n",
        "from sklearn.datasets import load_svmlight_file\n",
        "from sklearn.preprocessing import QuantileTransformer\n",
        "\n",
        "# Load data from local files\n",
        "train_path = '../data/A9A/a9a'\n",
        "test_path = '../data/A9A/a9a.t'\n",
        "print(f\"Loading train data from: {train_path}\")\n",
        "print(f\"Loading test data from: {test_path}\")\n",
        "\n",
        "# Load the datasets\n",
        "X_train, y_train = load_svmlight_file(train_path, dtype=np.float32, n_features=123)\n",
        "X_test, y_test = load_svmlight_file(test_path, dtype=np.float32, n_features=123)\n",
        "\n",
        "# Convert to dense arrays\n",
        "X_train = X_train.toarray()\n",
        "X_test = X_test.toarray()\n",
        "\n",
        "# Convert labels from {-1, +1} to {0, 1}\n",
        "y_train = (y_train + 1) // 2  # Convert -1->0, +1->1\n",
        "y_test = (y_test + 1) // 2\n",
        "\n",
        "print(f\"Train data shape: {X_train.shape}\")\n",
        "print(f\"Test data shape: {X_test.shape}\")\n",
        "print(f\"Train labels: {np.unique(y_train, return_counts=True)}\")\n",
        "print(f\"Test labels: {np.unique(y_test, return_counts=True)}\")\n",
        "\n",
        "# Load stratified indices\n",
        "train_idx_path = '../data/A9A/stratified_train_idx.txt'\n",
        "valid_idx_path = '../data/A9A/stratified_valid_idx.txt'\n",
        "\n",
        "train_indices = np.loadtxt(train_idx_path, dtype=int)\n",
        "valid_indices = np.loadtxt(valid_idx_path, dtype=int)\n",
        "\n",
        "print(f\"Train indices: {len(train_indices)}\")\n",
        "print(f\"Valid indices: {len(valid_indices)}\")\n",
        "\n",
        "# Create train/validation splits\n",
        "X_train_split = X_train[train_indices]\n",
        "y_train_split = y_train[train_indices]\n",
        "X_valid = X_train[valid_indices]\n",
        "y_valid = y_train[valid_indices]\n",
        "\n",
        "print(f\"Train split: {X_train_split.shape}\")\n",
        "print(f\"Valid split: {X_valid.shape}\")\n",
        "\n",
        "# Apply quantile transform\n",
        "print(\"Applying quantile transform...\")\n",
        "qt = QuantileTransformer(output_distribution='normal', random_state=1337)\n",
        "X_train_split = qt.fit_transform(X_train_split)\n",
        "X_valid = qt.transform(X_valid)\n",
        "X_test = qt.transform(X_test)\n",
        "\n",
        "# Create data object similar to lib.Dataset\n",
        "class Data:\n",
        "    def __init__(self, X_train, y_train, X_valid, y_valid, X_test, y_test):\n",
        "        self.X_train = X_train\n",
        "        self.y_train = y_train\n",
        "        self.X_valid = X_valid\n",
        "        self.y_valid = y_valid\n",
        "        self.X_test = X_test\n",
        "        self.y_test = y_test\n",
        "\n",
        "data = Data(X_train_split, y_train_split, X_valid, y_valid, X_test, y_test)\n",
        "\n",
        "in_features = data.X_train.shape[1]\n",
        "print(f\"Features: {in_features}\")\n",
        "print(f\"Train samples: {len(data.X_train)}\")\n",
        "print(f\"Valid samples: {len(data.X_valid)}\")\n",
        "print(f\"Test samples: {len(data.X_test)}\")\n"
      ]
    },
    {
      "cell_type": "code",
      "execution_count": null,
      "metadata": {},
      "outputs": [
        {
          "name": "stdout",
          "output_type": "stream",
          "text": [
            "Model parameters: 9228296\n",
            "Model device: cuda:0\n"
          ]
        }
      ],
      "source": [
        "# Model architecture (8 layers)\n",
        "model = nn.Sequential(\n",
        "    lib.DenseBlock(in_features, 128, num_layers=8, tree_dim=3, depth=6, flatten_output=False,\n",
        "                   choice_function=lib.entmax15, bin_function=lib.entmoid15),\n",
        "    lib.Lambda(lambda x: x[..., 0].mean(dim=-1)),\n",
        ").to(device)\n",
        "\n",
        "print(f\"Model parameters: {sum(p.numel() for p in model.parameters())}\")\n",
        "print(f\"Model device: {next(model.parameters()).device}\")\n"
      ]
    },
    {
      "cell_type": "code",
      "execution_count": null,
      "metadata": {},
      "outputs": [
        {
          "name": "stdout",
          "output_type": "stream",
          "text": [
            "Trainer created for experiment: a9a_node_8layers_2025.10.01_14-57\n"
          ]
        }
      ],
      "source": [
        "# Training setup\n",
        "from qhoptim.pyt import QHAdam\n",
        "\n",
        "optimizer_params = {\n",
        "    'lr': 0.01,\n",
        "    'nus': (0.7, 1.0),\n",
        "    'betas': (0.95, 0.998)\n",
        "}\n",
        "\n",
        "trainer = lib.Trainer(\n",
        "    model=model, loss_function=F.binary_cross_entropy_with_logits,\n",
        "    experiment_name=experiment_name,\n",
        "    warm_start=False,\n",
        "    Optimizer=QHAdam,\n",
        "    optimizer_params=optimizer_params,\n",
        "    verbose=True,\n",
        "    n_last_checkpoints=5\n",
        ")\n",
        "\n",
        "print(f\"Trainer created for experiment: {experiment_name}\")\n"
      ]
    },
    {
      "cell_type": "code",
      "execution_count": null,
      "metadata": {},
      "outputs": [
        {
          "data": {
            "image/png": "[encoded data removed]",
            "text/plain": [
              "<Figure size 1800x600 with 2 Axes>"
            ]
          },
          "metadata": {},
          "output_type": "display_data"
        },
        {
          "name": "stdout",
          "output_type": "stream",
          "text": [
            "Epoch 90: Loss=0.1928, AUC=0.8702, Best AUC=0.9040\n",
            "Training completed. Best AUC: 0.9040\n"
          ]
        }
      ],
      "source": [
        "# Training loop\n",
        "from IPython.display import clear_output\n",
        "import matplotlib.pyplot as plt\n",
        "\n",
        "# Set CUDA memory management\n",
        "if torch.cuda.is_available():\n",
        "    os.environ[\"PYTORCH_CUDA_ALLOC_CONF\"] = \"expandable_segments:True\"\n",
        "    torch.cuda.empty_cache()\n",
        "\n",
        "loss_history = []\n",
        "auc_history = []\n",
        "best_auc = 0.0\n",
        "\n",
        "for epoch in range(100):\n",
        "    # Training\n",
        "    model.train()\n",
        "    epoch_losses = []\n",
        "    \n",
        "    for batch in lib.iterate_minibatches(data.X_train, data.y_train, batch_size=256, shuffle=True):\n",
        "        loss_dict = trainer.train_on_batch(*batch, device=device)\n",
        "        epoch_losses.append(loss_dict['loss'].item())\n",
        "    \n",
        "    avg_loss = np.mean(epoch_losses)\n",
        "    loss_history.append(avg_loss)\n",
        "    \n",
        "    # Evaluation\n",
        "    if epoch % 10 == 0:\n",
        "        # Clear cache before evaluation\n",
        "        if torch.cuda.is_available():\n",
        "            torch.cuda.empty_cache()\n",
        "        \n",
        "        # Evaluate AUC on validation set\n",
        "        auc = trainer.evaluate_auc(\n",
        "            data.X_valid, data.y_valid, device=device, \n",
        "            batch_size=1024, use_amp=True\n",
        "        )\n",
        "        auc_history.append(auc)\n",
        "        \n",
        "        if auc > best_auc:\n",
        "            best_auc = auc\n",
        "            trainer.save_checkpoint(tag='best')\n",
        "        \n",
        "        # Save checkpoint\n",
        "        trainer.save_checkpoint()\n",
        "        \n",
        "        # Plotting\n",
        "        clear_output(True)\n",
        "        plt.figure(figsize=[18, 6])\n",
        "        plt.subplot(1, 2, 1)\n",
        "        # Convert tensors to numpy arrays for plotting\n",
        "        loss_plot = [loss.detach().cpu().numpy() if hasattr(loss, 'detach') else loss for loss in loss_history]\n",
        "        plt.plot(loss_plot)\n",
        "        plt.title('Loss')\n",
        "        plt.grid()\n",
        "        plt.subplot(1, 2, 2)\n",
        "        # Convert tensors to numpy arrays for plotting\n",
        "        auc_plot = [auc.detach().cpu().numpy() if hasattr(auc, 'detach') else auc for auc in auc_history]\n",
        "        plt.plot(auc_plot)\n",
        "        plt.title('AUC')\n",
        "        plt.grid()\n",
        "        plt.show()\n",
        "        \n",
        "        print(f\"Epoch {epoch}: Loss={avg_loss:.4f}, AUC={auc:.4f}, Best AUC={best_auc:.4f}\")\n",
        "        \n",
        "        # Early stopping\n",
        "        if len(auc_history) > 10:\n",
        "            if auc_history[-1] < max(auc_history[-10:]) - 0.001:\n",
        "                print(\"Early stopping triggered\")\n",
        "                break\n",
        "\n",
        "print(f\"Training completed. Best AUC: {best_auc:.4f}\")\n"
      ]
    },
    {
      "cell_type": "code",
      "execution_count": null,
      "metadata": {},
      "outputs": [
        {
          "name": "stdout",
          "output_type": "stream",
          "text": [
            "Final evaluation...\n",
            "Loaded logs/a9a_node_8layers_2025.10.01_14-57\\checkpoint_best.pth\n"
          ]
        },
        {
          "name": "stderr",
          "output_type": "stream",
          "text": [
            "e:\\Hari\\node\\notebooks\\..\\lib\\trainer.py:73: FutureWarning: You are using `torch.load` with `weights_only=False` (the current default value), which uses the default pickle module implicitly. It is possible to construct malicious pickle data which will execute arbitrary code during unpickling (See https://github.com/pytorch/pytorch/blob/main/SECURITY.md#untrusted-models for more details). In a future release, the default value for `weights_only` will be flipped to `True`. This limits the functions that could be executed during unpickling. Arbitrary objects will no longer be allowed to be loaded via this mode unless they are explicitly allowlisted by the user via `torch.serialization.add_safe_globals`. We recommend you start setting `weights_only=True` for any use case where you don't have full control of the loaded file. Please open an issue on GitHub for any issues related to this experimental feature.\n",
            "  checkpoint = torch.load(path)\n",
            "e:\\Hari\\node\\notebooks\\..\\lib\\trainer.py:183: FutureWarning: `torch.cuda.amp.autocast(args...)` is deprecated. Please use `torch.amp.autocast('cuda', args...)` instead.\n",
            "  probs_2d = F.softmax(logits, dim=1)\n",
            "e:\\Hari\\node\\notebooks\\..\\lib\\trainer.py:143: FutureWarning: `torch.cuda.amp.autocast(args...)` is deprecated. Please use `torch.amp.autocast('cuda', args...)` instead.\n",
            "  with torch.cuda.amp.autocast(enabled=use_amp):\n"
          ]
        },
        {
          "name": "stdout",
          "output_type": "stream",
          "text": [
            "Test AUC: 0.9026\n",
            "Test Error Rate: 0.1501\n",
            "Results: {'experiment_name': 'a9a_node_8layers_2025.10.01_14-57', 'dataset': 'A9A', 'model_config': '8_layers', 'test_auc': 0.9025808567525653, 'test_error_rate': 0.15011362938394449, 'best_validation_auc': 0.9039988146637439, 'final_epoch': 100}\n"
          ]
        }
      ],
      "source": [
        "# Final evaluation\n",
        "print(\"Final evaluation...\")\n",
        "\n",
        "# Load best checkpoint\n",
        "trainer.load_checkpoint(tag='best')\n",
        "\n",
        "# Clear cache before evaluation\n",
        "if torch.cuda.is_available():\n",
        "    torch.cuda.empty_cache()\n",
        "\n",
        "# Evaluate on test set\n",
        "test_auc = trainer.evaluate_auc(\n",
        "    data.X_test, data.y_test, device=device, \n",
        "    batch_size=1024, use_amp=True\n",
        ")\n",
        "\n",
        "test_error = trainer.evaluate_classification_error(\n",
        "    data.X_test, data.y_test, device=device, \n",
        "    batch_size=1024, use_amp=True\n",
        ")\n",
        "\n",
        "print(f\"Test AUC: {test_auc:.4f}\")\n",
        "print(f\"Test Error Rate: {test_error:.4f}\")\n",
        "\n",
        "# Save results\n",
        "results = {\n",
        "    'experiment_name': experiment_name,\n",
        "    'dataset': 'A9A',\n",
        "    'model_config': '8_layers',\n",
        "    'test_auc': float(test_auc),\n",
        "    'test_error_rate': float(test_error),\n",
        "    'best_validation_auc': float(best_auc),\n",
        "    'final_epoch': len(loss_history)\n",
        "}\n",
        "\n",
        "print(\"Results:\", results)\n"
      ]
    }
  ],
  "metadata": {
    "kernelspec": {
      "display_name": "myenv",
      "language": "python",
      "name": "python3"
    },
    "language_info": {
      "codemirror_mode": {
        "name": "ipython",
        "version": 3
      },
      "file_extension": ".py",
      "mimetype": "text/x-python",
      "name": "python",
      "nbconvert_exporter": "python",
      "pygments_lexer": "ipython3",
      "version": "3.9.10"
    }
  },
  "nbformat": 4,
  "nbformat_minor": 2
}
